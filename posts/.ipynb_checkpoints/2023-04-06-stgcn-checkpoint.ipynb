{
 "cells": [
  {
   "cell_type": "code",
   "execution_count": 2,
   "id": "909098ff-2d7f-46ac-9306-28d1b136fe0e",
   "metadata": {},
   "outputs": [],
   "source": [
    "# 일반적인 모듈 \n",
    "import numpy as np\n",
    "import matplotlib.pyplot as plt \n",
    "import networkx as nx \n",
    "from tqdm import tqdm \n",
    "\n",
    "# 파이토치 관련 \n",
    "import torch\n",
    "import torch.nn.functional as F\n",
    "\n",
    "# PyG 관련 \n",
    "from torch_geometric.data import Data\n",
    "\n",
    "# STGCN 관련 \n",
    "import torch_geometric_temporal\n",
    "from torch_geometric_temporal.nn.recurrent import GConvGRU\n",
    "from torch_geometric_temporal.signal import temporal_signal_split "
   ]
  },
  {
   "cell_type": "code",
   "execution_count": 5,
   "id": "b24a41e8-626b-4f0a-814e-a0da6387a4b1",
   "metadata": {},
   "outputs": [
    {
     "name": "stdout",
     "output_type": "stream",
     "text": [
      "no change     /home/jy/anaconda3/condabin/conda\n",
      "no change     /home/jy/anaconda3/bin/conda\n",
      "no change     /home/jy/anaconda3/bin/conda-env\n",
      "no change     /home/jy/anaconda3/bin/activate\n",
      "no change     /home/jy/anaconda3/bin/deactivate\n",
      "no change     /home/jy/anaconda3/etc/profile.d/conda.sh\n",
      "no change     /home/jy/anaconda3/etc/fish/conf.d/conda.fish\n",
      "no change     /home/jy/anaconda3/shell/condabin/Conda.psm1\n",
      "no change     /home/jy/anaconda3/shell/condabin/conda-hook.ps1\n",
      "no change     /home/jy/anaconda3/lib/python3.9/site-packages/xontrib/conda.xsh\n",
      "no change     /home/jy/anaconda3/etc/profile.d/conda.csh\n",
      "no change     /home/jy/.bashrc\n",
      "No action taken.\n"
     ]
    }
   ],
   "source": [
    "!conda init"
   ]
  },
  {
   "cell_type": "code",
   "execution_count": 9,
   "id": "a43c5cac-5ba9-417e-ac90-14a3ca15b2c1",
   "metadata": {},
   "outputs": [
    {
     "name": "stdout",
     "output_type": "stream",
     "text": [
      "\n",
      "CommandNotFoundError: Your shell has not been properly configured to use 'conda activate'.\n",
      "To initialize your shell, run\n",
      "\n",
      "    $ conda init <SHELL_NAME>\n",
      "\n",
      "Currently supported shells are:\n",
      "  - bash\n",
      "  - fish\n",
      "  - tcsh\n",
      "  - xonsh\n",
      "  - zsh\n",
      "  - powershell\n",
      "\n",
      "See 'conda init --help' for more information and options.\n",
      "\n",
      "IMPORTANT: You may need to close and restart your shell after running 'conda init'.\n",
      "\n",
      "\n"
     ]
    }
   ],
   "source": [
    "!conda activate pytorch"
   ]
  },
  {
   "cell_type": "code",
   "execution_count": null,
   "id": "e2d8f118-5ea5-4612-81ce-11d736b66122",
   "metadata": {},
   "outputs": [],
   "source": []
  }
 ],
 "metadata": {
  "kernelspec": {
   "display_name": "Python 3",
   "language": "python",
   "name": "python3"
  },
  "language_info": {
   "codemirror_mode": {
    "name": "ipython",
    "version": 3
   },
   "file_extension": ".py",
   "mimetype": "text/x-python",
   "name": "python",
   "nbconvert_exporter": "python",
   "pygments_lexer": "ipython3",
   "version": "3.8.16"
  }
 },
 "nbformat": 4,
 "nbformat_minor": 5
}
