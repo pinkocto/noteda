{
 "cells": [
  {
   "cell_type": "raw",
   "id": "22db31d1-0fb7-4477-8857-e7cb9fbec585",
   "metadata": {},
   "source": [
    "---\n",
    "title: \" Dataset \"\n",
    "author: \"jiyun Lim\"\n",
    "date: \"03/29/2023\"\n",
    "categories:\n",
    "    - Data\n",
    "---"
   ]
  },
  {
   "cell_type": "markdown",
   "id": "a30cc39e-32db-4438-ba10-12fa04c82685",
   "metadata": {
    "tags": []
   },
   "source": [
    "# Data"
   ]
  },
  {
   "cell_type": "markdown",
   "id": "9cd6aebd-e83a-49c5-9d88-a806dc5fb9d0",
   "metadata": {},
   "source": [
    "> ***`OBS_ASOS_TIM_data0`*** : 2021-01-01 ~ 2021-12-31 \n",
    "\n",
    "> ***`OBS_ASOS_TIM_data1`*** : 2022-01-01 ~ 2023-01-01\n"
   ]
  },
  {
   "cell_type": "markdown",
   "id": "c939d07d-8425-4b26-a00c-2b14920ea9a3",
   "metadata": {},
   "source": [
    "- 2021-01-01부터 2023-01-01 약 2년간의 데이터셋\n",
    "\n",
    "- 오전 8시부터 오후6시까지 1시간 간격으로 측정한 데이터셋"
   ]
  },
  {
   "cell_type": "code",
   "execution_count": 47,
   "id": "6d14ca01-4c2a-467f-bfad-d18884ae8ca8",
   "metadata": {},
   "outputs": [],
   "source": [
    "import pandas as pd\n",
    "import numpy as np\n",
    "import gc"
   ]
  },
  {
   "cell_type": "code",
   "execution_count": 52,
   "id": "ab36bb16-abbd-4f9d-b086-10bd2c77e046",
   "metadata": {},
   "outputs": [],
   "source": [
    "df0 = pd.read_csv('./OBS_ASOS_TIM_data0.csv', encoding='cp949') # 2021-01-01 ~ 2021-12-31\n",
    "df1 = pd.read_csv('./OBS_ASOS_TIM_data1.csv', encoding='cp949') # 2022-01-01 ~ 2023-01-01"
   ]
  },
  {
   "cell_type": "code",
   "execution_count": 61,
   "id": "41508116-d5a9-4fc9-aed4-bbaf6fee8982",
   "metadata": {},
   "outputs": [
    {
     "data": {
      "text/plain": [
       "330"
      ]
     },
     "execution_count": 61,
     "metadata": {},
     "output_type": "execute_result"
    }
   ],
   "source": [
    "gc.collect()"
   ]
  },
  {
   "cell_type": "code",
   "execution_count": 54,
   "id": "e7388c3f-dec9-4402-8af8-4629b62110d6",
   "metadata": {},
   "outputs": [
    {
     "name": "stdout",
     "output_type": "stream",
     "text": [
      "<class 'pandas.core.frame.DataFrame'>\n",
      "RangeIndex: 230205 entries, 0 to 230204\n",
      "Data columns (total 4 columns):\n",
      " #   Column     Non-Null Count   Dtype  \n",
      "---  ------     --------------   -----  \n",
      " 0   지점         230205 non-null  int64  \n",
      " 1   지점명        230205 non-null  object \n",
      " 2   일시         230205 non-null  object \n",
      " 3   일사(MJ/m2)  230205 non-null  float64\n",
      "dtypes: float64(1), int64(1), object(2)\n",
      "memory usage: 7.0+ MB\n"
     ]
    }
   ],
   "source": [
    "df1.info()"
   ]
  },
  {
   "cell_type": "code",
   "execution_count": 55,
   "id": "c13a92e5-9961-46c0-9bf7-31091a8dce32",
   "metadata": {},
   "outputs": [
    {
     "name": "stdout",
     "output_type": "stream",
     "text": [
      "<class 'pandas.core.frame.DataFrame'>\n",
      "RangeIndex: 215043 entries, 0 to 215042\n",
      "Data columns (total 4 columns):\n",
      " #   Column     Non-Null Count   Dtype  \n",
      "---  ------     --------------   -----  \n",
      " 0   지점         215043 non-null  int64  \n",
      " 1   지점명        215043 non-null  object \n",
      " 2   일시         215043 non-null  object \n",
      " 3   일사(MJ/m2)  215043 non-null  float64\n",
      "dtypes: float64(1), int64(1), object(2)\n",
      "memory usage: 6.6+ MB\n"
     ]
    }
   ],
   "source": [
    "df0.info()"
   ]
  },
  {
   "cell_type": "code",
   "execution_count": 8,
   "id": "99dd7206-54f6-4a70-9d0c-43222c5cac3e",
   "metadata": {},
   "outputs": [
    {
     "data": {
      "text/plain": [
       "(230205, 4)"
      ]
     },
     "execution_count": 8,
     "metadata": {},
     "output_type": "execute_result"
    }
   ],
   "source": [
    "df1.shape"
   ]
  },
  {
   "cell_type": "code",
   "execution_count": 64,
   "id": "d83e4ffa-2ef3-470d-b78f-1c15cd1e3ecb",
   "metadata": {},
   "outputs": [
    {
     "data": {
      "text/html": [
       "<div>\n",
       "<style scoped>\n",
       "    .dataframe tbody tr th:only-of-type {\n",
       "        vertical-align: middle;\n",
       "    }\n",
       "\n",
       "    .dataframe tbody tr th {\n",
       "        vertical-align: top;\n",
       "    }\n",
       "\n",
       "    .dataframe thead th {\n",
       "        text-align: right;\n",
       "    }\n",
       "</style>\n",
       "<table border=\"1\" class=\"dataframe\">\n",
       "  <thead>\n",
       "    <tr style=\"text-align: right;\">\n",
       "      <th></th>\n",
       "      <th>지점</th>\n",
       "      <th>지점명</th>\n",
       "      <th>일시</th>\n",
       "      <th>일사(MJ/m2)</th>\n",
       "    </tr>\n",
       "  </thead>\n",
       "  <tbody>\n",
       "    <tr>\n",
       "      <th>0</th>\n",
       "      <td>93</td>\n",
       "      <td>북춘천</td>\n",
       "      <td>2021-01-01 08:00</td>\n",
       "      <td>0.00</td>\n",
       "    </tr>\n",
       "    <tr>\n",
       "      <th>1</th>\n",
       "      <td>93</td>\n",
       "      <td>북춘천</td>\n",
       "      <td>2021-01-01 09:00</td>\n",
       "      <td>0.37</td>\n",
       "    </tr>\n",
       "    <tr>\n",
       "      <th>2</th>\n",
       "      <td>93</td>\n",
       "      <td>북춘천</td>\n",
       "      <td>2021-01-01 10:00</td>\n",
       "      <td>0.96</td>\n",
       "    </tr>\n",
       "    <tr>\n",
       "      <th>3</th>\n",
       "      <td>93</td>\n",
       "      <td>북춘천</td>\n",
       "      <td>2021-01-01 11:00</td>\n",
       "      <td>1.40</td>\n",
       "    </tr>\n",
       "    <tr>\n",
       "      <th>4</th>\n",
       "      <td>93</td>\n",
       "      <td>북춘천</td>\n",
       "      <td>2021-01-01 12:00</td>\n",
       "      <td>1.72</td>\n",
       "    </tr>\n",
       "  </tbody>\n",
       "</table>\n",
       "</div>"
      ],
      "text/plain": [
       "   지점  지점명                일시  일사(MJ/m2)\n",
       "0  93  북춘천  2021-01-01 08:00       0.00\n",
       "1  93  북춘천  2021-01-01 09:00       0.37\n",
       "2  93  북춘천  2021-01-01 10:00       0.96\n",
       "3  93  북춘천  2021-01-01 11:00       1.40\n",
       "4  93  북춘천  2021-01-01 12:00       1.72"
      ]
     },
     "execution_count": 64,
     "metadata": {},
     "output_type": "execute_result"
    }
   ],
   "source": [
    "df0.head()"
   ]
  },
  {
   "cell_type": "code",
   "execution_count": 68,
   "id": "ac3101f5-483f-4cf2-b339-863e40192997",
   "metadata": {},
   "outputs": [
    {
     "data": {
      "text/plain": [
       "(48, 49)"
      ]
     },
     "execution_count": 68,
     "metadata": {},
     "output_type": "execute_result"
    }
   ],
   "source": [
    "len(df0['지점'].unique()), len(df1['지점'].unique())"
   ]
  },
  {
   "cell_type": "code",
   "execution_count": 78,
   "id": "252bec80-3105-4b9b-8682-6ffdb3a588dc",
   "metadata": {},
   "outputs": [
    {
     "data": {
      "text/plain": [
       "(array(['북춘천', '철원', '동두천', '파주', '대관령', '춘천', '백령도', '북강릉', '강릉', '서울',\n",
       "        '인천', '원주', '울릉도', '수원', '충주', '서산', '청주', '대전', '추풍령', '안동', '상주',\n",
       "        '포항', '대구', '전주', '창원', '광주', '부산', '목포', '여수', '흑산도', '고창', '홍성',\n",
       "        '제주', '고산', '진주', '고창군', '영광군', '김해시', '순창군', '북창원', '양산시', '보성군',\n",
       "        '강진군', '의령군', '함양군', '광양시', '청송군', '경주시'], dtype=object),\n",
       " array(['북춘천', '철원', '동두천', '파주', '대관령', '춘천', '백령도', '북강릉', '강릉', '서울',\n",
       "        '인천', '원주', '울릉도', '수원', '충주', '서산', '청주', '대전', '추풍령', '안동', '상주',\n",
       "        '포항', '대구', '전주', '창원', '광주', '부산', '목포', '여수', '흑산도', '고창', '홍성',\n",
       "        '제주', '고산', '진주', '제천', '고창군', '영광군', '김해시', '순창군', '북창원', '양산시',\n",
       "        '보성군', '강진군', '의령군', '함양군', '광양시', '청송군', '경주시'], dtype=object))"
      ]
     },
     "execution_count": 78,
     "metadata": {},
     "output_type": "execute_result"
    }
   ],
   "source": [
    "df0['지점명'].unique(),  df1['지점명'].unique()"
   ]
  },
  {
   "cell_type": "code",
   "execution_count": 11,
   "id": "b09cc517-719e-4921-a51e-c6cfd0cb48b3",
   "metadata": {},
   "outputs": [
    {
     "data": {
      "text/html": [
       "<div>\n",
       "<style scoped>\n",
       "    .dataframe tbody tr th:only-of-type {\n",
       "        vertical-align: middle;\n",
       "    }\n",
       "\n",
       "    .dataframe tbody tr th {\n",
       "        vertical-align: top;\n",
       "    }\n",
       "\n",
       "    .dataframe thead th {\n",
       "        text-align: right;\n",
       "    }\n",
       "</style>\n",
       "<table border=\"1\" class=\"dataframe\">\n",
       "  <thead>\n",
       "    <tr style=\"text-align: right;\">\n",
       "      <th></th>\n",
       "      <th>지점</th>\n",
       "      <th>지점명</th>\n",
       "      <th>일시</th>\n",
       "      <th>일사(MJ/m2)</th>\n",
       "    </tr>\n",
       "  </thead>\n",
       "  <tbody>\n",
       "    <tr>\n",
       "      <th>0</th>\n",
       "      <td>93</td>\n",
       "      <td>북춘천</td>\n",
       "      <td>2022-01-01 08:00</td>\n",
       "      <td>0.00</td>\n",
       "    </tr>\n",
       "    <tr>\n",
       "      <th>1</th>\n",
       "      <td>93</td>\n",
       "      <td>북춘천</td>\n",
       "      <td>2022-01-01 09:00</td>\n",
       "      <td>0.38</td>\n",
       "    </tr>\n",
       "    <tr>\n",
       "      <th>2</th>\n",
       "      <td>93</td>\n",
       "      <td>북춘천</td>\n",
       "      <td>2022-01-01 10:00</td>\n",
       "      <td>1.02</td>\n",
       "    </tr>\n",
       "    <tr>\n",
       "      <th>3</th>\n",
       "      <td>93</td>\n",
       "      <td>북춘천</td>\n",
       "      <td>2022-01-01 11:00</td>\n",
       "      <td>1.43</td>\n",
       "    </tr>\n",
       "    <tr>\n",
       "      <th>4</th>\n",
       "      <td>93</td>\n",
       "      <td>북춘천</td>\n",
       "      <td>2022-01-01 12:00</td>\n",
       "      <td>1.73</td>\n",
       "    </tr>\n",
       "  </tbody>\n",
       "</table>\n",
       "</div>"
      ],
      "text/plain": [
       "   지점  지점명                일시  일사(MJ/m2)\n",
       "0  93  북춘천  2022-01-01 08:00       0.00\n",
       "1  93  북춘천  2022-01-01 09:00       0.38\n",
       "2  93  북춘천  2022-01-01 10:00       1.02\n",
       "3  93  북춘천  2022-01-01 11:00       1.43\n",
       "4  93  북춘천  2022-01-01 12:00       1.73"
      ]
     },
     "execution_count": 11,
     "metadata": {},
     "output_type": "execute_result"
    }
   ],
   "source": [
    "df1.head()"
   ]
  },
  {
   "cell_type": "code",
   "execution_count": 9,
   "id": "142f8e34-d9de-42eb-82b4-8a68af31bab5",
   "metadata": {},
   "outputs": [
    {
     "data": {
      "text/html": [
       "<div>\n",
       "<style scoped>\n",
       "    .dataframe tbody tr th:only-of-type {\n",
       "        vertical-align: middle;\n",
       "    }\n",
       "\n",
       "    .dataframe tbody tr th {\n",
       "        vertical-align: top;\n",
       "    }\n",
       "\n",
       "    .dataframe thead th {\n",
       "        text-align: right;\n",
       "    }\n",
       "</style>\n",
       "<table border=\"1\" class=\"dataframe\">\n",
       "  <thead>\n",
       "    <tr style=\"text-align: right;\">\n",
       "      <th></th>\n",
       "      <th>지점</th>\n",
       "      <th>지점명</th>\n",
       "      <th>일시</th>\n",
       "      <th>일사(MJ/m2)</th>\n",
       "    </tr>\n",
       "  </thead>\n",
       "  <tbody>\n",
       "    <tr>\n",
       "      <th>230200</th>\n",
       "      <td>283</td>\n",
       "      <td>경주시</td>\n",
       "      <td>2023-01-01 14:00</td>\n",
       "      <td>1.62</td>\n",
       "    </tr>\n",
       "    <tr>\n",
       "      <th>230201</th>\n",
       "      <td>283</td>\n",
       "      <td>경주시</td>\n",
       "      <td>2023-01-01 15:00</td>\n",
       "      <td>1.30</td>\n",
       "    </tr>\n",
       "    <tr>\n",
       "      <th>230202</th>\n",
       "      <td>283</td>\n",
       "      <td>경주시</td>\n",
       "      <td>2023-01-01 16:00</td>\n",
       "      <td>0.82</td>\n",
       "    </tr>\n",
       "    <tr>\n",
       "      <th>230203</th>\n",
       "      <td>283</td>\n",
       "      <td>경주시</td>\n",
       "      <td>2023-01-01 17:00</td>\n",
       "      <td>0.29</td>\n",
       "    </tr>\n",
       "    <tr>\n",
       "      <th>230204</th>\n",
       "      <td>283</td>\n",
       "      <td>경주시</td>\n",
       "      <td>2023-01-01 18:00</td>\n",
       "      <td>0.01</td>\n",
       "    </tr>\n",
       "  </tbody>\n",
       "</table>\n",
       "</div>"
      ],
      "text/plain": [
       "         지점  지점명                일시  일사(MJ/m2)\n",
       "230200  283  경주시  2023-01-01 14:00       1.62\n",
       "230201  283  경주시  2023-01-01 15:00       1.30\n",
       "230202  283  경주시  2023-01-01 16:00       0.82\n",
       "230203  283  경주시  2023-01-01 17:00       0.29\n",
       "230204  283  경주시  2023-01-01 18:00       0.01"
      ]
     },
     "execution_count": 9,
     "metadata": {},
     "output_type": "execute_result"
    }
   ],
   "source": [
    "df1.tail()"
   ]
  },
  {
   "cell_type": "code",
   "execution_count": 60,
   "id": "bf1be823-8bd0-4d6d-9097-1e8480b25f14",
   "metadata": {},
   "outputs": [
    {
     "data": {
      "text/html": [
       "<div>\n",
       "<style scoped>\n",
       "    .dataframe tbody tr th:only-of-type {\n",
       "        vertical-align: middle;\n",
       "    }\n",
       "\n",
       "    .dataframe tbody tr th {\n",
       "        vertical-align: top;\n",
       "    }\n",
       "\n",
       "    .dataframe thead th {\n",
       "        text-align: right;\n",
       "    }\n",
       "</style>\n",
       "<table border=\"1\" class=\"dataframe\">\n",
       "  <thead>\n",
       "    <tr style=\"text-align: right;\">\n",
       "      <th></th>\n",
       "      <th>지점</th>\n",
       "      <th>지점명</th>\n",
       "      <th>일시</th>\n",
       "      <th>일사(MJ/m2)</th>\n",
       "      <th>Datetime</th>\n",
       "      <th>hour</th>\n",
       "    </tr>\n",
       "  </thead>\n",
       "  <tbody>\n",
       "    <tr>\n",
       "      <th>0</th>\n",
       "      <td>93</td>\n",
       "      <td>북춘천</td>\n",
       "      <td>2022-01-01 08:00:00</td>\n",
       "      <td>0.00</td>\n",
       "      <td>2022-01-01</td>\n",
       "      <td>8</td>\n",
       "    </tr>\n",
       "    <tr>\n",
       "      <th>1</th>\n",
       "      <td>93</td>\n",
       "      <td>북춘천</td>\n",
       "      <td>2022-01-01 09:00:00</td>\n",
       "      <td>0.38</td>\n",
       "      <td>2022-01-01</td>\n",
       "      <td>9</td>\n",
       "    </tr>\n",
       "    <tr>\n",
       "      <th>2</th>\n",
       "      <td>93</td>\n",
       "      <td>북춘천</td>\n",
       "      <td>2022-01-01 10:00:00</td>\n",
       "      <td>1.02</td>\n",
       "      <td>2022-01-01</td>\n",
       "      <td>10</td>\n",
       "    </tr>\n",
       "    <tr>\n",
       "      <th>3</th>\n",
       "      <td>93</td>\n",
       "      <td>북춘천</td>\n",
       "      <td>2022-01-01 11:00:00</td>\n",
       "      <td>1.43</td>\n",
       "      <td>2022-01-01</td>\n",
       "      <td>11</td>\n",
       "    </tr>\n",
       "    <tr>\n",
       "      <th>4</th>\n",
       "      <td>93</td>\n",
       "      <td>북춘천</td>\n",
       "      <td>2022-01-01 12:00:00</td>\n",
       "      <td>1.73</td>\n",
       "      <td>2022-01-01</td>\n",
       "      <td>12</td>\n",
       "    </tr>\n",
       "  </tbody>\n",
       "</table>\n",
       "</div>"
      ],
      "text/plain": [
       "   지점  지점명                  일시  일사(MJ/m2)    Datetime  hour\n",
       "0  93  북춘천 2022-01-01 08:00:00       0.00  2022-01-01     8\n",
       "1  93  북춘천 2022-01-01 09:00:00       0.38  2022-01-01     9\n",
       "2  93  북춘천 2022-01-01 10:00:00       1.02  2022-01-01    10\n",
       "3  93  북춘천 2022-01-01 11:00:00       1.43  2022-01-01    11\n",
       "4  93  북춘천 2022-01-01 12:00:00       1.73  2022-01-01    12"
      ]
     },
     "execution_count": 60,
     "metadata": {},
     "output_type": "execute_result"
    }
   ],
   "source": [
    "df1['일시'] = pd.to_datetime(df1['일시'])\n",
    "df1['Datetime'] = df1['일시'].dt.date\n",
    "df1['hour'] = df1['일시'].dt.hour\n",
    "df1.head()"
   ]
  },
  {
   "cell_type": "code",
   "execution_count": 63,
   "id": "baac3a06-3fa3-452c-9345-32692f68d5bd",
   "metadata": {},
   "outputs": [
    {
     "data": {
      "text/plain": [
       "5        36\n",
       "6      6667\n",
       "7     12101\n",
       "8     17523\n",
       "9     17527\n",
       "10    17527\n",
       "11    17516\n",
       "12    17523\n",
       "13    17526\n",
       "14    17525\n",
       "15    17525\n",
       "16    17531\n",
       "17    17503\n",
       "18    17511\n",
       "19    11863\n",
       "20     6755\n",
       "21       46\n",
       "Name: hour, dtype: int64"
      ]
     },
     "execution_count": 63,
     "metadata": {},
     "output_type": "execute_result"
    }
   ],
   "source": [
    "df1['hour'].value_counts().sort_index()"
   ]
  },
  {
   "cell_type": "code",
   "execution_count": 80,
   "id": "af3b21a8-1bb4-4608-9b85-5815a9be4358",
   "metadata": {},
   "outputs": [
    {
     "data": {
      "text/plain": [
       "(48, 49)"
      ]
     },
     "execution_count": 80,
     "metadata": {},
     "output_type": "execute_result"
    }
   ],
   "source": [
    "len(df0['지점'].unique()), len(df1['지점명'].unique())"
   ]
  },
  {
   "cell_type": "code",
   "execution_count": 23,
   "id": "187d3ff9-4d0b-40c3-9254-6bdf34b444e0",
   "metadata": {},
   "outputs": [
    {
     "data": {
      "text/html": [
       "<div>\n",
       "<style scoped>\n",
       "    .dataframe tbody tr th:only-of-type {\n",
       "        vertical-align: middle;\n",
       "    }\n",
       "\n",
       "    .dataframe tbody tr th {\n",
       "        vertical-align: top;\n",
       "    }\n",
       "\n",
       "    .dataframe thead th {\n",
       "        text-align: right;\n",
       "    }\n",
       "</style>\n",
       "<table border=\"1\" class=\"dataframe\">\n",
       "  <thead>\n",
       "    <tr style=\"text-align: right;\">\n",
       "      <th></th>\n",
       "      <th>지점명</th>\n",
       "    </tr>\n",
       "  </thead>\n",
       "  <tbody>\n",
       "    <tr>\n",
       "      <th>백령도</th>\n",
       "      <td>4848</td>\n",
       "    </tr>\n",
       "    <tr>\n",
       "      <th>울릉도</th>\n",
       "      <td>4821</td>\n",
       "    </tr>\n",
       "    <tr>\n",
       "      <th>의령군</th>\n",
       "      <td>4808</td>\n",
       "    </tr>\n",
       "    <tr>\n",
       "      <th>강진군</th>\n",
       "      <td>4808</td>\n",
       "    </tr>\n",
       "    <tr>\n",
       "      <th>창원</th>\n",
       "      <td>4807</td>\n",
       "    </tr>\n",
       "    <tr>\n",
       "      <th>북강릉</th>\n",
       "      <td>4807</td>\n",
       "    </tr>\n",
       "    <tr>\n",
       "      <th>함양군</th>\n",
       "      <td>4807</td>\n",
       "    </tr>\n",
       "    <tr>\n",
       "      <th>경주시</th>\n",
       "      <td>4807</td>\n",
       "    </tr>\n",
       "    <tr>\n",
       "      <th>광양시</th>\n",
       "      <td>4806</td>\n",
       "    </tr>\n",
       "    <tr>\n",
       "      <th>제주</th>\n",
       "      <td>4806</td>\n",
       "    </tr>\n",
       "    <tr>\n",
       "      <th>대전</th>\n",
       "      <td>4806</td>\n",
       "    </tr>\n",
       "    <tr>\n",
       "      <th>순창군</th>\n",
       "      <td>4805</td>\n",
       "    </tr>\n",
       "    <tr>\n",
       "      <th>서산</th>\n",
       "      <td>4805</td>\n",
       "    </tr>\n",
       "    <tr>\n",
       "      <th>북춘천</th>\n",
       "      <td>4804</td>\n",
       "    </tr>\n",
       "    <tr>\n",
       "      <th>춘천</th>\n",
       "      <td>4804</td>\n",
       "    </tr>\n",
       "    <tr>\n",
       "      <th>추풍령</th>\n",
       "      <td>4804</td>\n",
       "    </tr>\n",
       "    <tr>\n",
       "      <th>목포</th>\n",
       "      <td>4804</td>\n",
       "    </tr>\n",
       "    <tr>\n",
       "      <th>전주</th>\n",
       "      <td>4804</td>\n",
       "    </tr>\n",
       "    <tr>\n",
       "      <th>철원</th>\n",
       "      <td>4803</td>\n",
       "    </tr>\n",
       "    <tr>\n",
       "      <th>청송군</th>\n",
       "      <td>4803</td>\n",
       "    </tr>\n",
       "    <tr>\n",
       "      <th>대구</th>\n",
       "      <td>4803</td>\n",
       "    </tr>\n",
       "    <tr>\n",
       "      <th>보성군</th>\n",
       "      <td>4802</td>\n",
       "    </tr>\n",
       "    <tr>\n",
       "      <th>홍성</th>\n",
       "      <td>4802</td>\n",
       "    </tr>\n",
       "    <tr>\n",
       "      <th>서울</th>\n",
       "      <td>4802</td>\n",
       "    </tr>\n",
       "    <tr>\n",
       "      <th>여수</th>\n",
       "      <td>4802</td>\n",
       "    </tr>\n",
       "    <tr>\n",
       "      <th>포항</th>\n",
       "      <td>4802</td>\n",
       "    </tr>\n",
       "    <tr>\n",
       "      <th>북창원</th>\n",
       "      <td>4801</td>\n",
       "    </tr>\n",
       "    <tr>\n",
       "      <th>충주</th>\n",
       "      <td>4800</td>\n",
       "    </tr>\n",
       "    <tr>\n",
       "      <th>고산</th>\n",
       "      <td>4800</td>\n",
       "    </tr>\n",
       "    <tr>\n",
       "      <th>파주</th>\n",
       "      <td>4798</td>\n",
       "    </tr>\n",
       "    <tr>\n",
       "      <th>원주</th>\n",
       "      <td>4798</td>\n",
       "    </tr>\n",
       "    <tr>\n",
       "      <th>수원</th>\n",
       "      <td>4797</td>\n",
       "    </tr>\n",
       "    <tr>\n",
       "      <th>동두천</th>\n",
       "      <td>4797</td>\n",
       "    </tr>\n",
       "    <tr>\n",
       "      <th>영광군</th>\n",
       "      <td>4796</td>\n",
       "    </tr>\n",
       "    <tr>\n",
       "      <th>대관령</th>\n",
       "      <td>4796</td>\n",
       "    </tr>\n",
       "    <tr>\n",
       "      <th>상주</th>\n",
       "      <td>4795</td>\n",
       "    </tr>\n",
       "    <tr>\n",
       "      <th>김해시</th>\n",
       "      <td>4792</td>\n",
       "    </tr>\n",
       "    <tr>\n",
       "      <th>고창</th>\n",
       "      <td>4792</td>\n",
       "    </tr>\n",
       "    <tr>\n",
       "      <th>고창군</th>\n",
       "      <td>4791</td>\n",
       "    </tr>\n",
       "    <tr>\n",
       "      <th>인천</th>\n",
       "      <td>4789</td>\n",
       "    </tr>\n",
       "    <tr>\n",
       "      <th>안동</th>\n",
       "      <td>4788</td>\n",
       "    </tr>\n",
       "    <tr>\n",
       "      <th>청주</th>\n",
       "      <td>4786</td>\n",
       "    </tr>\n",
       "    <tr>\n",
       "      <th>부산</th>\n",
       "      <td>4783</td>\n",
       "    </tr>\n",
       "    <tr>\n",
       "      <th>진주</th>\n",
       "      <td>4776</td>\n",
       "    </tr>\n",
       "    <tr>\n",
       "      <th>광주</th>\n",
       "      <td>4767</td>\n",
       "    </tr>\n",
       "    <tr>\n",
       "      <th>양산시</th>\n",
       "      <td>4767</td>\n",
       "    </tr>\n",
       "    <tr>\n",
       "      <th>흑산도</th>\n",
       "      <td>4715</td>\n",
       "    </tr>\n",
       "    <tr>\n",
       "      <th>강릉</th>\n",
       "      <td>4700</td>\n",
       "    </tr>\n",
       "    <tr>\n",
       "      <th>제천</th>\n",
       "      <td>1</td>\n",
       "    </tr>\n",
       "  </tbody>\n",
       "</table>\n",
       "</div>"
      ],
      "text/plain": [
       "      지점명\n",
       "백령도  4848\n",
       "울릉도  4821\n",
       "의령군  4808\n",
       "강진군  4808\n",
       "창원   4807\n",
       "북강릉  4807\n",
       "함양군  4807\n",
       "경주시  4807\n",
       "광양시  4806\n",
       "제주   4806\n",
       "대전   4806\n",
       "순창군  4805\n",
       "서산   4805\n",
       "북춘천  4804\n",
       "춘천   4804\n",
       "추풍령  4804\n",
       "목포   4804\n",
       "전주   4804\n",
       "철원   4803\n",
       "청송군  4803\n",
       "대구   4803\n",
       "보성군  4802\n",
       "홍성   4802\n",
       "서울   4802\n",
       "여수   4802\n",
       "포항   4802\n",
       "북창원  4801\n",
       "충주   4800\n",
       "고산   4800\n",
       "파주   4798\n",
       "원주   4798\n",
       "수원   4797\n",
       "동두천  4797\n",
       "영광군  4796\n",
       "대관령  4796\n",
       "상주   4795\n",
       "김해시  4792\n",
       "고창   4792\n",
       "고창군  4791\n",
       "인천   4789\n",
       "안동   4788\n",
       "청주   4786\n",
       "부산   4783\n",
       "진주   4776\n",
       "광주   4767\n",
       "양산시  4767\n",
       "흑산도  4715\n",
       "강릉   4700\n",
       "제천      1"
      ]
     },
     "execution_count": 23,
     "metadata": {},
     "output_type": "execute_result"
    }
   ],
   "source": [
    "pd.DataFrame(df1['지점명'].value_counts())"
   ]
  },
  {
   "cell_type": "markdown",
   "id": "dc13245a-8662-42e2-a937-d1cf3ba39638",
   "metadata": {},
   "source": [
    "- 지점과 지명 동일 (49개의 지역)"
   ]
  }
 ],
 "metadata": {
  "kernelspec": {
   "display_name": "Python 3",
   "language": "python",
   "name": "python3"
  },
  "language_info": {
   "codemirror_mode": {
    "name": "ipython",
    "version": 3
   },
   "file_extension": ".py",
   "mimetype": "text/x-python",
   "name": "python",
   "nbconvert_exporter": "python",
   "pygments_lexer": "ipython3",
   "version": "3.8.16"
  }
 },
 "nbformat": 4,
 "nbformat_minor": 5
}
