{
 "cells": [
  {
   "cell_type": "raw",
   "id": "4e70464c-ebed-4fee-8cb1-a09bd3f4199d",
   "metadata": {},
   "source": [
    "---\n",
    "title: \"Github remote: error: this exceeds GitHub's file size limit of 100.00 MB\"\n",
    "author: \"JiyunLim\"\n",
    "date: \"04/11/2023\"\n",
    "categories:\n",
    "  - Tip\n",
    "---"
   ]
  },
  {
   "cell_type": "markdown",
   "id": "60785e40-f712-4c9f-b744-99e2a6f28969",
   "metadata": {},
   "source": [
    "## Github Error"
   ]
  },
  {
   "cell_type": "markdown",
   "id": "be2f1a47-4f54-480e-975e-c5589a0f1f0a",
   "metadata": {},
   "source": [
    "`-` 에러내용"
   ]
  },
  {
   "cell_type": "markdown",
   "id": "fd403dd8-ecd0-415d-a494-30db6824bb4f",
   "metadata": {},
   "source": [
    "```\n",
    "remote: error: File <file path+name> is 618.76 MB; this exceeds GitHub's file size limit of 100.00 MB\n",
    "remote: error: GH001: Large files detected. You may want to try Git Large File Storage - https://git-lfs.github.com.\n",
    "```"
   ]
  },
  {
   "cell_type": "markdown",
   "id": "a75c08d7-3a44-4aaf-b9b1-debc32c38ea9",
   "metadata": {},
   "source": [
    "`-` 해결방법"
   ]
  },
  {
   "cell_type": "markdown",
   "id": "4e54681e-b245-4e82-8106-28d1f9b3828f",
   "metadata": {},
   "source": [
    "git -lfs 적용\n",
    "\n",
    "- 단, 이미 큰 용량의 파일을 커밋한 이력이 있으면 적용이 되지 않는다\n",
    "-  lfs리포지토리 용량이 1gb가 넘으면 유료버전으로 가입해야한다\n",
    "\n"
   ]
  },
  {
   "cell_type": "markdown",
   "id": "c5862883-4b50-47cd-94e0-7b315dcf009a",
   "metadata": {},
   "source": [
    "```\n",
    "batch response: This repository is over its data quota. Account responsible for LFS bandwidth should purchase more data packs to restore access.\n",
    "```"
   ]
  },
  {
   "cell_type": "markdown",
   "id": "38f04792-a256-4e32-b5b5-3aeeddde5a92",
   "metadata": {},
   "source": [
    "lfs 용량초과로 위와 같은 에러가 남. 용량이 큰 파일은 올릴 수 없을 듯하다..\n",
    "\n",
    "어쩔수 없이 이미 push한 파일들에 대해서 취소를 해야한다."
   ]
  },
  {
   "cell_type": "markdown",
   "id": "3b09132d-e116-4903-91ce-45f7141b597e",
   "metadata": {},
   "source": [
    "## Git push 취소"
   ]
  },
  {
   "cell_type": "markdown",
   "id": "0eb6794d-1f5b-4e70-9726-4233eda1cb02",
   "metadata": {},
   "source": [
    "***문제가 되는 파일을 먼저 따로 빼놔야 한다.***"
   ]
  },
  {
   "cell_type": "markdown",
   "id": "12623be3-2e9c-401e-ac08-27990fdb4b1a",
   "metadata": {},
   "source": [
    "git push를 취소하기 위해 먼저 가장 최근의 commit을 취소하고 워킹 디렉터리를 되돌려야한다."
   ]
  },
  {
   "cell_type": "markdown",
   "id": "70ef6944-4d25-4763-9199-f97b1b7128fe",
   "metadata": {},
   "source": [
    "```python\n",
    "$ git reset HEAD^\n",
    "```"
   ]
  },
  {
   "cell_type": "markdown",
   "id": "7cd9bc3f-d29c-4c4a-a88e-222dbab34f44",
   "metadata": {},
   "source": [
    "위의 명령어를 실행해 최근 커밋을 취소한다."
   ]
  },
  {
   "cell_type": "markdown",
   "id": "47a8eb18-ff69-4a55-9abc-2e36b7ed9679",
   "metadata": {},
   "source": [
    "```python\n",
    "$ git reflog\n",
    "```"
   ]
  },
  {
   "cell_type": "markdown",
   "id": "b3f65a06-5bae-4e17-8d94-104e0acb3e82",
   "metadata": {},
   "source": [
    "git reflog 명령어를 사용하여 브랜치와 HEAD가 가리켰던 커밋 목록을 확인하여 내가 어떤 시점으로 되돌아갈 것인지 확인"
   ]
  },
  {
   "cell_type": "markdown",
   "id": "fc6d6c40-3c12-476f-8808-a64984522032",
   "metadata": {},
   "source": [
    "```python\n",
    "$ git reset HEAD@{number}   #원하는 시점으로 되돌아가기\n",
    "$ git commit -m \"commit messages\"   #돌아간 시점에서 커밋하기\n",
    "$ git push origin main   #되돌린 시점을 원격에 강제 push\n",
    "```"
   ]
  },
  {
   "cell_type": "markdown",
   "id": "a9e60180-51ce-4229-b6b7-6ac4a070839e",
   "metadata": {},
   "source": [
    "이렇게 원하는 시점으로 돌아가면 로컬, 원격 모두 원하는 시점 이전의 상태로 돌아간다. \n",
    "\n",
    "이전의 상태로 돌아갔다면 커밋 후 강제 push를 해주면 된다."
   ]
  },
  {
   "cell_type": "markdown",
   "id": "befe8e42-2c2d-4348-b0c5-b85017404d78",
   "metadata": {},
   "source": [
    "---"
   ]
  },
  {
   "cell_type": "markdown",
   "id": "18ff4658-cddb-45b5-8ff2-3f71389a8c4c",
   "metadata": {},
   "source": [
    "- ref: [lfs 할당량 에러](https://pleasefixthebug.tistory.com/entry/gitUploadLargeProject)\n",
    "- ref: [push 취소](https://iambeginnerdeveloper.tistory.com/entry/github-%EC%97%90%EB%9F%AC-%ED%95%B4%EA%B2%B0%ED%95%98%EA%B8%B0-remote-error-this-exceeds-GitHubs-file-size-limit-of-10000-MB-%EB%8C%80%EC%9A%A9%EB%9F%89-%ED%8C%8C%EC%9D%BC-push)\n",
    "- ref: [lfs사용하여 대용량 파일 업로드](https://wooono.tistory.com/284)"
   ]
  },
  {
   "cell_type": "markdown",
   "id": "d3d6a955-1049-4609-a108-007dac6b0018",
   "metadata": {},
   "source": [
    "## "
   ]
  }
 ],
 "metadata": {
  "kernelspec": {
   "display_name": "Python 3",
   "language": "python",
   "name": "python3"
  },
  "language_info": {
   "codemirror_mode": {
    "name": "ipython",
    "version": 3
   },
   "file_extension": ".py",
   "mimetype": "text/x-python",
   "name": "python",
   "nbconvert_exporter": "python",
   "pygments_lexer": "ipython3",
   "version": "3.8.16"
  }
 },
 "nbformat": 4,
 "nbformat_minor": 5
}
