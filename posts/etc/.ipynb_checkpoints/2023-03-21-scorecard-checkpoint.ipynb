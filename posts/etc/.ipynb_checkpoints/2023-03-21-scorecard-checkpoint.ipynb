{
 "cells": [
  {
   "cell_type": "raw",
   "id": "c2eddc6a-ec05-4ccd-b9aa-07268e0dac4b",
   "metadata": {},
   "source": [
    "---\n",
    "title: \"Scorecard\"\n",
    "author: \"jiyun Lim\"\n",
    "date: \"03/21/2023\"\n",
    "categories:\n",
    "  - Appendix\n",
    "---"
   ]
  },
  {
   "cell_type": "code",
   "execution_count": 1,
   "id": "40331299-3788-4f10-9659-8af5b79861cb",
   "metadata": {},
   "outputs": [],
   "source": [
    "import pandas as pd"
   ]
  },
  {
   "cell_type": "code",
   "execution_count": 2,
   "id": "a79839e0-cd0b-4585-a061-928579040e29",
   "metadata": {},
   "outputs": [],
   "source": [
    "col = ['Model', 'scaling', 'Oversampling', 'Undersampling','hyper tunning', 'train(macro F1)','test(macro F1)', 'sub score']"
   ]
  },
  {
   "cell_type": "code",
   "execution_count": 3,
   "id": "99646ed2-6974-4f98-8323-446e94bc8e1c",
   "metadata": {},
   "outputs": [],
   "source": [
    "df_row = pd.DataFrame(columns = col)\n",
    "df_row['Model'] = ['DT','et']\n",
    "# df_row['missing'] = ['X'] # 해당 데이터는 결측치 없음.\n",
    "df_row['scaling'] = ['X', 'O']\n",
    "df_row['Oversampling'] = ['X', 'SMOTE']\n",
    "df_row['Undersampling'] = ['X', 'X']\n",
    "df_row['hyper tunning'] = ['X', 'O']\n",
    "df_row['train(macro F1)'] = [1.0, 1.0]\n",
    "df_row['test(macro F1)'] = [0.69, 0.76]\n",
    "df_row['sub score'] = [0.73807, 0.76054]"
   ]
  },
  {
   "cell_type": "code",
   "execution_count": 4,
   "id": "6d03644a-bf13-4ac8-b18b-edf8ad7529e0",
   "metadata": {},
   "outputs": [
    {
     "data": {
      "text/html": [
       "<div>\n",
       "<style scoped>\n",
       "    .dataframe tbody tr th:only-of-type {\n",
       "        vertical-align: middle;\n",
       "    }\n",
       "\n",
       "    .dataframe tbody tr th {\n",
       "        vertical-align: top;\n",
       "    }\n",
       "\n",
       "    .dataframe thead th {\n",
       "        text-align: right;\n",
       "    }\n",
       "</style>\n",
       "<table border=\"1\" class=\"dataframe\">\n",
       "  <thead>\n",
       "    <tr style=\"text-align: right;\">\n",
       "      <th></th>\n",
       "      <th>Model</th>\n",
       "      <th>scaling</th>\n",
       "      <th>Oversampling</th>\n",
       "      <th>Undersampling</th>\n",
       "      <th>hyper tunning</th>\n",
       "      <th>train(macro F1)</th>\n",
       "      <th>test(macro F1)</th>\n",
       "      <th>sub score</th>\n",
       "    </tr>\n",
       "  </thead>\n",
       "  <tbody>\n",
       "    <tr>\n",
       "      <th>0</th>\n",
       "      <td>DT</td>\n",
       "      <td>X</td>\n",
       "      <td>X</td>\n",
       "      <td>X</td>\n",
       "      <td>X</td>\n",
       "      <td>1.0</td>\n",
       "      <td>0.69</td>\n",
       "      <td>0.73807</td>\n",
       "    </tr>\n",
       "    <tr>\n",
       "      <th>1</th>\n",
       "      <td>et</td>\n",
       "      <td>O</td>\n",
       "      <td>SMOTE</td>\n",
       "      <td>X</td>\n",
       "      <td>O</td>\n",
       "      <td>1.0</td>\n",
       "      <td>0.76</td>\n",
       "      <td>0.76054</td>\n",
       "    </tr>\n",
       "  </tbody>\n",
       "</table>\n",
       "</div>"
      ],
      "text/plain": [
       "  Model scaling Oversampling Undersampling hyper tunning  train(macro F1)  \\\n",
       "0    DT       X            X             X             X              1.0   \n",
       "1    et       O        SMOTE             X             O              1.0   \n",
       "\n",
       "   test(macro F1)  sub score  \n",
       "0            0.69    0.73807  \n",
       "1            0.76    0.76054  "
      ]
     },
     "execution_count": 4,
     "metadata": {},
     "output_type": "execute_result"
    }
   ],
   "source": [
    "df_row"
   ]
  }
 ],
 "metadata": {
  "kernelspec": {
   "display_name": "Python 3",
   "language": "python",
   "name": "python3"
  },
  "language_info": {
   "codemirror_mode": {
    "name": "ipython",
    "version": 3
   },
   "file_extension": ".py",
   "mimetype": "text/x-python",
   "name": "python",
   "nbconvert_exporter": "python",
   "pygments_lexer": "ipython3",
   "version": "3.8.16"
  }
 },
 "nbformat": 4,
 "nbformat_minor": 5
}
