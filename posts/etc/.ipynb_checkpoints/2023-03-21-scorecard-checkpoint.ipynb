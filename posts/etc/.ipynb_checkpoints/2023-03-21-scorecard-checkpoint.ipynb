{
 "cells": [
  {
   "cell_type": "raw",
   "id": "c2eddc6a-ec05-4ccd-b9aa-07268e0dac4b",
   "metadata": {},
   "source": [
    "---\n",
    "title: \"Scorecard\"\n",
    "author: \"jiyun Lim\"\n",
    "date: \"03/21/2023\"\n",
    "categories:\n",
    "  - Appendix\n",
    "  - Tip\n",
    "---"
   ]
  },
  {
   "cell_type": "markdown",
   "id": "f9aa8033-a352-42b0-af8c-8470c14684c6",
   "metadata": {},
   "source": [
    "## 파이썬 버전"
   ]
  },
  {
   "cell_type": "code",
   "execution_count": 1,
   "id": "40331299-3788-4f10-9659-8af5b79861cb",
   "metadata": {},
   "outputs": [],
   "source": [
    "import pandas as pd"
   ]
  },
  {
   "cell_type": "code",
   "execution_count": 2,
   "id": "a79839e0-cd0b-4585-a061-928579040e29",
   "metadata": {},
   "outputs": [],
   "source": [
    "col = ['Model', 'scaling', 'Oversampling', 'Undersampling','hyper tunning', 'train(macro F1)','test(macro F1)', 'sub score']"
   ]
  },
  {
   "cell_type": "code",
   "execution_count": 3,
   "id": "99646ed2-6974-4f98-8323-446e94bc8e1c",
   "metadata": {},
   "outputs": [],
   "source": [
    "df_row = pd.DataFrame(columns = col)\n",
    "df_row['Model'] = ['DT','et']\n",
    "# df_row['missing'] = ['X'] # 해당 데이터는 결측치 없음.\n",
    "df_row['scaling'] = ['X', 'O']\n",
    "df_row['Oversampling'] = ['X', 'SMOTE']\n",
    "df_row['Undersampling'] = ['X', 'X']\n",
    "df_row['hyper tunning'] = ['X', 'O']\n",
    "df_row['train(macro F1)'] = [1.0, 1.0]\n",
    "df_row['test(macro F1)'] = [0.69, 0.76]\n",
    "df_row['sub score'] = [0.73807, 0.76054]"
   ]
  },
  {
   "cell_type": "code",
   "execution_count": 4,
   "id": "6d03644a-bf13-4ac8-b18b-edf8ad7529e0",
   "metadata": {},
   "outputs": [
    {
     "data": {
      "text/html": [
       "<div>\n",
       "<style scoped>\n",
       "    .dataframe tbody tr th:only-of-type {\n",
       "        vertical-align: middle;\n",
       "    }\n",
       "\n",
       "    .dataframe tbody tr th {\n",
       "        vertical-align: top;\n",
       "    }\n",
       "\n",
       "    .dataframe thead th {\n",
       "        text-align: right;\n",
       "    }\n",
       "</style>\n",
       "<table border=\"1\" class=\"dataframe\">\n",
       "  <thead>\n",
       "    <tr style=\"text-align: right;\">\n",
       "      <th></th>\n",
       "      <th>Model</th>\n",
       "      <th>scaling</th>\n",
       "      <th>Oversampling</th>\n",
       "      <th>Undersampling</th>\n",
       "      <th>hyper tunning</th>\n",
       "      <th>train(macro F1)</th>\n",
       "      <th>test(macro F1)</th>\n",
       "      <th>sub score</th>\n",
       "    </tr>\n",
       "  </thead>\n",
       "  <tbody>\n",
       "    <tr>\n",
       "      <th>0</th>\n",
       "      <td>DT</td>\n",
       "      <td>X</td>\n",
       "      <td>X</td>\n",
       "      <td>X</td>\n",
       "      <td>X</td>\n",
       "      <td>1.0</td>\n",
       "      <td>0.69</td>\n",
       "      <td>0.73807</td>\n",
       "    </tr>\n",
       "    <tr>\n",
       "      <th>1</th>\n",
       "      <td>et</td>\n",
       "      <td>O</td>\n",
       "      <td>SMOTE</td>\n",
       "      <td>X</td>\n",
       "      <td>O</td>\n",
       "      <td>1.0</td>\n",
       "      <td>0.76</td>\n",
       "      <td>0.76054</td>\n",
       "    </tr>\n",
       "  </tbody>\n",
       "</table>\n",
       "</div>"
      ],
      "text/plain": [
       "  Model scaling Oversampling Undersampling hyper tunning  train(macro F1)  \\\n",
       "0    DT       X            X             X             X              1.0   \n",
       "1    et       O        SMOTE             X             O              1.0   \n",
       "\n",
       "   test(macro F1)  sub score  \n",
       "0            0.69    0.73807  \n",
       "1            0.76    0.76054  "
      ]
     },
     "execution_count": 4,
     "metadata": {},
     "output_type": "execute_result"
    }
   ],
   "source": [
    "df_row"
   ]
  },
  {
   "cell_type": "markdown",
   "id": "dcb7294e-926f-406e-b257-158e979be3d3",
   "metadata": {},
   "source": [
    "## R버전"
   ]
  },
  {
   "cell_type": "code",
   "execution_count": 3,
   "id": "617715ed-0daf-47cf-857c-37f5a4e9f5d5",
   "metadata": {},
   "outputs": [],
   "source": [
    "import rpy2"
   ]
  },
  {
   "cell_type": "code",
   "execution_count": 1,
   "id": "ec701d00-4891-443b-ac05-847105d4644f",
   "metadata": {},
   "outputs": [],
   "source": [
    "%load_ext rpy2.ipython"
   ]
  },
  {
   "cell_type": "code",
   "execution_count": 4,
   "id": "86e118ad-4222-47d8-a114-d653b7a57edc",
   "metadata": {},
   "outputs": [
    {
     "data": {
      "text/plain": [
       "'3.5.1'"
      ]
     },
     "execution_count": 4,
     "metadata": {},
     "output_type": "execute_result"
    }
   ],
   "source": [
    "rpy2.__version__"
   ]
  },
  {
   "cell_type": "code",
   "execution_count": 5,
   "id": "9495c43f-d1bc-4a5d-aa60-834828f850c3",
   "metadata": {},
   "outputs": [],
   "source": [
    "# !pip install rpy2==3.5.1"
   ]
  },
  {
   "cell_type": "code",
   "execution_count": 8,
   "id": "a54b8113-96be-4cbc-b688-81432d063544",
   "metadata": {},
   "outputs": [],
   "source": [
    "%%R\n",
    "score <- matrix(0, ncol=6, nrow=6, byrow=T)\n",
    "colnames(score) <- c('변수','스케일링','변수변환','이상치제거','변동사항', 'R2')"
   ]
  },
  {
   "cell_type": "code",
   "execution_count": 9,
   "id": "99aec457-ff54-4212-92c9-3fca506e7c07",
   "metadata": {},
   "outputs": [],
   "source": [
    "%%R\n",
    "score[1,] <- c('집값, 실거주면적','X','X','X','단순선형회귀(절편O)',0.5021)\n",
    "score[2,] <- c('집값, 실거주면적','X','X','X','단순선형회귀(절편X)',0.9186)\n",
    "score[3,] <- c('집값, 실거주면적','X','X','O','단순선형회귀(절편O) + 이상치제거',0.5402)\n",
    "score[4,] <- c('집값, 실거주면적','X','X','O','단순선형회귀(절편X) + 이상치제거',0.9255)\n",
    "score[5,] <- c('집값, 실거주면적','X','O','O','단순선형회귀(절편X) + 이상치제거',0.5259)\n",
    "score[6,] <- c('집값, 실거주면적','X','O','O','단순선형회귀(절편X) + 이상치제거',0.9120)"
   ]
  },
  {
   "cell_type": "code",
   "execution_count": 19,
   "id": "5139b9da-5a64-404e-8705-3c2302e6f4a7",
   "metadata": {},
   "outputs": [
    {
     "name": "stdout",
     "output_type": "stream",
     "text": [
      "              변수 스케일링 변수변환 이상치제거\n",
      "1 집값, 실거주면적        X        X          X\n",
      "2 집값, 실거주면적        X        X          X\n",
      "3 집값, 실거주면적        X        X          O\n",
      "4 집값, 실거주면적        X        X          O\n",
      "5 집값, 실거주면적        X        O          O\n",
      "6 집값, 실거주면적        X        O          O\n",
      "                          변동사항     R2\n",
      "1              단순선형회귀(절편O) 0.5021\n",
      "2              단순선형회귀(절편X) 0.9186\n",
      "3 단순선형회귀(절편O) + 이상치제거 0.5402\n",
      "4 단순선형회귀(절편X) + 이상치제거 0.9255\n",
      "5 단순선형회귀(절편X) + 이상치제거 0.5259\n",
      "6 단순선형회귀(절편X) + 이상치제거  0.912\n"
     ]
    }
   ],
   "source": [
    "%%R\n",
    "data.frame(score)"
   ]
  },
  {
   "cell_type": "markdown",
   "id": "c3f5d2f9-c6ff-4d82-9094-49eb1809e37d",
   "metadata": {},
   "source": [
    "- ref: [r,python 둘다쓰는법](https://www.askpython.com/python/examples/use-r-and-python-in-the-same-notebook)\n",
    "- ref: [패키지특정버전업데이트](https://gentlesark.tistory.com/26)\n",
    "- ref: [rpy2에러해결](https://stackoverflow.com/questions/75069677/rpy2-throws-a-notimplementederror-concerning-conversion-rules)"
   ]
  }
 ],
 "metadata": {
  "kernelspec": {
   "display_name": "Python 3",
   "language": "python",
   "name": "python3"
  },
  "language_info": {
   "codemirror_mode": {
    "name": "ipython",
    "version": 3
   },
   "file_extension": ".py",
   "mimetype": "text/x-python",
   "name": "python",
   "nbconvert_exporter": "python",
   "pygments_lexer": "ipython3",
   "version": "3.8.16"
  }
 },
 "nbformat": 4,
 "nbformat_minor": 5
}
