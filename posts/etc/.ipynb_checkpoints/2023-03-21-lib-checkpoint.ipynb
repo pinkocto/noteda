{
 "cells": [
  {
   "cell_type": "raw",
   "id": "5c8308e2-36ac-4e4e-b519-48728df84ba3",
   "metadata": {},
   "source": [
    "---\n",
    "title: \"Libraries for DA\"\n",
    "author: \"jiyunLim\"\n",
    "date: \"03/21/2023\"\n",
    "categories:\n",
    "  - BASIC\n",
    "---"
   ]
  },
  {
   "cell_type": "markdown",
   "id": "db79c881-cc33-42cf-bdf3-c3a39053f0c5",
   "metadata": {},
   "source": [
    "|Library|Description|\n",
    "|----|----|\n",
    "|1.Numpy (Numeric + Python) | 과학/수학과 관련된 연산, 계산을 수행하는 함수의 집합|\n",
    "|2. Pandas (Panel + Data Set) | 정형데이터 분석 및 통계 연산을 수행하는 함수들의 집합|\n",
    "|3. Matplotlib (Matlab + Python) | 수치형 자료에 대한 시각화 함수들의 집합|\n",
    "|4. Seaborn | 정형데이터의 통계적 연산 및 시각화|\n",
    "|5. Scipy | 응용통계연산 (가설검정 / 회귀 분석 / 시계열) 함수들의 집합|\n",
    "|6. Scikit Learn | 정형데이터의 기계학습 기법에 관련한 함수들의 집합|\n",
    "|7. Missingno | 결측값을 시각화하는 함수들의 집합|\n",
    "|8. Plotly | 정형데이터 시각화 (동적시각화) 함수들의 집합|\n",
    "|9. Tensorflow | 비정형 데이터의 기계학습(신경망, 딥러닝) 함수들의 집합|\n",
    "|10. Keras | 신경망 알고리즘을 간단하게 사용할 수 있는 함수들의 집합|\n",
    "|11. NLTK | 영어 자연어 처리를 수행하는 함수들의 집합|\n",
    "|12. KoNLPy | 한국어 자연어 처리를 수행하는 함수들의 집합|\n",
    "|13. OpenCV | 컴퓨터 비전 (이미지 또는 영상처리) 함수들의 집합|\n",
    "|14. Gym | 강화학습과 관련한 함수들의 집합 (Chat GPT)|"
   ]
  }
 ],
 "metadata": {
  "kernelspec": {
   "display_name": "Python 3",
   "language": "python",
   "name": "python3"
  },
  "language_info": {
   "codemirror_mode": {
    "name": "ipython",
    "version": 3
   },
   "file_extension": ".py",
   "mimetype": "text/x-python",
   "name": "python",
   "nbconvert_exporter": "python",
   "pygments_lexer": "ipython3",
   "version": "3.8.16"
  }
 },
 "nbformat": 4,
 "nbformat_minor": 5
}
