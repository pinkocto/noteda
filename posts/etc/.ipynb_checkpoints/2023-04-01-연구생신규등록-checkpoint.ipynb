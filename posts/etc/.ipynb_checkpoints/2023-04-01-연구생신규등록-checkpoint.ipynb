{
 "cells": [
  {
   "cell_type": "raw",
   "id": "551d150d-deaf-4e40-b2ec-ea5cd4559870",
   "metadata": {},
   "source": [
    "---\n",
    "title: \" 연구참여 확약서 \"\n",
    "author: \"JiyunLim\"\n",
    "date: \"04/01/2023\"\n",
    "categories:\n",
    "  - Tip\n",
    "---"
   ]
  },
  {
   "cell_type": "markdown",
   "id": "6e18dd46-3c37-451e-bb56-393fab3775c3",
   "metadata": {},
   "source": [
    "## 연락처"
   ]
  },
  {
   "cell_type": "markdown",
   "id": "bd2f26c5-d2d0-462a-84dd-044a6d75c4dc",
   "metadata": {},
   "source": [
    "- [**연구지원부**](https://if.jbnu.ac.kr/index.php?uid=5&gubun=4)\n",
    "- 학생연구비 통합관리: 063-270-4904"
   ]
  },
  {
   "cell_type": "markdown",
   "id": "472a4fbd-eedf-4cc5-9aaa-aafe73cd2eb4",
   "metadata": {},
   "source": [
    "## 학생용\n",
    "\n",
    "- 국가연구자번호 필요\n",
    "- [**iris**](https://www.iris.go.kr/main.do), [**KRI**](https://www.kri.go.kr/kri2) 회원가입 진행\n",
    "\n",
    "- [오아시스]-[연구원기본정보] - 국가연구자번호 입력 및 풀링제 개인정보 동의\n",
    "- 연구자 윤리교육 수료증 필요 (졸업 전까지 들어야 한다는데 모호함..)\n",
    "    - [오아시스] - [연구원기본정보등록] - 수료번호, 수료증 업로드"
   ]
  },
  {
   "cell_type": "markdown",
   "id": "a5f8372d-9adc-4214-a82d-f3a7444b1a5a",
   "metadata": {},
   "source": [
    "- **교수님 신청 후 진행** \n",
    "\n",
    "    - `[학생인건비통합관리(학생)]` - `[참여연구원변경]` - 우측에 **<font color='green'>확인 버튼</font>**(초록화살표) 클릭>> 동의 후에 교수님 신청"
   ]
  },
  {
   "cell_type": "markdown",
   "id": "964abe33-73b2-4107-bf07-18d4b2483a8b",
   "metadata": {},
   "source": [
    "## 신규연구생 등록 절차 (교수님)"
   ]
  },
  {
   "cell_type": "markdown",
   "id": "07e7a15f-b140-4c33-b8a9-c4ee70aade7f",
   "metadata": {},
   "source": [
    "- [**오아시스3.0**](https://all.jbnu.ac.kr/jbnu/oasis/index.html) > **`연구책임자계정인원(변경)신청`** > 추가 옆에 뭔가 탭이 있었는데 그거 클릭하고 추가누르면 추가가됨"
   ]
  },
  {
   "cell_type": "markdown",
   "id": "9c53428f-d99f-4f26-bc3d-bf5c54e32153",
   "metadata": {},
   "source": [
    "- 학생인건비 통합관리 동의(학생 동의필요) 후 승인이 떨어지면 아래의 과정 진행 \n",
    "\n"
   ]
  },
  {
   "cell_type": "markdown",
   "id": "20cb9f65-75bc-45e2-84eb-902ec560a16c",
   "metadata": {},
   "source": [
    "- 학생인건비 참여연구원 변경 신청 결의서는 교수님 작성/업로드"
   ]
  },
  {
   "cell_type": "markdown",
   "id": "1fd8df66-4a14-4ee2-893c-592beab3aa26",
   "metadata": {},
   "source": [
    "- [**오아시스3.0**](https://all.jbnu.ac.kr/jbnu/oasis/index.html) > 상단 **`연구정보`** 탭 > 사이드바에 **`학생인건비 통합관리(학생)`** > 하단에 **`연구참여 확약서`**(돋보기 클릭) > 연구참여 확약서 양식 출력해서 교수 님, 학생 승인 후 학생이 업로드 > 교수님이 신청"
   ]
  }
 ],
 "metadata": {
  "kernelspec": {
   "display_name": "Python 3",
   "language": "python",
   "name": "python3"
  },
  "language_info": {
   "codemirror_mode": {
    "name": "ipython",
    "version": 3
   },
   "file_extension": ".py",
   "mimetype": "text/x-python",
   "name": "python",
   "nbconvert_exporter": "python",
   "pygments_lexer": "ipython3",
   "version": "3.8.16"
  }
 },
 "nbformat": 4,
 "nbformat_minor": 5
}
