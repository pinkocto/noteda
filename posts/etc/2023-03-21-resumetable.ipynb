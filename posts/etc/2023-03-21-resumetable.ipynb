{
 "cells": [
  {
   "cell_type": "raw",
   "id": "74db7282-27cc-48d1-a031-6b169c9b3139",
   "metadata": {},
   "source": [
    "---\n",
    "title: \"resumetable\"\n",
    "author: \"jiyun Lim\"\n",
    "date: \"03/21/2023\"\n",
    "categories:\n",
    "  - Appendix\n",
    "  - Tip\n",
    "---"
   ]
  },
  {
   "cell_type": "markdown",
   "id": "4b127900-3aae-4765-b0d3-f3e68c4121bb",
   "metadata": {},
   "source": [
    "```python\n",
    "def resumetable(df):\n",
    "    print(f'데이터셋 형상: {df.shape}')\n",
    "    summary = pd.DataFrame(df.dtypes, columns = ['데이터 타입'])\n",
    "    summary = summary.reset_index()\n",
    "    summary = summary.rename(columns = {'index':'피처'})\n",
    "    summary['결측값 개수'] = df.isnull().sum().values\n",
    "    summary['고윳값 개수'] = df.nunique().values\n",
    "    summary['첫 번째 값'] = df.loc[0].values\n",
    "    summary['두 번째 값'] = df.loc[1].values\n",
    "    summary['세 번째 값'] = df.loc[2].values\n",
    "            \n",
    "    return summary\n",
    "```"
   ]
  },
  {
   "cell_type": "markdown",
   "id": "106044d3-9d09-47c7-8838-56c606d19e0d",
   "metadata": {},
   "source": [
    "```python\n",
    "summary = resumetable(train) \n",
    "summary\n",
    "```"
   ]
  }
 ],
 "metadata": {
  "kernelspec": {
   "display_name": "Python 3",
   "language": "python",
   "name": "python3"
  },
  "language_info": {
   "codemirror_mode": {
    "name": "ipython",
    "version": 3
   },
   "file_extension": ".py",
   "mimetype": "text/x-python",
   "name": "python",
   "nbconvert_exporter": "python",
   "pygments_lexer": "ipython3",
   "version": "3.8.16"
  }
 },
 "nbformat": 4,
 "nbformat_minor": 5
}
