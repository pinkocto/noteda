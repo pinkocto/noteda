{
 "cells": [
  {
   "cell_type": "raw",
   "id": "20ac2995-7fcf-4f26-8c25-2519623fff4e",
   "metadata": {},
   "source": [
    "---\n",
    "title: \" R/Python jupyter\"\n",
    "author: \"jiyunLim\"\n",
    "date: \"04/12/2023\"\n",
    "categories:\n",
    "  - Tip\n",
    "---"
   ]
  },
  {
   "cell_type": "code",
   "execution_count": 4,
   "id": "b9b2a6d2-8c9a-4180-8281-bd79f37c68be",
   "metadata": {},
   "outputs": [],
   "source": [
    "import numpy as np\n",
    "import pandas as pd"
   ]
  },
  {
   "cell_type": "code",
   "execution_count": 3,
   "id": "836937a5-6d80-4c49-b2ed-a24252457269",
   "metadata": {},
   "outputs": [
    {
     "name": "stdout",
     "output_type": "stream",
     "text": [
      "The rpy2.ipython extension is already loaded. To reload it, use:\n",
      "  %reload_ext rpy2.ipython\n"
     ]
    }
   ],
   "source": [
    "import rpy2\n",
    "%load_ext rpy2.ipython "
   ]
  },
  {
   "cell_type": "markdown",
   "id": "ad49a44d-a075-4c28-a340-e5afb90edc45",
   "metadata": {},
   "source": [
    "## `-` using Python "
   ]
  },
  {
   "cell_type": "code",
   "execution_count": 8,
   "id": "fb6a4ca9-9fbe-44c6-8cc9-cb3e020b1cc9",
   "metadata": {},
   "outputs": [],
   "source": [
    "n=100\n",
    "t=np.linspace(0,0.99,n)\n",
    "f_true =3+ 1.5*np.sin(2*np.pi*t)+2*np.sin(10*np.pi*t)\n",
    "ϵ=np.random.normal(scale=0.2,size=n)\n",
    "f = f_true + ϵ"
   ]
  },
  {
   "cell_type": "code",
   "execution_count": 9,
   "id": "ffc1d055-2728-488a-91b4-e011c0410cab",
   "metadata": {},
   "outputs": [],
   "source": [
    "# t=np.linspace(0,0.99,n)\n",
    "x1 = np.sin(2*np.pi*t)\n",
    "x2 = np.sin(10*np.pi*t)"
   ]
  },
  {
   "cell_type": "code",
   "execution_count": 10,
   "id": "a3a746a7-b043-45a4-96e4-f62c4d405b17",
   "metadata": {},
   "outputs": [
    {
     "data": {
      "text/plain": [
       "matrix([[2.99321226],\n",
       "        [1.49335619],\n",
       "        [1.99914477]])"
      ]
     },
     "execution_count": 10,
     "metadata": {},
     "output_type": "execute_result"
    }
   ],
   "source": [
    "# n=100\n",
    "# f = f_true + ϵ\n",
    "X=np.ones((n,3))\n",
    "X[:,1] = x1\n",
    "X[:,2] = x2\n",
    "X = np.matrix(X)\n",
    "y = np.matrix(f).T # y는 col-vec로 선언\n",
    "βhat = (X.T*X).I*X.T*y\n",
    "βhat"
   ]
  },
  {
   "cell_type": "markdown",
   "id": "ca7f0e59-001e-4233-8b29-07285faa9e68",
   "metadata": {},
   "source": [
    "## `-` using R"
   ]
  },
  {
   "cell_type": "code",
   "execution_count": 11,
   "id": "0d9e8be1-faf4-4d89-8b27-c34f9f638164",
   "metadata": {},
   "outputs": [],
   "source": [
    "%R -i f,x1,x2"
   ]
  },
  {
   "cell_type": "code",
   "execution_count": 12,
   "id": "d977178b-ef8d-4b4b-aa6a-40d040dfcc84",
   "metadata": {},
   "outputs": [
    {
     "name": "stdout",
     "output_type": "stream",
     "text": [
      "\n",
      "Call:\n",
      "lm(formula = f ~ x1 + x2)\n",
      "\n",
      "Coefficients:\n",
      "(Intercept)           x1           x2  \n",
      "      2.993        1.493        1.999  \n",
      "\n"
     ]
    }
   ],
   "source": [
    "%%R \n",
    "lm(f~x1+x2)"
   ]
  }
 ],
 "metadata": {
  "kernelspec": {
   "display_name": "Python 3",
   "language": "python",
   "name": "python3"
  },
  "language_info": {
   "codemirror_mode": {
    "name": "ipython",
    "version": 3
   },
   "file_extension": ".py",
   "mimetype": "text/x-python",
   "name": "python",
   "nbconvert_exporter": "python",
   "pygments_lexer": "ipython3",
   "version": "3.8.16"
  }
 },
 "nbformat": 4,
 "nbformat_minor": 5
}
