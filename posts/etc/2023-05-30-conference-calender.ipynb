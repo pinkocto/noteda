{
 "cells": [
  {
   "cell_type": "markdown",
   "id": "28c41972-46b1-444e-a97d-ac57850883e5",
   "metadata": {},
   "source": [
    "# January 2024"
   ]
  },
  {
   "cell_type": "markdown",
   "id": "e7129ee4-ea8a-4a59-a3c0-35968711d2aa",
   "metadata": {},
   "source": [
    "## [IMS Asia Pacific Rim Meeting](https://ims-aprm2024.com/)"
   ]
  },
  {
   "cell_type": "markdown",
   "id": "9154e770-d264-4912-aaa5-5bcc0b6ae4e6",
   "metadata": {},
   "source": [
    "January 4, 2024 - January 7, 2024\n",
    "Melbourne, Australia"
   ]
  },
  {
   "cell_type": "markdown",
   "id": "a3cb43d5-9a42-49ae-8db0-3e71ee65095c",
   "metadata": {},
   "source": [
    "#### Proposals for Invited Sessions"
   ]
  },
  {
   "cell_type": "markdown",
   "id": "a4cc728b-9064-4c3d-8548-29e6504e7844",
   "metadata": {},
   "source": [
    "Please use this form \n",
    "- https://bit.ly/IMSAPRM2024SessionProposal \n",
    "- to submit your proposal before 11:30pm AEST on 14 May 2023 – REOPENED FOR SUBMISSIONS FOR A LIMITED TIME\n",
    "\n",
    "Information you will need to provide in the form includes:\n",
    "\n",
    "- Session organiser’s name, email address and affiliation\n",
    "- Session title\n",
    "- General description of the session\n",
    "- Session speakers, up to 4, including names, email addresses and affiliations\n",
    "- Session Chair’s name, email address and affiliation\n",
    "\n",
    "We ask that you please complete the form in English."
   ]
  },
  {
   "cell_type": "markdown",
   "id": "d7e5c542-db26-43ad-a80a-2f2418a4ebe9",
   "metadata": {},
   "source": [
    "## <font color='blue'>ICMLC 2024: 18. International Conference on Machine Learning and Cybernetics (마감$\\to$변경)</font>\n",
    "January 11-12, 2024 in Singapore, Singapore"
   ]
  },
  {
   "cell_type": "markdown",
   "id": "28484488-ad0e-40c1-83cb-9bd2de187ed5",
   "metadata": {},
   "source": [
    "- [webpage](https://waset.org/signal-processing-communications-and-networking-conference-in-january-2024-in-singapore?utm_source=conferenceindex&utm_medium=referral&utm_campaign=listing)"
   ]
  },
  {
   "cell_type": "markdown",
   "id": "1f5fd37b-d993-44b7-9ba5-bf8eef2cdcd2",
   "metadata": {},
   "source": [
    "- Abstracts/Full-Text Paper Submission Deadline\n",
    "- June 15, 2023 $\\to$ <font color='blue'>**June 29, 2023**</font>\n",
    "- Notification of Acceptance/Rejection June 30, 2023 $\\to$ <font color='blue'>**July 13, 2023**</font>\n",
    "- Final Paper (Camera Ready) Submission & Early Bird Registration Deadline\t \tDecember 07, 2023\n",
    "- Conference Dates\t \tJanuary 11-12, 2024"
   ]
  },
  {
   "cell_type": "markdown",
   "id": "fc2a1d81-d4ca-4bdc-8184-1020f52cc97d",
   "metadata": {},
   "source": [
    "- Student Oral/Poster Presenter Registration\t€ 350"
   ]
  },
  {
   "cell_type": "markdown",
   "id": "e4791b99-f8e4-47ad-8da2-5cf621fe0652",
   "metadata": {},
   "source": [
    "## <font color='blue'>ICSPCN 2024: 18. International Conference on Signal Processing, Communications and Networking (마감$\\to$ 변경)</font>\n",
    "January 07-08, 2024 in Tokyo, Japan"
   ]
  },
  {
   "cell_type": "markdown",
   "id": "490166ca-d05b-486e-b429-944b9fd666e2",
   "metadata": {},
   "source": [
    "- Abstracts/Full-Text Paper Submission Deadline\t \tJune 15, 2023 $\\to$ <font color='blue'>**June 29, 2023**</font>\n",
    "- Notification of Acceptance/Rejection\t \tJune 30, 2023 $\\to$ <font color='blue'>**July 13, 2023**</font>\n",
    "- Final Paper (Camera Ready) Submission & Early Bird Registration Deadline\t \tNovember 30, 2023\n",
    "- Conference Dates\t \tJanuary 07-08, 2024"
   ]
  },
  {
   "cell_type": "markdown",
   "id": "1921ea90-8bb5-4362-ba01-5cc529112c8c",
   "metadata": {},
   "source": [
    "##  2024 16th International Conference on Machine Learning and Computing\n",
    "\n",
    "London, United Kingdom"
   ]
  },
  {
   "cell_type": "markdown",
   "id": "e1b1df24-3f96-4bbb-843a-962b131e7fbd",
   "metadata": {},
   "source": [
    "- [website](http://www.icmlc.org/)"
   ]
  },
  {
   "cell_type": "markdown",
   "id": "98f4b059-7e19-4f63-8254-6e0e0d30bdc3",
   "metadata": {},
   "source": [
    "- 8월 20일 : 초록 및 Full paper 마감일\n",
    "\n",
    "- 9월 20일: final review 통지\n",
    "\n",
    "- 10월 10일: 최종본을 포함한 registration file 제출\n",
    "\n",
    "- 10월 10일 : 얼리버드 마감"
   ]
  },
  {
   "cell_type": "markdown",
   "id": "007e7002-7478-47c7-be81-9b5e2ba89caa",
   "metadata": {},
   "source": [
    "----"
   ]
  },
  {
   "cell_type": "markdown",
   "id": "82b6cfb7-4f4c-48db-96e7-096045735204",
   "metadata": {},
   "source": [
    "# February 2024"
   ]
  },
  {
   "cell_type": "markdown",
   "id": "eb274950-786a-40fe-a661-71770ca081c0",
   "metadata": {},
   "source": [
    "## ICMLC 2024: 18. International Conference on Machine Learning and Cybernetics\n",
    "February 01-02, 2024 in Melbourne, Australia"
   ]
  },
  {
   "cell_type": "markdown",
   "id": "e5eb776e-238c-4ac1-bb61-4350ac466e60",
   "metadata": {},
   "source": [
    "- Abstracts/Full-Text Paper Submission Deadline\t \t**June 29, 2023**\n",
    "- Notification of Acceptance/Rejection\t \t**July 13, 2023**\n",
    "- Final Paper (Camera Ready) Submission & Early Bird Registration Deadline\t \tDecember 17, 2023\n",
    "- Conference Dates\t \tFebruary 01-02, 2024"
   ]
  },
  {
   "cell_type": "markdown",
   "id": "86d62be1-ed23-45e9-912c-7c0d1403ed49",
   "metadata": {},
   "source": [
    "## ICMLC 2024: 18. International Conference on Machine Learning and Cybernetics\n",
    "February 04-05, 2024 in Guangzhou, China"
   ]
  },
  {
   "cell_type": "markdown",
   "id": "3e13cd4b-420a-4799-aef1-03dc0bc01699",
   "metadata": {},
   "source": [
    "- Abstracts/Full-Text Paper Submission Deadline\t \tJune 29, 2023\n",
    "- Notification of Acceptance/Rejection\t \tJuly 13, 2023\n",
    "- Final Paper (Camera Ready) Submission & Early Bird Registration Deadline\t \tJanuary 04, 2024\n",
    "- Conference Dates\t \tFebruary 04-05, 2024"
   ]
  },
  {
   "cell_type": "markdown",
   "id": "def26125-c8c9-4660-9209-9d6b992d37f6",
   "metadata": {},
   "source": [
    "## ICNMLKD 2024: 18. International Conference on Network, Machine Learning and Knowledge Discovery\n",
    "February 04-05, 2024 in Bangkok, Thailand"
   ]
  },
  {
   "cell_type": "markdown",
   "id": "e1c9d82c-ceda-4dfd-ac29-db55049e4a64",
   "metadata": {},
   "source": [
    "\n",
    "- Abstracts/Full-Text Paper Submission Deadline\t \tJune 29, 2023\n",
    "- Notification of Acceptance/Rejection\t \tJuly 13, 2023\n",
    "- Final Paper (Camera Ready) Submission & Early Bird Registration Deadline\t \tJanuary 04, 2024\n",
    "- Conference Dates\t \tFebruary 04-05, 2024"
   ]
  }
 ],
 "metadata": {
  "kernelspec": {
   "display_name": "Python 3",
   "language": "python",
   "name": "python3"
  },
  "language_info": {
   "codemirror_mode": {
    "name": "ipython",
    "version": 3
   },
   "file_extension": ".py",
   "mimetype": "text/x-python",
   "name": "python",
   "nbconvert_exporter": "python",
   "pygments_lexer": "ipython3",
   "version": "3.8.16"
  }
 },
 "nbformat": 4,
 "nbformat_minor": 5
}
