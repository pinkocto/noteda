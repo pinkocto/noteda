{
 "cells": [
  {
   "cell_type": "raw",
   "id": "0daaabf8-0c41-4cde-b1e7-cb7a30f9bf78",
   "metadata": {},
   "source": [
    "---\n",
    "title: \" **[SOLAR]** 데이터 탐색용\"\n",
    "author: \"jiyunLim\"\n",
    "date: \"04/19/2023\"\n",
    "categories:\n",
    "  - Research\n",
    "  - STGCN\n",
    "  - SOLAR\n",
    "---"
   ]
  },
  {
   "cell_type": "markdown",
   "id": "01708565-fcee-4cae-974c-c2f764912405",
   "metadata": {},
   "source": [
    "> data2/solar_radiation.csv 기반으로 재구조한 데이터"
   ]
  },
  {
   "cell_type": "code",
   "execution_count": 5,
   "id": "3e640c4c-a60a-4294-b03c-8c6b95f9ed79",
   "metadata": {},
   "outputs": [],
   "source": [
    "import pandas as pd\n",
    "import numpy as np\n",
    "import json\n",
    "import urllib\n",
    "import time"
   ]
  },
  {
   "cell_type": "code",
   "execution_count": null,
   "id": "b8ed0171-b308-43bd-bfec-3678fc91d06d",
   "metadata": {},
   "outputs": [],
   "source": [
    "df = pd.read_csv('./data2/restructuring_data.csv')"
   ]
  },
  {
   "cell_type": "code",
   "execution_count": 31,
   "id": "f30c604a-5730-4167-8c49-878cc2389668",
   "metadata": {},
   "outputs": [],
   "source": [
    "df_ = pd.read_csv('./data3/restructuring_data.csv')"
   ]
  },
  {
   "cell_type": "code",
   "execution_count": 33,
   "id": "90e9aae0-53c6-456e-bf6d-cb4266e3eb09",
   "metadata": {},
   "outputs": [
    {
     "data": {
      "text/plain": [
       "489.888"
      ]
     },
     "execution_count": 33,
     "metadata": {},
     "output_type": "execute_result"
    }
   ],
   "source": [
    "df_.shape[0]*0.756"
   ]
  },
  {
   "cell_type": "code",
   "execution_count": 47,
   "id": "24c5279d-a408-4033-951a-bb6006434f83",
   "metadata": {},
   "outputs": [
    {
     "data": {
      "text/plain": [
       "0.6280864197530864"
      ]
     },
     "execution_count": 47,
     "metadata": {},
     "output_type": "execute_result"
    }
   ],
   "source": [
    "407/648"
   ]
  },
  {
   "cell_type": "code",
   "execution_count": 37,
   "id": "e2aed902-b42c-41b3-9d8a-49a0741d565f",
   "metadata": {},
   "outputs": [
    {
     "data": {
      "text/plain": [
       "(648, 45)"
      ]
     },
     "execution_count": 37,
     "metadata": {},
     "output_type": "execute_result"
    }
   ],
   "source": [
    "df_.shape\n"
   ]
  },
  {
   "cell_type": "code",
   "execution_count": 46,
   "id": "348609ec-903d-4e77-a69d-018b939dfc94",
   "metadata": {},
   "outputs": [
    {
     "data": {
      "text/plain": [
       "date    2022-08-31 23:00:00\n",
       "북춘천                     0.0\n",
       "철원                      0.0\n",
       "대관령                     0.0\n",
       "춘천                      0.0\n",
       "백령도                     0.0\n",
       "북강릉                     0.0\n",
       "강릉                      0.0\n",
       "서울                      0.0\n",
       "인천                      0.0\n",
       "원주                      0.0\n",
       "울릉도                     0.0\n",
       "수원                      0.0\n",
       "서산                      0.0\n",
       "청주                      0.0\n",
       "대전                      0.0\n",
       "추풍령                     0.0\n",
       "안동                      0.0\n",
       "포항                      0.0\n",
       "대구                      0.0\n",
       "전주                      0.0\n",
       "창원                      0.0\n",
       "광주                      0.0\n",
       "부산                      0.0\n",
       "목포                      0.0\n",
       "여수                      0.0\n",
       "흑산도                     0.0\n",
       "고창                      0.0\n",
       "홍성                      0.0\n",
       "제주                      0.0\n",
       "고산                      0.0\n",
       "진주                      0.0\n",
       "고창군                     0.0\n",
       "영광군                     0.0\n",
       "김해시                     0.0\n",
       "순창군                     0.0\n",
       "북창원                     0.0\n",
       "양산시                     0.0\n",
       "보성군                     0.0\n",
       "강진군                     0.0\n",
       "의령군                     0.0\n",
       "함양군                     0.0\n",
       "광양시                     0.0\n",
       "청송군                     0.0\n",
       "경주시                     0.0\n",
       "Name: 407, dtype: object"
      ]
     },
     "execution_count": 46,
     "metadata": {},
     "output_type": "execute_result"
    }
   ],
   "source": [
    "df_.iloc[407]"
   ]
  },
  {
   "cell_type": "code",
   "execution_count": 7,
   "id": "ad30b0be-d0dd-4c31-a36d-5baa0bf7cbc9",
   "metadata": {},
   "outputs": [
    {
     "data": {
      "text/plain": [
       "(2568, 45)"
      ]
     },
     "execution_count": 7,
     "metadata": {},
     "output_type": "execute_result"
    }
   ],
   "source": [
    "df.shape"
   ]
  },
  {
   "cell_type": "code",
   "execution_count": 10,
   "id": "24bd923e-5c8d-4762-b905-b4849b55c01a",
   "metadata": {},
   "outputs": [
    {
     "data": {
      "text/html": [
       "<div>\n",
       "<style scoped>\n",
       "    .dataframe tbody tr th:only-of-type {\n",
       "        vertical-align: middle;\n",
       "    }\n",
       "\n",
       "    .dataframe tbody tr th {\n",
       "        vertical-align: top;\n",
       "    }\n",
       "\n",
       "    .dataframe thead th {\n",
       "        text-align: right;\n",
       "    }\n",
       "</style>\n",
       "<table border=\"1\" class=\"dataframe\">\n",
       "  <thead>\n",
       "    <tr style=\"text-align: right;\">\n",
       "      <th></th>\n",
       "      <th>date</th>\n",
       "      <th>북춘천</th>\n",
       "      <th>철원</th>\n",
       "      <th>대관령</th>\n",
       "      <th>춘천</th>\n",
       "      <th>백령도</th>\n",
       "      <th>북강릉</th>\n",
       "      <th>강릉</th>\n",
       "      <th>서울</th>\n",
       "      <th>인천</th>\n",
       "      <th>...</th>\n",
       "      <th>순창군</th>\n",
       "      <th>북창원</th>\n",
       "      <th>양산시</th>\n",
       "      <th>보성군</th>\n",
       "      <th>강진군</th>\n",
       "      <th>의령군</th>\n",
       "      <th>함양군</th>\n",
       "      <th>광양시</th>\n",
       "      <th>청송군</th>\n",
       "      <th>경주시</th>\n",
       "    </tr>\n",
       "  </thead>\n",
       "  <tbody>\n",
       "    <tr>\n",
       "      <th>0</th>\n",
       "      <td>2022-06-01 00:00:00</td>\n",
       "      <td>0.0</td>\n",
       "      <td>0.0</td>\n",
       "      <td>0.0</td>\n",
       "      <td>0.0</td>\n",
       "      <td>0.0</td>\n",
       "      <td>0.0</td>\n",
       "      <td>0.0</td>\n",
       "      <td>0.0</td>\n",
       "      <td>0.0</td>\n",
       "      <td>...</td>\n",
       "      <td>0.0</td>\n",
       "      <td>0.0</td>\n",
       "      <td>0.0</td>\n",
       "      <td>0.0</td>\n",
       "      <td>0.0</td>\n",
       "      <td>0.0</td>\n",
       "      <td>0.0</td>\n",
       "      <td>0.0</td>\n",
       "      <td>0.0</td>\n",
       "      <td>0.0</td>\n",
       "    </tr>\n",
       "    <tr>\n",
       "      <th>1</th>\n",
       "      <td>2022-06-01 01:00:00</td>\n",
       "      <td>0.0</td>\n",
       "      <td>0.0</td>\n",
       "      <td>0.0</td>\n",
       "      <td>0.0</td>\n",
       "      <td>0.0</td>\n",
       "      <td>0.0</td>\n",
       "      <td>0.0</td>\n",
       "      <td>0.0</td>\n",
       "      <td>0.0</td>\n",
       "      <td>...</td>\n",
       "      <td>0.0</td>\n",
       "      <td>0.0</td>\n",
       "      <td>0.0</td>\n",
       "      <td>0.0</td>\n",
       "      <td>0.0</td>\n",
       "      <td>0.0</td>\n",
       "      <td>0.0</td>\n",
       "      <td>0.0</td>\n",
       "      <td>0.0</td>\n",
       "      <td>0.0</td>\n",
       "    </tr>\n",
       "    <tr>\n",
       "      <th>2</th>\n",
       "      <td>2022-06-01 02:00:00</td>\n",
       "      <td>0.0</td>\n",
       "      <td>0.0</td>\n",
       "      <td>0.0</td>\n",
       "      <td>0.0</td>\n",
       "      <td>0.0</td>\n",
       "      <td>0.0</td>\n",
       "      <td>0.0</td>\n",
       "      <td>0.0</td>\n",
       "      <td>0.0</td>\n",
       "      <td>...</td>\n",
       "      <td>0.0</td>\n",
       "      <td>0.0</td>\n",
       "      <td>0.0</td>\n",
       "      <td>0.0</td>\n",
       "      <td>0.0</td>\n",
       "      <td>0.0</td>\n",
       "      <td>0.0</td>\n",
       "      <td>0.0</td>\n",
       "      <td>0.0</td>\n",
       "      <td>0.0</td>\n",
       "    </tr>\n",
       "    <tr>\n",
       "      <th>3</th>\n",
       "      <td>2022-06-01 03:00:00</td>\n",
       "      <td>0.0</td>\n",
       "      <td>0.0</td>\n",
       "      <td>0.0</td>\n",
       "      <td>0.0</td>\n",
       "      <td>0.0</td>\n",
       "      <td>0.0</td>\n",
       "      <td>0.0</td>\n",
       "      <td>0.0</td>\n",
       "      <td>0.0</td>\n",
       "      <td>...</td>\n",
       "      <td>0.0</td>\n",
       "      <td>0.0</td>\n",
       "      <td>0.0</td>\n",
       "      <td>0.0</td>\n",
       "      <td>0.0</td>\n",
       "      <td>0.0</td>\n",
       "      <td>0.0</td>\n",
       "      <td>0.0</td>\n",
       "      <td>0.0</td>\n",
       "      <td>0.0</td>\n",
       "    </tr>\n",
       "    <tr>\n",
       "      <th>4</th>\n",
       "      <td>2022-06-01 04:00:00</td>\n",
       "      <td>0.0</td>\n",
       "      <td>0.0</td>\n",
       "      <td>0.0</td>\n",
       "      <td>0.0</td>\n",
       "      <td>0.0</td>\n",
       "      <td>0.0</td>\n",
       "      <td>0.0</td>\n",
       "      <td>0.0</td>\n",
       "      <td>0.0</td>\n",
       "      <td>...</td>\n",
       "      <td>0.0</td>\n",
       "      <td>0.0</td>\n",
       "      <td>0.0</td>\n",
       "      <td>0.0</td>\n",
       "      <td>0.0</td>\n",
       "      <td>0.0</td>\n",
       "      <td>0.0</td>\n",
       "      <td>0.0</td>\n",
       "      <td>0.0</td>\n",
       "      <td>0.0</td>\n",
       "    </tr>\n",
       "  </tbody>\n",
       "</table>\n",
       "<p>5 rows × 45 columns</p>\n",
       "</div>"
      ],
      "text/plain": [
       "                  date  북춘천   철원  대관령   춘천  백령도  북강릉   강릉   서울   인천  ...  순창군  \\\n",
       "0  2022-06-01 00:00:00  0.0  0.0  0.0  0.0  0.0  0.0  0.0  0.0  0.0  ...  0.0   \n",
       "1  2022-06-01 01:00:00  0.0  0.0  0.0  0.0  0.0  0.0  0.0  0.0  0.0  ...  0.0   \n",
       "2  2022-06-01 02:00:00  0.0  0.0  0.0  0.0  0.0  0.0  0.0  0.0  0.0  ...  0.0   \n",
       "3  2022-06-01 03:00:00  0.0  0.0  0.0  0.0  0.0  0.0  0.0  0.0  0.0  ...  0.0   \n",
       "4  2022-06-01 04:00:00  0.0  0.0  0.0  0.0  0.0  0.0  0.0  0.0  0.0  ...  0.0   \n",
       "\n",
       "   북창원  양산시  보성군  강진군  의령군  함양군  광양시  청송군  경주시  \n",
       "0  0.0  0.0  0.0  0.0  0.0  0.0  0.0  0.0  0.0  \n",
       "1  0.0  0.0  0.0  0.0  0.0  0.0  0.0  0.0  0.0  \n",
       "2  0.0  0.0  0.0  0.0  0.0  0.0  0.0  0.0  0.0  \n",
       "3  0.0  0.0  0.0  0.0  0.0  0.0  0.0  0.0  0.0  \n",
       "4  0.0  0.0  0.0  0.0  0.0  0.0  0.0  0.0  0.0  \n",
       "\n",
       "[5 rows x 45 columns]"
      ]
     },
     "execution_count": 10,
     "metadata": {},
     "output_type": "execute_result"
    }
   ],
   "source": [
    "df.head()"
   ]
  },
  {
   "cell_type": "code",
   "execution_count": 27,
   "id": "2c636666-b973-4c72-bcf4-bde5ce6f8aec",
   "metadata": {},
   "outputs": [
    {
     "name": "stdout",
     "output_type": "stream",
     "text": [
      "train 2022-06-01 00:00:00 ~ 2022-08-14 17:00:00\n",
      "test 2022-08-14 18:00:00 ~ 2022-09-15 23:00:00\n"
     ]
    }
   ],
   "source": [
    "print('train', df.iloc[0]['date'], '~', df.iloc[1793]['date'])\n",
    "print('test',  df.iloc[1794]['date'], '~', df.iloc[-1]['date'])"
   ]
  },
  {
   "cell_type": "markdown",
   "id": "fa29ea1d-dd11-4992-ac23-4fcb497e2882",
   "metadata": {},
   "source": [
    "**[힌남노]** 활동기간 : 2022년 8월 28일 15시 ~ 2022년 9월 6일 21시\n",
    "\n",
    "**[노루]** 활동기간: 2022년 9월 23일 15시 ~ 2022년 9월 28일 21시 --> 한국영향X"
   ]
  }
 ],
 "metadata": {
  "kernelspec": {
   "display_name": "Python 3",
   "language": "python",
   "name": "python3"
  },
  "language_info": {
   "codemirror_mode": {
    "name": "ipython",
    "version": 3
   },
   "file_extension": ".py",
   "mimetype": "text/x-python",
   "name": "python",
   "nbconvert_exporter": "python",
   "pygments_lexer": "ipython3",
   "version": "3.8.16"
  }
 },
 "nbformat": 4,
 "nbformat_minor": 5
}
