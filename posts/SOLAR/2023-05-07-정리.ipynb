{
 "cells": [
  {
   "cell_type": "raw",
   "id": "3fc653ad-b578-4e3a-8e56-09702e2e5db8",
   "metadata": {},
   "source": [
    "---\n",
    "title: \"**[SOLAR] 0508 정리중**\" \n",
    "author: \"JiyunLim\"\n",
    "date: \"05/08/2023\"\n",
    "categories:\n",
    "  - Research\n",
    "  - STGCN\n",
    "  - SOLAR\n",
    "---"
   ]
  },
  {
   "cell_type": "markdown",
   "id": "089488fc-366a-4ee8-ae2d-ffa76d38fbf3",
   "metadata": {},
   "source": [
    "- author's code repo: <https://github.com/VeritasYin/STGCN_IJCAI-18>\n",
    "- pytorch : <https://github.com/dmlc/dgl/tree/master/examples/pytorch/stgcn_wave>"
   ]
  },
  {
   "cell_type": "markdown",
   "id": "cdfb7b52-b502-460b-8b27-2c6cf70730d5",
   "metadata": {},
   "source": [
    "- <https://arxiv.org/abs/1906.00121>"
   ]
  },
  {
   "cell_type": "code",
   "execution_count": 15,
   "id": "4f8bb2d1-0167-4b78-9e0d-c84bbd160ec0",
   "metadata": {},
   "outputs": [
    {
     "data": {
      "text/plain": [
       "True"
      ]
     },
     "execution_count": 15,
     "metadata": {},
     "output_type": "execute_result"
    }
   ],
   "source": [
    "import torch\n",
    "torch.cuda.is_available()"
   ]
  },
  {
   "cell_type": "markdown",
   "id": "02ef41bb-faa8-47a4-a78e-035680ff5727",
   "metadata": {},
   "source": [
    "## Introduction"
   ]
  },
  {
   "cell_type": "markdown",
   "id": "1c48f815-8875-4a2c-a15c-f7dd5c8a7636",
   "metadata": {},
   "source": [
    "## Review of Existing Studies"
   ]
  },
  {
   "cell_type": "markdown",
   "id": "a05e36ca-b344-4994-8f3f-c7fd54da1446",
   "metadata": {},
   "source": [
    "STGCN: Spatio-Temporal Graph Convolutional Networks: A Deep Learning Framework for Traffic Forecasting 논문에서 시/공간을 고려하는 gcn 모델로 처음 제안된 방법론 (2018년 Yu와 Yin, Zhu가 제안한 모델)"
   ]
  },
  {
   "attachments": {
    "45a44032-d088-410d-86aa-32f2dfee418b.png": {
     "image/png": "[encoded data removed]"
    }
   },
   "cell_type": "markdown",
   "id": "91b5022e-d72e-4616-84e8-17baa671e4fb",
   "metadata": {},
   "source": [
    "![Spatio-Temporal Graph Convolutional Networks: A Deep Learning Framework for Traffic Forecasting_2018(IJCAI) cited : 2290\n",
    "](attachment:45a44032-d088-410d-86aa-32f2dfee418b.png)"
   ]
  },
  {
   "cell_type": "markdown",
   "id": "79592dc6-53d0-41e2-9da6-beae95756932",
   "metadata": {},
   "source": [
    "[Figure1] Graph-structured traffic data. Each $v_t$ indicates a frame of current traffic status at time step $t$, which is recorded in a graph-structured data matrix"
   ]
  },
  {
   "cell_type": "markdown",
   "id": "57e83237-ee4c-43ad-b04b-56d4cd3234cf",
   "metadata": {},
   "source": [
    "입력 데이터는 시간 경과에 따라 촬용동니 도로 구간 교통정보 관련 스냅샷과 도로망 그래프로 구성."
   ]
  },
  {
   "cell_type": "markdown",
   "id": "9558e1a5-cc12-48d7-9c63-1798e49604a2",
   "metadata": {},
   "source": [
    "공간적 측면과 시간적 측면은 '샌드위치' 로 묘사되는 방식으로 결합된다. (Temporal  사이에  시간적 특징을 추출하는 첫번째 레이어가 공간적 특징을 추출하는 두 번째 레이어로 전달된다. 그리고 이 레이터는 또 다른 시간 레이어로 전달되는 것이다."
   ]
  },
  {
   "cell_type": "markdown",
   "id": "17aedb4a-4413-42bc-aff0-02237a9dc7b5",
   "metadata": {},
   "source": [
    "## Proposed Method"
   ]
  },
  {
   "cell_type": "markdown",
   "id": "605cac44-4d89-4ae1-bc5a-33a90650bacf",
   "metadata": {},
   "source": [
    "> STGCN + EPT weights"
   ]
  },
  {
   "cell_type": "markdown",
   "id": "35ff7242-dd11-4806-a3a0-8bf48c2cb26a",
   "metadata": {},
   "source": [
    "STGCN Adjacency matrix에 지역별 일사량 ept correlation을 가중치로 준것."
   ]
  },
  {
   "cell_type": "markdown",
   "id": "3032d6d0-79f8-42ea-ab1f-7675eec70143",
   "metadata": {},
   "source": [
    "EPT: the ensemble process makes it possible to design various filters, icluding nonlinear filters, which are suitable for extracting some meaningful features such as global trend, volatility, seasonality, and intervention."
   ]
  },
  {
   "cell_type": "markdown",
   "id": "f1cfd2a2-8e7f-41ac-82f7-daa0f0ec9b39",
   "metadata": {},
   "source": [
    "- 기존 weight : $W_{ij}$ \n",
    "\n",
    "- ARIMA 등 기존모델의 한계점을 언급하면서, Time과 Spatial 방법을 모두 고려한 모델들 소개.\n",
    "\n",
    "\n",
    "- Multi scale (ept 언급 꼭 안해도 됨)"
   ]
  },
  {
   "cell_type": "markdown",
   "id": "387975fd-6087-4790-b6a1-11bb8e310a94",
   "metadata": {},
   "source": [
    "## Experiments"
   ]
  },
  {
   "cell_type": "markdown",
   "id": "18a98070-05e9-42e6-9c27-8c628eb5ae5d",
   "metadata": {},
   "source": [
    "> [SOLAR DATA 정리](https://pinkocto.github.io/noteda/posts/SOLAR/2023-05-01-%EC%B0%A8%EC%9B%90%EC%A1%B0%EC%82%AC.html#%EB%B0%A9%EB%B2%951-staticgraphtemporalsignal-%EB%A5%BC-%EC%9D%B4%EC%9A%A9%ED%95%98%EC%97%AC-%EB%8D%B0%EC%9D%B4%ED%84%B0-%EC%85%8B-%EB%A7%8C%EB%93%A4%EA%B8%B0)"
   ]
  },
  {
   "cell_type": "markdown",
   "id": "9d0749ac-29ed-4fad-96e2-5f48162dcd25",
   "metadata": {},
   "source": [
    "In this example, we analyze the soloar radiation data that were hourly observed at 44 cities in South Korea^[\"Bukchuncheon\", \"Cheolwon\", \"Daegwanryeong\", \"Chuncheon\", \"Baeknyeongdo\", \"Bukgangneung\", \"Gangneung\", \"Seoul\", \"Incheon\", \"Wonju\",\n",
    "\"Ulleungdo\", \"Suwon\", \"Seosan\", \"Cheongju\", \"Daejeon\", \"Chupungryeong\", \"Andong\", \"Pohang\", \"Daegu\", \"Jeonju\", \"Changwon\",\n",
    "\"Gwangju\", \"Busan\", \"Mokpo\", \"Yeosu\", \"Heuksando\", \"Gochang\", \"Hongseong\", \"Jeju\", \"Gosan\", \"Jinju\", \"Gochang-gun\",\n",
    "Yeonggwang-gun, Gimhae-si, Sunchang-gun, Bukchang-won, Yangsan-si, Boseong-gun, Gangjin-gun, Uiryeong-gun, Hamyang-gun,\n",
    "\"Gwangyang-si\", \"Cheongsong-gun\", \"Gyeongju-si\"] for about four months from June 1, 2022 to September 15, 2022."
   ]
  },
  {
   "cell_type": "markdown",
   "id": "fdc5b90f-571b-4f9f-a460-8edac46eebce",
   "metadata": {},
   "source": [
    "| **수학기호** | **코드에 저장된 변수** | **자료형** | **차원** | **설명** |\n",
    "|--------------|----------------------|------------|----------|---------|\n",
    "|${\\cal V}$|`data_dict['node_ids']`|dict|44|44개의 노드에 대한 설명이 있음|\n",
    "|${\\cal E}$|`data_dict['edges']`|list(double list)|(1892, 2)|노드들에 대한 1892개의 연결을 정의함|\n",
    "|${\\mathbf f}$|`data_dict['FX']`|list(double list)|(2568,44)|$v \\in {\\cal V}$ for $v\\in{\\cal V}$and $t=1,\\dots,T$|"
   ]
  },
  {
   "cell_type": "markdown",
   "id": "31bc910e-424b-4640-a3b8-0f5a0c663a97",
   "metadata": {},
   "source": [
    "- ${\\bf f}=\\begin{bmatrix} {\\bf f}_1\\\\ {\\bf f}_2\\\\ \\dots \\\\ {\\bf f}_{2568} \\end{bmatrix}=\\begin{bmatrix} f(t=1,v=\\tt{북춘천}) & \\dots & f(t=1,v=\\tt{경주시}) \\\\ f(t=2,v=\\tt{북춘천}) & \\dots & f(t=2,v=\\tt{경주시}) \\\\ \\dots & \\dots & \\dots \\\\ f(t=2568,v=\\tt{북춘천}) & \\dots & f(t=2568,v=\\tt{경주시}) \\end{bmatrix}$"
   ]
  },
  {
   "cell_type": "markdown",
   "id": "b63a0ea1-754d-4920-a1b9-f5cc42845b6d",
   "metadata": {},
   "source": [
    "- no weights >> X\n",
    "- correlation by region\n",
    "- ept correlation"
   ]
  },
  {
   "cell_type": "markdown",
   "id": "202a511e-262a-42ce-8f77-4cf33abe3bed",
   "metadata": {},
   "source": [
    "`-` weights"
   ]
  },
  {
   "cell_type": "markdown",
   "id": "2897f73e-bb47-4dce-8f92-e487efc8b572",
   "metadata": {},
   "source": [
    "The standard time interval in dataset is set to 1 hour. \n",
    "In SOLAR, the adjacency matrix of the ??graph is computed based on the correlation coefficient among solar radiation observed in 44 cities, including Bukchunchueon, Cheolwon, etc.\n"
   ]
  },
  {
   "cell_type": "markdown",
   "id": "72cbc5d4-3ece-4010-b6cf-26ec8efa5942",
   "metadata": {},
   "source": [
    "- $(t, X_t)$ : observation at time step $t$.\n",
    "- $\\cal\\gamma$: scale factor\n",
    "- $U_t^\\tau(X_t)$: upper envelope of ensemble path transform for size parameter $\\tau$"
   ]
  },
  {
   "cell_type": "markdown",
   "id": "102ff384-f262-473a-9248-d73daa904fc8",
   "metadata": {},
   "source": [
    "$U_t^\\tau(X_t) = \\underset{k\\in[-\\tau/2, \\tau/2]}{\\max}\\{X_{t+k}\\}-0.5\\cal \\gamma \\tau$"
   ]
  },
  {
   "cell_type": "markdown",
   "id": "c819bfd9-5286-4eed-b23d-9bb2ef8c5344",
   "metadata": {},
   "source": [
    "The weighted adjacency matrix $W$ can be formed as,"
   ]
  },
  {
   "cell_type": "markdown",
   "id": "6b91f2cb-274b-42c4-b7fe-172ae9321a37",
   "metadata": {},
   "source": [
    "$w_{ij} = \\begin{cases}  \\\\ 0 & ,\\text{otherwise}\\end{cases}$"
   ]
  },
  {
   "cell_type": "markdown",
   "id": "06d4a04b-9667-41b0-a050-0b101d3772e2",
   "metadata": {},
   "source": [
    "where $w_{ij}$ is the weight of edge which is decided by ept correlation (the ept correlation between 44 cities)"
   ]
  },
  {
   "cell_type": "markdown",
   "id": "aac9ddc0-5b16-4663-8b56-f8a1ffd9390c",
   "metadata": {},
   "source": [
    "**correlation by region**"
   ]
  },
  {
   "cell_type": "markdown",
   "id": "03b28b4c-48fb-4a61-8f1e-37091a4bfc74",
   "metadata": {},
   "source": [
    "Hourly solar radiation of observatories from South Korean  for 4 months. Vertices represent 44 cities and the weighted edges represent the strength of the relationship. The target variable allows regression operations. (The weight is the correlation coefficient of solar radiation by region.)"
   ]
  },
  {
   "cell_type": "markdown",
   "id": "e58a79da-e1fa-41ef-985f-bf1080bddb3f",
   "metadata": {},
   "source": [
    "**ept correlation**"
   ]
  },
  {
   "cell_type": "markdown",
   "id": "32e13be9-6845-4c7c-b8c4-c5510232aa68",
   "metadata": {},
   "source": [
    "Hourly solar radiation of observatories from South Korean  for 4 months. Vertices represent 44 cities and the weighted edges represent the strength of the relationship. The target variable allows regression operations. The weight is the EPT correlation coefficient of solar radiation by region"
   ]
  },
  {
   "cell_type": "markdown",
   "id": "113fdb2e-52ef-4528-a03b-9971465f0a48",
   "metadata": {},
   "source": [
    "### 10 iter rslt"
   ]
  },
  {
   "cell_type": "code",
   "execution_count": 2,
   "id": "5b3db12c-a81f-49e0-bca2-5645c06c23dd",
   "metadata": {},
   "outputs": [],
   "source": [
    "import pandas as pd\n",
    "import numpy as np"
   ]
  },
  {
   "cell_type": "code",
   "execution_count": 9,
   "id": "331f77be-7710-4423-b0c2-4dabf4227d89",
   "metadata": {},
   "outputs": [],
   "source": [
    "v1_50 = pd.read_csv('./simulation_results/A/stgcn/50.csv')\n",
    "v1_100 = pd.read_csv('./simulation_results/A/stgcn/100.csv')\n",
    "v1_150 = pd.read_csv('./simulation_results/A/stgcn/150.csv')"
   ]
  },
  {
   "cell_type": "code",
   "execution_count": 10,
   "id": "e30a13b0-9e57-47bb-aa71-66a536cba12b",
   "metadata": {},
   "outputs": [
    {
     "data": {
      "text/html": [
       "<div>\n",
       "<style scoped>\n",
       "    .dataframe tbody tr th:only-of-type {\n",
       "        vertical-align: middle;\n",
       "    }\n",
       "\n",
       "    .dataframe tbody tr th {\n",
       "        vertical-align: top;\n",
       "    }\n",
       "\n",
       "    .dataframe thead th {\n",
       "        text-align: right;\n",
       "    }\n",
       "</style>\n",
       "<table border=\"1\" class=\"dataframe\">\n",
       "  <thead>\n",
       "    <tr style=\"text-align: right;\">\n",
       "      <th></th>\n",
       "      <th>dataset</th>\n",
       "      <th>method</th>\n",
       "      <th>normal</th>\n",
       "      <th>lags</th>\n",
       "      <th>nof_filters</th>\n",
       "      <th>epoch</th>\n",
       "      <th>mse(train)</th>\n",
       "      <th>mse(test)</th>\n",
       "      <th>calculation_time</th>\n",
       "    </tr>\n",
       "  </thead>\n",
       "  <tbody>\n",
       "    <tr>\n",
       "      <th>0</th>\n",
       "      <td>data2</td>\n",
       "      <td>STGCN</td>\n",
       "      <td>X</td>\n",
       "      <td>4</td>\n",
       "      <td>16</td>\n",
       "      <td>50</td>\n",
       "      <td>0.184666</td>\n",
       "      <td>0.168772</td>\n",
       "      <td>298.709778</td>\n",
       "    </tr>\n",
       "    <tr>\n",
       "      <th>1</th>\n",
       "      <td>data2</td>\n",
       "      <td>STGCN</td>\n",
       "      <td>X</td>\n",
       "      <td>4</td>\n",
       "      <td>32</td>\n",
       "      <td>50</td>\n",
       "      <td>0.184967</td>\n",
       "      <td>0.170560</td>\n",
       "      <td>302.935171</td>\n",
       "    </tr>\n",
       "    <tr>\n",
       "      <th>2</th>\n",
       "      <td>data2</td>\n",
       "      <td>STGCN</td>\n",
       "      <td>X</td>\n",
       "      <td>4</td>\n",
       "      <td>64</td>\n",
       "      <td>50</td>\n",
       "      <td>0.183801</td>\n",
       "      <td>0.169246</td>\n",
       "      <td>315.828636</td>\n",
       "    </tr>\n",
       "    <tr>\n",
       "      <th>3</th>\n",
       "      <td>data2</td>\n",
       "      <td>STGCN</td>\n",
       "      <td>X</td>\n",
       "      <td>8</td>\n",
       "      <td>16</td>\n",
       "      <td>50</td>\n",
       "      <td>0.189229</td>\n",
       "      <td>0.165215</td>\n",
       "      <td>309.634520</td>\n",
       "    </tr>\n",
       "    <tr>\n",
       "      <th>4</th>\n",
       "      <td>data2</td>\n",
       "      <td>STGCN</td>\n",
       "      <td>X</td>\n",
       "      <td>8</td>\n",
       "      <td>32</td>\n",
       "      <td>50</td>\n",
       "      <td>0.193490</td>\n",
       "      <td>0.167097</td>\n",
       "      <td>311.973553</td>\n",
       "    </tr>\n",
       "    <tr>\n",
       "      <th>...</th>\n",
       "      <td>...</td>\n",
       "      <td>...</td>\n",
       "      <td>...</td>\n",
       "      <td>...</td>\n",
       "      <td>...</td>\n",
       "      <td>...</td>\n",
       "      <td>...</td>\n",
       "      <td>...</td>\n",
       "      <td>...</td>\n",
       "    </tr>\n",
       "    <tr>\n",
       "      <th>115</th>\n",
       "      <td>data2</td>\n",
       "      <td>STGCN</td>\n",
       "      <td>X</td>\n",
       "      <td>12</td>\n",
       "      <td>32</td>\n",
       "      <td>150</td>\n",
       "      <td>0.201391</td>\n",
       "      <td>0.177662</td>\n",
       "      <td>1306.056505</td>\n",
       "    </tr>\n",
       "    <tr>\n",
       "      <th>116</th>\n",
       "      <td>data2</td>\n",
       "      <td>STGCN</td>\n",
       "      <td>X</td>\n",
       "      <td>12</td>\n",
       "      <td>64</td>\n",
       "      <td>150</td>\n",
       "      <td>0.188375</td>\n",
       "      <td>0.165186</td>\n",
       "      <td>1348.935959</td>\n",
       "    </tr>\n",
       "    <tr>\n",
       "      <th>117</th>\n",
       "      <td>data2</td>\n",
       "      <td>STGCN</td>\n",
       "      <td>X</td>\n",
       "      <td>24</td>\n",
       "      <td>16</td>\n",
       "      <td>150</td>\n",
       "      <td>0.225323</td>\n",
       "      <td>0.195045</td>\n",
       "      <td>1199.328551</td>\n",
       "    </tr>\n",
       "    <tr>\n",
       "      <th>118</th>\n",
       "      <td>data2</td>\n",
       "      <td>STGCN</td>\n",
       "      <td>X</td>\n",
       "      <td>24</td>\n",
       "      <td>32</td>\n",
       "      <td>150</td>\n",
       "      <td>0.217955</td>\n",
       "      <td>0.194223</td>\n",
       "      <td>1223.021271</td>\n",
       "    </tr>\n",
       "    <tr>\n",
       "      <th>119</th>\n",
       "      <td>data2</td>\n",
       "      <td>STGCN</td>\n",
       "      <td>X</td>\n",
       "      <td>24</td>\n",
       "      <td>64</td>\n",
       "      <td>150</td>\n",
       "      <td>0.227995</td>\n",
       "      <td>0.206702</td>\n",
       "      <td>1302.931912</td>\n",
       "    </tr>\n",
       "  </tbody>\n",
       "</table>\n",
       "<p>360 rows × 9 columns</p>\n",
       "</div>"
      ],
      "text/plain": [
       "    dataset method normal  lags  nof_filters  epoch  mse(train)  mse(test)  \\\n",
       "0     data2  STGCN      X     4           16     50    0.184666   0.168772   \n",
       "1     data2  STGCN      X     4           32     50    0.184967   0.170560   \n",
       "2     data2  STGCN      X     4           64     50    0.183801   0.169246   \n",
       "3     data2  STGCN      X     8           16     50    0.189229   0.165215   \n",
       "4     data2  STGCN      X     8           32     50    0.193490   0.167097   \n",
       "..      ...    ...    ...   ...          ...    ...         ...        ...   \n",
       "115   data2  STGCN      X    12           32    150    0.201391   0.177662   \n",
       "116   data2  STGCN      X    12           64    150    0.188375   0.165186   \n",
       "117   data2  STGCN      X    24           16    150    0.225323   0.195045   \n",
       "118   data2  STGCN      X    24           32    150    0.217955   0.194223   \n",
       "119   data2  STGCN      X    24           64    150    0.227995   0.206702   \n",
       "\n",
       "     calculation_time  \n",
       "0          298.709778  \n",
       "1          302.935171  \n",
       "2          315.828636  \n",
       "3          309.634520  \n",
       "4          311.973553  \n",
       "..                ...  \n",
       "115       1306.056505  \n",
       "116       1348.935959  \n",
       "117       1199.328551  \n",
       "118       1223.021271  \n",
       "119       1302.931912  \n",
       "\n",
       "[360 rows x 9 columns]"
      ]
     },
     "execution_count": 10,
     "metadata": {},
     "output_type": "execute_result"
    }
   ],
   "source": [
    "v1 = pd.concat([v1_50, v1_100, v1_150])\n",
    "v1"
   ]
  },
  {
   "cell_type": "code",
   "execution_count": 7,
   "id": "26dd337e-4dce-43f7-a39c-7b7effec8351",
   "metadata": {},
   "outputs": [],
   "source": [
    "v2_50 = pd.read_csv('./simulation_results/A/eptstgcn/50.csv')\n",
    "v2_100 = pd.read_csv('./simulation_results/A/eptstgcn/100.csv')\n",
    "v2_150 = pd.read_csv('./simulation_results/A/eptstgcn/150.csv')"
   ]
  },
  {
   "cell_type": "code",
   "execution_count": 8,
   "id": "e26ac1c1-b218-4a0b-8cbd-d5e10cf4d1bf",
   "metadata": {},
   "outputs": [
    {
     "data": {
      "text/html": [
       "<div>\n",
       "<style scoped>\n",
       "    .dataframe tbody tr th:only-of-type {\n",
       "        vertical-align: middle;\n",
       "    }\n",
       "\n",
       "    .dataframe tbody tr th {\n",
       "        vertical-align: top;\n",
       "    }\n",
       "\n",
       "    .dataframe thead th {\n",
       "        text-align: right;\n",
       "    }\n",
       "</style>\n",
       "<table border=\"1\" class=\"dataframe\">\n",
       "  <thead>\n",
       "    <tr style=\"text-align: right;\">\n",
       "      <th></th>\n",
       "      <th>dataset</th>\n",
       "      <th>method</th>\n",
       "      <th>normal</th>\n",
       "      <th>lags</th>\n",
       "      <th>nof_filters</th>\n",
       "      <th>epoch</th>\n",
       "      <th>mse(train)</th>\n",
       "      <th>mse(test)</th>\n",
       "      <th>calculation_time</th>\n",
       "    </tr>\n",
       "  </thead>\n",
       "  <tbody>\n",
       "    <tr>\n",
       "      <th>0</th>\n",
       "      <td>data2</td>\n",
       "      <td>EPT-STGCN</td>\n",
       "      <td>NaN</td>\n",
       "      <td>4</td>\n",
       "      <td>16</td>\n",
       "      <td>50</td>\n",
       "      <td>0.192152</td>\n",
       "      <td>0.173403</td>\n",
       "      <td>430.805053</td>\n",
       "    </tr>\n",
       "    <tr>\n",
       "      <th>1</th>\n",
       "      <td>data2</td>\n",
       "      <td>EPT-STGCN</td>\n",
       "      <td>NaN</td>\n",
       "      <td>4</td>\n",
       "      <td>32</td>\n",
       "      <td>50</td>\n",
       "      <td>0.184834</td>\n",
       "      <td>0.166629</td>\n",
       "      <td>553.995057</td>\n",
       "    </tr>\n",
       "    <tr>\n",
       "      <th>2</th>\n",
       "      <td>data2</td>\n",
       "      <td>EPT-STGCN</td>\n",
       "      <td>NaN</td>\n",
       "      <td>4</td>\n",
       "      <td>64</td>\n",
       "      <td>50</td>\n",
       "      <td>0.186183</td>\n",
       "      <td>0.169907</td>\n",
       "      <td>568.342531</td>\n",
       "    </tr>\n",
       "    <tr>\n",
       "      <th>3</th>\n",
       "      <td>data2</td>\n",
       "      <td>EPT-STGCN</td>\n",
       "      <td>NaN</td>\n",
       "      <td>8</td>\n",
       "      <td>16</td>\n",
       "      <td>50</td>\n",
       "      <td>0.200127</td>\n",
       "      <td>0.171658</td>\n",
       "      <td>484.037182</td>\n",
       "    </tr>\n",
       "    <tr>\n",
       "      <th>4</th>\n",
       "      <td>data2</td>\n",
       "      <td>EPT-STGCN</td>\n",
       "      <td>NaN</td>\n",
       "      <td>8</td>\n",
       "      <td>32</td>\n",
       "      <td>50</td>\n",
       "      <td>0.203025</td>\n",
       "      <td>0.173270</td>\n",
       "      <td>416.375737</td>\n",
       "    </tr>\n",
       "    <tr>\n",
       "      <th>...</th>\n",
       "      <td>...</td>\n",
       "      <td>...</td>\n",
       "      <td>...</td>\n",
       "      <td>...</td>\n",
       "      <td>...</td>\n",
       "      <td>...</td>\n",
       "      <td>...</td>\n",
       "      <td>...</td>\n",
       "      <td>...</td>\n",
       "    </tr>\n",
       "    <tr>\n",
       "      <th>115</th>\n",
       "      <td>data2</td>\n",
       "      <td>EPT-STGCN</td>\n",
       "      <td>NaN</td>\n",
       "      <td>12</td>\n",
       "      <td>32</td>\n",
       "      <td>150</td>\n",
       "      <td>0.196776</td>\n",
       "      <td>0.173983</td>\n",
       "      <td>1290.014739</td>\n",
       "    </tr>\n",
       "    <tr>\n",
       "      <th>116</th>\n",
       "      <td>data2</td>\n",
       "      <td>EPT-STGCN</td>\n",
       "      <td>NaN</td>\n",
       "      <td>12</td>\n",
       "      <td>64</td>\n",
       "      <td>150</td>\n",
       "      <td>0.197882</td>\n",
       "      <td>0.170004</td>\n",
       "      <td>1347.436289</td>\n",
       "    </tr>\n",
       "    <tr>\n",
       "      <th>117</th>\n",
       "      <td>data2</td>\n",
       "      <td>EPT-STGCN</td>\n",
       "      <td>NaN</td>\n",
       "      <td>24</td>\n",
       "      <td>16</td>\n",
       "      <td>150</td>\n",
       "      <td>0.222497</td>\n",
       "      <td>0.188107</td>\n",
       "      <td>1199.523731</td>\n",
       "    </tr>\n",
       "    <tr>\n",
       "      <th>118</th>\n",
       "      <td>data2</td>\n",
       "      <td>EPT-STGCN</td>\n",
       "      <td>NaN</td>\n",
       "      <td>24</td>\n",
       "      <td>32</td>\n",
       "      <td>150</td>\n",
       "      <td>0.255760</td>\n",
       "      <td>0.204602</td>\n",
       "      <td>1231.037348</td>\n",
       "    </tr>\n",
       "    <tr>\n",
       "      <th>119</th>\n",
       "      <td>data2</td>\n",
       "      <td>EPT-STGCN</td>\n",
       "      <td>NaN</td>\n",
       "      <td>24</td>\n",
       "      <td>64</td>\n",
       "      <td>150</td>\n",
       "      <td>0.222175</td>\n",
       "      <td>0.188326</td>\n",
       "      <td>1288.791447</td>\n",
       "    </tr>\n",
       "  </tbody>\n",
       "</table>\n",
       "<p>360 rows × 9 columns</p>\n",
       "</div>"
      ],
      "text/plain": [
       "    dataset     method  normal  lags  nof_filters  epoch  mse(train)  \\\n",
       "0     data2  EPT-STGCN     NaN     4           16     50    0.192152   \n",
       "1     data2  EPT-STGCN     NaN     4           32     50    0.184834   \n",
       "2     data2  EPT-STGCN     NaN     4           64     50    0.186183   \n",
       "3     data2  EPT-STGCN     NaN     8           16     50    0.200127   \n",
       "4     data2  EPT-STGCN     NaN     8           32     50    0.203025   \n",
       "..      ...        ...     ...   ...          ...    ...         ...   \n",
       "115   data2  EPT-STGCN     NaN    12           32    150    0.196776   \n",
       "116   data2  EPT-STGCN     NaN    12           64    150    0.197882   \n",
       "117   data2  EPT-STGCN     NaN    24           16    150    0.222497   \n",
       "118   data2  EPT-STGCN     NaN    24           32    150    0.255760   \n",
       "119   data2  EPT-STGCN     NaN    24           64    150    0.222175   \n",
       "\n",
       "     mse(test)  calculation_time  \n",
       "0     0.173403        430.805053  \n",
       "1     0.166629        553.995057  \n",
       "2     0.169907        568.342531  \n",
       "3     0.171658        484.037182  \n",
       "4     0.173270        416.375737  \n",
       "..         ...               ...  \n",
       "115   0.173983       1290.014739  \n",
       "116   0.170004       1347.436289  \n",
       "117   0.188107       1199.523731  \n",
       "118   0.204602       1231.037348  \n",
       "119   0.188326       1288.791447  \n",
       "\n",
       "[360 rows x 9 columns]"
      ]
     },
     "execution_count": 8,
     "metadata": {},
     "output_type": "execute_result"
    }
   ],
   "source": [
    "v2 = pd.concat([v2_50, v2_100, v2_150])\n",
    "v2"
   ]
  }
 ],
 "metadata": {
  "kernelspec": {
   "display_name": "Python 3",
   "language": "python",
   "name": "python3"
  },
  "language_info": {
   "codemirror_mode": {
    "name": "ipython",
    "version": 3
   },
   "file_extension": ".py",
   "mimetype": "text/x-python",
   "name": "python",
   "nbconvert_exporter": "python",
   "pygments_lexer": "ipython3",
   "version": "3.8.16"
  }
 },
 "nbformat": 4,
 "nbformat_minor": 5
}
