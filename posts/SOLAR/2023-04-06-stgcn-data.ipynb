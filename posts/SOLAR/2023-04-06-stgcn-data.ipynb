{
 "cells": [
  {
   "cell_type": "raw",
   "id": "66b948bd-3e87-4c52-84e4-c0263b3753e0",
   "metadata": {},
   "source": [
    "---\n",
    "title: \"**[SOLAR]** STGCN Data\"\n",
    "author: \"JiyunLim\"\n",
    "date: \"04/06/2023\"\n",
    "categories:\n",
    "  - SOLAR\n",
    "  - Data\n",
    "---"
   ]
  },
  {
   "cell_type": "markdown",
   "id": "6fb0e3b4-e754-4563-9f1a-0df805308bd8",
   "metadata": {},
   "source": [
    "## ref : [***STGCN튜토리얼***](https://miruetoto.github.io/yechan3/posts/3_Researches/ITSTGCN/2022-12-29-STGCN-tutorial.html)"
   ]
  },
  {
   "cell_type": "code",
   "execution_count": 1,
   "id": "cf7c6255-5cc4-44fa-8ab1-bd08e26acb20",
   "metadata": {},
   "outputs": [],
   "source": [
    "# !pip install torch-geometric\n",
    "# !pip install torch-geometric-temporal"
   ]
  },
  {
   "cell_type": "markdown",
   "id": "963f289c-efb4-4bb1-a378-668d3de3304d",
   "metadata": {},
   "source": [
    "## import"
   ]
  },
  {
   "cell_type": "markdown",
   "id": "f35fd729-50bd-4abd-bb6b-2b963f852552",
   "metadata": {},
   "source": [
    "`-` 필요한 패키지 임포트"
   ]
  },
  {
   "cell_type": "code",
   "execution_count": 2,
   "id": "f9809faf-4cc2-4efd-b6b2-b16b75c231c1",
   "metadata": {},
   "outputs": [],
   "source": [
    "# 일반적인 모듈 \n",
    "import numpy as np\n",
    "import matplotlib.pyplot as plt \n",
    "import networkx as nx \n",
    "from tqdm import tqdm \n",
    "\n",
    "# 파이토치 관련 \n",
    "import torch\n",
    "import torch.nn.functional as F\n",
    "\n",
    "# PyG 관련 \n",
    "from torch_geometric.data import Data\n",
    "\n",
    "# STGCN 관련 \n",
    "import torch_geometric_temporal\n",
    "from torch_geometric_temporal.nn.recurrent import GConvGRU\n",
    "from torch_geometric_temporal.signal import temporal_signal_split "
   ]
  },
  {
   "cell_type": "markdown",
   "id": "87ec5fb6-0e4c-4701-9c35-98673905cfec",
   "metadata": {},
   "source": [
    "- `tqdm`: for문의 진행상태를 확인하기 위한 패키지\n",
    "- `networkx`: 그래프 시그널 시각화를 위한 모듈\n",
    "- `torch` : 파이토치 (STGCN은 파이토치 기반으로 만들어짐) 모듈\n",
    "- `torch.nn.functional`: relu 등의 활성화함수를 불러오기 위한 모듈\n",
    "- `Data` : 그래프 자료를 만들기 위한 클래스\n",
    "- `GConvGRU` : STGCN layer를 만드는 클래스\n",
    "- `temporal_signal_split` : STGCN dataset을 train/test 형태로 분리하는 기능이 있는 \"함수\""
   ]
  },
  {
   "cell_type": "markdown",
   "id": "4cbe048a-4a7d-463f-a63d-6a9988922759",
   "metadata": {},
   "source": [
    "`-` STGCN 학습을 위한 클래스 선언"
   ]
  },
  {
   "cell_type": "code",
   "execution_count": 3,
   "id": "13e05110-bd7c-44f4-98c6-b817981c2988",
   "metadata": {},
   "outputs": [],
   "source": [
    "class RecurrentGCN(torch.nn.Module):\n",
    "    def __init__(self, node_features, filters):\n",
    "        super(RecurrentGCN, self).__init__()\n",
    "        self.recurrent = GConvGRU(node_features, filters, 2)\n",
    "        self.linear = torch.nn.Linear(filters, 1)\n",
    "\n",
    "    def forward(self, x, edge_index, edge_weight):\n",
    "        h = self.recurrent(x, edge_index, edge_weight)\n",
    "        h = F.relu(h)\n",
    "        h = self.linear(h)\n",
    "        return h"
   ]
  },
  {
   "cell_type": "markdown",
   "id": "2683f996-eb28-4d1b-8805-324b45bdea75",
   "metadata": {},
   "source": [
    "## 데이터셋 만들기"
   ]
  },
  {
   "cell_type": "code",
   "execution_count": null,
   "id": "f50f90dd-b847-4ced-b3d2-9c8fefaf4117",
   "metadata": {},
   "outputs": [],
   "source": []
  },
  {
   "cell_type": "markdown",
   "id": "37f0c246-2b1b-46e0-aa18-487a276d30ff",
   "metadata": {},
   "source": [
    "### `node id` > edges > weight > feature"
   ]
  },
  {
   "cell_type": "markdown",
   "id": "dbd3bbad-91d5-4145-9dff-88e7425c68b9",
   "metadata": {},
   "source": [
    "- ${\\bf f}=\\begin{bmatrix} {\\bf f}_1\\\\ {\\bf f}_2\\\\ \\dots \\\\ {\\bf f}_{521} \\end{bmatrix}=\\begin{bmatrix} f(t=1,v=\\tt{BACS}) & \\dots & f(t=1,v=\\tt{ZALA}) \\\\ f(t=2,v=\\tt{BACS}) & \\dots & f(t=2,v=\\tt{ZALA}) \\\\ \\dots & \\dots & \\dots \\\\ f(t=521,v=\\tt{BACS}) & \\dots & f(t=521,v=\\tt{ZALA}) \\end{bmatrix}$"
   ]
  },
  {
   "cell_type": "code",
   "execution_count": null,
   "id": "1b3c45dc-9ce2-4ebb-8be5-73f0a4aacea5",
   "metadata": {},
   "outputs": [],
   "source": []
  }
 ],
 "metadata": {
  "kernelspec": {
   "display_name": "Python 3",
   "language": "python",
   "name": "python3"
  },
  "language_info": {
   "codemirror_mode": {
    "name": "ipython",
    "version": 3
   },
   "file_extension": ".py",
   "mimetype": "text/x-python",
   "name": "python",
   "nbconvert_exporter": "python",
   "pygments_lexer": "ipython3",
   "version": "3.8.16"
  }
 },
 "nbformat": 4,
 "nbformat_minor": 5
}
