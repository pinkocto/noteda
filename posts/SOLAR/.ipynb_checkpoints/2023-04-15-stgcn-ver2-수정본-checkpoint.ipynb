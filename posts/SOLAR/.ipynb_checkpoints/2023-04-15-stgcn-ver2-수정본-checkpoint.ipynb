{
 "cells": [
  {
   "cell_type": "raw",
   "id": "cf4a5937-6946-43b0-99b9-73cb93bbacba",
   "metadata": {},
   "source": [
    "---\n",
    "title: \" **[SOLAR]** STGCN Ver2 수정본 (MSE: 0.1635)\"\n",
    "author: \"jiyunLim\"\n",
    "date: \"04/15/2023\"\n",
    "categories:\n",
    "  - Research\n",
    "  - STGCN\n",
    "  - SOLAR\n",
    "---"
   ]
  },
  {
   "cell_type": "markdown",
   "id": "3bc8bd68-9be0-403b-ad55-b2c793f8f0a7",
   "metadata": {},
   "source": [
    "## import"
   ]
  },
  {
   "cell_type": "code",
   "execution_count": 1,
   "id": "49174b3e-5f60-44cf-9994-8206cbac1b47",
   "metadata": {},
   "outputs": [],
   "source": [
    "import pandas as pd\n",
    "import numpy as np\n",
    "import json\n",
    "import urllib\n",
    "import time"
   ]
  },
  {
   "cell_type": "code",
   "execution_count": 2,
   "id": "cef9dea1-962c-4c8c-80f4-8d84fa6420fc",
   "metadata": {},
   "outputs": [],
   "source": [
    "# 일반적인 모듈 \n",
    "import numpy as np\n",
    "import matplotlib.pyplot as plt \n",
    "import networkx as nx \n",
    "from tqdm import tqdm \n",
    "\n",
    "# 파이토치 관련 \n",
    "import torch\n",
    "import torch.nn.functional as F\n",
    "\n",
    "# PyG 관련 \n",
    "from torch_geometric.data import Data ## Data: 그래프자료형을 만드는 클래스\n",
    "\n",
    "# STGCN 관련 \n",
    "import torch_geometric_temporal\n",
    "from torch_geometric_temporal.nn.recurrent import GConvGRU\n",
    "from torch_geometric_temporal.signal import temporal_signal_split "
   ]
  },
  {
   "cell_type": "code",
   "execution_count": 3,
   "id": "0dca1961-c8cc-4304-9926-fd7a014cca6a",
   "metadata": {},
   "outputs": [],
   "source": [
    "class RecurrentGCN(torch.nn.Module):\n",
    "    def __init__(self, node_features, filters):\n",
    "        super(RecurrentGCN, self).__init__()\n",
    "        self.recurrent = GConvGRU(node_features, filters, 2)\n",
    "        self.linear = torch.nn.Linear(filters, 1)\n",
    "\n",
    "    def forward(self, x, edge_index, edge_weight):\n",
    "        h = self.recurrent(x, edge_index, edge_weight)\n",
    "        h = F.relu(h)\n",
    "        h = self.linear(h)\n",
    "        return h"
   ]
  },
  {
   "cell_type": "code",
   "execution_count": 4,
   "id": "61d16c46-6915-4103-820e-4be2f5d3b75e",
   "metadata": {},
   "outputs": [],
   "source": [
    "from mysolar import SolarEPTDatasetLoader"
   ]
  },
  {
   "cell_type": "code",
   "execution_count": 5,
   "id": "ed5b5e7e-8477-492b-b8b4-12cebc01f4e3",
   "metadata": {},
   "outputs": [],
   "source": [
    "loader = SolarEPTDatasetLoader()\n",
    "dataset = loader.get_dataset(lags=4)\n",
    "train_dataset, test_dataset = temporal_signal_split(dataset, train_ratio=0.7)"
   ]
  },
  {
   "cell_type": "code",
   "execution_count": 7,
   "id": "8914bd44-0f9f-408e-bfa7-78dabbd5f295",
   "metadata": {},
   "outputs": [
    {
     "name": "stdout",
     "output_type": "stream",
     "text": [
      "(1794, 44)\n",
      "(770, 44)\n"
     ]
    }
   ],
   "source": [
    "print(np.array(train_dataset.targets).shape)\n",
    "print(np.array(test_dataset.targets).shape)"
   ]
  },
  {
   "cell_type": "markdown",
   "id": "3d0da962-7e6d-4c77-884a-1b56a78a9f88",
   "metadata": {},
   "source": [
    "## Learn"
   ]
  },
  {
   "cell_type": "code",
   "execution_count": 8,
   "id": "cdead78f-9744-48d9-96ef-05529e9c634c",
   "metadata": {},
   "outputs": [
    {
     "data": {
      "text/plain": [
       "RecurrentGCN(\n",
       "  (recurrent): GConvGRU(\n",
       "    (conv_x_z): ChebConv(4, 32, K=2, normalization=sym)\n",
       "    (conv_h_z): ChebConv(32, 32, K=2, normalization=sym)\n",
       "    (conv_x_r): ChebConv(4, 32, K=2, normalization=sym)\n",
       "    (conv_h_r): ChebConv(32, 32, K=2, normalization=sym)\n",
       "    (conv_x_h): ChebConv(4, 32, K=2, normalization=sym)\n",
       "    (conv_h_h): ChebConv(32, 32, K=2, normalization=sym)\n",
       "  )\n",
       "  (linear): Linear(in_features=32, out_features=1, bias=True)\n",
       ")"
      ]
     },
     "execution_count": 8,
     "metadata": {},
     "output_type": "execute_result"
    }
   ],
   "source": [
    "model = RecurrentGCN(node_features=4, filters=32)\n",
    "optimizer = torch.optim.Adam(model.parameters(), lr=0.01)\n",
    "model.train()"
   ]
  },
  {
   "cell_type": "code",
   "execution_count": 9,
   "id": "d9b96229-656e-4780-aa22-5b3d6e761a86",
   "metadata": {},
   "outputs": [
    {
     "name": "stderr",
     "output_type": "stream",
     "text": [
      "100%|██████████| 50/50 [06:14<00:00,  7.48s/it]"
     ]
    },
    {
     "name": "stdout",
     "output_type": "stream",
     "text": [
      "374.15209 sec\n"
     ]
    },
    {
     "name": "stderr",
     "output_type": "stream",
     "text": [
      "\n"
     ]
    }
   ],
   "source": [
    "start = time.time()\n",
    "for epoch in tqdm(range(50)):\n",
    "    for t, snapshot in enumerate(train_dataset):\n",
    "        yt_hat = model(snapshot.x, snapshot.edge_index, snapshot.edge_attr)\n",
    "        cost = torch.mean((yt_hat-snapshot.y)**2)\n",
    "        cost.backward()\n",
    "        optimizer.step()\n",
    "        optimizer.zero_grad()\n",
    "end = time.time()\n",
    "print(f\"{end-start:.5f} sec\")"
   ]
  },
  {
   "cell_type": "code",
   "execution_count": 26,
   "id": "2f5b7e46-144f-42f0-b98d-44bfd5b60550",
   "metadata": {},
   "outputs": [
    {
     "name": "stdout",
     "output_type": "stream",
     "text": [
      "5.871858333333334 분\n"
     ]
    }
   ],
   "source": [
    "print(352.31150/60, '분')"
   ]
  },
  {
   "cell_type": "code",
   "execution_count": 13,
   "id": "c741604a-d1f6-4931-91b8-4261bdcf413a",
   "metadata": {},
   "outputs": [],
   "source": [
    "import pickle \n",
    "with open('./model2/stgcn2_lag4_new.pickle','wb') as fw:\n",
    "    pickle.dump(model, fw)"
   ]
  },
  {
   "cell_type": "code",
   "execution_count": 14,
   "id": "302ca05c-849f-4e15-9137-04cb2b12b11c",
   "metadata": {},
   "outputs": [],
   "source": [
    "import pickle \n",
    "with open('./model2/stgcn2_lag4_new.pickle', 'rb') as f: \n",
    "    model = pickle.load(f)"
   ]
  },
  {
   "cell_type": "code",
   "execution_count": 15,
   "id": "50b96e42-73bd-41f5-9a9f-86d99ea6547e",
   "metadata": {},
   "outputs": [
    {
     "data": {
      "text/plain": [
       "RecurrentGCN(\n",
       "  (recurrent): GConvGRU(\n",
       "    (conv_x_z): ChebConv(4, 32, K=2, normalization=sym)\n",
       "    (conv_h_z): ChebConv(32, 32, K=2, normalization=sym)\n",
       "    (conv_x_r): ChebConv(4, 32, K=2, normalization=sym)\n",
       "    (conv_h_r): ChebConv(32, 32, K=2, normalization=sym)\n",
       "    (conv_x_h): ChebConv(4, 32, K=2, normalization=sym)\n",
       "    (conv_h_h): ChebConv(32, 32, K=2, normalization=sym)\n",
       "  )\n",
       "  (linear): Linear(in_features=32, out_features=1, bias=True)\n",
       ")"
      ]
     },
     "execution_count": 15,
     "metadata": {},
     "output_type": "execute_result"
    }
   ],
   "source": [
    "model"
   ]
  },
  {
   "cell_type": "markdown",
   "id": "8c2ff442-3b52-419a-b341-8dafb6278c29",
   "metadata": {},
   "source": [
    "## 모델평가"
   ]
  },
  {
   "cell_type": "markdown",
   "id": "94de4af7-2425-44c6-80fc-12dbb8dc42e3",
   "metadata": {},
   "source": [
    "`-` train"
   ]
  },
  {
   "cell_type": "markdown",
   "id": "d623b9d6-28dd-4ef6-842d-029672787381",
   "metadata": {},
   "source": [
    "- STGCN Ver1  $\\to$ `MSE`: 0.2102\n",
    "\n",
    "- STGCN Ver2 (70) $\\to$ `MSE`: 0.2181\n",
    "\n",
    "- STGCN Ver2 (90) $\\to$ `MSE` : 0.2639"
   ]
  },
  {
   "cell_type": "code",
   "execution_count": 16,
   "id": "4d2327a6-5ace-4ed6-8bd7-1654bbecf88b",
   "metadata": {},
   "outputs": [
    {
     "name": "stdout",
     "output_type": "stream",
     "text": [
      "MSE: 0.2161\n"
     ]
    }
   ],
   "source": [
    "model.eval()\n",
    "cost = 0\n",
    "for time, snapshot in enumerate(train_dataset):\n",
    "    y_hat = model(snapshot.x, snapshot.edge_index, snapshot.edge_attr)\n",
    "    cost = cost + torch.mean((y_hat-snapshot.y)**2)\n",
    "cost = cost / (time+1)\n",
    "cost = cost.item()\n",
    "print(\"MSE: {:.4f}\".format(cost))"
   ]
  },
  {
   "cell_type": "markdown",
   "id": "3b74092d-6e58-4148-8490-d14ef3391f3e",
   "metadata": {},
   "source": [
    "`-` test"
   ]
  },
  {
   "cell_type": "markdown",
   "id": "ee0d578b-648c-4225-83b6-18a83981a0f1",
   "metadata": {},
   "source": [
    "- STGCN Ver1 $\\to$ `MSE` : 0.1899\n",
    "- STGCN Ver2 (70) $\\to$ `MSE` : 0.2019\n",
    "- STGCN Ver2 (90) $\\to$ `MSE` : 0.1635"
   ]
  },
  {
   "cell_type": "code",
   "execution_count": 17,
   "id": "02bb2088-eab7-4d50-98a0-7a5e929e3de5",
   "metadata": {},
   "outputs": [
    {
     "name": "stdout",
     "output_type": "stream",
     "text": [
      "MSE: 0.2000\n"
     ]
    }
   ],
   "source": [
    "model.eval()\n",
    "cost = 0\n",
    "for time, snapshot in enumerate(test_dataset):\n",
    "    y_hat = model(snapshot.x, snapshot.edge_index, snapshot.edge_attr)\n",
    "    cost = cost + torch.mean((y_hat-snapshot.y)**2)\n",
    "cost = cost / (time+1)\n",
    "cost = cost.item()\n",
    "print(\"MSE: {:.4f}\".format(cost))"
   ]
  },
  {
   "cell_type": "code",
   "execution_count": 18,
   "id": "fc68b0a8-2326-4605-a6ed-0d287033de94",
   "metadata": {},
   "outputs": [],
   "source": [
    "url = 'https://raw.githubusercontent.com/pinkocto/noteda/main/posts/SOLAR/data2/stgcn_data2.json'"
   ]
  },
  {
   "cell_type": "code",
   "execution_count": 19,
   "id": "846205b1-648f-43e2-8dc1-f3ac20a21f95",
   "metadata": {},
   "outputs": [],
   "source": [
    "data_dict = json.loads(urllib.request.urlopen(url).read())\n",
    "V = list(data_dict['node_ids'].keys())\n",
    "f = np.array(data_dict[\"FX\"])"
   ]
  },
  {
   "cell_type": "code",
   "execution_count": 20,
   "id": "eef4f0ae-4177-4754-b55d-6c6c3ac4ad3e",
   "metadata": {},
   "outputs": [],
   "source": [
    "yhat_train = torch.stack([model(snapshot.x,snapshot.edge_index, snapshot.edge_attr) for snapshot in train_dataset]).detach().numpy()\n",
    "yhat_test = torch.stack([model(snapshot.x,snapshot.edge_index, snapshot.edge_attr) for snapshot in test_dataset]).detach().numpy()"
   ]
  },
  {
   "cell_type": "code",
   "execution_count": 21,
   "id": "27a5afd0-4756-483e-bcb5-6293ba35aa99",
   "metadata": {},
   "outputs": [
    {
     "data": {
      "text/plain": [
       "((770, 44, 1), (1794, 44, 1))"
      ]
     },
     "execution_count": 21,
     "metadata": {},
     "output_type": "execute_result"
    }
   ],
   "source": [
    "yhat_test.shape, yhat_train.shape"
   ]
  },
  {
   "cell_type": "code",
   "execution_count": 22,
   "id": "fd66f14d-0900-4241-bf41-62e2d338579e",
   "metadata": {},
   "outputs": [],
   "source": [
    "import matplotlib.pyplot as plt\n",
    "plt.rcParams['font.family'] = 'NanumGothic'"
   ]
  },
  {
   "cell_type": "code",
   "execution_count": null,
   "id": "46bc995a-b49f-4c31-8b51-ce4aeea87961",
   "metadata": {},
   "outputs": [],
   "source": [
    "fig,ax = plt.subplots(44,1,figsize=(10,50))\n",
    "lag= 0 \n",
    "T = 100 \n",
    "for k in range(44):\n",
    "    ax[k].plot(np.array(train_dataset.targets)[lag:(lag+T),k],'--',alpha=0.5,label='observed')\n",
    "    ax[k].set_title('node: {}'.format(V[k]))\n",
    "    ax[k].plot(yhat_train[:T,k],label='predicted (tr)')\n",
    "#    ax[k].plot(range(yhat_train.shape[0],yhat_train.shape[0]+yhat_test.shape[0]),yhat_test[:,k],label='predicted (test)')\n",
    "    ax[k].legend()\n",
    "fig.tight_layout()\n",
    "\n",
    "# plt.savefig('stgcn-ver2-lag4-vis.png')"
   ]
  }
 ],
 "metadata": {
  "kernelspec": {
   "display_name": "Python 3",
   "language": "python",
   "name": "python3"
  },
  "language_info": {
   "codemirror_mode": {
    "name": "ipython",
    "version": 3
   },
   "file_extension": ".py",
   "mimetype": "text/x-python",
   "name": "python",
   "nbconvert_exporter": "python",
   "pygments_lexer": "ipython3",
   "version": "3.8.16"
  }
 },
 "nbformat": 4,
 "nbformat_minor": 5
}
