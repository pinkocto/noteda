{
 "cells": [
  {
   "cell_type": "raw",
   "id": "1a4a707b-2a70-4e04-b75d-4a8d84a6caff",
   "metadata": {},
   "source": [
    "---\n",
    "title: \"To do list\"\n",
    "author: \"jiyunLim\"\n",
    "date: \"04/04/2023\"\n",
    "categories:\n",
    "  - Research\n",
    "---"
   ]
  },
  {
   "cell_type": "markdown",
   "id": "675db06b-8572-4a41-9389-44d81399d7a5",
   "metadata": {},
   "source": [
    "# 지역별 여러 시계열 "
   ]
  },
  {
   "cell_type": "markdown",
   "id": "98db8c35-e70d-4ac7-96db-621d7aae55ba",
   "metadata": {},
   "source": [
    "## ARMA"
   ]
  },
  {
   "cell_type": "markdown",
   "id": "ef8f61c5-75ad-4387-b1df-c5e2206d9112",
   "metadata": {},
   "source": [
    "<https://www.kaggle.com/code/javigallego/time-series-forecasting-tutorial#4-%7C-Time-Series-Components>"
   ]
  },
  {
   "cell_type": "markdown",
   "id": "31a4425e-82e7-4011-8cfe-f94df4d7bcf0",
   "metadata": {},
   "source": [
    "- 시계열 모델 돌릴때 이전에 임의로 결측값을 $0$으로 채운 것 다른방법으로도 채워서 해봐야하나??"
   ]
  },
  {
   "cell_type": "markdown",
   "id": "cb4c35de-13c6-4d4a-9195-30d68d166009",
   "metadata": {},
   "source": [
    "## LSTM"
   ]
  },
  {
   "cell_type": "markdown",
   "id": "14ea8c0a-96c6-4ed9-9dd9-75f5abc62843",
   "metadata": {},
   "source": [
    "- <https://machinelearningmastery.com/lstm-for-time-series-prediction-in-pytorch/>\n",
    "- 가장 기본모델로 돌려보자."
   ]
  },
  {
   "cell_type": "markdown",
   "id": "1834cdac-8e5d-46c6-a600-e66e8d424d99",
   "metadata": {},
   "source": [
    "## GRU\n"
   ]
  },
  {
   "cell_type": "markdown",
   "id": "72d13a65-b2c8-4d35-baff-7ff653e9ec07",
   "metadata": {},
   "source": [
    "## STGCN"
   ]
  },
  {
   "cell_type": "markdown",
   "id": "bb9d1f60-00bc-4d35-8f0c-7c23f9ca4141",
   "metadata": {},
   "source": [
    "- scaling이 필요할까..? (우선 스케일링안된 데이터 사용)"
   ]
  },
  {
   "cell_type": "markdown",
   "id": "85ef7f0b-764c-4a26-a461-7ee4175b66d7",
   "metadata": {},
   "source": [
    "### STGCN Ver.1\n",
    "\n",
    "- 지역별 correlation\n",
    "- lag4 : $\\tt{MSE}: 0.0934$ (약 1시간)"
   ]
  },
  {
   "cell_type": "markdown",
   "id": "f42621de-3119-423b-9329-f460a6f64046",
   "metadata": {},
   "source": [
    "- position도 고려될 수 있을까? \n",
    "- lag1,2 등 정보가 더 적을때도 성능이 비슷할까?"
   ]
  },
  {
   "cell_type": "markdown",
   "id": "5141fc09-dd12-4f6f-a1db-c82c0832e3d8",
   "metadata": {},
   "source": [
    "### STGCN Ver.2\n",
    "\n",
    "- envelope의 correlation\n",
    "- lag4:  $\\tt{MSE}: 0.0938$ (약 1시간)"
   ]
  },
  {
   "cell_type": "markdown",
   "id": "db659995-e401-4b9c-8470-3e5db69fae08",
   "metadata": {},
   "source": [
    "## Score"
   ]
  },
  {
   "cell_type": "code",
   "execution_count": 1,
   "id": "f192597e-91c6-4047-813a-7fae7e9f7442",
   "metadata": {},
   "outputs": [],
   "source": [
    "import pandas as pd"
   ]
  },
  {
   "cell_type": "code",
   "execution_count": 3,
   "id": "ed44f7e4-c798-4388-9bdd-ec4750afe323",
   "metadata": {},
   "outputs": [],
   "source": [
    "col = ['Model', 'lag', 'scaling','EPT', 'train(MSE)','test(MSE)', 'Notes']"
   ]
  },
  {
   "cell_type": "code",
   "execution_count": 33,
   "id": "8bb3c0d1-3ecb-4604-9b66-ac3c5e1834a9",
   "metadata": {},
   "outputs": [],
   "source": [
    "df_row = pd.DataFrame(columns = col)\n",
    "df_row['Model'] = ['STGCN v1','STGCN v2','STGCN v1', 'STGCN v2']\n",
    "df_row['lag'] = ['lag4', 'lag4', 'lag1', 'lag1']\n",
    "df_row['scaling'] = ['X', 'X', 'X', 'X']\n",
    "df_row['EPT'] = ['X', 'O', 'X', 'O']\n",
    "# df_row['Undersampling'] = ['X', 'X']\n",
    "# df_row['hyper tunning'] = ['X', 'O']\n",
    "df_row['train(MSE)'] = [0.1041, 0.1069,0.1695, 0.1711]\n",
    "df_row['test(MSE)'] = [0.0934, 0.0938, 0.1443, 0.1452]\n",
    "df_row['Notes'] = ['','', '', '']"
   ]
  },
  {
   "cell_type": "code",
   "execution_count": 34,
   "id": "92b1ee56-b8ef-4104-a543-df0fed5f1d37",
   "metadata": {},
   "outputs": [
    {
     "data": {
      "text/html": [
       "<div>\n",
       "<style scoped>\n",
       "    .dataframe tbody tr th:only-of-type {\n",
       "        vertical-align: middle;\n",
       "    }\n",
       "\n",
       "    .dataframe tbody tr th {\n",
       "        vertical-align: top;\n",
       "    }\n",
       "\n",
       "    .dataframe thead th {\n",
       "        text-align: right;\n",
       "    }\n",
       "</style>\n",
       "<table border=\"1\" class=\"dataframe\">\n",
       "  <thead>\n",
       "    <tr style=\"text-align: right;\">\n",
       "      <th></th>\n",
       "      <th>Model</th>\n",
       "      <th>scaling</th>\n",
       "      <th>EPT</th>\n",
       "      <th>train(MSE)</th>\n",
       "      <th>test(MSE)</th>\n",
       "      <th>Notes</th>\n",
       "      <th>lag</th>\n",
       "    </tr>\n",
       "  </thead>\n",
       "  <tbody>\n",
       "    <tr>\n",
       "      <th>0</th>\n",
       "      <td>STGCN v1</td>\n",
       "      <td>X</td>\n",
       "      <td>X</td>\n",
       "      <td>0.1041</td>\n",
       "      <td>0.0934</td>\n",
       "      <td></td>\n",
       "      <td>lag4</td>\n",
       "    </tr>\n",
       "    <tr>\n",
       "      <th>1</th>\n",
       "      <td>STGCN v2</td>\n",
       "      <td>X</td>\n",
       "      <td>O</td>\n",
       "      <td>0.1069</td>\n",
       "      <td>0.0938</td>\n",
       "      <td></td>\n",
       "      <td>lag4</td>\n",
       "    </tr>\n",
       "    <tr>\n",
       "      <th>2</th>\n",
       "      <td>STGCN v1</td>\n",
       "      <td>X</td>\n",
       "      <td>X</td>\n",
       "      <td>0.1695</td>\n",
       "      <td>0.1443</td>\n",
       "      <td></td>\n",
       "      <td>lag1</td>\n",
       "    </tr>\n",
       "    <tr>\n",
       "      <th>3</th>\n",
       "      <td>STGCN v2</td>\n",
       "      <td>X</td>\n",
       "      <td>O</td>\n",
       "      <td>0.1711</td>\n",
       "      <td>0.1452</td>\n",
       "      <td></td>\n",
       "      <td>lag1</td>\n",
       "    </tr>\n",
       "  </tbody>\n",
       "</table>\n",
       "</div>"
      ],
      "text/plain": [
       "      Model scaling EPT  train(MSE)  test(MSE) Notes   lag\n",
       "0  STGCN v1       X   X      0.1041     0.0934        lag4\n",
       "1  STGCN v2       X   O      0.1069     0.0938        lag4\n",
       "2  STGCN v1       X   X      0.1695     0.1443        lag1\n",
       "3  STGCN v2       X   O      0.1711     0.1452        lag1"
      ]
     },
     "execution_count": 34,
     "metadata": {},
     "output_type": "execute_result"
    }
   ],
   "source": [
    "df_row"
   ]
  }
 ],
 "metadata": {
  "kernelspec": {
   "display_name": "Python 3",
   "language": "python",
   "name": "python3"
  },
  "language_info": {
   "codemirror_mode": {
    "name": "ipython",
    "version": 3
   },
   "file_extension": ".py",
   "mimetype": "text/x-python",
   "name": "python",
   "nbconvert_exporter": "python",
   "pygments_lexer": "ipython3",
   "version": "3.8.16"
  }
 },
 "nbformat": 4,
 "nbformat_minor": 5
}
