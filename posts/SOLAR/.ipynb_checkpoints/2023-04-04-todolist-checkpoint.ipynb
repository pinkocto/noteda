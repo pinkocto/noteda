{
 "cells": [
  {
   "cell_type": "raw",
   "id": "1a4a707b-2a70-4e04-b75d-4a8d84a6caff",
   "metadata": {},
   "source": [
    "---\n",
    "title: \"To do list\"\n",
    "author: \"jiyunLim\"\n",
    "date: \"04/04/2023\"\n",
    "categories:\n",
    "  - Research\n",
    "---"
   ]
  },
  {
   "cell_type": "markdown",
   "id": "675db06b-8572-4a41-9389-44d81399d7a5",
   "metadata": {},
   "source": [
    "# 지역별 여러 시계열 "
   ]
  },
  {
   "cell_type": "markdown",
   "id": "98db8c35-e70d-4ac7-96db-621d7aae55ba",
   "metadata": {},
   "source": [
    "## ARMA"
   ]
  },
  {
   "cell_type": "markdown",
   "id": "ef8f61c5-75ad-4387-b1df-c5e2206d9112",
   "metadata": {},
   "source": [
    "<https://www.kaggle.com/code/javigallego/time-series-forecasting-tutorial#4-%7C-Time-Series-Components>"
   ]
  },
  {
   "cell_type": "markdown",
   "id": "cb4c35de-13c6-4d4a-9195-30d68d166009",
   "metadata": {},
   "source": [
    "## LSTM"
   ]
  },
  {
   "cell_type": "markdown",
   "id": "14ea8c0a-96c6-4ed9-9dd9-75f5abc62843",
   "metadata": {},
   "source": [
    "<https://machinelearningmastery.com/lstm-for-time-series-prediction-in-pytorch/>"
   ]
  },
  {
   "cell_type": "markdown",
   "id": "1834cdac-8e5d-46c6-a600-e66e8d424d99",
   "metadata": {},
   "source": [
    "## GRU"
   ]
  },
  {
   "cell_type": "markdown",
   "id": "85ef7f0b-764c-4a26-a461-7ee4175b66d7",
   "metadata": {},
   "source": [
    "## STGCN Ver.1\n",
    "\n",
    "- 지역별 correlation\n",
    "- $\\tt{MSE}: 0.0934$ (약 1시간)"
   ]
  },
  {
   "cell_type": "markdown",
   "id": "009345f5-2a1e-442a-aefc-a7e1bf418c30",
   "metadata": {},
   "source": [
    "## STGCN Ver.2\n",
    "\n",
    "- envelope의 correlation"
   ]
  }
 ],
 "metadata": {
  "kernelspec": {
   "display_name": "Python 3",
   "language": "python",
   "name": "python3"
  },
  "language_info": {
   "codemirror_mode": {
    "name": "ipython",
    "version": 3
   },
   "file_extension": ".py",
   "mimetype": "text/x-python",
   "name": "python",
   "nbconvert_exporter": "python",
   "pygments_lexer": "ipython3",
   "version": "3.8.16"
  }
 },
 "nbformat": 4,
 "nbformat_minor": 5
}
