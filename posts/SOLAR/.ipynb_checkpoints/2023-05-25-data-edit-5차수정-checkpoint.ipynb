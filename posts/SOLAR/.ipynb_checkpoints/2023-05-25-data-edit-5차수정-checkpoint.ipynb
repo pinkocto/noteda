{
 "cells": [
  {
   "cell_type": "raw",
   "id": "5d27ae29-8c67-40b0-a119-0f03a989e6a0",
   "metadata": {},
   "source": [
    "---\n",
    "title: \" **[SOLAR]** 데이터 수정 (edit)\"\n",
    "author: \"jiyunLim\"\n",
    "date: \"05/25/2023\"\n",
    "categories:\n",
    "  - Research\n",
    "  - Data\n",
    "  - SOLAR\n",
    "---"
   ]
  },
  {
   "cell_type": "markdown",
   "id": "2f5e76f9-b669-4296-82f8-7bc374600e1d",
   "metadata": {},
   "source": [
    "> 재수정 (2023/05/23) Feature 만들 때 실수가 있었음..ㅠㅠ\n",
    "\n",
    "> 재수정 (2023/05/25) edge연결.."
   ]
  },
  {
   "cell_type": "markdown",
   "id": "e06eaafb-2a4c-44ac-89e3-ab2c2779c75a",
   "metadata": {},
   "source": [
    "> <https://pinkocto.github.io/noteda/posts/SOLAR/2023-04-14-%EB%8D%B0%EC%9D%B4%ED%84%B0%EC%88%98%EC%A0%952.html>"
   ]
  },
  {
   "cell_type": "markdown",
   "id": "bffec83d-cd5a-40ff-8f38-7d9259a9852c",
   "metadata": {},
   "source": [
    "## import"
   ]
  },
  {
   "cell_type": "code",
   "execution_count": 1,
   "id": "1e9c892e-e91f-420f-afd8-defd382bb000",
   "metadata": {},
   "outputs": [],
   "source": [
    "import pandas as pd\n",
    "import numpy as np\n",
    "import json\n",
    "import urllib\n",
    "\n",
    "import matplotlib.pyplot as plt\n",
    "import time"
   ]
  },
  {
   "cell_type": "markdown",
   "id": "aa4839fa-7531-4c05-99ee-aefd9df00940",
   "metadata": {},
   "source": [
    "## solar_radiation"
   ]
  },
  {
   "cell_type": "code",
   "execution_count": 341,
   "id": "7fbbdd81-3b4f-40bc-9aa2-9b6a210b0267",
   "metadata": {},
   "outputs": [],
   "source": [
    "# df = pd.read_csv(\"./data/solar_radiation.csv\")\n",
    "df = pd.read_csv('./data2/solar_radiation.csv')"
   ]
  },
  {
   "cell_type": "code",
   "execution_count": 342,
   "id": "8b7d222c-579b-49cb-a778-e4203aed16e0",
   "metadata": {},
   "outputs": [
    {
     "data": {
      "text/plain": [
       "(112992, 4)"
      ]
     },
     "execution_count": 342,
     "metadata": {},
     "output_type": "execute_result"
    }
   ],
   "source": [
    "df.shape"
   ]
  },
  {
   "cell_type": "markdown",
   "id": "bfeec560-09b1-4073-bcbb-123d6bee6c5c",
   "metadata": {},
   "source": [
    "## Weight"
   ]
  },
  {
   "cell_type": "code",
   "execution_count": 345,
   "id": "3ca865b3-ae62-4404-9d26-d443b9a75bc2",
   "metadata": {},
   "outputs": [],
   "source": [
    "train = pd.read_csv('./data2/train.csv')\n",
    "test = pd.read_csv('./data2/test.csv')"
   ]
  },
  {
   "cell_type": "code",
   "execution_count": 157,
   "id": "68575c58-6da7-4368-a337-c8c29128379a",
   "metadata": {},
   "outputs": [
    {
     "name": "stdout",
     "output_type": "stream",
     "text": [
      "The rpy2.ipython extension is already loaded. To reload it, use:\n",
      "  %reload_ext rpy2.ipython\n"
     ]
    }
   ],
   "source": [
    "import rpy2\n",
    "%load_ext rpy2.ipython "
   ]
  },
  {
   "cell_type": "code",
   "execution_count": 158,
   "id": "03d7741c-3441-4a0b-b8eb-3afa7a11146a",
   "metadata": {},
   "outputs": [],
   "source": [
    "%R -i train\n",
    "%R -i test"
   ]
  },
  {
   "cell_type": "code",
   "execution_count": 159,
   "id": "8f6b56dc-45e5-4687-86d4-9b8037a0d0ae",
   "metadata": {},
   "outputs": [],
   "source": [
    "%%R\n",
    "library(data.table)\n",
    "library(tidyverse)\n",
    "library(dplyr)\n",
    "library(corrplot)\n",
    "library(lubridate)"
   ]
  },
  {
   "cell_type": "code",
   "execution_count": 160,
   "id": "8eaa636c-a2e2-449b-8453-033f97c0b72e",
   "metadata": {},
   "outputs": [
    {
     "name": "stdout",
     "output_type": "stream",
     "text": [
      "  region solar_radiation             date\n",
      "0 북춘천               0 2022-06-01-00:00\n",
      "1 북춘천               0 2022-06-01-01:00\n",
      "2 북춘천               0 2022-06-01-02:00\n",
      "3 북춘천               0 2022-06-01-03:00\n",
      "4 북춘천               0 2022-06-01-04:00\n",
      "5 북춘천               0 2022-06-01-05:00\n"
     ]
    }
   ],
   "source": [
    "%%R\n",
    "head(train)"
   ]
  },
  {
   "cell_type": "code",
   "execution_count": 161,
   "id": "c60fd37d-9662-48b8-bd97-f41026ab6cfb",
   "metadata": {},
   "outputs": [
    {
     "name": "stdout",
     "output_type": "stream",
     "text": [
      "  region solar_radiation             date\n",
      "0 북춘천               0 2022-08-16-00:00\n",
      "1 북춘천               0 2022-08-16-01:00\n",
      "2 북춘천               0 2022-08-16-02:00\n",
      "3 북춘천               0 2022-08-16-03:00\n",
      "4 북춘천               0 2022-08-16-04:00\n",
      "5 북춘천               0 2022-08-16-05:00\n"
     ]
    }
   ],
   "source": [
    "%%R\n",
    "head(test)"
   ]
  },
  {
   "cell_type": "code",
   "execution_count": 162,
   "id": "02bb633a-ff3e-49f4-84d8-951339e9e66e",
   "metadata": {},
   "outputs": [],
   "source": [
    "%%R\n",
    "train = train |> mutate(date = ymd_hm(date))\n",
    "test = test |> mutate(date = ymd_hm(date))"
   ]
  },
  {
   "cell_type": "code",
   "execution_count": 164,
   "id": "d8981be2-f841-4678-95eb-0f6b2c05d23e",
   "metadata": {},
   "outputs": [],
   "source": [
    "%%R\n",
    "train_ <- train %>%\n",
    "              group_by(region) %>%\n",
    "              mutate(row = row_number()) %>%\n",
    "              tidyr::pivot_wider(names_from = region, values_from = solar_radiation) %>%\n",
    "              select(-row)"
   ]
  },
  {
   "cell_type": "code",
   "execution_count": 165,
   "id": "df0847c2-d353-4c12-b8f5-64f770059211",
   "metadata": {},
   "outputs": [],
   "source": [
    "%%R\n",
    "num_vars <- train_ %>% select(-date)\n",
    "weight <- cor(num_vars)\n",
    "# weight"
   ]
  },
  {
   "cell_type": "code",
   "execution_count": 105,
   "id": "b5577728-1c38-4016-b39a-c289bb13cbd9",
   "metadata": {},
   "outputs": [],
   "source": [
    "# %%R\n",
    "# write.csv(weight, './data2/weight.csv', row.names=FALSE)"
   ]
  },
  {
   "cell_type": "markdown",
   "id": "f4514a82-442d-40d3-ad35-42866e712ff4",
   "metadata": {},
   "source": [
    "## EPT Weight"
   ]
  },
  {
   "cell_type": "code",
   "execution_count": 154,
   "id": "c7f6a1ec-c34a-44c1-b3b2-924f454fa628",
   "metadata": {},
   "outputs": [],
   "source": [
    "# train = pd.read_csv('./data2/train.csv')"
   ]
  },
  {
   "cell_type": "code",
   "execution_count": 166,
   "id": "edc73999-f0fe-442b-8839-b86ed2c71a7a",
   "metadata": {},
   "outputs": [
    {
     "data": {
      "text/plain": [
       "0"
      ]
     },
     "execution_count": 166,
     "metadata": {},
     "output_type": "execute_result"
    }
   ],
   "source": [
    "train.duplicated().sum()"
   ]
  },
  {
   "cell_type": "code",
   "execution_count": 15,
   "id": "90c2726f-775f-46b3-9cd2-b8722877d43a",
   "metadata": {},
   "outputs": [],
   "source": [
    "%R -i train"
   ]
  },
  {
   "cell_type": "code",
   "execution_count": 167,
   "id": "ad3f8598-dbe8-4772-9df5-a5fdd8b951c6",
   "metadata": {},
   "outputs": [
    {
     "name": "stdout",
     "output_type": "stream",
     "text": [
      "  region solar_radiation                date\n",
      "0 북춘천               0 2022-06-01 00:00:00\n",
      "1 북춘천               0 2022-06-01 01:00:00\n",
      "2 북춘천               0 2022-06-01 02:00:00\n",
      "3 북춘천               0 2022-06-01 03:00:00\n",
      "4 북춘천               0 2022-06-01 04:00:00\n",
      "5 북춘천               0 2022-06-01 05:00:00\n"
     ]
    }
   ],
   "source": [
    "%%R\n",
    "library(EPT)\n",
    "train%>%head()"
   ]
  },
  {
   "cell_type": "markdown",
   "id": "2ee7d71f-7578-4895-8529-f4d678332941",
   "metadata": {},
   "source": [
    "### Plot"
   ]
  },
  {
   "cell_type": "code",
   "execution_count": 168,
   "id": "2beaa02b-34ac-463c-a8a4-8aabaf8e46bb",
   "metadata": {},
   "outputs": [],
   "source": [
    "%%R\n",
    "for (i in 1:44){\n",
    "     assign(paste0('data',1:44)[i],train |> filter(region == unique(train$region)[i]))\n",
    "     assign(paste0('data',1:44)[i],eval(parse(text=paste0('data',i)))[order(eval(parse(text=paste0('data',i)))$date),])\n",
    "     assign(paste0('y',1:44)[i], eval(parse(text=paste0('data',i)))$solar_radiation)\n",
    "}"
   ]
  },
  {
   "cell_type": "code",
   "execution_count": 172,
   "id": "ab7bb595-66d9-467e-86f7-7bac9d404444",
   "metadata": {},
   "outputs": [],
   "source": [
    "%%R\n",
    "for (i in 1:44){\n",
    "     assign(paste0('test_data',1:44)[i],test |> filter(region == unique(test$region)[i]))\n",
    "     assign(paste0('test_data',1:44)[i],eval(parse(text=paste0('test_data',i)))[order(eval(parse(text=paste0('test_data',i)))$date),])\n",
    "     assign(paste0('test_y',1:44)[i], eval(parse(text=paste0('test_data',i)))$solar_radiation)\n",
    "}"
   ]
  },
  {
   "cell_type": "code",
   "execution_count": 17,
   "id": "07b87bf4-abb2-4bb6-beed-1d18d9e6ef8d",
   "metadata": {},
   "outputs": [],
   "source": [
    "# %%R\n",
    "# for (i in 1:44){\n",
    "#     plot(eval(parse(text=paste0('y',i)))[1:500], ann=FALSE)\n",
    "#     lines(eval(parse(text=paste0('y',i))),lty=2)\n",
    "#     title(main = as.character(unique(train$region)[i]), xlab='time', ylab='solar radiation')\n",
    "#     }"
   ]
  },
  {
   "cell_type": "markdown",
   "id": "457b24e9-9ab1-4a6b-bf84-6ccd602033f4",
   "metadata": {},
   "source": [
    "### EPT 수행"
   ]
  },
  {
   "cell_type": "markdown",
   "id": "7800733e-0019-4f0e-b479-9bc7d3751daa",
   "metadata": {},
   "source": [
    "```python\n",
    "eptransf(tindex = NULL, signal, type = \"rectangle\", tau,\n",
    "\n",
    "         process = c(\"average\", \"average\"), pquantile = c(0, 1), equantile = c(0, 1), \n",
    "\n",
    "         gamma = 1, boundary = \"symmetric\") \n",
    "```"
   ]
  },
  {
   "cell_type": "code",
   "execution_count": 123,
   "id": "347502c4-f1a6-4ada-abd9-e809f359ea9c",
   "metadata": {},
   "outputs": [],
   "source": [
    "%%R\n",
    "ept = function(y){\n",
    "    # EpM = eptransf(signal=y,tau=24,process=c(\"envelope\",\"average\"))$EpM\n",
    "    # EpM*2\n",
    "    Ep = eptransf(signal=y,tau=24,process=c(\"envelope\",\"average\"), type='rectangle')\n",
    "    Ep$EpU + Ep$EpL ## EPU\n",
    "}"
   ]
  },
  {
   "cell_type": "code",
   "execution_count": 122,
   "id": "1ab4eda9-c81c-47b5-9f45-830bc1d939ed",
   "metadata": {},
   "outputs": [],
   "source": [
    "# %%R\n",
    "# ?eptransf"
   ]
  },
  {
   "cell_type": "code",
   "execution_count": 124,
   "id": "04679442-4e64-4ad1-b464-143ec0962b13",
   "metadata": {},
   "outputs": [],
   "source": [
    "%%R\n",
    "library(tictoc)"
   ]
  },
  {
   "cell_type": "code",
   "execution_count": 125,
   "id": "dae6228b-802b-4112-aaca-09a0c49e6e37",
   "metadata": {},
   "outputs": [
    {
     "name": "stdout",
     "output_type": "stream",
     "text": [
      "지역별 yU계산: 51.785 sec elapsed\n"
     ]
    }
   ],
   "source": [
    "%%R\n",
    "tic('지역별 yU계산')\n",
    "for (i in 1:44){\n",
    "    assign(paste0('yU',1:44)[i], ept(eval(parse(text=paste0('y',i)))))\n",
    "}\n",
    "toc()"
   ]
  },
  {
   "cell_type": "code",
   "execution_count": 178,
   "id": "24ad3671-67a0-45c8-8fc3-b7bd89aac5f6",
   "metadata": {},
   "outputs": [
    {
     "name": "stdout",
     "output_type": "stream",
     "text": [
      "지역별 yU계산: 21.431 sec elapsed\n"
     ]
    }
   ],
   "source": [
    "%%R\n",
    "tic('지역별 yU계산')\n",
    "for (i in 1:44){\n",
    "    assign(paste0('test_yU',1:44)[i], ept(eval(parse(text=paste0('test_y',i)))))\n",
    "}\n",
    "toc()"
   ]
  },
  {
   "cell_type": "markdown",
   "id": "78608bbc-ad0e-4ef6-9155-ad0aebc4c544",
   "metadata": {
    "tags": []
   },
   "source": [
    "### yU저장"
   ]
  },
  {
   "cell_type": "code",
   "execution_count": 126,
   "id": "993b6960-bba4-4414-9678-8fb4fd55297a",
   "metadata": {},
   "outputs": [],
   "source": [
    "%%R\n",
    "df_yU = do.call(cbind.data.frame, mget(paste0('yU', 1:44)))"
   ]
  },
  {
   "cell_type": "code",
   "execution_count": 179,
   "id": "da46dc2d-23e0-4138-b063-628a08932623",
   "metadata": {},
   "outputs": [],
   "source": [
    "%%R\n",
    "df_yU_test = do.call(cbind.data.frame, mget(paste0('test_yU',1:44)))"
   ]
  },
  {
   "cell_type": "code",
   "execution_count": 85,
   "id": "4994e7c7-700a-40e4-9750-1443d1cca878",
   "metadata": {},
   "outputs": [],
   "source": [
    "# %%R\n",
    "# write.csv(df_yU, './data2/df_yU.csv', row.names=FALSE)"
   ]
  },
  {
   "cell_type": "code",
   "execution_count": 127,
   "id": "6abd88a6-94e8-4708-9bd5-5fe2784fc3b6",
   "metadata": {},
   "outputs": [],
   "source": [
    "%%R\n",
    "yU = df_yU"
   ]
  },
  {
   "cell_type": "code",
   "execution_count": 143,
   "id": "ea83a98d-2f17-4588-be86-eaa74ede6086",
   "metadata": {},
   "outputs": [
    {
     "name": "stdout",
     "output_type": "stream",
     "text": [
      "[1] 1824   44\n"
     ]
    }
   ],
   "source": [
    "%%R\n",
    "dim(yU)"
   ]
  },
  {
   "cell_type": "markdown",
   "id": "bdf7e10d-6ec0-4f86-b9ac-8d53fb34e2ce",
   "metadata": {},
   "source": [
    "### 시각화"
   ]
  },
  {
   "cell_type": "markdown",
   "id": "5fbdd804-79c1-4165-9bc3-30accf5b9da5",
   "metadata": {},
   "source": [
    "#### Solar-radiation in Seoul, Incheon, Pohang, Busan"
   ]
  },
  {
   "cell_type": "code",
   "execution_count": 206,
   "id": "19a7b70e-534c-4a0e-8dd3-bec6a23af753",
   "metadata": {},
   "outputs": [
    {
     "data": {
      "image/png": "[encoded data removed]"
     },
     "metadata": {},
     "output_type": "display_data"
    }
   ],
   "source": [
    "%%R\n",
    "# windows(width=3, height=3)\n",
    "par(mfrow=c(4,1))\n",
    "plot(eval(parse(text=paste0('y',8)))[1:500], type='l', ann=FALSE)\n",
    "lines(yU[1:500,8],col = 2, lty=2)\n",
    "# title(main = as.character(unique(train$region)[8]), xlab='time', ylab='solar radiation')\n",
    "title(main = '(a) solar-radiation in Seoul and upper envelope of ensemble transform', xlab='time', ylab='solar radiation')\n",
    "\n",
    "plot(eval(parse(text=paste0('y',9)))[1:500], type='l', ann=FALSE)\n",
    "lines(yU[1:500,9],col = 2, lty=2)\n",
    "# title(main = as.character(unique(train$region)[18]), xlab='time', ylab='solar radiation')\n",
    "title(main = '(b) solar-radiation in Incheon and upper envelope of ensemble transform', xlab='time', ylab='solar radiation')\n",
    "\n",
    "plot(eval(parse(text=paste0('y',18)))[1:500], type='l', ann=FALSE)\n",
    "lines(yU[1:500,18],col = 2, lty=2)\n",
    "# title(main = as.character(unique(train$region)[18]), xlab='time', ylab='solar radiation')\n",
    "title(main = '(c) solar-radiation in Pohang and upper envelope of ensemble transform', xlab='time', ylab='solar radiation')\n",
    "\n",
    "plot(eval(parse(text=paste0('y',23)))[1:500], type='l', ann=FALSE)\n",
    "lines(yU[1:500,23],col = 2, lty=2)\n",
    "# title(main = as.character(unique(train$region)[23]), xlab='time', ylab='solar radiation')\n",
    "title(main = '(d) solar-radiation in Busan and upper envelope of ensemble transform', xlab='time', ylab='solar radiation')"
   ]
  },
  {
   "cell_type": "code",
   "execution_count": 184,
   "id": "4de7fb8c-54cd-4d51-bf67-7ad1b78f772d",
   "metadata": {},
   "outputs": [
    {
     "name": "stdout",
     "output_type": "stream",
     "text": [
      "[1] 744  44\n"
     ]
    }
   ],
   "source": [
    "%%R\n",
    "dim(df_yU_test)"
   ]
  },
  {
   "cell_type": "markdown",
   "id": "d71a2cdd-6479-4242-ab46-43d9863a517d",
   "metadata": {},
   "source": [
    "#### Solar-radiation in Seoul, Incheon, Pohang, Busan (effect)"
   ]
  },
  {
   "cell_type": "code",
   "execution_count": 207,
   "id": "7329b14b-148b-47e3-8fe2-3d9824ae33ce",
   "metadata": {},
   "outputs": [
    {
     "data": {
      "image/png": "[encoded data removed]"
     },
     "metadata": {},
     "output_type": "display_data"
    }
   ],
   "source": [
    "%%R\n",
    "# windows(width=3, height=3)\n",
    "# png(file = \"./plot/ept_plot.png\")   # The directory you want to save the file in\n",
    "#     # width = 4, # The width of the plot in inches\n",
    "#     # height = 4) # The height of the plot in inches\n",
    "    \n",
    "par(mfrow=c(4,1))\n",
    "plot(eval(parse(text=paste0('test_y',8)))[312:743], type='l', ann=FALSE)\n",
    "lines(df_yU_test[312:743,8],col = 2, lty=2)\n",
    "# title(main = as.character(unique(train$region)[8]), xlab='time', ylab='solar radiation')\n",
    "title(main = '(a) solar-radiation in Seoul and upper envelope of ensemble transform', xlab='time', ylab='solar radiation')\n",
    "\n",
    "plot(eval(parse(text=paste0('test_y',9)))[312:743], type='l', ann=FALSE)\n",
    "lines(df_yU_test[312:743,9],col = 2, lty=2)\n",
    "# title(main = as.character(unique(train$region)[9]), xlab='time', ylab='solar radiation')\n",
    "title(main = '(b) solar-radiation in Incheon and upper envelope of ensemble transform', xlab='time', ylab='solar radiation')\n",
    "\n",
    "plot(eval(parse(text=paste0('test_y',18)))[312:743], type='l', ann=FALSE)\n",
    "lines(df_yU_test[312:743,18],col = 2, lty=2)\n",
    "# title(main = as.character(unique(train$region)[18]), xlab='time', ylab='solar radiation')\n",
    "title(main = '(c) solar-radiation in Pohang and upper envelope of ensemble transform', xlab='time', ylab='solar radiation')\n",
    "\n",
    "plot(eval(parse(text=paste0('test_y',23)))[312:743], type='l', ann=FALSE)\n",
    "lines(df_yU_test[312:743,23],col = 2, lty=2)\n",
    "# title(main = as.character(unique(train$region)[23]), xlab='time', ylab='solar radiation')\n",
    "title(main = '(d) solar-radiation in Busan and upper envelope of ensemble transform', xlab='time', ylab='solar radiation')\n",
    "\n",
    "# dev.off()"
   ]
  },
  {
   "cell_type": "markdown",
   "id": "db797615-bb43-4483-afd1-c9519b6b447e",
   "metadata": {},
   "source": [
    "- 2022-08-28 ~ 2022-09-16\n",
    "- 8월 31일 9월 4일 "
   ]
  },
  {
   "cell_type": "markdown",
   "id": "cd5937c7-e9f2-431d-8a0d-24842c8d9db9",
   "metadata": {},
   "source": [
    "> 힌남노 : 2022년 제11호 태풍으로, 8월 28일 발생하여 9월 6일에 온대저기압으로 변질되어 소멸되었다."
   ]
  },
  {
   "cell_type": "markdown",
   "id": "e4e9dd7c-d8ec-479b-ab82-5fbc5ae0663f",
   "metadata": {},
   "source": [
    "### yU Correlation"
   ]
  },
  {
   "cell_type": "code",
   "execution_count": 260,
   "id": "2a89eafa-9063-4a81-b4ee-08bc356dd4c6",
   "metadata": {},
   "outputs": [
    {
     "name": "stdout",
     "output_type": "stream",
     "text": [
      "     yU1    yU2    yU3    yU4    yU5    yU6   yU7    yU8   yU9   yU10   yU11\n",
      "1 3.4188 3.3796 3.7984 3.2444 3.8588 3.6364 3.594 3.7128 3.606 3.6568 3.6588\n",
      "2 3.4188 3.3796 3.7984 3.2444 3.8588 3.6364 3.594 3.7128 3.606 3.6568 3.6588\n",
      "3 3.4188 3.3796 3.7984 3.2444 3.8588 3.6364 3.594 3.7128 3.606 3.6568 3.6588\n",
      "4 3.4188 3.3796 3.7984 3.2444 3.8588 3.6364 3.594 3.7128 3.606 3.6568 3.6588\n",
      "5 3.4188 3.3796 3.7984 3.2444 3.8588 3.6364 3.594 3.7128 3.606 3.6568 3.6588\n",
      "6 3.4188 3.3796 3.7984 3.2444 3.8588 3.6364 3.594 3.7128 3.606 3.6568 3.6588\n",
      "    yU12   yU13   yU14   yU15  yU16   yU17  yU18   yU19   yU20   yU21  yU22\n",
      "1 3.5424 3.6172 3.7636 3.5844 3.598 3.6256 3.328 3.3792 3.4756 3.4088 3.668\n",
      "2 3.5424 3.6172 3.7636 3.5844 3.598 3.6256 3.328 3.3792 3.4756 3.4088 3.668\n",
      "3 3.5424 3.6172 3.7636 3.5844 3.598 3.6256 3.328 3.3792 3.4756 3.4088 3.668\n",
      "4 3.5424 3.6172 3.7636 3.5844 3.598 3.6256 3.328 3.3792 3.4756 3.4088 3.668\n",
      "5 3.5424 3.6172 3.7636 3.5844 3.598 3.6256 3.328 3.3792 3.4756 3.4088 3.668\n",
      "6 3.5424 3.6172 3.7636 3.5844 3.598 3.6256 3.328 3.3792 3.4756 3.4088 3.668\n",
      "   yU23   yU24 yU25 yU26   yU27   yU28   yU29   yU30   yU31   yU32   yU33\n",
      "1 3.408 3.5208 3.19    0 3.7828 3.6932 3.5848 3.4576 3.4376 3.6844 3.7384\n",
      "2 3.408 3.5208 3.19    0 3.7828 3.6932 3.5848 3.4576 3.4376 3.6844 3.7384\n",
      "3 3.408 3.5208 3.19    0 3.7828 3.6932 3.5848 3.4576 3.4376 3.6844 3.7384\n",
      "4 3.408 3.5208 3.19    0 3.7828 3.6932 3.5848 3.4576 3.4376 3.6844 3.7384\n",
      "5 3.408 3.5208 3.19    0 3.7828 3.6932 3.5848 3.4576 3.4376 3.6844 3.7384\n",
      "6 3.408 3.5208 3.19    0 3.7828 3.6932 3.5848 3.4576 3.4376 3.6844 3.7384\n",
      "    yU34   yU35  yU36   yU37   yU38   yU39 yU40   yU41 yU42   yU43   yU44\n",
      "1 3.4764 3.6776 3.312 3.3864 3.5816 3.6788 3.39 3.6984 3.15 3.6456 3.3132\n",
      "2 3.4764 3.6776 3.312 3.3864 3.5816 3.6788 3.39 3.6984 3.15 3.6456 3.3132\n",
      "3 3.4764 3.6776 3.312 3.3864 3.5816 3.6788 3.39 3.6984 3.15 3.6456 3.3132\n",
      "4 3.4764 3.6776 3.312 3.3864 3.5816 3.6788 3.39 3.6984 3.15 3.6456 3.3132\n",
      "5 3.4764 3.6776 3.312 3.3864 3.5816 3.6788 3.39 3.6984 3.15 3.6456 3.3132\n",
      "6 3.4764 3.6776 3.312 3.3864 3.5816 3.6788 3.39 3.6984 3.15 3.6456 3.3132\n"
     ]
    }
   ],
   "source": [
    "%%R\n",
    "head(df_yU)"
   ]
  },
  {
   "cell_type": "markdown",
   "id": "ff1bd0c1-012a-490b-83c7-f490b720b157",
   "metadata": {},
   "source": [
    "## Comparison of Correlation 4 region"
   ]
  },
  {
   "cell_type": "code",
   "execution_count": 261,
   "id": "d0d63de3-24ea-4ed7-82b0-7409eb28838a",
   "metadata": {},
   "outputs": [],
   "source": [
    "%%R\n",
    "yU_cor = cor(df_yU)"
   ]
  },
  {
   "cell_type": "code",
   "execution_count": 332,
   "id": "ae513955-547f-4524-b0aa-138a216dd6a9",
   "metadata": {},
   "outputs": [
    {
     "name": "stdout",
     "output_type": "stream",
     "text": [
      "         Seoul Incheon Pohang  Busan\n",
      "Seoul   1.0000  0.9076 0.7043 0.7267\n",
      "Incheon 0.9076  1.0000 0.7505 0.7779\n",
      "Pohang  0.7043  0.7505 1.0000 0.8707\n",
      "Busan   0.7267  0.7779 0.8707 1.0000\n"
     ]
    }
   ],
   "source": [
    "%%R\n",
    "before_trans_ = num_vars[c('서울','인천','포항','부산')]\n",
    "colnames(before_trans_) <- c('Seoul','Incheon','Pohang','Busan')\n",
    "before_cor = cor(before_trans_)\n",
    "round(before_cor,4)"
   ]
  },
  {
   "cell_type": "code",
   "execution_count": 333,
   "id": "54e283c7-276f-4674-898f-42ce35b0614f",
   "metadata": {},
   "outputs": [
    {
     "name": "stdout",
     "output_type": "stream",
     "text": [
      "         Seoul Incheon Pohang  Busan\n",
      "Seoul   1.0000  0.8593 0.1218 0.2073\n",
      "Incheon 0.8593  1.0000 0.2795 0.3771\n",
      "Pohang  0.1218  0.2795 1.0000 0.5440\n",
      "Busan   0.2073  0.3771 0.5440 1.0000\n"
     ]
    }
   ],
   "source": [
    "%%R\n",
    "# after_trans = df_yU[c('yU8', 'yU9','yU18','yU23')] # 서울, 인천, 포항, 부산\n",
    "colnames(after_trans) <- c('Seoul','Incheon','Pohang','Busan')\n",
    "after_cor = cor(after_trans)\n",
    "round(after_cor,4)"
   ]
  },
  {
   "cell_type": "code",
   "execution_count": 263,
   "id": "cc536493-4674-41f3-9d74-aba13ad18f21",
   "metadata": {},
   "outputs": [],
   "source": [
    "# %%R\n",
    "# write.csv(yU_cor, './data4/yU_weight.csv', row.names=FALSE)"
   ]
  },
  {
   "cell_type": "markdown",
   "id": "0a969d87-fb19-4e91-8ec8-7388697726b0",
   "metadata": {},
   "source": [
    "# Create STGCN Datset (수정)"
   ]
  },
  {
   "cell_type": "markdown",
   "id": "228c57d1-0ad2-412e-9d53-e209b0af7b54",
   "metadata": {},
   "source": [
    "### import"
   ]
  },
  {
   "cell_type": "code",
   "execution_count": 2,
   "id": "e074b101-cb72-40bb-9647-ad90def2f01f",
   "metadata": {},
   "outputs": [],
   "source": [
    "import pandas as pd\n",
    "import numpy as np"
   ]
  },
  {
   "cell_type": "code",
   "execution_count": 3,
   "id": "347a5133-58a3-4766-9fad-bff27403e488",
   "metadata": {},
   "outputs": [],
   "source": [
    "df = pd.read_csv('./data2/solar_radiation.csv')\n",
    "weight = pd.read_csv('./data2/weight.csv')\n",
    "ept_weight = pd.read_csv('./data4/yU_weight.csv') ### "
   ]
  },
  {
   "cell_type": "code",
   "execution_count": 4,
   "id": "0565cb1d-22c1-4371-b296-1bca07331e88",
   "metadata": {},
   "outputs": [
    {
     "data": {
      "text/plain": [
       "181"
      ]
     },
     "execution_count": 4,
     "metadata": {},
     "output_type": "execute_result"
    }
   ],
   "source": [
    "import gc\n",
    "gc.collect()"
   ]
  },
  {
   "cell_type": "markdown",
   "id": "56162dd0-b42a-4bb7-ae01-604cf6b824e8",
   "metadata": {},
   "source": [
    "### STGCN Ver1 "
   ]
  },
  {
   "cell_type": "code",
   "execution_count": 5,
   "id": "e5449dd9-8e03-4c7d-9f6d-3dbdaaaa7d27",
   "metadata": {},
   "outputs": [
    {
     "data": {
      "text/html": [
       "<div>\n",
       "<style scoped>\n",
       "    .dataframe tbody tr th:only-of-type {\n",
       "        vertical-align: middle;\n",
       "    }\n",
       "\n",
       "    .dataframe tbody tr th {\n",
       "        vertical-align: top;\n",
       "    }\n",
       "\n",
       "    .dataframe thead th {\n",
       "        text-align: right;\n",
       "    }\n",
       "</style>\n",
       "<table border=\"1\" class=\"dataframe\">\n",
       "  <thead>\n",
       "    <tr style=\"text-align: right;\">\n",
       "      <th></th>\n",
       "      <th>date</th>\n",
       "      <th>북춘천</th>\n",
       "      <th>철원</th>\n",
       "      <th>대관령</th>\n",
       "      <th>춘천</th>\n",
       "      <th>백령도</th>\n",
       "      <th>북강릉</th>\n",
       "      <th>강릉</th>\n",
       "      <th>서울</th>\n",
       "      <th>인천</th>\n",
       "      <th>...</th>\n",
       "      <th>순창군</th>\n",
       "      <th>북창원</th>\n",
       "      <th>양산시</th>\n",
       "      <th>보성군</th>\n",
       "      <th>강진군</th>\n",
       "      <th>의령군</th>\n",
       "      <th>함양군</th>\n",
       "      <th>광양시</th>\n",
       "      <th>청송군</th>\n",
       "      <th>경주시</th>\n",
       "    </tr>\n",
       "  </thead>\n",
       "  <tbody>\n",
       "    <tr>\n",
       "      <th>0</th>\n",
       "      <td>2022-06-01 00:00:00</td>\n",
       "      <td>0.0</td>\n",
       "      <td>0.0</td>\n",
       "      <td>0.0</td>\n",
       "      <td>0.0</td>\n",
       "      <td>0.0</td>\n",
       "      <td>0.0</td>\n",
       "      <td>0.0</td>\n",
       "      <td>0.0</td>\n",
       "      <td>0.0</td>\n",
       "      <td>...</td>\n",
       "      <td>0.0</td>\n",
       "      <td>0.0</td>\n",
       "      <td>0.0</td>\n",
       "      <td>0.0</td>\n",
       "      <td>0.0</td>\n",
       "      <td>0.0</td>\n",
       "      <td>0.0</td>\n",
       "      <td>0.0</td>\n",
       "      <td>0.0</td>\n",
       "      <td>0.0</td>\n",
       "    </tr>\n",
       "    <tr>\n",
       "      <th>1</th>\n",
       "      <td>2022-06-01 01:00:00</td>\n",
       "      <td>0.0</td>\n",
       "      <td>0.0</td>\n",
       "      <td>0.0</td>\n",
       "      <td>0.0</td>\n",
       "      <td>0.0</td>\n",
       "      <td>0.0</td>\n",
       "      <td>0.0</td>\n",
       "      <td>0.0</td>\n",
       "      <td>0.0</td>\n",
       "      <td>...</td>\n",
       "      <td>0.0</td>\n",
       "      <td>0.0</td>\n",
       "      <td>0.0</td>\n",
       "      <td>0.0</td>\n",
       "      <td>0.0</td>\n",
       "      <td>0.0</td>\n",
       "      <td>0.0</td>\n",
       "      <td>0.0</td>\n",
       "      <td>0.0</td>\n",
       "      <td>0.0</td>\n",
       "    </tr>\n",
       "    <tr>\n",
       "      <th>2</th>\n",
       "      <td>2022-06-01 02:00:00</td>\n",
       "      <td>0.0</td>\n",
       "      <td>0.0</td>\n",
       "      <td>0.0</td>\n",
       "      <td>0.0</td>\n",
       "      <td>0.0</td>\n",
       "      <td>0.0</td>\n",
       "      <td>0.0</td>\n",
       "      <td>0.0</td>\n",
       "      <td>0.0</td>\n",
       "      <td>...</td>\n",
       "      <td>0.0</td>\n",
       "      <td>0.0</td>\n",
       "      <td>0.0</td>\n",
       "      <td>0.0</td>\n",
       "      <td>0.0</td>\n",
       "      <td>0.0</td>\n",
       "      <td>0.0</td>\n",
       "      <td>0.0</td>\n",
       "      <td>0.0</td>\n",
       "      <td>0.0</td>\n",
       "    </tr>\n",
       "    <tr>\n",
       "      <th>3</th>\n",
       "      <td>2022-06-01 03:00:00</td>\n",
       "      <td>0.0</td>\n",
       "      <td>0.0</td>\n",
       "      <td>0.0</td>\n",
       "      <td>0.0</td>\n",
       "      <td>0.0</td>\n",
       "      <td>0.0</td>\n",
       "      <td>0.0</td>\n",
       "      <td>0.0</td>\n",
       "      <td>0.0</td>\n",
       "      <td>...</td>\n",
       "      <td>0.0</td>\n",
       "      <td>0.0</td>\n",
       "      <td>0.0</td>\n",
       "      <td>0.0</td>\n",
       "      <td>0.0</td>\n",
       "      <td>0.0</td>\n",
       "      <td>0.0</td>\n",
       "      <td>0.0</td>\n",
       "      <td>0.0</td>\n",
       "      <td>0.0</td>\n",
       "    </tr>\n",
       "    <tr>\n",
       "      <th>4</th>\n",
       "      <td>2022-06-01 04:00:00</td>\n",
       "      <td>0.0</td>\n",
       "      <td>0.0</td>\n",
       "      <td>0.0</td>\n",
       "      <td>0.0</td>\n",
       "      <td>0.0</td>\n",
       "      <td>0.0</td>\n",
       "      <td>0.0</td>\n",
       "      <td>0.0</td>\n",
       "      <td>0.0</td>\n",
       "      <td>...</td>\n",
       "      <td>0.0</td>\n",
       "      <td>0.0</td>\n",
       "      <td>0.0</td>\n",
       "      <td>0.0</td>\n",
       "      <td>0.0</td>\n",
       "      <td>0.0</td>\n",
       "      <td>0.0</td>\n",
       "      <td>0.0</td>\n",
       "      <td>0.0</td>\n",
       "      <td>0.0</td>\n",
       "    </tr>\n",
       "  </tbody>\n",
       "</table>\n",
       "<p>5 rows × 45 columns</p>\n",
       "</div>"
      ],
      "text/plain": [
       "                  date  북춘천   철원  대관령   춘천  백령도  북강릉   강릉   서울   인천  ...  순창군  \\\n",
       "0  2022-06-01 00:00:00  0.0  0.0  0.0  0.0  0.0  0.0  0.0  0.0  0.0  ...  0.0   \n",
       "1  2022-06-01 01:00:00  0.0  0.0  0.0  0.0  0.0  0.0  0.0  0.0  0.0  ...  0.0   \n",
       "2  2022-06-01 02:00:00  0.0  0.0  0.0  0.0  0.0  0.0  0.0  0.0  0.0  ...  0.0   \n",
       "3  2022-06-01 03:00:00  0.0  0.0  0.0  0.0  0.0  0.0  0.0  0.0  0.0  ...  0.0   \n",
       "4  2022-06-01 04:00:00  0.0  0.0  0.0  0.0  0.0  0.0  0.0  0.0  0.0  ...  0.0   \n",
       "\n",
       "   북창원  양산시  보성군  강진군  의령군  함양군  광양시  청송군  경주시  \n",
       "0  0.0  0.0  0.0  0.0  0.0  0.0  0.0  0.0  0.0  \n",
       "1  0.0  0.0  0.0  0.0  0.0  0.0  0.0  0.0  0.0  \n",
       "2  0.0  0.0  0.0  0.0  0.0  0.0  0.0  0.0  0.0  \n",
       "3  0.0  0.0  0.0  0.0  0.0  0.0  0.0  0.0  0.0  \n",
       "4  0.0  0.0  0.0  0.0  0.0  0.0  0.0  0.0  0.0  \n",
       "\n",
       "[5 rows x 45 columns]"
      ]
     },
     "execution_count": 5,
     "metadata": {},
     "output_type": "execute_result"
    }
   ],
   "source": [
    "df = pd.read_csv('./data2/restructuring_data.csv')\n",
    "df.head()"
   ]
  },
  {
   "cell_type": "code",
   "execution_count": 6,
   "id": "ed0718f8-37d5-4e2c-970b-519829cfec86",
   "metadata": {},
   "outputs": [],
   "source": [
    "df2 = df.iloc[:,1:]"
   ]
  },
  {
   "cell_type": "code",
   "execution_count": 7,
   "id": "bdbc8479-cb73-4d3f-8c1c-46b9d4498f52",
   "metadata": {},
   "outputs": [
    {
     "data": {
      "text/plain": [
       "{'북춘천': 0,\n",
       " '철원': 1,\n",
       " '대관령': 2,\n",
       " '춘천': 3,\n",
       " '백령도': 4,\n",
       " '북강릉': 5,\n",
       " '강릉': 6,\n",
       " '서울': 7,\n",
       " '인천': 8,\n",
       " '원주': 9,\n",
       " '울릉도': 10,\n",
       " '수원': 11,\n",
       " '서산': 12,\n",
       " '청주': 13,\n",
       " '대전': 14,\n",
       " '추풍령': 15,\n",
       " '안동': 16,\n",
       " '포항': 17,\n",
       " '대구': 18,\n",
       " '전주': 19,\n",
       " '창원': 20,\n",
       " '광주': 21,\n",
       " '부산': 22,\n",
       " '목포': 23,\n",
       " '여수': 24,\n",
       " '흑산도': 25,\n",
       " '고창': 26,\n",
       " '홍성': 27,\n",
       " '제주': 28,\n",
       " '고산': 29,\n",
       " '진주': 30,\n",
       " '고창군': 31,\n",
       " '영광군': 32,\n",
       " '김해시': 33,\n",
       " '순창군': 34,\n",
       " '북창원': 35,\n",
       " '양산시': 36,\n",
       " '보성군': 37,\n",
       " '강진군': 38,\n",
       " '의령군': 39,\n",
       " '함양군': 40,\n",
       " '광양시': 41,\n",
       " '청송군': 42,\n",
       " '경주시': 43}"
      ]
     },
     "execution_count": 7,
     "metadata": {},
     "output_type": "execute_result"
    }
   ],
   "source": [
    "node_list =(df2.columns).tolist()\n",
    "node_ids = {node : i for i, node in enumerate(node_list)}\n",
    "node_ids"
   ]
  },
  {
   "cell_type": "code",
   "execution_count": 8,
   "id": "36dd8730-7006-4bf8-9404-e759f22e8b7e",
   "metadata": {},
   "outputs": [],
   "source": [
    "edges = []    \n",
    " \n",
    "for i in range(44):\n",
    "    for j in range(44):\n",
    "        # if i != j:\n",
    "            edges.append([i,j]) \n",
    "# print(edges)"
   ]
  },
  {
   "cell_type": "code",
   "execution_count": 11,
   "id": "b8e0c8eb-2f8d-4698-8a7e-c7d820155661",
   "metadata": {},
   "outputs": [
    {
     "data": {
      "text/plain": [
       "1936"
      ]
     },
     "execution_count": 11,
     "metadata": {},
     "output_type": "execute_result"
    }
   ],
   "source": [
    "len(edges) # 44*44"
   ]
  },
  {
   "cell_type": "code",
   "execution_count": 45,
   "id": "0605bd8d-85a4-42d3-a80e-8307ee54cf52",
   "metadata": {},
   "outputs": [],
   "source": [
    "weights = []    \n",
    " \n",
    "for i in range(44):\n",
    "    for j in range(44):\n",
    "        if i != j:\n",
    "            weights.append(weight.iloc[i,j]) \n",
    "        else: weights.append(0)"
   ]
  },
  {
   "cell_type": "code",
   "execution_count": 47,
   "id": "953b0cb9-ded3-4d6f-97a9-230f4dec8a0f",
   "metadata": {},
   "outputs": [
    {
     "data": {
      "text/plain": [
       "1936"
      ]
     },
     "execution_count": 47,
     "metadata": {},
     "output_type": "execute_result"
    }
   ],
   "source": [
    "len(weights) # 44*44"
   ]
  },
  {
   "cell_type": "code",
   "execution_count": 48,
   "id": "498e840b-a3e8-4de5-894f-703e25ae0da8",
   "metadata": {},
   "outputs": [
    {
     "data": {
      "text/plain": [
       "2568"
      ]
     },
     "execution_count": 48,
     "metadata": {},
     "output_type": "execute_result"
    }
   ],
   "source": [
    "len(df['date']) # time"
   ]
  },
  {
   "cell_type": "code",
   "execution_count": 49,
   "id": "0f3e63c1-645d-48db-86e6-2f753124579f",
   "metadata": {},
   "outputs": [],
   "source": [
    "FX = []    \n",
    "for i in range(2568):\n",
    "    FX.append(list(df2.iloc[i,:])) \n",
    "#FX"
   ]
  },
  {
   "cell_type": "code",
   "execution_count": 50,
   "id": "cc2f1e9e-bfd3-4711-a226-ba40200ab61a",
   "metadata": {},
   "outputs": [
    {
     "data": {
      "text/plain": [
       "(2568, 44)"
      ]
     },
     "execution_count": 50,
     "metadata": {},
     "output_type": "execute_result"
    }
   ],
   "source": [
    "np.array(FX).shape"
   ]
  },
  {
   "cell_type": "markdown",
   "id": "8d9ee392-b801-4cb3-be0b-148a19d8d126",
   "metadata": {},
   "source": [
    "`-` weights, edges, node_ids, FX"
   ]
  },
  {
   "cell_type": "code",
   "execution_count": 51,
   "id": "8979a4b4-0adc-441f-85a6-130d2dd724ee",
   "metadata": {},
   "outputs": [],
   "source": [
    "data_dict = {'edges':edges, 'node_ids':node_ids, 'weights':weights, 'FX':FX}"
   ]
  },
  {
   "cell_type": "code",
   "execution_count": 52,
   "id": "a61748cd-ba20-4513-8b2d-6d2d7747cf30",
   "metadata": {},
   "outputs": [
    {
     "data": {
      "text/plain": [
       "dict_keys(['edges', 'node_ids', 'weights', 'FX'])"
      ]
     },
     "execution_count": 52,
     "metadata": {},
     "output_type": "execute_result"
    }
   ],
   "source": [
    "data_dict.keys()"
   ]
  },
  {
   "cell_type": "code",
   "execution_count": 53,
   "id": "6abba313-029d-4c05-aa70-a2c134410596",
   "metadata": {},
   "outputs": [
    {
     "data": {
      "text/plain": [
       "0.8116250701261936"
      ]
     },
     "execution_count": 53,
     "metadata": {},
     "output_type": "execute_result"
    }
   ],
   "source": [
    "np.array(data_dict['weights']).mean()"
   ]
  },
  {
   "cell_type": "code",
   "execution_count": 54,
   "id": "59f436b9-5c76-45d6-a1e7-4c84b563a9b1",
   "metadata": {},
   "outputs": [],
   "source": [
    "with open('./data5/stgcn_data1.json', 'w') as f:\n",
    "    json.dump(data_dict, f)"
   ]
  },
  {
   "cell_type": "markdown",
   "id": "c44a64a9-48c4-4066-9287-e5178db01ae8",
   "metadata": {},
   "source": [
    "### STGCN Ver2 (++ edit)"
   ]
  },
  {
   "cell_type": "code",
   "execution_count": 209,
   "id": "0cce71dd-2202-4b07-9d49-ecac05f1c2af",
   "metadata": {},
   "outputs": [],
   "source": [
    "# ept_weight"
   ]
  },
  {
   "cell_type": "code",
   "execution_count": 55,
   "id": "96187cee-4b39-4118-8f12-f9a393d8705a",
   "metadata": {},
   "outputs": [],
   "source": [
    "ept_weights = []    \n",
    " \n",
    "for i in range(44):\n",
    "    for j in range(44):\n",
    "        if i != j:\n",
    "            ept_weights.append(ept_weight.iloc[i,j]) \n",
    "        else: ept_weights.append(0)"
   ]
  },
  {
   "cell_type": "code",
   "execution_count": 28,
   "id": "1b170c64-68fb-4dc3-a08b-f3a6486f25fa",
   "metadata": {},
   "outputs": [
    {
     "data": {
      "text/plain": [
       "1936"
      ]
     },
     "execution_count": 28,
     "metadata": {},
     "output_type": "execute_result"
    }
   ],
   "source": [
    "len(ept_weights) # 44*44"
   ]
  },
  {
   "cell_type": "code",
   "execution_count": 57,
   "id": "6278b186-447b-4b20-9f74-700ecc1d33c1",
   "metadata": {},
   "outputs": [
    {
     "data": {
      "text/plain": [
       "(0.8116250701261936, 0.5066930809528387)"
      ]
     },
     "execution_count": 57,
     "metadata": {},
     "output_type": "execute_result"
    }
   ],
   "source": [
    "np.mean(weights), np.mean(ept_weights)"
   ]
  },
  {
   "cell_type": "code",
   "execution_count": 58,
   "id": "1e69e9b9-d4d1-48fe-8789-fef5e766359d",
   "metadata": {},
   "outputs": [],
   "source": [
    "data_dict2 = data_dict.copy()"
   ]
  },
  {
   "cell_type": "code",
   "execution_count": 59,
   "id": "61936941-15d4-4fe3-9a17-9ce320f1eaaa",
   "metadata": {},
   "outputs": [],
   "source": [
    "data_dict2['weights'] = ept_weights"
   ]
  },
  {
   "cell_type": "code",
   "execution_count": 60,
   "id": "9d2711c7-d656-40d7-b442-ed8d4ee6d43a",
   "metadata": {},
   "outputs": [
    {
     "data": {
      "text/plain": [
       "[0,\n",
       " 0.907759100668583,\n",
       " 0.741068831832639,\n",
       " 0.968835370647473,\n",
       " 0.504767766362897,\n",
       " 0.544524976746219,\n",
       " 0.527829574702507,\n",
       " 0.803172492443386,\n",
       " 0.781489079941053,\n",
       " 0.712366118080602]"
      ]
     },
     "execution_count": 60,
     "metadata": {},
     "output_type": "execute_result"
    }
   ],
   "source": [
    "data_dict2['weights'][:10]"
   ]
  },
  {
   "cell_type": "code",
   "execution_count": 61,
   "id": "612196e9-268f-458d-811e-b57a1c275e86",
   "metadata": {},
   "outputs": [
    {
     "data": {
      "text/plain": [
       "(2568, 44)"
      ]
     },
     "execution_count": 61,
     "metadata": {},
     "output_type": "execute_result"
    }
   ],
   "source": [
    "np.array(data_dict2['FX']).shape"
   ]
  },
  {
   "cell_type": "code",
   "execution_count": 62,
   "id": "f5e0d8df-bafc-4602-8b7a-c83d9e139457",
   "metadata": {},
   "outputs": [
    {
     "data": {
      "text/plain": [
       "dict_keys(['edges', 'node_ids', 'weights', 'FX'])"
      ]
     },
     "execution_count": 62,
     "metadata": {},
     "output_type": "execute_result"
    }
   ],
   "source": [
    "data_dict2.keys()"
   ]
  },
  {
   "cell_type": "code",
   "execution_count": 63,
   "id": "d4f7f7cf-4287-4040-acf8-fb5c00095164",
   "metadata": {},
   "outputs": [
    {
     "data": {
      "text/plain": [
       "1936"
      ]
     },
     "execution_count": 63,
     "metadata": {},
     "output_type": "execute_result"
    }
   ],
   "source": [
    "len(data_dict2['edges'])"
   ]
  },
  {
   "cell_type": "code",
   "execution_count": 64,
   "id": "d4440dc8-3ca3-4b63-9ee8-5b09bc861265",
   "metadata": {},
   "outputs": [
    {
     "data": {
      "text/plain": [
       "0.8116250701261936"
      ]
     },
     "execution_count": 64,
     "metadata": {},
     "output_type": "execute_result"
    }
   ],
   "source": [
    "np.array(data_dict['weights']).mean()"
   ]
  },
  {
   "cell_type": "code",
   "execution_count": 65,
   "id": "dc0520c6-965a-40d6-966e-35f713255d51",
   "metadata": {},
   "outputs": [
    {
     "data": {
      "text/plain": [
       "0.5066930809528387"
      ]
     },
     "execution_count": 65,
     "metadata": {},
     "output_type": "execute_result"
    }
   ],
   "source": [
    "np.array(data_dict2['weights']).mean()"
   ]
  },
  {
   "cell_type": "code",
   "execution_count": 66,
   "id": "bf48e058-b1ce-432b-b2be-41b0e0252dba",
   "metadata": {},
   "outputs": [],
   "source": [
    "with open('./data5/stgcn_data2.json', 'w') as f:\n",
    "    json.dump(data_dict2, f)"
   ]
  },
  {
   "cell_type": "code",
   "execution_count": 373,
   "id": "13f7fe6a-5ddb-4e8f-8e42-976eafd319ca",
   "metadata": {},
   "outputs": [],
   "source": [
    "# with open(file_path, 'r') as f:\n",
    "#     test2 = json.load(f, encoding='cp949')"
   ]
  },
  {
   "cell_type": "code",
   "execution_count": 402,
   "id": "a3a824f1-efd1-428a-9717-7c292d122027",
   "metadata": {},
   "outputs": [
    {
     "data": {
      "text/plain": [
       "(2568, 44)"
      ]
     },
     "execution_count": 402,
     "metadata": {},
     "output_type": "execute_result"
    }
   ],
   "source": [
    "np.array(test2['FX']).shape"
   ]
  },
  {
   "cell_type": "code",
   "execution_count": 383,
   "id": "b47cab01-0f73-49bd-9d4e-fb8ee7d5ec5d",
   "metadata": {},
   "outputs": [
    {
     "data": {
      "text/plain": [
       "1892"
      ]
     },
     "execution_count": 383,
     "metadata": {},
     "output_type": "execute_result"
    }
   ],
   "source": [
    "len(ept_weights)"
   ]
  },
  {
   "cell_type": "code",
   "execution_count": 408,
   "id": "94828cc8-81c7-4557-965a-2558aa101f2e",
   "metadata": {},
   "outputs": [
    {
     "data": {
      "text/plain": [
       "list"
      ]
     },
     "execution_count": 408,
     "metadata": {},
     "output_type": "execute_result"
    }
   ],
   "source": [
    "type(ept_weights)"
   ]
  },
  {
   "cell_type": "markdown",
   "id": "91976797-2555-4abb-8581-da19b3fe0e12",
   "metadata": {},
   "source": [
    "## No weights"
   ]
  },
  {
   "cell_type": "code",
   "execution_count": 410,
   "id": "5a5d19be-96ce-4dcc-9066-92d90e46f122",
   "metadata": {},
   "outputs": [],
   "source": [
    "no_weights = np.ones(1892).tolist()"
   ]
  },
  {
   "cell_type": "code",
   "execution_count": 389,
   "id": "eaa0b86c-a5fb-4b25-ac6f-f0c4cefcbb29",
   "metadata": {},
   "outputs": [],
   "source": [
    "data_dict3 = data_dict.copy()"
   ]
  },
  {
   "cell_type": "code",
   "execution_count": 391,
   "id": "04c971bd-281b-4457-86a5-10eda5c9579a",
   "metadata": {},
   "outputs": [
    {
     "data": {
      "text/plain": [
       "dict_keys(['edges', 'node_ids', 'weights', 'FX'])"
      ]
     },
     "execution_count": 391,
     "metadata": {},
     "output_type": "execute_result"
    }
   ],
   "source": [
    "data_dict3.keys()"
   ]
  },
  {
   "cell_type": "code",
   "execution_count": 411,
   "id": "0b544929-b3d1-432e-a8b2-77a1dab8ac51",
   "metadata": {},
   "outputs": [],
   "source": [
    "data_dict3['weights'] = no_weights"
   ]
  },
  {
   "cell_type": "code",
   "execution_count": 412,
   "id": "b037d819-2c1c-4fe2-9dab-ff8f8c2f6b62",
   "metadata": {},
   "outputs": [],
   "source": [
    "file_path2 = './data4/stgcn_data0.json'"
   ]
  },
  {
   "cell_type": "code",
   "execution_count": 413,
   "id": "b3bd50df-dbed-473f-9b92-261ba3077950",
   "metadata": {},
   "outputs": [],
   "source": [
    "with open(file_path2, 'w') as f:\n",
    "    json.dump(data_dict3, f)"
   ]
  },
  {
   "cell_type": "code",
   "execution_count": 416,
   "id": "d28edf5c-f46d-4192-98ae-b5f576755751",
   "metadata": {},
   "outputs": [
    {
     "data": {
      "text/plain": [
       "dict_keys(['edges', 'node_ids', 'weights', 'FX'])"
      ]
     },
     "execution_count": 416,
     "metadata": {},
     "output_type": "execute_result"
    }
   ],
   "source": [
    "data_dict3.keys()"
   ]
  },
  {
   "cell_type": "markdown",
   "id": "75bcbb13-68a3-4d13-98f6-80bd6063cf17",
   "metadata": {},
   "source": [
    "## Comparision"
   ]
  },
  {
   "cell_type": "code",
   "execution_count": 331,
   "id": "74ec59e0-5f4e-4bb5-aa6d-15194f7df9e4",
   "metadata": {},
   "outputs": [
    {
     "data": {
      "text/plain": [
       "<matplotlib.legend.Legend at 0x7fcda76bb730>"
      ]
     },
     "execution_count": 331,
     "metadata": {},
     "output_type": "execute_result"
    },
    {
     "data": {
      "image/png": "[encoded data removed]",
      "text/plain": [
       "<Figure size 432x288 with 1 Axes>"
      ]
     },
     "metadata": {
      "needs_background": "light"
     },
     "output_type": "display_data"
    }
   ],
   "source": [
    "plt.hist(np.array(weights), alpha = 0.5, label = 'weights')\n",
    "plt.hist(np.array(ept_weights), alpha = 0.5, label = 'EPT weights')\n",
    "plt.legend(loc='upper left')"
   ]
  },
  {
   "cell_type": "markdown",
   "id": "b1d50b89-2422-4b41-83a7-80da20400248",
   "metadata": {},
   "source": [
    "- 모듈 수정"
   ]
  }
 ],
 "metadata": {
  "kernelspec": {
   "display_name": "Python 3",
   "language": "python",
   "name": "python3"
  },
  "language_info": {
   "codemirror_mode": {
    "name": "ipython",
    "version": 3
   },
   "file_extension": ".py",
   "mimetype": "text/x-python",
   "name": "python",
   "nbconvert_exporter": "python",
   "pygments_lexer": "ipython3",
   "version": "3.8.16"
  }
 },
 "nbformat": 4,
 "nbformat_minor": 5
}
