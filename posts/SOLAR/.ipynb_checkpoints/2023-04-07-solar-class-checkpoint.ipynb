{
 "cells": [
  {
   "cell_type": "raw",
   "id": "cca644e7-92e4-4bb0-8e54-02b3d6dfcfa4",
   "metadata": {},
   "source": [
    "---\n",
    "title: \"WindmillOutputLargeDatasetLoader\"\n",
    "author: \"JiyunLim\"\n",
    "date: \"04/05/2023\"\n",
    "categories:\n",
    "  - STGCN\n",
    "  - Chikenpox \n",
    "---"
   ]
  },
  {
   "cell_type": "code",
   "execution_count": 1,
   "id": "3802616e-b257-45bb-b2ad-845581bf10e9",
   "metadata": {},
   "outputs": [],
   "source": [
    "import pandas as pd\n",
    "import numpy as np\n",
    "import json\n",
    "import urllib"
   ]
  },
  {
   "cell_type": "code",
   "execution_count": 2,
   "id": "f045c4d7-e3e4-4d34-8007-5108b1e15401",
   "metadata": {},
   "outputs": [],
   "source": [
    "# 일반적인 모듈 \n",
    "import numpy as np\n",
    "import matplotlib.pyplot as plt \n",
    "import networkx as nx \n",
    "from tqdm import tqdm \n",
    "\n",
    "# 파이토치 관련 \n",
    "import torch\n",
    "import torch.nn.functional as F\n",
    "\n",
    "# PyG 관련 \n",
    "from torch_geometric.data import Data ## Data: 그래프자료형을 만드는 클래스\n",
    "\n",
    "# STGCN 관련 \n",
    "import torch_geometric_temporal\n",
    "from torch_geometric_temporal.nn.recurrent import GConvGRU\n",
    "from torch_geometric_temporal.signal import temporal_signal_split "
   ]
  },
  {
   "cell_type": "code",
   "execution_count": 3,
   "id": "6ad89d6b-bd87-4f51-8659-d578d79f8d89",
   "metadata": {},
   "outputs": [
    {
     "data": {
      "text/plain": [
       "dict_keys(['block', 'time_periods', 'weights', 'edges'])"
      ]
     },
     "execution_count": 3,
     "metadata": {},
     "output_type": "execute_result"
    }
   ],
   "source": [
    "url = \"https://graphmining.ai/temporal_datasets/windmill_output.json\"\n",
    "data_dict = json.loads(urllib.request.urlopen(url).read())\n",
    "data_dict.keys()"
   ]
  },
  {
   "cell_type": "code",
   "execution_count": 7,
   "id": "2d374a30-948d-4d81-a3d0-b75ef24778dc",
   "metadata": {},
   "outputs": [
    {
     "data": {
      "text/plain": [
       "list"
      ]
     },
     "execution_count": 7,
     "metadata": {},
     "output_type": "execute_result"
    }
   ],
   "source": [
    "type(data_dict['weights']) # list 형태로 들어가있음."
   ]
  },
  {
   "cell_type": "code",
   "execution_count": 10,
   "id": "3c4f407b-b61b-40b9-aa13-b88c7735c379",
   "metadata": {},
   "outputs": [
    {
     "data": {
      "text/plain": [
       "list"
      ]
     },
     "execution_count": 10,
     "metadata": {},
     "output_type": "execute_result"
    }
   ],
   "source": [
    "type(data_dict['block']) # list 형태로 들어가 있음."
   ]
  },
  {
   "cell_type": "code",
   "execution_count": 24,
   "id": "206608df-1cea-4285-8eec-564bb44df33d",
   "metadata": {},
   "outputs": [
    {
     "data": {
      "text/plain": [
       "array([[0.1287, 0.1167, 0.0812, ..., 0.027 , 0.0201, 0.0228],\n",
       "       [0.0817, 0.1078, 0.1054, ..., 0.0439, 0.0262, 0.021 ],\n",
       "       [0.9418, 0.9589, 0.9447, ..., 0.7815, 0.8621, 0.2498],\n",
       "       ...,\n",
       "       [0.1391, 0.1829, 0.1383, ..., 0.0359, 0.0335, 0.0219],\n",
       "       [0.5972, 0.6057, 0.6123, ..., 0.2606, 0.4203, 0.1954],\n",
       "       [0.1298, 0.1504, 0.1442, ..., 0.0256, 0.093 , 0.0158]])"
      ]
     },
     "execution_count": 24,
     "metadata": {},
     "output_type": "execute_result"
    }
   ],
   "source": [
    "np.array(data_dict['block'])"
   ]
  },
  {
   "cell_type": "code",
   "execution_count": 22,
   "id": "f09e47f4-fdec-4380-9b53-1d053df5347a",
   "metadata": {},
   "outputs": [
    {
     "data": {
      "text/plain": [
       "(17472, 319)"
      ]
     },
     "execution_count": 22,
     "metadata": {},
     "output_type": "execute_result"
    }
   ],
   "source": [
    "np.array(data_dict['block']).shape"
   ]
  },
  {
   "cell_type": "code",
   "execution_count": 16,
   "id": "7118b38c-1a56-40aa-9cc4-59b86268e2d9",
   "metadata": {},
   "outputs": [
    {
     "data": {
      "text/plain": [
       "list"
      ]
     },
     "execution_count": 16,
     "metadata": {},
     "output_type": "execute_result"
    }
   ],
   "source": [
    "type(data_dict['block'])"
   ]
  },
  {
   "cell_type": "code",
   "execution_count": 21,
   "id": "c09e42ce-cb58-4d4d-b445-40a6a971f793",
   "metadata": {},
   "outputs": [
    {
     "data": {
      "text/plain": [
       "(101761,)"
      ]
     },
     "execution_count": 21,
     "metadata": {},
     "output_type": "execute_result"
    }
   ],
   "source": [
    "np.array(data_dict['weights']).shape"
   ]
  },
  {
   "cell_type": "code",
   "execution_count": 18,
   "id": "a7b59c71-38cc-4384-8863-4d754d7a8d07",
   "metadata": {},
   "outputs": [],
   "source": [
    "# data_dict['block']"
   ]
  },
  {
   "cell_type": "code",
   "execution_count": 25,
   "id": "b24590a2-1792-477d-aeb3-8fe1cbe948be",
   "metadata": {},
   "outputs": [],
   "source": [
    "# data_dict['edges']"
   ]
  },
  {
   "cell_type": "code",
   "execution_count": null,
   "id": "f9e2f683-e618-4da8-b24b-a0c315720222",
   "metadata": {},
   "outputs": [],
   "source": [
    "import json\n",
    "import urllib\n",
    "import numpy as np\n",
    "from ..signal import StaticGraphTemporalSignal\n",
    "\n",
    "\n",
    "class WindmillOutputLargeDatasetLoader(object):\n",
    "    \"\"\"Hourly energy output of windmills from a European country\n",
    "    for more than 2 years. Vertices represent 319 windmills and\n",
    "    weighted edges describe the strength of relationships. The target\n",
    "    variable allows for regression tasks.\n",
    "    \"\"\"\n",
    "\n",
    "    def __init__(self):\n",
    "        self._read_web_data()\n",
    "\n",
    "    def _read_web_data(self):\n",
    "        url = \"https://graphmining.ai/temporal_datasets/windmill_output.json\"\n",
    "        self._dataset = json.loads(urllib.request.urlopen(url).read().decode())\n",
    "\n",
    "    def _get_edges(self):\n",
    "        self._edges = np.array(self._dataset[\"edges\"]).T\n",
    "\n",
    "    def _get_edge_weights(self):\n",
    "        self._edge_weights = np.array(self._dataset[\"weights\"]).T\n",
    "\n",
    "    def _get_targets_and_features(self):\n",
    "        stacked_target = np.stack(self._dataset[\"block\"])\n",
    "        standardized_target = (stacked_target - np.mean(stacked_target, axis=0)) / (\n",
    "            np.std(stacked_target, axis=0) + 10 ** -10\n",
    "        )\n",
    "        self.features = [\n",
    "            standardized_target[i : i + self.lags, :].T\n",
    "            for i in range(standardized_target.shape[0] - self.lags)\n",
    "        ]\n",
    "        self.targets = [\n",
    "            standardized_target[i + self.lags, :].T\n",
    "            for i in range(standardized_target.shape[0] - self.lags)\n",
    "        ]\n",
    "\n",
    "    def get_dataset(self, lags: int = 8) -> StaticGraphTemporalSignal:\n",
    "        \"\"\"Returning the Windmill Output data iterator.\n",
    "\n",
    "        Args types:\n",
    "            * **lags** *(int)* - The number of time lags.\n",
    "        Return types:\n",
    "            * **dataset** *(StaticGraphTemporalSignal)* - The Windmill Output dataset.\n",
    "        \"\"\"\n",
    "        self.lags = lags\n",
    "        self._get_edges()\n",
    "        self._get_edge_weights()\n",
    "        self._get_targets_and_features()\n",
    "        dataset = StaticGraphTemporalSignal(\n",
    "            self._edges, self._edge_weights, self.features, self.targets\n",
    "        )\n",
    "        return dataset"
   ]
  },
  {
   "cell_type": "code",
   "execution_count": 37,
   "id": "c4978573-8c79-4709-86eb-5a8a2f2857d9",
   "metadata": {},
   "outputs": [],
   "source": [
    "torch_geometric_temporal.signal.StaticGraphTemporalSignal "
   ]
  },
  {
   "cell_type": "code",
   "execution_count": 45,
   "id": "51002771-5374-4a17-ae36-e15731e01a4f",
   "metadata": {},
   "outputs": [],
   "source": [
    "import json\n",
    "import urllib\n",
    "import numpy as np\n",
    "from torch_geometric_temporal.signal.static_graph_temporal_signal import StaticGraphTemporalSignal"
   ]
  },
  {
   "cell_type": "code",
   "execution_count": 38,
   "id": "bd149b45-b343-4105-ae7c-e7987d0ef047",
   "metadata": {},
   "outputs": [],
   "source": [
    "class SolarDatasetLoader(object):\n",
    "    \"\"\"Hourly energy output of windmills from a European country\n",
    "    for more than 2 years. Vertices represent 319 windmills and\n",
    "    weighted edges describe the strength of relationships. The target\n",
    "    variable allows for regression tasks.\n",
    "    \"\"\"\n",
    "\n",
    "    def __init__(self):\n",
    "        self._read_web_data()\n",
    "\n",
    "    def _read_web_data(self):\n",
    "        url = \"https://raw.githubusercontent.com/pinkocto/noteda/main/posts/SOLAR/data/solar.json\"\n",
    "        self._dataset = json.loads(urllib.request.urlopen(url).read().decode())\n",
    "\n",
    "    def _get_edges(self):\n",
    "        self._edges = np.array(self._dataset[\"edges\"]).T\n",
    "\n",
    "    def _get_edge_weights(self):\n",
    "        self._edge_weights = np.array(self._dataset[\"weights\"]).T\n",
    "\n",
    "    def _get_targets_and_features(self):\n",
    "        stacked_target = np.stack(self._dataset[\"FX\"])\n",
    "        self.features = [\n",
    "            stacked_target[i : i + self.lags, :].T\n",
    "            for i in range(stacked_target.shape[0] - self.lags)\n",
    "        ]\n",
    "        self.targets = [\n",
    "            stacked_target[i + self.lags, :].T\n",
    "            for i in range(stacked_target.shape[0] - self.lags)\n",
    "        ]\n",
    "\n",
    "    def get_dataset(self, lags: int = 4) -> StaticGraphTemporalSignal:\n",
    "        \"\"\"Returning the Windmill Output data iterator.\n",
    "\n",
    "        Args types:\n",
    "            * **lags** *(int)* - The number of time lags.\n",
    "        Return types:\n",
    "            * **dataset** *(StaticGraphTemporalSignal)* - The Windmill Output dataset.\n",
    "        \"\"\"\n",
    "        self.lags = lags\n",
    "        self._get_edges()\n",
    "        self._get_edge_weights()\n",
    "        self._get_targets_and_features()\n",
    "        dataset = StaticGraphTemporalSignal(\n",
    "            self._edges, self._edge_weights, self.features, self.targets\n",
    "        )\n",
    "        return dataset"
   ]
  },
  {
   "cell_type": "code",
   "execution_count": 41,
   "id": "7515bd2f-08b0-4a17-997a-b2e59d0f083f",
   "metadata": {},
   "outputs": [],
   "source": [
    "loader = SolarDatasetLoader()\n",
    "dataset = loader.get_dataset(lags=4)\n",
    "train_dataset, test_dataset = temporal_signal_split(dataset, train_ratio=0.8)"
   ]
  },
  {
   "cell_type": "code",
   "execution_count": 44,
   "id": "b396cf77-41c6-46f5-a807-ff5f754cf719",
   "metadata": {},
   "outputs": [
    {
     "data": {
      "text/plain": [
       "<torch_geometric_temporal.signal.static_graph_temporal_signal.StaticGraphTemporalSignal at 0x7f82258d5f40>"
      ]
     },
     "execution_count": 44,
     "metadata": {},
     "output_type": "execute_result"
    }
   ],
   "source": [
    "dataset"
   ]
  },
  {
   "cell_type": "code",
   "execution_count": null,
   "id": "eeb18395-8169-4c1c-8f95-8d4fa0566f3f",
   "metadata": {},
   "outputs": [],
   "source": [
    "model = RecurrentGCN(node_features=4, filters=32)\n",
    "optimizer = torch.optim.Adam(model.parameters(), lr=0.01)\n",
    "model.train()\n",
    "\n",
    "for epoch in tqdm(range(50)):\n",
    "    for t, snapshot in enumerate(train_dataset):\n",
    "        yt_hat = model(snapshot.x, snapshot.edge_index, snapshot.edge_attr)\n",
    "        cost = torch.mean((yt_hat-snapshot.y)**2)\n",
    "        cost.backward()\n",
    "        optimizer.step()\n",
    "        optimizer.zero_grad()"
   ]
  },
  {
   "cell_type": "code",
   "execution_count": 46,
   "id": "8b4fb53d-8c03-4dc7-b120-687183979a4f",
   "metadata": {},
   "outputs": [],
   "source": [
    "import mysolar"
   ]
  },
  {
   "cell_type": "code",
   "execution_count": null,
   "id": "dc69d4f2-72c0-458d-98c1-940e4ccd254c",
   "metadata": {},
   "outputs": [],
   "source": []
  }
 ],
 "metadata": {
  "kernelspec": {
   "display_name": "Python 3",
   "language": "python",
   "name": "python3"
  },
  "language_info": {
   "codemirror_mode": {
    "name": "ipython",
    "version": 3
   },
   "file_extension": ".py",
   "mimetype": "text/x-python",
   "name": "python",
   "nbconvert_exporter": "python",
   "pygments_lexer": "ipython3",
   "version": "3.8.16"
  }
 },
 "nbformat": 4,
 "nbformat_minor": 5
}
