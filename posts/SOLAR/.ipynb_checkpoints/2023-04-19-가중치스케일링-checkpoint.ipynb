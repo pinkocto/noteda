{
 "cells": [
  {
   "cell_type": "raw",
   "id": "17f583a4-9155-4362-895f-b7c7a3363139",
   "metadata": {},
   "source": [
    "---\n",
    "title: \" **[SOLAR]** 가중치 스케일링\"\n",
    "author: \"jiyunLim\"\n",
    "date: \"04/19/2023\"\n",
    "categories:\n",
    "  - Research\n",
    "  - STGCN\n",
    "  - SOLAR\n",
    "---"
   ]
  },
  {
   "cell_type": "code",
   "execution_count": 44,
   "id": "fda7a556-48e4-4642-b599-46840c54d90a",
   "metadata": {},
   "outputs": [],
   "source": [
    "import pandas as pd\n",
    "import numpy as np\n",
    "from scipy.sparse.linalg import eigs\n",
    "import gc\n",
    "\n",
    "import matplotlib.pyplot as plt\n",
    "import seaborn as sns\n",
    "# from math_graph import scaled_laplacian"
   ]
  },
  {
   "cell_type": "code",
   "execution_count": null,
   "id": "4148e54d-cfbc-4a54-9ca5-52c8552c91e9",
   "metadata": {},
   "outputs": [],
   "source": [
    "def scaled_laplacian_(W):\n",
    "    '''\n",
    "    Normalized graph Laplacian function.\n",
    "    :param W: np.ndarray, [n_route, n_route], weighted adjacency matrix of G.\n",
    "    :return: np.matrix, [n_route, n_route].\n",
    "    '''\n",
    "    # d ->  diagonal degree matrix\n",
    "    W = W.to_numpy()\n",
    "    n, d = np.shape(W)[0], np.sum(W, axis=1)\n",
    "    # L -> graph Laplacian\n",
    "    L = -W\n",
    "    L[np.diag_indices_from(L)] = d\n",
    "    for i in range(n):\n",
    "        for j in range(n):\n",
    "            if (d[i] > 0) and (d[j] > 0):\n",
    "                L[i, j] = L[i, j] / np.sqrt(d[i] * d[j])\n",
    "    # lambda_max \\approx 2.0, the largest eigenvalues of L.\n",
    "    lambda_max = eigs(L, k=1, which='LR')[0][0].real\n",
    "    return np.mat(2 * L / lambda_max - np.identity(n))"
   ]
  },
  {
   "cell_type": "code",
   "execution_count": 48,
   "id": "1f883ab9-7d5f-438e-a272-8da35f62eaf1",
   "metadata": {},
   "outputs": [],
   "source": [
    "W = W.to_numpy()\n",
    "n, d = np.shape(W)[0], np.sum(W, axis=1)\n",
    "# L -> graph Laplacian\n",
    "L = -W"
   ]
  },
  {
   "cell_type": "code",
   "execution_count": 49,
   "id": "e29a038b-fbeb-4a25-8345-761ad23151f6",
   "metadata": {},
   "outputs": [],
   "source": [
    "L[np.diag_indices_from(L)] = d"
   ]
  },
  {
   "cell_type": "code",
   "execution_count": 52,
   "id": "dbe5609a-1840-4c2e-993d-d9d0eb843c50",
   "metadata": {},
   "outputs": [],
   "source": [
    "W = pd.read_csv('./data2/weight.csv') ## correlation"
   ]
  },
  {
   "cell_type": "code",
   "execution_count": 53,
   "id": "68cd856f-3ad0-448e-b75b-87d5d59be581",
   "metadata": {},
   "outputs": [],
   "source": [
    "W_ = pd.read_csv('./data2/yU_weight.csv') ## EPT correlation"
   ]
  },
  {
   "cell_type": "code",
   "execution_count": 5,
   "id": "0e1d0b04-506c-45fe-a31b-fdc88613fff5",
   "metadata": {},
   "outputs": [],
   "source": [
    "scaled_w = scaled_laplacian(W)"
   ]
  },
  {
   "cell_type": "code",
   "execution_count": 6,
   "id": "24ed722d-8e81-470a-a9a1-41a4a0758473",
   "metadata": {},
   "outputs": [],
   "source": [
    "ept_scaled_w = scaled_laplacian(W_)"
   ]
  },
  {
   "cell_type": "code",
   "execution_count": 15,
   "id": "a457536e-f120-42f7-b2a2-d52af25348b8",
   "metadata": {},
   "outputs": [
    {
     "data": {
      "image/png": "[encoded data removed]",
      "text/plain": [
       "<Figure size 432x288 with 1 Axes>"
      ]
     },
     "metadata": {
      "needs_background": "light"
     },
     "output_type": "display_data"
    }
   ],
   "source": [
    "plt.hist(ept_scaled_w)\n",
    "plt.show()"
   ]
  },
  {
   "cell_type": "code",
   "execution_count": 18,
   "id": "d32629d7-2ede-4df3-90e9-1ce3a8ceed7e",
   "metadata": {},
   "outputs": [
    {
     "data": {
      "text/plain": [
       "matrix([[ 0.88493057, -0.096756  , -0.06702422, -0.09308737, -0.07113124,\n",
       "         -0.04993536, -0.0500738 , -0.0844711 , -0.07289084, -0.06299807,\n",
       "         -0.03927706, -0.06931399, -0.05943873, -0.04844248, -0.04286681,\n",
       "         -0.03532173, -0.03593824, -0.01937131, -0.03274961, -0.03803474,\n",
       "         -0.02909965, -0.03325862, -0.02841219, -0.02400141, -0.02778651,\n",
       "         -0.02989302, -0.03173424, -0.0509572 , -0.00151091, -0.02961854,\n",
       "         -0.02231168, -0.0255294 , -0.02703356, -0.01730217, -0.03346892,\n",
       "         -0.01635658, -0.02654869, -0.02092417, -0.02208501, -0.02066794,\n",
       "         -0.02647098, -0.0262092 , -0.03962727, -0.0205895 ]])"
      ]
     },
     "execution_count": 18,
     "metadata": {},
     "output_type": "execute_result"
    }
   ],
   "source": [
    "ept_scaled_w[0]"
   ]
  },
  {
   "cell_type": "code",
   "execution_count": 33,
   "id": "5561c8dc-85f8-491a-8cc8-0bb5ffe4a16d",
   "metadata": {},
   "outputs": [
    {
     "data": {
      "text/plain": [
       "(array([43.,  0.,  0.,  0.,  0.,  0.,  0.,  0.,  0.,  1.]),\n",
       " array([-0.05357515,  0.04638357,  0.14634228,  0.246301  ,  0.34625972,\n",
       "         0.44621843,  0.54617715,  0.64613587,  0.74609459,  0.8460533 ,\n",
       "         0.94601202]),\n",
       " <BarContainer object of 10 artists>)"
      ]
     },
     "execution_count": 33,
     "metadata": {},
     "output_type": "execute_result"
    },
    {
     "data": {
      "image/png": "[encoded data removed]",
      "text/plain": [
       "<Figure size 432x288 with 1 Axes>"
      ]
     },
     "metadata": {
      "needs_background": "light"
     },
     "output_type": "display_data"
    }
   ],
   "source": [
    "plt.hist(ept_scaled_w[:,0], alpha=.5)\n",
    "plt.hist(scaled_w[:,0], alpha=.5)"
   ]
  },
  {
   "cell_type": "code",
   "execution_count": 43,
   "id": "3352d278-8d71-49fd-901e-8eaa434a1446",
   "metadata": {},
   "outputs": [
    {
     "data": {
      "text/plain": [
       "<Axes: >"
      ]
     },
     "execution_count": 43,
     "metadata": {},
     "output_type": "execute_result"
    },
    {
     "data": {
      "image/png": "[encoded data removed]",
      "text/plain": [
       "<Figure size 432x288 with 2 Axes>"
      ]
     },
     "metadata": {
      "needs_background": "light"
     },
     "output_type": "display_data"
    }
   ],
   "source": [
    "sns.heatmap(scaled_w)"
   ]
  },
  {
   "cell_type": "code",
   "execution_count": 54,
   "id": "78c4bfb7-389c-44b2-96da-43fdbd94be19",
   "metadata": {},
   "outputs": [],
   "source": [
    "W.to_csv('./data3/scaled_w.csv', index=False)\n",
    "W_.to_csv('./data3/ept_scaled_w.csv', index=False)"
   ]
  }
 ],
 "metadata": {
  "kernelspec": {
   "display_name": "Python 3",
   "language": "python",
   "name": "python3"
  },
  "language_info": {
   "codemirror_mode": {
    "name": "ipython",
    "version": 3
   },
   "file_extension": ".py",
   "mimetype": "text/x-python",
   "name": "python",
   "nbconvert_exporter": "python",
   "pygments_lexer": "ipython3",
   "version": "3.8.16"
  }
 },
 "nbformat": 4,
 "nbformat_minor": 5
}
