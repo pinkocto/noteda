{
 "cells": [
  {
   "cell_type": "raw",
   "id": "4fcf26de-6a92-4963-b5be-016d224d1ac7",
   "metadata": {},
   "source": [
    "---\n",
    "title: \"WindmillOutputLargeDatasetLoader\"\n",
    "author: \"JiyunLim\"\n",
    "date: \"04/06/2023\"\n",
    "categories:\n",
    "  - STGCN\n",
    "  - WindmillOutput \n",
    "---"
   ]
  },
  {
   "cell_type": "markdown",
   "id": "eab4df5c-2a91-4e98-af55-0fe43d1c9654",
   "metadata": {},
   "source": [
    "## Ref\n",
    "\n",
    "- <https://pytorch-geometric-temporal.readthedocs.io/en/latest/modules/dataset.html#module-torch_geometric_temporal.dataset.chickenpox>\n",
    "\n",
    "- <https://seoyeonc.github.io/blog/posts/GCN/2023-03-20-data%20load,%20data%20save%20as%20pickle.html#windmilloutputlargedatasetloader>"
   ]
  },
  {
   "cell_type": "markdown",
   "id": "216f9f48-55d0-41b9-b457-405e7da094d2",
   "metadata": {},
   "source": [
    "## import"
   ]
  },
  {
   "cell_type": "code",
   "execution_count": 4,
   "id": "c645ebbb-3e13-431e-bb64-eff06ddb57f1",
   "metadata": {},
   "outputs": [],
   "source": [
    "import pandas as pd\n",
    "import numpy as np\n",
    "import json\n",
    "import urllib"
   ]
  },
  {
   "cell_type": "code",
   "execution_count": 61,
   "id": "c54413dd-9642-40f7-ae24-d178d47829d4",
   "metadata": {},
   "outputs": [],
   "source": [
    "# 일반적인 모듈 \n",
    "import numpy as np\n",
    "import matplotlib.pyplot as plt \n",
    "import networkx as nx \n",
    "from tqdm import tqdm \n",
    "\n",
    "# 파이토치 관련 \n",
    "import torch\n",
    "import torch.nn.functional as F\n",
    "\n",
    "# PyG 관련 \n",
    "from torch_geometric.data import Data ## Data: 그래프자료형을 만드는 클래스\n",
    "\n",
    "# STGCN 관련 \n",
    "import torch_geometric_temporal\n",
    "from torch_geometric_temporal.nn.recurrent import GConvGRU\n",
    "from torch_geometric_temporal.signal import temporal_signal_split "
   ]
  },
  {
   "cell_type": "code",
   "execution_count": 62,
   "id": "b4c5342e-ffc1-4112-9342-a71b1cca783c",
   "metadata": {},
   "outputs": [],
   "source": [
    "class RecurrentGCN(torch.nn.Module):\n",
    "    def __init__(self, node_features, filters):\n",
    "        super(RecurrentGCN, self).__init__()\n",
    "        self.recurrent = GConvGRU(node_features, filters, 2)\n",
    "        self.linear = torch.nn.Linear(filters, 1)\n",
    "\n",
    "    def forward(self, x, edge_index, edge_weight):\n",
    "        h = self.recurrent(x, edge_index, edge_weight)\n",
    "        h = F.relu(h)\n",
    "        h = self.linear(h)\n",
    "        return h"
   ]
  },
  {
   "cell_type": "markdown",
   "id": "b1ada449-b690-43a5-b793-7d3f85cffc39",
   "metadata": {},
   "source": [
    "## WindmillOutputLargeDataset 살펴보기"
   ]
  },
  {
   "cell_type": "markdown",
   "id": "2b74cd30-fae7-46e0-86de-1442d1f13dd2",
   "metadata": {},
   "source": [
    "> ***weighted edges***"
   ]
  },
  {
   "cell_type": "markdown",
   "id": "84983a0c-c673-4db2-ac15-da5ced103110",
   "metadata": {},
   "source": [
    "Hourly energy output of windmills from a European country for more than 2 years. Vertices represent 319 windmills and weighted edges describe the strength of relationships. The target variable allows for regression tasks."
   ]
  },
  {
   "cell_type": "markdown",
   "id": "8b30966f-ef7b-4e22-a63f-ad41b7882149",
   "metadata": {},
   "source": [
    "- $T = 17472$ \n",
    "- $V = $ 풍력발전소\n",
    "- $N = $ 노드 수\n",
    "- $E = 101761 = N^2$ 에지 수"
   ]
  },
  {
   "cell_type": "markdown",
   "id": "5c7f243b-e0a5-4f64-8c1d-b96a1b22bf32",
   "metadata": {},
   "source": [
    "${\\bf f}=\\begin{bmatrix} {\\bf f}_1\\\\ {\\bf f}_2\\\\ \\dots \\\\ {\\bf f}_{17472} \\end{bmatrix}=\\begin{bmatrix} f(t=1,v=\\tt{V1}) & \\dots & f(t=1,v=\\tt{V319}) \\\\ f(t=2,v=\\tt{V1}) & \\dots & f(t=2,v=\\tt{V319}) \\\\ \\dots & \\dots & \\dots \\\\ f(t=17472,v=\\tt{V1}) & \\dots & f(t=17472,v=\\tt{V319}) \\end{bmatrix}$"
   ]
  },
  {
   "cell_type": "code",
   "execution_count": 5,
   "id": "44aa461f-1c29-4136-b8b6-2584533cb0b5",
   "metadata": {},
   "outputs": [
    {
     "data": {
      "text/plain": [
       "dict_keys(['block', 'time_periods', 'weights', 'edges'])"
      ]
     },
     "execution_count": 5,
     "metadata": {},
     "output_type": "execute_result"
    }
   ],
   "source": [
    "url = \"https://graphmining.ai/temporal_datasets/windmill_output.json\"\n",
    "data_dict = json.loads(urllib.request.urlopen(url).read())\n",
    "data_dict.keys()"
   ]
  },
  {
   "cell_type": "code",
   "execution_count": 46,
   "id": "c03632c3-edcb-4e30-b4b0-42795eb55af2",
   "metadata": {},
   "outputs": [
    {
     "data": {
      "text/plain": [
       "17520"
      ]
     },
     "execution_count": 46,
     "metadata": {},
     "output_type": "execute_result"
    }
   ],
   "source": [
    "365*2*24 # 1년 365일 기준 하루 24시간 --> 17520시간."
   ]
  },
  {
   "cell_type": "code",
   "execution_count": 43,
   "id": "418f98b9-c9bd-4f02-8310-3dc848c57e9d",
   "metadata": {},
   "outputs": [
    {
     "data": {
      "text/plain": [
       "17472"
      ]
     },
     "execution_count": 43,
     "metadata": {},
     "output_type": "execute_result"
    }
   ],
   "source": [
    "data_dict['time_periods']"
   ]
  },
  {
   "cell_type": "code",
   "execution_count": 41,
   "id": "cbaa3f8e-6a78-4e4b-8c16-f9ef16416dd5",
   "metadata": {},
   "outputs": [
    {
     "data": {
      "text/plain": [
       "(17472, 319)"
      ]
     },
     "execution_count": 41,
     "metadata": {},
     "output_type": "execute_result"
    }
   ],
   "source": [
    "np.array(data_dict['block']).shape # fx"
   ]
  },
  {
   "cell_type": "code",
   "execution_count": 42,
   "id": "b371f562-a7d3-4e67-9337-3847e1a1f004",
   "metadata": {},
   "outputs": [
    {
     "data": {
      "text/plain": [
       "101761"
      ]
     },
     "execution_count": 42,
     "metadata": {},
     "output_type": "execute_result"
    }
   ],
   "source": [
    "len(data_dict['weights'])"
   ]
  },
  {
   "cell_type": "code",
   "execution_count": 11,
   "id": "f258652c-24c2-4613-811c-63b06144fea3",
   "metadata": {},
   "outputs": [
    {
     "data": {
      "text/plain": [
       "(101761, 2)"
      ]
     },
     "execution_count": 11,
     "metadata": {},
     "output_type": "execute_result"
    }
   ],
   "source": [
    "np.array(data_dict['edges']).shape"
   ]
  },
  {
   "cell_type": "code",
   "execution_count": 28,
   "id": "92770b8e-fce5-4376-ba26-b4b684ebd9c3",
   "metadata": {},
   "outputs": [
    {
     "data": {
      "text/plain": [
       "101761"
      ]
     },
     "execution_count": 28,
     "metadata": {},
     "output_type": "execute_result"
    }
   ],
   "source": [
    "319 ** 2"
   ]
  },
  {
   "cell_type": "code",
   "execution_count": 14,
   "id": "2405e0fd-07e9-40ea-9bd6-58d9caa1d1f6",
   "metadata": {},
   "outputs": [
    {
     "data": {
      "text/plain": [
       "(101761,)"
      ]
     },
     "execution_count": 14,
     "metadata": {},
     "output_type": "execute_result"
    }
   ],
   "source": [
    "np.array(data_dict['weights']).shape"
   ]
  },
  {
   "cell_type": "code",
   "execution_count": 24,
   "id": "bd8b3090-57b6-4390-b9e3-638469f94e5f",
   "metadata": {},
   "outputs": [
    {
     "data": {
      "text/plain": [
       "array([[1.        , 0.83313653, 0.76403123, ..., 0.03572003, 0.02756888,\n",
       "        0.01799128],\n",
       "       [0.83313653, 1.        , 0.91705372, ..., 0.03025762, 0.0241852 ,\n",
       "        0.01583424],\n",
       "       [0.76403123, 0.91705372, 1.        , ..., 0.02794797, 0.02269021,\n",
       "        0.01487937],\n",
       "       ...,\n",
       "       [0.03572003, 0.03025762, 0.02794797, ..., 1.        , 0.29412671,\n",
       "        0.21992883],\n",
       "       [0.02756888, 0.0241852 , 0.02269021, ..., 0.29412671, 1.        ,\n",
       "        0.64651593],\n",
       "       [0.01799128, 0.01583424, 0.01487937, ..., 0.21992883, 0.64651593,\n",
       "        1.        ]])"
      ]
     },
     "execution_count": 24,
     "metadata": {},
     "output_type": "execute_result"
    }
   ],
   "source": [
    "np.array(data_dict['weights']).reshape(319, 319)"
   ]
  },
  {
   "cell_type": "code",
   "execution_count": 53,
   "id": "ba3376fb-ab9f-42c7-8b47-5d4d0e6a3a15",
   "metadata": {},
   "outputs": [],
   "source": [
    "node_ids = {}\n",
    "for i in range(319):\n",
    "    node_ids['node' + str(i+1)] = i"
   ]
  },
  {
   "cell_type": "code",
   "execution_count": 59,
   "id": "22521f25-48a5-4ab4-b652-b7ed978f7074",
   "metadata": {},
   "outputs": [],
   "source": [
    "edges = np.array(data_dict['edges']).T\n",
    "edge_weight = np.array(data_dict['weights'])"
   ]
  },
  {
   "cell_type": "markdown",
   "id": "7ce26fa9-598c-4ebb-ae6e-33d609810be4",
   "metadata": {},
   "source": [
    "## --"
   ]
  },
  {
   "cell_type": "markdown",
   "id": "d26c6beb-1c93-4f51-8406-6ddf379b7347",
   "metadata": {},
   "source": [
    "## WindmillOutputLargeDatasetLoader"
   ]
  },
  {
   "cell_type": "code",
   "execution_count": 63,
   "id": "94ecf023-1756-4c95-b045-4e8d37dda368",
   "metadata": {},
   "outputs": [
    {
     "data": {
      "text/plain": [
       "torch_geometric_temporal.signal.static_graph_temporal_signal.StaticGraphTemporalSignal"
      ]
     },
     "execution_count": 63,
     "metadata": {},
     "output_type": "execute_result"
    }
   ],
   "source": [
    "torch_geometric_temporal.signal.StaticGraphTemporalSignal "
   ]
  },
  {
   "cell_type": "code",
   "execution_count": 64,
   "id": "fd62238a-0400-46fc-a23d-ce05e5fc1b16",
   "metadata": {},
   "outputs": [],
   "source": [
    "loader = torch_geometric_temporal.dataset.WindmillOutputLargeDatasetLoader()\n",
    "dataset = loader.get_dataset(lags=4)\n",
    "train_dataset, test_dataset = temporal_signal_split(dataset, train_ratio=0.8)"
   ]
  },
  {
   "cell_type": "markdown",
   "id": "1738b979-3a4c-4074-8486-1aa571f3628d",
   "metadata": {},
   "source": [
    "## Learn"
   ]
  },
  {
   "cell_type": "code",
   "execution_count": null,
   "id": "212395b2-8d43-4b7f-8b43-d81647a78ffd",
   "metadata": {},
   "outputs": [
    {
     "name": "stderr",
     "output_type": "stream",
     "text": [
      " 18%|█████████████████▊                                                                                 | 9/50 [47:11<3:35:41, 315.65s/it]"
     ]
    }
   ],
   "source": [
    "model = RecurrentGCN(node_features=4, filters=32)\n",
    "optimizer = torch.optim.Adam(model.parameters(), lr=0.01)\n",
    "model.train()\n",
    "\n",
    "for epoch in tqdm(range(50)):\n",
    "    for t, snapshot in enumerate(train_dataset):\n",
    "        yt_hat = model(snapshot.x, snapshot.edge_index, snapshot.edge_attr)\n",
    "        cost = torch.mean((yt_hat-snapshot.y)**2)\n",
    "        cost.backward()\n",
    "        optimizer.step()\n",
    "        optimizer.zero_grad()"
   ]
  },
  {
   "cell_type": "markdown",
   "id": "87b55086-18b4-4b6a-8c03-5246667f1607",
   "metadata": {},
   "source": [
    "- 학습이 매우 느림.. (8시50분시작 .."
   ]
  },
  {
   "cell_type": "markdown",
   "id": "55fb49f1-8bb6-484d-8321-d7264d9642c0",
   "metadata": {},
   "source": [
    "## Visualization"
   ]
  },
  {
   "cell_type": "code",
   "execution_count": null,
   "id": "2f426edd-c48d-4c46-a2fa-725f504e6d14",
   "metadata": {},
   "outputs": [],
   "source": [
    "model.eval()\n",
    "cost = 0\n",
    "for time, snapshot in enumerate(test_dataset):\n",
    "    y_hat = model(snapshot.x, snapshot.edge_index, snapshot.edge_attr)\n",
    "    cost = cost + torch.mean((y_hat-snapshot.y)**2)\n",
    "cost = cost / (time+1)\n",
    "cost = cost.item()\n",
    "print(\"MSE: {:.4f}\".format(cost))"
   ]
  },
  {
   "cell_type": "code",
   "execution_count": null,
   "id": "292ae573-dd1e-4f1f-b08e-b4d127b80ac9",
   "metadata": {},
   "outputs": [],
   "source": [
    "yhat_train = torch.stack([model(snapshot.x,snapshot.edge_index, snapshot.edge_attr) for snapshot in train_dataset]).detach().numpy()\n",
    "yhat_test = torch.stack([model(snapshot.x,snapshot.edge_index, snapshot.edge_attr) for snapshot in test_dataset]).detach().numpy()"
   ]
  },
  {
   "cell_type": "code",
   "execution_count": null,
   "id": "8a1ca33c-e900-4aa7-8541-dc3f5d81d59f",
   "metadata": {},
   "outputs": [],
   "source": [
    "V = list(node_ids)"
   ]
  },
  {
   "cell_type": "code",
   "execution_count": null,
   "id": "48ceed90-923d-4d3c-a8cb-0b9d7876bbe0",
   "metadata": {},
   "outputs": [],
   "source": [
    "fig,ax = plt.subplots(20,1,figsize=(10,50))\n",
    "for k in range(20):\n",
    "    ax[k].plot(f[:,k],'--',alpha=0.5,label='observed')\n",
    "    ax[k].set_title('node: {}'.format(V[k]))\n",
    "    ax[k].plot(yhat_train[:,k],label='predicted (tr)')\n",
    "    ax[k].plot(range(yhat_train.shape[0],yhat_train.shape[0]+yhat_test.shape[0]),yhat_test[:,k],label='predicted (test)')\n",
    "    ax[k].legend()\n",
    "fig.tight_layout()"
   ]
  },
  {
   "cell_type": "code",
   "execution_count": null,
   "id": "1576a8ab-e535-404a-a3a9-ebfdef628ccf",
   "metadata": {},
   "outputs": [],
   "source": []
  }
 ],
 "metadata": {
  "kernelspec": {
   "display_name": "Python 3",
   "language": "python",
   "name": "python3"
  },
  "language_info": {
   "codemirror_mode": {
    "name": "ipython",
    "version": 3
   },
   "file_extension": ".py",
   "mimetype": "text/x-python",
   "name": "python",
   "nbconvert_exporter": "python",
   "pygments_lexer": "ipython3",
   "version": "3.8.16"
  }
 },
 "nbformat": 4,
 "nbformat_minor": 5
}
