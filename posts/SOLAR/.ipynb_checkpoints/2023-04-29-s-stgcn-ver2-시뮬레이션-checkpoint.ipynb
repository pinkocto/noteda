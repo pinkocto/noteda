{
 "cells": [
  {
   "cell_type": "raw",
   "id": "30c11232-54f1-4815-a5d0-07ee32833e78",
   "metadata": {},
   "source": [
    "---\n",
    "title: \" **[SOLAR]** STGCN Ver2 (data2, -N +S) 30회 시뮬레이션 (epoch, filter, lag)\"\n",
    "author: \"JiyunLim\"\n",
    "date: \"04/29/2023\"\n",
    "categories:\n",
    "  - Research\n",
    "  - STGCN\n",
    "  - SOLAR\n",
    "---"
   ]
  },
  {
   "cell_type": "markdown",
   "id": "e04af519-9789-44df-a42e-e85e257339ee",
   "metadata": {},
   "source": [
    "# STGCN Ver2 (EPT-STGCN)"
   ]
  },
  {
   "cell_type": "markdown",
   "id": "87a9a93c-d718-4b48-8914-9ba4bb32eab9",
   "metadata": {},
   "source": [
    "> 1 iteration, 다시해야하뮤ㅠㅠㅠ (utils 문제)-> 다시"
   ]
  },
  {
   "cell_type": "markdown",
   "id": "f995e86a-6b84-4a67-9a86-43eee1bf6b1b",
   "metadata": {},
   "source": [
    "## ref\n",
    "- <https://github.com/miruetoto/yechan3/tree/main/posts/3_Researches/ITSTGCN/itstgcn>\n",
    "- <https://miruetoto.github.io/yechan3/posts/3_Researches/ITSTGCN/2023-03-18-SimulationPlanner-Tutorial.html#plnr_gnar_block>"
   ]
  },
  {
   "cell_type": "markdown",
   "id": "4002635e-1114-4889-842f-6cb44be61d33",
   "metadata": {},
   "source": [
    "## 2022/06/01 ~ 2022/09/15\n",
    "\n",
    "- train 2022-06-01 00:00:00 ~ 2022-08-14 17:00:00\n",
    "- test 2022-08-14 18:00:00 ~ 2022-09-15 23:00:00"
   ]
  },
  {
   "cell_type": "markdown",
   "id": "f6db9b01-8811-44cf-9fec-ebb52db11151",
   "metadata": {},
   "source": [
    "# Import"
   ]
  },
  {
   "cell_type": "code",
   "execution_count": 1,
   "id": "5c85f883-7abd-402b-afeb-d297b3314a38",
   "metadata": {},
   "outputs": [],
   "source": [
    "import eptstgcn\n",
    "import torch\n",
    "import eptstgcn.planner\n",
    "\n",
    "import warnings\n",
    "warnings.filterwarnings('ignore')"
   ]
  },
  {
   "cell_type": "markdown",
   "id": "c4425a09-baec-4fb7-b9fd-acf92209c018",
   "metadata": {},
   "source": [
    "# Read Data"
   ]
  },
  {
   "cell_type": "code",
   "execution_count": 2,
   "id": "56e7122a-b438-4615-8143-0a11ed03e353",
   "metadata": {},
   "outputs": [],
   "source": [
    "url = \"https://raw.githubusercontent.com/pinkocto/noteda/main/posts/SOLAR/data2/stgcn_data2.json\"\n",
    "loader = eptstgcn.DatasetLoader(url)\n",
    "# dataset = loader.get_dataset(lags=4)\n",
    "# train_dataset, test_dataset = eptstgcn.utils.temporal_signal_split(dataset, train_ratio = 0.7)"
   ]
  },
  {
   "cell_type": "markdown",
   "id": "2277a42d-e4f8-4c96-9bf8-385b8089a4a8",
   "metadata": {},
   "source": [
    "# Simulation"
   ]
  },
  {
   "cell_type": "markdown",
   "id": "bc81fe51-32e3-4a36-ac7d-c7550d32dc39",
   "metadata": {},
   "source": [
    "## 50 epoch"
   ]
  },
  {
   "cell_type": "code",
   "execution_count": 3,
   "id": "89749b31-b226-448c-9cd6-4d07622ec75a",
   "metadata": {},
   "outputs": [],
   "source": [
    "plans_stgcn = {\n",
    "    'max_iteration': 1,   # 30, \n",
    "    'method': ['EPT-STGCN'], \n",
    "    'lags': [4, 8, 12],  # [4, 8, 12]\n",
    "    'nof_filters': [16, 32, 64], # [16, 32, 64]\n",
    "    'epoch': [50] # [50, 100, 150]\n",
    "}"
   ]
  },
  {
   "cell_type": "code",
   "execution_count": 4,
   "id": "c930a1f1-7f27-478f-ac43-3f8e7ad0a939",
   "metadata": {},
   "outputs": [],
   "source": [
    "plnr = eptstgcn.planner.PLNR_STGCN(plans_stgcn,loader,dataset_name='data2')"
   ]
  },
  {
   "cell_type": "code",
   "execution_count": 5,
   "id": "cbd456fe-aa78-4b0e-85e0-c81e292ef658",
   "metadata": {},
   "outputs": [
    {
     "name": "stdout",
     "output_type": "stream",
     "text": [
      "1/1 is done\n",
      "All results are stored in ./simulation_results/2023-05-02_10-10-24.csv\n"
     ]
    }
   ],
   "source": [
    "plnr.simulate()"
   ]
  },
  {
   "cell_type": "code",
   "execution_count": 6,
   "id": "696baee4-53d5-45f7-959b-d1042a976978",
   "metadata": {},
   "outputs": [],
   "source": [
    "eptstgcn.save_data(plnr, './simul_model2/stgcn_v2_50epoch_.pickle')"
   ]
  },
  {
   "cell_type": "code",
   "execution_count": 7,
   "id": "c6ad868c-86fc-4108-937f-5291e295d94f",
   "metadata": {},
   "outputs": [],
   "source": [
    "simul_model = eptstgcn.load_data('./simul_model2/stgcn_v2_50epoch_.pickle')"
   ]
  },
  {
   "cell_type": "code",
   "execution_count": 8,
   "id": "112b8b75-9584-4d78-bfea-c146293ebb99",
   "metadata": {},
   "outputs": [
    {
     "data": {
      "text/html": [
       "<div>\n",
       "<style scoped>\n",
       "    .dataframe tbody tr th:only-of-type {\n",
       "        vertical-align: middle;\n",
       "    }\n",
       "\n",
       "    .dataframe tbody tr th {\n",
       "        vertical-align: top;\n",
       "    }\n",
       "\n",
       "    .dataframe thead th {\n",
       "        text-align: right;\n",
       "    }\n",
       "</style>\n",
       "<table border=\"1\" class=\"dataframe\">\n",
       "  <thead>\n",
       "    <tr style=\"text-align: right;\">\n",
       "      <th></th>\n",
       "      <th>dataset</th>\n",
       "      <th>method</th>\n",
       "      <th>normal</th>\n",
       "      <th>lags</th>\n",
       "      <th>nof_filters</th>\n",
       "      <th>epoch</th>\n",
       "      <th>mse(train)</th>\n",
       "      <th>mse(test)</th>\n",
       "      <th>calculation_time</th>\n",
       "    </tr>\n",
       "  </thead>\n",
       "  <tbody>\n",
       "    <tr>\n",
       "      <th>0</th>\n",
       "      <td>data2</td>\n",
       "      <td>EPT-STGCN</td>\n",
       "      <td>X</td>\n",
       "      <td>4</td>\n",
       "      <td>16</td>\n",
       "      <td>50</td>\n",
       "      <td>0.186759</td>\n",
       "      <td>0.163494</td>\n",
       "      <td>295.1279</td>\n",
       "    </tr>\n",
       "    <tr>\n",
       "      <th>1</th>\n",
       "      <td>data2</td>\n",
       "      <td>EPT-STGCN</td>\n",
       "      <td>X</td>\n",
       "      <td>4</td>\n",
       "      <td>32</td>\n",
       "      <td>50</td>\n",
       "      <td>0.180856</td>\n",
       "      <td>0.159167</td>\n",
       "      <td>298.478652</td>\n",
       "    </tr>\n",
       "    <tr>\n",
       "      <th>2</th>\n",
       "      <td>data2</td>\n",
       "      <td>EPT-STGCN</td>\n",
       "      <td>X</td>\n",
       "      <td>4</td>\n",
       "      <td>64</td>\n",
       "      <td>50</td>\n",
       "      <td>0.190731</td>\n",
       "      <td>0.175991</td>\n",
       "      <td>307.732803</td>\n",
       "    </tr>\n",
       "    <tr>\n",
       "      <th>3</th>\n",
       "      <td>data2</td>\n",
       "      <td>EPT-STGCN</td>\n",
       "      <td>X</td>\n",
       "      <td>8</td>\n",
       "      <td>16</td>\n",
       "      <td>50</td>\n",
       "      <td>0.202791</td>\n",
       "      <td>0.174041</td>\n",
       "      <td>305.746121</td>\n",
       "    </tr>\n",
       "    <tr>\n",
       "      <th>4</th>\n",
       "      <td>data2</td>\n",
       "      <td>EPT-STGCN</td>\n",
       "      <td>X</td>\n",
       "      <td>8</td>\n",
       "      <td>32</td>\n",
       "      <td>50</td>\n",
       "      <td>0.19739</td>\n",
       "      <td>0.169384</td>\n",
       "      <td>306.544829</td>\n",
       "    </tr>\n",
       "    <tr>\n",
       "      <th>5</th>\n",
       "      <td>data2</td>\n",
       "      <td>EPT-STGCN</td>\n",
       "      <td>X</td>\n",
       "      <td>8</td>\n",
       "      <td>64</td>\n",
       "      <td>50</td>\n",
       "      <td>0.206705</td>\n",
       "      <td>0.176656</td>\n",
       "      <td>322.366115</td>\n",
       "    </tr>\n",
       "    <tr>\n",
       "      <th>6</th>\n",
       "      <td>data2</td>\n",
       "      <td>EPT-STGCN</td>\n",
       "      <td>X</td>\n",
       "      <td>12</td>\n",
       "      <td>16</td>\n",
       "      <td>50</td>\n",
       "      <td>0.205929</td>\n",
       "      <td>0.175041</td>\n",
       "      <td>311.189126</td>\n",
       "    </tr>\n",
       "    <tr>\n",
       "      <th>7</th>\n",
       "      <td>data2</td>\n",
       "      <td>EPT-STGCN</td>\n",
       "      <td>X</td>\n",
       "      <td>12</td>\n",
       "      <td>32</td>\n",
       "      <td>50</td>\n",
       "      <td>0.202787</td>\n",
       "      <td>0.175517</td>\n",
       "      <td>320.403812</td>\n",
       "    </tr>\n",
       "    <tr>\n",
       "      <th>8</th>\n",
       "      <td>data2</td>\n",
       "      <td>EPT-STGCN</td>\n",
       "      <td>X</td>\n",
       "      <td>12</td>\n",
       "      <td>64</td>\n",
       "      <td>50</td>\n",
       "      <td>0.214775</td>\n",
       "      <td>0.180072</td>\n",
       "      <td>326.717989</td>\n",
       "    </tr>\n",
       "  </tbody>\n",
       "</table>\n",
       "</div>"
      ],
      "text/plain": [
       "  dataset     method normal lags nof_filters epoch mse(train) mse(test)  \\\n",
       "0   data2  EPT-STGCN      X    4          16    50   0.186759  0.163494   \n",
       "1   data2  EPT-STGCN      X    4          32    50   0.180856  0.159167   \n",
       "2   data2  EPT-STGCN      X    4          64    50   0.190731  0.175991   \n",
       "3   data2  EPT-STGCN      X    8          16    50   0.202791  0.174041   \n",
       "4   data2  EPT-STGCN      X    8          32    50    0.19739  0.169384   \n",
       "5   data2  EPT-STGCN      X    8          64    50   0.206705  0.176656   \n",
       "6   data2  EPT-STGCN      X   12          16    50   0.205929  0.175041   \n",
       "7   data2  EPT-STGCN      X   12          32    50   0.202787  0.175517   \n",
       "8   data2  EPT-STGCN      X   12          64    50   0.214775  0.180072   \n",
       "\n",
       "  calculation_time  \n",
       "0         295.1279  \n",
       "1       298.478652  \n",
       "2       307.732803  \n",
       "3       305.746121  \n",
       "4       306.544829  \n",
       "5       322.366115  \n",
       "6       311.189126  \n",
       "7       320.403812  \n",
       "8       326.717989  "
      ]
     },
     "execution_count": 8,
     "metadata": {},
     "output_type": "execute_result"
    }
   ],
   "source": [
    "df_simul_no = simul_model.simulation_results\n",
    "df_simul_no"
   ]
  },
  {
   "cell_type": "markdown",
   "id": "e1cfff83-14b2-4d99-846e-0ef07967029b",
   "metadata": {},
   "source": [
    "## 100epoch"
   ]
  },
  {
   "cell_type": "code",
   "execution_count": 9,
   "id": "9590af5f-ef63-4c65-811e-4f04acf0f1ed",
   "metadata": {},
   "outputs": [],
   "source": [
    "plans_stgcn = {\n",
    "    'max_iteration': 1,   # 30, \n",
    "    'method': ['EPT-STGCN'], \n",
    "    'lags': [4, 8, 12],  # [4, 8, 12]\n",
    "    'nof_filters': [16, 32, 64], # [16, 32, 64]\n",
    "    'epoch': [100] # [50, 100, 150]\n",
    "}"
   ]
  },
  {
   "cell_type": "code",
   "execution_count": 10,
   "id": "e2a231be-caaf-4c02-98e5-11e049d23c47",
   "metadata": {},
   "outputs": [],
   "source": [
    "plnr = eptstgcn.planner.PLNR_STGCN(plans_stgcn,loader,dataset_name='data2')"
   ]
  },
  {
   "cell_type": "code",
   "execution_count": null,
   "id": "f6b94df5-6bef-4234-9487-713abb0350a7",
   "metadata": {},
   "outputs": [
    {
     "name": "stdout",
     "output_type": "stream",
     "text": [
      "5/100\r"
     ]
    }
   ],
   "source": [
    "plnr.simulate()"
   ]
  },
  {
   "cell_type": "code",
   "execution_count": null,
   "id": "adb0dc0d-7f22-4c09-a29e-1fb4f9b61826",
   "metadata": {},
   "outputs": [],
   "source": [
    "eptstgcn.save_data(plnr,'./simul_model2/stgcn_v2_100epoch.pickle')"
   ]
  },
  {
   "cell_type": "code",
   "execution_count": null,
   "id": "fbb3d550-9675-40c9-bd35-3dc84c9cafe0",
   "metadata": {},
   "outputs": [],
   "source": [
    "simul_model_100 = eptstgcn.load_data('./simul_model2/stgcn_v2_100epoch.pickle')"
   ]
  },
  {
   "cell_type": "code",
   "execution_count": null,
   "id": "a80fd008-deee-49a8-9b36-b887d2ee11be",
   "metadata": {},
   "outputs": [],
   "source": [
    "simul_model_100.simulation_results"
   ]
  },
  {
   "cell_type": "code",
   "execution_count": null,
   "id": "7065d530-6f6c-43f6-ab6e-c74eed4f3884",
   "metadata": {},
   "outputs": [],
   "source": [
    "print('끝났따! ㅎㅎ')"
   ]
  },
  {
   "cell_type": "markdown",
   "id": "24583906-612b-4065-b8ad-e3a3b873442d",
   "metadata": {},
   "source": [
    "## 150epoch"
   ]
  },
  {
   "cell_type": "code",
   "execution_count": 36,
   "id": "2f461ea7-28a5-48fe-a58b-308100b3daad",
   "metadata": {},
   "outputs": [],
   "source": [
    "plans_stgcn = {\n",
    "    'max_iteration': 1,   # 30, \n",
    "    'method': ['EPT-STGCN'], \n",
    "    'lags': [4, 8, 12],  # [4, 8, 12]\n",
    "    'nof_filters': [16, 32, 64], # [16, 32, 64]\n",
    "    'epoch': [150] # [50, 100, 150]\n",
    "}"
   ]
  },
  {
   "cell_type": "code",
   "execution_count": 37,
   "id": "e0e21632-158a-4f19-a85a-bde08952e229",
   "metadata": {},
   "outputs": [],
   "source": [
    "plnr = eptstgcn.planner.PLNR_STGCN(plans_stgcn,loader,dataset_name='data2')"
   ]
  },
  {
   "cell_type": "code",
   "execution_count": 38,
   "id": "89846473-83c9-4199-88dd-75d7e6cd9dce",
   "metadata": {},
   "outputs": [
    {
     "name": "stdout",
     "output_type": "stream",
     "text": [
      "1/1 is done\n",
      "All results are stored in ./simulation_results/2023-05-01_18-04-40.csv\n"
     ]
    }
   ],
   "source": [
    "plnr.simulate()"
   ]
  },
  {
   "cell_type": "code",
   "execution_count": 39,
   "id": "e20e23f3-fdd5-4e8b-b8e8-1910106330f3",
   "metadata": {},
   "outputs": [],
   "source": [
    "eptstgcn.save_data(plnr,'./simul_model2/stgcn_v2_150epoch.pickle')"
   ]
  },
  {
   "cell_type": "code",
   "execution_count": 40,
   "id": "ee3069c1-3ad6-4a9e-a25c-88d487a48af6",
   "metadata": {},
   "outputs": [],
   "source": [
    "simul_model_150 = eptstgcn.load_data('./simul_model2/stgcn_v2_150epoch.pickle')"
   ]
  },
  {
   "cell_type": "code",
   "execution_count": 41,
   "id": "79a37f22-564d-485e-b827-b41a78cd5215",
   "metadata": {},
   "outputs": [
    {
     "data": {
      "text/html": [
       "<div>\n",
       "<style scoped>\n",
       "    .dataframe tbody tr th:only-of-type {\n",
       "        vertical-align: middle;\n",
       "    }\n",
       "\n",
       "    .dataframe tbody tr th {\n",
       "        vertical-align: top;\n",
       "    }\n",
       "\n",
       "    .dataframe thead th {\n",
       "        text-align: right;\n",
       "    }\n",
       "</style>\n",
       "<table border=\"1\" class=\"dataframe\">\n",
       "  <thead>\n",
       "    <tr style=\"text-align: right;\">\n",
       "      <th></th>\n",
       "      <th>dataset</th>\n",
       "      <th>method</th>\n",
       "      <th>lags</th>\n",
       "      <th>nof_filters</th>\n",
       "      <th>epoch</th>\n",
       "      <th>mse(train)</th>\n",
       "      <th>mse(test)</th>\n",
       "      <th>calculation_time</th>\n",
       "    </tr>\n",
       "  </thead>\n",
       "  <tbody>\n",
       "    <tr>\n",
       "      <th>0</th>\n",
       "      <td>data2</td>\n",
       "      <td>EPT-STGCN</td>\n",
       "      <td>4</td>\n",
       "      <td>16</td>\n",
       "      <td>150</td>\n",
       "      <td>0.189845</td>\n",
       "      <td>0.173154</td>\n",
       "      <td>883.976143</td>\n",
       "    </tr>\n",
       "    <tr>\n",
       "      <th>1</th>\n",
       "      <td>data2</td>\n",
       "      <td>EPT-STGCN</td>\n",
       "      <td>4</td>\n",
       "      <td>32</td>\n",
       "      <td>150</td>\n",
       "      <td>0.184696</td>\n",
       "      <td>0.167978</td>\n",
       "      <td>895.643785</td>\n",
       "    </tr>\n",
       "    <tr>\n",
       "      <th>2</th>\n",
       "      <td>data2</td>\n",
       "      <td>EPT-STGCN</td>\n",
       "      <td>4</td>\n",
       "      <td>64</td>\n",
       "      <td>150</td>\n",
       "      <td>0.184901</td>\n",
       "      <td>0.165634</td>\n",
       "      <td>933.434017</td>\n",
       "    </tr>\n",
       "    <tr>\n",
       "      <th>3</th>\n",
       "      <td>data2</td>\n",
       "      <td>EPT-STGCN</td>\n",
       "      <td>8</td>\n",
       "      <td>16</td>\n",
       "      <td>150</td>\n",
       "      <td>0.204884</td>\n",
       "      <td>0.194212</td>\n",
       "      <td>918.424537</td>\n",
       "    </tr>\n",
       "    <tr>\n",
       "      <th>4</th>\n",
       "      <td>data2</td>\n",
       "      <td>EPT-STGCN</td>\n",
       "      <td>8</td>\n",
       "      <td>32</td>\n",
       "      <td>150</td>\n",
       "      <td>0.198104</td>\n",
       "      <td>0.181305</td>\n",
       "      <td>925.813936</td>\n",
       "    </tr>\n",
       "    <tr>\n",
       "      <th>5</th>\n",
       "      <td>data2</td>\n",
       "      <td>EPT-STGCN</td>\n",
       "      <td>8</td>\n",
       "      <td>64</td>\n",
       "      <td>150</td>\n",
       "      <td>0.20215</td>\n",
       "      <td>0.186119</td>\n",
       "      <td>957.615978</td>\n",
       "    </tr>\n",
       "    <tr>\n",
       "      <th>6</th>\n",
       "      <td>data2</td>\n",
       "      <td>EPT-STGCN</td>\n",
       "      <td>12</td>\n",
       "      <td>16</td>\n",
       "      <td>150</td>\n",
       "      <td>0.204464</td>\n",
       "      <td>0.184175</td>\n",
       "      <td>932.113571</td>\n",
       "    </tr>\n",
       "    <tr>\n",
       "      <th>7</th>\n",
       "      <td>data2</td>\n",
       "      <td>EPT-STGCN</td>\n",
       "      <td>12</td>\n",
       "      <td>32</td>\n",
       "      <td>150</td>\n",
       "      <td>0.190934</td>\n",
       "      <td>0.172926</td>\n",
       "      <td>946.528155</td>\n",
       "    </tr>\n",
       "    <tr>\n",
       "      <th>8</th>\n",
       "      <td>data2</td>\n",
       "      <td>EPT-STGCN</td>\n",
       "      <td>12</td>\n",
       "      <td>64</td>\n",
       "      <td>150</td>\n",
       "      <td>0.198757</td>\n",
       "      <td>0.183896</td>\n",
       "      <td>969.038159</td>\n",
       "    </tr>\n",
       "  </tbody>\n",
       "</table>\n",
       "</div>"
      ],
      "text/plain": [
       "  dataset     method lags nof_filters epoch mse(train) mse(test)  \\\n",
       "0   data2  EPT-STGCN    4          16   150   0.189845  0.173154   \n",
       "1   data2  EPT-STGCN    4          32   150   0.184696  0.167978   \n",
       "2   data2  EPT-STGCN    4          64   150   0.184901  0.165634   \n",
       "3   data2  EPT-STGCN    8          16   150   0.204884  0.194212   \n",
       "4   data2  EPT-STGCN    8          32   150   0.198104  0.181305   \n",
       "5   data2  EPT-STGCN    8          64   150    0.20215  0.186119   \n",
       "6   data2  EPT-STGCN   12          16   150   0.204464  0.184175   \n",
       "7   data2  EPT-STGCN   12          32   150   0.190934  0.172926   \n",
       "8   data2  EPT-STGCN   12          64   150   0.198757  0.183896   \n",
       "\n",
       "  calculation_time  \n",
       "0       883.976143  \n",
       "1       895.643785  \n",
       "2       933.434017  \n",
       "3       918.424537  \n",
       "4       925.813936  \n",
       "5       957.615978  \n",
       "6       932.113571  \n",
       "7       946.528155  \n",
       "8       969.038159  "
      ]
     },
     "execution_count": 41,
     "metadata": {},
     "output_type": "execute_result"
    }
   ],
   "source": [
    "simul_model_150.simulation_results"
   ]
  },
  {
   "cell_type": "code",
   "execution_count": 42,
   "id": "334e42d5-07e9-4556-ae63-53ff2a7f4f0a",
   "metadata": {},
   "outputs": [
    {
     "name": "stdout",
     "output_type": "stream",
     "text": [
      "stgcn ver2 150epoch 시뮬레이션 끝\n"
     ]
    }
   ],
   "source": [
    "print('stgcn ver2 150epoch 시뮬레이션 끝')"
   ]
  },
  {
   "cell_type": "markdown",
   "id": "2c80a603-0dbb-49f5-a7e3-d0d81a5b3e78",
   "metadata": {},
   "source": [
    "# +Normalization"
   ]
  },
  {
   "cell_type": "code",
   "execution_count": 44,
   "id": "5cd22280-b602-4a84-a88e-a5ecf0f663df",
   "metadata": {},
   "outputs": [],
   "source": [
    "train_dataset, test_dataset = eptstgcn.utils.temporal_signal_split(dataset, train_ratio = 0.7)"
   ]
  },
  {
   "cell_type": "code",
   "execution_count": 49,
   "id": "02231214-acd6-4492-a828-af4d8a59858e",
   "metadata": {},
   "outputs": [
    {
     "data": {
      "text/plain": [
       "(1794, 44, 4)"
      ]
     },
     "execution_count": 49,
     "metadata": {},
     "output_type": "execute_result"
    }
   ],
   "source": [
    "import numpy as np\n",
    "np.array(train_dataset.features).shape"
   ]
  },
  {
   "cell_type": "markdown",
   "id": "36cde0cb-a40a-46b1-b13e-390eb7020800",
   "metadata": {},
   "source": [
    "- Normalize용 loader를 새로 만드는 것이 좋을 것 같다."
   ]
  },
  {
   "cell_type": "markdown",
   "id": "f5cc58ae-bb11-4936-afa1-b7499c995a9f",
   "metadata": {},
   "source": [
    "## 50 epoch"
   ]
  },
  {
   "cell_type": "markdown",
   "id": "b343cc08-194f-4d38-9c56-f7babf426a36",
   "metadata": {},
   "source": [
    "## 100 epoch"
   ]
  },
  {
   "cell_type": "markdown",
   "id": "9d01624c-6803-46c2-9c09-a7d075c983cc",
   "metadata": {},
   "source": [
    "## 150 epoch"
   ]
  },
  {
   "cell_type": "code",
   "execution_count": 43,
   "id": "9d3285ad-cf2e-41b9-81ed-54041b6b4d02",
   "metadata": {},
   "outputs": [
    {
     "data": {
      "image/png": "[encoded data removed]",
      "text/plain": [
       "<Figure size 432x288 with 1 Axes>"
      ]
     },
     "metadata": {
      "needs_background": "light"
     },
     "output_type": "display_data"
    }
   ],
   "source": [
    "import matplotlib.pyplot as plt\n",
    "plt.boxplot(df_simul_no['mse(test)'])\n",
    "plt.show()"
   ]
  }
 ],
 "metadata": {
  "kernelspec": {
   "display_name": "Python 3",
   "language": "python",
   "name": "python3"
  },
  "language_info": {
   "codemirror_mode": {
    "name": "ipython",
    "version": 3
   },
   "file_extension": ".py",
   "mimetype": "text/x-python",
   "name": "python",
   "nbconvert_exporter": "python",
   "pygments_lexer": "ipython3",
   "version": "3.8.16"
  }
 },
 "nbformat": 4,
 "nbformat_minor": 5
}
