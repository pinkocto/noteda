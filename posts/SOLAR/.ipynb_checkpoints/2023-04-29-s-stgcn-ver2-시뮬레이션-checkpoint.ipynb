{
 "cells": [
  {
   "cell_type": "raw",
   "id": "30c11232-54f1-4815-a5d0-07ee32833e78",
   "metadata": {},
   "source": [
    "---\n",
    "title: \" **[SOLAR]** STGCN Ver2 (data2, -N +S) 시뮬레이션 (epoch, filter, lag)\"\n",
    "author: \"JiyunLim\"\n",
    "date: \"04/29/2023\"\n",
    "categories:\n",
    "  - Research\n",
    "  - STGCN\n",
    "  - SOLAR\n",
    "---"
   ]
  },
  {
   "cell_type": "markdown",
   "id": "e04af519-9789-44df-a42e-e85e257339ee",
   "metadata": {},
   "source": [
    "# STGCN Ver2 (EPT-STGCN)"
   ]
  },
  {
   "cell_type": "markdown",
   "id": "87a9a93c-d718-4b48-8914-9ba4bb32eab9",
   "metadata": {},
   "source": [
    "> 1 iteration, 다시해야하뮤ㅠㅠㅠ (utils 문제)-> 다시"
   ]
  },
  {
   "cell_type": "markdown",
   "id": "f995e86a-6b84-4a67-9a86-43eee1bf6b1b",
   "metadata": {},
   "source": [
    "## ref\n",
    "- <https://github.com/miruetoto/yechan3/tree/main/posts/3_Researches/ITSTGCN/itstgcn>\n",
    "- <https://miruetoto.github.io/yechan3/posts/3_Researches/ITSTGCN/2023-03-18-SimulationPlanner-Tutorial.html#plnr_gnar_block>"
   ]
  },
  {
   "cell_type": "markdown",
   "id": "4002635e-1114-4889-842f-6cb44be61d33",
   "metadata": {},
   "source": [
    "## 2022/06/01 ~ 2022/09/15\n",
    "\n",
    "- train 2022-06-01 00:00:00 ~ 2022-08-14 17:00:00\n",
    "- test 2022-08-14 18:00:00 ~ 2022-09-15 23:00:00"
   ]
  },
  {
   "cell_type": "markdown",
   "id": "f6db9b01-8811-44cf-9fec-ebb52db11151",
   "metadata": {},
   "source": [
    "# Import"
   ]
  },
  {
   "cell_type": "code",
   "execution_count": 1,
   "id": "5c85f883-7abd-402b-afeb-d297b3314a38",
   "metadata": {},
   "outputs": [],
   "source": [
    "import eptstgcn\n",
    "import torch\n",
    "import eptstgcn.planner\n",
    "\n",
    "import warnings\n",
    "warnings.filterwarnings('ignore')"
   ]
  },
  {
   "cell_type": "markdown",
   "id": "c4425a09-baec-4fb7-b9fd-acf92209c018",
   "metadata": {},
   "source": [
    "# Read Data"
   ]
  },
  {
   "cell_type": "code",
   "execution_count": 2,
   "id": "56e7122a-b438-4615-8143-0a11ed03e353",
   "metadata": {},
   "outputs": [],
   "source": [
    "url = \"https://raw.githubusercontent.com/pinkocto/noteda/main/posts/SOLAR/data2/stgcn_data2.json\"\n",
    "loader = eptstgcn.DatasetLoader(url)\n",
    "# dataset = loader.get_dataset(lags=4)\n",
    "# train_dataset, test_dataset = eptstgcn.utils.temporal_signal_split(dataset, train_ratio = 0.7)"
   ]
  },
  {
   "cell_type": "markdown",
   "id": "2277a42d-e4f8-4c96-9bf8-385b8089a4a8",
   "metadata": {},
   "source": [
    "# Simulation"
   ]
  },
  {
   "cell_type": "markdown",
   "id": "bc81fe51-32e3-4a36-ac7d-c7550d32dc39",
   "metadata": {},
   "source": [
    "## 50 epoch"
   ]
  },
  {
   "cell_type": "code",
   "execution_count": 3,
   "id": "89749b31-b226-448c-9cd6-4d07622ec75a",
   "metadata": {},
   "outputs": [],
   "source": [
    "plans_stgcn = {\n",
    "    'max_iteration': 1,   # 30, \n",
    "    'method': ['EPT-STGCN'], \n",
    "    'lags': [4, 8, 12],  # [4, 8, 12]\n",
    "    'nof_filters': [16, 32, 64], # [16, 32, 64]\n",
    "    'epoch': [50] # [50, 100, 150]\n",
    "}"
   ]
  },
  {
   "cell_type": "code",
   "execution_count": 4,
   "id": "c930a1f1-7f27-478f-ac43-3f8e7ad0a939",
   "metadata": {},
   "outputs": [],
   "source": [
    "plnr = eptstgcn.planner.PLNR_STGCN(plans_stgcn,loader,dataset_name='data2')"
   ]
  },
  {
   "cell_type": "code",
   "execution_count": 5,
   "id": "cbd456fe-aa78-4b0e-85e0-c81e292ef658",
   "metadata": {},
   "outputs": [
    {
     "name": "stdout",
     "output_type": "stream",
     "text": [
      "1/1 is done\n",
      "All results are stored in ./simulation_results/2023-05-02_10-10-24.csv\n"
     ]
    }
   ],
   "source": [
    "plnr.simulate()"
   ]
  },
  {
   "cell_type": "code",
   "execution_count": 6,
   "id": "696baee4-53d5-45f7-959b-d1042a976978",
   "metadata": {},
   "outputs": [],
   "source": [
    "eptstgcn.save_data(plnr, './simul_model2/stgcn_v2_50epoch_.pickle')"
   ]
  },
  {
   "cell_type": "code",
   "execution_count": 7,
   "id": "c6ad868c-86fc-4108-937f-5291e295d94f",
   "metadata": {},
   "outputs": [],
   "source": [
    "simul_model = eptstgcn.load_data('./simul_model2/stgcn_v2_50epoch_.pickle')"
   ]
  },
  {
   "cell_type": "code",
   "execution_count": 8,
   "id": "112b8b75-9584-4d78-bfea-c146293ebb99",
   "metadata": {},
   "outputs": [
    {
     "data": {
      "text/html": [
       "<div>\n",
       "<style scoped>\n",
       "    .dataframe tbody tr th:only-of-type {\n",
       "        vertical-align: middle;\n",
       "    }\n",
       "\n",
       "    .dataframe tbody tr th {\n",
       "        vertical-align: top;\n",
       "    }\n",
       "\n",
       "    .dataframe thead th {\n",
       "        text-align: right;\n",
       "    }\n",
       "</style>\n",
       "<table border=\"1\" class=\"dataframe\">\n",
       "  <thead>\n",
       "    <tr style=\"text-align: right;\">\n",
       "      <th></th>\n",
       "      <th>dataset</th>\n",
       "      <th>method</th>\n",
       "      <th>normal</th>\n",
       "      <th>lags</th>\n",
       "      <th>nof_filters</th>\n",
       "      <th>epoch</th>\n",
       "      <th>mse(train)</th>\n",
       "      <th>mse(test)</th>\n",
       "      <th>calculation_time</th>\n",
       "    </tr>\n",
       "  </thead>\n",
       "  <tbody>\n",
       "    <tr>\n",
       "      <th>0</th>\n",
       "      <td>data2</td>\n",
       "      <td>EPT-STGCN</td>\n",
       "      <td>X</td>\n",
       "      <td>4</td>\n",
       "      <td>16</td>\n",
       "      <td>50</td>\n",
       "      <td>0.186759</td>\n",
       "      <td>0.163494</td>\n",
       "      <td>295.1279</td>\n",
       "    </tr>\n",
       "    <tr>\n",
       "      <th>1</th>\n",
       "      <td>data2</td>\n",
       "      <td>EPT-STGCN</td>\n",
       "      <td>X</td>\n",
       "      <td>4</td>\n",
       "      <td>32</td>\n",
       "      <td>50</td>\n",
       "      <td>0.180856</td>\n",
       "      <td>0.159167</td>\n",
       "      <td>298.478652</td>\n",
       "    </tr>\n",
       "    <tr>\n",
       "      <th>2</th>\n",
       "      <td>data2</td>\n",
       "      <td>EPT-STGCN</td>\n",
       "      <td>X</td>\n",
       "      <td>4</td>\n",
       "      <td>64</td>\n",
       "      <td>50</td>\n",
       "      <td>0.190731</td>\n",
       "      <td>0.175991</td>\n",
       "      <td>307.732803</td>\n",
       "    </tr>\n",
       "    <tr>\n",
       "      <th>3</th>\n",
       "      <td>data2</td>\n",
       "      <td>EPT-STGCN</td>\n",
       "      <td>X</td>\n",
       "      <td>8</td>\n",
       "      <td>16</td>\n",
       "      <td>50</td>\n",
       "      <td>0.202791</td>\n",
       "      <td>0.174041</td>\n",
       "      <td>305.746121</td>\n",
       "    </tr>\n",
       "    <tr>\n",
       "      <th>4</th>\n",
       "      <td>data2</td>\n",
       "      <td>EPT-STGCN</td>\n",
       "      <td>X</td>\n",
       "      <td>8</td>\n",
       "      <td>32</td>\n",
       "      <td>50</td>\n",
       "      <td>0.19739</td>\n",
       "      <td>0.169384</td>\n",
       "      <td>306.544829</td>\n",
       "    </tr>\n",
       "    <tr>\n",
       "      <th>5</th>\n",
       "      <td>data2</td>\n",
       "      <td>EPT-STGCN</td>\n",
       "      <td>X</td>\n",
       "      <td>8</td>\n",
       "      <td>64</td>\n",
       "      <td>50</td>\n",
       "      <td>0.206705</td>\n",
       "      <td>0.176656</td>\n",
       "      <td>322.366115</td>\n",
       "    </tr>\n",
       "    <tr>\n",
       "      <th>6</th>\n",
       "      <td>data2</td>\n",
       "      <td>EPT-STGCN</td>\n",
       "      <td>X</td>\n",
       "      <td>12</td>\n",
       "      <td>16</td>\n",
       "      <td>50</td>\n",
       "      <td>0.205929</td>\n",
       "      <td>0.175041</td>\n",
       "      <td>311.189126</td>\n",
       "    </tr>\n",
       "    <tr>\n",
       "      <th>7</th>\n",
       "      <td>data2</td>\n",
       "      <td>EPT-STGCN</td>\n",
       "      <td>X</td>\n",
       "      <td>12</td>\n",
       "      <td>32</td>\n",
       "      <td>50</td>\n",
       "      <td>0.202787</td>\n",
       "      <td>0.175517</td>\n",
       "      <td>320.403812</td>\n",
       "    </tr>\n",
       "    <tr>\n",
       "      <th>8</th>\n",
       "      <td>data2</td>\n",
       "      <td>EPT-STGCN</td>\n",
       "      <td>X</td>\n",
       "      <td>12</td>\n",
       "      <td>64</td>\n",
       "      <td>50</td>\n",
       "      <td>0.214775</td>\n",
       "      <td>0.180072</td>\n",
       "      <td>326.717989</td>\n",
       "    </tr>\n",
       "  </tbody>\n",
       "</table>\n",
       "</div>"
      ],
      "text/plain": [
       "  dataset     method normal lags nof_filters epoch mse(train) mse(test)  \\\n",
       "0   data2  EPT-STGCN      X    4          16    50   0.186759  0.163494   \n",
       "1   data2  EPT-STGCN      X    4          32    50   0.180856  0.159167   \n",
       "2   data2  EPT-STGCN      X    4          64    50   0.190731  0.175991   \n",
       "3   data2  EPT-STGCN      X    8          16    50   0.202791  0.174041   \n",
       "4   data2  EPT-STGCN      X    8          32    50    0.19739  0.169384   \n",
       "5   data2  EPT-STGCN      X    8          64    50   0.206705  0.176656   \n",
       "6   data2  EPT-STGCN      X   12          16    50   0.205929  0.175041   \n",
       "7   data2  EPT-STGCN      X   12          32    50   0.202787  0.175517   \n",
       "8   data2  EPT-STGCN      X   12          64    50   0.214775  0.180072   \n",
       "\n",
       "  calculation_time  \n",
       "0         295.1279  \n",
       "1       298.478652  \n",
       "2       307.732803  \n",
       "3       305.746121  \n",
       "4       306.544829  \n",
       "5       322.366115  \n",
       "6       311.189126  \n",
       "7       320.403812  \n",
       "8       326.717989  "
      ]
     },
     "execution_count": 8,
     "metadata": {},
     "output_type": "execute_result"
    }
   ],
   "source": [
    "df_simul_no = simul_model.simulation_results\n",
    "df_simul_no"
   ]
  },
  {
   "cell_type": "markdown",
   "id": "e1cfff83-14b2-4d99-846e-0ef07967029b",
   "metadata": {},
   "source": [
    "## 100epoch"
   ]
  },
  {
   "cell_type": "code",
   "execution_count": 9,
   "id": "9590af5f-ef63-4c65-811e-4f04acf0f1ed",
   "metadata": {},
   "outputs": [],
   "source": [
    "plans_stgcn = {\n",
    "    'max_iteration': 1,   # 30, \n",
    "    'method': ['EPT-STGCN'], \n",
    "    'lags': [4, 8, 12],  # [4, 8, 12]\n",
    "    'nof_filters': [16, 32, 64], # [16, 32, 64]\n",
    "    'epoch': [100] # [50, 100, 150]\n",
    "}"
   ]
  },
  {
   "cell_type": "code",
   "execution_count": 10,
   "id": "e2a231be-caaf-4c02-98e5-11e049d23c47",
   "metadata": {},
   "outputs": [],
   "source": [
    "plnr = eptstgcn.planner.PLNR_STGCN(plans_stgcn,loader,dataset_name='data2')"
   ]
  },
  {
   "cell_type": "code",
   "execution_count": 11,
   "id": "f6b94df5-6bef-4234-9487-713abb0350a7",
   "metadata": {},
   "outputs": [
    {
     "name": "stdout",
     "output_type": "stream",
     "text": [
      "1/1 is done\n",
      "All results are stored in ./simulation_results/2023-05-02_11-58-22.csv\n"
     ]
    }
   ],
   "source": [
    "plnr.simulate()"
   ]
  },
  {
   "cell_type": "code",
   "execution_count": 12,
   "id": "adb0dc0d-7f22-4c09-a29e-1fb4f9b61826",
   "metadata": {},
   "outputs": [],
   "source": [
    "eptstgcn.save_data(plnr,'./simul_model2/stgcn_v2_100epoch.pickle')"
   ]
  },
  {
   "cell_type": "code",
   "execution_count": 13,
   "id": "fbb3d550-9675-40c9-bd35-3dc84c9cafe0",
   "metadata": {},
   "outputs": [],
   "source": [
    "simul_model_100 = eptstgcn.load_data('./simul_model2/stgcn_v2_100epoch.pickle')"
   ]
  },
  {
   "cell_type": "code",
   "execution_count": 14,
   "id": "a80fd008-deee-49a8-9b36-b887d2ee11be",
   "metadata": {},
   "outputs": [
    {
     "data": {
      "text/html": [
       "<div>\n",
       "<style scoped>\n",
       "    .dataframe tbody tr th:only-of-type {\n",
       "        vertical-align: middle;\n",
       "    }\n",
       "\n",
       "    .dataframe tbody tr th {\n",
       "        vertical-align: top;\n",
       "    }\n",
       "\n",
       "    .dataframe thead th {\n",
       "        text-align: right;\n",
       "    }\n",
       "</style>\n",
       "<table border=\"1\" class=\"dataframe\">\n",
       "  <thead>\n",
       "    <tr style=\"text-align: right;\">\n",
       "      <th></th>\n",
       "      <th>dataset</th>\n",
       "      <th>method</th>\n",
       "      <th>normal</th>\n",
       "      <th>lags</th>\n",
       "      <th>nof_filters</th>\n",
       "      <th>epoch</th>\n",
       "      <th>mse(train)</th>\n",
       "      <th>mse(test)</th>\n",
       "      <th>calculation_time</th>\n",
       "    </tr>\n",
       "  </thead>\n",
       "  <tbody>\n",
       "    <tr>\n",
       "      <th>0</th>\n",
       "      <td>data2</td>\n",
       "      <td>EPT-STGCN</td>\n",
       "      <td>X</td>\n",
       "      <td>4</td>\n",
       "      <td>16</td>\n",
       "      <td>100</td>\n",
       "      <td>0.181167</td>\n",
       "      <td>0.161676</td>\n",
       "      <td>593.648996</td>\n",
       "    </tr>\n",
       "    <tr>\n",
       "      <th>1</th>\n",
       "      <td>data2</td>\n",
       "      <td>EPT-STGCN</td>\n",
       "      <td>X</td>\n",
       "      <td>4</td>\n",
       "      <td>32</td>\n",
       "      <td>100</td>\n",
       "      <td>0.18646</td>\n",
       "      <td>0.164435</td>\n",
       "      <td>600.581012</td>\n",
       "    </tr>\n",
       "    <tr>\n",
       "      <th>2</th>\n",
       "      <td>data2</td>\n",
       "      <td>EPT-STGCN</td>\n",
       "      <td>X</td>\n",
       "      <td>4</td>\n",
       "      <td>64</td>\n",
       "      <td>100</td>\n",
       "      <td>0.186766</td>\n",
       "      <td>0.166847</td>\n",
       "      <td>629.295468</td>\n",
       "    </tr>\n",
       "    <tr>\n",
       "      <th>3</th>\n",
       "      <td>data2</td>\n",
       "      <td>EPT-STGCN</td>\n",
       "      <td>X</td>\n",
       "      <td>8</td>\n",
       "      <td>16</td>\n",
       "      <td>100</td>\n",
       "      <td>0.192071</td>\n",
       "      <td>0.166316</td>\n",
       "      <td>615.509619</td>\n",
       "    </tr>\n",
       "    <tr>\n",
       "      <th>4</th>\n",
       "      <td>data2</td>\n",
       "      <td>EPT-STGCN</td>\n",
       "      <td>X</td>\n",
       "      <td>8</td>\n",
       "      <td>32</td>\n",
       "      <td>100</td>\n",
       "      <td>0.194886</td>\n",
       "      <td>0.176269</td>\n",
       "      <td>619.257265</td>\n",
       "    </tr>\n",
       "    <tr>\n",
       "      <th>5</th>\n",
       "      <td>data2</td>\n",
       "      <td>EPT-STGCN</td>\n",
       "      <td>X</td>\n",
       "      <td>8</td>\n",
       "      <td>64</td>\n",
       "      <td>100</td>\n",
       "      <td>0.191762</td>\n",
       "      <td>0.168039</td>\n",
       "      <td>644.2939</td>\n",
       "    </tr>\n",
       "    <tr>\n",
       "      <th>6</th>\n",
       "      <td>data2</td>\n",
       "      <td>EPT-STGCN</td>\n",
       "      <td>X</td>\n",
       "      <td>12</td>\n",
       "      <td>16</td>\n",
       "      <td>100</td>\n",
       "      <td>0.190366</td>\n",
       "      <td>0.167113</td>\n",
       "      <td>624.165449</td>\n",
       "    </tr>\n",
       "    <tr>\n",
       "      <th>7</th>\n",
       "      <td>data2</td>\n",
       "      <td>EPT-STGCN</td>\n",
       "      <td>X</td>\n",
       "      <td>12</td>\n",
       "      <td>32</td>\n",
       "      <td>100</td>\n",
       "      <td>0.211055</td>\n",
       "      <td>0.176866</td>\n",
       "      <td>634.041832</td>\n",
       "    </tr>\n",
       "    <tr>\n",
       "      <th>8</th>\n",
       "      <td>data2</td>\n",
       "      <td>EPT-STGCN</td>\n",
       "      <td>X</td>\n",
       "      <td>12</td>\n",
       "      <td>64</td>\n",
       "      <td>100</td>\n",
       "      <td>0.199227</td>\n",
       "      <td>0.17213</td>\n",
       "      <td>656.926851</td>\n",
       "    </tr>\n",
       "  </tbody>\n",
       "</table>\n",
       "</div>"
      ],
      "text/plain": [
       "  dataset     method normal lags nof_filters epoch mse(train) mse(test)  \\\n",
       "0   data2  EPT-STGCN      X    4          16   100   0.181167  0.161676   \n",
       "1   data2  EPT-STGCN      X    4          32   100    0.18646  0.164435   \n",
       "2   data2  EPT-STGCN      X    4          64   100   0.186766  0.166847   \n",
       "3   data2  EPT-STGCN      X    8          16   100   0.192071  0.166316   \n",
       "4   data2  EPT-STGCN      X    8          32   100   0.194886  0.176269   \n",
       "5   data2  EPT-STGCN      X    8          64   100   0.191762  0.168039   \n",
       "6   data2  EPT-STGCN      X   12          16   100   0.190366  0.167113   \n",
       "7   data2  EPT-STGCN      X   12          32   100   0.211055  0.176866   \n",
       "8   data2  EPT-STGCN      X   12          64   100   0.199227   0.17213   \n",
       "\n",
       "  calculation_time  \n",
       "0       593.648996  \n",
       "1       600.581012  \n",
       "2       629.295468  \n",
       "3       615.509619  \n",
       "4       619.257265  \n",
       "5         644.2939  \n",
       "6       624.165449  \n",
       "7       634.041832  \n",
       "8       656.926851  "
      ]
     },
     "execution_count": 14,
     "metadata": {},
     "output_type": "execute_result"
    }
   ],
   "source": [
    "simul_model_100.simulation_results"
   ]
  },
  {
   "cell_type": "code",
   "execution_count": 15,
   "id": "7065d530-6f6c-43f6-ab6e-c74eed4f3884",
   "metadata": {},
   "outputs": [
    {
     "name": "stdout",
     "output_type": "stream",
     "text": [
      "끝났따! ㅎㅎ\n"
     ]
    }
   ],
   "source": [
    "print('끝났따! ㅎㅎ')"
   ]
  },
  {
   "cell_type": "markdown",
   "id": "24583906-612b-4065-b8ad-e3a3b873442d",
   "metadata": {},
   "source": [
    "## 150epoch"
   ]
  },
  {
   "cell_type": "code",
   "execution_count": 16,
   "id": "2f461ea7-28a5-48fe-a58b-308100b3daad",
   "metadata": {},
   "outputs": [],
   "source": [
    "plans_stgcn = {\n",
    "    'max_iteration': 1,   # 30, \n",
    "    'method': ['EPT-STGCN'], \n",
    "    'lags': [4, 8, 12],  # [4, 8, 12]\n",
    "    'nof_filters': [16, 32, 64], # [16, 32, 64]\n",
    "    'epoch': [150] # [50, 100, 150]\n",
    "}"
   ]
  },
  {
   "cell_type": "code",
   "execution_count": 17,
   "id": "e0e21632-158a-4f19-a85a-bde08952e229",
   "metadata": {},
   "outputs": [],
   "source": [
    "plnr = eptstgcn.planner.PLNR_STGCN(plans_stgcn,loader,dataset_name='data2')"
   ]
  },
  {
   "cell_type": "code",
   "execution_count": 18,
   "id": "89846473-83c9-4199-88dd-75d7e6cd9dce",
   "metadata": {},
   "outputs": [
    {
     "name": "stdout",
     "output_type": "stream",
     "text": [
      "1/1 is done\n",
      "All results are stored in ./simulation_results/2023-05-02_14-22-41.csv\n"
     ]
    }
   ],
   "source": [
    "plnr.simulate()"
   ]
  },
  {
   "cell_type": "code",
   "execution_count": 19,
   "id": "e20e23f3-fdd5-4e8b-b8e8-1910106330f3",
   "metadata": {},
   "outputs": [],
   "source": [
    "eptstgcn.save_data(plnr,'./simul_model2/stgcn_v2_150epoch.pickle')"
   ]
  },
  {
   "cell_type": "code",
   "execution_count": 20,
   "id": "ee3069c1-3ad6-4a9e-a25c-88d487a48af6",
   "metadata": {},
   "outputs": [],
   "source": [
    "simul_model_150 = eptstgcn.load_data('./simul_model2/stgcn_v2_150epoch.pickle')"
   ]
  },
  {
   "cell_type": "code",
   "execution_count": 21,
   "id": "79a37f22-564d-485e-b827-b41a78cd5215",
   "metadata": {},
   "outputs": [
    {
     "data": {
      "text/html": [
       "<div>\n",
       "<style scoped>\n",
       "    .dataframe tbody tr th:only-of-type {\n",
       "        vertical-align: middle;\n",
       "    }\n",
       "\n",
       "    .dataframe tbody tr th {\n",
       "        vertical-align: top;\n",
       "    }\n",
       "\n",
       "    .dataframe thead th {\n",
       "        text-align: right;\n",
       "    }\n",
       "</style>\n",
       "<table border=\"1\" class=\"dataframe\">\n",
       "  <thead>\n",
       "    <tr style=\"text-align: right;\">\n",
       "      <th></th>\n",
       "      <th>dataset</th>\n",
       "      <th>method</th>\n",
       "      <th>normal</th>\n",
       "      <th>lags</th>\n",
       "      <th>nof_filters</th>\n",
       "      <th>epoch</th>\n",
       "      <th>mse(train)</th>\n",
       "      <th>mse(test)</th>\n",
       "      <th>calculation_time</th>\n",
       "    </tr>\n",
       "  </thead>\n",
       "  <tbody>\n",
       "    <tr>\n",
       "      <th>0</th>\n",
       "      <td>data2</td>\n",
       "      <td>EPT-STGCN</td>\n",
       "      <td>X</td>\n",
       "      <td>4</td>\n",
       "      <td>16</td>\n",
       "      <td>150</td>\n",
       "      <td>0.189039</td>\n",
       "      <td>0.16644</td>\n",
       "      <td>890.523769</td>\n",
       "    </tr>\n",
       "    <tr>\n",
       "      <th>1</th>\n",
       "      <td>data2</td>\n",
       "      <td>EPT-STGCN</td>\n",
       "      <td>X</td>\n",
       "      <td>4</td>\n",
       "      <td>32</td>\n",
       "      <td>150</td>\n",
       "      <td>0.1839</td>\n",
       "      <td>0.163163</td>\n",
       "      <td>901.624805</td>\n",
       "    </tr>\n",
       "    <tr>\n",
       "      <th>2</th>\n",
       "      <td>data2</td>\n",
       "      <td>EPT-STGCN</td>\n",
       "      <td>X</td>\n",
       "      <td>4</td>\n",
       "      <td>64</td>\n",
       "      <td>150</td>\n",
       "      <td>0.188576</td>\n",
       "      <td>0.16788</td>\n",
       "      <td>930.632719</td>\n",
       "    </tr>\n",
       "    <tr>\n",
       "      <th>3</th>\n",
       "      <td>data2</td>\n",
       "      <td>EPT-STGCN</td>\n",
       "      <td>X</td>\n",
       "      <td>8</td>\n",
       "      <td>16</td>\n",
       "      <td>150</td>\n",
       "      <td>0.191546</td>\n",
       "      <td>0.163098</td>\n",
       "      <td>922.549719</td>\n",
       "    </tr>\n",
       "    <tr>\n",
       "      <th>4</th>\n",
       "      <td>data2</td>\n",
       "      <td>EPT-STGCN</td>\n",
       "      <td>X</td>\n",
       "      <td>8</td>\n",
       "      <td>32</td>\n",
       "      <td>150</td>\n",
       "      <td>0.196264</td>\n",
       "      <td>0.171726</td>\n",
       "      <td>934.935377</td>\n",
       "    </tr>\n",
       "    <tr>\n",
       "      <th>5</th>\n",
       "      <td>data2</td>\n",
       "      <td>EPT-STGCN</td>\n",
       "      <td>X</td>\n",
       "      <td>8</td>\n",
       "      <td>64</td>\n",
       "      <td>150</td>\n",
       "      <td>0.193626</td>\n",
       "      <td>0.169606</td>\n",
       "      <td>971.07701</td>\n",
       "    </tr>\n",
       "    <tr>\n",
       "      <th>6</th>\n",
       "      <td>data2</td>\n",
       "      <td>EPT-STGCN</td>\n",
       "      <td>X</td>\n",
       "      <td>12</td>\n",
       "      <td>16</td>\n",
       "      <td>150</td>\n",
       "      <td>0.196048</td>\n",
       "      <td>0.16558</td>\n",
       "      <td>946.160373</td>\n",
       "    </tr>\n",
       "    <tr>\n",
       "      <th>7</th>\n",
       "      <td>data2</td>\n",
       "      <td>EPT-STGCN</td>\n",
       "      <td>X</td>\n",
       "      <td>12</td>\n",
       "      <td>32</td>\n",
       "      <td>150</td>\n",
       "      <td>0.196824</td>\n",
       "      <td>0.174657</td>\n",
       "      <td>953.823792</td>\n",
       "    </tr>\n",
       "    <tr>\n",
       "      <th>8</th>\n",
       "      <td>data2</td>\n",
       "      <td>EPT-STGCN</td>\n",
       "      <td>X</td>\n",
       "      <td>12</td>\n",
       "      <td>64</td>\n",
       "      <td>150</td>\n",
       "      <td>0.223708</td>\n",
       "      <td>0.18818</td>\n",
       "      <td>991.851157</td>\n",
       "    </tr>\n",
       "  </tbody>\n",
       "</table>\n",
       "</div>"
      ],
      "text/plain": [
       "  dataset     method normal lags nof_filters epoch mse(train) mse(test)  \\\n",
       "0   data2  EPT-STGCN      X    4          16   150   0.189039   0.16644   \n",
       "1   data2  EPT-STGCN      X    4          32   150     0.1839  0.163163   \n",
       "2   data2  EPT-STGCN      X    4          64   150   0.188576   0.16788   \n",
       "3   data2  EPT-STGCN      X    8          16   150   0.191546  0.163098   \n",
       "4   data2  EPT-STGCN      X    8          32   150   0.196264  0.171726   \n",
       "5   data2  EPT-STGCN      X    8          64   150   0.193626  0.169606   \n",
       "6   data2  EPT-STGCN      X   12          16   150   0.196048   0.16558   \n",
       "7   data2  EPT-STGCN      X   12          32   150   0.196824  0.174657   \n",
       "8   data2  EPT-STGCN      X   12          64   150   0.223708   0.18818   \n",
       "\n",
       "  calculation_time  \n",
       "0       890.523769  \n",
       "1       901.624805  \n",
       "2       930.632719  \n",
       "3       922.549719  \n",
       "4       934.935377  \n",
       "5        971.07701  \n",
       "6       946.160373  \n",
       "7       953.823792  \n",
       "8       991.851157  "
      ]
     },
     "execution_count": 21,
     "metadata": {},
     "output_type": "execute_result"
    }
   ],
   "source": [
    "simul_model_150.simulation_results"
   ]
  },
  {
   "cell_type": "code",
   "execution_count": 22,
   "id": "334e42d5-07e9-4556-ae63-53ff2a7f4f0a",
   "metadata": {},
   "outputs": [
    {
     "name": "stdout",
     "output_type": "stream",
     "text": [
      "stgcn ver2 150epoch 시뮬레이션 끄읕!^^\n"
     ]
    }
   ],
   "source": [
    "print('stgcn ver2 150epoch 시뮬레이션 끄읕!^^')"
   ]
  },
  {
   "cell_type": "code",
   "execution_count": 23,
   "id": "9d3285ad-cf2e-41b9-81ed-54041b6b4d02",
   "metadata": {},
   "outputs": [
    {
     "data": {
      "image/png": "[encoded data removed]",
      "text/plain": [
       "<Figure size 432x288 with 1 Axes>"
      ]
     },
     "metadata": {
      "needs_background": "light"
     },
     "output_type": "display_data"
    }
   ],
   "source": [
    "import matplotlib.pyplot as plt\n",
    "plt.boxplot(df_simul_no['mse(test)'])\n",
    "plt.show()"
   ]
  }
 ],
 "metadata": {
  "kernelspec": {
   "display_name": "Python 3",
   "language": "python",
   "name": "python3"
  },
  "language_info": {
   "codemirror_mode": {
    "name": "ipython",
    "version": 3
   },
   "file_extension": ".py",
   "mimetype": "text/x-python",
   "name": "python",
   "nbconvert_exporter": "python",
   "pygments_lexer": "ipython3",
   "version": "3.8.16"
  }
 },
 "nbformat": 4,
 "nbformat_minor": 5
}
