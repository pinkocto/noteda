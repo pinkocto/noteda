{
 "cells": [
  {
   "cell_type": "raw",
   "id": "cf4a5937-6946-43b0-99b9-73cb93bbacba",
   "metadata": {},
   "source": [
    "---\n",
    "title: \" **[SOLAR]** STGCN Ver1 (data2, -N +S) 시뮬레이션(epoch, filter, lag)\" \n",
    "author: \"JiyunLim\"\n",
    "date: \"04/29/2023\"\n",
    "categories:\n",
    "  - Research\n",
    "  - STGCN\n",
    "  - SOLAR\n",
    "---"
   ]
  },
  {
   "cell_type": "markdown",
   "id": "3916b16b-eb5a-4ecc-b413-ec6452686fc7",
   "metadata": {},
   "source": [
    "# STGCN Ver1"
   ]
  },
  {
   "cell_type": "markdown",
   "id": "8ccf6f27-e557-4769-95e8-d1b7d553d040",
   "metadata": {},
   "source": [
    "> 50 에폭 // 완료! (csv로 저장)\n",
    "\n",
    "> 100 에폭 // 완료!\n",
    "\n",
    "> 150 에폭 시작 (2023-05-05-오후1시54분) // 완료!\n",
    "\n",
    "***10 iter 완료!!***"
   ]
  },
  {
   "cell_type": "markdown",
   "id": "21e1df62-e47a-4c33-b730-9e2d253fcb38",
   "metadata": {},
   "source": [
    "> 150 에폭 시작(2023-05-07 오후2시 38분 시작) // 완료! (5월 9일 오전 10시5분) -- 50epoch 해야함"
   ]
  },
  {
   "cell_type": "markdown",
   "id": "2f7e7835-523f-4f24-9f9b-d65182473660",
   "metadata": {},
   "source": [
    "> 100 에폭 시작(2023-05-09 오전 10시 46분 시작) -- 진행중"
   ]
  },
  {
   "cell_type": "markdown",
   "id": "13edf43d-1cab-4383-99c4-e4249e70b099",
   "metadata": {},
   "source": [
    "## ref\n",
    "- <https://github.com/miruetoto/yechan3/tree/main/posts/3_Researches/ITSTGCN/itstgcn>\n",
    "- <https://miruetoto.github.io/yechan3/posts/3_Researches/ITSTGCN/2023-03-18-SimulationPlanner-Tutorial.html#plnr_gnar_block>"
   ]
  },
  {
   "cell_type": "markdown",
   "id": "4002635e-1114-4889-842f-6cb44be61d33",
   "metadata": {},
   "source": [
    "## 2022/06/01 ~ 2022/09/15\n",
    "\n",
    "- train 2022-06-01 00:00:00 ~ 2022-08-14 17:00:00\n",
    "- test 2022-08-14 18:00:00 ~ 2022-09-15 23:00:00"
   ]
  },
  {
   "cell_type": "markdown",
   "id": "3bc8bd68-9be0-403b-ad55-b2c793f8f0a7",
   "metadata": {},
   "source": [
    "# import"
   ]
  },
  {
   "cell_type": "code",
   "execution_count": 1,
   "id": "3b8604e7-5c59-4da3-80d0-e657ccb1f4c5",
   "metadata": {},
   "outputs": [],
   "source": [
    "import eptstgcn\n",
    "import torch\n",
    "import eptstgcn.planner\n",
    "\n",
    "import warnings\n",
    "warnings.filterwarnings('ignore')\n",
    "\n",
    "import numpy as np\n",
    "import pandas as pd"
   ]
  },
  {
   "cell_type": "markdown",
   "id": "ed469bf3-e0c4-4dd2-b879-fe20270381bf",
   "metadata": {},
   "source": [
    "# Read Data"
   ]
  },
  {
   "cell_type": "code",
   "execution_count": 2,
   "id": "7fad3a38-65e7-4f18-b6b7-5d8e2c2ec91d",
   "metadata": {},
   "outputs": [],
   "source": [
    "url = \"https://raw.githubusercontent.com/pinkocto/noteda/main/posts/SOLAR/data2/stgcn_data1.json\"\n",
    "loader = eptstgcn.DatasetLoader(url)\n",
    "# dataset = loader.get_dataset(lags=4)\n",
    "# train_dataset, test_dataset = eptstgcn.utils.temporal_signal_split(dataset, train_ratio = 0.7)"
   ]
  },
  {
   "cell_type": "markdown",
   "id": "30b0704a-5135-46c9-b309-ada9cf398a52",
   "metadata": {},
   "source": [
    "# Simulation"
   ]
  },
  {
   "cell_type": "markdown",
   "id": "a244674c-efa2-41a9-bb8f-3879d195cfe9",
   "metadata": {},
   "source": [
    "## 50 epoch\n",
    "- 10iter (끝)\n",
    "- 20iter (on going)"
   ]
  },
  {
   "cell_type": "code",
   "execution_count": 7,
   "id": "8a25779b-102b-4935-9a15-073a1ea38d13",
   "metadata": {},
   "outputs": [],
   "source": [
    "plans_stgcn = {\n",
    "    'max_iteration': 10, # 30 \n",
    "    'method': ['STGCN'], \n",
    "    'lags': [4, 8, 12, 24], \n",
    "    'nof_filters': [16, 32, 64], \n",
    "    'epoch': [50] # [50, 100, 150]\n",
    "}"
   ]
  },
  {
   "cell_type": "code",
   "execution_count": 8,
   "id": "76c05aea-7e33-4717-b9e7-26aa87f69334",
   "metadata": {},
   "outputs": [],
   "source": [
    "plnr = eptstgcn.planner.PLNR_STGCN(plans_stgcn,loader,dataset_name='data2')"
   ]
  },
  {
   "cell_type": "code",
   "execution_count": null,
   "id": "4052148a-d234-4b39-99c3-c619bf54acbc",
   "metadata": {},
   "outputs": [
    {
     "name": "stdout",
     "output_type": "stream",
     "text": [
      "1/10 is done\n",
      "44/1500\r"
     ]
    }
   ],
   "source": [
    "plnr.simulate()\n",
    "eptstgcn.save_data(plnr,'./simul_model2/stgcn_v1/stgcn_v1_50epoch_2.pickle')\n",
    "simul_model_50 = eptstgcn.load_data('./simul_model2/stgcn_v1/stgcn_v1_50epoch_2.pickle')"
   ]
  },
  {
   "cell_type": "code",
   "execution_count": 28,
   "id": "190e71fc-0c72-4b7b-a589-f7f27ed16d9d",
   "metadata": {},
   "outputs": [
    {
     "data": {
      "text/plain": [
       "{'max_iteration': 10,\n",
       " 'method': ['STGCN'],\n",
       " 'lags': [4, 8, 12, 24],\n",
       " 'nof_filters': [16, 32, 64],\n",
       " 'epoch': [150]}"
      ]
     },
     "execution_count": 28,
     "metadata": {},
     "output_type": "execute_result"
    }
   ],
   "source": [
    "plans_stgcn"
   ]
  },
  {
   "cell_type": "code",
   "execution_count": 45,
   "id": "2a1314b9-ddbe-4b0c-b147-c7b2a705fa9e",
   "metadata": {},
   "outputs": [
    {
     "data": {
      "text/html": [
       "<div>\n",
       "<style scoped>\n",
       "    .dataframe tbody tr th:only-of-type {\n",
       "        vertical-align: middle;\n",
       "    }\n",
       "\n",
       "    .dataframe tbody tr th {\n",
       "        vertical-align: top;\n",
       "    }\n",
       "\n",
       "    .dataframe thead th {\n",
       "        text-align: right;\n",
       "    }\n",
       "</style>\n",
       "<table border=\"1\" class=\"dataframe\">\n",
       "  <thead>\n",
       "    <tr style=\"text-align: right;\">\n",
       "      <th></th>\n",
       "      <th>dataset</th>\n",
       "      <th>method</th>\n",
       "      <th>normal</th>\n",
       "      <th>lags</th>\n",
       "      <th>nof_filters</th>\n",
       "      <th>epoch</th>\n",
       "      <th>mse(train)</th>\n",
       "      <th>mse(test)</th>\n",
       "      <th>calculation_time</th>\n",
       "    </tr>\n",
       "  </thead>\n",
       "  <tbody>\n",
       "    <tr>\n",
       "      <th>0</th>\n",
       "      <td>data2</td>\n",
       "      <td>STGCN</td>\n",
       "      <td>X</td>\n",
       "      <td>4</td>\n",
       "      <td>16</td>\n",
       "      <td>150</td>\n",
       "      <td>0.186116</td>\n",
       "      <td>0.165823</td>\n",
       "      <td>1221.462088</td>\n",
       "    </tr>\n",
       "    <tr>\n",
       "      <th>1</th>\n",
       "      <td>data2</td>\n",
       "      <td>STGCN</td>\n",
       "      <td>X</td>\n",
       "      <td>4</td>\n",
       "      <td>32</td>\n",
       "      <td>150</td>\n",
       "      <td>0.185565</td>\n",
       "      <td>0.171283</td>\n",
       "      <td>1237.214506</td>\n",
       "    </tr>\n",
       "    <tr>\n",
       "      <th>2</th>\n",
       "      <td>data2</td>\n",
       "      <td>STGCN</td>\n",
       "      <td>X</td>\n",
       "      <td>4</td>\n",
       "      <td>64</td>\n",
       "      <td>150</td>\n",
       "      <td>0.200393</td>\n",
       "      <td>0.186591</td>\n",
       "      <td>1497.534026</td>\n",
       "    </tr>\n",
       "    <tr>\n",
       "      <th>3</th>\n",
       "      <td>data2</td>\n",
       "      <td>STGCN</td>\n",
       "      <td>X</td>\n",
       "      <td>8</td>\n",
       "      <td>16</td>\n",
       "      <td>150</td>\n",
       "      <td>0.198985</td>\n",
       "      <td>0.172985</td>\n",
       "      <td>1041.296445</td>\n",
       "    </tr>\n",
       "    <tr>\n",
       "      <th>4</th>\n",
       "      <td>data2</td>\n",
       "      <td>STGCN</td>\n",
       "      <td>X</td>\n",
       "      <td>8</td>\n",
       "      <td>32</td>\n",
       "      <td>150</td>\n",
       "      <td>0.201762</td>\n",
       "      <td>0.175557</td>\n",
       "      <td>948.47674</td>\n",
       "    </tr>\n",
       "    <tr>\n",
       "      <th>...</th>\n",
       "      <td>...</td>\n",
       "      <td>...</td>\n",
       "      <td>...</td>\n",
       "      <td>...</td>\n",
       "      <td>...</td>\n",
       "      <td>...</td>\n",
       "      <td>...</td>\n",
       "      <td>...</td>\n",
       "      <td>...</td>\n",
       "    </tr>\n",
       "    <tr>\n",
       "      <th>235</th>\n",
       "      <td>data2</td>\n",
       "      <td>STGCN</td>\n",
       "      <td>X</td>\n",
       "      <td>12</td>\n",
       "      <td>32</td>\n",
       "      <td>150</td>\n",
       "      <td>0.189189</td>\n",
       "      <td>0.168207</td>\n",
       "      <td>1310.145853</td>\n",
       "    </tr>\n",
       "    <tr>\n",
       "      <th>236</th>\n",
       "      <td>data2</td>\n",
       "      <td>STGCN</td>\n",
       "      <td>X</td>\n",
       "      <td>12</td>\n",
       "      <td>64</td>\n",
       "      <td>150</td>\n",
       "      <td>0.193969</td>\n",
       "      <td>0.176804</td>\n",
       "      <td>1346.117926</td>\n",
       "    </tr>\n",
       "    <tr>\n",
       "      <th>237</th>\n",
       "      <td>data2</td>\n",
       "      <td>STGCN</td>\n",
       "      <td>X</td>\n",
       "      <td>24</td>\n",
       "      <td>16</td>\n",
       "      <td>150</td>\n",
       "      <td>0.220608</td>\n",
       "      <td>0.190391</td>\n",
       "      <td>1204.447807</td>\n",
       "    </tr>\n",
       "    <tr>\n",
       "      <th>238</th>\n",
       "      <td>data2</td>\n",
       "      <td>STGCN</td>\n",
       "      <td>X</td>\n",
       "      <td>24</td>\n",
       "      <td>32</td>\n",
       "      <td>150</td>\n",
       "      <td>0.248845</td>\n",
       "      <td>0.21056</td>\n",
       "      <td>1234.316041</td>\n",
       "    </tr>\n",
       "    <tr>\n",
       "      <th>239</th>\n",
       "      <td>data2</td>\n",
       "      <td>STGCN</td>\n",
       "      <td>X</td>\n",
       "      <td>24</td>\n",
       "      <td>64</td>\n",
       "      <td>150</td>\n",
       "      <td>0.216271</td>\n",
       "      <td>0.191787</td>\n",
       "      <td>1002.52125</td>\n",
       "    </tr>\n",
       "  </tbody>\n",
       "</table>\n",
       "<p>240 rows × 9 columns</p>\n",
       "</div>"
      ],
      "text/plain": [
       "    dataset method normal lags nof_filters epoch mse(train) mse(test)  \\\n",
       "0     data2  STGCN      X    4          16   150   0.186116  0.165823   \n",
       "1     data2  STGCN      X    4          32   150   0.185565  0.171283   \n",
       "2     data2  STGCN      X    4          64   150   0.200393  0.186591   \n",
       "3     data2  STGCN      X    8          16   150   0.198985  0.172985   \n",
       "4     data2  STGCN      X    8          32   150   0.201762  0.175557   \n",
       "..      ...    ...    ...  ...         ...   ...        ...       ...   \n",
       "235   data2  STGCN      X   12          32   150   0.189189  0.168207   \n",
       "236   data2  STGCN      X   12          64   150   0.193969  0.176804   \n",
       "237   data2  STGCN      X   24          16   150   0.220608  0.190391   \n",
       "238   data2  STGCN      X   24          32   150   0.248845   0.21056   \n",
       "239   data2  STGCN      X   24          64   150   0.216271  0.191787   \n",
       "\n",
       "    calculation_time  \n",
       "0        1221.462088  \n",
       "1        1237.214506  \n",
       "2        1497.534026  \n",
       "3        1041.296445  \n",
       "4          948.47674  \n",
       "..               ...  \n",
       "235      1310.145853  \n",
       "236      1346.117926  \n",
       "237      1204.447807  \n",
       "238      1234.316041  \n",
       "239       1002.52125  \n",
       "\n",
       "[240 rows x 9 columns]"
      ]
     },
     "execution_count": 45,
     "metadata": {},
     "output_type": "execute_result"
    }
   ],
   "source": [
    "simul_model_150 = eptstgcn.load_data('./simul_model2/stgcn_v1/stgcn_v1_150epoch_2.pickle')\n",
    "simul_model_150.simulation_results"
   ]
  },
  {
   "cell_type": "code",
   "execution_count": 43,
   "id": "3073e7c4-fa4b-488c-944b-44a67f966e7f",
   "metadata": {},
   "outputs": [
    {
     "data": {
      "text/plain": [
       "1186.3822703550259"
      ]
     },
     "execution_count": 43,
     "metadata": {},
     "output_type": "execute_result"
    }
   ],
   "source": [
    "simul_model_50.simulation_results['calculation_time'].mean()"
   ]
  },
  {
   "cell_type": "code",
   "execution_count": null,
   "id": "dd0b2969-7927-4e3f-9e5e-13fa1ee2f286",
   "metadata": {},
   "outputs": [],
   "source": [
    "print('stgcn ver1 50epoch 시뮬레이션 끝!')"
   ]
  },
  {
   "cell_type": "markdown",
   "id": "a4114e39-30ca-4806-801c-6e2f4d73845e",
   "metadata": {},
   "source": [
    "- 첫번째 10iter m저장X (csv로만)\n",
    "- Dropbox/noteda/posts/SOLAR/simulation_results/2023-05-04_04-21-58.csv"
   ]
  },
  {
   "cell_type": "code",
   "execution_count": null,
   "id": "680f9c15-780f-4a39-aa85-da052af0f249",
   "metadata": {},
   "outputs": [],
   "source": [
    "import matplotlib.pyplot as plt\n",
    "plt.boxplot(simul_model_50.simulation_results['mse(test)'])\n",
    "plt.show()"
   ]
  },
  {
   "cell_type": "markdown",
   "id": "cfec2e73-396f-4cb1-9df5-e228acf43697",
   "metadata": {},
   "source": [
    "## 100 epoch"
   ]
  },
  {
   "cell_type": "code",
   "execution_count": 3,
   "id": "6bb7a282-c848-4a91-a399-564ff7990afd",
   "metadata": {},
   "outputs": [],
   "source": [
    "plans_stgcn = {\n",
    "    'max_iteration': 10, # 30 \n",
    "    'method': ['STGCN'], \n",
    "    'lags': [4, 8, 12, 24], \n",
    "    'nof_filters': [16, 32, 64], \n",
    "    'epoch': [100] # [50, 100, 150]\n",
    "}"
   ]
  },
  {
   "cell_type": "code",
   "execution_count": 5,
   "id": "97f801cd-1148-4ea1-b528-4c9c64f3e631",
   "metadata": {},
   "outputs": [
    {
     "data": {
      "text/plain": [
       "{'max_iteration': 10,\n",
       " 'method': ['STGCN'],\n",
       " 'lags': [4, 8, 12, 24],\n",
       " 'nof_filters': [16, 32, 64],\n",
       " 'epoch': [100]}"
      ]
     },
     "execution_count": 5,
     "metadata": {},
     "output_type": "execute_result"
    }
   ],
   "source": [
    "plans_stgcn"
   ]
  },
  {
   "cell_type": "code",
   "execution_count": 6,
   "id": "0e3ad5e6-defd-4080-9728-7b516ff64254",
   "metadata": {},
   "outputs": [],
   "source": [
    "plnr = eptstgcn.planner.PLNR_STGCN(plans_stgcn,loader,dataset_name='data2')"
   ]
  },
  {
   "cell_type": "code",
   "execution_count": null,
   "id": "b252a734-b622-42f5-87e9-b9481a950a16",
   "metadata": {},
   "outputs": [
    {
     "name": "stdout",
     "output_type": "stream",
     "text": [
      "12/100\r"
     ]
    }
   ],
   "source": [
    "plnr.simulate()\n",
    "eptstgcn.save_data(plnr, './simul_model2/stgcn_v1/stgcn_v1_100epoch_2.pickle')\n",
    "simul_model_100 = eptstgcn.load_data('./simul_model2/stgcn_v1/stgcn_v1_100epoch_2.pickle')"
   ]
  },
  {
   "cell_type": "code",
   "execution_count": 15,
   "id": "999b2789-b247-449c-be0f-506af67e448a",
   "metadata": {},
   "outputs": [
    {
     "data": {
      "text/html": [
       "<div>\n",
       "<style scoped>\n",
       "    .dataframe tbody tr th:only-of-type {\n",
       "        vertical-align: middle;\n",
       "    }\n",
       "\n",
       "    .dataframe tbody tr th {\n",
       "        vertical-align: top;\n",
       "    }\n",
       "\n",
       "    .dataframe thead th {\n",
       "        text-align: right;\n",
       "    }\n",
       "</style>\n",
       "<table border=\"1\" class=\"dataframe\">\n",
       "  <thead>\n",
       "    <tr style=\"text-align: right;\">\n",
       "      <th></th>\n",
       "      <th>dataset</th>\n",
       "      <th>method</th>\n",
       "      <th>normal</th>\n",
       "      <th>lags</th>\n",
       "      <th>nof_filters</th>\n",
       "      <th>epoch</th>\n",
       "      <th>mse(train)</th>\n",
       "      <th>mse(test)</th>\n",
       "      <th>calculation_time</th>\n",
       "    </tr>\n",
       "  </thead>\n",
       "  <tbody>\n",
       "    <tr>\n",
       "      <th>0</th>\n",
       "      <td>data2</td>\n",
       "      <td>STGCN</td>\n",
       "      <td>X</td>\n",
       "      <td>4</td>\n",
       "      <td>16</td>\n",
       "      <td>100</td>\n",
       "      <td>0.195067</td>\n",
       "      <td>0.180725</td>\n",
       "      <td>594.303679</td>\n",
       "    </tr>\n",
       "    <tr>\n",
       "      <th>1</th>\n",
       "      <td>data2</td>\n",
       "      <td>STGCN</td>\n",
       "      <td>X</td>\n",
       "      <td>4</td>\n",
       "      <td>32</td>\n",
       "      <td>100</td>\n",
       "      <td>0.181248</td>\n",
       "      <td>0.16525</td>\n",
       "      <td>611.907454</td>\n",
       "    </tr>\n",
       "    <tr>\n",
       "      <th>2</th>\n",
       "      <td>data2</td>\n",
       "      <td>STGCN</td>\n",
       "      <td>X</td>\n",
       "      <td>4</td>\n",
       "      <td>64</td>\n",
       "      <td>100</td>\n",
       "      <td>0.183541</td>\n",
       "      <td>0.165472</td>\n",
       "      <td>629.378186</td>\n",
       "    </tr>\n",
       "    <tr>\n",
       "      <th>3</th>\n",
       "      <td>data2</td>\n",
       "      <td>STGCN</td>\n",
       "      <td>X</td>\n",
       "      <td>8</td>\n",
       "      <td>16</td>\n",
       "      <td>100</td>\n",
       "      <td>0.201609</td>\n",
       "      <td>0.180656</td>\n",
       "      <td>616.519384</td>\n",
       "    </tr>\n",
       "    <tr>\n",
       "      <th>4</th>\n",
       "      <td>data2</td>\n",
       "      <td>STGCN</td>\n",
       "      <td>X</td>\n",
       "      <td>8</td>\n",
       "      <td>32</td>\n",
       "      <td>100</td>\n",
       "      <td>0.191182</td>\n",
       "      <td>0.17075</td>\n",
       "      <td>625.537024</td>\n",
       "    </tr>\n",
       "    <tr>\n",
       "      <th>...</th>\n",
       "      <td>...</td>\n",
       "      <td>...</td>\n",
       "      <td>...</td>\n",
       "      <td>...</td>\n",
       "      <td>...</td>\n",
       "      <td>...</td>\n",
       "      <td>...</td>\n",
       "      <td>...</td>\n",
       "      <td>...</td>\n",
       "    </tr>\n",
       "    <tr>\n",
       "      <th>115</th>\n",
       "      <td>data2</td>\n",
       "      <td>STGCN</td>\n",
       "      <td>X</td>\n",
       "      <td>12</td>\n",
       "      <td>32</td>\n",
       "      <td>100</td>\n",
       "      <td>0.208179</td>\n",
       "      <td>0.181665</td>\n",
       "      <td>863.704366</td>\n",
       "    </tr>\n",
       "    <tr>\n",
       "      <th>116</th>\n",
       "      <td>data2</td>\n",
       "      <td>STGCN</td>\n",
       "      <td>X</td>\n",
       "      <td>12</td>\n",
       "      <td>64</td>\n",
       "      <td>100</td>\n",
       "      <td>0.192994</td>\n",
       "      <td>0.168374</td>\n",
       "      <td>894.694965</td>\n",
       "    </tr>\n",
       "    <tr>\n",
       "      <th>117</th>\n",
       "      <td>data2</td>\n",
       "      <td>STGCN</td>\n",
       "      <td>X</td>\n",
       "      <td>24</td>\n",
       "      <td>16</td>\n",
       "      <td>100</td>\n",
       "      <td>0.226653</td>\n",
       "      <td>0.203374</td>\n",
       "      <td>797.021305</td>\n",
       "    </tr>\n",
       "    <tr>\n",
       "      <th>118</th>\n",
       "      <td>data2</td>\n",
       "      <td>STGCN</td>\n",
       "      <td>X</td>\n",
       "      <td>24</td>\n",
       "      <td>32</td>\n",
       "      <td>100</td>\n",
       "      <td>0.25733</td>\n",
       "      <td>0.219492</td>\n",
       "      <td>805.615929</td>\n",
       "    </tr>\n",
       "    <tr>\n",
       "      <th>119</th>\n",
       "      <td>data2</td>\n",
       "      <td>STGCN</td>\n",
       "      <td>X</td>\n",
       "      <td>24</td>\n",
       "      <td>64</td>\n",
       "      <td>100</td>\n",
       "      <td>0.218003</td>\n",
       "      <td>0.196679</td>\n",
       "      <td>842.991321</td>\n",
       "    </tr>\n",
       "  </tbody>\n",
       "</table>\n",
       "<p>120 rows × 9 columns</p>\n",
       "</div>"
      ],
      "text/plain": [
       "    dataset method normal lags nof_filters epoch mse(train) mse(test)  \\\n",
       "0     data2  STGCN      X    4          16   100   0.195067  0.180725   \n",
       "1     data2  STGCN      X    4          32   100   0.181248   0.16525   \n",
       "2     data2  STGCN      X    4          64   100   0.183541  0.165472   \n",
       "3     data2  STGCN      X    8          16   100   0.201609  0.180656   \n",
       "4     data2  STGCN      X    8          32   100   0.191182   0.17075   \n",
       "..      ...    ...    ...  ...         ...   ...        ...       ...   \n",
       "115   data2  STGCN      X   12          32   100   0.208179  0.181665   \n",
       "116   data2  STGCN      X   12          64   100   0.192994  0.168374   \n",
       "117   data2  STGCN      X   24          16   100   0.226653  0.203374   \n",
       "118   data2  STGCN      X   24          32   100    0.25733  0.219492   \n",
       "119   data2  STGCN      X   24          64   100   0.218003  0.196679   \n",
       "\n",
       "    calculation_time  \n",
       "0         594.303679  \n",
       "1         611.907454  \n",
       "2         629.378186  \n",
       "3         616.519384  \n",
       "4         625.537024  \n",
       "..               ...  \n",
       "115       863.704366  \n",
       "116       894.694965  \n",
       "117       797.021305  \n",
       "118       805.615929  \n",
       "119       842.991321  \n",
       "\n",
       "[120 rows x 9 columns]"
      ]
     },
     "execution_count": 15,
     "metadata": {},
     "output_type": "execute_result"
    }
   ],
   "source": [
    "simul_model_100.simulation_results"
   ]
  },
  {
   "cell_type": "markdown",
   "id": "000c0493-a544-4d4a-a710-493bb2d1c8bf",
   "metadata": {},
   "source": [
    "- 여기까지 완료!"
   ]
  },
  {
   "cell_type": "code",
   "execution_count": null,
   "id": "74bd0a9c-58d4-4b4a-8385-3f29e02c0603",
   "metadata": {},
   "outputs": [],
   "source": [
    "# eptstgcn.save_data(plnr, './simul_model2/stgcn_v1/stgcn_v1_100epoch.pickle')"
   ]
  },
  {
   "cell_type": "code",
   "execution_count": null,
   "id": "a079584b-12d8-44ab-a856-74436f9deff2",
   "metadata": {},
   "outputs": [],
   "source": [
    "# simul_model_100 = eptstgcn.load_data('./simul_model2/stgcn_v1/stgcn_v1_100epoch.pickle')"
   ]
  },
  {
   "cell_type": "markdown",
   "id": "9d2a8071-17e5-495b-9254-2e3404676a6d",
   "metadata": {},
   "source": [
    "## 150 epoch"
   ]
  },
  {
   "cell_type": "code",
   "execution_count": 16,
   "id": "54f7152e-a292-485e-b3f7-a99144671463",
   "metadata": {},
   "outputs": [],
   "source": [
    "plans_stgcn = {\n",
    "    'max_iteration': 10, # 30 \n",
    "    'method': ['STGCN'], \n",
    "    'lags': [4, 8, 12, 24], \n",
    "    'nof_filters': [16, 32, 64], \n",
    "    'epoch': [150] # [50, 100, 150]\n",
    "}"
   ]
  },
  {
   "cell_type": "code",
   "execution_count": 17,
   "id": "5e299a5b-b136-4190-9385-9f23c1432c65",
   "metadata": {},
   "outputs": [],
   "source": [
    "plnr = eptstgcn.planner.PLNR_STGCN(plans_stgcn,loader,dataset_name='data2')"
   ]
  },
  {
   "cell_type": "code",
   "execution_count": null,
   "id": "802e7d34-f9aa-4b9f-8176-11edd55b8a03",
   "metadata": {},
   "outputs": [
    {
     "name": "stdout",
     "output_type": "stream",
     "text": [
      "137/150\r"
     ]
    }
   ],
   "source": [
    "plnr.simulate()\n",
    "eptstgcn.save_data(plnr,'./simul_model2/stgcn_v1/stgcn_v1_150epoch.pickle')\n",
    "simul_model_150 = eptstgcn.load_data('./simul_model2/stgcn_v1/stgcn_v1_150epoch.pickle')"
   ]
  },
  {
   "cell_type": "code",
   "execution_count": null,
   "id": "85578b55-71c5-46b2-836b-385318ad6c2a",
   "metadata": {},
   "outputs": [],
   "source": [
    "eptstgcn.save_data(plnr,'./simul_model2/stgcn_v1/stgcn_v1_150epoch.pickle')"
   ]
  },
  {
   "cell_type": "code",
   "execution_count": null,
   "id": "1484c162-80d8-4a90-830c-e7f1a4ed13e7",
   "metadata": {},
   "outputs": [],
   "source": [
    "simul_model_150 = eptstgcn.load_data('./simul_model2/stgcn_v1/stgcn_v1_150epoch.pickle')"
   ]
  }
 ],
 "metadata": {
  "kernelspec": {
   "display_name": "Python 3",
   "language": "python",
   "name": "python3"
  },
  "language_info": {
   "codemirror_mode": {
    "name": "ipython",
    "version": 3
   },
   "file_extension": ".py",
   "mimetype": "text/x-python",
   "name": "python",
   "nbconvert_exporter": "python",
   "pygments_lexer": "ipython3",
   "version": "3.8.16"
  }
 },
 "nbformat": 4,
 "nbformat_minor": 5
}
