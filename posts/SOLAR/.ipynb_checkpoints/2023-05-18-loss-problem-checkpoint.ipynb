{
 "cells": [
  {
   "cell_type": "raw",
   "id": "cd0e9f1a-708c-4ae4-ad1c-7d0455464407",
   "metadata": {},
   "source": [
    "---\n",
    "title: \"**[SOLAR]** loss\"\n",
    "author: \"JiyunLim\"\n",
    "date: \"05/18/2023\"\n",
    "categories:\n",
    "  - STGCN\n",
    "  - Chikenpox \n",
    "---"
   ]
  },
  {
   "cell_type": "code",
   "execution_count": 1,
   "id": "94c83076-7808-4970-ad04-6180d6c0b97b",
   "metadata": {},
   "outputs": [],
   "source": [
    "from torch_geometric_temporal.dataset import ChickenpoxDatasetLoader\n",
    "from torch_geometric_temporal.signal import temporal_signal_split\n",
    "\n",
    "loader = ChickenpoxDatasetLoader()\n",
    "\n",
    "dataset = loader.get_dataset()\n",
    "\n",
    "train_dataset, test_dataset = temporal_signal_split(dataset, train_ratio=0.2)"
   ]
  },
  {
   "cell_type": "code",
   "execution_count": 2,
   "id": "020e1ddd-e9ac-4140-889e-e35b2a45e366",
   "metadata": {},
   "outputs": [],
   "source": [
    "import torch\n",
    "import torch.nn.functional as F\n",
    "from torch_geometric_temporal.nn.recurrent import DCRNN\n",
    "\n",
    "class RecurrentGCN(torch.nn.Module):\n",
    "    def __init__(self, node_features):\n",
    "        super(RecurrentGCN, self).__init__()\n",
    "        self.recurrent = DCRNN(node_features, 32, 1)\n",
    "        self.linear = torch.nn.Linear(32, 1)\n",
    "\n",
    "    def forward(self, x, edge_index, edge_weight):\n",
    "        h = self.recurrent(x, edge_index, edge_weight)\n",
    "        h = F.relu(h)\n",
    "        h = self.linear(h)\n",
    "        return h"
   ]
  },
  {
   "cell_type": "code",
   "execution_count": 3,
   "id": "d5692bb6-80e8-4667-93ab-19b350db60a6",
   "metadata": {},
   "outputs": [
    {
     "data": {
      "text/plain": [
       "RecurrentGCN(\n",
       "  (recurrent): DCRNN(\n",
       "    (conv_x_z): DConv(36, 32)\n",
       "    (conv_x_r): DConv(36, 32)\n",
       "    (conv_x_h): DConv(36, 32)\n",
       "  )\n",
       "  (linear): Linear(in_features=32, out_features=1, bias=True)\n",
       ")"
      ]
     },
     "execution_count": 3,
     "metadata": {},
     "output_type": "execute_result"
    }
   ],
   "source": [
    "from tqdm import tqdm\n",
    "\n",
    "model = RecurrentGCN(node_features = 4)\n",
    "\n",
    "optimizer = torch.optim.Adam(model.parameters(), lr=0.01)\n",
    "\n",
    "model.train()\n",
    "\n"
   ]
  },
  {
   "cell_type": "markdown",
   "id": "3866de12-09b2-4869-aa4d-d654307d4395",
   "metadata": {},
   "source": [
    "- loss 계산시 dimension 문제가 있었음. 우리는 $y_1$ 과 $\\hat{y}_1$을 잘 맞추면되는 것이지 $y_1$과 $\\hat{y}_2$를 잘 맞출필요는 없다.."
   ]
  },
  {
   "cell_type": "code",
   "execution_count": 7,
   "id": "97b4d10f-3f3d-4810-8aaf-3631d41060f4",
   "metadata": {},
   "outputs": [
    {
     "name": "stdout",
     "output_type": "stream",
     "text": [
      "torch.Size([20]) torch.Size([20]) torch.Size([20])\n",
      "torch.Size([20]) torch.Size([20]) torch.Size([20])\n",
      "torch.Size([20]) torch.Size([20]) torch.Size([20])\n",
      "torch.Size([20]) torch.Size([20]) torch.Size([20])\n",
      "torch.Size([20]) torch.Size([20]) torch.Size([20])\n",
      "torch.Size([20]) torch.Size([20]) torch.Size([20])\n",
      "torch.Size([20]) torch.Size([20]) torch.Size([20])\n",
      "torch.Size([20]) torch.Size([20]) torch.Size([20])\n",
      "torch.Size([20]) torch.Size([20]) torch.Size([20])\n",
      "torch.Size([20]) torch.Size([20]) torch.Size([20])\n",
      "torch.Size([20]) torch.Size([20]) torch.Size([20])\n",
      "torch.Size([20]) torch.Size([20]) torch.Size([20])\n",
      "torch.Size([20]) torch.Size([20]) torch.Size([20])\n",
      "torch.Size([20]) torch.Size([20]) torch.Size([20])\n",
      "torch.Size([20]) torch.Size([20]) torch.Size([20])\n",
      "torch.Size([20]) torch.Size([20]) torch.Size([20])\n",
      "torch.Size([20]) torch.Size([20]) torch.Size([20])\n",
      "torch.Size([20]) torch.Size([20]) torch.Size([20])\n",
      "torch.Size([20]) torch.Size([20]) torch.Size([20])\n",
      "torch.Size([20]) torch.Size([20]) torch.Size([20])\n",
      "torch.Size([20]) torch.Size([20]) torch.Size([20])\n",
      "torch.Size([20]) torch.Size([20]) torch.Size([20])\n",
      "torch.Size([20]) torch.Size([20]) torch.Size([20])\n",
      "torch.Size([20]) torch.Size([20]) torch.Size([20])\n",
      "torch.Size([20]) torch.Size([20]) torch.Size([20])\n",
      "torch.Size([20]) torch.Size([20]) torch.Size([20])\n",
      "torch.Size([20]) torch.Size([20]) torch.Size([20])\n",
      "torch.Size([20]) torch.Size([20]) torch.Size([20])\n",
      "torch.Size([20]) torch.Size([20]) torch.Size([20])\n",
      "torch.Size([20]) torch.Size([20]) torch.Size([20])\n",
      "torch.Size([20]) torch.Size([20]) torch.Size([20])\n",
      "torch.Size([20]) torch.Size([20]) torch.Size([20])\n",
      "torch.Size([20]) torch.Size([20]) torch.Size([20])\n",
      "torch.Size([20]) torch.Size([20]) torch.Size([20])\n",
      "torch.Size([20]) torch.Size([20]) torch.Size([20])\n",
      "torch.Size([20]) torch.Size([20]) torch.Size([20])\n",
      "torch.Size([20]) torch.Size([20]) torch.Size([20])\n",
      "torch.Size([20]) torch.Size([20]) torch.Size([20])\n",
      "torch.Size([20]) torch.Size([20]) torch.Size([20])\n",
      "torch.Size([20]) torch.Size([20]) torch.Size([20])\n",
      "torch.Size([20]) torch.Size([20]) torch.Size([20])\n",
      "torch.Size([20]) torch.Size([20]) torch.Size([20])\n",
      "torch.Size([20]) torch.Size([20]) torch.Size([20])\n",
      "torch.Size([20]) torch.Size([20]) torch.Size([20])\n",
      "torch.Size([20]) torch.Size([20]) torch.Size([20])\n",
      "torch.Size([20]) torch.Size([20]) torch.Size([20])\n",
      "torch.Size([20]) torch.Size([20]) torch.Size([20])\n",
      "torch.Size([20]) torch.Size([20]) torch.Size([20])\n",
      "torch.Size([20]) torch.Size([20]) torch.Size([20])\n",
      "torch.Size([20]) torch.Size([20]) torch.Size([20])\n",
      "torch.Size([20]) torch.Size([20]) torch.Size([20])\n",
      "torch.Size([20]) torch.Size([20]) torch.Size([20])\n",
      "torch.Size([20]) torch.Size([20]) torch.Size([20])\n",
      "torch.Size([20]) torch.Size([20]) torch.Size([20])\n",
      "torch.Size([20]) torch.Size([20]) torch.Size([20])\n",
      "torch.Size([20]) torch.Size([20]) torch.Size([20])\n",
      "torch.Size([20]) torch.Size([20]) torch.Size([20])\n",
      "torch.Size([20]) torch.Size([20]) torch.Size([20])\n",
      "torch.Size([20]) torch.Size([20]) torch.Size([20])\n",
      "torch.Size([20]) torch.Size([20]) torch.Size([20])\n",
      "torch.Size([20]) torch.Size([20]) torch.Size([20])\n",
      "torch.Size([20]) torch.Size([20]) torch.Size([20])\n",
      "torch.Size([20]) torch.Size([20]) torch.Size([20])\n",
      "torch.Size([20]) torch.Size([20]) torch.Size([20])\n",
      "torch.Size([20]) torch.Size([20]) torch.Size([20])\n",
      "torch.Size([20]) torch.Size([20]) torch.Size([20])\n",
      "torch.Size([20]) torch.Size([20]) torch.Size([20])\n",
      "torch.Size([20]) torch.Size([20]) torch.Size([20])\n",
      "torch.Size([20]) torch.Size([20]) torch.Size([20])\n",
      "torch.Size([20]) torch.Size([20]) torch.Size([20])\n",
      "torch.Size([20]) torch.Size([20]) torch.Size([20])\n",
      "torch.Size([20]) torch.Size([20]) torch.Size([20])\n",
      "torch.Size([20]) torch.Size([20]) torch.Size([20])\n",
      "torch.Size([20]) torch.Size([20]) torch.Size([20])\n",
      "torch.Size([20]) torch.Size([20]) torch.Size([20])\n",
      "torch.Size([20]) torch.Size([20]) torch.Size([20])\n",
      "torch.Size([20]) torch.Size([20]) torch.Size([20])\n",
      "torch.Size([20]) torch.Size([20]) torch.Size([20])\n",
      "torch.Size([20]) torch.Size([20]) torch.Size([20])\n",
      "torch.Size([20]) torch.Size([20]) torch.Size([20])\n",
      "torch.Size([20]) torch.Size([20]) torch.Size([20])\n",
      "torch.Size([20]) torch.Size([20]) torch.Size([20])\n",
      "torch.Size([20]) torch.Size([20]) torch.Size([20])\n",
      "torch.Size([20]) torch.Size([20]) torch.Size([20])\n",
      "torch.Size([20]) torch.Size([20]) torch.Size([20])\n",
      "torch.Size([20]) torch.Size([20]) torch.Size([20])\n",
      "torch.Size([20]) torch.Size([20]) torch.Size([20])\n",
      "torch.Size([20]) torch.Size([20]) torch.Size([20])\n",
      "torch.Size([20]) torch.Size([20]) torch.Size([20])\n",
      "torch.Size([20]) torch.Size([20]) torch.Size([20])\n",
      "torch.Size([20]) torch.Size([20]) torch.Size([20])\n",
      "torch.Size([20]) torch.Size([20]) torch.Size([20])\n",
      "torch.Size([20]) torch.Size([20]) torch.Size([20])\n",
      "torch.Size([20]) torch.Size([20]) torch.Size([20])\n",
      "torch.Size([20]) torch.Size([20]) torch.Size([20])\n",
      "torch.Size([20]) torch.Size([20]) torch.Size([20])\n",
      "torch.Size([20]) torch.Size([20]) torch.Size([20])\n",
      "torch.Size([20]) torch.Size([20]) torch.Size([20])\n",
      "torch.Size([20]) torch.Size([20]) torch.Size([20])\n",
      "torch.Size([20]) torch.Size([20]) torch.Size([20])\n",
      "torch.Size([20]) torch.Size([20]) torch.Size([20])\n",
      "torch.Size([20]) torch.Size([20]) torch.Size([20])\n",
      "torch.Size([20]) torch.Size([20]) torch.Size([20])\n"
     ]
    }
   ],
   "source": [
    "\n",
    "    cost = 0\n",
    "    for time, snapshot in enumerate(train_dataset):\n",
    "        y_hat = model(snapshot.x, snapshot.edge_index, snapshot.edge_attr)\n",
    "        print(y_hat.reshape(-1).shape,\n",
    "              snapshot.y.reshape(-1).shape,\n",
    "              (y_hat.reshape(-1)-snapshot.y.reshape(-1)).shape)\n",
    "        cost = cost + torch.mean((y_hat-snapshot.y)**2)\n",
    "    cost = cost / (time+1)\n",
    "    cost.backward()\n",
    "    optimizer.step()\n",
    "    optimizer.zero_grad()"
   ]
  }
 ],
 "metadata": {
  "kernelspec": {
   "display_name": "Python 3",
   "language": "python",
   "name": "python3"
  },
  "language_info": {
   "codemirror_mode": {
    "name": "ipython",
    "version": 3
   },
   "file_extension": ".py",
   "mimetype": "text/x-python",
   "name": "python",
   "nbconvert_exporter": "python",
   "pygments_lexer": "ipython3",
   "version": "3.8.16"
  }
 },
 "nbformat": 4,
 "nbformat_minor": 5
}
