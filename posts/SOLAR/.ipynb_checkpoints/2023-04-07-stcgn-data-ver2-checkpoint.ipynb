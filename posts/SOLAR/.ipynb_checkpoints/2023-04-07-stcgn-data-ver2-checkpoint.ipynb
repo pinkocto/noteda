{
 "cells": [
  {
   "cell_type": "raw",
   "id": "ac687eda-c33d-4a67-9761-32161d244932",
   "metadata": {},
   "source": [
    "---\n",
    "title: \"**[SOLAR]** Dataset for STGCN Ver2\"\n",
    "author: \"JiyunLim\"\n",
    "date: \"04/07/2023\"\n",
    "categories:\n",
    "  - SOLAR\n",
    "  - EPT\n",
    "  - Data\n",
    "---"
   ]
  },
  {
   "cell_type": "markdown",
   "id": "90fd4b81-27a9-4e5f-b6c1-6e20a7b2cd27",
   "metadata": {},
   "source": [
    "# Create dataset for STGCN Ver2"
   ]
  },
  {
   "cell_type": "markdown",
   "id": "4958dffe-1378-4ad6-870c-618d6e42fa2f",
   "metadata": {},
   "source": [
    "- [data](https://github.com/pinkocto/noteda/tree/main/posts/SOLAR/data)"
   ]
  },
  {
   "cell_type": "markdown",
   "id": "56939068-d128-4f45-89b5-de427faa8eed",
   "metadata": {},
   "source": [
    "## import"
   ]
  },
  {
   "cell_type": "code",
   "execution_count": 33,
   "id": "fcf57374-35f2-48d5-9210-15894a79dc8f",
   "metadata": {},
   "outputs": [],
   "source": [
    "import pandas as pd\n",
    "import numpy as np\n",
    "import json\n",
    "import urllib\n",
    "\n",
    "import matplotlib.pyplot as plt"
   ]
  },
  {
   "cell_type": "markdown",
   "id": "59e2a9f7-68fd-4302-b028-3b21ea0d09cb",
   "metadata": {},
   "source": [
    "`-` solar.json"
   ]
  },
  {
   "cell_type": "code",
   "execution_count": 3,
   "id": "b1ba8057-e75c-43a9-9612-2b89422452ac",
   "metadata": {},
   "outputs": [],
   "source": [
    "url = 'https://raw.githubusercontent.com/pinkocto/noteda/main/posts/SOLAR/data/solar.json'\n",
    "data_dict = json.loads(urllib.request.urlopen(url).read())"
   ]
  },
  {
   "cell_type": "code",
   "execution_count": 4,
   "id": "708c3b03-7657-440d-b2d6-2a4f39729e48",
   "metadata": {},
   "outputs": [
    {
     "data": {
      "text/plain": [
       "dict_keys(['edges', 'node_ids', 'weights', 'FX'])"
      ]
     },
     "execution_count": 4,
     "metadata": {},
     "output_type": "execute_result"
    }
   ],
   "source": [
    "data_dict.keys()"
   ]
  },
  {
   "cell_type": "code",
   "execution_count": 6,
   "id": "8b648e8e-e612-400d-9af9-4d92fa5e3565",
   "metadata": {},
   "outputs": [
    {
     "data": {
      "text/plain": [
       "(1892,)"
      ]
     },
     "execution_count": 6,
     "metadata": {},
     "output_type": "execute_result"
    }
   ],
   "source": [
    "np.array(data_dict['weights']).shape"
   ]
  },
  {
   "cell_type": "markdown",
   "id": "6655278e-5f14-45e0-8748-fe9bde5deff4",
   "metadata": {},
   "source": [
    "`-` EPT weights"
   ]
  },
  {
   "cell_type": "code",
   "execution_count": 11,
   "id": "f5b952c1-c419-442e-a231-1859b39ff920",
   "metadata": {},
   "outputs": [],
   "source": [
    "url2 = 'https://raw.githubusercontent.com/pinkocto/noteda/main/posts/SOLAR/data/yU_weight.csv'\n",
    "yu_weight = pd.read_csv(url2)"
   ]
  },
  {
   "cell_type": "code",
   "execution_count": 12,
   "id": "63c9de68-e1f5-49ae-bd9e-73858056a0cc",
   "metadata": {},
   "outputs": [
    {
     "data": {
      "text/plain": [
       "(44, 44)"
      ]
     },
     "execution_count": 12,
     "metadata": {},
     "output_type": "execute_result"
    }
   ],
   "source": [
    "yu_weight.shape"
   ]
  },
  {
   "cell_type": "code",
   "execution_count": 21,
   "id": "fc011e5e-12d1-46e9-b455-21b3aff565ef",
   "metadata": {},
   "outputs": [
    {
     "data": {
      "text/plain": [
       "([0.962366714092048,\n",
       "  0.909825582944558,\n",
       "  0.985656552711889,\n",
       "  0.871680934662379,\n",
       "  0.90065860620053,\n",
       "  0.890926813199931,\n",
       "  0.94308108402774,\n",
       "  0.936899352767745,\n",
       "  0.94447272168175,\n",
       "  0.840858046009325],\n",
       " 0.8927396029030008)"
      ]
     },
     "execution_count": 21,
     "metadata": {},
     "output_type": "execute_result"
    }
   ],
   "source": [
    "data_dict['weights'][:10], "
   ]
  },
  {
   "cell_type": "code",
   "execution_count": 13,
   "id": "7ecbc451-e206-4749-8866-5e6ef6bd4f75",
   "metadata": {},
   "outputs": [],
   "source": [
    "weights = []    \n",
    " \n",
    "for i in range(44):\n",
    "    for j in range(44):\n",
    "        if i != j:\n",
    "            weights.append(yu_weight.iloc[i,j]) "
   ]
  },
  {
   "cell_type": "code",
   "execution_count": 45,
   "id": "632c9175-1afe-4a5e-b025-a28b203ee7ec",
   "metadata": {},
   "outputs": [
    {
     "data": {
      "text/plain": [
       "([0.936531892351231,\n",
       "  0.7910049258531,\n",
       "  0.971789275111083,\n",
       "  0.687837348221919,\n",
       "  0.770130634080735,\n",
       "  0.736971292542263,\n",
       "  0.901832850136046,\n",
       "  0.881446449497764,\n",
       "  0.895348289525123,\n",
       "  0.636585300037113],)"
      ]
     },
     "execution_count": 45,
     "metadata": {},
     "output_type": "execute_result"
    }
   ],
   "source": [
    "weights[:10], "
   ]
  },
  {
   "cell_type": "markdown",
   "id": "172f581a-4a15-4e6c-af6a-eca17cb58049",
   "metadata": {},
   "source": [
    "## Comparison"
   ]
  },
  {
   "cell_type": "code",
   "execution_count": 25,
   "id": "ff72ac44-a539-4270-8e15-cfe63441db74",
   "metadata": {},
   "outputs": [
    {
     "data": {
      "text/plain": [
       "(0.8927396029030008, 0.7271816268896101)"
      ]
     },
     "execution_count": 25,
     "metadata": {},
     "output_type": "execute_result"
    }
   ],
   "source": [
    "np.mean(data_dict['weights']), np.mean(weights)"
   ]
  },
  {
   "cell_type": "code",
   "execution_count": 44,
   "id": "2293c1c8-1fb7-4857-af85-6786a335301e",
   "metadata": {},
   "outputs": [
    {
     "data": {
      "text/plain": [
       "<matplotlib.legend.Legend at 0x7f752626fd90>"
      ]
     },
     "execution_count": 44,
     "metadata": {},
     "output_type": "execute_result"
    },
    {
     "data": {
      "image/png": "[encoded data removed]",
      "text/plain": [
       "<Figure size 432x288 with 1 Axes>"
      ]
     },
     "metadata": {
      "needs_background": "light"
     },
     "output_type": "display_data"
    }
   ],
   "source": [
    "plt.hist(np.array(data_dict['weights']), alpha = 0.5, label = 'weights')\n",
    "plt.hist(np.array(weights), alpha = 0.5, label = 'EPT weights')\n",
    "plt.legend(loc='upper left')"
   ]
  },
  {
   "cell_type": "markdown",
   "id": "385bef07-4f78-4dfd-b779-40f101fef057",
   "metadata": {},
   "source": [
    "`-` start"
   ]
  },
  {
   "cell_type": "code",
   "execution_count": 47,
   "id": "7ba086f8-5482-4dd0-9dd8-2faee3b71711",
   "metadata": {},
   "outputs": [
    {
     "data": {
      "text/plain": [
       "(1892,)"
      ]
     },
     "execution_count": 47,
     "metadata": {},
     "output_type": "execute_result"
    }
   ],
   "source": [
    "np.array(data_dict['weights']).shape"
   ]
  },
  {
   "cell_type": "code",
   "execution_count": 48,
   "id": "3fea9431-6720-4464-b687-b58ab42796c0",
   "metadata": {},
   "outputs": [
    {
     "data": {
      "text/plain": [
       "(1892,)"
      ]
     },
     "execution_count": 48,
     "metadata": {},
     "output_type": "execute_result"
    }
   ],
   "source": [
    "np.array(weights).shape"
   ]
  },
  {
   "cell_type": "code",
   "execution_count": 49,
   "id": "1d4bee0a-a9be-4082-bb97-62edad24f4c2",
   "metadata": {},
   "outputs": [],
   "source": [
    "data_dict['weights'] = weights"
   ]
  },
  {
   "cell_type": "code",
   "execution_count": 50,
   "id": "801234d8-61ae-45d0-86da-38c5e8163317",
   "metadata": {},
   "outputs": [
    {
     "data": {
      "text/plain": [
       "[0.936531892351231,\n",
       " 0.7910049258531,\n",
       " 0.971789275111083,\n",
       " 0.687837348221919,\n",
       " 0.770130634080735,\n",
       " 0.736971292542263,\n",
       " 0.901832850136046,\n",
       " 0.881446449497764,\n",
       " 0.895348289525123,\n",
       " 0.636585300037113]"
      ]
     },
     "execution_count": 50,
     "metadata": {},
     "output_type": "execute_result"
    }
   ],
   "source": [
    "data_dict['weights'][:10]"
   ]
  },
  {
   "cell_type": "code",
   "execution_count": 53,
   "id": "6d72ca2b-8d60-4426-a507-b1cb4cf715bf",
   "metadata": {},
   "outputs": [
    {
     "data": {
      "text/plain": [
       "0.7271816268896101"
      ]
     },
     "execution_count": 53,
     "metadata": {},
     "output_type": "execute_result"
    }
   ],
   "source": [
    "np.array(data_dict['weights']).mean()"
   ]
  },
  {
   "cell_type": "code",
   "execution_count": 54,
   "id": "6c3b09e5-ab0f-4a22-a9bf-7032a4d6fb82",
   "metadata": {},
   "outputs": [
    {
     "data": {
      "text/plain": [
       "dict_keys(['edges', 'node_ids', 'weights', 'FX'])"
      ]
     },
     "execution_count": 54,
     "metadata": {},
     "output_type": "execute_result"
    }
   ],
   "source": [
    "data_dict.keys()"
   ]
  },
  {
   "cell_type": "code",
   "execution_count": 56,
   "id": "38013db1-6b99-40e1-841b-32bb0075c83a",
   "metadata": {},
   "outputs": [],
   "source": [
    "# file_path = './data/solar2.json'"
   ]
  },
  {
   "cell_type": "code",
   "execution_count": 58,
   "id": "f0a314ba-e1d7-4d55-8414-2ba966e68c83",
   "metadata": {},
   "outputs": [],
   "source": [
    "# with open(file_path, 'w') as f:\n",
    "#     json.dump(data_dict, f)"
   ]
  },
  {
   "cell_type": "code",
   "execution_count": 59,
   "id": "a7989cd1-9afb-4654-b1b6-adff2daa6047",
   "metadata": {},
   "outputs": [],
   "source": [
    "with open(file_path, 'r') as f:\n",
    "    test = json.load(f, encoding='cp949')"
   ]
  }
 ],
 "metadata": {
  "kernelspec": {
   "display_name": "Python 3",
   "language": "python",
   "name": "python3"
  },
  "language_info": {
   "codemirror_mode": {
    "name": "ipython",
    "version": 3
   },
   "file_extension": ".py",
   "mimetype": "text/x-python",
   "name": "python",
   "nbconvert_exporter": "python",
   "pygments_lexer": "ipython3",
   "version": "3.8.16"
  }
 },
 "nbformat": 4,
 "nbformat_minor": 5
}
