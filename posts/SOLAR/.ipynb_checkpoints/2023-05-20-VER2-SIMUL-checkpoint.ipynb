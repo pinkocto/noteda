{
 "cells": [
  {
   "cell_type": "raw",
   "id": "30c11232-54f1-4815-a5d0-07ee32833e78",
   "metadata": {},
   "source": [
    "---\n",
    "title: \" **[SOLAR]** STGCN Ver2 SIMULATION (data2)\"\n",
    "author: \"JiyunLim\"\n",
    "date: \"05/20/2023\"\n",
    "categories:\n",
    "  - Research\n",
    "  - STGCN\n",
    "  - SOLAR\n",
    "  - SIMUL\n",
    "---"
   ]
  },
  {
   "cell_type": "markdown",
   "id": "e04af519-9789-44df-a42e-e85e257339ee",
   "metadata": {},
   "source": [
    "# STGCN Ver2 (EPT-STGCN)"
   ]
  },
  {
   "cell_type": "markdown",
   "id": "ef19ed72-685e-4665-9a98-88d7202cf9ec",
   "metadata": {},
   "source": [
    "> edit: weight($\\to$upper), loss"
   ]
  },
  {
   "cell_type": "markdown",
   "id": "827de04d-aafc-46bd-ac31-7bc5cbd29f68",
   "metadata": {},
   "source": [
    "1iter > 데이터 개수 좀 안맞을 것..\n",
    "\n",
    "2iter > 정상적"
   ]
  },
  {
   "cell_type": "markdown",
   "id": "f995e86a-6b84-4a67-9a86-43eee1bf6b1b",
   "metadata": {},
   "source": [
    "## ref\n",
    "- <https://github.com/miruetoto/yechan3/tree/main/posts/3_Researches/ITSTGCN/itstgcn>\n",
    "- <https://miruetoto.github.io/yechan3/posts/3_Researches/ITSTGCN/2023-03-18-SimulationPlanner-Tutorial.html#plnr_gnar_block>"
   ]
  },
  {
   "cell_type": "markdown",
   "id": "4002635e-1114-4889-842f-6cb44be61d33",
   "metadata": {},
   "source": [
    "## 2022/06/01 ~ 2022/09/15\n",
    "\n",
    "- train 2022-06-01 00:00:00 ~ 2022-08-14 17:00:00\n",
    "- test 2022-08-14 18:00:00 ~ 2022-09-15 23:00:00"
   ]
  },
  {
   "cell_type": "markdown",
   "id": "f6db9b01-8811-44cf-9fec-ebb52db11151",
   "metadata": {},
   "source": [
    "# Import"
   ]
  },
  {
   "cell_type": "code",
   "execution_count": 1,
   "id": "5c85f883-7abd-402b-afeb-d297b3314a38",
   "metadata": {},
   "outputs": [],
   "source": [
    "import eptstgcn\n",
    "import torch\n",
    "import eptstgcn.planner\n",
    "\n",
    "import warnings\n",
    "warnings.filterwarnings('ignore')"
   ]
  },
  {
   "cell_type": "markdown",
   "id": "c4425a09-baec-4fb7-b9fd-acf92209c018",
   "metadata": {},
   "source": [
    "# Read Data"
   ]
  },
  {
   "cell_type": "code",
   "execution_count": 2,
   "id": "56e7122a-b438-4615-8143-0a11ed03e353",
   "metadata": {},
   "outputs": [],
   "source": [
    "url = \"https://raw.githubusercontent.com/pinkocto/noteda/main/posts/SOLAR/data4/stgcn_data2.json\"\n",
    "loader = eptstgcn.DatasetLoader(url)\n",
    "# dataset = loader.get_dataset(lags=4)\n",
    "# train_dataset, test_dataset = eptstgcn.utils.temporal_signal_split(dataset, train_ratio = 0.7)"
   ]
  },
  {
   "cell_type": "markdown",
   "id": "2277a42d-e4f8-4c96-9bf8-385b8089a4a8",
   "metadata": {},
   "source": [
    "# Simulation"
   ]
  },
  {
   "cell_type": "markdown",
   "id": "bc81fe51-32e3-4a36-ac7d-c7550d32dc39",
   "metadata": {},
   "source": [
    "## 50 epoch"
   ]
  },
  {
   "cell_type": "code",
   "execution_count": 3,
   "id": "2ea2ec25-5271-46a5-8543-73f6b1a1d90a",
   "metadata": {},
   "outputs": [],
   "source": [
    "plans_stgcn = {\n",
    "    'max_iteration': 10,  # 30, \n",
    "    'method': ['EPT-STGCN'], \n",
    "    'lags': [4, 8, 12], #[4, 8, 12, 24], \n",
    "    'nof_filters':[16, 32, 64], # [16, 32, 64], \n",
    "    'epoch': [50] # [50, 100, 150]\n",
    "}"
   ]
  },
  {
   "cell_type": "code",
   "execution_count": 4,
   "id": "99c649cd-b0f4-4a31-a39e-2914c82482df",
   "metadata": {},
   "outputs": [
    {
     "data": {
      "text/plain": [
       "{'max_iteration': 10,\n",
       " 'method': ['EPT-STGCN'],\n",
       " 'lags': [4, 8, 12],\n",
       " 'nof_filters': [16, 32, 64],\n",
       " 'epoch': [50]}"
      ]
     },
     "execution_count": 4,
     "metadata": {},
     "output_type": "execute_result"
    }
   ],
   "source": [
    "plans_stgcn"
   ]
  },
  {
   "cell_type": "code",
   "execution_count": 5,
   "id": "48bd0069-69c8-467a-9bd7-111a2a5ec07a",
   "metadata": {},
   "outputs": [],
   "source": [
    "plnr = eptstgcn.planner.PLNR_STGCN(plans_stgcn,loader,dataset_name='data4')"
   ]
  },
  {
   "cell_type": "code",
   "execution_count": 6,
   "id": "cbd456fe-aa78-4b0e-85e0-c81e292ef658",
   "metadata": {},
   "outputs": [
    {
     "name": "stdout",
     "output_type": "stream",
     "text": [
      "1/10 is done\n",
      "2/10 is done\n",
      "3/10 is done\n",
      "4/10 is done\n",
      "5/10 is done\n",
      "6/10 is done\n",
      "7/10 is done\n",
      "8/10 is done\n",
      "9/10 is done\n",
      "10/10 is done\n",
      "All results are stored in ./simulation_results2/2023-05-23_21-47-23.csv\n"
     ]
    }
   ],
   "source": [
    "plnr.simulate()\n",
    "eptstgcn.save_data(plnr, './simul_model3/stgcn_v2/stgcn_v2_50epoch_2.pickle')\n",
    "simul_model = eptstgcn.load_data('./simul_model3/stgcn_v2/stgcn_v2_50epoch_2.pickle')"
   ]
  },
  {
   "cell_type": "code",
   "execution_count": 10,
   "id": "0d6e38e1-938a-4d9c-b496-433e5b4cbed9",
   "metadata": {},
   "outputs": [
    {
     "data": {
      "text/html": [
       "<div>\n",
       "<style scoped>\n",
       "    .dataframe tbody tr th:only-of-type {\n",
       "        vertical-align: middle;\n",
       "    }\n",
       "\n",
       "    .dataframe tbody tr th {\n",
       "        vertical-align: top;\n",
       "    }\n",
       "\n",
       "    .dataframe thead th {\n",
       "        text-align: right;\n",
       "    }\n",
       "</style>\n",
       "<table border=\"1\" class=\"dataframe\">\n",
       "  <thead>\n",
       "    <tr style=\"text-align: right;\">\n",
       "      <th></th>\n",
       "      <th>dataset</th>\n",
       "      <th>method</th>\n",
       "      <th>normal</th>\n",
       "      <th>lags</th>\n",
       "      <th>nof_filters</th>\n",
       "      <th>epoch</th>\n",
       "      <th>mse(train)</th>\n",
       "      <th>mse(test)</th>\n",
       "      <th>calculation_time</th>\n",
       "    </tr>\n",
       "  </thead>\n",
       "  <tbody>\n",
       "    <tr>\n",
       "      <th>0</th>\n",
       "      <td>data2</td>\n",
       "      <td>EPT-STGCN</td>\n",
       "      <td>X</td>\n",
       "      <td>4</td>\n",
       "      <td>16</td>\n",
       "      <td>50</td>\n",
       "      <td>0.190714</td>\n",
       "      <td>0.175346</td>\n",
       "      <td>409.163005</td>\n",
       "    </tr>\n",
       "    <tr>\n",
       "      <th>1</th>\n",
       "      <td>data2</td>\n",
       "      <td>EPT-STGCN</td>\n",
       "      <td>X</td>\n",
       "      <td>4</td>\n",
       "      <td>32</td>\n",
       "      <td>50</td>\n",
       "      <td>0.203176</td>\n",
       "      <td>0.18565</td>\n",
       "      <td>413.682942</td>\n",
       "    </tr>\n",
       "    <tr>\n",
       "      <th>2</th>\n",
       "      <td>data2</td>\n",
       "      <td>EPT-STGCN</td>\n",
       "      <td>X</td>\n",
       "      <td>4</td>\n",
       "      <td>64</td>\n",
       "      <td>50</td>\n",
       "      <td>0.191339</td>\n",
       "      <td>0.171761</td>\n",
       "      <td>423.513701</td>\n",
       "    </tr>\n",
       "    <tr>\n",
       "      <th>3</th>\n",
       "      <td>data2</td>\n",
       "      <td>EPT-STGCN</td>\n",
       "      <td>X</td>\n",
       "      <td>8</td>\n",
       "      <td>16</td>\n",
       "      <td>50</td>\n",
       "      <td>0.199274</td>\n",
       "      <td>0.171866</td>\n",
       "      <td>417.055229</td>\n",
       "    </tr>\n",
       "    <tr>\n",
       "      <th>4</th>\n",
       "      <td>data2</td>\n",
       "      <td>EPT-STGCN</td>\n",
       "      <td>X</td>\n",
       "      <td>8</td>\n",
       "      <td>32</td>\n",
       "      <td>50</td>\n",
       "      <td>0.197361</td>\n",
       "      <td>0.171141</td>\n",
       "      <td>420.399146</td>\n",
       "    </tr>\n",
       "    <tr>\n",
       "      <th>...</th>\n",
       "      <td>...</td>\n",
       "      <td>...</td>\n",
       "      <td>...</td>\n",
       "      <td>...</td>\n",
       "      <td>...</td>\n",
       "      <td>...</td>\n",
       "      <td>...</td>\n",
       "      <td>...</td>\n",
       "      <td>...</td>\n",
       "    </tr>\n",
       "    <tr>\n",
       "      <th>115</th>\n",
       "      <td>data2</td>\n",
       "      <td>EPT-STGCN</td>\n",
       "      <td>X</td>\n",
       "      <td>12</td>\n",
       "      <td>32</td>\n",
       "      <td>50</td>\n",
       "      <td>0.197463</td>\n",
       "      <td>0.171049</td>\n",
       "      <td>573.610863</td>\n",
       "    </tr>\n",
       "    <tr>\n",
       "      <th>116</th>\n",
       "      <td>data2</td>\n",
       "      <td>EPT-STGCN</td>\n",
       "      <td>X</td>\n",
       "      <td>12</td>\n",
       "      <td>64</td>\n",
       "      <td>50</td>\n",
       "      <td>0.205291</td>\n",
       "      <td>0.176054</td>\n",
       "      <td>587.493403</td>\n",
       "    </tr>\n",
       "    <tr>\n",
       "      <th>117</th>\n",
       "      <td>data2</td>\n",
       "      <td>EPT-STGCN</td>\n",
       "      <td>X</td>\n",
       "      <td>24</td>\n",
       "      <td>16</td>\n",
       "      <td>50</td>\n",
       "      <td>0.246351</td>\n",
       "      <td>0.201683</td>\n",
       "      <td>533.891202</td>\n",
       "    </tr>\n",
       "    <tr>\n",
       "      <th>118</th>\n",
       "      <td>data2</td>\n",
       "      <td>EPT-STGCN</td>\n",
       "      <td>X</td>\n",
       "      <td>24</td>\n",
       "      <td>32</td>\n",
       "      <td>50</td>\n",
       "      <td>0.255483</td>\n",
       "      <td>0.222253</td>\n",
       "      <td>400.819432</td>\n",
       "    </tr>\n",
       "    <tr>\n",
       "      <th>119</th>\n",
       "      <td>data2</td>\n",
       "      <td>EPT-STGCN</td>\n",
       "      <td>X</td>\n",
       "      <td>24</td>\n",
       "      <td>64</td>\n",
       "      <td>50</td>\n",
       "      <td>0.351609</td>\n",
       "      <td>0.27754</td>\n",
       "      <td>416.468699</td>\n",
       "    </tr>\n",
       "  </tbody>\n",
       "</table>\n",
       "<p>120 rows × 9 columns</p>\n",
       "</div>"
      ],
      "text/plain": [
       "    dataset     method normal lags nof_filters epoch mse(train) mse(test)  \\\n",
       "0     data2  EPT-STGCN      X    4          16    50   0.190714  0.175346   \n",
       "1     data2  EPT-STGCN      X    4          32    50   0.203176   0.18565   \n",
       "2     data2  EPT-STGCN      X    4          64    50   0.191339  0.171761   \n",
       "3     data2  EPT-STGCN      X    8          16    50   0.199274  0.171866   \n",
       "4     data2  EPT-STGCN      X    8          32    50   0.197361  0.171141   \n",
       "..      ...        ...    ...  ...         ...   ...        ...       ...   \n",
       "115   data2  EPT-STGCN      X   12          32    50   0.197463  0.171049   \n",
       "116   data2  EPT-STGCN      X   12          64    50   0.205291  0.176054   \n",
       "117   data2  EPT-STGCN      X   24          16    50   0.246351  0.201683   \n",
       "118   data2  EPT-STGCN      X   24          32    50   0.255483  0.222253   \n",
       "119   data2  EPT-STGCN      X   24          64    50   0.351609   0.27754   \n",
       "\n",
       "    calculation_time  \n",
       "0         409.163005  \n",
       "1         413.682942  \n",
       "2         423.513701  \n",
       "3         417.055229  \n",
       "4         420.399146  \n",
       "..               ...  \n",
       "115       573.610863  \n",
       "116       587.493403  \n",
       "117       533.891202  \n",
       "118       400.819432  \n",
       "119       416.468699  \n",
       "\n",
       "[120 rows x 9 columns]"
      ]
     },
     "execution_count": 10,
     "metadata": {},
     "output_type": "execute_result"
    }
   ],
   "source": [
    "simul_model.simulation_results"
   ]
  },
  {
   "cell_type": "code",
   "execution_count": 6,
   "id": "696baee4-53d5-45f7-959b-d1042a976978",
   "metadata": {},
   "outputs": [],
   "source": [
    "# eptstgcn.save_data(plnr, './simul_model2/stgcn_v2/stgcn_v2_50epoch.pickle')"
   ]
  },
  {
   "cell_type": "code",
   "execution_count": 7,
   "id": "c6ad868c-86fc-4108-937f-5291e295d94f",
   "metadata": {},
   "outputs": [],
   "source": [
    "# simul_model = eptstgcn.load_data('./simul_model2/stgcn_v2/stgcn_v2_50epoch.pickle')"
   ]
  },
  {
   "cell_type": "markdown",
   "id": "e1cfff83-14b2-4d99-846e-0ef07967029b",
   "metadata": {},
   "source": [
    "## 100epoch"
   ]
  },
  {
   "cell_type": "code",
   "execution_count": 8,
   "id": "9590af5f-ef63-4c65-811e-4f04acf0f1ed",
   "metadata": {},
   "outputs": [],
   "source": [
    "plans_stgcn = {\n",
    "    'max_iteration': 10,  # 30, \n",
    "    'method': ['EPT-STGCN'], \n",
    "    'lags': [4, 8, 12], #[4, 8, 12, 24], \n",
    "    'nof_filters':[16, 32, 64], # [16, 32, 64], \n",
    "    'epoch': [100] # [50, 100, 150]\n",
    "}"
   ]
  },
  {
   "cell_type": "code",
   "execution_count": 9,
   "id": "3923de56-9a00-42c2-9e06-cca5ca0e7f59",
   "metadata": {},
   "outputs": [
    {
     "data": {
      "text/plain": [
       "{'max_iteration': 10,\n",
       " 'method': ['EPT-STGCN'],\n",
       " 'lags': [4, 8, 12],\n",
       " 'nof_filters': [16, 32, 64],\n",
       " 'epoch': [100]}"
      ]
     },
     "execution_count": 9,
     "metadata": {},
     "output_type": "execute_result"
    }
   ],
   "source": [
    "plans_stgcn"
   ]
  },
  {
   "cell_type": "code",
   "execution_count": 10,
   "id": "e2a231be-caaf-4c02-98e5-11e049d23c47",
   "metadata": {},
   "outputs": [],
   "source": [
    "plnr = eptstgcn.planner.PLNR_STGCN(plans_stgcn,loader,dataset_name='data4')"
   ]
  },
  {
   "cell_type": "code",
   "execution_count": null,
   "id": "f6b94df5-6bef-4234-9487-713abb0350a7",
   "metadata": {},
   "outputs": [
    {
     "name": "stdout",
     "output_type": "stream",
     "text": [
      "37/100\r"
     ]
    }
   ],
   "source": [
    "plnr.simulate()\n",
    "eptstgcn.save_data(plnr,'./simul_model3/stgcn_v2/stgcn_v2_100epoch_1.pickle')\n",
    "simul_model_100 = eptstgcn.load_data('./simul_model3/stgcn_v2/stgcn_v2_100epoch_1.pickle')"
   ]
  },
  {
   "cell_type": "code",
   "execution_count": 18,
   "id": "bd05c0bd-656d-48dc-8d2f-5a40f09ad6e0",
   "metadata": {},
   "outputs": [
    {
     "data": {
      "text/plain": [
       "{'max_iteration': 10,\n",
       " 'method': ['EPT-STGCN'],\n",
       " 'lags': [4, 8, 12, 24],\n",
       " 'nof_filters': [16, 32, 64],\n",
       " 'epoch': [100]}"
      ]
     },
     "execution_count": 18,
     "metadata": {},
     "output_type": "execute_result"
    }
   ],
   "source": [
    "plans_stgcn"
   ]
  },
  {
   "cell_type": "code",
   "execution_count": 13,
   "id": "a80fd008-deee-49a8-9b36-b887d2ee11be",
   "metadata": {},
   "outputs": [
    {
     "data": {
      "text/html": [
       "<div>\n",
       "<style scoped>\n",
       "    .dataframe tbody tr th:only-of-type {\n",
       "        vertical-align: middle;\n",
       "    }\n",
       "\n",
       "    .dataframe tbody tr th {\n",
       "        vertical-align: top;\n",
       "    }\n",
       "\n",
       "    .dataframe thead th {\n",
       "        text-align: right;\n",
       "    }\n",
       "</style>\n",
       "<table border=\"1\" class=\"dataframe\">\n",
       "  <thead>\n",
       "    <tr style=\"text-align: right;\">\n",
       "      <th></th>\n",
       "      <th>dataset</th>\n",
       "      <th>method</th>\n",
       "      <th>normal</th>\n",
       "      <th>lags</th>\n",
       "      <th>nof_filters</th>\n",
       "      <th>epoch</th>\n",
       "      <th>mse(train)</th>\n",
       "      <th>mse(test)</th>\n",
       "      <th>calculation_time</th>\n",
       "    </tr>\n",
       "  </thead>\n",
       "  <tbody>\n",
       "    <tr>\n",
       "      <th>0</th>\n",
       "      <td>data2</td>\n",
       "      <td>EPT-STGCN</td>\n",
       "      <td>NaN</td>\n",
       "      <td>4</td>\n",
       "      <td>16</td>\n",
       "      <td>100</td>\n",
       "      <td>0.192383</td>\n",
       "      <td>0.17238</td>\n",
       "      <td>1095.311545</td>\n",
       "    </tr>\n",
       "    <tr>\n",
       "      <th>1</th>\n",
       "      <td>data2</td>\n",
       "      <td>EPT-STGCN</td>\n",
       "      <td>NaN</td>\n",
       "      <td>4</td>\n",
       "      <td>32</td>\n",
       "      <td>100</td>\n",
       "      <td>0.182036</td>\n",
       "      <td>0.162083</td>\n",
       "      <td>1117.031205</td>\n",
       "    </tr>\n",
       "    <tr>\n",
       "      <th>2</th>\n",
       "      <td>data2</td>\n",
       "      <td>EPT-STGCN</td>\n",
       "      <td>NaN</td>\n",
       "      <td>4</td>\n",
       "      <td>64</td>\n",
       "      <td>100</td>\n",
       "      <td>0.182569</td>\n",
       "      <td>0.163465</td>\n",
       "      <td>1141.591372</td>\n",
       "    </tr>\n",
       "    <tr>\n",
       "      <th>3</th>\n",
       "      <td>data2</td>\n",
       "      <td>EPT-STGCN</td>\n",
       "      <td>NaN</td>\n",
       "      <td>8</td>\n",
       "      <td>16</td>\n",
       "      <td>100</td>\n",
       "      <td>0.192919</td>\n",
       "      <td>0.168806</td>\n",
       "      <td>919.13007</td>\n",
       "    </tr>\n",
       "    <tr>\n",
       "      <th>4</th>\n",
       "      <td>data2</td>\n",
       "      <td>EPT-STGCN</td>\n",
       "      <td>NaN</td>\n",
       "      <td>8</td>\n",
       "      <td>32</td>\n",
       "      <td>100</td>\n",
       "      <td>0.199459</td>\n",
       "      <td>0.17362</td>\n",
       "      <td>839.538126</td>\n",
       "    </tr>\n",
       "    <tr>\n",
       "      <th>...</th>\n",
       "      <td>...</td>\n",
       "      <td>...</td>\n",
       "      <td>...</td>\n",
       "      <td>...</td>\n",
       "      <td>...</td>\n",
       "      <td>...</td>\n",
       "      <td>...</td>\n",
       "      <td>...</td>\n",
       "      <td>...</td>\n",
       "    </tr>\n",
       "    <tr>\n",
       "      <th>115</th>\n",
       "      <td>data2</td>\n",
       "      <td>EPT-STGCN</td>\n",
       "      <td>NaN</td>\n",
       "      <td>12</td>\n",
       "      <td>32</td>\n",
       "      <td>100</td>\n",
       "      <td>0.201038</td>\n",
       "      <td>0.179846</td>\n",
       "      <td>634.851532</td>\n",
       "    </tr>\n",
       "    <tr>\n",
       "      <th>116</th>\n",
       "      <td>data2</td>\n",
       "      <td>EPT-STGCN</td>\n",
       "      <td>NaN</td>\n",
       "      <td>12</td>\n",
       "      <td>64</td>\n",
       "      <td>100</td>\n",
       "      <td>0.200569</td>\n",
       "      <td>0.172256</td>\n",
       "      <td>660.412136</td>\n",
       "    </tr>\n",
       "    <tr>\n",
       "      <th>117</th>\n",
       "      <td>data2</td>\n",
       "      <td>EPT-STGCN</td>\n",
       "      <td>NaN</td>\n",
       "      <td>24</td>\n",
       "      <td>16</td>\n",
       "      <td>100</td>\n",
       "      <td>0.250253</td>\n",
       "      <td>0.199742</td>\n",
       "      <td>594.428839</td>\n",
       "    </tr>\n",
       "    <tr>\n",
       "      <th>118</th>\n",
       "      <td>data2</td>\n",
       "      <td>EPT-STGCN</td>\n",
       "      <td>NaN</td>\n",
       "      <td>24</td>\n",
       "      <td>32</td>\n",
       "      <td>100</td>\n",
       "      <td>0.223538</td>\n",
       "      <td>0.195406</td>\n",
       "      <td>601.475364</td>\n",
       "    </tr>\n",
       "    <tr>\n",
       "      <th>119</th>\n",
       "      <td>data2</td>\n",
       "      <td>EPT-STGCN</td>\n",
       "      <td>NaN</td>\n",
       "      <td>24</td>\n",
       "      <td>64</td>\n",
       "      <td>100</td>\n",
       "      <td>0.23775</td>\n",
       "      <td>0.209232</td>\n",
       "      <td>630.741058</td>\n",
       "    </tr>\n",
       "  </tbody>\n",
       "</table>\n",
       "<p>120 rows × 9 columns</p>\n",
       "</div>"
      ],
      "text/plain": [
       "    dataset     method normal lags nof_filters epoch mse(train) mse(test)  \\\n",
       "0     data2  EPT-STGCN    NaN    4          16   100   0.192383   0.17238   \n",
       "1     data2  EPT-STGCN    NaN    4          32   100   0.182036  0.162083   \n",
       "2     data2  EPT-STGCN    NaN    4          64   100   0.182569  0.163465   \n",
       "3     data2  EPT-STGCN    NaN    8          16   100   0.192919  0.168806   \n",
       "4     data2  EPT-STGCN    NaN    8          32   100   0.199459   0.17362   \n",
       "..      ...        ...    ...  ...         ...   ...        ...       ...   \n",
       "115   data2  EPT-STGCN    NaN   12          32   100   0.201038  0.179846   \n",
       "116   data2  EPT-STGCN    NaN   12          64   100   0.200569  0.172256   \n",
       "117   data2  EPT-STGCN    NaN   24          16   100   0.250253  0.199742   \n",
       "118   data2  EPT-STGCN    NaN   24          32   100   0.223538  0.195406   \n",
       "119   data2  EPT-STGCN    NaN   24          64   100    0.23775  0.209232   \n",
       "\n",
       "    calculation_time  \n",
       "0        1095.311545  \n",
       "1        1117.031205  \n",
       "2        1141.591372  \n",
       "3          919.13007  \n",
       "4         839.538126  \n",
       "..               ...  \n",
       "115       634.851532  \n",
       "116       660.412136  \n",
       "117       594.428839  \n",
       "118       601.475364  \n",
       "119       630.741058  \n",
       "\n",
       "[120 rows x 9 columns]"
      ]
     },
     "execution_count": 13,
     "metadata": {},
     "output_type": "execute_result"
    }
   ],
   "source": [
    "simul_model_100.simulation_results"
   ]
  },
  {
   "cell_type": "markdown",
   "id": "24583906-612b-4065-b8ad-e3a3b873442d",
   "metadata": {},
   "source": [
    "## 150epoch"
   ]
  },
  {
   "cell_type": "code",
   "execution_count": 12,
   "id": "2f461ea7-28a5-48fe-a58b-308100b3daad",
   "metadata": {},
   "outputs": [],
   "source": [
    "plans_stgcn = {\n",
    "    'max_iteration': 10,  # 30, \n",
    "    'method': ['EPT-STGCN'], \n",
    "    'lags': [4, 8, 12], #[4, 8, 12, 24], \n",
    "    'nof_filters':[16, 32, 64], # [16, 32, 64], \n",
    "    'epoch': [150] # [50, 100, 150]\n",
    "}"
   ]
  },
  {
   "cell_type": "code",
   "execution_count": 13,
   "id": "088f848d-4268-4fea-bed5-f56ad0082da2",
   "metadata": {},
   "outputs": [
    {
     "data": {
      "text/plain": [
       "{'max_iteration': 10,\n",
       " 'method': ['EPT-STGCN'],\n",
       " 'lags': [4, 8, 12],\n",
       " 'nof_filters': [16, 32, 64],\n",
       " 'epoch': [150]}"
      ]
     },
     "execution_count": 13,
     "metadata": {},
     "output_type": "execute_result"
    }
   ],
   "source": [
    "plans_stgcn"
   ]
  },
  {
   "cell_type": "code",
   "execution_count": 15,
   "id": "e0e21632-158a-4f19-a85a-bde08952e229",
   "metadata": {},
   "outputs": [],
   "source": [
    "plnr = eptstgcn.planner.PLNR_STGCN(plans_stgcn,loader,dataset_name='data4')"
   ]
  },
  {
   "cell_type": "code",
   "execution_count": null,
   "id": "89846473-83c9-4199-88dd-75d7e6cd9dce",
   "metadata": {},
   "outputs": [
    {
     "name": "stdout",
     "output_type": "stream",
     "text": [
      "69/1500\r"
     ]
    }
   ],
   "source": [
    "plnr.simulate()\n",
    "eptstgcn.save_data(plnr,'./simul_model3/stgcn_v2/stgcn_v2_150epoch_1.pickle')\n",
    "simul_model_150 = eptstgcn.load_data('./simul_model3/stgcn_v2/stgcn_v2_150epoch_1.pickle')"
   ]
  },
  {
   "cell_type": "code",
   "execution_count": 20,
   "id": "bf160f97-7eb9-40d8-9db7-a15bc6216a38",
   "metadata": {},
   "outputs": [
    {
     "data": {
      "text/html": [
       "<div>\n",
       "<style scoped>\n",
       "    .dataframe tbody tr th:only-of-type {\n",
       "        vertical-align: middle;\n",
       "    }\n",
       "\n",
       "    .dataframe tbody tr th {\n",
       "        vertical-align: top;\n",
       "    }\n",
       "\n",
       "    .dataframe thead th {\n",
       "        text-align: right;\n",
       "    }\n",
       "</style>\n",
       "<table border=\"1\" class=\"dataframe\">\n",
       "  <thead>\n",
       "    <tr style=\"text-align: right;\">\n",
       "      <th></th>\n",
       "      <th>dataset</th>\n",
       "      <th>method</th>\n",
       "      <th>normal</th>\n",
       "      <th>lags</th>\n",
       "      <th>nof_filters</th>\n",
       "      <th>epoch</th>\n",
       "      <th>mse(train)</th>\n",
       "      <th>mse(test)</th>\n",
       "      <th>calculation_time</th>\n",
       "    </tr>\n",
       "  </thead>\n",
       "  <tbody>\n",
       "    <tr>\n",
       "      <th>0</th>\n",
       "      <td>data2</td>\n",
       "      <td>EPT-STGCN</td>\n",
       "      <td>NaN</td>\n",
       "      <td>4</td>\n",
       "      <td>16</td>\n",
       "      <td>150</td>\n",
       "      <td>0.192811</td>\n",
       "      <td>0.172286</td>\n",
       "      <td>1107.788696</td>\n",
       "    </tr>\n",
       "    <tr>\n",
       "      <th>1</th>\n",
       "      <td>data2</td>\n",
       "      <td>EPT-STGCN</td>\n",
       "      <td>NaN</td>\n",
       "      <td>4</td>\n",
       "      <td>32</td>\n",
       "      <td>150</td>\n",
       "      <td>0.196971</td>\n",
       "      <td>0.180187</td>\n",
       "      <td>1221.65175</td>\n",
       "    </tr>\n",
       "    <tr>\n",
       "      <th>2</th>\n",
       "      <td>data2</td>\n",
       "      <td>EPT-STGCN</td>\n",
       "      <td>NaN</td>\n",
       "      <td>4</td>\n",
       "      <td>64</td>\n",
       "      <td>150</td>\n",
       "      <td>0.180952</td>\n",
       "      <td>0.160223</td>\n",
       "      <td>1700.991477</td>\n",
       "    </tr>\n",
       "    <tr>\n",
       "      <th>3</th>\n",
       "      <td>data2</td>\n",
       "      <td>EPT-STGCN</td>\n",
       "      <td>NaN</td>\n",
       "      <td>8</td>\n",
       "      <td>16</td>\n",
       "      <td>150</td>\n",
       "      <td>0.206765</td>\n",
       "      <td>0.17639</td>\n",
       "      <td>1684.464239</td>\n",
       "    </tr>\n",
       "    <tr>\n",
       "      <th>4</th>\n",
       "      <td>data2</td>\n",
       "      <td>EPT-STGCN</td>\n",
       "      <td>NaN</td>\n",
       "      <td>8</td>\n",
       "      <td>32</td>\n",
       "      <td>150</td>\n",
       "      <td>0.196287</td>\n",
       "      <td>0.171737</td>\n",
       "      <td>1695.175945</td>\n",
       "    </tr>\n",
       "    <tr>\n",
       "      <th>...</th>\n",
       "      <td>...</td>\n",
       "      <td>...</td>\n",
       "      <td>...</td>\n",
       "      <td>...</td>\n",
       "      <td>...</td>\n",
       "      <td>...</td>\n",
       "      <td>...</td>\n",
       "      <td>...</td>\n",
       "      <td>...</td>\n",
       "    </tr>\n",
       "    <tr>\n",
       "      <th>115</th>\n",
       "      <td>data2</td>\n",
       "      <td>EPT-STGCN</td>\n",
       "      <td>NaN</td>\n",
       "      <td>12</td>\n",
       "      <td>32</td>\n",
       "      <td>150</td>\n",
       "      <td>0.196776</td>\n",
       "      <td>0.173983</td>\n",
       "      <td>1290.014739</td>\n",
       "    </tr>\n",
       "    <tr>\n",
       "      <th>116</th>\n",
       "      <td>data2</td>\n",
       "      <td>EPT-STGCN</td>\n",
       "      <td>NaN</td>\n",
       "      <td>12</td>\n",
       "      <td>64</td>\n",
       "      <td>150</td>\n",
       "      <td>0.197882</td>\n",
       "      <td>0.170004</td>\n",
       "      <td>1347.436289</td>\n",
       "    </tr>\n",
       "    <tr>\n",
       "      <th>117</th>\n",
       "      <td>data2</td>\n",
       "      <td>EPT-STGCN</td>\n",
       "      <td>NaN</td>\n",
       "      <td>24</td>\n",
       "      <td>16</td>\n",
       "      <td>150</td>\n",
       "      <td>0.222497</td>\n",
       "      <td>0.188107</td>\n",
       "      <td>1199.523731</td>\n",
       "    </tr>\n",
       "    <tr>\n",
       "      <th>118</th>\n",
       "      <td>data2</td>\n",
       "      <td>EPT-STGCN</td>\n",
       "      <td>NaN</td>\n",
       "      <td>24</td>\n",
       "      <td>32</td>\n",
       "      <td>150</td>\n",
       "      <td>0.25576</td>\n",
       "      <td>0.204602</td>\n",
       "      <td>1231.037348</td>\n",
       "    </tr>\n",
       "    <tr>\n",
       "      <th>119</th>\n",
       "      <td>data2</td>\n",
       "      <td>EPT-STGCN</td>\n",
       "      <td>NaN</td>\n",
       "      <td>24</td>\n",
       "      <td>64</td>\n",
       "      <td>150</td>\n",
       "      <td>0.222175</td>\n",
       "      <td>0.188326</td>\n",
       "      <td>1288.791447</td>\n",
       "    </tr>\n",
       "  </tbody>\n",
       "</table>\n",
       "<p>120 rows × 9 columns</p>\n",
       "</div>"
      ],
      "text/plain": [
       "    dataset     method normal lags nof_filters epoch mse(train) mse(test)  \\\n",
       "0     data2  EPT-STGCN    NaN    4          16   150   0.192811  0.172286   \n",
       "1     data2  EPT-STGCN    NaN    4          32   150   0.196971  0.180187   \n",
       "2     data2  EPT-STGCN    NaN    4          64   150   0.180952  0.160223   \n",
       "3     data2  EPT-STGCN    NaN    8          16   150   0.206765   0.17639   \n",
       "4     data2  EPT-STGCN    NaN    8          32   150   0.196287  0.171737   \n",
       "..      ...        ...    ...  ...         ...   ...        ...       ...   \n",
       "115   data2  EPT-STGCN    NaN   12          32   150   0.196776  0.173983   \n",
       "116   data2  EPT-STGCN    NaN   12          64   150   0.197882  0.170004   \n",
       "117   data2  EPT-STGCN    NaN   24          16   150   0.222497  0.188107   \n",
       "118   data2  EPT-STGCN    NaN   24          32   150    0.25576  0.204602   \n",
       "119   data2  EPT-STGCN    NaN   24          64   150   0.222175  0.188326   \n",
       "\n",
       "    calculation_time  \n",
       "0        1107.788696  \n",
       "1         1221.65175  \n",
       "2        1700.991477  \n",
       "3        1684.464239  \n",
       "4        1695.175945  \n",
       "..               ...  \n",
       "115      1290.014739  \n",
       "116      1347.436289  \n",
       "117      1199.523731  \n",
       "118      1231.037348  \n",
       "119      1288.791447  \n",
       "\n",
       "[120 rows x 9 columns]"
      ]
     },
     "execution_count": 20,
     "metadata": {},
     "output_type": "execute_result"
    }
   ],
   "source": [
    "simul_model_150.simulation_results"
   ]
  },
  {
   "cell_type": "code",
   "execution_count": 23,
   "id": "9d3285ad-cf2e-41b9-81ed-54041b6b4d02",
   "metadata": {},
   "outputs": [
    {
     "data": {
      "image/png": "[encoded data removed]",
      "text/plain": [
       "<Figure size 432x288 with 1 Axes>"
      ]
     },
     "metadata": {
      "needs_background": "light"
     },
     "output_type": "display_data"
    }
   ],
   "source": [
    "import matplotlib.pyplot as plt\n",
    "plt.boxplot(df_simul_no['mse(test)'])\n",
    "plt.show()"
   ]
  }
 ],
 "metadata": {
  "kernelspec": {
   "display_name": "Python 3",
   "language": "python",
   "name": "python3"
  },
  "language_info": {
   "codemirror_mode": {
    "name": "ipython",
    "version": 3
   },
   "file_extension": ".py",
   "mimetype": "text/x-python",
   "name": "python",
   "nbconvert_exporter": "python",
   "pygments_lexer": "ipython3",
   "version": "3.8.16"
  }
 },
 "nbformat": 4,
 "nbformat_minor": 5
}
