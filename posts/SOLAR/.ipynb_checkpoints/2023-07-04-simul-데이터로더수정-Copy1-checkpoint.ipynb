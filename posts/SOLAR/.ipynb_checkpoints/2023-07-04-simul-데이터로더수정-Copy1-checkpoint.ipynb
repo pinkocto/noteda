{
 "cells": [
  {
   "cell_type": "raw",
   "id": "1d3e343f-1b94-4bc8-96b0-6f3b63dfe18f",
   "metadata": {},
   "source": [
    "---\n",
    "title: \" **[SOLAR]** 로더 수정 , # node=8 (++결과비교중)\"\n",
    "author: \"JiyunLim\"\n",
    "date: \"07/04/2023\"\n",
    "categories:\n",
    "  - Research\n",
    "  - SOLAR\n",
    "---"
   ]
  },
  {
   "cell_type": "markdown",
   "id": "872b9c83-131b-4063-80c9-e514de7c6c4f",
   "metadata": {},
   "source": [
    "- 2023-07-04 : 로더 모듈안의 로더로 수정\n",
    "- 창원, 청송군 제거 (창원 arbitrary weight 잘못줌.)"
   ]
  },
  {
   "cell_type": "markdown",
   "id": "1e596d6b-1242-4390-a417-eb4ad80832c2",
   "metadata": {},
   "source": [
    "# Weighted Loss  : $(y-\\hat{y}) (y-\\hat{y})^\\top \\odot W$"
   ]
  },
  {
   "cell_type": "markdown",
   "id": "cd8340b7-09d6-4ebb-aecc-7e7f1b3c5bac",
   "metadata": {},
   "source": [
    "## Import"
   ]
  },
  {
   "cell_type": "code",
   "execution_count": 10,
   "id": "059a76e3-eaa2-4005-9042-0a2f67c92f1f",
   "metadata": {},
   "outputs": [
    {
     "name": "stdout",
     "output_type": "stream",
     "text": [
      "The rpy2.ipython extension is already loaded. To reload it, use:\n",
      "  %reload_ext rpy2.ipython\n"
     ]
    }
   ],
   "source": [
    "import numpy as np\n",
    "import pandas as pd\n",
    "\n",
    "import matplotlib.pyplot as plt\n",
    "import seaborn as sns\n",
    "plt.rcParams['font.family'] = 'NanumGothic'\n",
    "\n",
    "import rpy2\n",
    "%load_ext rpy2.ipython\n",
    "\n",
    "import torch\n",
    "import eptstgcn\n",
    "import eptstgcn.planner\n",
    "import torch_geometric_temporal\n",
    "from torch_geometric_temporal.signal.static_graph_temporal_signal import StaticGraphTemporalSignal"
   ]
  },
  {
   "cell_type": "code",
   "execution_count": 11,
   "id": "471c4912-c0b8-4a93-bc98-abd6198315f2",
   "metadata": {},
   "outputs": [],
   "source": [
    "# class Loader(eptstgcn.DatasetLoader):\n",
    "#     def __init__(self,data_dict):\n",
    "#          self._dataset = data_dict "
   ]
  },
  {
   "cell_type": "code",
   "execution_count": 12,
   "id": "f1e92a72-48de-43fd-9f2e-6f3938c9a988",
   "metadata": {},
   "outputs": [],
   "source": [
    "def minmaxscaler(arr):\n",
    "    arr = (arr - arr.min()) / (arr.max() - arr.min())\n",
    "    return arr "
   ]
  },
  {
   "cell_type": "code",
   "execution_count": 13,
   "id": "2a94de54-e42c-4bca-a7ce-76fa375a0ebf",
   "metadata": {},
   "outputs": [],
   "source": [
    "class Loader(object):\n",
    "    \"\"\"Hourly solar radiation of observatories from South Korean  for 2 years. \n",
    "    Vertices represent 44 cities and the weighted edges represent the strength of the relationship. \n",
    "    The target variable allows regression operations. \n",
    "    (The weight is the correlation coefficient of solar radiation by region.)\n",
    "    \"\"\"\n",
    "\n",
    "    def __init__(self, data_dict):\n",
    "        self._dataset = data_dict\n",
    "    \n",
    "    def _get_edges(self):\n",
    "        self._edges = np.array(self._dataset[\"edges\"]).T\n",
    "\n",
    "    def _get_edge_weights(self):\n",
    "        # self._edge_weights = np.array(self._dataset[\"weights\"]).T\n",
    "        edge_weights = np.array(self._dataset[\"weights\"]).T\n",
    "        scaled_edge_weights = minmaxscaler(edge_weights)\n",
    "        self._edge_weights = scaled_edge_weights\n",
    "    \"\"\"\n",
    "    def _get_targets_and_features(self):\n",
    "        stacked_target = np.stack(self._dataset[\"FX\"])\n",
    "        standardized_target = (stacked_target - np.mean(stacked_target, axis=0)) / (\n",
    "            np.std(stacked_target, axis=0) + 10 ** -10\n",
    "        )\n",
    "        self.features = [\n",
    "            standardized_target[i : i + self.lags, :].T\n",
    "            for i in range(standardized_target.shape[0] - self.lags)\n",
    "        ]\n",
    "        self.targets = [\n",
    "            standardized_target[i + self.lags, :].T\n",
    "            for i in range(standardized_target.shape[0] - self.lags)\n",
    "        ]\n",
    "        \"\"\"\n",
    "    def _get_targets_and_features(self):\n",
    "        stacked_target = np.array(self._dataset[\"FX\"])\n",
    "        self.features = [\n",
    "            stacked_target[i : i + self.lags, :].T\n",
    "            for i in range(stacked_target.shape[0] - self.lags)\n",
    "        ]\n",
    "        self.targets = [\n",
    "            stacked_target[i + self.lags, :].T\n",
    "            for i in range(stacked_target.shape[0] - self.lags)\n",
    "        ]\n",
    "\n",
    "\n",
    "    def get_dataset(self, lags: int = 4) -> StaticGraphTemporalSignal:\n",
    "        \"\"\"Returning the Solar radiation Output data iterator.\n",
    "        Args types:\n",
    "            * **lags** *(int)* - The number of time lags.\n",
    "        Return types:\n",
    "            * **dataset** *(StaticGraphTemporalSignal)* - The Solar radiation Output dataset.\n",
    "        \"\"\"\n",
    "        self.lags = lags\n",
    "        self._get_edges()\n",
    "        self._get_edge_weights()\n",
    "        self._get_targets_and_features()\n",
    "        dataset = StaticGraphTemporalSignal(\n",
    "            self._edges, self._edge_weights, self.features, self.targets\n",
    "        )\n",
    "        return dataset"
   ]
  },
  {
   "cell_type": "markdown",
   "id": "73ceafba-ed55-4065-9c77-c0c242f7d9c8",
   "metadata": {},
   "source": [
    "## Creating weights"
   ]
  },
  {
   "cell_type": "code",
   "execution_count": 15,
   "id": "43521dd4-001d-49b4-8963-ce798faaa9b8",
   "metadata": {},
   "outputs": [
    {
     "data": {
      "text/plain": [
       "(2568, 8)"
      ]
     },
     "execution_count": 15,
     "metadata": {},
     "output_type": "execute_result"
    }
   ],
   "source": [
    "solar.shape"
   ]
  },
  {
   "cell_type": "code",
   "execution_count": 14,
   "id": "f72ac698-4166-4a2d-ad9c-fb970d7c4dd3",
   "metadata": {},
   "outputs": [],
   "source": [
    "# solar dataset\n",
    "solar_ = pd.read_csv('./data2/restructuring_data.csv')\n",
    "solar = solar_[['포항','대구','부산','경주시','서울','인천','수원','서산']]\n",
    "# solar = solar.drop('date', axis=1)"
   ]
  },
  {
   "cell_type": "code",
   "execution_count": 16,
   "id": "08d2d378-100a-4ecc-9d47-75b1ce36a20b",
   "metadata": {},
   "outputs": [
    {
     "data": {
      "text/html": [
       "<div>\n",
       "<style scoped>\n",
       "    .dataframe tbody tr th:only-of-type {\n",
       "        vertical-align: middle;\n",
       "    }\n",
       "\n",
       "    .dataframe tbody tr th {\n",
       "        vertical-align: top;\n",
       "    }\n",
       "\n",
       "    .dataframe thead th {\n",
       "        text-align: right;\n",
       "    }\n",
       "</style>\n",
       "<table border=\"1\" class=\"dataframe\">\n",
       "  <thead>\n",
       "    <tr style=\"text-align: right;\">\n",
       "      <th></th>\n",
       "      <th>포항</th>\n",
       "      <th>대구</th>\n",
       "      <th>부산</th>\n",
       "      <th>경주시</th>\n",
       "      <th>서울</th>\n",
       "      <th>인천</th>\n",
       "      <th>수원</th>\n",
       "      <th>서산</th>\n",
       "    </tr>\n",
       "  </thead>\n",
       "  <tbody>\n",
       "    <tr>\n",
       "      <th>포항</th>\n",
       "      <td>1.000000</td>\n",
       "      <td>0.912199</td>\n",
       "      <td>0.878110</td>\n",
       "      <td>0.941188</td>\n",
       "      <td>0.691843</td>\n",
       "      <td>0.740008</td>\n",
       "      <td>0.753658</td>\n",
       "      <td>0.774245</td>\n",
       "    </tr>\n",
       "    <tr>\n",
       "      <th>대구</th>\n",
       "      <td>0.912199</td>\n",
       "      <td>1.000000</td>\n",
       "      <td>0.895145</td>\n",
       "      <td>0.920223</td>\n",
       "      <td>0.732835</td>\n",
       "      <td>0.771984</td>\n",
       "      <td>0.794593</td>\n",
       "      <td>0.811146</td>\n",
       "    </tr>\n",
       "    <tr>\n",
       "      <th>부산</th>\n",
       "      <td>0.878110</td>\n",
       "      <td>0.895145</td>\n",
       "      <td>1.000000</td>\n",
       "      <td>0.896707</td>\n",
       "      <td>0.700521</td>\n",
       "      <td>0.752768</td>\n",
       "      <td>0.756312</td>\n",
       "      <td>0.771864</td>\n",
       "    </tr>\n",
       "    <tr>\n",
       "      <th>경주시</th>\n",
       "      <td>0.941188</td>\n",
       "      <td>0.920223</td>\n",
       "      <td>0.896707</td>\n",
       "      <td>1.000000</td>\n",
       "      <td>0.678602</td>\n",
       "      <td>0.729314</td>\n",
       "      <td>0.744895</td>\n",
       "      <td>0.763475</td>\n",
       "    </tr>\n",
       "    <tr>\n",
       "      <th>서울</th>\n",
       "      <td>0.691843</td>\n",
       "      <td>0.732835</td>\n",
       "      <td>0.700521</td>\n",
       "      <td>0.678602</td>\n",
       "      <td>1.000000</td>\n",
       "      <td>0.923705</td>\n",
       "      <td>0.929415</td>\n",
       "      <td>0.879286</td>\n",
       "    </tr>\n",
       "    <tr>\n",
       "      <th>인천</th>\n",
       "      <td>0.740008</td>\n",
       "      <td>0.771984</td>\n",
       "      <td>0.752768</td>\n",
       "      <td>0.729314</td>\n",
       "      <td>0.923705</td>\n",
       "      <td>1.000000</td>\n",
       "      <td>0.932411</td>\n",
       "      <td>0.911590</td>\n",
       "    </tr>\n",
       "    <tr>\n",
       "      <th>수원</th>\n",
       "      <td>0.753658</td>\n",
       "      <td>0.794593</td>\n",
       "      <td>0.756312</td>\n",
       "      <td>0.744895</td>\n",
       "      <td>0.929415</td>\n",
       "      <td>0.932411</td>\n",
       "      <td>1.000000</td>\n",
       "      <td>0.926437</td>\n",
       "    </tr>\n",
       "    <tr>\n",
       "      <th>서산</th>\n",
       "      <td>0.774245</td>\n",
       "      <td>0.811146</td>\n",
       "      <td>0.771864</td>\n",
       "      <td>0.763475</td>\n",
       "      <td>0.879286</td>\n",
       "      <td>0.911590</td>\n",
       "      <td>0.926437</td>\n",
       "      <td>1.000000</td>\n",
       "    </tr>\n",
       "  </tbody>\n",
       "</table>\n",
       "</div>"
      ],
      "text/plain": [
       "           포항        대구        부산       경주시        서울        인천        수원  \\\n",
       "포항   1.000000  0.912199  0.878110  0.941188  0.691843  0.740008  0.753658   \n",
       "대구   0.912199  1.000000  0.895145  0.920223  0.732835  0.771984  0.794593   \n",
       "부산   0.878110  0.895145  1.000000  0.896707  0.700521  0.752768  0.756312   \n",
       "경주시  0.941188  0.920223  0.896707  1.000000  0.678602  0.729314  0.744895   \n",
       "서울   0.691843  0.732835  0.700521  0.678602  1.000000  0.923705  0.929415   \n",
       "인천   0.740008  0.771984  0.752768  0.729314  0.923705  1.000000  0.932411   \n",
       "수원   0.753658  0.794593  0.756312  0.744895  0.929415  0.932411  1.000000   \n",
       "서산   0.774245  0.811146  0.771864  0.763475  0.879286  0.911590  0.926437   \n",
       "\n",
       "           서산  \n",
       "포항   0.774245  \n",
       "대구   0.811146  \n",
       "부산   0.771864  \n",
       "경주시  0.763475  \n",
       "서울   0.879286  \n",
       "인천   0.911590  \n",
       "수원   0.926437  \n",
       "서산   1.000000  "
      ]
     },
     "execution_count": 16,
     "metadata": {},
     "output_type": "execute_result"
    }
   ],
   "source": [
    "weight = solar.corr()\n",
    "weight"
   ]
  },
  {
   "cell_type": "code",
   "execution_count": 72,
   "id": "c20c4ad7-6d81-4da3-baff-1f4bdb8cf496",
   "metadata": {},
   "outputs": [],
   "source": [
    "%%R\n",
    "library(data.table)\n",
    "library(tidyverse)\n",
    "library(dplyr)\n",
    "library(corrplot)\n",
    "library(lubridate)\n",
    "library(EPT)\n",
    "library(tictoc)"
   ]
  },
  {
   "cell_type": "code",
   "execution_count": 18,
   "id": "9fd22cce-0875-4299-bc1a-1fa695994f97",
   "metadata": {},
   "outputs": [],
   "source": [
    "%R -i solar"
   ]
  },
  {
   "cell_type": "code",
   "execution_count": 19,
   "id": "29d95725-43ee-4ecd-af5d-ce94bf6c500d",
   "metadata": {},
   "outputs": [
    {
     "name": "stdout",
     "output_type": "stream",
     "text": [
      "  포항 대구 부산 경주시 서울 인천 수원 서산\n",
      "0    0    0    0      0    0    0    0    0\n",
      "1    0    0    0      0    0    0    0    0\n",
      "2    0    0    0      0    0    0    0    0\n",
      "3    0    0    0      0    0    0    0    0\n",
      "4    0    0    0      0    0    0    0    0\n",
      "5    0    0    0      0    0    0    0    0\n"
     ]
    }
   ],
   "source": [
    "%%R\n",
    "head(solar)"
   ]
  },
  {
   "cell_type": "code",
   "execution_count": 20,
   "id": "f5780ddd-9fdd-477c-8002-639c57abc447",
   "metadata": {},
   "outputs": [],
   "source": [
    "%%R\n",
    "ept = function(y){\n",
    "    # EpM = eptransf(signal=y,tau=24,process=c(\"envelope\",\"average\"))$EpM\n",
    "    # EpM*2\n",
    "    Ep = eptransf(signal=y,tau=24,process=c(\"envelope\",\"average\"), type='rectangle')\n",
    "    Ep$EpU + Ep$EpL ## EPU\n",
    "}"
   ]
  },
  {
   "cell_type": "code",
   "execution_count": 21,
   "id": "8693666a-0c16-4da0-a05e-5587af2ed22e",
   "metadata": {},
   "outputs": [
    {
     "name": "stdout",
     "output_type": "stream",
     "text": [
      "지역별 yU계산: 9.335 sec elapsed\n"
     ]
    }
   ],
   "source": [
    "%%R\n",
    "tic('지역별 yU계산')\n",
    "for (i in 1:8){\n",
    "    assign(paste0('yU',1:44)[i], ept(solar[,i]))\n",
    "}\n",
    "toc()"
   ]
  },
  {
   "cell_type": "code",
   "execution_count": 22,
   "id": "7b4f7f21-5dff-40a7-b181-3c1686b77ffe",
   "metadata": {},
   "outputs": [],
   "source": [
    "%%R\n",
    "df_yU = do.call(cbind.data.frame, mget(paste0('yU', 1:8)))"
   ]
  },
  {
   "cell_type": "code",
   "execution_count": 23,
   "id": "39076c7f-15ba-4448-99d7-3fc4f7f6eec3",
   "metadata": {},
   "outputs": [
    {
     "name": "stdout",
     "output_type": "stream",
     "text": [
      "[1] 2568    8\n"
     ]
    }
   ],
   "source": [
    "%%R\n",
    "dim(df_yU)"
   ]
  },
  {
   "cell_type": "code",
   "execution_count": 24,
   "id": "f27e76b4-06ea-4286-96f3-ab15bf394086",
   "metadata": {},
   "outputs": [],
   "source": [
    "%%R\n",
    "# EPT weight\n",
    "ept_weight = cor(df_yU)"
   ]
  },
  {
   "cell_type": "code",
   "execution_count": 25,
   "id": "993805a2-6fe0-43cd-a930-da8d87c6b66e",
   "metadata": {},
   "outputs": [
    {
     "name": "stdout",
     "output_type": "stream",
     "text": [
      "            포항      대구      부산    경주시      서울      인천      수원\n",
      "포항   1.0000000 0.8424895 0.6425640 0.9040996 0.1716328 0.3307638 0.3557177\n",
      "대구   0.8424895 1.0000000 0.7197786 0.8512829 0.2313584 0.3601384 0.4125374\n",
      "부산   0.6425640 0.7197786 1.0000000 0.7213258 0.1482832 0.2977739 0.2707934\n",
      "경주시 0.9040996 0.8512829 0.7213258 1.0000000 0.1328790 0.3023132 0.3141259\n",
      "서울   0.1716328 0.2313584 0.1482832 0.1328790 1.0000000 0.8747676 0.8865986\n",
      "인천   0.3307638 0.3601384 0.2977739 0.3023132 0.8747676 1.0000000 0.8817441\n",
      "수원   0.3557177 0.4125374 0.2707934 0.3141259 0.8865986 0.8817441 1.0000000\n",
      "서산   0.4348638 0.4949508 0.3490800 0.3859630 0.7646948 0.8549585 0.8852652\n",
      "            서산\n",
      "포항   0.4348638\n",
      "대구   0.4949508\n",
      "부산   0.3490800\n",
      "경주시 0.3859630\n",
      "서울   0.7646948\n",
      "인천   0.8549585\n",
      "수원   0.8852652\n",
      "서산   1.0000000\n"
     ]
    }
   ],
   "source": [
    "%%R\n",
    "colnames(ept_weight) <- names(solar)\n",
    "rownames(ept_weight) <- names(solar)\n",
    "ept_weight"
   ]
  },
  {
   "cell_type": "code",
   "execution_count": 26,
   "id": "971a60a2-d759-4c57-b6dc-0bbdd619a943",
   "metadata": {},
   "outputs": [],
   "source": [
    "%R -o ept_weight"
   ]
  },
  {
   "cell_type": "code",
   "execution_count": 27,
   "id": "af2cfa09-cd9b-4e68-af0d-a7f0a3dc9f1d",
   "metadata": {},
   "outputs": [
    {
     "name": "stdout",
     "output_type": "stream",
     "text": [
      "            포항      대구      부산    경주시      서울      인천      수원\n",
      "포항   1.0000000 0.9121993 0.8781102 0.9411877 0.6918432 0.7400082 0.7536582\n",
      "대구   0.9121993 1.0000000 0.8951451 0.9202234 0.7328353 0.7719844 0.7945932\n",
      "부산   0.8781102 0.8951451 1.0000000 0.8967065 0.7005214 0.7527684 0.7563125\n",
      "경주시 0.9411877 0.9202234 0.8967065 1.0000000 0.6786022 0.7293137 0.7448947\n",
      "서울   0.6918432 0.7328353 0.7005214 0.6786022 1.0000000 0.9237048 0.9294152\n",
      "인천   0.7400082 0.7719844 0.7527684 0.7293137 0.9237048 1.0000000 0.9324108\n",
      "수원   0.7536582 0.7945932 0.7563125 0.7448947 0.9294152 0.9324108 1.0000000\n",
      "서산   0.7742449 0.8111463 0.7718636 0.7634749 0.8792860 0.9115902 0.9264367\n",
      "            서산\n",
      "포항   0.7742449\n",
      "대구   0.8111463\n",
      "부산   0.7718636\n",
      "경주시 0.7634749\n",
      "서울   0.8792860\n",
      "인천   0.9115902\n",
      "수원   0.9264367\n",
      "서산   1.0000000\n"
     ]
    }
   ],
   "source": [
    "%%R\n",
    "## weight\n",
    "cor(solar)\n",
    "# heatmap(cor(solar), scale='none')"
   ]
  },
  {
   "cell_type": "markdown",
   "id": "7369159c-f6cc-45a2-9c61-20e226efa284",
   "metadata": {},
   "source": [
    "## Data"
   ]
  },
  {
   "cell_type": "markdown",
   "id": "9dc6da71-8379-4b36-9365-63b7b45240ff",
   "metadata": {},
   "source": [
    "1. **<font color='red'>arbitrary weights</font>** -- dict1\n",
    "\n",
    "2. **<font color='red'>identity matrix</font>** -- dict2\n",
    "\n",
    "3. **<font color='blue'>correlation</font>** -- dict3\n",
    "\n",
    "4. **<font color='blue'>EPT</font>** -- dict4"
   ]
  },
  {
   "cell_type": "code",
   "execution_count": 28,
   "id": "ce35256e-0ce8-4edb-878b-1684ae0c3777",
   "metadata": {},
   "outputs": [],
   "source": [
    "N = 8 # number of nodes\n",
    "T = solar.shape[0]\n",
    "node_ids = solar.columns.tolist()"
   ]
  },
  {
   "cell_type": "code",
   "execution_count": 29,
   "id": "cccd2740-adbf-4c5b-ab92-551789d7007f",
   "metadata": {},
   "outputs": [],
   "source": [
    "FX_ = [solar.iloc[i,:] for i in range(T)]\n",
    "FX = np.stack(FX_).tolist()"
   ]
  },
  {
   "cell_type": "code",
   "execution_count": 30,
   "id": "6560738c-a994-4fc2-8c82-2dfab8091c69",
   "metadata": {},
   "outputs": [],
   "source": [
    "# arbitrary weight\n",
    "W = np.eye(N)\n",
    "W[:(N-4),:(N-4)] = 1\n",
    "W[(N-4):, (N-4):] = 1\n",
    "# identity matrix\n",
    "W2 = np.eye(N)\n",
    "# correlation\n",
    "W3 = np.array(weight)\n",
    "# ept\n",
    "W4 = np.array(ept_weight)"
   ]
  },
  {
   "cell_type": "code",
   "execution_count": 31,
   "id": "7ebc5eb1-d37e-4ab4-b4f0-53bb17181ed8",
   "metadata": {},
   "outputs": [],
   "source": [
    "data_dict1={\n",
    "    'edges':[[i,j] for i in range(N) for j in range(N)], \n",
    "    'node_ids': {node_ids[i]: i for i in range(N)}, \n",
    "    'weights':W.reshape(-1).tolist(),\n",
    "    'FX':FX\n",
    "}\n",
    "\n",
    "data_dict2={\n",
    "    'edges':[[i,j] for i in range(N) for j in range(N)], \n",
    "    'node_ids': {node_ids[i]: i for i in range(N)}, \n",
    "    'weights':W2.reshape(-1).tolist(), \n",
    "    'FX':FX\n",
    "}\n",
    "\n",
    "data_dict3={\n",
    "    'edges':[[i,j] for i in range(N) for j in range(N)], \n",
    "    'node_ids': {node_ids[i]: i for i in range(N)}, \n",
    "    'weights':W3.reshape(-1).tolist(), \n",
    "    'FX':FX\n",
    "}\n",
    "\n",
    "data_dict4={\n",
    "    'edges':[[i,j] for i in range(N) for j in range(N)], \n",
    "    'node_ids': {node_ids[i]: i for i in range(N)}, \n",
    "    'weights':W4.reshape(-1).tolist(), \n",
    "    'FX':FX\n",
    "}"
   ]
  },
  {
   "cell_type": "markdown",
   "id": "3e11c956-9927-4032-a673-76efc414095a",
   "metadata": {},
   "source": [
    "## loader -> learn"
   ]
  },
  {
   "cell_type": "markdown",
   "id": "47121956-41a4-4dfa-be85-aaa7e984248d",
   "metadata": {},
   "source": [
    "### lag=1, filters=2, epoch=30"
   ]
  },
  {
   "cell_type": "code",
   "execution_count": 32,
   "id": "7e37b437-392a-4856-b186-c9be1432ed7d",
   "metadata": {},
   "outputs": [],
   "source": [
    "loader1 = Loader(data_dict1) # arbitrary weights\n",
    "loader2 = Loader(data_dict2) # identity matrix\n",
    "loader3 = Loader(data_dict3) # corr\n",
    "loader4 = Loader(data_dict4) # ept\n",
    "# train_dataset1, test_dataset1 = eptstgcn.utils.temporal_signal_split(dataset1, train_ratio = 0.9)\n",
    "# train_dataset2, test_dataset2 = eptstgcn.utils.temporal_signal_split(dataset2, train_ratio = 0.9)\n",
    "# lrnr1 = eptstgcn.WeightedLossStgcnLeaner(train_dataset1, dataset_name = 'arbitarary weights')\n",
    "# lrnr2 = eptstgcn.WeightedLossStgcnLeaner(train_dataset2, dataset_name = 'Identity matrix')"
   ]
  },
  {
   "cell_type": "code",
   "execution_count": 33,
   "id": "10ce48a8-c499-4109-8d59-8e0f39476bc8",
   "metadata": {},
   "outputs": [],
   "source": [
    "dt_ = loader1.get_dataset(lags=1)\n",
    "dt2_ = loader2.get_dataset(lags=1)\n",
    "dt3_ = loader3.get_dataset(lags=1)\n",
    "dt4_ = loader4.get_dataset(lags=1)"
   ]
  },
  {
   "cell_type": "markdown",
   "id": "6a647cee-3015-45fa-8a4f-cdc342fc1e21",
   "metadata": {},
   "source": [
    "`-` weighted Loss"
   ]
  },
  {
   "cell_type": "code",
   "execution_count": 1,
   "id": "88e0ec81-c880-4508-b484-ddf1200ad183",
   "metadata": {},
   "outputs": [],
   "source": [
    "n_iter = 5"
   ]
  },
  {
   "cell_type": "code",
   "execution_count": 34,
   "id": "56b512f3-4fa1-41bc-ab94-9a4657530cee",
   "metadata": {},
   "outputs": [],
   "source": [
    "plans_stgcn1 = {\n",
    "    'max_iteration': n_iter,  \n",
    "    'method': ['Weighted Loss'],\n",
    "    'W':W,\n",
    "    'lags': [1], \n",
    "    'nof_filters':[2], \n",
    "    'epoch': [30] \n",
    "}"
   ]
  },
  {
   "cell_type": "code",
   "execution_count": 37,
   "id": "8d1b8823-0cc3-4a39-aa13-5ffc1d50a1f0",
   "metadata": {},
   "outputs": [],
   "source": [
    "plans_stgcn2 = {\n",
    "    'max_iteration': n_iter,  \n",
    "    'method': ['Weighted Loss'],\n",
    "    'W':W2,\n",
    "    'lags': [1], \n",
    "    'nof_filters':[2], \n",
    "    'epoch': [30] \n",
    "}"
   ]
  },
  {
   "cell_type": "code",
   "execution_count": 38,
   "id": "4e26a2b7-3612-4be5-9837-394f30b6ed16",
   "metadata": {},
   "outputs": [],
   "source": [
    "plans_stgcn3 = {\n",
    "    'max_iteration': n_iter,  \n",
    "    'method': ['Weighted Loss'],\n",
    "    'W':W3,\n",
    "    'lags': [1], \n",
    "    'nof_filters':[2], \n",
    "    'epoch': [30] \n",
    "}"
   ]
  },
  {
   "cell_type": "code",
   "execution_count": 39,
   "id": "2e39953b-5fb8-455a-837c-496260f4b150",
   "metadata": {},
   "outputs": [],
   "source": [
    "plans_stgcn4 = {\n",
    "    'max_iteration': n_iter,  \n",
    "    'method': ['Weighted Loss'],\n",
    "    'W':W4,\n",
    "    'lags': [1], \n",
    "    'nof_filters':[2], \n",
    "    'epoch': [30] \n",
    "}"
   ]
  },
  {
   "cell_type": "markdown",
   "id": "8d2d038a-57f2-4c88-ae96-dab7db368ed5",
   "metadata": {},
   "source": [
    "`-` org loss"
   ]
  },
  {
   "cell_type": "code",
   "execution_count": 40,
   "id": "ca3eb41c-02da-4651-910d-3827276e4de9",
   "metadata": {},
   "outputs": [],
   "source": [
    "plans_stgcn1_org = {\n",
    "    'max_iteration': n_iter,  \n",
    "    'method': ['original Loss'],\n",
    "    'lags': [1], \n",
    "    'nof_filters':[2], \n",
    "    'epoch': [30] \n",
    "}"
   ]
  },
  {
   "cell_type": "code",
   "execution_count": 41,
   "id": "9d275396-77be-4ee3-a0f3-394b58a842e3",
   "metadata": {},
   "outputs": [],
   "source": [
    "plans_stgcn2_org = {\n",
    "    'max_iteration': n_iter,  \n",
    "    'method': ['original Loss'],\n",
    "    'lags': [1], \n",
    "    'nof_filters':[2], \n",
    "    'epoch': [30] \n",
    "}"
   ]
  },
  {
   "cell_type": "code",
   "execution_count": 42,
   "id": "85e56a36-c5fa-4006-a089-6b41301f0aaf",
   "metadata": {},
   "outputs": [],
   "source": [
    "plans_stgcn3_org = {\n",
    "    'max_iteration': n_iter,  \n",
    "    'method': ['original Loss'],\n",
    "    'lags': [1], \n",
    "    'nof_filters':[2], \n",
    "    'epoch': [30] \n",
    "} "
   ]
  },
  {
   "cell_type": "code",
   "execution_count": 43,
   "id": "f2b5a5d5-e8f2-4e06-b88c-4858a76da177",
   "metadata": {},
   "outputs": [],
   "source": [
    "plans_stgcn4_org = {\n",
    "    'max_iteration': n_iter,  \n",
    "    'method': ['original Loss'],\n",
    "    'lags': [1], \n",
    "    'nof_filters':[2], \n",
    "    'epoch': [30] \n",
    "}"
   ]
  },
  {
   "cell_type": "code",
   "execution_count": 44,
   "id": "90637229-1359-4220-a6c7-4a917fabc9d3",
   "metadata": {},
   "outputs": [],
   "source": [
    "plnr1_wgt = eptstgcn.planner.PLNR_STGCN2(plans_stgcn1,loader1,dataset_name= 'arbitrary weights')\n",
    "plnr2_wgt = eptstgcn.planner.PLNR_STGCN2(plans_stgcn2, loader2, dataset_name= 'identity matrix weights')\n",
    "plnr3_wgt = eptstgcn.planner.PLNR_STGCN2(plans_stgcn3,loader3,dataset_name= 'correlation')\n",
    "plnr4_wgt = eptstgcn.planner.PLNR_STGCN2(plans_stgcn4, loader4, dataset_name= 'ept')\n",
    "\n",
    "plnr1_org = eptstgcn.planner.PLNR_STGCN(plans_stgcn1_org,loader1,dataset_name= 'arbitrary weights')\n",
    "plnr2_org = eptstgcn.planner.PLNR_STGCN(plans_stgcn2_org, loader2, dataset_name= 'identity matrix weights')\n",
    "plnr3_org = eptstgcn.planner.PLNR_STGCN(plans_stgcn3_org,loader3,dataset_name= 'correlation')\n",
    "plnr4_org = eptstgcn.planner.PLNR_STGCN(plans_stgcn4_org, loader4, dataset_name= 'ept')"
   ]
  },
  {
   "cell_type": "code",
   "execution_count": 45,
   "id": "7b938b9d-b667-407c-9187-384e425f1870",
   "metadata": {},
   "outputs": [
    {
     "name": "stderr",
     "output_type": "stream",
     "text": [
      "/home/jy/Dropbox/noteda/posts/SOLAR/eptstgcn/learners.py:50: UserWarning: Creating a tensor from a list of numpy.ndarrays is extremely slow. Please consider converting the list to a single numpy.ndarray with numpy.array() before converting to a tensor. (Triggered internally at /opt/conda/conda-bld/pytorch_1678402421473/work/torch/csrc/utils/tensor_new.cpp:245.)\n",
      "  self.lags = torch.tensor(train_dataset.features).shape[-1]\n"
     ]
    },
    {
     "name": "stdout",
     "output_type": "stream",
     "text": [
      "1/5 is done\n",
      "2/5 is done\n",
      "3/5 is done\n",
      "4/5 is done\n",
      "5/5 is done\n",
      "All results are stored in ./simulation_results/2023-07-04_18-01-16.csv\n",
      "1/5 is done\n",
      "2/5 is done\n",
      "3/5 is done\n",
      "4/5 is done\n",
      "5/5 is done\n",
      "All results are stored in ./simulation_results/2023-07-04_18-12-45.csv\n",
      "1/5 is done\n",
      "2/5 is done\n",
      "3/5 is done\n",
      "5/5 is done\n",
      "All results are stored in ./simulation_results/2023-07-04_18-24-14.csv\n",
      "1/5 is done\n",
      "2/5 is done\n",
      "3/5 is done\n",
      "4/5 is done\n",
      "5/5 is done\n",
      "All results are stored in ./simulation_results/2023-07-04_18-35-39.csv\n",
      "1/5 is done\n",
      "2/5 is done\n",
      "3/5 is done\n",
      "4/5 is done\n",
      "5/5 is done\n",
      "All results are stored in ./simulation_results2/2023-07-04_18-47-00.csv\n",
      "1/5 is done\n",
      "2/5 is done\n",
      "3/5 is done\n",
      "4/5 is done\n",
      "5/5 is done\n",
      "All results are stored in ./simulation_results2/2023-07-04_18-58-21.csv\n",
      "1/5 is done\n",
      "2/5 is done\n",
      "3/5 is done\n",
      "4/5 is done\n",
      "5/5 is done\n",
      "All results are stored in ./simulation_results2/2023-07-04_19-09-42.csv\n",
      "1/5 is done\n",
      "2/5 is done\n",
      "3/5 is done\n",
      "4/5 is done\n",
      "5/5 is done\n",
      "All results are stored in ./simulation_results2/2023-07-04_19-21-03.csv\n"
     ]
    }
   ],
   "source": [
    "# weighted loss\n",
    "plnr1_wgt.simulate(w=W) # arbitrary weights\n",
    "plnr2_wgt.simulate(w=W2) # identity matrix\n",
    "plnr3_wgt.simulate(w=W3) # corr\n",
    "plnr4_wgt.simulate(w=W4) # ept\n",
    "\n",
    "# original loss\n",
    "plnr1_org.simulate() # arbitrary weights\n",
    "plnr2_org.simulate() # identity matrix\n",
    "plnr3_org.simulate() # corr\n",
    "plnr4_org.simulate() # ept"
   ]
  },
  {
   "cell_type": "markdown",
   "id": "10970060-dbc7-4138-a9cd-5cb15d88b3e0",
   "metadata": {},
   "source": [
    "### MSE 비교"
   ]
  },
  {
   "cell_type": "code",
   "execution_count": 47,
   "id": "2cde2e09-70f2-4e89-8826-49d957388518",
   "metadata": {},
   "outputs": [],
   "source": [
    "## Results of 1 iteration (lag=1, filter=2, epoch=30)\n",
    "# weighted loss\n",
    "rslt1 = pd.read_csv('./simulation_results/2023-07-04_15-20-44.csv') # arbitrary\n",
    "rslt2 = pd.read_csv('./simulation_results/2023-07-04_15-22-53.csv') # identity\n",
    "rslt3 = pd.read_csv('./simulation_results/2023-07-04_15-25-01.csv') # corr\n",
    "rslt4 = pd.read_csv('./simulation_results/2023-07-04_15-27-10.csv') # ept\n",
    "# original loss\n",
    "rslt1_org = pd.read_csv('./simulation_results2/2023-07-04_15-29-18.csv')\n",
    "rslt2_org = pd.read_csv('./simulation_results2/2023-07-04_15-31-26.csv')\n",
    "rslt3_org = pd.read_csv('./simulation_results2/2023-07-04_15-33-34.csv')\n",
    "rslt4_org = pd.read_csv('./simulation_results2/2023-07-04_15-35-42.csv')"
   ]
  },
  {
   "cell_type": "code",
   "execution_count": 48,
   "id": "92cefc11-22ce-4c6b-bd98-11ffa5b27c68",
   "metadata": {},
   "outputs": [],
   "source": [
    "## Result of 5 iteration (lag=1, filter=2, epoch=30)\n",
    "# weighted loss\n",
    "rslt1_ = pd.read_csv('./simulation_results/2023-07-04_18-01-16.csv') # arbitrary\n",
    "rslt2_ = pd.read_csv('./simulation_results/2023-07-04_18-12-45.csv') # identity\n",
    "rslt3_ = pd.read_csv('./simulation_results/2023-07-04_18-24-14.csv') # corr\n",
    "rslt4_ = pd.read_csv('./simulation_results/2023-07-04_18-35-39.csv') # ept\n",
    "# original loss\n",
    "rslt1_org_ = pd.read_csv('./simulation_results2/2023-07-04_18-47-00.csv')\n",
    "rslt2_org_ = pd.read_csv('./simulation_results2/2023-07-04_18-58-21.csv')\n",
    "rslt3_org_ = pd.read_csv('./simulation_results2/2023-07-04_19-09-42.csv')\n",
    "rslt4_org_ = pd.read_csv('./simulation_results2/2023-07-04_19-21-03.csv')"
   ]
  },
  {
   "cell_type": "code",
   "execution_count": 86,
   "id": "2a83311e-eb72-4b51-a21e-b1b3effa4309",
   "metadata": {},
   "outputs": [],
   "source": [
    "## Result of 5 iteration (lag=4, filter=16, epoch=30)"
   ]
  },
  {
   "cell_type": "markdown",
   "id": "d7ccd34b-366b-41d0-958a-a2b267e6d62a",
   "metadata": {},
   "source": [
    "`-` 1 iteration"
   ]
  },
  {
   "cell_type": "code",
   "execution_count": 85,
   "id": "beab67db-0176-4325-a402-a9216765fda9",
   "metadata": {},
   "outputs": [
    {
     "data": {
      "text/html": [
       "<div>\n",
       "<style scoped>\n",
       "    .dataframe tbody tr th:only-of-type {\n",
       "        vertical-align: middle;\n",
       "    }\n",
       "\n",
       "    .dataframe tbody tr th {\n",
       "        vertical-align: top;\n",
       "    }\n",
       "\n",
       "    .dataframe thead th {\n",
       "        text-align: right;\n",
       "    }\n",
       "</style>\n",
       "<table border=\"1\" class=\"dataframe\">\n",
       "  <thead>\n",
       "    <tr style=\"text-align: right;\">\n",
       "      <th></th>\n",
       "      <th>dataset</th>\n",
       "      <th>method</th>\n",
       "      <th>W</th>\n",
       "      <th>lags</th>\n",
       "      <th>nof_filters</th>\n",
       "      <th>epoch</th>\n",
       "      <th>mse(train)</th>\n",
       "      <th>mse(test)</th>\n",
       "      <th>calculation_time</th>\n",
       "    </tr>\n",
       "  </thead>\n",
       "  <tbody>\n",
       "    <tr>\n",
       "      <th>0</th>\n",
       "      <td>arbitrary weights</td>\n",
       "      <td>Weighted Loss</td>\n",
       "      <td>[[1. 1. 1. 1. 0. 0. 0. 0.]\\n [1. 1. 1. 1. 0. 0...</td>\n",
       "      <td>1</td>\n",
       "      <td>2</td>\n",
       "      <td>30</td>\n",
       "      <td>0.175844</td>\n",
       "      <td>0.131802</td>\n",
       "      <td>124.270641</td>\n",
       "    </tr>\n",
       "    <tr>\n",
       "      <th>0</th>\n",
       "      <td>arbitrary weights</td>\n",
       "      <td>original Loss</td>\n",
       "      <td>NaN</td>\n",
       "      <td>1</td>\n",
       "      <td>2</td>\n",
       "      <td>30</td>\n",
       "      <td>0.147771</td>\n",
       "      <td>0.119428</td>\n",
       "      <td>123.822080</td>\n",
       "    </tr>\n",
       "    <tr>\n",
       "      <th>0</th>\n",
       "      <td>identity matrix weights</td>\n",
       "      <td>Weighted Loss</td>\n",
       "      <td>[[1. 0. 0. 0. 0. 0. 0. 0.]\\n [0. 1. 0. 0. 0. 0...</td>\n",
       "      <td>1</td>\n",
       "      <td>2</td>\n",
       "      <td>30</td>\n",
       "      <td>0.152207</td>\n",
       "      <td>0.123751</td>\n",
       "      <td>124.599406</td>\n",
       "    </tr>\n",
       "    <tr>\n",
       "      <th>0</th>\n",
       "      <td>identity matrix weights</td>\n",
       "      <td>original Loss</td>\n",
       "      <td>NaN</td>\n",
       "      <td>1</td>\n",
       "      <td>2</td>\n",
       "      <td>30</td>\n",
       "      <td>0.150147</td>\n",
       "      <td>0.121994</td>\n",
       "      <td>123.926815</td>\n",
       "    </tr>\n",
       "    <tr>\n",
       "      <th>0</th>\n",
       "      <td>correlation</td>\n",
       "      <td>Weighted Loss</td>\n",
       "      <td>[[1.         0.91219931 0.87811022 0.94118775 ...</td>\n",
       "      <td>1</td>\n",
       "      <td>2</td>\n",
       "      <td>30</td>\n",
       "      <td>0.206150</td>\n",
       "      <td>0.166103</td>\n",
       "      <td>124.573896</td>\n",
       "    </tr>\n",
       "    <tr>\n",
       "      <th>0</th>\n",
       "      <td>correlation</td>\n",
       "      <td>original Loss</td>\n",
       "      <td>NaN</td>\n",
       "      <td>1</td>\n",
       "      <td>2</td>\n",
       "      <td>30</td>\n",
       "      <td>0.147923</td>\n",
       "      <td>0.120894</td>\n",
       "      <td>124.053687</td>\n",
       "    </tr>\n",
       "    <tr>\n",
       "      <th>0</th>\n",
       "      <td>ept</td>\n",
       "      <td>Weighted Loss</td>\n",
       "      <td>[[1.         0.84248949 0.64256402 0.9040996  ...</td>\n",
       "      <td>1</td>\n",
       "      <td>2</td>\n",
       "      <td>30</td>\n",
       "      <td>0.178501</td>\n",
       "      <td>0.144825</td>\n",
       "      <td>124.391648</td>\n",
       "    </tr>\n",
       "    <tr>\n",
       "      <th>0</th>\n",
       "      <td>ept</td>\n",
       "      <td>original Loss</td>\n",
       "      <td>NaN</td>\n",
       "      <td>1</td>\n",
       "      <td>2</td>\n",
       "      <td>30</td>\n",
       "      <td>0.147969</td>\n",
       "      <td>0.120757</td>\n",
       "      <td>124.017791</td>\n",
       "    </tr>\n",
       "  </tbody>\n",
       "</table>\n",
       "</div>"
      ],
      "text/plain": [
       "                   dataset         method  \\\n",
       "0        arbitrary weights  Weighted Loss   \n",
       "0        arbitrary weights  original Loss   \n",
       "0  identity matrix weights  Weighted Loss   \n",
       "0  identity matrix weights  original Loss   \n",
       "0              correlation  Weighted Loss   \n",
       "0              correlation  original Loss   \n",
       "0                      ept  Weighted Loss   \n",
       "0                      ept  original Loss   \n",
       "\n",
       "                                                   W  lags  nof_filters  \\\n",
       "0  [[1. 1. 1. 1. 0. 0. 0. 0.]\\n [1. 1. 1. 1. 0. 0...     1            2   \n",
       "0                                                NaN     1            2   \n",
       "0  [[1. 0. 0. 0. 0. 0. 0. 0.]\\n [0. 1. 0. 0. 0. 0...     1            2   \n",
       "0                                                NaN     1            2   \n",
       "0  [[1.         0.91219931 0.87811022 0.94118775 ...     1            2   \n",
       "0                                                NaN     1            2   \n",
       "0  [[1.         0.84248949 0.64256402 0.9040996  ...     1            2   \n",
       "0                                                NaN     1            2   \n",
       "\n",
       "   epoch  mse(train)  mse(test)  calculation_time  \n",
       "0     30    0.175844   0.131802        124.270641  \n",
       "0     30    0.147771   0.119428        123.822080  \n",
       "0     30    0.152207   0.123751        124.599406  \n",
       "0     30    0.150147   0.121994        123.926815  \n",
       "0     30    0.206150   0.166103        124.573896  \n",
       "0     30    0.147923   0.120894        124.053687  \n",
       "0     30    0.178501   0.144825        124.391648  \n",
       "0     30    0.147969   0.120757        124.017791  "
      ]
     },
     "execution_count": 85,
     "metadata": {},
     "output_type": "execute_result"
    }
   ],
   "source": [
    "pd.concat([rslt1, rslt1_org, rslt2, rslt2_org, rslt3, rslt3_org, rslt4, rslt4_org])"
   ]
  },
  {
   "cell_type": "markdown",
   "id": "d00230dd-fd9a-473a-b76f-470848bb27fb",
   "metadata": {},
   "source": [
    "- weighted loss가 전반적으로 안좋다.\n",
    "- iteration 수를 늘려서 확인해봐야 할 듯. -->\n",
    "- 1 iter기준 $\\text{original loss & ept weight}(0.120757) > \\text{original loss & corr}(0.120894)$ $\\to$ 거의 차이가 없어서 iteration 늘려가며 확인 필요\n",
    "- 노드 수를 바꿔서인가? 이전에 잘못했었을수도..."
   ]
  },
  {
   "cell_type": "markdown",
   "id": "7d8d8729-b383-4588-b8af-7d4720f1b0a7",
   "metadata": {},
   "source": [
    "`-` 5 iteration"
   ]
  },
  {
   "cell_type": "markdown",
   "id": "ecf66d64-4716-4bcb-885c-689747c0c960",
   "metadata": {},
   "source": [
    "`-` case1: arbitrary weights & weighted loss"
   ]
  },
  {
   "cell_type": "code",
   "execution_count": 63,
   "id": "564f72ff-bbdd-4393-9f6c-f578e6368d30",
   "metadata": {},
   "outputs": [],
   "source": [
    "rslt1_mse = rslt1_.groupby(['nof_filters'])\\\n",
    "                 .agg({'mse(train)':['mean', 'var'], 'mse(test)':['mean','var']}) # arbitrary weights & weighted loss"
   ]
  },
  {
   "cell_type": "markdown",
   "id": "f746bade-834d-4ab4-9a2c-7fdadc65b19b",
   "metadata": {},
   "source": [
    "`-` case2: arbitraty weights & original loss"
   ]
  },
  {
   "cell_type": "code",
   "execution_count": 64,
   "id": "af270a23-4499-4104-bdd1-49e0fd6bdd95",
   "metadata": {},
   "outputs": [],
   "source": [
    "rslt1_org_mse = rslt1_org_.groupby(['nof_filters'])\\\n",
    "                 .agg({'mse(train)':['mean', 'var'], 'mse(test)':['mean','var']}) # arbitrary weights & original loss"
   ]
  },
  {
   "cell_type": "markdown",
   "id": "e04037e0-cc49-4938-9e8e-e149c259dd5f",
   "metadata": {},
   "source": [
    "`-` case3: identity matrix & weighted loss"
   ]
  },
  {
   "cell_type": "code",
   "execution_count": 65,
   "id": "34bb7c93-8384-4e37-9370-fa436faa640a",
   "metadata": {},
   "outputs": [],
   "source": [
    "rslt2_mse = rslt2_.groupby(['nof_filters']).agg({'mse(train)':['mean', 'var'], 'mse(test)':['mean','var']})  # identity matrix weights & weighted loss"
   ]
  },
  {
   "cell_type": "markdown",
   "id": "90f2681e-0414-46a8-9b7d-54344ba9f65d",
   "metadata": {},
   "source": [
    "`-` case4: identity marix & original loss"
   ]
  },
  {
   "cell_type": "code",
   "execution_count": 66,
   "id": "de4d3027-9093-49d9-a3b5-09c1e288e9f8",
   "metadata": {},
   "outputs": [],
   "source": [
    "rslt2_org_mse = rslt2_org_.groupby(['nof_filters']).agg({'mse(train)':['mean', 'var'], 'mse(test)':['mean','var']})  # identity matrix weights & original loss"
   ]
  },
  {
   "cell_type": "markdown",
   "id": "644e2819-e0c8-40bb-a3b6-d6bc787fc37d",
   "metadata": {},
   "source": [
    "`-` case5: correlation & weighted loss"
   ]
  },
  {
   "cell_type": "code",
   "execution_count": 67,
   "id": "e62ebc40-3853-42dd-b4ef-09ce46cadf44",
   "metadata": {},
   "outputs": [],
   "source": [
    "rslt3_mse = rslt3_.groupby(['nof_filters']).agg({'mse(train)':['mean', 'var'], 'mse(test)':['mean','var']}) # correlation & weighted loss"
   ]
  },
  {
   "cell_type": "markdown",
   "id": "a0056ad6-72f1-4597-b487-7fa1982f9a3c",
   "metadata": {},
   "source": [
    "`-` case6: correlation & original loss"
   ]
  },
  {
   "cell_type": "code",
   "execution_count": 68,
   "id": "bd281f07-815c-4bb6-b6ca-0e89bc4b6b46",
   "metadata": {},
   "outputs": [],
   "source": [
    "rslt3_org_mse = rslt3_org_.groupby(['nof_filters']).agg({'mse(train)':['mean', 'var'], 'mse(test)':['mean','var']}) # correlation & original loss"
   ]
  },
  {
   "cell_type": "markdown",
   "id": "f00bf074-c5ce-4d36-af34-c56ddd51a03b",
   "metadata": {},
   "source": [
    "`-` case7: ept & weighted loss"
   ]
  },
  {
   "cell_type": "code",
   "execution_count": 69,
   "id": "089aab6b-d9aa-4564-bcc4-5da05298c53e",
   "metadata": {},
   "outputs": [],
   "source": [
    "rslt4_mse = rslt4_.groupby(['nof_filters']).agg({'mse(train)':['mean', 'var'], 'mse(test)':['mean','var']}) # ept & weighted loss"
   ]
  },
  {
   "cell_type": "markdown",
   "id": "4833d48e-1f51-4b40-90d1-44695b451f27",
   "metadata": {},
   "source": [
    "`-` case8: ept & original loss"
   ]
  },
  {
   "cell_type": "code",
   "execution_count": 70,
   "id": "60e8180c-5eba-4af4-a18b-2fba3aaa4ac5",
   "metadata": {},
   "outputs": [],
   "source": [
    "rslt4_org_mse = rslt4_org_.groupby(['nof_filters']).agg({'mse(train)':['mean', 'var'], 'mse(test)':['mean','var']}) # ept & original loss"
   ]
  },
  {
   "cell_type": "code",
   "execution_count": 83,
   "id": "cec97260-11e3-4d0f-9fa9-94d81d38872c",
   "metadata": {},
   "outputs": [],
   "source": [
    "rslt_iter5 = pd.concat([rslt1_mse, rslt1_org_mse, rslt2_mse, rslt2_org_mse, rslt3_mse, rslt3_org_mse, rslt4_mse, rslt4_org_mse])\n",
    "rslt_iter5['loss'] = ['weighted loss', 'original loss']*4\n",
    "rslt_iter5['weights'] = np.repeat(['arbitrary', 'identity', 'corr', 'ept'], [2])"
   ]
  },
  {
   "cell_type": "code",
   "execution_count": 84,
   "id": "ab9d2d31-3be3-4d79-a2f0-a3809bedaa07",
   "metadata": {},
   "outputs": [
    {
     "data": {
      "text/html": [
       "<div>\n",
       "<style scoped>\n",
       "    .dataframe tbody tr th:only-of-type {\n",
       "        vertical-align: middle;\n",
       "    }\n",
       "\n",
       "    .dataframe tbody tr th {\n",
       "        vertical-align: top;\n",
       "    }\n",
       "\n",
       "    .dataframe thead tr th {\n",
       "        text-align: left;\n",
       "    }\n",
       "\n",
       "    .dataframe thead tr:last-of-type th {\n",
       "        text-align: right;\n",
       "    }\n",
       "</style>\n",
       "<table border=\"1\" class=\"dataframe\">\n",
       "  <thead>\n",
       "    <tr>\n",
       "      <th></th>\n",
       "      <th colspan=\"2\" halign=\"left\">mse(train)</th>\n",
       "      <th colspan=\"2\" halign=\"left\">mse(test)</th>\n",
       "      <th>loss</th>\n",
       "      <th>weights</th>\n",
       "    </tr>\n",
       "    <tr>\n",
       "      <th></th>\n",
       "      <th>mean</th>\n",
       "      <th>var</th>\n",
       "      <th>mean</th>\n",
       "      <th>var</th>\n",
       "      <th></th>\n",
       "      <th></th>\n",
       "    </tr>\n",
       "    <tr>\n",
       "      <th>nof_filters</th>\n",
       "      <th></th>\n",
       "      <th></th>\n",
       "      <th></th>\n",
       "      <th></th>\n",
       "      <th></th>\n",
       "      <th></th>\n",
       "    </tr>\n",
       "  </thead>\n",
       "  <tbody>\n",
       "    <tr>\n",
       "      <th>2</th>\n",
       "      <td>0.502231</td>\n",
       "      <td>1.994837e-01</td>\n",
       "      <td>0.417663</td>\n",
       "      <td>1.526660e-01</td>\n",
       "      <td>weighted loss</td>\n",
       "      <td>arbitrary</td>\n",
       "    </tr>\n",
       "    <tr>\n",
       "      <th>2</th>\n",
       "      <td>0.316719</td>\n",
       "      <td>1.422851e-01</td>\n",
       "      <td>0.265027</td>\n",
       "      <td>1.053596e-01</td>\n",
       "      <td>original loss</td>\n",
       "      <td>arbitrary</td>\n",
       "    </tr>\n",
       "    <tr>\n",
       "      <th>2</th>\n",
       "      <td>0.319657</td>\n",
       "      <td>1.410492e-01</td>\n",
       "      <td>0.267784</td>\n",
       "      <td>1.043615e-01</td>\n",
       "      <td>weighted loss</td>\n",
       "      <td>identity</td>\n",
       "    </tr>\n",
       "    <tr>\n",
       "      <th>2</th>\n",
       "      <td>0.151843</td>\n",
       "      <td>6.605066e-07</td>\n",
       "      <td>0.123433</td>\n",
       "      <td>5.050214e-07</td>\n",
       "      <td>original loss</td>\n",
       "      <td>identity</td>\n",
       "    </tr>\n",
       "    <tr>\n",
       "      <th>2</th>\n",
       "      <td>0.360071</td>\n",
       "      <td>1.246746e-01</td>\n",
       "      <td>0.300864</td>\n",
       "      <td>9.277088e-02</td>\n",
       "      <td>weighted loss</td>\n",
       "      <td>corr</td>\n",
       "    </tr>\n",
       "    <tr>\n",
       "      <th>2</th>\n",
       "      <td>0.146636</td>\n",
       "      <td>1.726363e-06</td>\n",
       "      <td>0.120149</td>\n",
       "      <td>1.072913e-06</td>\n",
       "      <td>original loss</td>\n",
       "      <td>corr</td>\n",
       "    </tr>\n",
       "    <tr>\n",
       "      <th>2</th>\n",
       "      <td>0.185196</td>\n",
       "      <td>1.361301e-05</td>\n",
       "      <td>0.148256</td>\n",
       "      <td>5.136809e-06</td>\n",
       "      <td>weighted loss</td>\n",
       "      <td>ept</td>\n",
       "    </tr>\n",
       "    <tr>\n",
       "      <th>2</th>\n",
       "      <td>0.316393</td>\n",
       "      <td>1.424238e-01</td>\n",
       "      <td>0.265633</td>\n",
       "      <td>1.051405e-01</td>\n",
       "      <td>original loss</td>\n",
       "      <td>ept</td>\n",
       "    </tr>\n",
       "  </tbody>\n",
       "</table>\n",
       "</div>"
      ],
      "text/plain": [
       "            mse(train)               mse(test)                         loss  \\\n",
       "                  mean           var      mean           var                  \n",
       "nof_filters                                                                   \n",
       "2             0.502231  1.994837e-01  0.417663  1.526660e-01  weighted loss   \n",
       "2             0.316719  1.422851e-01  0.265027  1.053596e-01  original loss   \n",
       "2             0.319657  1.410492e-01  0.267784  1.043615e-01  weighted loss   \n",
       "2             0.151843  6.605066e-07  0.123433  5.050214e-07  original loss   \n",
       "2             0.360071  1.246746e-01  0.300864  9.277088e-02  weighted loss   \n",
       "2             0.146636  1.726363e-06  0.120149  1.072913e-06  original loss   \n",
       "2             0.185196  1.361301e-05  0.148256  5.136809e-06  weighted loss   \n",
       "2             0.316393  1.424238e-01  0.265633  1.051405e-01  original loss   \n",
       "\n",
       "               weights  \n",
       "                        \n",
       "nof_filters             \n",
       "2            arbitrary  \n",
       "2            arbitrary  \n",
       "2             identity  \n",
       "2             identity  \n",
       "2                 corr  \n",
       "2                 corr  \n",
       "2                  ept  \n",
       "2                  ept  "
      ]
     },
     "execution_count": 84,
     "metadata": {},
     "output_type": "execute_result"
    }
   ],
   "source": [
    "rslt_iter5"
   ]
  },
  {
   "cell_type": "markdown",
   "id": "e5967088-b4af-4fcd-9c1e-e1a982f44059",
   "metadata": {},
   "source": [
    "$\\text{Weighted Loss} = \\frac{1}{N}\\{(y-\\hat{y}) (y-\\hat{y})^\\top \\odot W\\}, \\quad N = \\text{number of nodes}$"
   ]
  },
  {
   "cell_type": "markdown",
   "id": "fce6f578-2ebd-461b-b2cb-7e18454b8c4d",
   "metadata": {},
   "source": [
    "$\\text{Original Loss} = \\frac{1}{N}\\{(y-\\hat{y})^\\top (y-\\hat{y})\\}, \\quad N = \\text{number of nodes}$"
   ]
  },
  {
   "cell_type": "markdown",
   "id": "651aa892-d3d5-4e2e-a237-cb3e032ef3d5",
   "metadata": {},
   "source": [
    "`-` 5iteration 결과"
   ]
  },
  {
   "cell_type": "markdown",
   "id": "196f5293-72b8-4baf-91b8-0013ee3c7f1e",
   "metadata": {},
   "source": [
    "- 뭔가 결과가 이상함"
   ]
  }
 ],
 "metadata": {
  "kernelspec": {
   "display_name": "Python 3",
   "language": "python",
   "name": "python3"
  },
  "language_info": {
   "codemirror_mode": {
    "name": "ipython",
    "version": 3
   },
   "file_extension": ".py",
   "mimetype": "text/x-python",
   "name": "python",
   "nbconvert_exporter": "python",
   "pygments_lexer": "ipython3",
   "version": "3.8.16"
  }
 },
 "nbformat": 4,
 "nbformat_minor": 5
}
