{
 "cells": [
  {
   "cell_type": "raw",
   "id": "45a93f0e-de34-48bd-9183-0850105b1b75",
   "metadata": {},
   "source": [
    "---\n",
    "title: \" **[SOLAR]** 정리중...\"\n",
    "author: \"JiyunLim\"\n",
    "date: \"07/04/2023\"\n",
    "categories:\n",
    "  - SOLAR\n",
    "  - SUMMARY\n",
    "---"
   ]
  },
  {
   "cell_type": "markdown",
   "id": "92b03f63-8aaa-4dbe-8791-665354479ef3",
   "metadata": {},
   "source": [
    "# To do List"
   ]
  },
  {
   "cell_type": "markdown",
   "id": "a72e86b0-7731-4040-bd57-c09e4c5f59de",
   "metadata": {},
   "source": [
    "`-` 정리"
   ]
  },
  {
   "cell_type": "markdown",
   "id": "b8b5bb42-77ca-4a55-85c6-fdef034fe622",
   "metadata": {},
   "source": [
    "**weights**"
   ]
  },
  {
   "cell_type": "markdown",
   "id": "d3974e31-eb0d-4af5-aeb4-7a50dd723e83",
   "metadata": {},
   "source": [
    "1. correlation\n",
    "\n",
    "2. EPT\n",
    "\n",
    "3. arbitrary weights\n",
    "\n",
    "4. identity matrix\n"
   ]
  },
  {
   "cell_type": "markdown",
   "id": "64099204-553b-4a2f-8d18-8111bd7d3d9a",
   "metadata": {},
   "source": [
    "**Loss**"
   ]
  },
  {
   "cell_type": "markdown",
   "id": "56dc4079-720d-4279-88a7-770a566fc7b7",
   "metadata": {},
   "source": [
    "1. $\\text{Wrong(initial) Loss} = \\frac{1}{N}\\{(y-\\hat{y})(y-\\hat{y})^\\top\\}, \\quad N = \\text{number of nodes}$\n",
    "\n",
    "2. $\\text{Weighted Loss} = \\frac{1}{N}\\{(y-\\hat{y}) (y-\\hat{y})^\\top \\odot W\\}, \\quad N = \\text{number of nodes}$\n",
    "\n",
    "3. $\\text{Original Loss} = \\frac{1}{N}\\{(y-\\hat{y})^\\top (y-\\hat{y})\\}, \\quad N = \\text{number of nodes}$\n",
    "\n",
    "부등호는 MSE가 낮음을 의미.\n",
    "\n",
    "- 1-1 < 2-1\n",
    "- 3-2 < 3-3\n",
    "- 4-2 > 4-3"
   ]
  },
  {
   "cell_type": "markdown",
   "id": "6817c32a-7121-4cf5-ace2-a16fcfe65f53",
   "metadata": {},
   "source": [
    "----"
   ]
  },
  {
   "cell_type": "markdown",
   "id": "cf2ab167-ecbd-4775-b836-06523d660b1c",
   "metadata": {},
   "source": [
    "`-` To do"
   ]
  },
  {
   "cell_type": "markdown",
   "id": "f09723ca-d424-4484-9748-7835620758a4",
   "metadata": {},
   "source": [
    "- shape 명시적으로 바꾸기\n",
    "- correlation, EPT correlation\n",
    "- 그래프도 같이 보면서"
   ]
  },
  {
   "cell_type": "markdown",
   "id": "d996ab6b-70c4-4255-aa2c-8be06f437b6b",
   "metadata": {},
   "source": [
    "- correlation 보다는 EPT가 무조건 좋아야해..\n",
    "- 예상으로는 identity보다는 arbitrary weights이 더 좋아야 하는데"
   ]
  },
  {
   "cell_type": "markdown",
   "id": "e37f4fd9-d4e7-4ff5-ae87-2d0c12bae8a7",
   "metadata": {},
   "source": [
    "아래의 8가지 케이스에 대해 test MSE를 비교해보자."
   ]
  },
  {
   "cell_type": "markdown",
   "id": "4152458a-c4d0-438a-a3f3-0d93304bdbaf",
   "metadata": {},
   "source": [
    "`-` case1: correlation / original loss"
   ]
  },
  {
   "cell_type": "markdown",
   "id": "bb5e4bbc-ea3a-4d58-aa5b-80f417d27357",
   "metadata": {},
   "source": [
    "`-` case2: correlation / weighted loss"
   ]
  },
  {
   "cell_type": "markdown",
   "id": "91320905-ef9f-4b52-9508-9b252ffad825",
   "metadata": {},
   "source": [
    "`-` case3: EPT / original loss"
   ]
  },
  {
   "cell_type": "markdown",
   "id": "7d596d0e-832e-4143-a436-410b5093a412",
   "metadata": {},
   "source": [
    "`-` case4: EPT / weighted loss"
   ]
  },
  {
   "cell_type": "markdown",
   "id": "0e30d13c-72e2-4bbb-a712-fb190d5eaab7",
   "metadata": {},
   "source": [
    "`-` case5: arbitrary weights / original loss"
   ]
  },
  {
   "cell_type": "markdown",
   "id": "8fa2709b-0b93-4eee-be0a-c74322d2ed60",
   "metadata": {},
   "source": [
    "`-` case6: arbitrary weights / weighted loss"
   ]
  },
  {
   "cell_type": "markdown",
   "id": "f5ee5059-d439-4491-9b73-e44de42e4820",
   "metadata": {},
   "source": [
    "`-` case7: identity weights / original loss"
   ]
  },
  {
   "cell_type": "markdown",
   "id": "fd84f913-4179-4a45-a4b1-02ad30e93c0d",
   "metadata": {},
   "source": [
    "`-` case8: identity weights / weighted loss"
   ]
  },
  {
   "cell_type": "markdown",
   "id": "0877d5af-b9ad-4c92-b38c-2090d8a4b443",
   "metadata": {},
   "source": [
    "----"
   ]
  },
  {
   "cell_type": "markdown",
   "id": "0c00ee70-d60d-412f-9b39-cad6cfea9813",
   "metadata": {},
   "source": [
    "- 1번 Loss 사용한 결과 \n",
    "    - [stgcn](https://pinkocto.github.io/noteda/posts/SOLAR/old/2023-04-27-s-stgcn-ver1-50%EC%97%90%ED%8F%AD-64%ED%95%84%ED%84%B0.html#simulation)\n",
    "    - [EPT-stgcn](https://pinkocto.github.io/noteda/posts/SOLAR/old/2023-04-27-s-stgcn-ver2-50%EC%97%90%ED%8F%AD-64%ED%95%84%ED%84%B0.html#simulation)"
   ]
  },
  {
   "cell_type": "markdown",
   "id": "99792daa-0bec-44ff-8345-c6515dcfc21a",
   "metadata": {},
   "source": [
    "# Data"
   ]
  },
  {
   "cell_type": "code",
   "execution_count": 18,
   "id": "3fef2cc9-97d7-4e17-a3a8-37c998b176a9",
   "metadata": {},
   "outputs": [],
   "source": [
    "import pandas as pd\n",
    "import matplotlib.pyplot as plt"
   ]
  },
  {
   "cell_type": "code",
   "execution_count": 3,
   "id": "67b8dcdd-f86d-428e-98d2-97051628d84d",
   "metadata": {},
   "outputs": [],
   "source": [
    "df = pd.read_csv('./data2/solar_radiation.csv')\n",
    "weight = pd.read_csv('./data2/weight.csv')\n",
    "ept_weight = pd.read_csv('./data4/yU_weight.csv') ### "
   ]
  }
 ],
 "metadata": {
  "kernelspec": {
   "display_name": "Python 3",
   "language": "python",
   "name": "python3"
  },
  "language_info": {
   "codemirror_mode": {
    "name": "ipython",
    "version": 3
   },
   "file_extension": ".py",
   "mimetype": "text/x-python",
   "name": "python",
   "nbconvert_exporter": "python",
   "pygments_lexer": "ipython3",
   "version": "3.8.16"
  }
 },
 "nbformat": 4,
 "nbformat_minor": 5
}
