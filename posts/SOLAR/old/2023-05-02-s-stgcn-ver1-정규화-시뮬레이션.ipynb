{
 "cells": [
  {
   "cell_type": "raw",
   "id": "cf4a5937-6946-43b0-99b9-73cb93bbacba",
   "metadata": {},
   "source": [
    "---\n",
    "title: \" **[SOLAR]** STGCN Ver1 (data2, +N +S) 시뮬레이션(epoch, filter, lag)\" \n",
    "author: \"JiyunLim\"\n",
    "date: \"05/02/2023\"\n",
    "categories:\n",
    "  - Research\n",
    "  - STGCN\n",
    "  - SOLAR\n",
    "---"
   ]
  },
  {
   "cell_type": "markdown",
   "id": "3916b16b-eb5a-4ecc-b413-ec6452686fc7",
   "metadata": {},
   "source": [
    "# STGCN Ver1 (+ 정규화)"
   ]
  },
  {
   "cell_type": "markdown",
   "id": "4002635e-1114-4889-842f-6cb44be61d33",
   "metadata": {},
   "source": [
    "## 2022/06/01 ~ 2022/09/15\n",
    "\n",
    "- train 2022-06-01 00:00:00 ~ 2022-08-14 17:00:00\n",
    "- test 2022-08-14 18:00:00 ~ 2022-09-15 23:00:00"
   ]
  },
  {
   "cell_type": "markdown",
   "id": "3bc8bd68-9be0-403b-ad55-b2c793f8f0a7",
   "metadata": {},
   "source": [
    "# import"
   ]
  },
  {
   "cell_type": "code",
   "execution_count": 3,
   "id": "3b8604e7-5c59-4da3-80d0-e657ccb1f4c5",
   "metadata": {},
   "outputs": [],
   "source": [
    "import eptstgcn\n",
    "import torch\n",
    "import eptstgcn.planner\n",
    "\n",
    "import warnings\n",
    "warnings.filterwarnings('ignore')\n",
    "\n",
    "import numpy as np\n",
    "import pandas as pd\n",
    "import json\n",
    "import urllib"
   ]
  },
  {
   "cell_type": "markdown",
   "id": "ed469bf3-e0c4-4dd2-b879-fe20270381bf",
   "metadata": {},
   "source": [
    "# Read Data"
   ]
  },
  {
   "cell_type": "code",
   "execution_count": 4,
   "id": "7fad3a38-65e7-4f18-b6b7-5d8e2c2ec91d",
   "metadata": {},
   "outputs": [],
   "source": [
    "url = \"https://raw.githubusercontent.com/pinkocto/noteda/main/posts/SOLAR/data2/stgcn_data1.json\"\n",
    "data_dict = json.loads(urllib.request.urlopen(url).read())"
   ]
  },
  {
   "cell_type": "markdown",
   "id": "30b0704a-5135-46c9-b309-ada9cf398a52",
   "metadata": {},
   "source": [
    "# Simulation"
   ]
  },
  {
   "cell_type": "markdown",
   "id": "a244674c-efa2-41a9-bb8f-3879d195cfe9",
   "metadata": {},
   "source": [
    "## 50 epoch"
   ]
  },
  {
   "cell_type": "code",
   "execution_count": 5,
   "id": "8a25779b-102b-4935-9a15-073a1ea38d13",
   "metadata": {},
   "outputs": [],
   "source": [
    "plans_stgcn = {\n",
    "    'max_iteration': 1, # 30 \n",
    "    'method': ['STGCN'], \n",
    "    'lags': [4, 8, 12], \n",
    "    'nof_filters': [16, 32, 64], \n",
    "    'epoch': [50] # [50, 100, 150]\n",
    "}"
   ]
  },
  {
   "cell_type": "code",
   "execution_count": 6,
   "id": "76c05aea-7e33-4717-b9e7-26aa87f69334",
   "metadata": {},
   "outputs": [],
   "source": [
    "plnr = eptstgcn.planner.NORMAL_PLNR_STGCN(plans_stgcn, data_dict, dataset_name='data2')"
   ]
  },
  {
   "cell_type": "code",
   "execution_count": 7,
   "id": "4052148a-d234-4b39-99c3-c619bf54acbc",
   "metadata": {},
   "outputs": [
    {
     "name": "stdout",
     "output_type": "stream",
     "text": [
      "1/1 is done\n",
      "All results are stored in ./simulation_results/2023-05-02_16-19-40.csv\n"
     ]
    }
   ],
   "source": [
    "plnr.simulate()"
   ]
  },
  {
   "cell_type": "code",
   "execution_count": 8,
   "id": "73a4d088-c29c-48de-a527-c65600a38c6a",
   "metadata": {},
   "outputs": [],
   "source": [
    "eptstgcn.save_data(plnr,'./simul_model2/normal/stgcn_v1_50epoch.pickle')"
   ]
  },
  {
   "cell_type": "code",
   "execution_count": 9,
   "id": "5f315912-e037-455c-aa00-28ccb97c8a79",
   "metadata": {},
   "outputs": [],
   "source": [
    "simul_model_50 = eptstgcn.load_data('./simul_model2/normal/stgcn_v1_50epoch.pickle')"
   ]
  },
  {
   "cell_type": "code",
   "execution_count": 10,
   "id": "d3d51a9d-1d38-4a07-829c-52e6736043ef",
   "metadata": {},
   "outputs": [
    {
     "data": {
      "text/html": [
       "<div>\n",
       "<style scoped>\n",
       "    .dataframe tbody tr th:only-of-type {\n",
       "        vertical-align: middle;\n",
       "    }\n",
       "\n",
       "    .dataframe tbody tr th {\n",
       "        vertical-align: top;\n",
       "    }\n",
       "\n",
       "    .dataframe thead th {\n",
       "        text-align: right;\n",
       "    }\n",
       "</style>\n",
       "<table border=\"1\" class=\"dataframe\">\n",
       "  <thead>\n",
       "    <tr style=\"text-align: right;\">\n",
       "      <th></th>\n",
       "      <th>dataset</th>\n",
       "      <th>method</th>\n",
       "      <th>normal</th>\n",
       "      <th>lags</th>\n",
       "      <th>nof_filters</th>\n",
       "      <th>epoch</th>\n",
       "      <th>mse(train)</th>\n",
       "      <th>mse(test)</th>\n",
       "      <th>calculation_time</th>\n",
       "    </tr>\n",
       "  </thead>\n",
       "  <tbody>\n",
       "    <tr>\n",
       "      <th>0</th>\n",
       "      <td>data2</td>\n",
       "      <td>STGCN</td>\n",
       "      <td>O</td>\n",
       "      <td>4</td>\n",
       "      <td>16</td>\n",
       "      <td>50</td>\n",
       "      <td>0.181886</td>\n",
       "      <td>0.170189</td>\n",
       "      <td>301.377795</td>\n",
       "    </tr>\n",
       "    <tr>\n",
       "      <th>1</th>\n",
       "      <td>data2</td>\n",
       "      <td>STGCN</td>\n",
       "      <td>O</td>\n",
       "      <td>4</td>\n",
       "      <td>32</td>\n",
       "      <td>50</td>\n",
       "      <td>0.198904</td>\n",
       "      <td>0.190715</td>\n",
       "      <td>296.4576</td>\n",
       "    </tr>\n",
       "    <tr>\n",
       "      <th>2</th>\n",
       "      <td>data2</td>\n",
       "      <td>STGCN</td>\n",
       "      <td>O</td>\n",
       "      <td>4</td>\n",
       "      <td>64</td>\n",
       "      <td>50</td>\n",
       "      <td>0.195493</td>\n",
       "      <td>0.188309</td>\n",
       "      <td>308.646654</td>\n",
       "    </tr>\n",
       "    <tr>\n",
       "      <th>3</th>\n",
       "      <td>data2</td>\n",
       "      <td>STGCN</td>\n",
       "      <td>O</td>\n",
       "      <td>8</td>\n",
       "      <td>16</td>\n",
       "      <td>50</td>\n",
       "      <td>0.189424</td>\n",
       "      <td>0.177908</td>\n",
       "      <td>303.527294</td>\n",
       "    </tr>\n",
       "    <tr>\n",
       "      <th>4</th>\n",
       "      <td>data2</td>\n",
       "      <td>STGCN</td>\n",
       "      <td>O</td>\n",
       "      <td>8</td>\n",
       "      <td>32</td>\n",
       "      <td>50</td>\n",
       "      <td>0.213567</td>\n",
       "      <td>0.208104</td>\n",
       "      <td>307.255326</td>\n",
       "    </tr>\n",
       "    <tr>\n",
       "      <th>5</th>\n",
       "      <td>data2</td>\n",
       "      <td>STGCN</td>\n",
       "      <td>O</td>\n",
       "      <td>8</td>\n",
       "      <td>64</td>\n",
       "      <td>50</td>\n",
       "      <td>0.190067</td>\n",
       "      <td>0.175568</td>\n",
       "      <td>319.699453</td>\n",
       "    </tr>\n",
       "    <tr>\n",
       "      <th>6</th>\n",
       "      <td>data2</td>\n",
       "      <td>STGCN</td>\n",
       "      <td>O</td>\n",
       "      <td>12</td>\n",
       "      <td>16</td>\n",
       "      <td>50</td>\n",
       "      <td>0.189747</td>\n",
       "      <td>0.180983</td>\n",
       "      <td>315.89522</td>\n",
       "    </tr>\n",
       "    <tr>\n",
       "      <th>7</th>\n",
       "      <td>data2</td>\n",
       "      <td>STGCN</td>\n",
       "      <td>O</td>\n",
       "      <td>12</td>\n",
       "      <td>32</td>\n",
       "      <td>50</td>\n",
       "      <td>0.201539</td>\n",
       "      <td>0.201505</td>\n",
       "      <td>320.217695</td>\n",
       "    </tr>\n",
       "    <tr>\n",
       "      <th>8</th>\n",
       "      <td>data2</td>\n",
       "      <td>STGCN</td>\n",
       "      <td>O</td>\n",
       "      <td>12</td>\n",
       "      <td>64</td>\n",
       "      <td>50</td>\n",
       "      <td>0.193679</td>\n",
       "      <td>0.187321</td>\n",
       "      <td>322.39595</td>\n",
       "    </tr>\n",
       "  </tbody>\n",
       "</table>\n",
       "</div>"
      ],
      "text/plain": [
       "  dataset method normal lags nof_filters epoch mse(train) mse(test)  \\\n",
       "0   data2  STGCN      O    4          16    50   0.181886  0.170189   \n",
       "1   data2  STGCN      O    4          32    50   0.198904  0.190715   \n",
       "2   data2  STGCN      O    4          64    50   0.195493  0.188309   \n",
       "3   data2  STGCN      O    8          16    50   0.189424  0.177908   \n",
       "4   data2  STGCN      O    8          32    50   0.213567  0.208104   \n",
       "5   data2  STGCN      O    8          64    50   0.190067  0.175568   \n",
       "6   data2  STGCN      O   12          16    50   0.189747  0.180983   \n",
       "7   data2  STGCN      O   12          32    50   0.201539  0.201505   \n",
       "8   data2  STGCN      O   12          64    50   0.193679  0.187321   \n",
       "\n",
       "  calculation_time  \n",
       "0       301.377795  \n",
       "1         296.4576  \n",
       "2       308.646654  \n",
       "3       303.527294  \n",
       "4       307.255326  \n",
       "5       319.699453  \n",
       "6        315.89522  \n",
       "7       320.217695  \n",
       "8        322.39595  "
      ]
     },
     "execution_count": 10,
     "metadata": {},
     "output_type": "execute_result"
    }
   ],
   "source": [
    "simul_model_50.simulation_results"
   ]
  },
  {
   "cell_type": "code",
   "execution_count": 11,
   "id": "dd0b2969-7927-4e3f-9e5e-13fa1ee2f286",
   "metadata": {},
   "outputs": [
    {
     "name": "stdout",
     "output_type": "stream",
     "text": [
      "stgcn ver1 50epoch 시뮬레이션 끝!\n"
     ]
    }
   ],
   "source": [
    "print('stgcn ver1 50epoch 시뮬레이션 끝!')"
   ]
  },
  {
   "cell_type": "code",
   "execution_count": 12,
   "id": "680f9c15-780f-4a39-aa85-da052af0f249",
   "metadata": {},
   "outputs": [
    {
     "data": {
      "image/png": "[encoded data removed]",
      "text/plain": [
       "<Figure size 432x288 with 1 Axes>"
      ]
     },
     "metadata": {
      "needs_background": "light"
     },
     "output_type": "display_data"
    }
   ],
   "source": [
    "import matplotlib.pyplot as plt\n",
    "plt.boxplot(simul_model_50.simulation_results['mse(test)'])\n",
    "plt.show()"
   ]
  },
  {
   "cell_type": "markdown",
   "id": "cfec2e73-396f-4cb1-9df5-e228acf43697",
   "metadata": {},
   "source": [
    "## 100 epoch"
   ]
  },
  {
   "cell_type": "code",
   "execution_count": 13,
   "id": "6bb7a282-c848-4a91-a399-564ff7990afd",
   "metadata": {},
   "outputs": [],
   "source": [
    "plans_stgcn = {\n",
    "    'max_iteration': 1, # 30 \n",
    "    'method': ['STGCN'], \n",
    "    'lags': [4, 8, 12], \n",
    "    'nof_filters': [16, 32, 64], \n",
    "    'epoch': [100] # [50, 100, 150]\n",
    "}"
   ]
  },
  {
   "cell_type": "code",
   "execution_count": 14,
   "id": "0e3ad5e6-defd-4080-9728-7b516ff64254",
   "metadata": {},
   "outputs": [],
   "source": [
    "plnr = eptstgcn.planner.NORMAL_PLNR_STGCN(plans_stgcn, data_dict, dataset_name='data2')"
   ]
  },
  {
   "cell_type": "code",
   "execution_count": 15,
   "id": "b252a734-b622-42f5-87e9-b9481a950a16",
   "metadata": {},
   "outputs": [
    {
     "name": "stdout",
     "output_type": "stream",
     "text": [
      "1/1 is done\n",
      "All results are stored in ./simulation_results/2023-05-02_17-53-27.csv\n"
     ]
    }
   ],
   "source": [
    "plnr.simulate()"
   ]
  },
  {
   "cell_type": "code",
   "execution_count": 16,
   "id": "74bd0a9c-58d4-4b4a-8385-3f29e02c0603",
   "metadata": {},
   "outputs": [],
   "source": [
    "eptstgcn.save_data(plnr, './simul_model2/normal/stgcn_v1_100epoch.pickle')"
   ]
  },
  {
   "cell_type": "code",
   "execution_count": 17,
   "id": "a079584b-12d8-44ab-a856-74436f9deff2",
   "metadata": {},
   "outputs": [],
   "source": [
    "simul_model_100 = eptstgcn.load_data('./simul_model2/normal/stgcn_v1_100epoch.pickle')"
   ]
  },
  {
   "cell_type": "code",
   "execution_count": 18,
   "id": "e15cfad8-d9cb-41df-a364-fd6f342f641f",
   "metadata": {},
   "outputs": [
    {
     "data": {
      "text/html": [
       "<div>\n",
       "<style scoped>\n",
       "    .dataframe tbody tr th:only-of-type {\n",
       "        vertical-align: middle;\n",
       "    }\n",
       "\n",
       "    .dataframe tbody tr th {\n",
       "        vertical-align: top;\n",
       "    }\n",
       "\n",
       "    .dataframe thead th {\n",
       "        text-align: right;\n",
       "    }\n",
       "</style>\n",
       "<table border=\"1\" class=\"dataframe\">\n",
       "  <thead>\n",
       "    <tr style=\"text-align: right;\">\n",
       "      <th></th>\n",
       "      <th>dataset</th>\n",
       "      <th>method</th>\n",
       "      <th>normal</th>\n",
       "      <th>lags</th>\n",
       "      <th>nof_filters</th>\n",
       "      <th>epoch</th>\n",
       "      <th>mse(train)</th>\n",
       "      <th>mse(test)</th>\n",
       "      <th>calculation_time</th>\n",
       "    </tr>\n",
       "  </thead>\n",
       "  <tbody>\n",
       "    <tr>\n",
       "      <th>0</th>\n",
       "      <td>data2</td>\n",
       "      <td>STGCN</td>\n",
       "      <td>O</td>\n",
       "      <td>4</td>\n",
       "      <td>16</td>\n",
       "      <td>100</td>\n",
       "      <td>0.184018</td>\n",
       "      <td>0.176352</td>\n",
       "      <td>591.468639</td>\n",
       "    </tr>\n",
       "    <tr>\n",
       "      <th>1</th>\n",
       "      <td>data2</td>\n",
       "      <td>STGCN</td>\n",
       "      <td>O</td>\n",
       "      <td>4</td>\n",
       "      <td>32</td>\n",
       "      <td>100</td>\n",
       "      <td>0.18008</td>\n",
       "      <td>0.166548</td>\n",
       "      <td>596.956525</td>\n",
       "    </tr>\n",
       "    <tr>\n",
       "      <th>2</th>\n",
       "      <td>data2</td>\n",
       "      <td>STGCN</td>\n",
       "      <td>O</td>\n",
       "      <td>4</td>\n",
       "      <td>64</td>\n",
       "      <td>100</td>\n",
       "      <td>0.183982</td>\n",
       "      <td>0.173036</td>\n",
       "      <td>619.508867</td>\n",
       "    </tr>\n",
       "    <tr>\n",
       "      <th>3</th>\n",
       "      <td>data2</td>\n",
       "      <td>STGCN</td>\n",
       "      <td>O</td>\n",
       "      <td>8</td>\n",
       "      <td>16</td>\n",
       "      <td>100</td>\n",
       "      <td>0.182058</td>\n",
       "      <td>0.172347</td>\n",
       "      <td>609.206819</td>\n",
       "    </tr>\n",
       "    <tr>\n",
       "      <th>4</th>\n",
       "      <td>data2</td>\n",
       "      <td>STGCN</td>\n",
       "      <td>O</td>\n",
       "      <td>8</td>\n",
       "      <td>32</td>\n",
       "      <td>100</td>\n",
       "      <td>0.191687</td>\n",
       "      <td>0.177967</td>\n",
       "      <td>620.305754</td>\n",
       "    </tr>\n",
       "    <tr>\n",
       "      <th>5</th>\n",
       "      <td>data2</td>\n",
       "      <td>STGCN</td>\n",
       "      <td>O</td>\n",
       "      <td>8</td>\n",
       "      <td>64</td>\n",
       "      <td>100</td>\n",
       "      <td>0.196819</td>\n",
       "      <td>0.188639</td>\n",
       "      <td>637.897624</td>\n",
       "    </tr>\n",
       "    <tr>\n",
       "      <th>6</th>\n",
       "      <td>data2</td>\n",
       "      <td>STGCN</td>\n",
       "      <td>O</td>\n",
       "      <td>12</td>\n",
       "      <td>16</td>\n",
       "      <td>100</td>\n",
       "      <td>0.186397</td>\n",
       "      <td>0.177353</td>\n",
       "      <td>620.586107</td>\n",
       "    </tr>\n",
       "    <tr>\n",
       "      <th>7</th>\n",
       "      <td>data2</td>\n",
       "      <td>STGCN</td>\n",
       "      <td>O</td>\n",
       "      <td>12</td>\n",
       "      <td>32</td>\n",
       "      <td>100</td>\n",
       "      <td>0.194325</td>\n",
       "      <td>0.188517</td>\n",
       "      <td>627.757534</td>\n",
       "    </tr>\n",
       "    <tr>\n",
       "      <th>8</th>\n",
       "      <td>data2</td>\n",
       "      <td>STGCN</td>\n",
       "      <td>O</td>\n",
       "      <td>12</td>\n",
       "      <td>64</td>\n",
       "      <td>100</td>\n",
       "      <td>0.183982</td>\n",
       "      <td>0.175041</td>\n",
       "      <td>645.52017</td>\n",
       "    </tr>\n",
       "  </tbody>\n",
       "</table>\n",
       "</div>"
      ],
      "text/plain": [
       "  dataset method normal lags nof_filters epoch mse(train) mse(test)  \\\n",
       "0   data2  STGCN      O    4          16   100   0.184018  0.176352   \n",
       "1   data2  STGCN      O    4          32   100    0.18008  0.166548   \n",
       "2   data2  STGCN      O    4          64   100   0.183982  0.173036   \n",
       "3   data2  STGCN      O    8          16   100   0.182058  0.172347   \n",
       "4   data2  STGCN      O    8          32   100   0.191687  0.177967   \n",
       "5   data2  STGCN      O    8          64   100   0.196819  0.188639   \n",
       "6   data2  STGCN      O   12          16   100   0.186397  0.177353   \n",
       "7   data2  STGCN      O   12          32   100   0.194325  0.188517   \n",
       "8   data2  STGCN      O   12          64   100   0.183982  0.175041   \n",
       "\n",
       "  calculation_time  \n",
       "0       591.468639  \n",
       "1       596.956525  \n",
       "2       619.508867  \n",
       "3       609.206819  \n",
       "4       620.305754  \n",
       "5       637.897624  \n",
       "6       620.586107  \n",
       "7       627.757534  \n",
       "8        645.52017  "
      ]
     },
     "execution_count": 18,
     "metadata": {},
     "output_type": "execute_result"
    }
   ],
   "source": [
    "simul_model_100.simulation_results"
   ]
  },
  {
   "cell_type": "code",
   "execution_count": 19,
   "id": "7c743c8d-942a-4b96-b40f-f0e1d892fec5",
   "metadata": {},
   "outputs": [
    {
     "name": "stdout",
     "output_type": "stream",
     "text": [
      "100에폭 끝\n"
     ]
    }
   ],
   "source": [
    "print('100에폭 끝')"
   ]
  },
  {
   "cell_type": "markdown",
   "id": "9d2a8071-17e5-495b-9254-2e3404676a6d",
   "metadata": {},
   "source": [
    "## 150 epoch"
   ]
  },
  {
   "cell_type": "code",
   "execution_count": 20,
   "id": "54f7152e-a292-485e-b3f7-a99144671463",
   "metadata": {},
   "outputs": [],
   "source": [
    "plans_stgcn = {\n",
    "    'max_iteration': 1, # 30 \n",
    "    'method': ['STGCN'], \n",
    "    'lags': [4, 8, 12], \n",
    "    'nof_filters': [16, 32, 64], \n",
    "    'epoch': [150] # [50, 100, 150]\n",
    "}"
   ]
  },
  {
   "cell_type": "code",
   "execution_count": 21,
   "id": "5e299a5b-b136-4190-9385-9f23c1432c65",
   "metadata": {},
   "outputs": [],
   "source": [
    "plnr = eptstgcn.planner.NORMAL_PLNR_STGCN(plans_stgcn, data_dict, dataset_name='data2')"
   ]
  },
  {
   "cell_type": "code",
   "execution_count": 22,
   "id": "802e7d34-f9aa-4b9f-8176-11edd55b8a03",
   "metadata": {},
   "outputs": [
    {
     "name": "stdout",
     "output_type": "stream",
     "text": [
      "1/1 is done\n",
      "All results are stored in ./simulation_results/2023-05-02_20-14-40.csv\n"
     ]
    }
   ],
   "source": [
    "plnr.simulate()"
   ]
  },
  {
   "cell_type": "code",
   "execution_count": 23,
   "id": "85578b55-71c5-46b2-836b-385318ad6c2a",
   "metadata": {},
   "outputs": [],
   "source": [
    "eptstgcn.save_data(plnr,'./simul_model2/normal/stgcn_v1_150epoch.pickle')"
   ]
  },
  {
   "cell_type": "code",
   "execution_count": 24,
   "id": "1484c162-80d8-4a90-830c-e7f1a4ed13e7",
   "metadata": {},
   "outputs": [],
   "source": [
    "simul_model_150 = eptstgcn.load_data('./simul_model2/normal/stgcn_v1_150epoch.pickle')"
   ]
  },
  {
   "cell_type": "code",
   "execution_count": 25,
   "id": "b96f3c81-4f17-4ca7-b6a0-7533618f2457",
   "metadata": {},
   "outputs": [
    {
     "data": {
      "text/html": [
       "<div>\n",
       "<style scoped>\n",
       "    .dataframe tbody tr th:only-of-type {\n",
       "        vertical-align: middle;\n",
       "    }\n",
       "\n",
       "    .dataframe tbody tr th {\n",
       "        vertical-align: top;\n",
       "    }\n",
       "\n",
       "    .dataframe thead th {\n",
       "        text-align: right;\n",
       "    }\n",
       "</style>\n",
       "<table border=\"1\" class=\"dataframe\">\n",
       "  <thead>\n",
       "    <tr style=\"text-align: right;\">\n",
       "      <th></th>\n",
       "      <th>dataset</th>\n",
       "      <th>method</th>\n",
       "      <th>normal</th>\n",
       "      <th>lags</th>\n",
       "      <th>nof_filters</th>\n",
       "      <th>epoch</th>\n",
       "      <th>mse(train)</th>\n",
       "      <th>mse(test)</th>\n",
       "      <th>calculation_time</th>\n",
       "    </tr>\n",
       "  </thead>\n",
       "  <tbody>\n",
       "    <tr>\n",
       "      <th>0</th>\n",
       "      <td>data2</td>\n",
       "      <td>STGCN</td>\n",
       "      <td>O</td>\n",
       "      <td>4</td>\n",
       "      <td>16</td>\n",
       "      <td>150</td>\n",
       "      <td>0.178521</td>\n",
       "      <td>0.167069</td>\n",
       "      <td>893.5531</td>\n",
       "    </tr>\n",
       "    <tr>\n",
       "      <th>1</th>\n",
       "      <td>data2</td>\n",
       "      <td>STGCN</td>\n",
       "      <td>O</td>\n",
       "      <td>4</td>\n",
       "      <td>32</td>\n",
       "      <td>150</td>\n",
       "      <td>0.196559</td>\n",
       "      <td>0.188793</td>\n",
       "      <td>904.754509</td>\n",
       "    </tr>\n",
       "    <tr>\n",
       "      <th>2</th>\n",
       "      <td>data2</td>\n",
       "      <td>STGCN</td>\n",
       "      <td>O</td>\n",
       "      <td>4</td>\n",
       "      <td>64</td>\n",
       "      <td>150</td>\n",
       "      <td>0.182324</td>\n",
       "      <td>0.169113</td>\n",
       "      <td>945.174071</td>\n",
       "    </tr>\n",
       "    <tr>\n",
       "      <th>3</th>\n",
       "      <td>data2</td>\n",
       "      <td>STGCN</td>\n",
       "      <td>O</td>\n",
       "      <td>8</td>\n",
       "      <td>16</td>\n",
       "      <td>150</td>\n",
       "      <td>0.18494</td>\n",
       "      <td>0.174159</td>\n",
       "      <td>918.975577</td>\n",
       "    </tr>\n",
       "    <tr>\n",
       "      <th>4</th>\n",
       "      <td>data2</td>\n",
       "      <td>STGCN</td>\n",
       "      <td>O</td>\n",
       "      <td>8</td>\n",
       "      <td>32</td>\n",
       "      <td>150</td>\n",
       "      <td>0.193189</td>\n",
       "      <td>0.182417</td>\n",
       "      <td>938.209813</td>\n",
       "    </tr>\n",
       "    <tr>\n",
       "      <th>5</th>\n",
       "      <td>data2</td>\n",
       "      <td>STGCN</td>\n",
       "      <td>O</td>\n",
       "      <td>8</td>\n",
       "      <td>64</td>\n",
       "      <td>150</td>\n",
       "      <td>0.195476</td>\n",
       "      <td>0.18993</td>\n",
       "      <td>957.47494</td>\n",
       "    </tr>\n",
       "    <tr>\n",
       "      <th>6</th>\n",
       "      <td>data2</td>\n",
       "      <td>STGCN</td>\n",
       "      <td>O</td>\n",
       "      <td>12</td>\n",
       "      <td>16</td>\n",
       "      <td>150</td>\n",
       "      <td>0.194128</td>\n",
       "      <td>0.186243</td>\n",
       "      <td>931.000848</td>\n",
       "    </tr>\n",
       "    <tr>\n",
       "      <th>7</th>\n",
       "      <td>data2</td>\n",
       "      <td>STGCN</td>\n",
       "      <td>O</td>\n",
       "      <td>12</td>\n",
       "      <td>32</td>\n",
       "      <td>150</td>\n",
       "      <td>0.183539</td>\n",
       "      <td>0.175252</td>\n",
       "      <td>945.265863</td>\n",
       "    </tr>\n",
       "    <tr>\n",
       "      <th>8</th>\n",
       "      <td>data2</td>\n",
       "      <td>STGCN</td>\n",
       "      <td>O</td>\n",
       "      <td>12</td>\n",
       "      <td>64</td>\n",
       "      <td>150</td>\n",
       "      <td>0.203312</td>\n",
       "      <td>0.199971</td>\n",
       "      <td>980.781949</td>\n",
       "    </tr>\n",
       "  </tbody>\n",
       "</table>\n",
       "</div>"
      ],
      "text/plain": [
       "  dataset method normal lags nof_filters epoch mse(train) mse(test)  \\\n",
       "0   data2  STGCN      O    4          16   150   0.178521  0.167069   \n",
       "1   data2  STGCN      O    4          32   150   0.196559  0.188793   \n",
       "2   data2  STGCN      O    4          64   150   0.182324  0.169113   \n",
       "3   data2  STGCN      O    8          16   150    0.18494  0.174159   \n",
       "4   data2  STGCN      O    8          32   150   0.193189  0.182417   \n",
       "5   data2  STGCN      O    8          64   150   0.195476   0.18993   \n",
       "6   data2  STGCN      O   12          16   150   0.194128  0.186243   \n",
       "7   data2  STGCN      O   12          32   150   0.183539  0.175252   \n",
       "8   data2  STGCN      O   12          64   150   0.203312  0.199971   \n",
       "\n",
       "  calculation_time  \n",
       "0         893.5531  \n",
       "1       904.754509  \n",
       "2       945.174071  \n",
       "3       918.975577  \n",
       "4       938.209813  \n",
       "5        957.47494  \n",
       "6       931.000848  \n",
       "7       945.265863  \n",
       "8       980.781949  "
      ]
     },
     "execution_count": 25,
     "metadata": {},
     "output_type": "execute_result"
    }
   ],
   "source": [
    "simul_model_150.simulation_results"
   ]
  },
  {
   "cell_type": "code",
   "execution_count": 26,
   "id": "3f36b36d-9484-4dc1-afd1-5de3c9386456",
   "metadata": {},
   "outputs": [
    {
     "name": "stdout",
     "output_type": "stream",
     "text": [
      "150에폭 끝!\n"
     ]
    }
   ],
   "source": [
    "print('150에폭 끝!')"
   ]
  }
 ],
 "metadata": {
  "kernelspec": {
   "display_name": "Python 3",
   "language": "python",
   "name": "python3"
  },
  "language_info": {
   "codemirror_mode": {
    "name": "ipython",
    "version": 3
   },
   "file_extension": ".py",
   "mimetype": "text/x-python",
   "name": "python",
   "nbconvert_exporter": "python",
   "pygments_lexer": "ipython3",
   "version": "3.8.16"
  }
 },
 "nbformat": 4,
 "nbformat_minor": 5
}
