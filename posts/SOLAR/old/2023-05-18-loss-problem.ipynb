{
 "cells": [
  {
   "cell_type": "raw",
   "id": "cd0e9f1a-708c-4ae4-ad1c-7d0455464407",
   "metadata": {},
   "source": [
    "---\n",
    "title: \"**[SOLAR]** loss\"\n",
    "author: \"JiyunLim\"\n",
    "date: \"05/18/2023\"\n",
    "categories:\n",
    "  - STGCN\n",
    "  - Chikenpox \n",
    "---"
   ]
  },
  {
   "cell_type": "markdown",
   "id": "8ea69688-13bc-4b7f-9d20-88af717fd060",
   "metadata": {},
   "source": [
    "## Chikenpox"
   ]
  },
  {
   "cell_type": "markdown",
   "id": "ffd2d104-5ccb-499a-b658-f3e15e23553f",
   "metadata": {},
   "source": [
    "- ref: <https://pytorch-geometric-temporal.readthedocs.io/en/latest/modules/dataset.html#module-torch_geometric_temporal.dataset.chickenpox>"
   ]
  },
  {
   "cell_type": "markdown",
   "id": "a7e1b1a6-9d61-4df0-aa6d-976cf9af4820",
   "metadata": {},
   "source": [
    "A dataset of county level chicken pox cases in Hungary between 2004 and 2014. We made it public during the development of PyTorch Geometric Temporal. The underlying graph is static - vertices are counties and edges are neighbourhoods. Vertex features are lagged weekly counts of the chickenpox cases (we included 4 lags). The target is the weekly number of cases for the upcoming week (signed integers). Our dataset consist of more than 500 snapshots (weeks)."
   ]
  },
  {
   "cell_type": "code",
   "execution_count": 40,
   "id": "94c83076-7808-4970-ad04-6180d6c0b97b",
   "metadata": {},
   "outputs": [],
   "source": [
    "from torch_geometric_temporal.dataset import ChickenpoxDatasetLoader\n",
    "from torch_geometric_temporal.signal import temporal_signal_split\n",
    "\n",
    "loader = ChickenpoxDatasetLoader()\n",
    "\n",
    "dataset = loader.get_dataset()\n",
    "\n",
    "train_dataset, test_dataset = temporal_signal_split(dataset, train_ratio=0.2)"
   ]
  },
  {
   "cell_type": "code",
   "execution_count": 41,
   "id": "020e1ddd-e9ac-4140-889e-e35b2a45e366",
   "metadata": {},
   "outputs": [],
   "source": [
    "import torch\n",
    "import torch.nn.functional as F\n",
    "from torch_geometric_temporal.nn.recurrent import DCRNN\n",
    "\n",
    "class RecurrentGCN(torch.nn.Module):\n",
    "    def __init__(self, node_features):\n",
    "        super(RecurrentGCN, self).__init__()\n",
    "        self.recurrent = DCRNN(node_features, 32, 1)\n",
    "        self.linear = torch.nn.Linear(32, 1)\n",
    "\n",
    "    def forward(self, x, edge_index, edge_weight):\n",
    "        h = self.recurrent(x, edge_index, edge_weight)\n",
    "        h = F.relu(h)\n",
    "        h = self.linear(h)\n",
    "        return h"
   ]
  },
  {
   "cell_type": "code",
   "execution_count": 42,
   "id": "d5692bb6-80e8-4667-93ab-19b350db60a6",
   "metadata": {},
   "outputs": [
    {
     "data": {
      "text/plain": [
       "RecurrentGCN(\n",
       "  (recurrent): DCRNN(\n",
       "    (conv_x_z): DConv(36, 32)\n",
       "    (conv_x_r): DConv(36, 32)\n",
       "    (conv_x_h): DConv(36, 32)\n",
       "  )\n",
       "  (linear): Linear(in_features=32, out_features=1, bias=True)\n",
       ")"
      ]
     },
     "execution_count": 42,
     "metadata": {},
     "output_type": "execute_result"
    }
   ],
   "source": [
    "from tqdm import tqdm\n",
    "\n",
    "model = RecurrentGCN(node_features = 4)\n",
    "\n",
    "optimizer = torch.optim.Adam(model.parameters(), lr=0.01)\n",
    "\n",
    "model.train()\n",
    "\n"
   ]
  },
  {
   "cell_type": "markdown",
   "id": "3866de12-09b2-4869-aa4d-d654307d4395",
   "metadata": {},
   "source": [
    "- loss 계산시 dimension 문제가 있었음. 우리는 $y_1$ 과 $\\hat{y}_1$을 잘 맞추면되는 것이지 $y_1$과 $\\hat{y}_2$를 잘 맞출필요는 없다.."
   ]
  },
  {
   "cell_type": "code",
   "execution_count": 43,
   "id": "3a940aaf-4ac5-4901-8073-04cc6fd6c6f7",
   "metadata": {},
   "outputs": [
    {
     "data": {
      "text/plain": [
       "(103, 20, 4)"
      ]
     },
     "execution_count": 43,
     "metadata": {},
     "output_type": "execute_result"
    }
   ],
   "source": [
    "np.array(train_dataset.features).shape"
   ]
  },
  {
   "cell_type": "code",
   "execution_count": 45,
   "id": "c1634787-826c-4206-b46b-91ab617c05e2",
   "metadata": {},
   "outputs": [
    {
     "data": {
      "text/plain": [
       "()"
      ]
     },
     "execution_count": 45,
     "metadata": {},
     "output_type": "execute_result"
    }
   ],
   "source": [
    "train_dataset.features"
   ]
  },
  {
   "cell_type": "code",
   "execution_count": 46,
   "id": "5d2f0777-f4a4-4683-b517-565f7203257a",
   "metadata": {},
   "outputs": [
    {
     "name": "stdout",
     "output_type": "stream",
     "text": [
      "torch.Size([20, 1]) torch.Size([20]) torch.Size([20, 20]) torch.Size([])\n",
      "torch.Size([20, 1]) torch.Size([20]) torch.Size([20, 20]) torch.Size([])\n",
      "torch.Size([20, 1]) torch.Size([20]) torch.Size([20, 20]) torch.Size([])\n",
      "torch.Size([20, 1]) torch.Size([20]) torch.Size([20, 20]) torch.Size([])\n",
      "torch.Size([20, 1]) torch.Size([20]) torch.Size([20, 20]) torch.Size([])\n",
      "torch.Size([20, 1]) torch.Size([20]) torch.Size([20, 20]) torch.Size([])\n",
      "torch.Size([20, 1]) torch.Size([20]) torch.Size([20, 20]) torch.Size([])\n",
      "torch.Size([20, 1]) torch.Size([20]) torch.Size([20, 20]) torch.Size([])\n",
      "torch.Size([20, 1]) torch.Size([20]) torch.Size([20, 20]) torch.Size([])\n",
      "torch.Size([20, 1]) torch.Size([20]) torch.Size([20, 20]) torch.Size([])\n",
      "torch.Size([20, 1]) torch.Size([20]) torch.Size([20, 20]) torch.Size([])\n",
      "torch.Size([20, 1]) torch.Size([20]) torch.Size([20, 20]) torch.Size([])\n",
      "torch.Size([20, 1]) torch.Size([20]) torch.Size([20, 20]) torch.Size([])\n",
      "torch.Size([20, 1]) torch.Size([20]) torch.Size([20, 20]) torch.Size([])\n",
      "torch.Size([20, 1]) torch.Size([20]) torch.Size([20, 20]) torch.Size([])\n",
      "torch.Size([20, 1]) torch.Size([20]) torch.Size([20, 20]) torch.Size([])\n",
      "torch.Size([20, 1]) torch.Size([20]) torch.Size([20, 20]) torch.Size([])\n",
      "torch.Size([20, 1]) torch.Size([20]) torch.Size([20, 20]) torch.Size([])\n",
      "torch.Size([20, 1]) torch.Size([20]) torch.Size([20, 20]) torch.Size([])\n",
      "torch.Size([20, 1]) torch.Size([20]) torch.Size([20, 20]) torch.Size([])\n",
      "torch.Size([20, 1]) torch.Size([20]) torch.Size([20, 20]) torch.Size([])\n",
      "torch.Size([20, 1]) torch.Size([20]) torch.Size([20, 20]) torch.Size([])\n",
      "torch.Size([20, 1]) torch.Size([20]) torch.Size([20, 20]) torch.Size([])\n",
      "torch.Size([20, 1]) torch.Size([20]) torch.Size([20, 20]) torch.Size([])\n",
      "torch.Size([20, 1]) torch.Size([20]) torch.Size([20, 20]) torch.Size([])\n",
      "torch.Size([20, 1]) torch.Size([20]) torch.Size([20, 20]) torch.Size([])\n",
      "torch.Size([20, 1]) torch.Size([20]) torch.Size([20, 20]) torch.Size([])\n",
      "torch.Size([20, 1]) torch.Size([20]) torch.Size([20, 20]) torch.Size([])\n",
      "torch.Size([20, 1]) torch.Size([20]) torch.Size([20, 20]) torch.Size([])\n",
      "torch.Size([20, 1]) torch.Size([20]) torch.Size([20, 20]) torch.Size([])\n",
      "torch.Size([20, 1]) torch.Size([20]) torch.Size([20, 20]) torch.Size([])\n",
      "torch.Size([20, 1]) torch.Size([20]) torch.Size([20, 20]) torch.Size([])\n",
      "torch.Size([20, 1]) torch.Size([20]) torch.Size([20, 20]) torch.Size([])\n",
      "torch.Size([20, 1]) torch.Size([20]) torch.Size([20, 20]) torch.Size([])\n",
      "torch.Size([20, 1]) torch.Size([20]) torch.Size([20, 20]) torch.Size([])\n",
      "torch.Size([20, 1]) torch.Size([20]) torch.Size([20, 20]) torch.Size([])\n",
      "torch.Size([20, 1]) torch.Size([20]) torch.Size([20, 20]) torch.Size([])\n",
      "torch.Size([20, 1]) torch.Size([20]) torch.Size([20, 20]) torch.Size([])\n",
      "torch.Size([20, 1]) torch.Size([20]) torch.Size([20, 20]) torch.Size([])\n",
      "torch.Size([20, 1]) torch.Size([20]) torch.Size([20, 20]) torch.Size([])\n",
      "torch.Size([20, 1]) torch.Size([20]) torch.Size([20, 20]) torch.Size([])\n",
      "torch.Size([20, 1]) torch.Size([20]) torch.Size([20, 20]) torch.Size([])\n",
      "torch.Size([20, 1]) torch.Size([20]) torch.Size([20, 20]) torch.Size([])\n",
      "torch.Size([20, 1]) torch.Size([20]) torch.Size([20, 20]) torch.Size([])\n",
      "torch.Size([20, 1]) torch.Size([20]) torch.Size([20, 20]) torch.Size([])\n",
      "torch.Size([20, 1]) torch.Size([20]) torch.Size([20, 20]) torch.Size([])\n",
      "torch.Size([20, 1]) torch.Size([20]) torch.Size([20, 20]) torch.Size([])\n",
      "torch.Size([20, 1]) torch.Size([20]) torch.Size([20, 20]) torch.Size([])\n",
      "torch.Size([20, 1]) torch.Size([20]) torch.Size([20, 20]) torch.Size([])\n",
      "torch.Size([20, 1]) torch.Size([20]) torch.Size([20, 20]) torch.Size([])\n",
      "torch.Size([20, 1]) torch.Size([20]) torch.Size([20, 20]) torch.Size([])\n",
      "torch.Size([20, 1]) torch.Size([20]) torch.Size([20, 20]) torch.Size([])\n",
      "torch.Size([20, 1]) torch.Size([20]) torch.Size([20, 20]) torch.Size([])\n",
      "torch.Size([20, 1]) torch.Size([20]) torch.Size([20, 20]) torch.Size([])\n",
      "torch.Size([20, 1]) torch.Size([20]) torch.Size([20, 20]) torch.Size([])\n",
      "torch.Size([20, 1]) torch.Size([20]) torch.Size([20, 20]) torch.Size([])\n",
      "torch.Size([20, 1]) torch.Size([20]) torch.Size([20, 20]) torch.Size([])\n",
      "torch.Size([20, 1]) torch.Size([20]) torch.Size([20, 20]) torch.Size([])\n",
      "torch.Size([20, 1]) torch.Size([20]) torch.Size([20, 20]) torch.Size([])\n",
      "torch.Size([20, 1]) torch.Size([20]) torch.Size([20, 20]) torch.Size([])\n",
      "torch.Size([20, 1]) torch.Size([20]) torch.Size([20, 20]) torch.Size([])\n",
      "torch.Size([20, 1]) torch.Size([20]) torch.Size([20, 20]) torch.Size([])\n",
      "torch.Size([20, 1]) torch.Size([20]) torch.Size([20, 20]) torch.Size([])\n",
      "torch.Size([20, 1]) torch.Size([20]) torch.Size([20, 20]) torch.Size([])\n",
      "torch.Size([20, 1]) torch.Size([20]) torch.Size([20, 20]) torch.Size([])\n",
      "torch.Size([20, 1]) torch.Size([20]) torch.Size([20, 20]) torch.Size([])\n",
      "torch.Size([20, 1]) torch.Size([20]) torch.Size([20, 20]) torch.Size([])\n",
      "torch.Size([20, 1]) torch.Size([20]) torch.Size([20, 20]) torch.Size([])\n",
      "torch.Size([20, 1]) torch.Size([20]) torch.Size([20, 20]) torch.Size([])\n",
      "torch.Size([20, 1]) torch.Size([20]) torch.Size([20, 20]) torch.Size([])\n",
      "torch.Size([20, 1]) torch.Size([20]) torch.Size([20, 20]) torch.Size([])\n",
      "torch.Size([20, 1]) torch.Size([20]) torch.Size([20, 20]) torch.Size([])\n",
      "torch.Size([20, 1]) torch.Size([20]) torch.Size([20, 20]) torch.Size([])\n",
      "torch.Size([20, 1]) torch.Size([20]) torch.Size([20, 20]) torch.Size([])\n",
      "torch.Size([20, 1]) torch.Size([20]) torch.Size([20, 20]) torch.Size([])\n",
      "torch.Size([20, 1]) torch.Size([20]) torch.Size([20, 20]) torch.Size([])\n",
      "torch.Size([20, 1]) torch.Size([20]) torch.Size([20, 20]) torch.Size([])\n",
      "torch.Size([20, 1]) torch.Size([20]) torch.Size([20, 20]) torch.Size([])\n",
      "torch.Size([20, 1]) torch.Size([20]) torch.Size([20, 20]) torch.Size([])\n",
      "torch.Size([20, 1]) torch.Size([20]) torch.Size([20, 20]) torch.Size([])\n",
      "torch.Size([20, 1]) torch.Size([20]) torch.Size([20, 20]) torch.Size([])\n",
      "torch.Size([20, 1]) torch.Size([20]) torch.Size([20, 20]) torch.Size([])\n",
      "torch.Size([20, 1]) torch.Size([20]) torch.Size([20, 20]) torch.Size([])\n",
      "torch.Size([20, 1]) torch.Size([20]) torch.Size([20, 20]) torch.Size([])\n",
      "torch.Size([20, 1]) torch.Size([20]) torch.Size([20, 20]) torch.Size([])\n",
      "torch.Size([20, 1]) torch.Size([20]) torch.Size([20, 20]) torch.Size([])\n",
      "torch.Size([20, 1]) torch.Size([20]) torch.Size([20, 20]) torch.Size([])\n",
      "torch.Size([20, 1]) torch.Size([20]) torch.Size([20, 20]) torch.Size([])\n",
      "torch.Size([20, 1]) torch.Size([20]) torch.Size([20, 20]) torch.Size([])\n",
      "torch.Size([20, 1]) torch.Size([20]) torch.Size([20, 20]) torch.Size([])\n",
      "torch.Size([20, 1]) torch.Size([20]) torch.Size([20, 20]) torch.Size([])\n",
      "torch.Size([20, 1]) torch.Size([20]) torch.Size([20, 20]) torch.Size([])\n",
      "torch.Size([20, 1]) torch.Size([20]) torch.Size([20, 20]) torch.Size([])\n",
      "torch.Size([20, 1]) torch.Size([20]) torch.Size([20, 20]) torch.Size([])\n",
      "torch.Size([20, 1]) torch.Size([20]) torch.Size([20, 20]) torch.Size([])\n",
      "torch.Size([20, 1]) torch.Size([20]) torch.Size([20, 20]) torch.Size([])\n",
      "torch.Size([20, 1]) torch.Size([20]) torch.Size([20, 20]) torch.Size([])\n",
      "torch.Size([20, 1]) torch.Size([20]) torch.Size([20, 20]) torch.Size([])\n",
      "torch.Size([20, 1]) torch.Size([20]) torch.Size([20, 20]) torch.Size([])\n",
      "torch.Size([20, 1]) torch.Size([20]) torch.Size([20, 20]) torch.Size([])\n",
      "torch.Size([20, 1]) torch.Size([20]) torch.Size([20, 20]) torch.Size([])\n",
      "torch.Size([20, 1]) torch.Size([20]) torch.Size([20, 20]) torch.Size([])\n",
      "torch.Size([20, 1]) torch.Size([20]) torch.Size([20, 20]) torch.Size([])\n"
     ]
    }
   ],
   "source": [
    "# 잘못된 loss\n",
    "cost = 0\n",
    "for time, snapshot in enumerate(train_dataset):\n",
    "    y_hat = model(snapshot.x, snapshot.edge_index, snapshot.edge_attr)\n",
    "    print(y_hat.shape,\n",
    "          snapshot.y.shape,\n",
    "          (y_hat-snapshot.y).shape,\n",
    "         torch.mean((y_hat-snapshot.y)).shape)\n",
    "    cost = cost + torch.mean((y_hat-snapshot.y)**2)\n",
    "cost = cost / (time+1)\n",
    "cost.backward()\n",
    "optimizer.step()\n",
    "optimizer.zero_grad()"
   ]
  },
  {
   "cell_type": "code",
   "execution_count": 7,
   "id": "97b4d10f-3f3d-4810-8aaf-3631d41060f4",
   "metadata": {},
   "outputs": [
    {
     "name": "stdout",
     "output_type": "stream",
     "text": [
      "torch.Size([20]) torch.Size([20]) torch.Size([20])\n",
      "torch.Size([20]) torch.Size([20]) torch.Size([20])\n",
      "torch.Size([20]) torch.Size([20]) torch.Size([20])\n",
      "torch.Size([20]) torch.Size([20]) torch.Size([20])\n",
      "torch.Size([20]) torch.Size([20]) torch.Size([20])\n",
      "torch.Size([20]) torch.Size([20]) torch.Size([20])\n",
      "torch.Size([20]) torch.Size([20]) torch.Size([20])\n",
      "torch.Size([20]) torch.Size([20]) torch.Size([20])\n",
      "torch.Size([20]) torch.Size([20]) torch.Size([20])\n",
      "torch.Size([20]) torch.Size([20]) torch.Size([20])\n",
      "torch.Size([20]) torch.Size([20]) torch.Size([20])\n",
      "torch.Size([20]) torch.Size([20]) torch.Size([20])\n",
      "torch.Size([20]) torch.Size([20]) torch.Size([20])\n",
      "torch.Size([20]) torch.Size([20]) torch.Size([20])\n",
      "torch.Size([20]) torch.Size([20]) torch.Size([20])\n",
      "torch.Size([20]) torch.Size([20]) torch.Size([20])\n",
      "torch.Size([20]) torch.Size([20]) torch.Size([20])\n",
      "torch.Size([20]) torch.Size([20]) torch.Size([20])\n",
      "torch.Size([20]) torch.Size([20]) torch.Size([20])\n",
      "torch.Size([20]) torch.Size([20]) torch.Size([20])\n",
      "torch.Size([20]) torch.Size([20]) torch.Size([20])\n",
      "torch.Size([20]) torch.Size([20]) torch.Size([20])\n",
      "torch.Size([20]) torch.Size([20]) torch.Size([20])\n",
      "torch.Size([20]) torch.Size([20]) torch.Size([20])\n",
      "torch.Size([20]) torch.Size([20]) torch.Size([20])\n",
      "torch.Size([20]) torch.Size([20]) torch.Size([20])\n",
      "torch.Size([20]) torch.Size([20]) torch.Size([20])\n",
      "torch.Size([20]) torch.Size([20]) torch.Size([20])\n",
      "torch.Size([20]) torch.Size([20]) torch.Size([20])\n",
      "torch.Size([20]) torch.Size([20]) torch.Size([20])\n",
      "torch.Size([20]) torch.Size([20]) torch.Size([20])\n",
      "torch.Size([20]) torch.Size([20]) torch.Size([20])\n",
      "torch.Size([20]) torch.Size([20]) torch.Size([20])\n",
      "torch.Size([20]) torch.Size([20]) torch.Size([20])\n",
      "torch.Size([20]) torch.Size([20]) torch.Size([20])\n",
      "torch.Size([20]) torch.Size([20]) torch.Size([20])\n",
      "torch.Size([20]) torch.Size([20]) torch.Size([20])\n",
      "torch.Size([20]) torch.Size([20]) torch.Size([20])\n",
      "torch.Size([20]) torch.Size([20]) torch.Size([20])\n",
      "torch.Size([20]) torch.Size([20]) torch.Size([20])\n",
      "torch.Size([20]) torch.Size([20]) torch.Size([20])\n",
      "torch.Size([20]) torch.Size([20]) torch.Size([20])\n",
      "torch.Size([20]) torch.Size([20]) torch.Size([20])\n",
      "torch.Size([20]) torch.Size([20]) torch.Size([20])\n",
      "torch.Size([20]) torch.Size([20]) torch.Size([20])\n",
      "torch.Size([20]) torch.Size([20]) torch.Size([20])\n",
      "torch.Size([20]) torch.Size([20]) torch.Size([20])\n",
      "torch.Size([20]) torch.Size([20]) torch.Size([20])\n",
      "torch.Size([20]) torch.Size([20]) torch.Size([20])\n",
      "torch.Size([20]) torch.Size([20]) torch.Size([20])\n",
      "torch.Size([20]) torch.Size([20]) torch.Size([20])\n",
      "torch.Size([20]) torch.Size([20]) torch.Size([20])\n",
      "torch.Size([20]) torch.Size([20]) torch.Size([20])\n",
      "torch.Size([20]) torch.Size([20]) torch.Size([20])\n",
      "torch.Size([20]) torch.Size([20]) torch.Size([20])\n",
      "torch.Size([20]) torch.Size([20]) torch.Size([20])\n",
      "torch.Size([20]) torch.Size([20]) torch.Size([20])\n",
      "torch.Size([20]) torch.Size([20]) torch.Size([20])\n",
      "torch.Size([20]) torch.Size([20]) torch.Size([20])\n",
      "torch.Size([20]) torch.Size([20]) torch.Size([20])\n",
      "torch.Size([20]) torch.Size([20]) torch.Size([20])\n",
      "torch.Size([20]) torch.Size([20]) torch.Size([20])\n",
      "torch.Size([20]) torch.Size([20]) torch.Size([20])\n",
      "torch.Size([20]) torch.Size([20]) torch.Size([20])\n",
      "torch.Size([20]) torch.Size([20]) torch.Size([20])\n",
      "torch.Size([20]) torch.Size([20]) torch.Size([20])\n",
      "torch.Size([20]) torch.Size([20]) torch.Size([20])\n",
      "torch.Size([20]) torch.Size([20]) torch.Size([20])\n",
      "torch.Size([20]) torch.Size([20]) torch.Size([20])\n",
      "torch.Size([20]) torch.Size([20]) torch.Size([20])\n",
      "torch.Size([20]) torch.Size([20]) torch.Size([20])\n",
      "torch.Size([20]) torch.Size([20]) torch.Size([20])\n",
      "torch.Size([20]) torch.Size([20]) torch.Size([20])\n",
      "torch.Size([20]) torch.Size([20]) torch.Size([20])\n",
      "torch.Size([20]) torch.Size([20]) torch.Size([20])\n",
      "torch.Size([20]) torch.Size([20]) torch.Size([20])\n",
      "torch.Size([20]) torch.Size([20]) torch.Size([20])\n",
      "torch.Size([20]) torch.Size([20]) torch.Size([20])\n",
      "torch.Size([20]) torch.Size([20]) torch.Size([20])\n",
      "torch.Size([20]) torch.Size([20]) torch.Size([20])\n",
      "torch.Size([20]) torch.Size([20]) torch.Size([20])\n",
      "torch.Size([20]) torch.Size([20]) torch.Size([20])\n",
      "torch.Size([20]) torch.Size([20]) torch.Size([20])\n",
      "torch.Size([20]) torch.Size([20]) torch.Size([20])\n",
      "torch.Size([20]) torch.Size([20]) torch.Size([20])\n",
      "torch.Size([20]) torch.Size([20]) torch.Size([20])\n",
      "torch.Size([20]) torch.Size([20]) torch.Size([20])\n",
      "torch.Size([20]) torch.Size([20]) torch.Size([20])\n",
      "torch.Size([20]) torch.Size([20]) torch.Size([20])\n",
      "torch.Size([20]) torch.Size([20]) torch.Size([20])\n",
      "torch.Size([20]) torch.Size([20]) torch.Size([20])\n",
      "torch.Size([20]) torch.Size([20]) torch.Size([20])\n",
      "torch.Size([20]) torch.Size([20]) torch.Size([20])\n",
      "torch.Size([20]) torch.Size([20]) torch.Size([20])\n",
      "torch.Size([20]) torch.Size([20]) torch.Size([20])\n",
      "torch.Size([20]) torch.Size([20]) torch.Size([20])\n",
      "torch.Size([20]) torch.Size([20]) torch.Size([20])\n",
      "torch.Size([20]) torch.Size([20]) torch.Size([20])\n",
      "torch.Size([20]) torch.Size([20]) torch.Size([20])\n",
      "torch.Size([20]) torch.Size([20]) torch.Size([20])\n",
      "torch.Size([20]) torch.Size([20]) torch.Size([20])\n",
      "torch.Size([20]) torch.Size([20]) torch.Size([20])\n",
      "torch.Size([20]) torch.Size([20]) torch.Size([20])\n"
     ]
    }
   ],
   "source": [
    "cost = 0\n",
    "for time, snapshot in enumerate(train_dataset):\n",
    "    y_hat = model(snapshot.x, snapshot.edge_index, snapshot.edge_attr)\n",
    "    print(y_hat.reshape(-1).shape,\n",
    "          snapshot.y.reshape(-1).shape,\n",
    "          (y_hat.reshape(-1)-snapshot.y.reshape(-1)).shape)\n",
    "    cost = cost + torch.mean((y_hat-snapshot.y)**2)\n",
    "cost = cost / (time+1)\n",
    "cost.backward()\n",
    "optimizer.step()\n",
    "optimizer.zero_grad()"
   ]
  },
  {
   "cell_type": "markdown",
   "id": "158f396c-374d-4a64-a36b-64a8ada5ee08",
   "metadata": {},
   "source": [
    "##  WindmillOutputSmallDatasetLoader"
   ]
  },
  {
   "cell_type": "code",
   "execution_count": 57,
   "id": "b4ddebd5-72d9-40dd-9f5d-eae43d9d45e3",
   "metadata": {},
   "outputs": [],
   "source": [
    "import ssl\n",
    "ssl._create_default_https_context = ssl._create_unverified_context"
   ]
  },
  {
   "cell_type": "code",
   "execution_count": 59,
   "id": "127e62f5-7a6d-41e0-a716-faa156afe6db",
   "metadata": {},
   "outputs": [],
   "source": [
    "from torch_geometric_temporal import WindmillOutputSmallDatasetLoader\n",
    "from torch_geometric_temporal import temporal_signal_split\n",
    "\n",
    "loader = WindmillOutputSmallDatasetLoader()\n",
    "dataset = loader.get_dataset()\n",
    "\n",
    "train_dataset, test_dataset = temporal_signal_split(dataset, train_ratio=0.2)"
   ]
  },
  {
   "cell_type": "code",
   "execution_count": 69,
   "id": "501e643d-22f1-40b0-b409-5b2fa208d614",
   "metadata": {},
   "outputs": [],
   "source": [
    "train_dataset, test_dataset = temporal_signal_split(dataset, train_ratio=0.2)"
   ]
  },
  {
   "cell_type": "code",
   "execution_count": 63,
   "id": "d5db23e8-2deb-453e-9428-bedf42d48419",
   "metadata": {},
   "outputs": [],
   "source": [
    "import torch\n",
    "import torch.nn.functional as F\n",
    "from torch_geometric_temporal.nn.recurrent import DCRNN\n",
    "\n",
    "class RecurrentGCN(torch.nn.Module):\n",
    "    def __init__(self, node_features):\n",
    "        super(RecurrentGCN, self).__init__()\n",
    "        self.recurrent = DCRNN(node_features, 32, 1)\n",
    "        self.linear = torch.nn.Linear(32, 1)\n",
    "\n",
    "    def forward(self, x, edge_index, edge_weight):\n",
    "        h = self.recurrent(x, edge_index, edge_weight)\n",
    "        h = F.relu(h)\n",
    "        h = self.linear(h)\n",
    "        return h"
   ]
  },
  {
   "cell_type": "code",
   "execution_count": 73,
   "id": "ee9d0704-2921-49f3-bc29-9bc3f34a3c7f",
   "metadata": {},
   "outputs": [
    {
     "data": {
      "text/plain": [
       "RecurrentGCN(\n",
       "  (recurrent): DCRNN(\n",
       "    (conv_x_z): DConv(40, 32)\n",
       "    (conv_x_r): DConv(40, 32)\n",
       "    (conv_x_h): DConv(40, 32)\n",
       "  )\n",
       "  (linear): Linear(in_features=32, out_features=1, bias=True)\n",
       ")"
      ]
     },
     "execution_count": 73,
     "metadata": {},
     "output_type": "execute_result"
    }
   ],
   "source": [
    "from tqdm import tqdm\n",
    "\n",
    "model = RecurrentGCN(node_features = 8)\n",
    "\n",
    "optimizer = torch.optim.Adam(model.parameters(), lr=0.01)\n",
    "\n",
    "model.train()\n",
    "\n"
   ]
  },
  {
   "cell_type": "markdown",
   "id": "744f8b37-4ec9-4ae1-ae01-8d760818a651",
   "metadata": {},
   "source": [
    "- loss 계산시 dimension 문제가 있었음. 우리는 $y_1$ 과 $\\hat{y}_1$을 잘 맞추면되는 것이지 $y_1$과 $\\hat{y}_2$를 잘 맞출필요는 없다.."
   ]
  },
  {
   "cell_type": "code",
   "execution_count": 74,
   "id": "230aaf06-a9d5-4d7a-90c6-fa13ca5c5b67",
   "metadata": {},
   "outputs": [
    {
     "data": {
      "text/plain": [
       "(3492, 11, 8)"
      ]
     },
     "execution_count": 74,
     "metadata": {},
     "output_type": "execute_result"
    }
   ],
   "source": [
    "np.array(train_dataset.features).shape # 11: number of nodes, 8: lags"
   ]
  },
  {
   "cell_type": "code",
   "execution_count": 76,
   "id": "d4565ba7-14e1-4a8f-878b-dcdfe6f38fb6",
   "metadata": {},
   "outputs": [
    {
     "name": "stdout",
     "output_type": "stream",
     "text": [
      "torch.Size([11, 1]) torch.Size([11]) torch.Size([11, 11]) torch.Size([])\n",
      "torch.Size([11, 1]) torch.Size([11]) torch.Size([11, 11]) torch.Size([])\n",
      "torch.Size([11, 1]) torch.Size([11]) torch.Size([11, 11]) torch.Size([])\n",
      "torch.Size([11, 1]) torch.Size([11]) torch.Size([11, 11]) torch.Size([])\n",
      "torch.Size([11, 1]) torch.Size([11]) torch.Size([11, 11]) torch.Size([])\n",
      "torch.Size([11, 1]) torch.Size([11]) torch.Size([11, 11]) torch.Size([])\n",
      "torch.Size([11, 1]) torch.Size([11]) torch.Size([11, 11]) torch.Size([])\n",
      "torch.Size([11, 1]) torch.Size([11]) torch.Size([11, 11]) torch.Size([])\n",
      "torch.Size([11, 1]) torch.Size([11]) torch.Size([11, 11]) torch.Size([])\n",
      "torch.Size([11, 1]) torch.Size([11]) torch.Size([11, 11]) torch.Size([])\n"
     ]
    }
   ],
   "source": [
    "# 잘못된 loss\n",
    "cost = 0\n",
    "for time, snapshot in enumerate(train_dataset[:10]):\n",
    "    y_hat = model(snapshot.x, snapshot.edge_index, snapshot.edge_attr)\n",
    "    print(y_hat.shape,\n",
    "          snapshot.y.shape,\n",
    "          (y_hat-snapshot.y).shape,\n",
    "         torch.mean((y_hat-snapshot.y)).shape)\n",
    "    cost = cost + torch.mean((y_hat-snapshot.y)**2)\n",
    "cost = cost / (time+1)\n",
    "cost.backward()\n",
    "optimizer.step()\n",
    "optimizer.zero_grad()"
   ]
  },
  {
   "cell_type": "code",
   "execution_count": 80,
   "id": "32b07d18-a9fd-49de-a92d-296e053d4550",
   "metadata": {},
   "outputs": [
    {
     "data": {
      "text/plain": [
       "(3492, 11, 8)"
      ]
     },
     "execution_count": 80,
     "metadata": {},
     "output_type": "execute_result"
    }
   ],
   "source": [
    "np.array(train_dataset.features).shape"
   ]
  },
  {
   "cell_type": "code",
   "execution_count": 84,
   "id": "3a4424c8-7071-4fff-98a6-4de95bbd2232",
   "metadata": {},
   "outputs": [
    {
     "name": "stdout",
     "output_type": "stream",
     "text": [
      "number of nodes: 11\n",
      "torch.Size([11, 1]) torch.Size([1, 11]) torch.Size([11, 11]) torch.Size([])\n",
      "number of nodes: 11\n",
      "torch.Size([11, 1]) torch.Size([1, 11]) torch.Size([11, 11]) torch.Size([])\n",
      "number of nodes: 11\n",
      "torch.Size([11, 1]) torch.Size([1, 11]) torch.Size([11, 11]) torch.Size([])\n",
      "number of nodes: 11\n",
      "torch.Size([11, 1]) torch.Size([1, 11]) torch.Size([11, 11]) torch.Size([])\n",
      "number of nodes: 11\n",
      "torch.Size([11, 1]) torch.Size([1, 11]) torch.Size([11, 11]) torch.Size([])\n",
      "number of nodes: 11\n",
      "torch.Size([11, 1]) torch.Size([1, 11]) torch.Size([11, 11]) torch.Size([])\n",
      "number of nodes: 11\n",
      "torch.Size([11, 1]) torch.Size([1, 11]) torch.Size([11, 11]) torch.Size([])\n",
      "number of nodes: 11\n",
      "torch.Size([11, 1]) torch.Size([1, 11]) torch.Size([11, 11]) torch.Size([])\n",
      "number of nodes: 11\n",
      "torch.Size([11, 1]) torch.Size([1, 11]) torch.Size([11, 11]) torch.Size([])\n",
      "number of nodes: 11\n",
      "torch.Size([11, 1]) torch.Size([1, 11]) torch.Size([11, 11]) torch.Size([])\n"
     ]
    }
   ],
   "source": [
    "# 잘못된 loss\n",
    "cost = 0\n",
    "for time, snapshot in enumerate(train_dataset[:10]):\n",
    "    y_hat = model(snapshot.x, snapshot.edge_index, snapshot.edge_attr)\n",
    "    print('number of nodes:', y_hat.shape[0])\n",
    "    print(y_hat.reshape(11,1).shape,\n",
    "          snapshot.y.reshape(1,11).shape,\n",
    "          (y_hat-snapshot.y).shape,\n",
    "         torch.mean((y_hat.reshape(11,1)-snapshot.y.reshape(1,11))).shape)\n",
    "    cost = cost + torch.mean((y_hat-snapshot.y)**2)\n",
    "cost = cost / (time+1)\n",
    "cost.backward()\n",
    "optimizer.step()\n",
    "optimizer.zero_grad()"
   ]
  },
  {
   "cell_type": "code",
   "execution_count": null,
   "id": "b9195b7e-06c9-482e-89cc-30fa2fc06420",
   "metadata": {},
   "outputs": [],
   "source": []
  }
 ],
 "metadata": {
  "kernelspec": {
   "display_name": "Python 3",
   "language": "python",
   "name": "python3"
  },
  "language_info": {
   "codemirror_mode": {
    "name": "ipython",
    "version": 3
   },
   "file_extension": ".py",
   "mimetype": "text/x-python",
   "name": "python",
   "nbconvert_exporter": "python",
   "pygments_lexer": "ipython3",
   "version": "3.8.16"
  }
 },
 "nbformat": 4,
 "nbformat_minor": 5
}
