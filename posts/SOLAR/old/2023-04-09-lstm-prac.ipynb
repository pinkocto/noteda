{
 "cells": [
  {
   "cell_type": "raw",
   "id": "f0e58958-fe18-4096-bb6d-3acd6870b496",
   "metadata": {},
   "source": [
    "---\n",
    "title: \"LSTM for Time Series Prediction (연습)\"\n",
    "author: \"JiyunLim\"\n",
    "date: \"04/10/2023\"\n",
    "categories:\n",
    "  - SOLAR\n",
    "  - Model\n",
    "---"
   ]
  },
  {
   "cell_type": "markdown",
   "id": "6151139c-a10c-49bb-91db-5b4e7df7d825",
   "metadata": {},
   "source": [
    "# LSTM for Time Series Prediction\n",
    "> 연습용, LSTM을 사용하여 시계열 예측 신경망 구축"
   ]
  },
  {
   "cell_type": "markdown",
   "id": "e3ca8d41-d2ed-4b9a-8583-8942438c5220",
   "metadata": {},
   "source": [
    "- lookback이 의미하는바를 정확히 모르겠음."
   ]
  },
  {
   "cell_type": "markdown",
   "id": "c4c2bd4c-e06e-4cee-b94e-3cb80a3b37ac",
   "metadata": {},
   "source": [
    "Let’s see how LSTM can be used to build a time series prediction neural network with an example.\n",
    "\n",
    "The problem you will look at in this post is the international airline passengers prediction problem. This is a problem where, given a year and a month, the task is to predict the number of international airline passengers in units of 1,000. The data ranges from January 1949 to December 1960, or 12 years, with 144 observations.\n",
    "\n",
    "It is a regression problem. That is, given the number of passengers (in unit of 1,000) the recent months, what is the number of passengers the next month. The dataset has only one feature: The number of passengers."
   ]
  },
  {
   "cell_type": "markdown",
   "id": "1a20fd19-6a7e-41c5-9d2c-8b8324b68bd6",
   "metadata": {},
   "source": [
    "- 국제 항공사 승객 수(1000명 단위)를 예측하는 문제\n",
    "- 데이터 범위는 1949년 1월부터 1960년 12월까지이며 1달단위로 관측된 데이터이며, 관측치는 $144(12\\times 12)$개"
   ]
  },
  {
   "cell_type": "markdown",
   "id": "cbc8dc8f-7263-42f0-94c4-b3a13e23dfe4",
   "metadata": {},
   "source": [
    "## import "
   ]
  },
  {
   "cell_type": "code",
   "execution_count": 4,
   "id": "704d1df3-f0d8-4827-860f-32056eb55583",
   "metadata": {},
   "outputs": [],
   "source": [
    "import matplotlib.pyplot as plt\n",
    "import pandas as pd"
   ]
  },
  {
   "cell_type": "code",
   "execution_count": 5,
   "id": "ba24fcbe-be4e-4f36-882a-cc2d7d0f8834",
   "metadata": {},
   "outputs": [
    {
     "data": {
      "text/html": [
       "<div>\n",
       "<style scoped>\n",
       "    .dataframe tbody tr th:only-of-type {\n",
       "        vertical-align: middle;\n",
       "    }\n",
       "\n",
       "    .dataframe tbody tr th {\n",
       "        vertical-align: top;\n",
       "    }\n",
       "\n",
       "    .dataframe thead th {\n",
       "        text-align: right;\n",
       "    }\n",
       "</style>\n",
       "<table border=\"1\" class=\"dataframe\">\n",
       "  <thead>\n",
       "    <tr style=\"text-align: right;\">\n",
       "      <th></th>\n",
       "      <th>Month</th>\n",
       "      <th>Passengers</th>\n",
       "    </tr>\n",
       "  </thead>\n",
       "  <tbody>\n",
       "    <tr>\n",
       "      <th>0</th>\n",
       "      <td>1949-01</td>\n",
       "      <td>112</td>\n",
       "    </tr>\n",
       "    <tr>\n",
       "      <th>1</th>\n",
       "      <td>1949-02</td>\n",
       "      <td>118</td>\n",
       "    </tr>\n",
       "    <tr>\n",
       "      <th>2</th>\n",
       "      <td>1949-03</td>\n",
       "      <td>132</td>\n",
       "    </tr>\n",
       "    <tr>\n",
       "      <th>3</th>\n",
       "      <td>1949-04</td>\n",
       "      <td>129</td>\n",
       "    </tr>\n",
       "    <tr>\n",
       "      <th>4</th>\n",
       "      <td>1949-05</td>\n",
       "      <td>121</td>\n",
       "    </tr>\n",
       "  </tbody>\n",
       "</table>\n",
       "</div>"
      ],
      "text/plain": [
       "     Month  Passengers\n",
       "0  1949-01         112\n",
       "1  1949-02         118\n",
       "2  1949-03         132\n",
       "3  1949-04         129\n",
       "4  1949-05         121"
      ]
     },
     "execution_count": 5,
     "metadata": {},
     "output_type": "execute_result"
    }
   ],
   "source": [
    "df = pd.read_csv('https://raw.githubusercontent.com/jbrownlee/Datasets/master/airline-passengers.csv')\n",
    "df.head()"
   ]
  },
  {
   "cell_type": "code",
   "execution_count": 11,
   "id": "2c242cdb-f495-4297-8b6a-b224892cfb1c",
   "metadata": {},
   "outputs": [
    {
     "name": "stdout",
     "output_type": "stream",
     "text": [
      "<class 'pandas.core.frame.DataFrame'>\n",
      "RangeIndex: 144 entries, 0 to 143\n",
      "Data columns (total 2 columns):\n",
      " #   Column      Non-Null Count  Dtype \n",
      "---  ------      --------------  ----- \n",
      " 0   Month       144 non-null    object\n",
      " 1   Passengers  144 non-null    int64 \n",
      "dtypes: int64(1), object(1)\n",
      "memory usage: 2.4+ KB\n"
     ]
    }
   ],
   "source": [
    "df.info()"
   ]
  },
  {
   "cell_type": "code",
   "execution_count": 12,
   "id": "5b85d106-5e6d-43b5-819a-3416d0f4d8ff",
   "metadata": {},
   "outputs": [
    {
     "data": {
      "image/png": "[encoded data removed]",
      "text/plain": [
       "<Figure size 432x288 with 1 Axes>"
      ]
     },
     "metadata": {
      "needs_background": "light"
     },
     "output_type": "display_data"
    }
   ],
   "source": [
    "timeseries = df[['Passengers']].values.astype('float32')\n",
    "\n",
    "plt.plot(timeseries)\n",
    "plt.show()"
   ]
  },
  {
   "cell_type": "markdown",
   "id": "85c2294d-4780-429c-9042-d16b6cd214e0",
   "metadata": {},
   "source": [
    "This time series has 144 time steps. You can see from the plot that there is an upward trend. There are also some periodicity in the dataset that corresponds to the summer holiday period in the northern hemisphere. Usually a time series should be “detrended” to remove the linear trend component and normalized before processing. For simplicity, these are skipped in this projectc"
   ]
  },
  {
   "cell_type": "markdown",
   "id": "81925f6f-4369-4395-a832-7b07420c7106",
   "metadata": {},
   "source": [
    "- 증가하는 추세를 보이지만 여기서는 따로 처리하지 않았음."
   ]
  },
  {
   "cell_type": "markdown",
   "id": "0768addc-cf4e-4618-8fc9-cf479e3bf8a1",
   "metadata": {},
   "source": [
    "## train test split"
   ]
  },
  {
   "cell_type": "code",
   "execution_count": 13,
   "id": "ae67d9e3-edb0-4fd7-82cd-a2364e174a01",
   "metadata": {},
   "outputs": [
    {
     "data": {
      "text/plain": [
       "(96, 48)"
      ]
     },
     "execution_count": 13,
     "metadata": {},
     "output_type": "execute_result"
    }
   ],
   "source": [
    "# train-test split for time series\n",
    "train_size = int(len(timeseries) * 0.67) # train ratio = 67%\n",
    "test_size = len(timeseries) - train_size\n",
    "train_size, test_size"
   ]
  },
  {
   "cell_type": "code",
   "execution_count": 14,
   "id": "99d98b3f-88bc-4562-badf-03d035a0b531",
   "metadata": {},
   "outputs": [],
   "source": [
    "train, test = timeseries[:train_size], timeseries[train_size:]"
   ]
  },
  {
   "cell_type": "code",
   "execution_count": 16,
   "id": "b38eb00a-93e9-4296-8f43-d49bc9dc1136",
   "metadata": {},
   "outputs": [
    {
     "data": {
      "text/plain": [
       "((96, 1), (48, 1))"
      ]
     },
     "execution_count": 16,
     "metadata": {},
     "output_type": "execute_result"
    }
   ],
   "source": [
    "train.shape, test.shape"
   ]
  },
  {
   "cell_type": "code",
   "execution_count": 21,
   "id": "f4cf15b0-3c13-4929-9cf1-22537a12372f",
   "metadata": {},
   "outputs": [],
   "source": [
    "import torch\n",
    "\n",
    "def create_dataset(dataset, lookback):\n",
    "    \"\"\"Transform a time series into a prediction dataset\n",
    "    \n",
    "    Args:\n",
    "        dataset: A numpy array of time series, first dimension is the time steps\n",
    "        lookback: Size of window for prediction\n",
    "    \"\"\"\n",
    "    X, y = [], []\n",
    "    for i in range(len(dataset)-lookback):\n",
    "        feature = dataset[i:i+lookback]\n",
    "        target = dataset[i+1:i+lookback+1]\n",
    "        X.append(feature)\n",
    "        y.append(target)\n",
    "    return torch.tensor(X), torch.tensor(y)"
   ]
  },
  {
   "cell_type": "markdown",
   "id": "e3570a66-ea11-4cce-9ad2-3710487daf5c",
   "metadata": {},
   "source": [
    "This function is designed to apply windows on the time series. It is assumed to predict for one time step into the immediate future. It is designed to convert a time series into a tensor of dimensions (window sample, time steps, features). A time series of \n",
    " time steps can produce roughly \n",
    " windows (because a window can start from any time step as long as the window does not go beyond the boundary of the time series). Within one window, there are multiple consecutive time steps of values. In each time step, there can be multiple features. In this dataset, there is only one."
   ]
  },
  {
   "cell_type": "markdown",
   "id": "53f52b93-8e42-4e71-8799-4cc83a7c778a",
   "metadata": {},
   "source": [
    "## lookback=1"
   ]
  },
  {
   "cell_type": "code",
   "execution_count": 76,
   "id": "1811618d-13f5-496c-87f1-774bf923486a",
   "metadata": {},
   "outputs": [
    {
     "name": "stdout",
     "output_type": "stream",
     "text": [
      "torch.Size([95, 1, 1]) torch.Size([95, 1, 1])\n",
      "torch.Size([47, 1, 1]) torch.Size([47, 1, 1])\n"
     ]
    }
   ],
   "source": [
    "lookback = 1\n",
    "X_train, y_train = create_dataset(train, lookback=lookback)\n",
    "X_test, y_test = create_dataset(test, lookback=lookback)\n",
    "print(X_train.shape, y_train.shape)\n",
    "print(X_test.shape, y_test.shape)"
   ]
  },
  {
   "cell_type": "code",
   "execution_count": 90,
   "id": "92ba0f1d-46d5-4198-8bd5-65dcb3f48aaf",
   "metadata": {},
   "outputs": [
    {
     "data": {
      "text/plain": [
       "tensor([[[112.]],\n",
       "\n",
       "        [[118.]],\n",
       "\n",
       "        [[132.]],\n",
       "\n",
       "        [[129.]],\n",
       "\n",
       "        [[121.]]])"
      ]
     },
     "execution_count": 90,
     "metadata": {},
     "output_type": "execute_result"
    }
   ],
   "source": [
    "X_train[:5]"
   ]
  },
  {
   "cell_type": "code",
   "execution_count": 89,
   "id": "cf941333-efdd-4d8f-8125-c8184780b3bc",
   "metadata": {},
   "outputs": [
    {
     "data": {
      "text/plain": [
       "tensor([[[118.]],\n",
       "\n",
       "        [[132.]],\n",
       "\n",
       "        [[129.]],\n",
       "\n",
       "        [[121.]],\n",
       "\n",
       "        [[135.]]])"
      ]
     },
     "execution_count": 89,
     "metadata": {},
     "output_type": "execute_result"
    }
   ],
   "source": [
    "y_train[:5]"
   ]
  },
  {
   "cell_type": "markdown",
   "id": "2ed740e6-42ac-4318-883a-7987f5b75e6b",
   "metadata": {},
   "source": [
    "Now you can build the LSTM model to predict the time series. With lookback=1, it is quite surely that the accuracy would not be good for too little clues to predict. But this is a good example to demonstrate the structure of the LSTM model."
   ]
  },
  {
   "cell_type": "markdown",
   "id": "b9d0e0cd-1fbf-4269-8d97-4836944effa3",
   "metadata": {},
   "source": [
    "## Model"
   ]
  },
  {
   "cell_type": "markdown",
   "id": "b4b24786-b0b7-4376-9d95-ce2c78d0c885",
   "metadata": {},
   "source": [
    "The model is created as a class, in which a LSTM layer and a fully-connected layer is used."
   ]
  },
  {
   "cell_type": "code",
   "execution_count": 43,
   "id": "847fddc0-bcb4-4126-a0fa-49685ee08ba7",
   "metadata": {},
   "outputs": [],
   "source": [
    "import torch.nn as nn\n",
    " \n",
    "class AirModel(nn.Module):\n",
    "    def __init__(self):\n",
    "        super().__init__()\n",
    "        self.lstm = nn.LSTM(input_size=1, hidden_size=50, num_layers=1, batch_first=True)\n",
    "        self.linear = nn.Linear(50, 1)\n",
    "    def forward(self, x):\n",
    "        x, _ = self.lstm(x)\n",
    "        x = self.linear(x)\n",
    "        return x"
   ]
  },
  {
   "cell_type": "markdown",
   "id": "0daa175c-c6e0-497e-8042-66bfb9618daf",
   "metadata": {},
   "source": [
    "The output of nn.LSTM() is a tuple. The first element is the generated hidden states, one for each time step of the input. The second element is the LSTM cell’s memory and hidden states, which is not used here."
   ]
  },
  {
   "cell_type": "markdown",
   "id": "cd7ffb62-4db1-46a8-98ae-bd3352350d73",
   "metadata": {},
   "source": [
    "## Training and Verifying Your LSTM Network"
   ]
  },
  {
   "cell_type": "markdown",
   "id": "9199b66e-15b0-4984-afb4-29b2d635a082",
   "metadata": {},
   "source": [
    "Because it is a regression problem, MSE is chosen as the loss function, which is to be minimized by Adam optimizer. In the code below, the PyTorch tensors are combined into a dataset using `torch.utils.data.TensorDataset()` and batch for training is provided by a `DataLoader`. The model performance is evaluated once per 100 epochs, on both the trainning set and the test set:"
   ]
  },
  {
   "cell_type": "code",
   "execution_count": 57,
   "id": "0f618ef2-0f1f-4044-a206-8555f11aad09",
   "metadata": {},
   "outputs": [
    {
     "name": "stdout",
     "output_type": "stream",
     "text": [
      "Epoch 0: train RMSE 225.9365, test RMSE 422.3676\n",
      "Epoch 100: train RMSE 184.9790, test RMSE 379.4668\n",
      "Epoch 200: train RMSE 152.4027, test RMSE 344.3236\n",
      "Epoch 300: train RMSE 124.2188, test RMSE 312.2975\n",
      "Epoch 400: train RMSE 101.0204, test RMSE 283.2189\n",
      "Epoch 500: train RMSE 82.6843, test RMSE 257.0794\n",
      "Epoch 600: train RMSE 66.4356, test RMSE 231.9688\n",
      "Epoch 700: train RMSE 54.0870, test RMSE 208.9810\n",
      "Epoch 800: train RMSE 44.0830, test RMSE 188.2280\n",
      "Epoch 900: train RMSE 37.0532, test RMSE 169.9665\n",
      "Epoch 1000: train RMSE 32.5043, test RMSE 154.2343\n",
      "Epoch 1100: train RMSE 28.9322, test RMSE 141.3780\n",
      "Epoch 1200: train RMSE 27.4202, test RMSE 131.0028\n",
      "Epoch 1300: train RMSE 25.8251, test RMSE 122.6009\n",
      "Epoch 1400: train RMSE 25.7696, test RMSE 116.9653\n",
      "Epoch 1500: train RMSE 24.2167, test RMSE 111.3310\n",
      "Epoch 1600: train RMSE 24.6531, test RMSE 106.7048\n",
      "Epoch 1700: train RMSE 24.3270, test RMSE 103.3886\n",
      "Epoch 1800: train RMSE 23.5308, test RMSE 101.1581\n",
      "Epoch 1900: train RMSE 23.3630, test RMSE 99.4288\n"
     ]
    }
   ],
   "source": [
    "import numpy as np\n",
    "import torch.optim as optim\n",
    "import torch.utils.data as data\n",
    " \n",
    "model = AirModel()\n",
    "optimizer = optim.Adam(model.parameters())\n",
    "loss_fn = nn.MSELoss()\n",
    "loader = data.DataLoader(data.TensorDataset(X_train, y_train), shuffle=True, batch_size=8)\n",
    " \n",
    "n_epochs = 2000\n",
    "for epoch in range(n_epochs):\n",
    "    model.train()\n",
    "    for X_batch, y_batch in loader:\n",
    "        y_pred = model(X_batch)\n",
    "        loss = loss_fn(y_pred, y_batch)\n",
    "        optimizer.zero_grad()\n",
    "        loss.backward()\n",
    "        optimizer.step()\n",
    "    # Validation\n",
    "    if epoch % 100 != 0:\n",
    "        continue\n",
    "    model.eval()\n",
    "    with torch.no_grad():\n",
    "        y_pred = model(X_train)\n",
    "        train_rmse = np.sqrt(loss_fn(y_pred, y_train))\n",
    "        y_pred = model(X_test)\n",
    "        test_rmse = np.sqrt(loss_fn(y_pred, y_test))\n",
    "    print(\"Epoch %d: train RMSE %.4f, test RMSE %.4f\" % (epoch, train_rmse, test_rmse))"
   ]
  },
  {
   "cell_type": "markdown",
   "id": "f7f3d45b-7bc1-45e6-842d-42035d5306ae",
   "metadata": {},
   "source": [
    "As the dataset is small, the model should be trained for long enough to learn about the pattern. Over these 2000 epochs trained, you should see the RMSE on both training set and test set decreasing:"
   ]
  },
  {
   "cell_type": "markdown",
   "id": "74148ae0-e72c-439d-a846-f45895e9c3d5",
   "metadata": {},
   "source": [
    "It is expected to see the RMSE of test set is an order of magnitude larger. The RMSE of 100 means the prediction and the actual target would be in average off by 100 in value (i.e., 100,000 passengers in this dataset)."
   ]
  },
  {
   "cell_type": "code",
   "execution_count": 65,
   "id": "86c46866-038e-46c4-93d4-52ed37c615db",
   "metadata": {},
   "outputs": [],
   "source": [
    "import matplotlib.pyplot as plt\n",
    "plt.rcParams['font.family'] = 'NanumGothic'"
   ]
  },
  {
   "cell_type": "code",
   "execution_count": 67,
   "id": "68394bd1-8c6c-4af9-9de5-9dd652f283ef",
   "metadata": {},
   "outputs": [
    {
     "data": {
      "image/png": "[encoded data removed]",
      "text/plain": [
       "<Figure size 432x288 with 1 Axes>"
      ]
     },
     "metadata": {
      "needs_background": "light"
     },
     "output_type": "display_data"
    }
   ],
   "source": [
    "with torch.no_grad():\n",
    "    # shift train predictions for plotting\n",
    "    train_plot = np.ones_like(timeseries) * np.nan\n",
    "    y_pred = model(X_train)\n",
    "    y_pred = y_pred[:, -1, :]\n",
    "    train_plot[lookback:train_size] = model(X_train)[:, -1, :]\n",
    "    # shift test predictions for plotting\n",
    "    test_plot = np.ones_like(timeseries) * np.nan\n",
    "    test_plot[train_size+lookback:len(timeseries)] = model(X_test)[:, -1, :]\n",
    "# plot\n",
    "plt.plot(timeseries, c='b', label = '실제관측치')\n",
    "plt.plot(train_plot, c='r', label = 'train')\n",
    "plt.plot(test_plot, c='g', label = 'test')\n",
    "plt.legend()\n",
    "plt.show()"
   ]
  },
  {
   "cell_type": "markdown",
   "id": "e41c170b-68f8-4225-93e3-73e74a7056d8",
   "metadata": {},
   "source": [
    "The training set is plotted in red while the test set is plotted in green. The blue curve is what the actual data looks like. You can see that the model can fit well to the training set but not very well on the test set."
   ]
  },
  {
   "cell_type": "markdown",
   "id": "422c53e1-0a7c-48c8-b12d-80a2f9a348fe",
   "metadata": {},
   "source": [
    "- training set 에 대해서는 잘 맞추는 것 같은데 test set에 대해서는 잘 맞추지 못한다."
   ]
  },
  {
   "cell_type": "markdown",
   "id": "2a1bc560-eb85-40d5-b16c-db336fc1660b",
   "metadata": {},
   "source": [
    "Tying together, below is the complete code, except the parameter lookback is set to 4 this time:"
   ]
  },
  {
   "cell_type": "markdown",
   "id": "c3195e17-add0-4607-a487-d137afeac4b0",
   "metadata": {},
   "source": [
    "## lookback=4"
   ]
  },
  {
   "cell_type": "code",
   "execution_count": 68,
   "id": "ab3cfa3e-bc37-4390-aa10-be9f94551527",
   "metadata": {},
   "outputs": [
    {
     "name": "stdout",
     "output_type": "stream",
     "text": [
      "Epoch 0: train RMSE 225.5574, test RMSE 424.7804\n",
      "Epoch 100: train RMSE 177.5963, test RMSE 374.4650\n",
      "Epoch 200: train RMSE 138.9036, test RMSE 332.0411\n",
      "Epoch 300: train RMSE 108.2241, test RMSE 295.1660\n",
      "Epoch 400: train RMSE 86.0366, test RMSE 263.5869\n",
      "Epoch 500: train RMSE 65.9311, test RMSE 232.4372\n",
      "Epoch 600: train RMSE 51.7861, test RMSE 204.3946\n",
      "Epoch 700: train RMSE 41.5776, test RMSE 180.0017\n",
      "Epoch 800: train RMSE 34.7810, test RMSE 159.1152\n",
      "Epoch 900: train RMSE 29.9309, test RMSE 141.1872\n",
      "Epoch 1000: train RMSE 26.6003, test RMSE 126.3749\n",
      "Epoch 1100: train RMSE 24.6251, test RMSE 114.9184\n",
      "Epoch 1200: train RMSE 23.2474, test RMSE 105.3578\n",
      "Epoch 1300: train RMSE 22.2368, test RMSE 98.2287\n",
      "Epoch 1400: train RMSE 21.5524, test RMSE 92.6251\n",
      "Epoch 1500: train RMSE 21.1995, test RMSE 87.6587\n",
      "Epoch 1600: train RMSE 20.5447, test RMSE 84.6245\n",
      "Epoch 1700: train RMSE 20.1870, test RMSE 81.5615\n",
      "Epoch 1800: train RMSE 20.0715, test RMSE 79.2392\n",
      "Epoch 1900: train RMSE 19.9252, test RMSE 78.4828\n"
     ]
    }
   ],
   "source": [
    "import matplotlib.pyplot as plt\n",
    "import numpy as np\n",
    "import pandas as pd\n",
    "import torch\n",
    "import torch.nn as nn\n",
    "import torch.optim as optim\n",
    "import torch.utils.data as data\n",
    " \n",
    "df = pd.read_csv('https://raw.githubusercontent.com/jbrownlee/Datasets/master/airline-passengers.csv')\n",
    "timeseries = df[[\"Passengers\"]].values.astype('float32')\n",
    " \n",
    "# train-test split for time series\n",
    "train_size = int(len(timeseries) * 0.67)\n",
    "test_size = len(timeseries) - train_size\n",
    "train, test = timeseries[:train_size], timeseries[train_size:]\n",
    " \n",
    "def create_dataset(dataset, lookback):\n",
    "    \"\"\"Transform a time series into a prediction dataset\n",
    "    \n",
    "    Args:\n",
    "        dataset: A numpy array of time series, first dimension is the time steps\n",
    "        lookback: Size of window for prediction\n",
    "    \"\"\"\n",
    "    X, y = [], []\n",
    "    for i in range(len(dataset)-lookback):\n",
    "        feature = dataset[i:i+lookback]\n",
    "        target = dataset[i+1:i+lookback+1]\n",
    "        X.append(feature)\n",
    "        y.append(target)\n",
    "    return torch.tensor(X), torch.tensor(y)\n",
    " \n",
    "## 이번에는 lookback을 4로 놓을 것.    \n",
    "lookback = 4\n",
    "X_train, y_train = create_dataset(train, lookback=lookback)\n",
    "X_test, y_test = create_dataset(test, lookback=lookback)\n",
    " \n",
    "class AirModel(nn.Module):\n",
    "    def __init__(self):\n",
    "        super().__init__()\n",
    "        self.lstm = nn.LSTM(input_size=1, hidden_size=50, num_layers=1, batch_first=True)\n",
    "        self.linear = nn.Linear(50, 1)\n",
    "    def forward(self, x):\n",
    "        x, _ = self.lstm(x)\n",
    "        x = self.linear(x)\n",
    "        return x\n",
    " \n",
    "model = AirModel()\n",
    "optimizer = optim.Adam(model.parameters())\n",
    "loss_fn = nn.MSELoss()\n",
    "loader = data.DataLoader(data.TensorDataset(X_train, y_train), shuffle=True, batch_size=8) # shuffle: 샘플을 섞을지 시간 순서대로 추출할지 결정\n",
    " \n",
    "n_epochs = 2000\n",
    "for epoch in range(n_epochs):\n",
    "    model.train()\n",
    "    for X_batch, y_batch in loader:\n",
    "        y_pred = model(X_batch)\n",
    "        loss = loss_fn(y_pred, y_batch)\n",
    "        optimizer.zero_grad()\n",
    "        loss.backward()\n",
    "        optimizer.step()\n",
    "    # Validation\n",
    "    if epoch % 100 != 0:\n",
    "        continue\n",
    "    model.eval()\n",
    "    with torch.no_grad():\n",
    "        y_pred = model(X_train)\n",
    "        train_rmse = np.sqrt(loss_fn(y_pred, y_train))\n",
    "        y_pred = model(X_test)\n",
    "        test_rmse = np.sqrt(loss_fn(y_pred, y_test))\n",
    "    print(\"Epoch %d: train RMSE %.4f, test RMSE %.4f\" % (epoch, train_rmse, test_rmse))\n",
    " \n",
    "with torch.no_grad():\n",
    "    # shift train predictions for plotting\n",
    "    train_plot = np.ones_like(timeseries) * np.nan\n",
    "    y_pred = model(X_train)\n",
    "    y_pred = y_pred[:, -1, :]\n",
    "    train_plot[lookback:train_size] = model(X_train)[:, -1, :]\n",
    "    # shift test predictions for plotting\n",
    "    test_plot = np.ones_like(timeseries) * np.nan\n",
    "    test_plot[train_size+lookback:len(timeseries)] = model(X_test)[:, -1, :]"
   ]
  },
  {
   "cell_type": "code",
   "execution_count": 71,
   "id": "23f050b1-a687-44ae-a007-fe2cc5fdb1dd",
   "metadata": {},
   "outputs": [
    {
     "data": {
      "image/png": "[encoded data removed]",
      "text/plain": [
       "<Figure size 432x288 with 1 Axes>"
      ]
     },
     "metadata": {
      "needs_background": "light"
     },
     "output_type": "display_data"
    }
   ],
   "source": [
    "# plot\n",
    "plt.plot(timeseries, label='실제관측치')\n",
    "plt.plot(train_plot, c='r', label='train')\n",
    "plt.plot(test_plot, c='g', label='test')\n",
    "plt.legend()\n",
    "plt.show()"
   ]
  },
  {
   "cell_type": "markdown",
   "id": "ca5889b5-0509-4d58-836e-d93371a9bfdf",
   "metadata": {},
   "source": [
    "- 이전보다(lookback=1) 테스트 데이터에 대해 훨씬 잘 맞춘다."
   ]
  },
  {
   "cell_type": "markdown",
   "id": "b774576b-041a-4c42-af74-7ef1a03cd165",
   "metadata": {},
   "source": [
    "Running the above code will produce the plot below. From both the RMSE measure printed and the plot, you can notice that the model can now do better on the test set."
   ]
  },
  {
   "cell_type": "markdown",
   "id": "1ee7f3d9-2261-43b3-8934-91cab9996d7f",
   "metadata": {},
   "source": [
    "This is also why the `create_dataset()` function is designed in such way: When the model is given a time series of time $t$ to $t+3$(as lookback=4), its output is the prediction of $t+1$ to $t+4$. \n",
    "However, $t+1$ to $t+3$ are also known from the input. By using these in the loss function, the model effectively was provided with more clues to train. This design is not always suitable but you can see it is helpful in this particular example"
   ]
  },
  {
   "cell_type": "markdown",
   "id": "db5c4b12-bcf0-40d9-8ba4-daed54c11d25",
   "metadata": {},
   "source": [
    "## lookback?"
   ]
  },
  {
   "cell_type": "markdown",
   "id": "4e15bb17-8d1e-4811-8613-0f812da5b1b4",
   "metadata": {},
   "source": [
    "`-` lookback 살펴보기"
   ]
  },
  {
   "cell_type": "markdown",
   "id": "917740c8-5c02-477e-b19c-d94d12aafc0b",
   "metadata": {},
   "source": [
    "- lookback: 입력으로 사용하기 위해 거슬러 올라갈 타임스텝\n",
    "- delay : 타깃으로 사용할 미래의 타임스텝 \n",
    "- shuffle: 샘플을 섞을지 시간 순서대로 추출할지 결정"
   ]
  },
  {
   "cell_type": "code",
   "execution_count": 91,
   "id": "e3856850-84b7-4622-ba74-d9339ab5953c",
   "metadata": {},
   "outputs": [],
   "source": [
    "lookback = 4\n",
    "X_train, y_train = create_dataset(train, lookback=lookback)\n",
    "X_test, y_test = create_dataset(test, lookback=lookback)"
   ]
  },
  {
   "cell_type": "code",
   "execution_count": 96,
   "id": "3c7826be-3d8a-4407-abe9-d81bff289a8f",
   "metadata": {},
   "outputs": [
    {
     "data": {
      "text/plain": [
       "(torch.Size([92, 4, 1]), torch.Size([92, 4, 1]))"
      ]
     },
     "execution_count": 96,
     "metadata": {},
     "output_type": "execute_result"
    }
   ],
   "source": [
    "X_train.shape, y_train.shape"
   ]
  },
  {
   "cell_type": "code",
   "execution_count": 103,
   "id": "924a93b2-7924-4123-8f6a-c6ed548d5e8a",
   "metadata": {},
   "outputs": [
    {
     "data": {
      "text/html": [
       "<div>\n",
       "<style scoped>\n",
       "    .dataframe tbody tr th:only-of-type {\n",
       "        vertical-align: middle;\n",
       "    }\n",
       "\n",
       "    .dataframe tbody tr th {\n",
       "        vertical-align: top;\n",
       "    }\n",
       "\n",
       "    .dataframe thead th {\n",
       "        text-align: right;\n",
       "    }\n",
       "</style>\n",
       "<table border=\"1\" class=\"dataframe\">\n",
       "  <thead>\n",
       "    <tr style=\"text-align: right;\">\n",
       "      <th></th>\n",
       "      <th>Month</th>\n",
       "      <th>Passengers</th>\n",
       "    </tr>\n",
       "  </thead>\n",
       "  <tbody>\n",
       "    <tr>\n",
       "      <th>0</th>\n",
       "      <td>1949-01</td>\n",
       "      <td>112</td>\n",
       "    </tr>\n",
       "    <tr>\n",
       "      <th>1</th>\n",
       "      <td>1949-02</td>\n",
       "      <td>118</td>\n",
       "    </tr>\n",
       "    <tr>\n",
       "      <th>2</th>\n",
       "      <td>1949-03</td>\n",
       "      <td>132</td>\n",
       "    </tr>\n",
       "    <tr>\n",
       "      <th>3</th>\n",
       "      <td>1949-04</td>\n",
       "      <td>129</td>\n",
       "    </tr>\n",
       "    <tr>\n",
       "      <th>4</th>\n",
       "      <td>1949-05</td>\n",
       "      <td>121</td>\n",
       "    </tr>\n",
       "    <tr>\n",
       "      <th>5</th>\n",
       "      <td>1949-06</td>\n",
       "      <td>135</td>\n",
       "    </tr>\n",
       "    <tr>\n",
       "      <th>6</th>\n",
       "      <td>1949-07</td>\n",
       "      <td>148</td>\n",
       "    </tr>\n",
       "    <tr>\n",
       "      <th>7</th>\n",
       "      <td>1949-08</td>\n",
       "      <td>148</td>\n",
       "    </tr>\n",
       "    <tr>\n",
       "      <th>8</th>\n",
       "      <td>1949-09</td>\n",
       "      <td>136</td>\n",
       "    </tr>\n",
       "    <tr>\n",
       "      <th>9</th>\n",
       "      <td>1949-10</td>\n",
       "      <td>119</td>\n",
       "    </tr>\n",
       "  </tbody>\n",
       "</table>\n",
       "</div>"
      ],
      "text/plain": [
       "     Month  Passengers\n",
       "0  1949-01         112\n",
       "1  1949-02         118\n",
       "2  1949-03         132\n",
       "3  1949-04         129\n",
       "4  1949-05         121\n",
       "5  1949-06         135\n",
       "6  1949-07         148\n",
       "7  1949-08         148\n",
       "8  1949-09         136\n",
       "9  1949-10         119"
      ]
     },
     "execution_count": 103,
     "metadata": {},
     "output_type": "execute_result"
    }
   ],
   "source": [
    "df[:10]"
   ]
  },
  {
   "cell_type": "code",
   "execution_count": 106,
   "id": "563cbd99-8505-4d54-b3e9-c3b195bdf1f4",
   "metadata": {},
   "outputs": [
    {
     "data": {
      "text/plain": [
       "tensor([[[112., 118., 132., 129., 121., 135., 148., 148., 136., 119., 104.,\n",
       "          118., 115., 126., 141., 135., 125., 149., 170., 170., 158., 133.,\n",
       "          114., 140., 145., 150., 178., 163., 172., 178., 199., 199., 184.,\n",
       "          162., 146., 166., 171., 180., 193., 181., 183., 218., 230., 242.,\n",
       "          209., 191., 172., 194., 196., 196., 236., 235., 229., 243., 264.,\n",
       "          272., 237., 211., 180., 201., 204., 188., 235., 227., 234., 264.,\n",
       "          302., 293., 259., 229., 203., 229., 242., 233., 267., 269., 270.,\n",
       "          315., 364., 347., 312., 274., 237., 278., 284., 277., 317., 313.,\n",
       "          318., 374., 413., 405.],\n",
       "         [118., 132., 129., 121., 135., 148., 148., 136., 119., 104., 118.,\n",
       "          115., 126., 141., 135., 125., 149., 170., 170., 158., 133., 114.,\n",
       "          140., 145., 150., 178., 163., 172., 178., 199., 199., 184., 162.,\n",
       "          146., 166., 171., 180., 193., 181., 183., 218., 230., 242., 209.,\n",
       "          191., 172., 194., 196., 196., 236., 235., 229., 243., 264., 272.,\n",
       "          237., 211., 180., 201., 204., 188., 235., 227., 234., 264., 302.,\n",
       "          293., 259., 229., 203., 229., 242., 233., 267., 269., 270., 315.,\n",
       "          364., 347., 312., 274., 237., 278., 284., 277., 317., 313., 318.,\n",
       "          374., 413., 405., 355.],\n",
       "         [132., 129., 121., 135., 148., 148., 136., 119., 104., 118., 115.,\n",
       "          126., 141., 135., 125., 149., 170., 170., 158., 133., 114., 140.,\n",
       "          145., 150., 178., 163., 172., 178., 199., 199., 184., 162., 146.,\n",
       "          166., 171., 180., 193., 181., 183., 218., 230., 242., 209., 191.,\n",
       "          172., 194., 196., 196., 236., 235., 229., 243., 264., 272., 237.,\n",
       "          211., 180., 201., 204., 188., 235., 227., 234., 264., 302., 293.,\n",
       "          259., 229., 203., 229., 242., 233., 267., 269., 270., 315., 364.,\n",
       "          347., 312., 274., 237., 278., 284., 277., 317., 313., 318., 374.,\n",
       "          413., 405., 355., 306.],\n",
       "         [129., 121., 135., 148., 148., 136., 119., 104., 118., 115., 126.,\n",
       "          141., 135., 125., 149., 170., 170., 158., 133., 114., 140., 145.,\n",
       "          150., 178., 163., 172., 178., 199., 199., 184., 162., 146., 166.,\n",
       "          171., 180., 193., 181., 183., 218., 230., 242., 209., 191., 172.,\n",
       "          194., 196., 196., 236., 235., 229., 243., 264., 272., 237., 211.,\n",
       "          180., 201., 204., 188., 235., 227., 234., 264., 302., 293., 259.,\n",
       "          229., 203., 229., 242., 233., 267., 269., 270., 315., 364., 347.,\n",
       "          312., 274., 237., 278., 284., 277., 317., 313., 318., 374., 413.,\n",
       "          405., 355., 306., 271.]]])"
      ]
     },
     "execution_count": 106,
     "metadata": {},
     "output_type": "execute_result"
    }
   ],
   "source": [
    "X_train.T"
   ]
  },
  {
   "cell_type": "code",
   "execution_count": 100,
   "id": "723c6f44-65f9-4551-8a51-cd6dc681bf35",
   "metadata": {},
   "outputs": [
    {
     "data": {
      "text/plain": [
       "tensor([[[118., 132., 129., 121., 135., 148., 148., 136., 119., 104., 118.,\n",
       "          115., 126., 141., 135., 125., 149., 170., 170., 158., 133., 114.,\n",
       "          140., 145., 150., 178., 163., 172., 178., 199., 199., 184., 162.,\n",
       "          146., 166., 171., 180., 193., 181., 183., 218., 230., 242., 209.,\n",
       "          191., 172., 194., 196., 196., 236., 235., 229., 243., 264., 272.,\n",
       "          237., 211., 180., 201., 204., 188., 235., 227., 234., 264., 302.,\n",
       "          293., 259., 229., 203., 229., 242., 233., 267., 269., 270., 315.,\n",
       "          364., 347., 312., 274., 237., 278., 284., 277., 317., 313., 318.,\n",
       "          374., 413., 405., 355.],\n",
       "         [132., 129., 121., 135., 148., 148., 136., 119., 104., 118., 115.,\n",
       "          126., 141., 135., 125., 149., 170., 170., 158., 133., 114., 140.,\n",
       "          145., 150., 178., 163., 172., 178., 199., 199., 184., 162., 146.,\n",
       "          166., 171., 180., 193., 181., 183., 218., 230., 242., 209., 191.,\n",
       "          172., 194., 196., 196., 236., 235., 229., 243., 264., 272., 237.,\n",
       "          211., 180., 201., 204., 188., 235., 227., 234., 264., 302., 293.,\n",
       "          259., 229., 203., 229., 242., 233., 267., 269., 270., 315., 364.,\n",
       "          347., 312., 274., 237., 278., 284., 277., 317., 313., 318., 374.,\n",
       "          413., 405., 355., 306.],\n",
       "         [129., 121., 135., 148., 148., 136., 119., 104., 118., 115., 126.,\n",
       "          141., 135., 125., 149., 170., 170., 158., 133., 114., 140., 145.,\n",
       "          150., 178., 163., 172., 178., 199., 199., 184., 162., 146., 166.,\n",
       "          171., 180., 193., 181., 183., 218., 230., 242., 209., 191., 172.,\n",
       "          194., 196., 196., 236., 235., 229., 243., 264., 272., 237., 211.,\n",
       "          180., 201., 204., 188., 235., 227., 234., 264., 302., 293., 259.,\n",
       "          229., 203., 229., 242., 233., 267., 269., 270., 315., 364., 347.,\n",
       "          312., 274., 237., 278., 284., 277., 317., 313., 318., 374., 413.,\n",
       "          405., 355., 306., 271.],\n",
       "         [121., 135., 148., 148., 136., 119., 104., 118., 115., 126., 141.,\n",
       "          135., 125., 149., 170., 170., 158., 133., 114., 140., 145., 150.,\n",
       "          178., 163., 172., 178., 199., 199., 184., 162., 146., 166., 171.,\n",
       "          180., 193., 181., 183., 218., 230., 242., 209., 191., 172., 194.,\n",
       "          196., 196., 236., 235., 229., 243., 264., 272., 237., 211., 180.,\n",
       "          201., 204., 188., 235., 227., 234., 264., 302., 293., 259., 229.,\n",
       "          203., 229., 242., 233., 267., 269., 270., 315., 364., 347., 312.,\n",
       "          274., 237., 278., 284., 277., 317., 313., 318., 374., 413., 405.,\n",
       "          355., 306., 271., 306.]]])"
      ]
     },
     "execution_count": 100,
     "metadata": {},
     "output_type": "execute_result"
    }
   ],
   "source": [
    "y_train.T"
   ]
  },
  {
   "cell_type": "markdown",
   "id": "0eb41a79-93a0-4b76-93fe-8a0363daf531",
   "metadata": {},
   "source": [
    "- <https://miruetoto.github.io/yechan3/posts/3_Researches/ITSTGCN/2022-12-29-STGCN-tutorial.html#pytorch-geometric-temporal-%EC%9D%98-%EC%9E%90%EB%A3%8C%ED%98%95> "
   ]
  },
  {
   "cell_type": "markdown",
   "id": "09c3835b-4458-42f8-b4b9-86640225a8db",
   "metadata": {},
   "source": [
    "lag=4라고 생각하면 될 것같은데 각각 한달 후의 데이터를 예측하는 것이라 $y$의 차원이 전에 했던거랑 다름."
   ]
  }
 ],
 "metadata": {
  "kernelspec": {
   "display_name": "Python 3",
   "language": "python",
   "name": "python3"
  },
  "language_info": {
   "codemirror_mode": {
    "name": "ipython",
    "version": 3
   },
   "file_extension": ".py",
   "mimetype": "text/x-python",
   "name": "python",
   "nbconvert_exporter": "python",
   "pygments_lexer": "ipython3",
   "version": "3.8.16"
  }
 },
 "nbformat": 4,
 "nbformat_minor": 5
}
