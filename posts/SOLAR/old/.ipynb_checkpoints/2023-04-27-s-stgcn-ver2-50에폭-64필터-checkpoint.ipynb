{
 "cells": [
  {
   "cell_type": "raw",
   "id": "cf4a5937-6946-43b0-99b9-73cb93bbacba",
   "metadata": {},
   "source": [
    "---\n",
    "title: \" **[SOLAR]** STGCN Ver2 (data2, -N +S) 30회 50 epoch 64filter\"\n",
    "author: \"JiyunLim\"\n",
    "date: \"04/27/2023\"\n",
    "categories:\n",
    "  - Research\n",
    "  - STGCN\n",
    "  - SOLAR\n",
    "---"
   ]
  },
  {
   "cell_type": "markdown",
   "id": "c69f4478-5d1c-4043-8fc6-5884ce370e18",
   "metadata": {},
   "source": [
    "# STGCN Ver2"
   ]
  },
  {
   "cell_type": "markdown",
   "id": "f995e86a-6b84-4a67-9a86-43eee1bf6b1b",
   "metadata": {},
   "source": [
    "## ref\n",
    "- <https://github.com/miruetoto/yechan3/tree/main/posts/3_Researches/ITSTGCN/itstgcn>\n",
    "- <https://miruetoto.github.io/yechan3/posts/3_Researches/ITSTGCN/2023-03-18-SimulationPlanner-Tutorial.html#plnr_gnar_block>"
   ]
  },
  {
   "cell_type": "markdown",
   "id": "4002635e-1114-4889-842f-6cb44be61d33",
   "metadata": {},
   "source": [
    "## 2022/06/01 ~ 2022/09/15\n",
    "\n",
    "- train 2022-06-01 00:00:00 ~ 2022-08-14 17:00:00\n",
    "- test 2022-08-14 18:00:00 ~ 2022-09-15 23:00:00"
   ]
  },
  {
   "cell_type": "markdown",
   "id": "f6db9b01-8811-44cf-9fec-ebb52db11151",
   "metadata": {},
   "source": [
    "## Import"
   ]
  },
  {
   "cell_type": "code",
   "execution_count": 1,
   "id": "5c85f883-7abd-402b-afeb-d297b3314a38",
   "metadata": {},
   "outputs": [],
   "source": [
    "import eptstgcn\n",
    "import torch\n",
    "import eptstgcn.planner\n",
    "\n",
    "import warnings\n",
    "warnings.filterwarnings('ignore')"
   ]
  },
  {
   "cell_type": "markdown",
   "id": "c4425a09-baec-4fb7-b9fd-acf92209c018",
   "metadata": {},
   "source": [
    "## Read Data"
   ]
  },
  {
   "cell_type": "code",
   "execution_count": 2,
   "id": "56e7122a-b438-4615-8143-0a11ed03e353",
   "metadata": {},
   "outputs": [],
   "source": [
    "url = \"https://raw.githubusercontent.com/pinkocto/noteda/main/posts/SOLAR/data2/stgcn_data2.json\"\n",
    "loader = eptstgcn.DatasetLoader(url)\n",
    "dataset = loader.get_dataset(lags=4)"
   ]
  },
  {
   "cell_type": "code",
   "execution_count": 3,
   "id": "ba9309ea-5143-42f7-815d-dc3a3a92922d",
   "metadata": {},
   "outputs": [],
   "source": [
    "train_dataset, test_dataset = eptstgcn.utils.temporal_signal_split(dataset, train_ratio = 0.7)"
   ]
  },
  {
   "cell_type": "markdown",
   "id": "37b1c5f6-cec6-4805-a0cd-413ba857c841",
   "metadata": {},
   "source": [
    "## LRNR"
   ]
  },
  {
   "cell_type": "markdown",
   "id": "7e714f85-af91-4282-8f28-26d44a369ecd",
   "metadata": {},
   "source": [
    "- ref: <https://seoyeonc.github.io/blog/posts/GCN/2023-03-17-ITSTGCN-Tutorial.html>"
   ]
  },
  {
   "cell_type": "code",
   "execution_count": 4,
   "id": "a02c6674-2cab-45c5-801e-50cc95a99474",
   "metadata": {},
   "outputs": [],
   "source": [
    "lrnr = eptstgcn.StgcnLearner(train_dataset, dataset_name = 'data2(2022/06/01 ~ 2022/09/15)')"
   ]
  },
  {
   "cell_type": "code",
   "execution_count": null,
   "id": "5e44ac63-76f5-4cb8-a939-20716478611e",
   "metadata": {},
   "outputs": [
    {
     "name": "stdout",
     "output_type": "stream",
     "text": [
      "4/50\r"
     ]
    }
   ],
   "source": [
    "lrnr.learn(filters=64, epoch=50)"
   ]
  },
  {
   "cell_type": "code",
   "execution_count": null,
   "id": "05a84b53-10ff-4e5d-9bdf-367a4a63ae77",
   "metadata": {},
   "outputs": [],
   "source": [
    "import pickle \n",
    "with open('./lrnr_model/stgcn_ver2_data2_cancel_normal_64fil_50epoch.pickle','wb') as fw:\n",
    "    pickle.dump(lrnr, fw)"
   ]
  },
  {
   "cell_type": "code",
   "execution_count": null,
   "id": "1c258f94-b460-4bf6-aae4-8201e5307894",
   "metadata": {},
   "outputs": [],
   "source": [
    "import pickle \n",
    "with open('./lrnr_model/stgcn_ver2_data2_cancel_normal_64fil_50epoch.pickle', 'rb') as f: \n",
    "    model = pickle.load(f)"
   ]
  },
  {
   "cell_type": "markdown",
   "id": "33aaec6b-e1b1-48d8-bd8c-db3b7dd72e7e",
   "metadata": {},
   "source": [
    "## Visualization"
   ]
  },
  {
   "cell_type": "code",
   "execution_count": null,
   "id": "3a0387c3-1b2a-4d55-a523-5e80af5313ae",
   "metadata": {},
   "outputs": [],
   "source": [
    "evtor = eptstgcn.Evaluator(model, train_dataset, test_dataset)"
   ]
  },
  {
   "cell_type": "code",
   "execution_count": 11,
   "id": "823c4a56-1f5e-4c01-93c1-b1ae6443e089",
   "metadata": {},
   "outputs": [],
   "source": [
    "# fig = evtor.plot('--', label='observed data')\n",
    "# fig.tight_layout()\n",
    "# fig"
   ]
  },
  {
   "cell_type": "markdown",
   "id": "cdd24f5d-be0f-40ab-86b4-c9bb988f5c31",
   "metadata": {},
   "source": [
    "### train"
   ]
  },
  {
   "cell_type": "code",
   "execution_count": null,
   "id": "41e40106-886c-480e-af2d-b998dfba2677",
   "metadata": {},
   "outputs": [],
   "source": [
    "evtor.tr_plot(t=150, label='observed data')"
   ]
  },
  {
   "cell_type": "markdown",
   "id": "0e1ade3f-1c4d-4d2d-9467-ce46bb02c22b",
   "metadata": {},
   "source": [
    "### test"
   ]
  },
  {
   "cell_type": "code",
   "execution_count": null,
   "id": "d9fd0387-05a0-472a-8a38-1ca000c6316d",
   "metadata": {},
   "outputs": [],
   "source": [
    "evtor.test_plot(t=150, label='observed data')"
   ]
  },
  {
   "cell_type": "markdown",
   "id": "2277a42d-e4f8-4c96-9bf8-385b8089a4a8",
   "metadata": {},
   "source": [
    "## Simulation"
   ]
  },
  {
   "cell_type": "code",
   "execution_count": null,
   "id": "b5c548c9-716b-48b6-b1b6-57445b9c89ce",
   "metadata": {},
   "outputs": [],
   "source": [
    "plans_stgcn = {\n",
    "    'max_iteration': 30, \n",
    "    'method': ['EPT-STGCN'], \n",
    "    'lags': [4], \n",
    "    'nof_filters': [64], \n",
    "    'epoch': [50]\n",
    "}"
   ]
  },
  {
   "cell_type": "code",
   "execution_count": null,
   "id": "ae14fde3-a5f2-4e9d-8474-26fa4333b33b",
   "metadata": {},
   "outputs": [],
   "source": [
    "plnr = eptstgcn.planner.PLNR_STGCN(plans_stgcn,loader,dataset_name='data2')"
   ]
  },
  {
   "cell_type": "code",
   "execution_count": null,
   "id": "4054cb97-6192-4962-b247-b605e17a53c6",
   "metadata": {},
   "outputs": [],
   "source": [
    "plnr.simulate()"
   ]
  },
  {
   "cell_type": "code",
   "execution_count": null,
   "id": "2fc37f3a-9cb8-4eec-981c-d710a2aeefa4",
   "metadata": {},
   "outputs": [],
   "source": [
    "import pickle\n",
    "with open('./simul_model/stgcn_ver2_data2_cancel_normal_64fil_50epoch.pickle', 'wb') as fw:\n",
    "    pickle.dump(plnr, fw)"
   ]
  },
  {
   "cell_type": "code",
   "execution_count": null,
   "id": "ccd7ac35-e271-4987-a006-6bfaf29f3d5b",
   "metadata": {},
   "outputs": [],
   "source": [
    "with open('./simul_model/stgcn_ver2_data2_cancel_normal_64fil_50epoch.pickle', 'rb') as f:\n",
    "    simul_model = pickle.load(f)"
   ]
  },
  {
   "cell_type": "code",
   "execution_count": null,
   "id": "ffb8ec54-67c0-42ac-b1ed-441a3fd6dc28",
   "metadata": {},
   "outputs": [],
   "source": [
    "df_simul_no = simul_model.simulation_results\n",
    "df_simul_no"
   ]
  },
  {
   "cell_type": "code",
   "execution_count": null,
   "id": "97b60532-3d0e-4532-8495-5d37d6e027bc",
   "metadata": {},
   "outputs": [],
   "source": [
    "df_simul_no['mse(test)'].mean()"
   ]
  },
  {
   "cell_type": "code",
   "execution_count": null,
   "id": "334e42d5-07e9-4556-ae63-53ff2a7f4f0a",
   "metadata": {},
   "outputs": [],
   "source": [
    "print('stgcn ver2 64filter 50에폭 끝')"
   ]
  },
  {
   "cell_type": "code",
   "execution_count": 11,
   "id": "9d3285ad-cf2e-41b9-81ed-54041b6b4d02",
   "metadata": {},
   "outputs": [
    {
     "data": {
      "image/png": "[encoded data removed]",
      "text/plain": [
       "<Figure size 432x288 with 1 Axes>"
      ]
     },
     "metadata": {
      "needs_background": "light"
     },
     "output_type": "display_data"
    }
   ],
   "source": [
    "import matplotlib.pyplot as plt\n",
    "plt.boxplot(df_simul_no['mse(test)'])\n",
    "plt.show()"
   ]
  }
 ],
 "metadata": {
  "kernelspec": {
   "display_name": "Python 3",
   "language": "python",
   "name": "python3"
  },
  "language_info": {
   "codemirror_mode": {
    "name": "ipython",
    "version": 3
   },
   "file_extension": ".py",
   "mimetype": "text/x-python",
   "name": "python",
   "nbconvert_exporter": "python",
   "pygments_lexer": "ipython3",
   "version": "3.8.16"
  }
 },
 "nbformat": 4,
 "nbformat_minor": 5
}
