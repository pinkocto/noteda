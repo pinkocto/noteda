{
 "cells": [
  {
   "cell_type": "raw",
   "id": "cf4a5937-6946-43b0-99b9-73cb93bbacba",
   "metadata": {},
   "source": [
    "---\n",
    "title: \" **[SOLAR]** STGCN Ver1 90% (MSE: 0.1206)\"\n",
    "author: \"jiyunLim\"\n",
    "date: \"04/12/2023\"\n",
    "categories:\n",
    "  - Research\n",
    "  - STGCN\n",
    "  - SOLAR\n",
    "---"
   ]
  },
  {
   "cell_type": "markdown",
   "id": "3bc8bd68-9be0-403b-ad55-b2c793f8f0a7",
   "metadata": {},
   "source": [
    "## import"
   ]
  },
  {
   "cell_type": "code",
   "execution_count": 1,
   "id": "49174b3e-5f60-44cf-9994-8206cbac1b47",
   "metadata": {},
   "outputs": [],
   "source": [
    "import pandas as pd\n",
    "import numpy as np\n",
    "import json\n",
    "import urllib\n",
    "import time"
   ]
  },
  {
   "cell_type": "code",
   "execution_count": 2,
   "id": "cef9dea1-962c-4c8c-80f4-8d84fa6420fc",
   "metadata": {},
   "outputs": [],
   "source": [
    "# 일반적인 모듈 \n",
    "import numpy as np\n",
    "import matplotlib.pyplot as plt \n",
    "import networkx as nx \n",
    "from tqdm import tqdm \n",
    "\n",
    "# 파이토치 관련 \n",
    "import torch\n",
    "import torch.nn.functional as F\n",
    "\n",
    "# PyG 관련 \n",
    "from torch_geometric.data import Data ## Data: 그래프자료형을 만드는 클래스\n",
    "\n",
    "# STGCN 관련 \n",
    "import torch_geometric_temporal\n",
    "from torch_geometric_temporal.nn.recurrent import GConvGRU\n",
    "from torch_geometric_temporal.signal import temporal_signal_split "
   ]
  },
  {
   "cell_type": "code",
   "execution_count": 3,
   "id": "0dca1961-c8cc-4304-9926-fd7a014cca6a",
   "metadata": {},
   "outputs": [],
   "source": [
    "class RecurrentGCN(torch.nn.Module):\n",
    "    def __init__(self, node_features, filters):\n",
    "        super(RecurrentGCN, self).__init__()\n",
    "        self.recurrent = GConvGRU(node_features, filters, 2)\n",
    "        self.linear = torch.nn.Linear(filters, 1)\n",
    "\n",
    "    def forward(self, x, edge_index, edge_weight):\n",
    "        h = self.recurrent(x, edge_index, edge_weight)\n",
    "        h = F.relu(h)\n",
    "        h = self.linear(h)\n",
    "        return h"
   ]
  },
  {
   "cell_type": "code",
   "execution_count": 4,
   "id": "61d16c46-6915-4103-820e-4be2f5d3b75e",
   "metadata": {},
   "outputs": [],
   "source": [
    "from mysolar import SolarDatasetLoader"
   ]
  },
  {
   "cell_type": "code",
   "execution_count": 7,
   "id": "ed5b5e7e-8477-492b-b8b4-12cebc01f4e3",
   "metadata": {},
   "outputs": [],
   "source": [
    "loader = SolarDatasetLoader()\n",
    "dataset = loader.get_dataset(lags=4)\n",
    "train_dataset, test_dataset = temporal_signal_split(dataset, train_ratio=0.9)"
   ]
  },
  {
   "cell_type": "code",
   "execution_count": 8,
   "id": "f4f4869e-e48c-431c-8c94-1e4a93570fd3",
   "metadata": {},
   "outputs": [
    {
     "name": "stdout",
     "output_type": "stream",
     "text": [
      "(2115, 44)\n",
      "(235, 44)\n"
     ]
    }
   ],
   "source": [
    "print(np.array(train_dataset.targets).shape)\n",
    "print(np.array(test_dataset.targets).shape)"
   ]
  },
  {
   "cell_type": "markdown",
   "id": "85f4e7c4-ce5f-487a-b9b2-af25fac3b8d1",
   "metadata": {},
   "source": [
    "- train: 2022-06-01 00:00:00 ~ 2022-09-05 03:00:00\n",
    "- test:  2022-09-05 04:00:00 ~ 2022-09-15 21:00:00"
   ]
  },
  {
   "cell_type": "markdown",
   "id": "3d0da962-7e6d-4c77-884a-1b56a78a9f88",
   "metadata": {},
   "source": [
    "## Learn"
   ]
  },
  {
   "cell_type": "code",
   "execution_count": 9,
   "id": "cdead78f-9744-48d9-96ef-05529e9c634c",
   "metadata": {},
   "outputs": [
    {
     "data": {
      "text/plain": [
       "RecurrentGCN(\n",
       "  (recurrent): GConvGRU(\n",
       "    (conv_x_z): ChebConv(4, 32, K=2, normalization=sym)\n",
       "    (conv_h_z): ChebConv(32, 32, K=2, normalization=sym)\n",
       "    (conv_x_r): ChebConv(4, 32, K=2, normalization=sym)\n",
       "    (conv_h_r): ChebConv(32, 32, K=2, normalization=sym)\n",
       "    (conv_x_h): ChebConv(4, 32, K=2, normalization=sym)\n",
       "    (conv_h_h): ChebConv(32, 32, K=2, normalization=sym)\n",
       "  )\n",
       "  (linear): Linear(in_features=32, out_features=1, bias=True)\n",
       ")"
      ]
     },
     "execution_count": 9,
     "metadata": {},
     "output_type": "execute_result"
    }
   ],
   "source": [
    "model = RecurrentGCN(node_features=4, filters=32)\n",
    "optimizer = torch.optim.Adam(model.parameters(), lr=0.01)\n",
    "model.train()"
   ]
  },
  {
   "cell_type": "code",
   "execution_count": 10,
   "id": "d9b96229-656e-4780-aa22-5b3d6e761a86",
   "metadata": {},
   "outputs": [
    {
     "name": "stderr",
     "output_type": "stream",
     "text": [
      "100%|██████████| 50/50 [05:50<00:00,  7.01s/it]"
     ]
    },
    {
     "name": "stdout",
     "output_type": "stream",
     "text": [
      "350.50771 sec\n"
     ]
    },
    {
     "name": "stderr",
     "output_type": "stream",
     "text": [
      "\n"
     ]
    }
   ],
   "source": [
    "start = time.time()\n",
    "for epoch in tqdm(range(50)):\n",
    "    for t, snapshot in enumerate(train_dataset):\n",
    "        yt_hat = model(snapshot.x, snapshot.edge_index, snapshot.edge_attr)\n",
    "        cost = torch.mean((yt_hat-snapshot.y)**2)\n",
    "        cost.backward()\n",
    "        optimizer.step()\n",
    "        optimizer.zero_grad()\n",
    "end = time.time()\n",
    "print(f\"{end-start:.5f} sec\")"
   ]
  },
  {
   "cell_type": "code",
   "execution_count": 11,
   "id": "2f5b7e46-144f-42f0-b98d-44bfd5b60550",
   "metadata": {},
   "outputs": [
    {
     "name": "stdout",
     "output_type": "stream",
     "text": [
      "5.8417951666666665 분\n"
     ]
    }
   ],
   "source": [
    "print(350.50771/60, '분')"
   ]
  },
  {
   "cell_type": "code",
   "execution_count": 12,
   "id": "c741604a-d1f6-4931-91b8-4261bdcf413a",
   "metadata": {},
   "outputs": [],
   "source": [
    "# import pickle \n",
    "# with open('./model/stgcn1_lag4_90_new.pickle','wb') as fw:\n",
    "#     pickle.dump(model, fw)"
   ]
  },
  {
   "cell_type": "code",
   "execution_count": 13,
   "id": "302ca05c-849f-4e15-9137-04cb2b12b11c",
   "metadata": {},
   "outputs": [],
   "source": [
    "import pickle \n",
    "with open('./model/stgcn1_lag4_90_new.pickle', 'rb') as f: \n",
    "    model = pickle.load(f)"
   ]
  },
  {
   "cell_type": "code",
   "execution_count": 14,
   "id": "50b96e42-73bd-41f5-9a9f-86d99ea6547e",
   "metadata": {},
   "outputs": [
    {
     "data": {
      "text/plain": [
       "RecurrentGCN(\n",
       "  (recurrent): GConvGRU(\n",
       "    (conv_x_z): ChebConv(4, 32, K=2, normalization=sym)\n",
       "    (conv_h_z): ChebConv(32, 32, K=2, normalization=sym)\n",
       "    (conv_x_r): ChebConv(4, 32, K=2, normalization=sym)\n",
       "    (conv_h_r): ChebConv(32, 32, K=2, normalization=sym)\n",
       "    (conv_x_h): ChebConv(4, 32, K=2, normalization=sym)\n",
       "    (conv_h_h): ChebConv(32, 32, K=2, normalization=sym)\n",
       "  )\n",
       "  (linear): Linear(in_features=32, out_features=1, bias=True)\n",
       ")"
      ]
     },
     "execution_count": 14,
     "metadata": {},
     "output_type": "execute_result"
    }
   ],
   "source": [
    "model"
   ]
  },
  {
   "cell_type": "markdown",
   "id": "8c2ff442-3b52-419a-b341-8dafb6278c29",
   "metadata": {},
   "source": [
    "## 모델평가"
   ]
  },
  {
   "cell_type": "markdown",
   "id": "94de4af7-2425-44c6-80fc-12dbb8dc42e3",
   "metadata": {},
   "source": [
    "`-` train"
   ]
  },
  {
   "cell_type": "markdown",
   "id": "054983d4-e657-4561-bd03-8303d1c7e74e",
   "metadata": {},
   "source": [
    "- STGCN Ver1 (70%) $\\to$ MSE 0.2102"
   ]
  },
  {
   "cell_type": "code",
   "execution_count": 15,
   "id": "4d2327a6-5ace-4ed6-8bd7-1654bbecf88b",
   "metadata": {},
   "outputs": [
    {
     "name": "stdout",
     "output_type": "stream",
     "text": [
      "MSE: 0.2062\n"
     ]
    }
   ],
   "source": [
    "model.eval()\n",
    "cost = 0\n",
    "for time, snapshot in enumerate(train_dataset):\n",
    "    y_hat = model(snapshot.x, snapshot.edge_index, snapshot.edge_attr)\n",
    "    cost = cost + torch.mean((y_hat-snapshot.y)**2)\n",
    "cost = cost / (time+1)\n",
    "cost = cost.item()\n",
    "print(\"MSE: {:.4f}\".format(cost))"
   ]
  },
  {
   "cell_type": "markdown",
   "id": "3b74092d-6e58-4148-8490-d14ef3391f3e",
   "metadata": {},
   "source": [
    "`-` test"
   ]
  },
  {
   "cell_type": "markdown",
   "id": "a19958d8-80fa-483e-9d7f-721fbc41a36a",
   "metadata": {},
   "source": [
    "- STGCN Ver1 (70%) $\\to$ MSE 0.1899"
   ]
  },
  {
   "cell_type": "code",
   "execution_count": 16,
   "id": "02bb2088-eab7-4d50-98a0-7a5e929e3de5",
   "metadata": {},
   "outputs": [
    {
     "name": "stdout",
     "output_type": "stream",
     "text": [
      "MSE: 0.1206\n"
     ]
    }
   ],
   "source": [
    "model.eval()\n",
    "cost = 0\n",
    "for time, snapshot in enumerate(test_dataset):\n",
    "    y_hat = model(snapshot.x, snapshot.edge_index, snapshot.edge_attr)\n",
    "    cost = cost + torch.mean((y_hat-snapshot.y)**2)\n",
    "cost = cost / (time+1)\n",
    "cost = cost.item()\n",
    "print(\"MSE: {:.4f}\".format(cost))"
   ]
  }
 ],
 "metadata": {
  "kernelspec": {
   "display_name": "Python 3",
   "language": "python",
   "name": "python3"
  },
  "language_info": {
   "codemirror_mode": {
    "name": "ipython",
    "version": 3
   },
   "file_extension": ".py",
   "mimetype": "text/x-python",
   "name": "python",
   "nbconvert_exporter": "python",
   "pygments_lexer": "ipython3",
   "version": "3.8.16"
  }
 },
 "nbformat": 4,
 "nbformat_minor": 5
}
