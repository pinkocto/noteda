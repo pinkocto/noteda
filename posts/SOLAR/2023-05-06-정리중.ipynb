{
 "cells": [
  {
   "cell_type": "raw",
   "id": "5a601b7d-103c-44f7-928f-5f2d4061097b",
   "metadata": {},
   "source": [
    "---\n",
    "title: \" **[SOLAR]** \"\n",
    "author: \"JiyunLim\"\n",
    "date: \"05/06/2023\"\n",
    "categories:\n",
    "  - Research\n",
    "  - STGCN\n",
    "  - SOLAR\n",
    "  - 논문\n",
    "---"
   ]
  },
  {
   "cell_type": "code",
   "execution_count": null,
   "id": "19fd91a7-9af9-4bbb-86f8-68c54bd00e57",
   "metadata": {},
   "outputs": [],
   "source": []
  }
 ],
 "metadata": {
  "kernelspec": {
   "display_name": "Python 3",
   "language": "python",
   "name": "python3"
  },
  "language_info": {
   "codemirror_mode": {
    "name": "ipython",
    "version": 3
   },
   "file_extension": ".py",
   "mimetype": "text/x-python",
   "name": "python",
   "nbconvert_exporter": "python",
   "pygments_lexer": "ipython3",
   "version": "3.8.16"
  }
 },
 "nbformat": 4,
 "nbformat_minor": 5
}
