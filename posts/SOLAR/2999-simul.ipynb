{
 "cells": [
  {
   "cell_type": "raw",
   "id": "1d3e343f-1b94-4bc8-96b0-6f3b63dfe18f",
   "metadata": {},
   "source": [
    "---\n",
    "title: \" **[SOLAR]** SIMUL Method1\"\n",
    "author: \"JiyunLim\"\n",
    "date: \"06/07/2023\"\n",
    "categories:\n",
    "  - Research\n",
    "  - SOLAR\n",
    "---"
   ]
  },
  {
   "cell_type": "markdown",
   "id": "1e596d6b-1242-4390-a417-eb4ad80832c2",
   "metadata": {},
   "source": [
    "# Weighted Loss  : $(y-\\hat{y}) (y-\\hat{y})^\\top \\odot W$"
   ]
  },
  {
   "cell_type": "markdown",
   "id": "30df9275-d2c9-4a66-9b35-22361f295fc9",
   "metadata": {},
   "source": [
    "$w=\\begin{bmatrix} \\end{bmatrix}$"
   ]
  },
  {
   "cell_type": "markdown",
   "id": "cd8340b7-09d6-4ebb-aecc-7e7f1b3c5bac",
   "metadata": {},
   "source": [
    "## Import"
   ]
  },
  {
   "cell_type": "code",
   "execution_count": 1,
   "id": "059a76e3-eaa2-4005-9042-0a2f67c92f1f",
   "metadata": {},
   "outputs": [],
   "source": [
    "import numpy as np\n",
    "import pandas as pd\n",
    "\n",
    "import matplotlib.pyplot as plt\n",
    "import seaborn as sns\n",
    "plt.rcParams['font.family'] = 'NanumGothic'\n",
    "\n",
    "import torch\n",
    "import eptstgcn\n",
    "import eptstgcn.planner"
   ]
  },
  {
   "cell_type": "code",
   "execution_count": 2,
   "id": "471c4912-c0b8-4a93-bc98-abd6198315f2",
   "metadata": {},
   "outputs": [],
   "source": [
    "class Loader(eptstgcn.DatasetLoader):\n",
    "    def __init__(self,data_dict):\n",
    "         self._dataset = data_dict "
   ]
  },
  {
   "cell_type": "markdown",
   "id": "73ceafba-ed55-4065-9c77-c0c242f7d9c8",
   "metadata": {},
   "source": [
    "## Data"
   ]
  },
  {
   "cell_type": "code",
   "execution_count": 3,
   "id": "f72ac698-4166-4a2d-ad9c-fb970d7c4dd3",
   "metadata": {},
   "outputs": [],
   "source": [
    "# solar dataset\n",
    "solar_ = pd.read_csv('./data2/restructuring_data.csv')\n",
    "solar = solar_[['포항','대구','부산','경주시','청송군','서울','인천','수원','서산','창원']]\n",
    "# solar = solar.drop('date', axis=1)"
   ]
  },
  {
   "cell_type": "code",
   "execution_count": 4,
   "id": "ce35256e-0ce8-4edb-878b-1684ae0c3777",
   "metadata": {},
   "outputs": [],
   "source": [
    "N = 10 # number of nodes\n",
    "T = solar.shape[0]\n",
    "node_ids = solar.columns.tolist()"
   ]
  },
  {
   "cell_type": "code",
   "execution_count": 5,
   "id": "cccd2740-adbf-4c5b-ab92-551789d7007f",
   "metadata": {},
   "outputs": [],
   "source": [
    "FX_ = [solar.iloc[i,:] for i in range(T)]\n",
    "FX = np.stack(FX_).tolist()"
   ]
  },
  {
   "cell_type": "code",
   "execution_count": 6,
   "id": "6560738c-a994-4fc2-8c82-2dfab8091c69",
   "metadata": {},
   "outputs": [],
   "source": [
    "W = np.eye(N)\n",
    "W[:(N-5),:(N-5)] = 1\n",
    "W2 = np.eye(N)"
   ]
  },
  {
   "cell_type": "code",
   "execution_count": 7,
   "id": "7ebc5eb1-d37e-4ab4-b4f0-53bb17181ed8",
   "metadata": {},
   "outputs": [],
   "source": [
    "data_dict1={\n",
    "    'edges':[[i,j] for i in range(N) for j in range(N)], \n",
    "    'node_ids': {node_ids[i]: i for i in range(N)}, \n",
    "    'weights':W.reshape(-1).tolist(),\n",
    "    'FX':FX\n",
    "}\n",
    "data_dict2={\n",
    "    'edges':[[i,j] for i in range(N) for j in range(N)], \n",
    "    'node_ids': {node_ids[i]: i for i in range(N)}, \n",
    "    'weights':W2.reshape(-1).tolist(), \n",
    "    'FX':FX\n",
    "}\n",
    "# data_dict3={\n",
    "#     'edges':[[i,j] for i in range(N) for j in range(N)], \n",
    "#     'node_ids': {node_ids[i]: i for i in range(N)}, \n",
    "#     'weights':W2.reshape(-1).tolist(), \n",
    "#     'FX':FX\n",
    "# }"
   ]
  },
  {
   "cell_type": "code",
   "execution_count": 34,
   "id": "b799acce-b0b7-46bd-b9e4-bb50b2eb1cf3",
   "metadata": {},
   "outputs": [
    {
     "data": {
      "text/plain": [
       "array([[1., 1., 1., 1., 1., 0., 0., 0., 0., 0.],\n",
       "       [1., 1., 1., 1., 1., 0., 0., 0., 0., 0.],\n",
       "       [1., 1., 1., 1., 1., 0., 0., 0., 0., 0.],\n",
       "       [1., 1., 1., 1., 1., 0., 0., 0., 0., 0.],\n",
       "       [1., 1., 1., 1., 1., 0., 0., 0., 0., 0.],\n",
       "       [0., 0., 0., 0., 0., 1., 0., 0., 0., 0.],\n",
       "       [0., 0., 0., 0., 0., 0., 1., 0., 0., 0.],\n",
       "       [0., 0., 0., 0., 0., 0., 0., 1., 0., 0.],\n",
       "       [0., 0., 0., 0., 0., 0., 0., 0., 1., 0.],\n",
       "       [0., 0., 0., 0., 0., 0., 0., 0., 0., 1.]])"
      ]
     },
     "execution_count": 34,
     "metadata": {},
     "output_type": "execute_result"
    }
   ],
   "source": [
    "W"
   ]
  },
  {
   "cell_type": "markdown",
   "id": "3e11c956-9927-4032-a673-76efc414095a",
   "metadata": {},
   "source": [
    "## loader -> learn"
   ]
  },
  {
   "cell_type": "code",
   "execution_count": 8,
   "id": "7e37b437-392a-4856-b186-c9be1432ed7d",
   "metadata": {},
   "outputs": [],
   "source": [
    "loader = Loader(data_dict1)\n",
    "loader2 = Loader(data_dict2)\n",
    "# train_dataset1, test_dataset1 = eptstgcn.utils.temporal_signal_split(dataset1, train_ratio = 0.9)\n",
    "# train_dataset2, test_dataset2 = eptstgcn.utils.temporal_signal_split(dataset2, train_ratio = 0.9)\n",
    "# lrnr1 = eptstgcn.WeightedLossStgcnLeaner(train_dataset1, dataset_name = 'arbitarary weights')\n",
    "# lrnr2 = eptstgcn.WeightedLossStgcnLeaner(train_dataset2, dataset_name = 'Identity matrix')"
   ]
  },
  {
   "cell_type": "code",
   "execution_count": 9,
   "id": "56b512f3-4fa1-41bc-ab94-9a4657530cee",
   "metadata": {},
   "outputs": [],
   "source": [
    "plans_stgcn = {\n",
    "    'max_iteration': 10,  \n",
    "    'method': ['Weighted Loss'],\n",
    "    'W':W,\n",
    "    'lags': [1], \n",
    "    'nof_filters':[2, 4], \n",
    "    'epoch': [30] \n",
    "}"
   ]
  },
  {
   "cell_type": "code",
   "execution_count": 35,
   "id": "8d1b8823-0cc3-4a39-aa13-5ffc1d50a1f0",
   "metadata": {},
   "outputs": [],
   "source": [
    "plans_stgcn2 = {\n",
    "    'max_iteration': 10,  \n",
    "    'method': ['Weighted Loss'],\n",
    "    'W':W2,\n",
    "    'lags': [1], \n",
    "    'nof_filters':[2, 4], \n",
    "    'epoch': [30] \n",
    "}"
   ]
  },
  {
   "cell_type": "code",
   "execution_count": 49,
   "id": "90637229-1359-4220-a6c7-4a917fabc9d3",
   "metadata": {},
   "outputs": [],
   "source": [
    "# plnr = eptstgcn.planner.PLNR_STGCN2(plans_stgcn,loader,dataset_name= 'arbitrary weights')\n",
    "# plnr2 = eptstgcn.planner.PLNR_STGCN2(plans_stgcn2, loader2, dataset_name= 'identity matrix weights')\n",
    "\n",
    "# plnr1_2 = eptstgcn.planner.PLNR_STGCN2(plans_stgcn,loader,dataset_name= 'arbitrary weights')\n",
    "# plnr2_2 = eptstgcn.planner.PLNR_STGCN2(plans_stgcn2, loader2, dataset_name= 'identity matrix weights') \n",
    "\n",
    "plnr1_3 = eptstgcn.planner.PLNR_STGCN2(plans_stgcn,loader,dataset_name= 'arbitrary weights')\n",
    "plnr2_3 = eptstgcn.planner.PLNR_STGCN2(plans_stgcn2, loader2, dataset_name= 'identity matrix weights') "
   ]
  },
  {
   "cell_type": "code",
   "execution_count": null,
   "id": "e1ce8279-ff82-480b-9398-ff2f586432c8",
   "metadata": {},
   "outputs": [
    {
     "name": "stdout",
     "output_type": "stream",
     "text": [
      "1/10 is done\n",
      "2/10 is done\n",
      "3/10 is done\n",
      "4/10 is done\n",
      "5/10 is done\n",
      "6/10 is done\n",
      "7/10 is done\n",
      "26/30\r"
     ]
    }
   ],
   "source": [
    "# plnr.simulate()\n",
    "# plnr2.simulate()\n",
    "\n",
    "plnr1_3.simulate()\n",
    "plnr2_3.simulate()"
   ]
  },
  {
   "cell_type": "code",
   "execution_count": null,
   "id": "255f23c1-a6f0-4345-b69d-05f48f20c65b",
   "metadata": {},
   "outputs": [],
   "source": [
    "plnr1_3"
   ]
  },
  {
   "cell_type": "code",
   "execution_count": 42,
   "id": "a7ea9963-1988-41b9-950c-6fe211a69290",
   "metadata": {},
   "outputs": [],
   "source": [
    "# plnr2.simulation_results"
   ]
  },
  {
   "cell_type": "code",
   "execution_count": 41,
   "id": "c96012d4-6d9e-4ee0-afc3-bebf057048e4",
   "metadata": {},
   "outputs": [],
   "source": [
    "# plnr.simulation_results"
   ]
  },
  {
   "cell_type": "code",
   "execution_count": 30,
   "id": "03751b62-0f54-494c-a58a-07205d430d93",
   "metadata": {},
   "outputs": [
    {
     "data": {
      "text/plain": [
       "(2568, 10)"
      ]
     },
     "execution_count": 30,
     "metadata": {},
     "output_type": "execute_result"
    }
   ],
   "source": [
    "np.array(FX).shape"
   ]
  },
  {
   "cell_type": "markdown",
   "id": "1d10a7d2-7062-400b-8748-62161721d0c1",
   "metadata": {},
   "source": [
    "- lags와 W 바뀜.."
   ]
  },
  {
   "cell_type": "code",
   "execution_count": 39,
   "id": "2cde2e09-70f2-4e89-8826-49d957388518",
   "metadata": {},
   "outputs": [],
   "source": [
    "rslt = plnr.simulation_results\n",
    "rslt2 = plnr2.simulation_results"
   ]
  },
  {
   "cell_type": "code",
   "execution_count": 21,
   "id": "564f72ff-bbdd-4393-9f6c-f578e6368d30",
   "metadata": {},
   "outputs": [
    {
     "data": {
      "text/html": [
       "<div>\n",
       "<style scoped>\n",
       "    .dataframe tbody tr th:only-of-type {\n",
       "        vertical-align: middle;\n",
       "    }\n",
       "\n",
       "    .dataframe tbody tr th {\n",
       "        vertical-align: top;\n",
       "    }\n",
       "\n",
       "    .dataframe thead tr th {\n",
       "        text-align: left;\n",
       "    }\n",
       "\n",
       "    .dataframe thead tr:last-of-type th {\n",
       "        text-align: right;\n",
       "    }\n",
       "</style>\n",
       "<table border=\"1\" class=\"dataframe\">\n",
       "  <thead>\n",
       "    <tr>\n",
       "      <th></th>\n",
       "      <th colspan=\"2\" halign=\"left\">mse(train)</th>\n",
       "      <th colspan=\"2\" halign=\"left\">mse(test)</th>\n",
       "    </tr>\n",
       "    <tr>\n",
       "      <th></th>\n",
       "      <th>mean</th>\n",
       "      <th>var</th>\n",
       "      <th>mean</th>\n",
       "      <th>var</th>\n",
       "    </tr>\n",
       "    <tr>\n",
       "      <th>nof_filters</th>\n",
       "      <th></th>\n",
       "      <th></th>\n",
       "      <th></th>\n",
       "      <th></th>\n",
       "    </tr>\n",
       "  </thead>\n",
       "  <tbody>\n",
       "    <tr>\n",
       "      <th>2</th>\n",
       "      <td>0.346564</td>\n",
       "      <td>0.079874</td>\n",
       "      <td>0.285684</td>\n",
       "      <td>0.056473</td>\n",
       "    </tr>\n",
       "    <tr>\n",
       "      <th>4</th>\n",
       "      <td>0.259227</td>\n",
       "      <td>0.027038</td>\n",
       "      <td>0.209062</td>\n",
       "      <td>0.018440</td>\n",
       "    </tr>\n",
       "  </tbody>\n",
       "</table>\n",
       "</div>"
      ],
      "text/plain": [
       "            mse(train)           mse(test)          \n",
       "                  mean       var      mean       var\n",
       "nof_filters                                         \n",
       "2             0.346564  0.079874  0.285684  0.056473\n",
       "4             0.259227  0.027038  0.209062  0.018440"
      ]
     },
     "execution_count": 21,
     "metadata": {},
     "output_type": "execute_result"
    }
   ],
   "source": [
    "rslt.groupby(['nof_filters'])\\\n",
    "             .agg({'mse(train)':['mean', 'var'], 'mse(test)':['mean','var']})"
   ]
  },
  {
   "cell_type": "code",
   "execution_count": 40,
   "id": "34bb7c93-8384-4e37-9370-fa436faa640a",
   "metadata": {},
   "outputs": [
    {
     "data": {
      "text/html": [
       "<div>\n",
       "<style scoped>\n",
       "    .dataframe tbody tr th:only-of-type {\n",
       "        vertical-align: middle;\n",
       "    }\n",
       "\n",
       "    .dataframe tbody tr th {\n",
       "        vertical-align: top;\n",
       "    }\n",
       "\n",
       "    .dataframe thead tr th {\n",
       "        text-align: left;\n",
       "    }\n",
       "\n",
       "    .dataframe thead tr:last-of-type th {\n",
       "        text-align: right;\n",
       "    }\n",
       "</style>\n",
       "<table border=\"1\" class=\"dataframe\">\n",
       "  <thead>\n",
       "    <tr>\n",
       "      <th></th>\n",
       "      <th colspan=\"2\" halign=\"left\">mse(train)</th>\n",
       "      <th colspan=\"2\" halign=\"left\">mse(test)</th>\n",
       "    </tr>\n",
       "    <tr>\n",
       "      <th></th>\n",
       "      <th>mean</th>\n",
       "      <th>var</th>\n",
       "      <th>mean</th>\n",
       "      <th>var</th>\n",
       "    </tr>\n",
       "    <tr>\n",
       "      <th>nof_filters</th>\n",
       "      <th></th>\n",
       "      <th></th>\n",
       "      <th></th>\n",
       "      <th></th>\n",
       "    </tr>\n",
       "  </thead>\n",
       "  <tbody>\n",
       "    <tr>\n",
       "      <th>2</th>\n",
       "      <td>0.501088</td>\n",
       "      <td>0.138520</td>\n",
       "      <td>0.415330</td>\n",
       "      <td>0.096918</td>\n",
       "    </tr>\n",
       "    <tr>\n",
       "      <th>4</th>\n",
       "      <td>0.293864</td>\n",
       "      <td>0.048235</td>\n",
       "      <td>0.241179</td>\n",
       "      <td>0.033181</td>\n",
       "    </tr>\n",
       "  </tbody>\n",
       "</table>\n",
       "</div>"
      ],
      "text/plain": [
       "            mse(train)           mse(test)          \n",
       "                  mean       var      mean       var\n",
       "nof_filters                                         \n",
       "2             0.501088  0.138520  0.415330  0.096918\n",
       "4             0.293864  0.048235  0.241179  0.033181"
      ]
     },
     "execution_count": 40,
     "metadata": {},
     "output_type": "execute_result"
    }
   ],
   "source": [
    "rslt2.groupby(['nof_filters'])\\\n",
    "             .agg({'mse(train)':['mean', 'var'], 'mse(test)':['mean','var']})"
   ]
  }
 ],
 "metadata": {
  "kernelspec": {
   "display_name": "Python 3",
   "language": "python",
   "name": "python3"
  },
  "language_info": {
   "codemirror_mode": {
    "name": "ipython",
    "version": 3
   },
   "file_extension": ".py",
   "mimetype": "text/x-python",
   "name": "python",
   "nbconvert_exporter": "python",
   "pygments_lexer": "ipython3",
   "version": "3.8.16"
  }
 },
 "nbformat": 4,
 "nbformat_minor": 5
}
