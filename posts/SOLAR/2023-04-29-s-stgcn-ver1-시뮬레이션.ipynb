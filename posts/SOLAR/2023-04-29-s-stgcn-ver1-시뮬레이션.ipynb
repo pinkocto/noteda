{
 "cells": [
  {
   "cell_type": "raw",
   "id": "cf4a5937-6946-43b0-99b9-73cb93bbacba",
   "metadata": {},
   "source": [
    "---\n",
    "title: \" **[SOLAR]** STGCN Ver1 (data2, -N +S) 시뮬레이션(epoch, filter, lag)\" \n",
    "author: \"JiyunLim\"\n",
    "date: \"04/29/2023\"\n",
    "categories:\n",
    "  - Research\n",
    "  - STGCN\n",
    "  - SOLAR\n",
    "---"
   ]
  },
  {
   "cell_type": "markdown",
   "id": "3916b16b-eb5a-4ecc-b413-ec6452686fc7",
   "metadata": {},
   "source": [
    "# STGCN Ver1"
   ]
  },
  {
   "cell_type": "markdown",
   "id": "13edf43d-1cab-4383-99c4-e4249e70b099",
   "metadata": {},
   "source": [
    "## ref\n",
    "- <https://github.com/miruetoto/yechan3/tree/main/posts/3_Researches/ITSTGCN/itstgcn>\n",
    "- <https://miruetoto.github.io/yechan3/posts/3_Researches/ITSTGCN/2023-03-18-SimulationPlanner-Tutorial.html#plnr_gnar_block>"
   ]
  },
  {
   "cell_type": "markdown",
   "id": "4002635e-1114-4889-842f-6cb44be61d33",
   "metadata": {},
   "source": [
    "## 2022/06/01 ~ 2022/09/15\n",
    "\n",
    "- train 2022-06-01 00:00:00 ~ 2022-08-14 17:00:00\n",
    "- test 2022-08-14 18:00:00 ~ 2022-09-15 23:00:00"
   ]
  },
  {
   "cell_type": "markdown",
   "id": "3bc8bd68-9be0-403b-ad55-b2c793f8f0a7",
   "metadata": {},
   "source": [
    "# import"
   ]
  },
  {
   "cell_type": "code",
   "execution_count": 1,
   "id": "3b8604e7-5c59-4da3-80d0-e657ccb1f4c5",
   "metadata": {},
   "outputs": [],
   "source": [
    "import eptstgcn\n",
    "import torch\n",
    "import eptstgcn.planner\n",
    "\n",
    "import warnings\n",
    "warnings.filterwarnings('ignore')\n",
    "\n",
    "import numpy as np\n",
    "import pandas as pd"
   ]
  },
  {
   "cell_type": "markdown",
   "id": "ed469bf3-e0c4-4dd2-b879-fe20270381bf",
   "metadata": {},
   "source": [
    "# Read Data"
   ]
  },
  {
   "cell_type": "code",
   "execution_count": 2,
   "id": "7fad3a38-65e7-4f18-b6b7-5d8e2c2ec91d",
   "metadata": {},
   "outputs": [],
   "source": [
    "url = \"https://raw.githubusercontent.com/pinkocto/noteda/main/posts/SOLAR/data2/stgcn_data1.json\"\n",
    "loader = eptstgcn.DatasetLoader(url)\n",
    "# dataset = loader.get_dataset(lags=4)\n",
    "# train_dataset, test_dataset = eptstgcn.utils.temporal_signal_split(dataset, train_ratio = 0.7)"
   ]
  },
  {
   "cell_type": "markdown",
   "id": "30b0704a-5135-46c9-b309-ada9cf398a52",
   "metadata": {},
   "source": [
    "# Simulation"
   ]
  },
  {
   "cell_type": "markdown",
   "id": "a244674c-efa2-41a9-bb8f-3879d195cfe9",
   "metadata": {},
   "source": [
    "## 50 epoch"
   ]
  },
  {
   "cell_type": "code",
   "execution_count": 3,
   "id": "8a25779b-102b-4935-9a15-073a1ea38d13",
   "metadata": {},
   "outputs": [],
   "source": [
    "plans_stgcn = {\n",
    "    'max_iteration': 1, # 30 \n",
    "    'method': ['STGCN'], \n",
    "    'lags': [4, 8, 12], \n",
    "    'nof_filters': [16, 32, 64], \n",
    "    'epoch': [50] # [50, 100, 150]\n",
    "}"
   ]
  },
  {
   "cell_type": "code",
   "execution_count": 4,
   "id": "76c05aea-7e33-4717-b9e7-26aa87f69334",
   "metadata": {},
   "outputs": [],
   "source": [
    "plnr = eptstgcn.planner.PLNR_STGCN(plans_stgcn,loader,dataset_name='data2')"
   ]
  },
  {
   "cell_type": "code",
   "execution_count": 5,
   "id": "4052148a-d234-4b39-99c3-c619bf54acbc",
   "metadata": {},
   "outputs": [
    {
     "name": "stdout",
     "output_type": "stream",
     "text": [
      "1/1 is done\n",
      "All results are stored in ./simulation_results/2023-05-01_21-13-58.csv\n"
     ]
    }
   ],
   "source": [
    "plnr.simulate()"
   ]
  },
  {
   "cell_type": "code",
   "execution_count": 7,
   "id": "73a4d088-c29c-48de-a527-c65600a38c6a",
   "metadata": {},
   "outputs": [],
   "source": [
    "eptstgcn.save_data(plnr,'./simul_model2/stgcn_v1_50epoch.pickle')"
   ]
  },
  {
   "cell_type": "code",
   "execution_count": 8,
   "id": "5f315912-e037-455c-aa00-28ccb97c8a79",
   "metadata": {},
   "outputs": [],
   "source": [
    "simul_model_50 = eptstgcn.load_data('./simul_model2/stgcn_v1_50epoch.pickle')"
   ]
  },
  {
   "cell_type": "code",
   "execution_count": 10,
   "id": "d3d51a9d-1d38-4a07-829c-52e6736043ef",
   "metadata": {},
   "outputs": [
    {
     "data": {
      "text/html": [
       "<div>\n",
       "<style scoped>\n",
       "    .dataframe tbody tr th:only-of-type {\n",
       "        vertical-align: middle;\n",
       "    }\n",
       "\n",
       "    .dataframe tbody tr th {\n",
       "        vertical-align: top;\n",
       "    }\n",
       "\n",
       "    .dataframe thead th {\n",
       "        text-align: right;\n",
       "    }\n",
       "</style>\n",
       "<table border=\"1\" class=\"dataframe\">\n",
       "  <thead>\n",
       "    <tr style=\"text-align: right;\">\n",
       "      <th></th>\n",
       "      <th>dataset</th>\n",
       "      <th>method</th>\n",
       "      <th>lags</th>\n",
       "      <th>nof_filters</th>\n",
       "      <th>epoch</th>\n",
       "      <th>mse(train)</th>\n",
       "      <th>mse(test)</th>\n",
       "      <th>calculation_time</th>\n",
       "    </tr>\n",
       "  </thead>\n",
       "  <tbody>\n",
       "    <tr>\n",
       "      <th>0</th>\n",
       "      <td>data2</td>\n",
       "      <td>STGCN</td>\n",
       "      <td>4</td>\n",
       "      <td>16</td>\n",
       "      <td>50</td>\n",
       "      <td>0.182058</td>\n",
       "      <td>0.167798</td>\n",
       "      <td>299.051996</td>\n",
       "    </tr>\n",
       "    <tr>\n",
       "      <th>1</th>\n",
       "      <td>data2</td>\n",
       "      <td>STGCN</td>\n",
       "      <td>4</td>\n",
       "      <td>32</td>\n",
       "      <td>50</td>\n",
       "      <td>0.201436</td>\n",
       "      <td>0.188044</td>\n",
       "      <td>305.62022</td>\n",
       "    </tr>\n",
       "    <tr>\n",
       "      <th>2</th>\n",
       "      <td>data2</td>\n",
       "      <td>STGCN</td>\n",
       "      <td>4</td>\n",
       "      <td>64</td>\n",
       "      <td>50</td>\n",
       "      <td>0.191472</td>\n",
       "      <td>0.174166</td>\n",
       "      <td>316.454904</td>\n",
       "    </tr>\n",
       "    <tr>\n",
       "      <th>3</th>\n",
       "      <td>data2</td>\n",
       "      <td>STGCN</td>\n",
       "      <td>8</td>\n",
       "      <td>16</td>\n",
       "      <td>50</td>\n",
       "      <td>0.192159</td>\n",
       "      <td>0.17396</td>\n",
       "      <td>304.476469</td>\n",
       "    </tr>\n",
       "    <tr>\n",
       "      <th>4</th>\n",
       "      <td>data2</td>\n",
       "      <td>STGCN</td>\n",
       "      <td>8</td>\n",
       "      <td>32</td>\n",
       "      <td>50</td>\n",
       "      <td>0.205647</td>\n",
       "      <td>0.177749</td>\n",
       "      <td>309.493689</td>\n",
       "    </tr>\n",
       "    <tr>\n",
       "      <th>5</th>\n",
       "      <td>data2</td>\n",
       "      <td>STGCN</td>\n",
       "      <td>8</td>\n",
       "      <td>64</td>\n",
       "      <td>50</td>\n",
       "      <td>0.193967</td>\n",
       "      <td>0.170748</td>\n",
       "      <td>320.984409</td>\n",
       "    </tr>\n",
       "    <tr>\n",
       "      <th>6</th>\n",
       "      <td>data2</td>\n",
       "      <td>STGCN</td>\n",
       "      <td>12</td>\n",
       "      <td>16</td>\n",
       "      <td>50</td>\n",
       "      <td>0.201442</td>\n",
       "      <td>0.177695</td>\n",
       "      <td>315.960462</td>\n",
       "    </tr>\n",
       "    <tr>\n",
       "      <th>7</th>\n",
       "      <td>data2</td>\n",
       "      <td>STGCN</td>\n",
       "      <td>12</td>\n",
       "      <td>32</td>\n",
       "      <td>50</td>\n",
       "      <td>0.191433</td>\n",
       "      <td>0.177609</td>\n",
       "      <td>317.608783</td>\n",
       "    </tr>\n",
       "    <tr>\n",
       "      <th>8</th>\n",
       "      <td>data2</td>\n",
       "      <td>STGCN</td>\n",
       "      <td>12</td>\n",
       "      <td>64</td>\n",
       "      <td>50</td>\n",
       "      <td>0.195411</td>\n",
       "      <td>0.177827</td>\n",
       "      <td>327.97184</td>\n",
       "    </tr>\n",
       "  </tbody>\n",
       "</table>\n",
       "</div>"
      ],
      "text/plain": [
       "  dataset method lags nof_filters epoch mse(train) mse(test) calculation_time\n",
       "0   data2  STGCN    4          16    50   0.182058  0.167798       299.051996\n",
       "1   data2  STGCN    4          32    50   0.201436  0.188044        305.62022\n",
       "2   data2  STGCN    4          64    50   0.191472  0.174166       316.454904\n",
       "3   data2  STGCN    8          16    50   0.192159   0.17396       304.476469\n",
       "4   data2  STGCN    8          32    50   0.205647  0.177749       309.493689\n",
       "5   data2  STGCN    8          64    50   0.193967  0.170748       320.984409\n",
       "6   data2  STGCN   12          16    50   0.201442  0.177695       315.960462\n",
       "7   data2  STGCN   12          32    50   0.191433  0.177609       317.608783\n",
       "8   data2  STGCN   12          64    50   0.195411  0.177827        327.97184"
      ]
     },
     "execution_count": 10,
     "metadata": {},
     "output_type": "execute_result"
    }
   ],
   "source": [
    "simul_model_50.simulation_results"
   ]
  },
  {
   "cell_type": "code",
   "execution_count": 9,
   "id": "dd0b2969-7927-4e3f-9e5e-13fa1ee2f286",
   "metadata": {},
   "outputs": [
    {
     "name": "stdout",
     "output_type": "stream",
     "text": [
      "stgcn ver1 50epoch 시뮬레이션 끝!\n"
     ]
    }
   ],
   "source": [
    "print('stgcn ver1 50epoch 시뮬레이션 끝!')"
   ]
  },
  {
   "cell_type": "code",
   "execution_count": 12,
   "id": "680f9c15-780f-4a39-aa85-da052af0f249",
   "metadata": {},
   "outputs": [
    {
     "data": {
      "image/png": "[encoded data removed]",
      "text/plain": [
       "<Figure size 432x288 with 1 Axes>"
      ]
     },
     "metadata": {
      "needs_background": "light"
     },
     "output_type": "display_data"
    }
   ],
   "source": [
    "import matplotlib.pyplot as plt\n",
    "plt.boxplot(simul_model_50.simulation_results['mse(test)'])\n",
    "plt.show()"
   ]
  },
  {
   "cell_type": "markdown",
   "id": "cfec2e73-396f-4cb1-9df5-e228acf43697",
   "metadata": {},
   "source": [
    "## 100 epoch"
   ]
  },
  {
   "cell_type": "code",
   "execution_count": 13,
   "id": "6bb7a282-c848-4a91-a399-564ff7990afd",
   "metadata": {},
   "outputs": [],
   "source": [
    "plans_stgcn = {\n",
    "    'max_iteration': 1, # 30 \n",
    "    'method': ['STGCN'], \n",
    "    'lags': [4, 8, 12], \n",
    "    'nof_filters': [16, 32, 64], \n",
    "    'epoch': [100] # [50, 100, 150]\n",
    "}"
   ]
  },
  {
   "cell_type": "code",
   "execution_count": 14,
   "id": "0e3ad5e6-defd-4080-9728-7b516ff64254",
   "metadata": {},
   "outputs": [],
   "source": [
    "plnr = eptstgcn.planner.PLNR_STGCN(plans_stgcn,loader,dataset_name='data2')"
   ]
  },
  {
   "cell_type": "code",
   "execution_count": 15,
   "id": "b252a734-b622-42f5-87e9-b9481a950a16",
   "metadata": {},
   "outputs": [
    {
     "name": "stdout",
     "output_type": "stream",
     "text": [
      "1/1 is done\n",
      "All results are stored in ./simulation_results/2023-05-02_00-43-59.csv\n"
     ]
    }
   ],
   "source": [
    "plnr.simulate()"
   ]
  },
  {
   "cell_type": "code",
   "execution_count": 16,
   "id": "74bd0a9c-58d4-4b4a-8385-3f29e02c0603",
   "metadata": {},
   "outputs": [],
   "source": [
    "eptstgcn.save_data(plnr, './simul_model2/stgcn_v1_100epoch.pickle')"
   ]
  },
  {
   "cell_type": "code",
   "execution_count": 17,
   "id": "a079584b-12d8-44ab-a856-74436f9deff2",
   "metadata": {},
   "outputs": [],
   "source": [
    "simul_model_100 = eptstgcn.load_data('./simul_model2/stgcn_v1_100epoch.pickle')"
   ]
  },
  {
   "cell_type": "markdown",
   "id": "9d2a8071-17e5-495b-9254-2e3404676a6d",
   "metadata": {},
   "source": [
    "## 150 epoch"
   ]
  },
  {
   "cell_type": "code",
   "execution_count": 18,
   "id": "54f7152e-a292-485e-b3f7-a99144671463",
   "metadata": {},
   "outputs": [],
   "source": [
    "plans_stgcn = {\n",
    "    'max_iteration': 1, # 30 \n",
    "    'method': ['STGCN'], \n",
    "    'lags': [4, 8, 12], \n",
    "    'nof_filters': [16, 32, 64], \n",
    "    'epoch': [150] # [50, 100, 150]\n",
    "}"
   ]
  },
  {
   "cell_type": "code",
   "execution_count": 19,
   "id": "5e299a5b-b136-4190-9385-9f23c1432c65",
   "metadata": {},
   "outputs": [],
   "source": [
    "plnr = eptstgcn.planner.PLNR_STGCN(plans_stgcn,loader,dataset_name='data2')"
   ]
  },
  {
   "cell_type": "code",
   "execution_count": 20,
   "id": "802e7d34-f9aa-4b9f-8176-11edd55b8a03",
   "metadata": {},
   "outputs": [
    {
     "name": "stdout",
     "output_type": "stream",
     "text": [
      "1/1 is done\n",
      "All results are stored in ./simulation_results/2023-05-02_03-05-45.csv\n"
     ]
    }
   ],
   "source": [
    "plnr.simulate()"
   ]
  },
  {
   "cell_type": "code",
   "execution_count": 22,
   "id": "85578b55-71c5-46b2-836b-385318ad6c2a",
   "metadata": {},
   "outputs": [],
   "source": [
    "eptstgcn.save_data(plnr,'./simul_model2/stgcn_v1_150epoch.pickle')"
   ]
  },
  {
   "cell_type": "code",
   "execution_count": 23,
   "id": "1484c162-80d8-4a90-830c-e7f1a4ed13e7",
   "metadata": {},
   "outputs": [],
   "source": [
    "simul_model_150 = eptstgcn.load_data('./simul_model2/stgcn_v1_150epoch.pickle')"
   ]
  },
  {
   "cell_type": "markdown",
   "id": "58618d6b-d562-40d6-b0d4-e352f1689cca",
   "metadata": {},
   "source": [
    "# + Normalization"
   ]
  },
  {
   "cell_type": "code",
   "execution_count": null,
   "id": "e3ef47aa-a4e7-40df-ae1e-b3779a715345",
   "metadata": {},
   "outputs": [],
   "source": [
    "url = \"https://raw.githubusercontent.com/pinkocto/noteda/main/posts/SOLAR/data2/stgcn_data1.json\"\n",
    "loader = eptstgcn.DatasetLoader(url)\n",
    "dataset = loader.get_dataset(lags=4)"
   ]
  },
  {
   "cell_type": "code",
   "execution_count": null,
   "id": "1d73961d-9374-4f22-9faf-05050b6ea36e",
   "metadata": {},
   "outputs": [],
   "source": [
    "train_dataset, test_dataset = eptstgcn.utils.temporal_signal_split(dataset, train_ratio = 0.7)"
   ]
  }
 ],
 "metadata": {
  "kernelspec": {
   "display_name": "Python 3",
   "language": "python",
   "name": "python3"
  },
  "language_info": {
   "codemirror_mode": {
    "name": "ipython",
    "version": 3
   },
   "file_extension": ".py",
   "mimetype": "text/x-python",
   "name": "python",
   "nbconvert_exporter": "python",
   "pygments_lexer": "ipython3",
   "version": "3.8.16"
  }
 },
 "nbformat": 4,
 "nbformat_minor": 5
}
