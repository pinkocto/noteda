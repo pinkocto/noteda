{
 "cells": [
  {
   "cell_type": "raw",
   "id": "123dc01c-ac95-4621-a4a8-e7881e2059dd",
   "metadata": {},
   "source": [
    "---\n",
    "title: \" **[SOLAR]** 0531 \"\n",
    "author: \"JiyunLim\"\n",
    "date: \"05/31/2023\"\n",
    "categories:\n",
    "  - Research\n",
    "  - SOLAR\n",
    "---"
   ]
  },
  {
   "cell_type": "markdown",
   "id": "6bbb393a-d792-4e48-b0e5-bee363e95bf5",
   "metadata": {},
   "source": [
    "------"
   ]
  },
  {
   "cell_type": "markdown",
   "id": "084d724a-31a0-4976-b82a-65242797edbf",
   "metadata": {},
   "source": [
    "- $loss1 = (y-\\hat{y})^\\top (y-\\hat{y})$\n",
    "\n",
    "- $loss2 = (y-\\hat{y})(y-\\hat{y})^\\top\\odot W$\n",
    "-----------------------\n",
    "- $w_1 = \\bf{I}$\n",
    "\n",
    "- $w_2 = corr$\n",
    "\n",
    "- $w_3$ = EPT or 임의로 계산할 수 있는 $w$."
   ]
  },
  {
   "cell_type": "markdown",
   "id": "5f9c9b76-4d13-4214-a604-0455bec4261b",
   "metadata": {},
   "source": [
    "------------"
   ]
  },
  {
   "cell_type": "markdown",
   "id": "24bb0bf4-6849-4496-b75d-92bb0c433577",
   "metadata": {},
   "source": [
    "### 1. Method1\n",
    "\n",
    "-  $loss1 + w_1$ :  LSTM \n",
    "-  $loss2 + w_1$ : LSTM ------>"
   ]
  },
  {
   "cell_type": "markdown",
   "id": "8798c16a-a19f-4c12-bb6b-1409bab3a06a",
   "metadata": {},
   "source": [
    "### 2. Method2\n",
    "\n",
    "- $loss1 + w_2$ : LSTM + GNN\n",
    "- $loss2 + w_2$ : new method (X)"
   ]
  },
  {
   "cell_type": "markdown",
   "id": "6dca1685-1681-4d42-b067-68213f664996",
   "metadata": {},
   "source": [
    "### 3. Method3\n",
    "\n",
    "- $loss1 + w_3$ : LSTM + GNN + EPT = EPT-STGCN.\n",
    "- $loss2 + w_3$ : new method ------->"
   ]
  },
  {
   "cell_type": "markdown",
   "id": "f522ac9e-f04d-48b3-8fba-d10e47f685bd",
   "metadata": {},
   "source": [
    "----"
   ]
  },
  {
   "cell_type": "markdown",
   "id": "dc65e81a-b2e9-472b-9a13-523f89688ed1",
   "metadata": {},
   "source": [
    "$1 < 2,3$"
   ]
  },
  {
   "cell_type": "markdown",
   "id": "a66ae09a-3f2a-4a35-84cb-7c6f27201342",
   "metadata": {},
   "source": [
    "1번보다 2,3번이 무조건 좋긴 함."
   ]
  },
  {
   "cell_type": "markdown",
   "id": "0838ea15-eb0a-46a2-a346-763dd956e536",
   "metadata": {},
   "source": [
    "$loss2 + w_1$과 $loss2+w_3$ 비교"
   ]
  }
 ],
 "metadata": {
  "kernelspec": {
   "display_name": "Python 3",
   "language": "python",
   "name": "python3"
  },
  "language_info": {
   "codemirror_mode": {
    "name": "ipython",
    "version": 3
   },
   "file_extension": ".py",
   "mimetype": "text/x-python",
   "name": "python",
   "nbconvert_exporter": "python",
   "pygments_lexer": "ipython3",
   "version": "3.8.16"
  }
 },
 "nbformat": 4,
 "nbformat_minor": 5
}
