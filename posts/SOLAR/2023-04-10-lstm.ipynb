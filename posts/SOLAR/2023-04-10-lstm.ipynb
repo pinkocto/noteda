{
 "cells": [
  {
   "cell_type": "raw",
   "id": "365e0899-a658-4cef-8dd7-7f82d325e35d",
   "metadata": {},
   "source": [
    "---\n",
    "title: \"**[SOLAR]** LSTM\"\n",
    "author: \"JiyunLim\"\n",
    "date: \"04/10/2023\"\n",
    "categories:\n",
    "  - SOLAR\n",
    "  - Model\n",
    "---"
   ]
  },
  {
   "cell_type": "code",
   "execution_count": null,
   "id": "c5c1405e-a019-45f6-b048-123b6994f241",
   "metadata": {},
   "outputs": [],
   "source": []
  }
 ],
 "metadata": {
  "kernelspec": {
   "display_name": "Python 3",
   "language": "python",
   "name": "python3"
  },
  "language_info": {
   "codemirror_mode": {
    "name": "ipython",
    "version": 3
   },
   "file_extension": ".py",
   "mimetype": "text/x-python",
   "name": "python",
   "nbconvert_exporter": "python",
   "pygments_lexer": "ipython3",
   "version": "3.8.16"
  }
 },
 "nbformat": 4,
 "nbformat_minor": 5
}
