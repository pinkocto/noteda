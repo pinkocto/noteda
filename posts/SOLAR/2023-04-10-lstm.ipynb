{
 "cells": [
  {
   "cell_type": "raw",
   "id": "365e0899-a658-4cef-8dd7-7f82d325e35d",
   "metadata": {},
   "source": [
    "---\n",
    "title: \"**[SOLAR]** LSTM\"\n",
    "author: \"JiyunLim\"\n",
    "date: \"04/10/2023\"\n",
    "categories:\n",
    "  - SOLAR\n",
    "  - Model\n",
    "---"
   ]
  },
  {
   "cell_type": "markdown",
   "id": "d5b63c2e-0cc9-4b07-af9d-018df7fc6b96",
   "metadata": {},
   "source": [
    "# LSTM"
   ]
  },
  {
   "cell_type": "markdown",
   "id": "dda83ce7-3de6-4981-8140-a8993346f0da",
   "metadata": {},
   "source": [
    "- [Data]()"
   ]
  },
  {
   "cell_type": "markdown",
   "id": "46ca3875-d3fa-4517-8031-fa63d53658eb",
   "metadata": {},
   "source": [
    "## import"
   ]
  },
  {
   "cell_type": "code",
   "execution_count": 6,
   "id": "6e6bf45a-8553-4f5c-b368-ae0b0eed70c3",
   "metadata": {},
   "outputs": [],
   "source": [
    "import pandas as pd\n",
    "import numpy as np\n",
    "import json\n",
    "import urllib\n",
    "import gc\n",
    "\n",
    "import matplotlib.pyplot as plt"
   ]
  },
  {
   "cell_type": "code",
   "execution_count": 5,
   "id": "74ed1c8d-3e47-42c1-95b4-895ce079e615",
   "metadata": {},
   "outputs": [],
   "source": [
    "url = 'https://raw.githubusercontent.com/pinkocto/noteda/main/posts/SOLAR/data/df_new.csv'\n",
    "df = pd.read_csv(url)"
   ]
  },
  {
   "cell_type": "code",
   "execution_count": null,
   "id": "b4f716ea-d8ad-41fb-a257-29970e6523a2",
   "metadata": {},
   "outputs": [],
   "source": []
  },
  {
   "cell_type": "code",
   "execution_count": null,
   "id": "bbccb7e7-41c6-486b-8895-e4001fe8da08",
   "metadata": {},
   "outputs": [],
   "source": []
  },
  {
   "cell_type": "code",
   "execution_count": null,
   "id": "9598644c-0c6c-40b2-8981-89a4ca86d321",
   "metadata": {},
   "outputs": [],
   "source": []
  },
  {
   "cell_type": "code",
   "execution_count": null,
   "id": "81643b1b-e0b5-4ed6-a37e-c7619cef1f70",
   "metadata": {},
   "outputs": [],
   "source": []
  }
 ],
 "metadata": {
  "kernelspec": {
   "display_name": "Python 3",
   "language": "python",
   "name": "python3"
  },
  "language_info": {
   "codemirror_mode": {
    "name": "ipython",
    "version": 3
   },
   "file_extension": ".py",
   "mimetype": "text/x-python",
   "name": "python",
   "nbconvert_exporter": "python",
   "pygments_lexer": "ipython3",
   "version": "3.8.16"
  }
 },
 "nbformat": 4,
 "nbformat_minor": 5
}
