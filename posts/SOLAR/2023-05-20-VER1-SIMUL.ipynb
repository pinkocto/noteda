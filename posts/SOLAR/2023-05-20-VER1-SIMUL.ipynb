{
 "cells": [
  {
   "cell_type": "raw",
   "id": "cf4a5937-6946-43b0-99b9-73cb93bbacba",
   "metadata": {},
   "source": [
    "---\n",
    "title: \" **[SOLAR]** STGCN Ver1 SIMULATION (data2)\" \n",
    "author: \"JiyunLim\"\n",
    "date: \"05/20/2023\"\n",
    "categories:\n",
    "  - Research\n",
    "  - STGCN\n",
    "  - SOLAR\n",
    "  - SIMUL\n",
    "---"
   ]
  },
  {
   "cell_type": "markdown",
   "id": "3916b16b-eb5a-4ecc-b413-ec6452686fc7",
   "metadata": {},
   "source": [
    "# STGCN Ver1"
   ]
  },
  {
   "cell_type": "markdown",
   "id": "2714e790-cf58-405f-b011-c2d8a237f247",
   "metadata": {},
   "source": [
    "> edit: loss"
   ]
  },
  {
   "cell_type": "markdown",
   "id": "13edf43d-1cab-4383-99c4-e4249e70b099",
   "metadata": {},
   "source": [
    "## ref\n",
    "- <https://github.com/miruetoto/yechan3/tree/main/posts/3_Researches/ITSTGCN/itstgcn>\n",
    "- <https://miruetoto.github.io/yechan3/posts/3_Researches/ITSTGCN/2023-03-18-SimulationPlanner-Tutorial.html#plnr_gnar_block>"
   ]
  },
  {
   "cell_type": "markdown",
   "id": "4002635e-1114-4889-842f-6cb44be61d33",
   "metadata": {},
   "source": [
    "## 2022/06/01 ~ 2022/09/15\n",
    "\n",
    "- train 2022-06-01 00:00:00 ~ 2022-08-14 17:00:00\n",
    "- test 2022-08-14 18:00:00 ~ 2022-09-15 23:00:00"
   ]
  },
  {
   "cell_type": "markdown",
   "id": "3bc8bd68-9be0-403b-ad55-b2c793f8f0a7",
   "metadata": {},
   "source": [
    "# import"
   ]
  },
  {
   "cell_type": "code",
   "execution_count": 1,
   "id": "3b8604e7-5c59-4da3-80d0-e657ccb1f4c5",
   "metadata": {},
   "outputs": [],
   "source": [
    "import eptstgcn\n",
    "import torch\n",
    "import eptstgcn.planner\n",
    "\n",
    "import warnings\n",
    "warnings.filterwarnings('ignore')\n",
    "\n",
    "import numpy as np\n",
    "import pandas as pd"
   ]
  },
  {
   "cell_type": "markdown",
   "id": "ed469bf3-e0c4-4dd2-b879-fe20270381bf",
   "metadata": {},
   "source": [
    "# Read Data"
   ]
  },
  {
   "cell_type": "code",
   "execution_count": 2,
   "id": "7fad3a38-65e7-4f18-b6b7-5d8e2c2ec91d",
   "metadata": {},
   "outputs": [],
   "source": [
    "url = \"https://raw.githubusercontent.com/pinkocto/noteda/main/posts/SOLAR/data2/stgcn_data1.json\"\n",
    "loader = eptstgcn.DatasetLoader(url)\n",
    "# dataset = loader.get_dataset(lags=4)\n",
    "# train_dataset, test_dataset = eptstgcn.utils.temporal_signal_split(dataset, train_ratio = 0.7)"
   ]
  },
  {
   "cell_type": "markdown",
   "id": "30b0704a-5135-46c9-b309-ada9cf398a52",
   "metadata": {},
   "source": [
    "# Simulation"
   ]
  },
  {
   "cell_type": "markdown",
   "id": "a244674c-efa2-41a9-bb8f-3879d195cfe9",
   "metadata": {},
   "source": [
    "## 50 epoch"
   ]
  },
  {
   "cell_type": "code",
   "execution_count": 3,
   "id": "8a25779b-102b-4935-9a15-073a1ea38d13",
   "metadata": {},
   "outputs": [],
   "source": [
    "plans_stgcn = {\n",
    "    'max_iteration': 10,  # 30, \n",
    "    'method': ['STGCN'], \n",
    "    'lags': [4, 8, 12], #[4, 8, 12, 24], \n",
    "    'nof_filters':[16, 32, 64], # [16, 32, 64], \n",
    "    'epoch': [50] # [50, 100, 150]\n",
    "}"
   ]
  },
  {
   "cell_type": "code",
   "execution_count": 4,
   "id": "7b30bf8a-87d8-4c8e-a025-142cc5dbbc61",
   "metadata": {},
   "outputs": [
    {
     "data": {
      "text/plain": [
       "{'max_iteration': 10,\n",
       " 'method': ['STGCN'],\n",
       " 'lags': [4, 8, 12],\n",
       " 'nof_filters': [16, 32, 64],\n",
       " 'epoch': [50]}"
      ]
     },
     "execution_count": 4,
     "metadata": {},
     "output_type": "execute_result"
    }
   ],
   "source": [
    "plans_stgcn"
   ]
  },
  {
   "cell_type": "code",
   "execution_count": 5,
   "id": "76c05aea-7e33-4717-b9e7-26aa87f69334",
   "metadata": {},
   "outputs": [],
   "source": [
    "plnr = eptstgcn.planner.PLNR_STGCN(plans_stgcn,loader,dataset_name= 'data2')"
   ]
  },
  {
   "cell_type": "code",
   "execution_count": 6,
   "id": "4052148a-d234-4b39-99c3-c619bf54acbc",
   "metadata": {},
   "outputs": [
    {
     "name": "stdout",
     "output_type": "stream",
     "text": [
      "1/10 is done\n",
      "2/10 is done\n",
      "3/10 is done\n",
      "4/10 is done\n",
      "5/10 is done\n",
      "6/10 is done\n",
      "7/10 is done\n",
      "8/10 is done\n",
      "9/10 is done\n",
      "10/10 is done\n",
      "All results are stored in ./simulation_results2/2023-05-21_01-27-17.csv\n"
     ]
    }
   ],
   "source": [
    "plnr.simulate()\n",
    "eptstgcn.save_data(plnr,'./simul_model3/stgcn_v1/stgcn_v1_50epoch_1.pickle')\n",
    "simul_model_50 = eptstgcn.load_data('./simul_model3/stgcn_v1/stgcn_v1_50epoch_1.pickle')"
   ]
  },
  {
   "cell_type": "code",
   "execution_count": 7,
   "id": "27649a35-a833-4b2b-8b6d-9d798ac04b8c",
   "metadata": {},
   "outputs": [
    {
     "data": {
      "text/html": [
       "<div>\n",
       "<style scoped>\n",
       "    .dataframe tbody tr th:only-of-type {\n",
       "        vertical-align: middle;\n",
       "    }\n",
       "\n",
       "    .dataframe tbody tr th {\n",
       "        vertical-align: top;\n",
       "    }\n",
       "\n",
       "    .dataframe thead th {\n",
       "        text-align: right;\n",
       "    }\n",
       "</style>\n",
       "<table border=\"1\" class=\"dataframe\">\n",
       "  <thead>\n",
       "    <tr style=\"text-align: right;\">\n",
       "      <th></th>\n",
       "      <th>dataset</th>\n",
       "      <th>method</th>\n",
       "      <th>normal</th>\n",
       "      <th>lags</th>\n",
       "      <th>nof_filters</th>\n",
       "      <th>epoch</th>\n",
       "      <th>mse(train)</th>\n",
       "      <th>mse(test)</th>\n",
       "      <th>calculation_time</th>\n",
       "    </tr>\n",
       "  </thead>\n",
       "  <tbody>\n",
       "    <tr>\n",
       "      <th>0</th>\n",
       "      <td>data2</td>\n",
       "      <td>STGCN</td>\n",
       "      <td>X</td>\n",
       "      <td>4</td>\n",
       "      <td>16</td>\n",
       "      <td>50</td>\n",
       "      <td>0.183498</td>\n",
       "      <td>0.169735</td>\n",
       "      <td>550.123783</td>\n",
       "    </tr>\n",
       "    <tr>\n",
       "      <th>1</th>\n",
       "      <td>data2</td>\n",
       "      <td>STGCN</td>\n",
       "      <td>X</td>\n",
       "      <td>4</td>\n",
       "      <td>32</td>\n",
       "      <td>50</td>\n",
       "      <td>0.182225</td>\n",
       "      <td>0.162033</td>\n",
       "      <td>543.581154</td>\n",
       "    </tr>\n",
       "    <tr>\n",
       "      <th>2</th>\n",
       "      <td>data2</td>\n",
       "      <td>STGCN</td>\n",
       "      <td>X</td>\n",
       "      <td>4</td>\n",
       "      <td>64</td>\n",
       "      <td>50</td>\n",
       "      <td>0.183565</td>\n",
       "      <td>0.171925</td>\n",
       "      <td>419.522592</td>\n",
       "    </tr>\n",
       "    <tr>\n",
       "      <th>3</th>\n",
       "      <td>data2</td>\n",
       "      <td>STGCN</td>\n",
       "      <td>X</td>\n",
       "      <td>8</td>\n",
       "      <td>16</td>\n",
       "      <td>50</td>\n",
       "      <td>0.19624</td>\n",
       "      <td>0.173633</td>\n",
       "      <td>415.247636</td>\n",
       "    </tr>\n",
       "    <tr>\n",
       "      <th>4</th>\n",
       "      <td>data2</td>\n",
       "      <td>STGCN</td>\n",
       "      <td>X</td>\n",
       "      <td>8</td>\n",
       "      <td>32</td>\n",
       "      <td>50</td>\n",
       "      <td>0.197571</td>\n",
       "      <td>0.171606</td>\n",
       "      <td>422.306532</td>\n",
       "    </tr>\n",
       "    <tr>\n",
       "      <th>...</th>\n",
       "      <td>...</td>\n",
       "      <td>...</td>\n",
       "      <td>...</td>\n",
       "      <td>...</td>\n",
       "      <td>...</td>\n",
       "      <td>...</td>\n",
       "      <td>...</td>\n",
       "      <td>...</td>\n",
       "      <td>...</td>\n",
       "    </tr>\n",
       "    <tr>\n",
       "      <th>115</th>\n",
       "      <td>data2</td>\n",
       "      <td>STGCN</td>\n",
       "      <td>X</td>\n",
       "      <td>12</td>\n",
       "      <td>32</td>\n",
       "      <td>50</td>\n",
       "      <td>0.19375</td>\n",
       "      <td>0.168965</td>\n",
       "      <td>428.73169</td>\n",
       "    </tr>\n",
       "    <tr>\n",
       "      <th>116</th>\n",
       "      <td>data2</td>\n",
       "      <td>STGCN</td>\n",
       "      <td>X</td>\n",
       "      <td>12</td>\n",
       "      <td>64</td>\n",
       "      <td>50</td>\n",
       "      <td>0.19339</td>\n",
       "      <td>0.169359</td>\n",
       "      <td>443.226369</td>\n",
       "    </tr>\n",
       "    <tr>\n",
       "      <th>117</th>\n",
       "      <td>data2</td>\n",
       "      <td>STGCN</td>\n",
       "      <td>X</td>\n",
       "      <td>24</td>\n",
       "      <td>16</td>\n",
       "      <td>50</td>\n",
       "      <td>0.226857</td>\n",
       "      <td>0.209055</td>\n",
       "      <td>398.531218</td>\n",
       "    </tr>\n",
       "    <tr>\n",
       "      <th>118</th>\n",
       "      <td>data2</td>\n",
       "      <td>STGCN</td>\n",
       "      <td>X</td>\n",
       "      <td>24</td>\n",
       "      <td>32</td>\n",
       "      <td>50</td>\n",
       "      <td>0.257455</td>\n",
       "      <td>0.216844</td>\n",
       "      <td>404.345611</td>\n",
       "    </tr>\n",
       "    <tr>\n",
       "      <th>119</th>\n",
       "      <td>data2</td>\n",
       "      <td>STGCN</td>\n",
       "      <td>X</td>\n",
       "      <td>24</td>\n",
       "      <td>64</td>\n",
       "      <td>50</td>\n",
       "      <td>0.226526</td>\n",
       "      <td>0.194404</td>\n",
       "      <td>413.1882</td>\n",
       "    </tr>\n",
       "  </tbody>\n",
       "</table>\n",
       "<p>120 rows × 9 columns</p>\n",
       "</div>"
      ],
      "text/plain": [
       "    dataset method normal lags nof_filters epoch mse(train) mse(test)  \\\n",
       "0     data2  STGCN      X    4          16    50   0.183498  0.169735   \n",
       "1     data2  STGCN      X    4          32    50   0.182225  0.162033   \n",
       "2     data2  STGCN      X    4          64    50   0.183565  0.171925   \n",
       "3     data2  STGCN      X    8          16    50    0.19624  0.173633   \n",
       "4     data2  STGCN      X    8          32    50   0.197571  0.171606   \n",
       "..      ...    ...    ...  ...         ...   ...        ...       ...   \n",
       "115   data2  STGCN      X   12          32    50    0.19375  0.168965   \n",
       "116   data2  STGCN      X   12          64    50    0.19339  0.169359   \n",
       "117   data2  STGCN      X   24          16    50   0.226857  0.209055   \n",
       "118   data2  STGCN      X   24          32    50   0.257455  0.216844   \n",
       "119   data2  STGCN      X   24          64    50   0.226526  0.194404   \n",
       "\n",
       "    calculation_time  \n",
       "0         550.123783  \n",
       "1         543.581154  \n",
       "2         419.522592  \n",
       "3         415.247636  \n",
       "4         422.306532  \n",
       "..               ...  \n",
       "115        428.73169  \n",
       "116       443.226369  \n",
       "117       398.531218  \n",
       "118       404.345611  \n",
       "119         413.1882  \n",
       "\n",
       "[120 rows x 9 columns]"
      ]
     },
     "execution_count": 7,
     "metadata": {},
     "output_type": "execute_result"
    }
   ],
   "source": [
    "simul_model_50.simulation_results"
   ]
  },
  {
   "cell_type": "markdown",
   "id": "cfec2e73-396f-4cb1-9df5-e228acf43697",
   "metadata": {},
   "source": [
    "## 100 epoch"
   ]
  },
  {
   "cell_type": "code",
   "execution_count": 7,
   "id": "6bb7a282-c848-4a91-a399-564ff7990afd",
   "metadata": {},
   "outputs": [],
   "source": [
    "plans_stgcn = {\n",
    "    'max_iteration': 10,  # 30, \n",
    "    'method': ['STGCN'], \n",
    "    'lags': [4, 8, 12], #[4, 8, 12, 24], \n",
    "    'nof_filters':[16, 32, 64], # [16, 32, 64], \n",
    "    'epoch': [100] # [50, 100, 150]\n",
    "}"
   ]
  },
  {
   "cell_type": "code",
   "execution_count": 8,
   "id": "97f801cd-1148-4ea1-b528-4c9c64f3e631",
   "metadata": {},
   "outputs": [
    {
     "data": {
      "text/plain": [
       "{'max_iteration': 10,\n",
       " 'method': ['STGCN'],\n",
       " 'lags': [4, 8, 12],\n",
       " 'nof_filters': [16, 32, 64],\n",
       " 'epoch': [100]}"
      ]
     },
     "execution_count": 8,
     "metadata": {},
     "output_type": "execute_result"
    }
   ],
   "source": [
    "plans_stgcn"
   ]
  },
  {
   "cell_type": "code",
   "execution_count": 9,
   "id": "0e3ad5e6-defd-4080-9728-7b516ff64254",
   "metadata": {},
   "outputs": [],
   "source": [
    "plnr = eptstgcn.planner.PLNR_STGCN(plans_stgcn,loader,dataset_name='data2')"
   ]
  },
  {
   "cell_type": "code",
   "execution_count": null,
   "id": "b252a734-b622-42f5-87e9-b9481a950a16",
   "metadata": {},
   "outputs": [
    {
     "name": "stdout",
     "output_type": "stream",
     "text": [
      "30/100\r"
     ]
    }
   ],
   "source": [
    "plnr.simulate()\n",
    "eptstgcn.save_data(plnr, './simul_model3/stgcn_v1/stgcn_v1_100epoch_1.pickle')\n",
    "simul_model_100 = eptstgcn.load_data('./simul_model3/stgcn_v1/stgcn_v1_100epoch_1.pickle')"
   ]
  },
  {
   "cell_type": "code",
   "execution_count": 18,
   "id": "31395436-6e1a-4e37-ba07-5c74f3c2b106",
   "metadata": {},
   "outputs": [
    {
     "data": {
      "text/html": [
       "<div>\n",
       "<style scoped>\n",
       "    .dataframe tbody tr th:only-of-type {\n",
       "        vertical-align: middle;\n",
       "    }\n",
       "\n",
       "    .dataframe tbody tr th {\n",
       "        vertical-align: top;\n",
       "    }\n",
       "\n",
       "    .dataframe thead th {\n",
       "        text-align: right;\n",
       "    }\n",
       "</style>\n",
       "<table border=\"1\" class=\"dataframe\">\n",
       "  <thead>\n",
       "    <tr style=\"text-align: right;\">\n",
       "      <th></th>\n",
       "      <th>dataset</th>\n",
       "      <th>method</th>\n",
       "      <th>lags</th>\n",
       "      <th>nof_filters</th>\n",
       "      <th>epoch</th>\n",
       "      <th>mse(train)</th>\n",
       "      <th>mse(test)</th>\n",
       "      <th>calculation_time</th>\n",
       "    </tr>\n",
       "  </thead>\n",
       "  <tbody>\n",
       "    <tr>\n",
       "      <th>0</th>\n",
       "      <td>data2</td>\n",
       "      <td>STGCN</td>\n",
       "      <td>4</td>\n",
       "      <td>16</td>\n",
       "      <td>100</td>\n",
       "      <td>0.081837</td>\n",
       "      <td>0.058277</td>\n",
       "      <td>814.269943</td>\n",
       "    </tr>\n",
       "    <tr>\n",
       "      <th>1</th>\n",
       "      <td>data2</td>\n",
       "      <td>STGCN</td>\n",
       "      <td>4</td>\n",
       "      <td>32</td>\n",
       "      <td>100</td>\n",
       "      <td>0.084423</td>\n",
       "      <td>0.059798</td>\n",
       "      <td>824.496394</td>\n",
       "    </tr>\n",
       "    <tr>\n",
       "      <th>2</th>\n",
       "      <td>data2</td>\n",
       "      <td>STGCN</td>\n",
       "      <td>4</td>\n",
       "      <td>64</td>\n",
       "      <td>100</td>\n",
       "      <td>0.086512</td>\n",
       "      <td>0.060761</td>\n",
       "      <td>854.542795</td>\n",
       "    </tr>\n",
       "    <tr>\n",
       "      <th>3</th>\n",
       "      <td>data2</td>\n",
       "      <td>STGCN</td>\n",
       "      <td>8</td>\n",
       "      <td>16</td>\n",
       "      <td>100</td>\n",
       "      <td>0.086953</td>\n",
       "      <td>0.062034</td>\n",
       "      <td>836.096659</td>\n",
       "    </tr>\n",
       "    <tr>\n",
       "      <th>4</th>\n",
       "      <td>data2</td>\n",
       "      <td>STGCN</td>\n",
       "      <td>8</td>\n",
       "      <td>32</td>\n",
       "      <td>100</td>\n",
       "      <td>0.086847</td>\n",
       "      <td>0.061605</td>\n",
       "      <td>852.646728</td>\n",
       "    </tr>\n",
       "    <tr>\n",
       "      <th>...</th>\n",
       "      <td>...</td>\n",
       "      <td>...</td>\n",
       "      <td>...</td>\n",
       "      <td>...</td>\n",
       "      <td>...</td>\n",
       "      <td>...</td>\n",
       "      <td>...</td>\n",
       "      <td>...</td>\n",
       "    </tr>\n",
       "    <tr>\n",
       "      <th>85</th>\n",
       "      <td>data2</td>\n",
       "      <td>STGCN</td>\n",
       "      <td>8</td>\n",
       "      <td>32</td>\n",
       "      <td>100</td>\n",
       "      <td>0.084509</td>\n",
       "      <td>0.059938</td>\n",
       "      <td>627.604253</td>\n",
       "    </tr>\n",
       "    <tr>\n",
       "      <th>86</th>\n",
       "      <td>data2</td>\n",
       "      <td>STGCN</td>\n",
       "      <td>8</td>\n",
       "      <td>64</td>\n",
       "      <td>100</td>\n",
       "      <td>0.085133</td>\n",
       "      <td>0.059042</td>\n",
       "      <td>651.537009</td>\n",
       "    </tr>\n",
       "    <tr>\n",
       "      <th>87</th>\n",
       "      <td>data2</td>\n",
       "      <td>STGCN</td>\n",
       "      <td>12</td>\n",
       "      <td>16</td>\n",
       "      <td>100</td>\n",
       "      <td>0.094488</td>\n",
       "      <td>0.063939</td>\n",
       "      <td>630.810184</td>\n",
       "    </tr>\n",
       "    <tr>\n",
       "      <th>88</th>\n",
       "      <td>data2</td>\n",
       "      <td>STGCN</td>\n",
       "      <td>12</td>\n",
       "      <td>32</td>\n",
       "      <td>100</td>\n",
       "      <td>0.086219</td>\n",
       "      <td>0.060246</td>\n",
       "      <td>646.019152</td>\n",
       "    </tr>\n",
       "    <tr>\n",
       "      <th>89</th>\n",
       "      <td>data2</td>\n",
       "      <td>STGCN</td>\n",
       "      <td>12</td>\n",
       "      <td>64</td>\n",
       "      <td>100</td>\n",
       "      <td>0.091294</td>\n",
       "      <td>0.063019</td>\n",
       "      <td>670.106875</td>\n",
       "    </tr>\n",
       "  </tbody>\n",
       "</table>\n",
       "<p>90 rows × 8 columns</p>\n",
       "</div>"
      ],
      "text/plain": [
       "   dataset method lags nof_filters epoch mse(train) mse(test) calculation_time\n",
       "0    data2  STGCN    4          16   100   0.081837  0.058277       814.269943\n",
       "1    data2  STGCN    4          32   100   0.084423  0.059798       824.496394\n",
       "2    data2  STGCN    4          64   100   0.086512  0.060761       854.542795\n",
       "3    data2  STGCN    8          16   100   0.086953  0.062034       836.096659\n",
       "4    data2  STGCN    8          32   100   0.086847  0.061605       852.646728\n",
       "..     ...    ...  ...         ...   ...        ...       ...              ...\n",
       "85   data2  STGCN    8          32   100   0.084509  0.059938       627.604253\n",
       "86   data2  STGCN    8          64   100   0.085133  0.059042       651.537009\n",
       "87   data2  STGCN   12          16   100   0.094488  0.063939       630.810184\n",
       "88   data2  STGCN   12          32   100   0.086219  0.060246       646.019152\n",
       "89   data2  STGCN   12          64   100   0.091294  0.063019       670.106875\n",
       "\n",
       "[90 rows x 8 columns]"
      ]
     },
     "execution_count": 18,
     "metadata": {},
     "output_type": "execute_result"
    }
   ],
   "source": [
    "simul_model_100.simulation_results"
   ]
  },
  {
   "cell_type": "code",
   "execution_count": null,
   "id": "74bd0a9c-58d4-4b4a-8385-3f29e02c0603",
   "metadata": {},
   "outputs": [],
   "source": [
    "# eptstgcn.save_data(plnr, './simul_model2/stgcn_v1/stgcn_v1_100epoch.pickle')"
   ]
  },
  {
   "cell_type": "code",
   "execution_count": null,
   "id": "a079584b-12d8-44ab-a856-74436f9deff2",
   "metadata": {},
   "outputs": [],
   "source": [
    "# simul_model_100 = eptstgcn.load_data('./simul_model2/stgcn_v1/stgcn_v1_100epoch.pickle')"
   ]
  },
  {
   "cell_type": "markdown",
   "id": "9d2a8071-17e5-495b-9254-2e3404676a6d",
   "metadata": {},
   "source": [
    "## 150 epoch"
   ]
  },
  {
   "cell_type": "code",
   "execution_count": 13,
   "id": "54f7152e-a292-485e-b3f7-a99144671463",
   "metadata": {},
   "outputs": [],
   "source": [
    "plans_stgcn = {\n",
    "    'max_iteration': 10,  # 30, \n",
    "    'method': ['STGCN'], \n",
    "    'lags': [4, 8, 12], #[4, 8, 12, 24], \n",
    "    'nof_filters':[16, 32, 64], # [16, 32, 64], \n",
    "    'epoch': [150] # [50, 100, 150]\n",
    "}"
   ]
  },
  {
   "cell_type": "code",
   "execution_count": 14,
   "id": "331b6cbc-99eb-45a2-a97b-f2b16c35bfb3",
   "metadata": {},
   "outputs": [
    {
     "data": {
      "text/plain": [
       "{'max_iteration': 10,\n",
       " 'method': ['STGCN'],\n",
       " 'lags': [4, 8, 12],\n",
       " 'nof_filters': [16, 32, 64],\n",
       " 'epoch': [150]}"
      ]
     },
     "execution_count": 14,
     "metadata": {},
     "output_type": "execute_result"
    }
   ],
   "source": [
    "plans_stgcn"
   ]
  },
  {
   "cell_type": "code",
   "execution_count": 15,
   "id": "5e299a5b-b136-4190-9385-9f23c1432c65",
   "metadata": {},
   "outputs": [],
   "source": [
    "plnr = eptstgcn.planner.PLNR_STGCN(plans_stgcn,loader,dataset_name='data2')"
   ]
  },
  {
   "cell_type": "code",
   "execution_count": null,
   "id": "802e7d34-f9aa-4b9f-8176-11edd55b8a03",
   "metadata": {},
   "outputs": [
    {
     "name": "stdout",
     "output_type": "stream",
     "text": [
      "45/1500\r"
     ]
    }
   ],
   "source": [
    "plnr.simulate()\n",
    "eptstgcn.save_data(plnr,'./simul_model3/stgcn_v1/stgcn_v1_150epoch_1.pickle')\n",
    "simul_model_150 = eptstgcn.load_data('./simul_model3/stgcn_v1/stgcn_v1_150epoch_1.pickle')"
   ]
  },
  {
   "cell_type": "code",
   "execution_count": 17,
   "id": "7ebcc373-2e5c-4cb0-a4cc-f87c78408f70",
   "metadata": {},
   "outputs": [
    {
     "data": {
      "text/html": [
       "<div>\n",
       "<style scoped>\n",
       "    .dataframe tbody tr th:only-of-type {\n",
       "        vertical-align: middle;\n",
       "    }\n",
       "\n",
       "    .dataframe tbody tr th {\n",
       "        vertical-align: top;\n",
       "    }\n",
       "\n",
       "    .dataframe thead th {\n",
       "        text-align: right;\n",
       "    }\n",
       "</style>\n",
       "<table border=\"1\" class=\"dataframe\">\n",
       "  <thead>\n",
       "    <tr style=\"text-align: right;\">\n",
       "      <th></th>\n",
       "      <th>dataset</th>\n",
       "      <th>method</th>\n",
       "      <th>lags</th>\n",
       "      <th>nof_filters</th>\n",
       "      <th>epoch</th>\n",
       "      <th>mse(train)</th>\n",
       "      <th>mse(test)</th>\n",
       "      <th>calculation_time</th>\n",
       "    </tr>\n",
       "  </thead>\n",
       "  <tbody>\n",
       "    <tr>\n",
       "      <th>0</th>\n",
       "      <td>data2</td>\n",
       "      <td>STGCN</td>\n",
       "      <td>4</td>\n",
       "      <td>16</td>\n",
       "      <td>150</td>\n",
       "      <td>0.080557</td>\n",
       "      <td>0.057306</td>\n",
       "      <td>1219.903876</td>\n",
       "    </tr>\n",
       "    <tr>\n",
       "      <th>1</th>\n",
       "      <td>data2</td>\n",
       "      <td>STGCN</td>\n",
       "      <td>4</td>\n",
       "      <td>32</td>\n",
       "      <td>150</td>\n",
       "      <td>0.08038</td>\n",
       "      <td>0.057084</td>\n",
       "      <td>1226.863305</td>\n",
       "    </tr>\n",
       "    <tr>\n",
       "      <th>2</th>\n",
       "      <td>data2</td>\n",
       "      <td>STGCN</td>\n",
       "      <td>4</td>\n",
       "      <td>64</td>\n",
       "      <td>150</td>\n",
       "      <td>0.083107</td>\n",
       "      <td>0.058531</td>\n",
       "      <td>1269.620991</td>\n",
       "    </tr>\n",
       "    <tr>\n",
       "      <th>3</th>\n",
       "      <td>data2</td>\n",
       "      <td>STGCN</td>\n",
       "      <td>8</td>\n",
       "      <td>16</td>\n",
       "      <td>150</td>\n",
       "      <td>0.090976</td>\n",
       "      <td>0.063983</td>\n",
       "      <td>1243.677132</td>\n",
       "    </tr>\n",
       "    <tr>\n",
       "      <th>4</th>\n",
       "      <td>data2</td>\n",
       "      <td>STGCN</td>\n",
       "      <td>8</td>\n",
       "      <td>32</td>\n",
       "      <td>150</td>\n",
       "      <td>0.085841</td>\n",
       "      <td>0.06063</td>\n",
       "      <td>1264.292818</td>\n",
       "    </tr>\n",
       "    <tr>\n",
       "      <th>...</th>\n",
       "      <td>...</td>\n",
       "      <td>...</td>\n",
       "      <td>...</td>\n",
       "      <td>...</td>\n",
       "      <td>...</td>\n",
       "      <td>...</td>\n",
       "      <td>...</td>\n",
       "      <td>...</td>\n",
       "    </tr>\n",
       "    <tr>\n",
       "      <th>85</th>\n",
       "      <td>data2</td>\n",
       "      <td>STGCN</td>\n",
       "      <td>8</td>\n",
       "      <td>32</td>\n",
       "      <td>150</td>\n",
       "      <td>0.084721</td>\n",
       "      <td>0.05964</td>\n",
       "      <td>937.842153</td>\n",
       "    </tr>\n",
       "    <tr>\n",
       "      <th>86</th>\n",
       "      <td>data2</td>\n",
       "      <td>STGCN</td>\n",
       "      <td>8</td>\n",
       "      <td>64</td>\n",
       "      <td>150</td>\n",
       "      <td>0.087042</td>\n",
       "      <td>0.062986</td>\n",
       "      <td>971.025651</td>\n",
       "    </tr>\n",
       "    <tr>\n",
       "      <th>87</th>\n",
       "      <td>data2</td>\n",
       "      <td>STGCN</td>\n",
       "      <td>12</td>\n",
       "      <td>16</td>\n",
       "      <td>150</td>\n",
       "      <td>0.086468</td>\n",
       "      <td>0.059315</td>\n",
       "      <td>941.672601</td>\n",
       "    </tr>\n",
       "    <tr>\n",
       "      <th>88</th>\n",
       "      <td>data2</td>\n",
       "      <td>STGCN</td>\n",
       "      <td>12</td>\n",
       "      <td>32</td>\n",
       "      <td>150</td>\n",
       "      <td>0.09396</td>\n",
       "      <td>0.062246</td>\n",
       "      <td>960.527434</td>\n",
       "    </tr>\n",
       "    <tr>\n",
       "      <th>89</th>\n",
       "      <td>data2</td>\n",
       "      <td>STGCN</td>\n",
       "      <td>12</td>\n",
       "      <td>64</td>\n",
       "      <td>150</td>\n",
       "      <td>0.083904</td>\n",
       "      <td>0.05999</td>\n",
       "      <td>1011.196311</td>\n",
       "    </tr>\n",
       "  </tbody>\n",
       "</table>\n",
       "<p>90 rows × 8 columns</p>\n",
       "</div>"
      ],
      "text/plain": [
       "   dataset method lags nof_filters epoch mse(train) mse(test) calculation_time\n",
       "0    data2  STGCN    4          16   150   0.080557  0.057306      1219.903876\n",
       "1    data2  STGCN    4          32   150    0.08038  0.057084      1226.863305\n",
       "2    data2  STGCN    4          64   150   0.083107  0.058531      1269.620991\n",
       "3    data2  STGCN    8          16   150   0.090976  0.063983      1243.677132\n",
       "4    data2  STGCN    8          32   150   0.085841   0.06063      1264.292818\n",
       "..     ...    ...  ...         ...   ...        ...       ...              ...\n",
       "85   data2  STGCN    8          32   150   0.084721   0.05964       937.842153\n",
       "86   data2  STGCN    8          64   150   0.087042  0.062986       971.025651\n",
       "87   data2  STGCN   12          16   150   0.086468  0.059315       941.672601\n",
       "88   data2  STGCN   12          32   150    0.09396  0.062246       960.527434\n",
       "89   data2  STGCN   12          64   150   0.083904   0.05999      1011.196311\n",
       "\n",
       "[90 rows x 8 columns]"
      ]
     },
     "execution_count": 17,
     "metadata": {},
     "output_type": "execute_result"
    }
   ],
   "source": [
    "simul_model_150.simulation_results"
   ]
  }
 ],
 "metadata": {
  "kernelspec": {
   "display_name": "Python 3",
   "language": "python",
   "name": "python3"
  },
  "language_info": {
   "codemirror_mode": {
    "name": "ipython",
    "version": 3
   },
   "file_extension": ".py",
   "mimetype": "text/x-python",
   "name": "python",
   "nbconvert_exporter": "python",
   "pygments_lexer": "ipython3",
   "version": "3.8.16"
  }
 },
 "nbformat": 4,
 "nbformat_minor": 5
}
