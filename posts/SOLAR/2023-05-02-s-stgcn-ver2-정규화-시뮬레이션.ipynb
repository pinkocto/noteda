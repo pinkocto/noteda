{
 "cells": [
  {
   "cell_type": "raw",
   "id": "30c11232-54f1-4815-a5d0-07ee32833e78",
   "metadata": {},
   "source": [
    "---\n",
    "title: \" **[SOLAR]** STGCN Ver2 (data2, +N +S) 시뮬레이션 (epoch, filter, lag)\"\n",
    "author: \"JiyunLim\"\n",
    "date: \"05/02/2023\"\n",
    "categories:\n",
    "  - Research\n",
    "  - STGCN\n",
    "  - SOLAR\n",
    "---"
   ]
  },
  {
   "cell_type": "markdown",
   "id": "e04af519-9789-44df-a42e-e85e257339ee",
   "metadata": {},
   "source": [
    "# STGCN Ver2 (EPT-STGCN)"
   ]
  },
  {
   "cell_type": "markdown",
   "id": "4002635e-1114-4889-842f-6cb44be61d33",
   "metadata": {},
   "source": [
    "## 2022/06/01 ~ 2022/09/15\n",
    "\n",
    "- train 2022-06-01 00:00:00 ~ 2022-08-14 17:00:00\n",
    "- test 2022-08-14 18:00:00 ~ 2022-09-15 23:00:00"
   ]
  },
  {
   "cell_type": "markdown",
   "id": "f6db9b01-8811-44cf-9fec-ebb52db11151",
   "metadata": {},
   "source": [
    "# Import"
   ]
  },
  {
   "cell_type": "code",
   "execution_count": 1,
   "id": "5c85f883-7abd-402b-afeb-d297b3314a38",
   "metadata": {},
   "outputs": [],
   "source": [
    "import eptstgcn\n",
    "import torch\n",
    "import eptstgcn.planner\n",
    "\n",
    "import warnings\n",
    "warnings.filterwarnings('ignore')\n",
    "\n",
    "import json\n",
    "import urllib"
   ]
  },
  {
   "cell_type": "markdown",
   "id": "c4425a09-baec-4fb7-b9fd-acf92209c018",
   "metadata": {},
   "source": [
    "# Read Data"
   ]
  },
  {
   "cell_type": "code",
   "execution_count": 2,
   "id": "56e7122a-b438-4615-8143-0a11ed03e353",
   "metadata": {},
   "outputs": [],
   "source": [
    "url = \"https://raw.githubusercontent.com/pinkocto/noteda/main/posts/SOLAR/data2/stgcn_data2.json\"\n",
    "data_dict = json.loads(urllib.request.urlopen(url).read())"
   ]
  },
  {
   "cell_type": "markdown",
   "id": "2277a42d-e4f8-4c96-9bf8-385b8089a4a8",
   "metadata": {},
   "source": [
    "# Simulation"
   ]
  },
  {
   "cell_type": "markdown",
   "id": "bc81fe51-32e3-4a36-ac7d-c7550d32dc39",
   "metadata": {},
   "source": [
    "## 50 epoch"
   ]
  },
  {
   "cell_type": "code",
   "execution_count": 3,
   "id": "89749b31-b226-448c-9cd6-4d07622ec75a",
   "metadata": {},
   "outputs": [],
   "source": [
    "plans_stgcn = {\n",
    "    'max_iteration': 1,   # 30, \n",
    "    'method': ['EPT-STGCN'], \n",
    "    'lags': [4, 8, 12],  # [4, 8, 12]\n",
    "    'nof_filters': [16, 32, 64], # [16, 32, 64]\n",
    "    'epoch': [50] # [50, 100, 150]\n",
    "}"
   ]
  },
  {
   "cell_type": "code",
   "execution_count": 4,
   "id": "c930a1f1-7f27-478f-ac43-3f8e7ad0a939",
   "metadata": {},
   "outputs": [],
   "source": [
    "plnr = eptstgcn.planner.NORMAL_PLNR_STGCN(plans_stgcn, data_dict, dataset_name='data2')"
   ]
  },
  {
   "cell_type": "code",
   "execution_count": 5,
   "id": "cbd456fe-aa78-4b0e-85e0-c81e292ef658",
   "metadata": {},
   "outputs": [
    {
     "name": "stdout",
     "output_type": "stream",
     "text": [
      "1/1 is done\n",
      "All results are stored in ./simulation_results/2023-05-02_23-15-22.csv\n"
     ]
    }
   ],
   "source": [
    "plnr.simulate()"
   ]
  },
  {
   "cell_type": "code",
   "execution_count": 6,
   "id": "696baee4-53d5-45f7-959b-d1042a976978",
   "metadata": {},
   "outputs": [],
   "source": [
    "eptstgcn.save_data(plnr, './simul_model2/normal/stgcn_v2_50epoch_.pickle')"
   ]
  },
  {
   "cell_type": "code",
   "execution_count": 7,
   "id": "c6ad868c-86fc-4108-937f-5291e295d94f",
   "metadata": {},
   "outputs": [],
   "source": [
    "simul_model = eptstgcn.load_data('./simul_model2/normal/stgcn_v2_50epoch_.pickle')"
   ]
  },
  {
   "cell_type": "code",
   "execution_count": 8,
   "id": "112b8b75-9584-4d78-bfea-c146293ebb99",
   "metadata": {},
   "outputs": [
    {
     "data": {
      "text/html": [
       "<div>\n",
       "<style scoped>\n",
       "    .dataframe tbody tr th:only-of-type {\n",
       "        vertical-align: middle;\n",
       "    }\n",
       "\n",
       "    .dataframe tbody tr th {\n",
       "        vertical-align: top;\n",
       "    }\n",
       "\n",
       "    .dataframe thead th {\n",
       "        text-align: right;\n",
       "    }\n",
       "</style>\n",
       "<table border=\"1\" class=\"dataframe\">\n",
       "  <thead>\n",
       "    <tr style=\"text-align: right;\">\n",
       "      <th></th>\n",
       "      <th>dataset</th>\n",
       "      <th>method</th>\n",
       "      <th>normal</th>\n",
       "      <th>lags</th>\n",
       "      <th>nof_filters</th>\n",
       "      <th>epoch</th>\n",
       "      <th>mse(train)</th>\n",
       "      <th>mse(test)</th>\n",
       "      <th>calculation_time</th>\n",
       "    </tr>\n",
       "  </thead>\n",
       "  <tbody>\n",
       "    <tr>\n",
       "      <th>0</th>\n",
       "      <td>data2</td>\n",
       "      <td>EPT-STGCN</td>\n",
       "      <td>O</td>\n",
       "      <td>4</td>\n",
       "      <td>16</td>\n",
       "      <td>50</td>\n",
       "      <td>0.191065</td>\n",
       "      <td>0.178842</td>\n",
       "      <td>295.075789</td>\n",
       "    </tr>\n",
       "    <tr>\n",
       "      <th>1</th>\n",
       "      <td>data2</td>\n",
       "      <td>EPT-STGCN</td>\n",
       "      <td>O</td>\n",
       "      <td>4</td>\n",
       "      <td>32</td>\n",
       "      <td>50</td>\n",
       "      <td>0.180618</td>\n",
       "      <td>0.166902</td>\n",
       "      <td>298.276487</td>\n",
       "    </tr>\n",
       "    <tr>\n",
       "      <th>2</th>\n",
       "      <td>data2</td>\n",
       "      <td>EPT-STGCN</td>\n",
       "      <td>O</td>\n",
       "      <td>4</td>\n",
       "      <td>64</td>\n",
       "      <td>50</td>\n",
       "      <td>0.185092</td>\n",
       "      <td>0.174121</td>\n",
       "      <td>307.609691</td>\n",
       "    </tr>\n",
       "    <tr>\n",
       "      <th>3</th>\n",
       "      <td>data2</td>\n",
       "      <td>EPT-STGCN</td>\n",
       "      <td>O</td>\n",
       "      <td>8</td>\n",
       "      <td>16</td>\n",
       "      <td>50</td>\n",
       "      <td>0.18884</td>\n",
       "      <td>0.17383</td>\n",
       "      <td>304.973405</td>\n",
       "    </tr>\n",
       "    <tr>\n",
       "      <th>4</th>\n",
       "      <td>data2</td>\n",
       "      <td>EPT-STGCN</td>\n",
       "      <td>O</td>\n",
       "      <td>8</td>\n",
       "      <td>32</td>\n",
       "      <td>50</td>\n",
       "      <td>0.21352</td>\n",
       "      <td>0.206142</td>\n",
       "      <td>308.73471</td>\n",
       "    </tr>\n",
       "    <tr>\n",
       "      <th>5</th>\n",
       "      <td>data2</td>\n",
       "      <td>EPT-STGCN</td>\n",
       "      <td>O</td>\n",
       "      <td>8</td>\n",
       "      <td>64</td>\n",
       "      <td>50</td>\n",
       "      <td>0.19473</td>\n",
       "      <td>0.184389</td>\n",
       "      <td>317.388223</td>\n",
       "    </tr>\n",
       "    <tr>\n",
       "      <th>6</th>\n",
       "      <td>data2</td>\n",
       "      <td>EPT-STGCN</td>\n",
       "      <td>O</td>\n",
       "      <td>12</td>\n",
       "      <td>16</td>\n",
       "      <td>50</td>\n",
       "      <td>0.184434</td>\n",
       "      <td>0.175556</td>\n",
       "      <td>311.789555</td>\n",
       "    </tr>\n",
       "    <tr>\n",
       "      <th>7</th>\n",
       "      <td>data2</td>\n",
       "      <td>EPT-STGCN</td>\n",
       "      <td>O</td>\n",
       "      <td>12</td>\n",
       "      <td>32</td>\n",
       "      <td>50</td>\n",
       "      <td>0.200415</td>\n",
       "      <td>0.192586</td>\n",
       "      <td>316.290751</td>\n",
       "    </tr>\n",
       "    <tr>\n",
       "      <th>8</th>\n",
       "      <td>data2</td>\n",
       "      <td>EPT-STGCN</td>\n",
       "      <td>O</td>\n",
       "      <td>12</td>\n",
       "      <td>64</td>\n",
       "      <td>50</td>\n",
       "      <td>0.189591</td>\n",
       "      <td>0.177227</td>\n",
       "      <td>325.705265</td>\n",
       "    </tr>\n",
       "  </tbody>\n",
       "</table>\n",
       "</div>"
      ],
      "text/plain": [
       "  dataset     method normal lags nof_filters epoch mse(train) mse(test)  \\\n",
       "0   data2  EPT-STGCN      O    4          16    50   0.191065  0.178842   \n",
       "1   data2  EPT-STGCN      O    4          32    50   0.180618  0.166902   \n",
       "2   data2  EPT-STGCN      O    4          64    50   0.185092  0.174121   \n",
       "3   data2  EPT-STGCN      O    8          16    50    0.18884   0.17383   \n",
       "4   data2  EPT-STGCN      O    8          32    50    0.21352  0.206142   \n",
       "5   data2  EPT-STGCN      O    8          64    50    0.19473  0.184389   \n",
       "6   data2  EPT-STGCN      O   12          16    50   0.184434  0.175556   \n",
       "7   data2  EPT-STGCN      O   12          32    50   0.200415  0.192586   \n",
       "8   data2  EPT-STGCN      O   12          64    50   0.189591  0.177227   \n",
       "\n",
       "  calculation_time  \n",
       "0       295.075789  \n",
       "1       298.276487  \n",
       "2       307.609691  \n",
       "3       304.973405  \n",
       "4        308.73471  \n",
       "5       317.388223  \n",
       "6       311.789555  \n",
       "7       316.290751  \n",
       "8       325.705265  "
      ]
     },
     "execution_count": 8,
     "metadata": {},
     "output_type": "execute_result"
    }
   ],
   "source": [
    "df_simul_no = simul_model.simulation_results\n",
    "df_simul_no"
   ]
  },
  {
   "cell_type": "code",
   "execution_count": 9,
   "id": "c2928f8b-544f-4cbf-a0d5-207a0af34fc0",
   "metadata": {},
   "outputs": [
    {
     "name": "stdout",
     "output_type": "stream",
     "text": [
      "50에폭 끝\n"
     ]
    }
   ],
   "source": [
    "print('50에폭 끝')"
   ]
  },
  {
   "cell_type": "markdown",
   "id": "e1cfff83-14b2-4d99-846e-0ef07967029b",
   "metadata": {},
   "source": [
    "## 100epoch"
   ]
  },
  {
   "cell_type": "code",
   "execution_count": 10,
   "id": "9590af5f-ef63-4c65-811e-4f04acf0f1ed",
   "metadata": {},
   "outputs": [],
   "source": [
    "plans_stgcn = {\n",
    "    'max_iteration': 1,   # 30, \n",
    "    'method': ['EPT-STGCN'], \n",
    "    'lags': [4, 8, 12],  # [4, 8, 12]\n",
    "    'nof_filters': [16, 32, 64], # [16, 32, 64]\n",
    "    'epoch': [100] # [50, 100, 150]\n",
    "}"
   ]
  },
  {
   "cell_type": "code",
   "execution_count": 11,
   "id": "e2a231be-caaf-4c02-98e5-11e049d23c47",
   "metadata": {},
   "outputs": [],
   "source": [
    "plnr = eptstgcn.planner.NORMAL_PLNR_STGCN(plans_stgcn, data_dict, dataset_name='data2')"
   ]
  },
  {
   "cell_type": "code",
   "execution_count": 12,
   "id": "f6b94df5-6bef-4234-9487-713abb0350a7",
   "metadata": {},
   "outputs": [
    {
     "name": "stdout",
     "output_type": "stream",
     "text": [
      "1/1 is done\n",
      "All results are stored in ./simulation_results/2023-05-03_01-15-13.csv\n"
     ]
    }
   ],
   "source": [
    "plnr.simulate()"
   ]
  },
  {
   "cell_type": "code",
   "execution_count": 13,
   "id": "adb0dc0d-7f22-4c09-a29e-1fb4f9b61826",
   "metadata": {},
   "outputs": [],
   "source": [
    "eptstgcn.save_data(plnr,'./simul_model2/normal/stgcn_v2_100epoch.pickle')"
   ]
  },
  {
   "cell_type": "code",
   "execution_count": 14,
   "id": "fbb3d550-9675-40c9-bd35-3dc84c9cafe0",
   "metadata": {},
   "outputs": [],
   "source": [
    "simul_model_100 = eptstgcn.load_data('./simul_model2/normal/stgcn_v2_100epoch.pickle')"
   ]
  },
  {
   "cell_type": "code",
   "execution_count": 15,
   "id": "a80fd008-deee-49a8-9b36-b887d2ee11be",
   "metadata": {},
   "outputs": [
    {
     "data": {
      "text/html": [
       "<div>\n",
       "<style scoped>\n",
       "    .dataframe tbody tr th:only-of-type {\n",
       "        vertical-align: middle;\n",
       "    }\n",
       "\n",
       "    .dataframe tbody tr th {\n",
       "        vertical-align: top;\n",
       "    }\n",
       "\n",
       "    .dataframe thead th {\n",
       "        text-align: right;\n",
       "    }\n",
       "</style>\n",
       "<table border=\"1\" class=\"dataframe\">\n",
       "  <thead>\n",
       "    <tr style=\"text-align: right;\">\n",
       "      <th></th>\n",
       "      <th>dataset</th>\n",
       "      <th>method</th>\n",
       "      <th>normal</th>\n",
       "      <th>lags</th>\n",
       "      <th>nof_filters</th>\n",
       "      <th>epoch</th>\n",
       "      <th>mse(train)</th>\n",
       "      <th>mse(test)</th>\n",
       "      <th>calculation_time</th>\n",
       "    </tr>\n",
       "  </thead>\n",
       "  <tbody>\n",
       "    <tr>\n",
       "      <th>0</th>\n",
       "      <td>data2</td>\n",
       "      <td>EPT-STGCN</td>\n",
       "      <td>O</td>\n",
       "      <td>4</td>\n",
       "      <td>16</td>\n",
       "      <td>100</td>\n",
       "      <td>0.182457</td>\n",
       "      <td>0.168873</td>\n",
       "      <td>596.517389</td>\n",
       "    </tr>\n",
       "    <tr>\n",
       "      <th>1</th>\n",
       "      <td>data2</td>\n",
       "      <td>EPT-STGCN</td>\n",
       "      <td>O</td>\n",
       "      <td>4</td>\n",
       "      <td>32</td>\n",
       "      <td>100</td>\n",
       "      <td>0.193543</td>\n",
       "      <td>0.18523</td>\n",
       "      <td>600.148345</td>\n",
       "    </tr>\n",
       "    <tr>\n",
       "      <th>2</th>\n",
       "      <td>data2</td>\n",
       "      <td>EPT-STGCN</td>\n",
       "      <td>O</td>\n",
       "      <td>4</td>\n",
       "      <td>64</td>\n",
       "      <td>100</td>\n",
       "      <td>0.183424</td>\n",
       "      <td>0.172943</td>\n",
       "      <td>618.539936</td>\n",
       "    </tr>\n",
       "    <tr>\n",
       "      <th>3</th>\n",
       "      <td>data2</td>\n",
       "      <td>EPT-STGCN</td>\n",
       "      <td>O</td>\n",
       "      <td>8</td>\n",
       "      <td>16</td>\n",
       "      <td>100</td>\n",
       "      <td>0.196233</td>\n",
       "      <td>0.187182</td>\n",
       "      <td>610.896952</td>\n",
       "    </tr>\n",
       "    <tr>\n",
       "      <th>4</th>\n",
       "      <td>data2</td>\n",
       "      <td>EPT-STGCN</td>\n",
       "      <td>O</td>\n",
       "      <td>8</td>\n",
       "      <td>32</td>\n",
       "      <td>100</td>\n",
       "      <td>0.197261</td>\n",
       "      <td>0.188859</td>\n",
       "      <td>617.301779</td>\n",
       "    </tr>\n",
       "    <tr>\n",
       "      <th>5</th>\n",
       "      <td>data2</td>\n",
       "      <td>EPT-STGCN</td>\n",
       "      <td>O</td>\n",
       "      <td>8</td>\n",
       "      <td>64</td>\n",
       "      <td>100</td>\n",
       "      <td>0.200183</td>\n",
       "      <td>0.191655</td>\n",
       "      <td>641.214275</td>\n",
       "    </tr>\n",
       "    <tr>\n",
       "      <th>6</th>\n",
       "      <td>data2</td>\n",
       "      <td>EPT-STGCN</td>\n",
       "      <td>O</td>\n",
       "      <td>12</td>\n",
       "      <td>16</td>\n",
       "      <td>100</td>\n",
       "      <td>0.194866</td>\n",
       "      <td>0.188829</td>\n",
       "      <td>626.573932</td>\n",
       "    </tr>\n",
       "    <tr>\n",
       "      <th>7</th>\n",
       "      <td>data2</td>\n",
       "      <td>EPT-STGCN</td>\n",
       "      <td>O</td>\n",
       "      <td>12</td>\n",
       "      <td>32</td>\n",
       "      <td>100</td>\n",
       "      <td>0.184337</td>\n",
       "      <td>0.174792</td>\n",
       "      <td>629.810274</td>\n",
       "    </tr>\n",
       "    <tr>\n",
       "      <th>8</th>\n",
       "      <td>data2</td>\n",
       "      <td>EPT-STGCN</td>\n",
       "      <td>O</td>\n",
       "      <td>12</td>\n",
       "      <td>64</td>\n",
       "      <td>100</td>\n",
       "      <td>0.190618</td>\n",
       "      <td>0.183905</td>\n",
       "      <td>654.698985</td>\n",
       "    </tr>\n",
       "  </tbody>\n",
       "</table>\n",
       "</div>"
      ],
      "text/plain": [
       "  dataset     method normal lags nof_filters epoch mse(train) mse(test)  \\\n",
       "0   data2  EPT-STGCN      O    4          16   100   0.182457  0.168873   \n",
       "1   data2  EPT-STGCN      O    4          32   100   0.193543   0.18523   \n",
       "2   data2  EPT-STGCN      O    4          64   100   0.183424  0.172943   \n",
       "3   data2  EPT-STGCN      O    8          16   100   0.196233  0.187182   \n",
       "4   data2  EPT-STGCN      O    8          32   100   0.197261  0.188859   \n",
       "5   data2  EPT-STGCN      O    8          64   100   0.200183  0.191655   \n",
       "6   data2  EPT-STGCN      O   12          16   100   0.194866  0.188829   \n",
       "7   data2  EPT-STGCN      O   12          32   100   0.184337  0.174792   \n",
       "8   data2  EPT-STGCN      O   12          64   100   0.190618  0.183905   \n",
       "\n",
       "  calculation_time  \n",
       "0       596.517389  \n",
       "1       600.148345  \n",
       "2       618.539936  \n",
       "3       610.896952  \n",
       "4       617.301779  \n",
       "5       641.214275  \n",
       "6       626.573932  \n",
       "7       629.810274  \n",
       "8       654.698985  "
      ]
     },
     "execution_count": 15,
     "metadata": {},
     "output_type": "execute_result"
    }
   ],
   "source": [
    "simul_model_100.simulation_results"
   ]
  },
  {
   "cell_type": "code",
   "execution_count": 16,
   "id": "7065d530-6f6c-43f6-ab6e-c74eed4f3884",
   "metadata": {},
   "outputs": [
    {
     "name": "stdout",
     "output_type": "stream",
     "text": [
      "100에폭 끝 ㅎㅎ\n"
     ]
    }
   ],
   "source": [
    "print('100에폭 끝 ㅎㅎ')"
   ]
  },
  {
   "cell_type": "markdown",
   "id": "24583906-612b-4065-b8ad-e3a3b873442d",
   "metadata": {},
   "source": [
    "## 150epoch"
   ]
  },
  {
   "cell_type": "code",
   "execution_count": 17,
   "id": "2f461ea7-28a5-48fe-a58b-308100b3daad",
   "metadata": {},
   "outputs": [],
   "source": [
    "plans_stgcn = {\n",
    "    'max_iteration': 1,   # 30, \n",
    "    'method': ['EPT-STGCN'], \n",
    "    'lags': [4, 8, 12],  # [4, 8, 12]\n",
    "    'nof_filters': [16, 32, 64], # [16, 32, 64]\n",
    "    'epoch': [150] # [50, 100, 150]\n",
    "}"
   ]
  },
  {
   "cell_type": "code",
   "execution_count": 18,
   "id": "e0e21632-158a-4f19-a85a-bde08952e229",
   "metadata": {},
   "outputs": [],
   "source": [
    "plnr = eptstgcn.planner.NORMAL_PLNR_STGCN(plans_stgcn, data_dict, dataset_name='data2')"
   ]
  },
  {
   "cell_type": "code",
   "execution_count": 19,
   "id": "89846473-83c9-4199-88dd-75d7e6cd9dce",
   "metadata": {},
   "outputs": [
    {
     "name": "stdout",
     "output_type": "stream",
     "text": [
      "1/1 is done\n",
      "All results are stored in ./simulation_results/2023-05-03_04-19-37.csv\n"
     ]
    }
   ],
   "source": [
    "plnr.simulate()"
   ]
  },
  {
   "cell_type": "code",
   "execution_count": 20,
   "id": "e20e23f3-fdd5-4e8b-b8e8-1910106330f3",
   "metadata": {},
   "outputs": [],
   "source": [
    "eptstgcn.save_data(plnr,'./simul_model2/normal/stgcn_v2_150epoch.pickle')"
   ]
  },
  {
   "cell_type": "code",
   "execution_count": 21,
   "id": "ee3069c1-3ad6-4a9e-a25c-88d487a48af6",
   "metadata": {},
   "outputs": [],
   "source": [
    "simul_model_150 = eptstgcn.load_data('./simul_model2/normal/stgcn_v2_150epoch.pickle')"
   ]
  },
  {
   "cell_type": "code",
   "execution_count": 22,
   "id": "79a37f22-564d-485e-b827-b41a78cd5215",
   "metadata": {},
   "outputs": [
    {
     "data": {
      "text/html": [
       "<div>\n",
       "<style scoped>\n",
       "    .dataframe tbody tr th:only-of-type {\n",
       "        vertical-align: middle;\n",
       "    }\n",
       "\n",
       "    .dataframe tbody tr th {\n",
       "        vertical-align: top;\n",
       "    }\n",
       "\n",
       "    .dataframe thead th {\n",
       "        text-align: right;\n",
       "    }\n",
       "</style>\n",
       "<table border=\"1\" class=\"dataframe\">\n",
       "  <thead>\n",
       "    <tr style=\"text-align: right;\">\n",
       "      <th></th>\n",
       "      <th>dataset</th>\n",
       "      <th>method</th>\n",
       "      <th>normal</th>\n",
       "      <th>lags</th>\n",
       "      <th>nof_filters</th>\n",
       "      <th>epoch</th>\n",
       "      <th>mse(train)</th>\n",
       "      <th>mse(test)</th>\n",
       "      <th>calculation_time</th>\n",
       "    </tr>\n",
       "  </thead>\n",
       "  <tbody>\n",
       "    <tr>\n",
       "      <th>0</th>\n",
       "      <td>data2</td>\n",
       "      <td>EPT-STGCN</td>\n",
       "      <td>O</td>\n",
       "      <td>4</td>\n",
       "      <td>16</td>\n",
       "      <td>150</td>\n",
       "      <td>0.183898</td>\n",
       "      <td>0.169314</td>\n",
       "      <td>888.254045</td>\n",
       "    </tr>\n",
       "    <tr>\n",
       "      <th>1</th>\n",
       "      <td>data2</td>\n",
       "      <td>EPT-STGCN</td>\n",
       "      <td>O</td>\n",
       "      <td>4</td>\n",
       "      <td>32</td>\n",
       "      <td>150</td>\n",
       "      <td>0.175188</td>\n",
       "      <td>0.162054</td>\n",
       "      <td>902.462598</td>\n",
       "    </tr>\n",
       "    <tr>\n",
       "      <th>2</th>\n",
       "      <td>data2</td>\n",
       "      <td>EPT-STGCN</td>\n",
       "      <td>O</td>\n",
       "      <td>4</td>\n",
       "      <td>64</td>\n",
       "      <td>150</td>\n",
       "      <td>0.185554</td>\n",
       "      <td>0.174865</td>\n",
       "      <td>931.726822</td>\n",
       "    </tr>\n",
       "    <tr>\n",
       "      <th>3</th>\n",
       "      <td>data2</td>\n",
       "      <td>EPT-STGCN</td>\n",
       "      <td>O</td>\n",
       "      <td>8</td>\n",
       "      <td>16</td>\n",
       "      <td>150</td>\n",
       "      <td>0.190883</td>\n",
       "      <td>0.178519</td>\n",
       "      <td>919.577805</td>\n",
       "    </tr>\n",
       "    <tr>\n",
       "      <th>4</th>\n",
       "      <td>data2</td>\n",
       "      <td>EPT-STGCN</td>\n",
       "      <td>O</td>\n",
       "      <td>8</td>\n",
       "      <td>32</td>\n",
       "      <td>150</td>\n",
       "      <td>0.196512</td>\n",
       "      <td>0.188642</td>\n",
       "      <td>931.657403</td>\n",
       "    </tr>\n",
       "    <tr>\n",
       "      <th>5</th>\n",
       "      <td>data2</td>\n",
       "      <td>EPT-STGCN</td>\n",
       "      <td>O</td>\n",
       "      <td>8</td>\n",
       "      <td>64</td>\n",
       "      <td>150</td>\n",
       "      <td>0.184796</td>\n",
       "      <td>0.175644</td>\n",
       "      <td>962.80743</td>\n",
       "    </tr>\n",
       "    <tr>\n",
       "      <th>6</th>\n",
       "      <td>data2</td>\n",
       "      <td>EPT-STGCN</td>\n",
       "      <td>O</td>\n",
       "      <td>12</td>\n",
       "      <td>16</td>\n",
       "      <td>150</td>\n",
       "      <td>0.183245</td>\n",
       "      <td>0.17361</td>\n",
       "      <td>937.009531</td>\n",
       "    </tr>\n",
       "    <tr>\n",
       "      <th>7</th>\n",
       "      <td>data2</td>\n",
       "      <td>EPT-STGCN</td>\n",
       "      <td>O</td>\n",
       "      <td>12</td>\n",
       "      <td>32</td>\n",
       "      <td>150</td>\n",
       "      <td>0.184576</td>\n",
       "      <td>0.173852</td>\n",
       "      <td>972.509811</td>\n",
       "    </tr>\n",
       "    <tr>\n",
       "      <th>8</th>\n",
       "      <td>data2</td>\n",
       "      <td>EPT-STGCN</td>\n",
       "      <td>O</td>\n",
       "      <td>12</td>\n",
       "      <td>64</td>\n",
       "      <td>150</td>\n",
       "      <td>0.182424</td>\n",
       "      <td>0.172484</td>\n",
       "      <td>1004.384947</td>\n",
       "    </tr>\n",
       "  </tbody>\n",
       "</table>\n",
       "</div>"
      ],
      "text/plain": [
       "  dataset     method normal lags nof_filters epoch mse(train) mse(test)  \\\n",
       "0   data2  EPT-STGCN      O    4          16   150   0.183898  0.169314   \n",
       "1   data2  EPT-STGCN      O    4          32   150   0.175188  0.162054   \n",
       "2   data2  EPT-STGCN      O    4          64   150   0.185554  0.174865   \n",
       "3   data2  EPT-STGCN      O    8          16   150   0.190883  0.178519   \n",
       "4   data2  EPT-STGCN      O    8          32   150   0.196512  0.188642   \n",
       "5   data2  EPT-STGCN      O    8          64   150   0.184796  0.175644   \n",
       "6   data2  EPT-STGCN      O   12          16   150   0.183245   0.17361   \n",
       "7   data2  EPT-STGCN      O   12          32   150   0.184576  0.173852   \n",
       "8   data2  EPT-STGCN      O   12          64   150   0.182424  0.172484   \n",
       "\n",
       "  calculation_time  \n",
       "0       888.254045  \n",
       "1       902.462598  \n",
       "2       931.726822  \n",
       "3       919.577805  \n",
       "4       931.657403  \n",
       "5        962.80743  \n",
       "6       937.009531  \n",
       "7       972.509811  \n",
       "8      1004.384947  "
      ]
     },
     "execution_count": 22,
     "metadata": {},
     "output_type": "execute_result"
    }
   ],
   "source": [
    "simul_model_150.simulation_results"
   ]
  },
  {
   "cell_type": "code",
   "execution_count": 23,
   "id": "334e42d5-07e9-4556-ae63-53ff2a7f4f0a",
   "metadata": {},
   "outputs": [
    {
     "name": "stdout",
     "output_type": "stream",
     "text": [
      "stgcn ver2 150epoch 끝^.^\n"
     ]
    }
   ],
   "source": [
    "print('stgcn ver2 150epoch 끝^.^')"
   ]
  },
  {
   "cell_type": "code",
   "execution_count": 24,
   "id": "9d3285ad-cf2e-41b9-81ed-54041b6b4d02",
   "metadata": {},
   "outputs": [
    {
     "data": {
      "image/png": "[encoded data removed]",
      "text/plain": [
       "<Figure size 432x288 with 1 Axes>"
      ]
     },
     "metadata": {
      "needs_background": "light"
     },
     "output_type": "display_data"
    }
   ],
   "source": [
    "import matplotlib.pyplot as plt\n",
    "plt.boxplot(df_simul_no['mse(test)'])\n",
    "plt.show()"
   ]
  }
 ],
 "metadata": {
  "kernelspec": {
   "display_name": "Python 3",
   "language": "python",
   "name": "python3"
  },
  "language_info": {
   "codemirror_mode": {
    "name": "ipython",
    "version": 3
   },
   "file_extension": ".py",
   "mimetype": "text/x-python",
   "name": "python",
   "nbconvert_exporter": "python",
   "pygments_lexer": "ipython3",
   "version": "3.8.16"
  }
 },
 "nbformat": 4,
 "nbformat_minor": 5
}
