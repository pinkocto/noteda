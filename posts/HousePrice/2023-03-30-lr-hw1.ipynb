{
 "cells": [
  {
   "cell_type": "raw",
   "id": "c0b6d034-dcd3-4077-a171-55d3608047e6",
   "metadata": {},
   "source": [
    "---\n",
    "title: \"HW1\"\n",
    "author: \"jiyun Lim\"\n",
    "date: \"03/13/2023\"\n",
    "categories:\n",
    "  - Applied LR\n",
    "---"
   ]
  },
  {
   "cell_type": "markdown",
   "id": "a4ea41f4-eb98-4c2e-a6e7-39e6b9f75f36",
   "metadata": {},
   "source": [
    "## Q1."
   ]
  },
  {
   "cell_type": "markdown",
   "id": "5c650794-3073-4a69-b4e9-8d05eee1cdd4",
   "metadata": {},
   "source": [
    "원점을 지나는 회귀모형은 다음과 같이 정의할 수 있다."
   ]
  },
  {
   "cell_type": "markdown",
   "id": "8b45708f-4ec6-4a28-9a10-dbac7bb0f9f1",
   "metadata": {},
   "source": [
    "$$y_i = \\beta_1x_i + \\epsilon_i, \\quad \\epsilon_i \\overset{iid}{\\sim} N(0,\\sigma^2), \\quad i=1,\\dots, n$$"
   ]
  },
  {
   "cell_type": "markdown",
   "id": "51fecb70-429e-459b-946c-f2ffb65eb1f6",
   "metadata": {},
   "source": [
    "### (1) 오차제곱합을 정의하고 $\\beta_1$의 최소제곱추정량 ($\\hat{\\beta}_1$)을 구하여라."
   ]
  },
  {
   "cell_type": "markdown",
   "id": "6c96c15d-1350-4257-92de-f1ffe94331e7",
   "metadata": {},
   "source": [
    "오차제곱합은 다음과 같이 정의할 수 있다."
   ]
  },
  {
   "cell_type": "markdown",
   "id": "dd3bcd5c-0ec8-4c70-a261-22f72418a011",
   "metadata": {},
   "source": [
    "$$SSE = \\sum_{i=1}^n\\epsilon_i^2 = \\sum_{i=1}^n(y_i-\\beta_1x_i)^2$$"
   ]
  },
  {
   "cell_type": "markdown",
   "id": "c6316b42-8c96-4ef6-9ea5-c7b0a98c976e",
   "metadata": {},
   "source": [
    "오차제곱합을 최소로 하는 $\\beta_1$의 값을 추정값 $\\hat{\\beta}_1$으로 하는 방법을 최소제곱법(method of least squares)이라고 한다. 오차제곱합 $S$를 최소화 시키는 $\\beta_1$를 구하기 위하여 $S$를 $\\beta_1$에 대하여 편미분하여 그 값을 $0$으로 만드는 $\\hat{\\beta}_0, \\hat{\\beta}_1$으로 대치하여 정리하면 다음과 같다."
   ]
  },
  {
   "cell_type": "markdown",
   "id": "2cf1bcc5-4de0-4942-a3f8-2c17ef62fb51",
   "metadata": {},
   "source": [
    "$$\\begin{align*}\\frac{\\partial{S}}{\\partial{\\beta}_0} &= -2\\sum_{i=1}^nx_i(y_i-\\beta_1x_i) = 0 \\\\\n",
    "&\\Rightarrow \\sum_{i=1}^nx_iy_i - \\hat{\\beta}_1\\sum_{i=1}^nx_i^2 = 0 \\\\\n",
    "&\\Rightarrow \\hat{\\beta}_1 = \\frac{\\sum_{i=1}^nx_iy_i}{\\sum_{i=1}^nx_i^2}\\end{align*}$$"
   ]
  },
  {
   "cell_type": "markdown",
   "id": "9224a2f7-b00e-4691-a863-f2fc945e7e8e",
   "metadata": {},
   "source": [
    "### (2) $E(\\hat{\\beta}_1$)을 구하여라."
   ]
  },
  {
   "cell_type": "markdown",
   "id": "912db46d-0a96-4bd4-bc1b-1f62d912bc03",
   "metadata": {},
   "source": [
    "$\\hat{\\beta}_1$은 관측값 $y_i$에 대한 선형추정량이다. ($\\to$기댓값과 분산을 쉽게 유도)"
   ]
  },
  {
   "cell_type": "markdown",
   "id": "e5bf0726-12d8-4e04-9cf9-ab20b265e0c3",
   "metadata": {},
   "source": [
    "$\\hat{\\beta}_1$을 $y_i$의 선형결합 꼴로 만들어주기 위하여 $\\hat{\\beta}_1 = \\frac{\\sum_{i=1}^nx_iy_i}{\\sum_{i=1}^nx_i^2}$에서  $\\frac{x_i}{\\sum_{i=1}^n x_i^2}$를 $a_i$로 두자."
   ]
  },
  {
   "cell_type": "markdown",
   "id": "520a1f52-7e54-4652-a1e2-395ecf799378",
   "metadata": {},
   "source": [
    "$$\\begin{align*}E(\\hat{\\beta}_1) &= E\\left(\\frac{\\sum_{i=1}^nx_iy_i}{\\sum_{i=1}^nx_i^2}\\right) \\\\\n",
    "&= E\\left(\\sum_{i=1}^na_iy_i\\right),\\quad a_i = \\frac{x_i}{\\sum_{i=1}^n x_i^2} \\\\\n",
    "&= \\sum_{i=1}^na_iE(y_i) , \\quad  y_i \\sim N(\\beta_1x_i, \\sigma^2)\\\\\n",
    "&= \\beta_1\\sum_{i=1}^na_ix_i = \\beta_1\\sum_{i=1}^n\\frac{x_i}{\\sum_{i=1}^n x_i^2}x_i\\\\\n",
    "&= \\beta_1\\frac{\\sum_{i=1}^nx_i^2}{\\sum_{i=1}^n x_i^2} = \\beta_1\\end{align*}$$"
   ]
  },
  {
   "cell_type": "markdown",
   "id": "a64ddfa3-8166-4616-a60e-5c5fd0b6bc15",
   "metadata": {},
   "source": [
    "### (3) $Var(\\hat{\\beta}_1)$을 구하여라."
   ]
  },
  {
   "cell_type": "markdown",
   "id": "0190da08-8d03-44da-9bee-24c01d2d730c",
   "metadata": {},
   "source": [
    "$$\\begin{align*}Var(\\hat{\\beta}_1) &= Var\\left(\\sum_{i=1}^na_iy_i\\right) \\\\\n",
    "&= \\sum_{i=1}^na_i^2Var(y_i) \\\\\n",
    "&= \\frac{\\sum_{i=1}^nx_i^2}{\\left[\\sum_{i=1}^nx_i^2\\right]^2}\\sigma^2, \\quad y_i\\sim N(\\beta_1x_i, \\sigma^2) \\\\\n",
    "&= \\frac{\\sigma^2}{\\sum_{i=1}^n x_i^2}\\end{align*}$$"
   ]
  },
  {
   "cell_type": "markdown",
   "id": "cbc1bafa-4cbb-40ef-bdc6-93f26d7375fc",
   "metadata": {},
   "source": [
    "### (4) 제곱합에 대한 분산분석표를 작성하여라."
   ]
  },
  {
   "attachments": {
    "be284e4e-7a5a-43c2-81f6-1ca57d87e696.png": {
     "image/png": "[encoded data removed]"
    }
   },
   "cell_type": "markdown",
   "id": "f8577a0b-96c7-4955-8420-bd18bb5bae4d",
   "metadata": {},
   "source": [
    "![분산분석표](attachment:be284e4e-7a5a-43c2-81f6-1ca57d87e696.png)"
   ]
  },
  {
   "cell_type": "markdown",
   "id": "96021b09-d3ae-40bb-b152-9828c23ae733",
   "metadata": {},
   "source": [
    "### (5) 회귀모형의 유의성 검정을 하기위한 가설을 설정하고, 검정통계량을 제시하여라."
   ]
  },
  {
   "cell_type": "markdown",
   "id": "0e8ce8f8-228f-45e7-bff3-11e0fd923525",
   "metadata": {},
   "source": [
    "`-` 회귀직선의 유의성 검정 (F-test)"
   ]
  },
  {
   "cell_type": "markdown",
   "id": "09a24317-d253-4d1d-8f69-19d1b2f89889",
   "metadata": {},
   "source": [
    "***가설***\n",
    "\n",
    "- $H_0: \\beta_1 = 0$ (적합된 회귀모형은 유의하지 않다.)\n",
    "-  $H_1: \\beta_1 \\neq 0$ (적합된 회귀모형은 유의하다.)\n",
    "\n",
    "\n",
    "***검정통계량***\n",
    "- $F = \\frac{SSR/1}{SSE/(n-1)} = \\frac{MSR}{MSE} \\sim_{H_0} F(1, n-1)$"
   ]
  },
  {
   "cell_type": "markdown",
   "id": "97e3c18f-4f4a-4103-970b-ea7e176dbcc2",
   "metadata": {},
   "source": [
    "### (6) 위의 가설에 대해, 유의수준 $\\alpha$에서 검정하는 방법을 기술하여라."
   ]
  },
  {
   "cell_type": "markdown",
   "id": "dc9e9b45-a479-44f2-85e9-3065c7156bdd",
   "metadata": {},
   "source": [
    "***1. 기각역(critical region)***\n",
    "\n",
    "$F_0 \\geq F_{\\alpha}(1, n-1)$ 이면 귀무가설을 기각할 수 있다. 즉, 적합된 회귀선이 유의하다고 할 수 있다."
   ]
  },
  {
   "cell_type": "markdown",
   "id": "821c40c1-b122-431c-b2cd-d6cbad70c3ed",
   "metadata": {},
   "source": [
    "***2. 유의확률(p-value)***\n",
    "\n",
    "$P(F\\geq F_0) < \\alpha$ 이면 귀무가설을 기각할 수 있다. 즉, 적합된 회귀선이 유의하다고 할 수 있다."
   ]
  },
  {
   "cell_type": "markdown",
   "id": "f550642c-7a3e-4010-8eaf-ed0003c5dfe0",
   "metadata": {},
   "source": [
    "### (7) 다음의 가설에 대한 검정통계량을 제시하고, 유의수준 $\\alpha$에서 가설 검정하는 방법을 기술하여라."
   ]
  },
  {
   "cell_type": "markdown",
   "id": "15648bdf-5fbc-4164-90c1-2ae8f339b014",
   "metadata": {},
   "source": [
    "$$H_0: \\beta_1 = 0 \\text{ vs. } H_1: \\beta_1 > 0$$"
   ]
  },
  {
   "cell_type": "markdown",
   "id": "ed56f53f-22a5-4332-bec4-6f924b65d302",
   "metadata": {},
   "source": [
    "`-` 회귀계수에 대한 유의성 검정"
   ]
  },
  {
   "cell_type": "markdown",
   "id": "3f12f568-79b6-4726-9680-20b622a90fae",
   "metadata": {},
   "source": [
    "***1. 기각역(critical region)***\n",
    "\n",
    "검정통계량: $T = \\frac{\\hat{\\beta}_1-0}{\\sqrt{Var(\\hat{\\beta}_1)}}\\sim_{H_0} t(n-1), \\quad \\text{관측값: } t$"
   ]
  },
  {
   "cell_type": "markdown",
   "id": "0e22150c-5217-4da1-a81b-6dab785e3f4c",
   "metadata": {},
   "source": [
    " $\\begin{align*}T = \\frac{\\hat{\\beta}_1-0}{\\sqrt{Var(\\hat{\\beta}_1)}} = \\frac{\\hat{\\beta}_1}{\\sqrt{\\frac{\\sigma^2}{\\sum_{i=1}^n x_i^2}}} = \\frac{\\hat{\\beta}_1}{\\frac{\\sigma}{\\sqrt{\\sum_{i=1}^n x_i^2}}} = \\frac{\\hat{\\beta}_1}{\\frac{\\hat{\\sigma}}{\\sqrt{\\sum_{i=1}^n x_i^2}}} = \\frac{\\hat{\\beta}_1}{\\sqrt{\\frac{MSE}{\\sum_{i=1}^n x_i^2}}}\\end{align*}$"
   ]
  },
  {
   "cell_type": "markdown",
   "id": "0c4fb5a4-d4b2-4abd-9ed1-92bb27206842",
   "metadata": {},
   "source": [
    "***1. 기각역(critical region)***\n",
    "\n",
    "$t \\geq t_{\\alpha}(n-1)$ 이면(기각역에 포함되면) 귀무가설을 기각할 수 있다. 즉, 회귀계수는 유의하다고 할 수 있다."
   ]
  },
  {
   "cell_type": "markdown",
   "id": "802a2210-f105-4cf2-88e5-24aaaeb79a7b",
   "metadata": {},
   "source": [
    "***2. 유의확률(p-value)***\n",
    "\n",
    "유의확률 $P(T\\geq t)$가 주어진 유의수준 $\\alpha$ 보다 작으면 귀무가설을 기각할 수 있다."
   ]
  },
  {
   "cell_type": "markdown",
   "id": "a9048d5f-dfeb-46ce-bce6-bfe4822a5f3d",
   "metadata": {},
   "source": [
    "## Q2."
   ]
  },
  {
   "cell_type": "markdown",
   "id": "1a8e6369-2623-43fa-88ab-3ee97486a960",
   "metadata": {},
   "source": [
    "`cars.csv` 데이터를 이용하여 회귀모형을 적합하려고 한다. 이는 자동차의 속도(mph)에 따른 제동거리(ft)를 조사한 데이터이다. 다음 물음에 답하여라. (R을 이용하여 풀이) (검정에서는 유의수준 $\\alpha=0.05$ 사용)"
   ]
  },
  {
   "cell_type": "code",
   "execution_count": 3,
   "id": "793b1bb9-a5b0-413c-9cda-64449d501658",
   "metadata": {
    "vscode": {
     "languageId": "r"
    }
   },
   "outputs": [],
   "source": [
    "library(ggplot2)\n",
    "library(lmtest) ## bptest, dwtest\n",
    "library(tidyverse)"
   ]
  },
  {
   "cell_type": "code",
   "execution_count": 5,
   "id": "b652b1dd-60f3-4023-9860-ed224e4de3ac",
   "metadata": {
    "vscode": {
     "languageId": "r"
    }
   },
   "outputs": [
    {
     "data": {
      "text/html": [
       "<table class=\"dataframe\">\n",
       "<caption>A data.frame: 6 × 2</caption>\n",
       "<thead>\n",
       "\t<tr><th></th><th scope=col>speed</th><th scope=col>dist</th></tr>\n",
       "\t<tr><th></th><th scope=col>&lt;int&gt;</th><th scope=col>&lt;int&gt;</th></tr>\n",
       "</thead>\n",
       "<tbody>\n",
       "\t<tr><th scope=row>1</th><td>4</td><td> 2</td></tr>\n",
       "\t<tr><th scope=row>2</th><td>4</td><td>10</td></tr>\n",
       "\t<tr><th scope=row>3</th><td>7</td><td> 4</td></tr>\n",
       "\t<tr><th scope=row>4</th><td>7</td><td>22</td></tr>\n",
       "\t<tr><th scope=row>5</th><td>8</td><td>16</td></tr>\n",
       "\t<tr><th scope=row>6</th><td>9</td><td>10</td></tr>\n",
       "</tbody>\n",
       "</table>\n"
      ],
      "text/latex": [
       "A data.frame: 6 × 2\n",
       "\\begin{tabular}{r|ll}\n",
       "  & speed & dist\\\\\n",
       "  & <int> & <int>\\\\\n",
       "\\hline\n",
       "\t1 & 4 &  2\\\\\n",
       "\t2 & 4 & 10\\\\\n",
       "\t3 & 7 &  4\\\\\n",
       "\t4 & 7 & 22\\\\\n",
       "\t5 & 8 & 16\\\\\n",
       "\t6 & 9 & 10\\\\\n",
       "\\end{tabular}\n"
      ],
      "text/markdown": [
       "\n",
       "A data.frame: 6 × 2\n",
       "\n",
       "| <!--/--> | speed &lt;int&gt; | dist &lt;int&gt; |\n",
       "|---|---|---|\n",
       "| 1 | 4 |  2 |\n",
       "| 2 | 4 | 10 |\n",
       "| 3 | 7 |  4 |\n",
       "| 4 | 7 | 22 |\n",
       "| 5 | 8 | 16 |\n",
       "| 6 | 9 | 10 |\n",
       "\n"
      ],
      "text/plain": [
       "  speed dist\n",
       "1 4      2  \n",
       "2 4     10  \n",
       "3 7      4  \n",
       "4 7     22  \n",
       "5 8     16  \n",
       "6 9     10  "
      ]
     },
     "metadata": {},
     "output_type": "display_data"
    },
    {
     "data": {
      "text/html": [
       "<style>\n",
       ".list-inline {list-style: none; margin:0; padding: 0}\n",
       ".list-inline>li {display: inline-block}\n",
       ".list-inline>li:not(:last-child)::after {content: \"\\00b7\"; padding: 0 .5ex}\n",
       "</style>\n",
       "<ol class=list-inline><li>50</li><li>2</li></ol>\n"
      ],
      "text/latex": [
       "\\begin{enumerate*}\n",
       "\\item 50\n",
       "\\item 2\n",
       "\\end{enumerate*}\n"
      ],
      "text/markdown": [
       "1. 50\n",
       "2. 2\n",
       "\n",
       "\n"
      ],
      "text/plain": [
       "[1] 50  2"
      ]
     },
     "metadata": {},
     "output_type": "display_data"
    }
   ],
   "source": [
    "cars <- read.csv('./data/cars.csv')\n",
    "head(cars)\n",
    "dim(cars)"
   ]
  },
  {
   "cell_type": "markdown",
   "id": "10444a4a-f254-438a-b872-d07c4a5f2f2d",
   "metadata": {},
   "source": [
    "### (1) 이 데이터의 산점도를 그리고 두 변수 사이의 관계를 설명하시오."
   ]
  },
  {
   "cell_type": "code",
   "execution_count": 6,
   "id": "5f2c446f-5195-4199-b1ce-36f64dde1ce2",
   "metadata": {
    "vscode": {
     "languageId": "r"
    }
   },
   "outputs": [
    {
     "data": {
      "image/png": "[encoded data removed]",
      "text/plain": [
       "plot without title"
      ]
     },
     "metadata": {
      "image/png": {
       "height": 420,
       "width": 420
      }
     },
     "output_type": "display_data"
    }
   ],
   "source": [
    "ggplot(cars, aes(speed, dist)) + \n",
    "    geom_point(col = 'darkorange') +\n",
    "    xlab('속도') + ylab('제동거리') +\n",
    "    theme_bw() +\n",
    "    theme(axis.title = element_text(size=14))"
   ]
  },
  {
   "cell_type": "markdown",
   "id": "d6de1256-6833-4026-ad65-3ba9c3968060",
   "metadata": {},
   "source": [
    "- 자동차의 속도와 제동거리와 양의 상관이 있는 것으로 보인다. (자동차 속도가 증가하면 제동거리가 증가하는 패턴을 보인다.)"
   ]
  },
  {
   "cell_type": "markdown",
   "id": "adf15ca1-7688-4fa3-a508-4ece58cfd0d5",
   "metadata": {},
   "source": [
    "### (2) 최소제곱법의 의한 회귀직선을 적합시키고, 모형 적합 결과를 설명하시오."
   ]
  },
  {
   "cell_type": "markdown",
   "id": "22998a28-4c26-4af6-b27c-949fe7749626",
   "metadata": {},
   "source": [
    "$$\\widehat{\\text{dist}} = 3.932\\times \\text{speed} - 17.579$$"
   ]
  },
  {
   "cell_type": "code",
   "execution_count": 7,
   "id": "343a1261-aadb-4a2f-8386-bd38c148deea",
   "metadata": {
    "vscode": {
     "languageId": "r"
    }
   },
   "outputs": [
    {
     "data": {
      "text/plain": [
       "\n",
       "Call:\n",
       "lm(formula = dist ~ speed, data = cars)\n",
       "\n",
       "Coefficients:\n",
       "(Intercept)        speed  \n",
       "    -17.579        3.932  \n"
      ]
     },
     "metadata": {},
     "output_type": "display_data"
    }
   ],
   "source": [
    "model1 <- lm(dist~speed, cars)\n",
    "model1"
   ]
  },
  {
   "cell_type": "code",
   "execution_count": 8,
   "id": "97097fb7-4f97-4963-a6a8-ce2b90d53be4",
   "metadata": {
    "vscode": {
     "languageId": "r"
    }
   },
   "outputs": [
    {
     "data": {
      "text/plain": [
       "\n",
       "Call:\n",
       "lm(formula = dist ~ speed, data = cars)\n",
       "\n",
       "Residuals:\n",
       "    Min      1Q  Median      3Q     Max \n",
       "-29.069  -9.525  -2.272   9.215  43.201 \n",
       "\n",
       "Coefficients:\n",
       "            Estimate Std. Error t value Pr(>|t|)    \n",
       "(Intercept) -17.5791     6.7584  -2.601   0.0123 *  \n",
       "speed         3.9324     0.4155   9.464 1.49e-12 ***\n",
       "---\n",
       "Signif. codes:  0 ‘***’ 0.001 ‘**’ 0.01 ‘*’ 0.05 ‘.’ 0.1 ‘ ’ 1\n",
       "\n",
       "Residual standard error: 15.38 on 48 degrees of freedom\n",
       "Multiple R-squared:  0.6511,\tAdjusted R-squared:  0.6438 \n",
       "F-statistic: 89.57 on 1 and 48 DF,  p-value: 1.49e-12\n"
      ]
     },
     "metadata": {},
     "output_type": "display_data"
    }
   ],
   "source": [
    "summary(model1)"
   ]
  },
  {
   "cell_type": "code",
   "execution_count": 29,
   "id": "6cc51229-3d35-4caf-b06f-3a153edfc1be",
   "metadata": {
    "vscode": {
     "languageId": "r"
    }
   },
   "outputs": [],
   "source": [
    "# ls(summary(model1))"
   ]
  },
  {
   "cell_type": "code",
   "execution_count": 28,
   "id": "10256f47-74a4-461f-9ecb-fea4539bda86",
   "metadata": {
    "vscode": {
     "languageId": "r"
    }
   },
   "outputs": [
    {
     "name": "stdout",
     "output_type": "stream",
     "text": [
      "기각치 F(1,48;0.05):  4.042652 \n",
      "F0:  89.56711"
     ]
    }
   ],
   "source": [
    "cat('기각치 F(1,48;0.05): ', qf(0.95, 1, 48), '\\n') ## F(0.05)\n",
    "cat('F0: ' , summary(model1)$fstatistic[1])"
   ]
  },
  {
   "cell_type": "markdown",
   "id": "4def8208-8147-462c-83dc-0629b3ec5db5",
   "metadata": {},
   "source": [
    "$F_0 > F(1, 48 ;0.05)$ 이므로 회귀모형은 유의하지 않다는 귀무가설을 기각할 수 있다. 따라서 적합된 회귀모형은 유의하다고 판단한다."
   ]
  },
  {
   "cell_type": "code",
   "execution_count": 20,
   "id": "b6f30e48-3867-4c25-9643-ab5eb9b6be23",
   "metadata": {
    "vscode": {
     "languageId": "r"
    }
   },
   "outputs": [
    {
     "data": {
      "text/html": [
       "1.48907673149885e-12"
      ],
      "text/latex": [
       "1.48907673149885e-12"
      ],
      "text/markdown": [
       "1.48907673149885e-12"
      ],
      "text/plain": [
       "[1] 1.489077e-12"
      ]
     },
     "metadata": {},
     "output_type": "display_data"
    }
   ],
   "source": [
    "pf(89.57, 1, 48, lower.tail = FALSE) ## p-value"
   ]
  },
  {
   "cell_type": "markdown",
   "id": "325a1731-6000-4221-80aa-b5322d28876a",
   "metadata": {},
   "source": [
    "***summary***\n",
    "- speed가 $1\\tt{mph}$ 증가할수록 dist가 $3.9324\\tt{ft}$만큼 증가하는 경향이 있다.\n",
    "- 적합된 회귀선은 전체 변동 중 $65.11\\%$ 를 설명한다.\n",
    "- $F$의 기각치는 $4.04$인데 $F_0=89.567$이므로 적합된 회귀직선은 매우 유의함을 알 수 있다.\n",
    "- speed의 회귀계수 역시 $t-value$ 에 대응하는 $p-value<0.05$ 이므로 유의함을 알 수 있다."
   ]
  },
  {
   "cell_type": "markdown",
   "id": "26ac02f9-460c-4890-a453-e478b487df25",
   "metadata": {},
   "source": [
    "### (3) 데이터의 산점도를 그리고 추정한 회귀직선을 (1)에서 그린 산점도 위에 그리시오."
   ]
  },
  {
   "cell_type": "code",
   "execution_count": 29,
   "id": "3d74c3cf-7c88-4d4a-aac4-82aaaff30da9",
   "metadata": {
    "vscode": {
     "languageId": "r"
    }
   },
   "outputs": [
    {
     "name": "stderr",
     "output_type": "stream",
     "text": [
      "\u001b[1m\u001b[22m`geom_smooth()` using formula = 'y ~ x'\n"
     ]
    },
    {
     "data": {
      "image/png": "[encoded data removed]",
      "text/plain": [
       "plot without title"
      ]
     },
     "metadata": {
      "image/png": {
       "height": 420,
       "width": 420
      }
     },
     "output_type": "display_data"
    }
   ],
   "source": [
    "ggplot(cars, aes(x=speed, y=dist)) + \n",
    "    geom_point(col = 'darkorange') +\n",
    "    stat_smooth(method = 'lm', se=F) +\n",
    "    xlab('속도') + ylab('제동거리') +\n",
    "    theme_bw() +\n",
    "    theme(axis.title = element_text(size=14))"
   ]
  },
  {
   "cell_type": "markdown",
   "id": "87bbb327-944e-4848-b555-b22e947ca416",
   "metadata": {},
   "source": [
    "### (4) 분산분석표를 작성하고 회귀직선의 유의 여부를 검정하시오."
   ]
  },
  {
   "cell_type": "markdown",
   "id": "d255a5d1-b4c0-4d22-a4f1-c57f7ecd236f",
   "metadata": {},
   "source": [
    "$H_0: \\beta_1 = 0 \\text{ (회귀모형이 유의하지 않다.) } \\text{ vs. } H_1: \\beta_1 \\neq 0 \\text{ (회귀모형이 유의하다.) }$"
   ]
  },
  {
   "cell_type": "code",
   "execution_count": 30,
   "id": "8a7d1367-f142-4a9c-a36f-339351a022ca",
   "metadata": {
    "vscode": {
     "languageId": "r"
    }
   },
   "outputs": [
    {
     "data": {
      "text/html": [
       "<table class=\"dataframe\">\n",
       "<caption>A anova: 2 × 5</caption>\n",
       "<thead>\n",
       "\t<tr><th></th><th scope=col>Df</th><th scope=col>Sum Sq</th><th scope=col>Mean Sq</th><th scope=col>F value</th><th scope=col>Pr(&gt;F)</th></tr>\n",
       "\t<tr><th></th><th scope=col>&lt;int&gt;</th><th scope=col>&lt;dbl&gt;</th><th scope=col>&lt;dbl&gt;</th><th scope=col>&lt;dbl&gt;</th><th scope=col>&lt;dbl&gt;</th></tr>\n",
       "</thead>\n",
       "<tbody>\n",
       "\t<tr><th scope=row>speed</th><td> 1</td><td>21185.46</td><td>21185.4589</td><td>89.56711</td><td>1.489836e-12</td></tr>\n",
       "\t<tr><th scope=row>Residuals</th><td>48</td><td>11353.52</td><td>  236.5317</td><td>      NA</td><td>          NA</td></tr>\n",
       "</tbody>\n",
       "</table>\n"
      ],
      "text/latex": [
       "A anova: 2 × 5\n",
       "\\begin{tabular}{r|lllll}\n",
       "  & Df & Sum Sq & Mean Sq & F value & Pr(>F)\\\\\n",
       "  & <int> & <dbl> & <dbl> & <dbl> & <dbl>\\\\\n",
       "\\hline\n",
       "\tspeed &  1 & 21185.46 & 21185.4589 & 89.56711 & 1.489836e-12\\\\\n",
       "\tResiduals & 48 & 11353.52 &   236.5317 &       NA &           NA\\\\\n",
       "\\end{tabular}\n"
      ],
      "text/markdown": [
       "\n",
       "A anova: 2 × 5\n",
       "\n",
       "| <!--/--> | Df &lt;int&gt; | Sum Sq &lt;dbl&gt; | Mean Sq &lt;dbl&gt; | F value &lt;dbl&gt; | Pr(&gt;F) &lt;dbl&gt; |\n",
       "|---|---|---|---|---|---|\n",
       "| speed |  1 | 21185.46 | 21185.4589 | 89.56711 | 1.489836e-12 |\n",
       "| Residuals | 48 | 11353.52 |   236.5317 |       NA |           NA |\n",
       "\n"
      ],
      "text/plain": [
       "          Df Sum Sq   Mean Sq    F value  Pr(>F)      \n",
       "speed      1 21185.46 21185.4589 89.56711 1.489836e-12\n",
       "Residuals 48 11353.52   236.5317       NA           NA"
      ]
     },
     "metadata": {},
     "output_type": "display_data"
    }
   ],
   "source": [
    "anova(model1)"
   ]
  },
  {
   "cell_type": "markdown",
   "id": "ee5285c5-db9c-4c98-9101-c409758ec328",
   "metadata": {},
   "source": [
    "유의수준 $5\\%$ 하에서 F-통계량에 대응되는 p-value가 $1.489836e-12$로 유의수준 $0.05$ 보다 작으므로 귀무가설을 기각할 수 있다. 따라서 적합된 회귀모형은 유의하다고 판단한다."
   ]
  },
  {
   "cell_type": "markdown",
   "id": "074d7fec-2776-4120-a63d-3fb18db8d87d",
   "metadata": {},
   "source": [
    "### (5) 결정계수와 상관계수를 구하고 이 둘의 관계를 설명하시오."
   ]
  },
  {
   "cell_type": "markdown",
   "id": "d9a96dc7-b6de-4cf1-b33a-f0a2eb6ab417",
   "metadata": {},
   "source": [
    " 단순선형회귀일 때는 표본상관계수의 제곱이 결정계수와 같다. 즉,  $r^2 = R^2$"
   ]
  },
  {
   "cell_type": "markdown",
   "id": "d00311b4-5e8f-4e59-b9b5-4b064d5a6581",
   "metadata": {},
   "source": [
    "$R^2 = \\frac{SSR}{SST} = \\frac{21185.46}{(11353.52+21185.46)} = 0.6511 = r_{xy}^2 $"
   ]
  },
  {
   "cell_type": "code",
   "execution_count": 37,
   "id": "c93ceca0-0b83-4e83-844b-8631b88310c7",
   "metadata": {
    "vscode": {
     "languageId": "r"
    }
   },
   "outputs": [
    {
     "data": {
      "text/html": [
       "<style>\n",
       ".list-inline {list-style: none; margin:0; padding: 0}\n",
       ".list-inline>li {display: inline-block}\n",
       ".list-inline>li:not(:last-child)::after {content: \"\\00b7\"; padding: 0 .5ex}\n",
       "</style>\n",
       "<ol class=list-inline><li>'adj.r.squared'</li><li>'aliased'</li><li>'call'</li><li>'coefficients'</li><li>'cov.unscaled'</li><li>'df'</li><li>'fstatistic'</li><li>'r.squared'</li><li>'residuals'</li><li>'sigma'</li><li>'terms'</li></ol>\n"
      ],
      "text/latex": [
       "\\begin{enumerate*}\n",
       "\\item 'adj.r.squared'\n",
       "\\item 'aliased'\n",
       "\\item 'call'\n",
       "\\item 'coefficients'\n",
       "\\item 'cov.unscaled'\n",
       "\\item 'df'\n",
       "\\item 'fstatistic'\n",
       "\\item 'r.squared'\n",
       "\\item 'residuals'\n",
       "\\item 'sigma'\n",
       "\\item 'terms'\n",
       "\\end{enumerate*}\n"
      ],
      "text/markdown": [
       "1. 'adj.r.squared'\n",
       "2. 'aliased'\n",
       "3. 'call'\n",
       "4. 'coefficients'\n",
       "5. 'cov.unscaled'\n",
       "6. 'df'\n",
       "7. 'fstatistic'\n",
       "8. 'r.squared'\n",
       "9. 'residuals'\n",
       "10. 'sigma'\n",
       "11. 'terms'\n",
       "\n",
       "\n"
      ],
      "text/plain": [
       " [1] \"adj.r.squared\" \"aliased\"       \"call\"          \"coefficients\" \n",
       " [5] \"cov.unscaled\"  \"df\"            \"fstatistic\"    \"r.squared\"    \n",
       " [9] \"residuals\"     \"sigma\"         \"terms\"        "
      ]
     },
     "metadata": {},
     "output_type": "display_data"
    }
   ],
   "source": [
    "a <- summary(model1)\n",
    "ls(a)"
   ]
  },
  {
   "cell_type": "code",
   "execution_count": 60,
   "id": "1355aa6c-707b-41da-9ff3-f2e00a0bfb81",
   "metadata": {
    "vscode": {
     "languageId": "r"
    }
   },
   "outputs": [
    {
     "name": "stdout",
     "output_type": "stream",
     "text": [
      "상관계수의 제곱 (r2):  0.6510794 \n",
      "결정계수 (R2):  0.6510794"
     ]
    }
   ],
   "source": [
    "cat('상관계수의 제곱 (r2): ', cor(cars$speed, cars$dist)**2, '\\n')\n",
    "cat('결정계수 (R2): ', a$r.squared)"
   ]
  },
  {
   "cell_type": "markdown",
   "id": "d5947b44-b262-4926-9b04-a9a54e226e3a",
   "metadata": {},
   "source": [
    "### (6) $\\beta_0, \\beta_1$에 대한 개별 회귀계수의 유의성 검정을 수행하시오.\n",
    "\n",
    "- $H_0: \\beta_1 = 0 \\text{ vs. } H_1: \\beta_1 \\neq 0$\n",
    "\n",
    "- $H_0: \\beta_0 = 0 \\text{ vs. } H_1: \\beta_0 \\neq 0$"
   ]
  },
  {
   "cell_type": "code",
   "execution_count": 62,
   "id": "f9abb62b-3cd1-4a28-b305-36f98a2e655b",
   "metadata": {
    "vscode": {
     "languageId": "r"
    }
   },
   "outputs": [
    {
     "data": {
      "text/html": [
       "<table class=\"dataframe\">\n",
       "<caption>A matrix: 2 × 4 of type dbl</caption>\n",
       "<thead>\n",
       "\t<tr><th></th><th scope=col>Estimate</th><th scope=col>Std. Error</th><th scope=col>t value</th><th scope=col>Pr(&gt;|t|)</th></tr>\n",
       "</thead>\n",
       "<tbody>\n",
       "\t<tr><th scope=row>(Intercept)</th><td>-17.579095</td><td>6.7584402</td><td>-2.601058</td><td>1.231882e-02</td></tr>\n",
       "\t<tr><th scope=row>speed</th><td>  3.932409</td><td>0.4155128</td><td> 9.463990</td><td>1.489836e-12</td></tr>\n",
       "</tbody>\n",
       "</table>\n"
      ],
      "text/latex": [
       "A matrix: 2 × 4 of type dbl\n",
       "\\begin{tabular}{r|llll}\n",
       "  & Estimate & Std. Error & t value & Pr(>\\textbar{}t\\textbar{})\\\\\n",
       "\\hline\n",
       "\t(Intercept) & -17.579095 & 6.7584402 & -2.601058 & 1.231882e-02\\\\\n",
       "\tspeed &   3.932409 & 0.4155128 &  9.463990 & 1.489836e-12\\\\\n",
       "\\end{tabular}\n"
      ],
      "text/markdown": [
       "\n",
       "A matrix: 2 × 4 of type dbl\n",
       "\n",
       "| <!--/--> | Estimate | Std. Error | t value | Pr(&gt;|t|) |\n",
       "|---|---|---|---|---|\n",
       "| (Intercept) | -17.579095 | 6.7584402 | -2.601058 | 1.231882e-02 |\n",
       "| speed |   3.932409 | 0.4155128 |  9.463990 | 1.489836e-12 |\n",
       "\n"
      ],
      "text/plain": [
       "            Estimate   Std. Error t value   Pr(>|t|)    \n",
       "(Intercept) -17.579095 6.7584402  -2.601058 1.231882e-02\n",
       "speed         3.932409 0.4155128   9.463990 1.489836e-12"
      ]
     },
     "metadata": {},
     "output_type": "display_data"
    }
   ],
   "source": [
    "# a = summary(model1)\n",
    "a$coef"
   ]
  },
  {
   "cell_type": "markdown",
   "id": "5647d692-294b-4d28-9db7-7ed4a6a270d9",
   "metadata": {},
   "source": [
    "유의수준 $5\\%$ 하에서 각각의 회귀계수 $\\beta_0, \\beta_1$의 $t-$통계량에 대응하는 p-value가 모두 유의수준 $0.05$보다 작으므로 귀무가설을 기각할 수 있다. 따라서 회귀계수 $\\beta_0, \\beta_1$은 유의하다고 할 수 없다."
   ]
  },
  {
   "cell_type": "markdown",
   "id": "8546ad08-618c-4e9a-b68c-c14c376e401f",
   "metadata": {},
   "source": [
    "### (7) $\\beta_0, \\beta_1$에 대한 $90\\%$ 신뢰구간을 구하시오."
   ]
  },
  {
   "cell_type": "markdown",
   "id": "9a302af1-d833-4c23-b755-bad8379db0ee",
   "metadata": {},
   "source": [
    "$$\\hat{\\beta}_1 \\pm t_{\\alpha/2}(n-2) * se(\\hat{\\beta}_1)$$"
   ]
  },
  {
   "cell_type": "markdown",
   "id": "c5c0b419-5c39-4483-ba06-8f11e72d3612",
   "metadata": {},
   "source": [
    "`-` 함수 이용"
   ]
  },
  {
   "cell_type": "code",
   "execution_count": 63,
   "id": "a9bcde47-5ddd-4896-b6e2-c215e2f630b3",
   "metadata": {
    "vscode": {
     "languageId": "r"
    }
   },
   "outputs": [
    {
     "data": {
      "text/html": [
       "<table class=\"dataframe\">\n",
       "<caption>A matrix: 2 × 2 of type dbl</caption>\n",
       "<thead>\n",
       "\t<tr><th></th><th scope=col>5 %</th><th scope=col>95 %</th></tr>\n",
       "</thead>\n",
       "<tbody>\n",
       "\t<tr><th scope=row>(Intercept)</th><td>-28.914514</td><td>-6.243676</td></tr>\n",
       "\t<tr><th scope=row>speed</th><td>  3.235501</td><td> 4.629317</td></tr>\n",
       "</tbody>\n",
       "</table>\n"
      ],
      "text/latex": [
       "A matrix: 2 × 2 of type dbl\n",
       "\\begin{tabular}{r|ll}\n",
       "  & 5 \\% & 95 \\%\\\\\n",
       "\\hline\n",
       "\t(Intercept) & -28.914514 & -6.243676\\\\\n",
       "\tspeed &   3.235501 &  4.629317\\\\\n",
       "\\end{tabular}\n"
      ],
      "text/markdown": [
       "\n",
       "A matrix: 2 × 2 of type dbl\n",
       "\n",
       "| <!--/--> | 5 % | 95 % |\n",
       "|---|---|---|\n",
       "| (Intercept) | -28.914514 | -6.243676 |\n",
       "| speed |   3.235501 |  4.629317 |\n",
       "\n"
      ],
      "text/plain": [
       "            5 %        95 %     \n",
       "(Intercept) -28.914514 -6.243676\n",
       "speed         3.235501  4.629317"
      ]
     },
     "metadata": {},
     "output_type": "display_data"
    }
   ],
   "source": [
    "confint(model1, level = 0.90)"
   ]
  },
  {
   "cell_type": "markdown",
   "id": "c6c3d4d1-acda-4a52-83c2-de43b60ecd1f",
   "metadata": {},
   "source": [
    "`-` 직접 계산"
   ]
  },
  {
   "cell_type": "code",
   "execution_count": 74,
   "id": "7e5630da-17f7-4c78-a78d-791c976948f8",
   "metadata": {
    "vscode": {
     "languageId": "r"
    }
   },
   "outputs": [
    {
     "data": {
      "text/html": [
       "<style>\n",
       ".dl-inline {width: auto; margin:0; padding: 0}\n",
       ".dl-inline>dt, .dl-inline>dd {float: none; width: auto; display: inline-block}\n",
       ".dl-inline>dt::after {content: \":\\0020\"; padding-right: .5ex}\n",
       ".dl-inline>dt:not(:first-of-type) {padding-left: .5ex}\n",
       "</style><dl class=dl-inline><dt>(Intercept)</dt><dd>-28.9145142706524</dd><dt>speed</dt><dd>3.23550067631595</dd></dl>\n"
      ],
      "text/latex": [
       "\\begin{description*}\n",
       "\\item[(Intercept)] -28.9145142706524\n",
       "\\item[speed] 3.23550067631595\n",
       "\\end{description*}\n"
      ],
      "text/markdown": [
       "(Intercept)\n",
       ":   -28.9145142706524speed\n",
       ":   3.23550067631595\n",
       "\n"
      ],
      "text/plain": [
       "(Intercept)       speed \n",
       " -28.914514    3.235501 "
      ]
     },
     "metadata": {},
     "output_type": "display_data"
    }
   ],
   "source": [
    "coef(model1) - qt(0.05, 48, lower.tail=FALSE)*summary(model1)$coef[,2]"
   ]
  },
  {
   "cell_type": "code",
   "execution_count": 75,
   "id": "9e194061-9e62-4cda-b56a-ad5ca34bf864",
   "metadata": {
    "vscode": {
     "languageId": "r"
    }
   },
   "outputs": [
    {
     "data": {
      "text/html": [
       "<style>\n",
       ".dl-inline {width: auto; margin:0; padding: 0}\n",
       ".dl-inline>dt, .dl-inline>dd {float: none; width: auto; display: inline-block}\n",
       ".dl-inline>dt::after {content: \":\\0020\"; padding-right: .5ex}\n",
       ".dl-inline>dt:not(:first-of-type) {padding-left: .5ex}\n",
       "</style><dl class=dl-inline><dt>(Intercept)</dt><dd>-6.24367551036937</dd><dt>speed</dt><dd>4.62931684193222</dd></dl>\n"
      ],
      "text/latex": [
       "\\begin{description*}\n",
       "\\item[(Intercept)] -6.24367551036937\n",
       "\\item[speed] 4.62931684193222\n",
       "\\end{description*}\n"
      ],
      "text/markdown": [
       "(Intercept)\n",
       ":   -6.24367551036937speed\n",
       ":   4.62931684193222\n",
       "\n"
      ],
      "text/plain": [
       "(Intercept)       speed \n",
       "  -6.243676    4.629317 "
      ]
     },
     "metadata": {},
     "output_type": "display_data"
    }
   ],
   "source": [
    "coef(model1) + qt(0.05, 48, lower.tail=FALSE)*summary(model1)$coef[,2]"
   ]
  },
  {
   "cell_type": "markdown",
   "id": "7be33f1c-72a2-48b3-9c17-651e4611b01b",
   "metadata": {},
   "source": [
    "### (8) 속도가 $18.5\\text{mpg}$인 차량의 평균 제동거리를 예측하고, $95\\%$ 신뢰구간을 구하시오."
   ]
  },
  {
   "cell_type": "markdown",
   "id": "aaa96a90-99b6-48d5-8b29-8f113956f278",
   "metadata": {},
   "source": [
    "$\\hat{y} = \\hat{\\beta}_0 + \\hat{\\beta}_1 * 18.5$"
   ]
  },
  {
   "cell_type": "code",
   "execution_count": 77,
   "id": "8e755883-4b25-450d-ad45-302a0ef5a026",
   "metadata": {
    "vscode": {
     "languageId": "r"
    }
   },
   "outputs": [
    {
     "data": {
      "text/html": [
       "<strong>(Intercept):</strong> 55.1704671532847"
      ],
      "text/latex": [
       "\\textbf{(Intercept):} 55.1704671532847"
      ],
      "text/markdown": [
       "**(Intercept):** 55.1704671532847"
      ],
      "text/plain": [
       "(Intercept) \n",
       "   55.17047 "
      ]
     },
     "metadata": {},
     "output_type": "display_data"
    }
   ],
   "source": [
    "model1$coefficients[1] + model1$coefficients[2]*18.5 ## point estimate"
   ]
  },
  {
   "cell_type": "code",
   "execution_count": 85,
   "id": "e5d29766-e0da-4297-bb7e-b5b6111ace0d",
   "metadata": {
    "vscode": {
     "languageId": "r"
    }
   },
   "outputs": [
    {
     "data": {
      "text/html": [
       "<table class=\"dataframe\">\n",
       "<caption>A matrix: 1 × 3 of type dbl</caption>\n",
       "<thead>\n",
       "\t<tr><th></th><th scope=col>fit</th><th scope=col>lwr</th><th scope=col>upr</th></tr>\n",
       "</thead>\n",
       "<tbody>\n",
       "\t<tr><th scope=row>1</th><td>55.17047</td><td>50.08797</td><td>60.25296</td></tr>\n",
       "</tbody>\n",
       "</table>\n"
      ],
      "text/latex": [
       "A matrix: 1 × 3 of type dbl\n",
       "\\begin{tabular}{r|lll}\n",
       "  & fit & lwr & upr\\\\\n",
       "\\hline\n",
       "\t1 & 55.17047 & 50.08797 & 60.25296\\\\\n",
       "\\end{tabular}\n"
      ],
      "text/markdown": [
       "\n",
       "A matrix: 1 × 3 of type dbl\n",
       "\n",
       "| <!--/--> | fit | lwr | upr |\n",
       "|---|---|---|---|\n",
       "| 1 | 55.17047 | 50.08797 | 60.25296 |\n",
       "\n"
      ],
      "text/plain": [
       "  fit      lwr      upr     \n",
       "1 55.17047 50.08797 60.25296"
      ]
     },
     "metadata": {},
     "output_type": "display_data"
    }
   ],
   "source": [
    "new_spd <- data.frame(speed=18.5)\n",
    "predict(model1,\n",
    "        newdata = new_spd,\n",
    "        interval = c(\"confidence\"), ## 구간추정, confidence option (평균반응)\n",
    "        level = 0.95) ## 평균반응"
   ]
  },
  {
   "cell_type": "markdown",
   "id": "0e197774-1596-4106-93a5-5b21ae2ae843",
   "metadata": {},
   "source": [
    "### (9) 속도가 $18.5\\text{mpg}$인 차량의 개별 제동거리를 예측하고, $95\\%$ 신뢰구간을 구하시오."
   ]
  },
  {
   "cell_type": "code",
   "execution_count": 86,
   "id": "6d1f6d32-57ee-4a1b-bf73-cd26cbc89c6e",
   "metadata": {
    "vscode": {
     "languageId": "r"
    }
   },
   "outputs": [
    {
     "data": {
      "text/html": [
       "<table class=\"dataframe\">\n",
       "<caption>A matrix: 1 × 3 of type dbl</caption>\n",
       "<thead>\n",
       "\t<tr><th></th><th scope=col>fit</th><th scope=col>lwr</th><th scope=col>upr</th></tr>\n",
       "</thead>\n",
       "<tbody>\n",
       "\t<tr><th scope=row>1</th><td>55.17047</td><td>23.83284</td><td>86.5081</td></tr>\n",
       "</tbody>\n",
       "</table>\n"
      ],
      "text/latex": [
       "A matrix: 1 × 3 of type dbl\n",
       "\\begin{tabular}{r|lll}\n",
       "  & fit & lwr & upr\\\\\n",
       "\\hline\n",
       "\t1 & 55.17047 & 23.83284 & 86.5081\\\\\n",
       "\\end{tabular}\n"
      ],
      "text/markdown": [
       "\n",
       "A matrix: 1 × 3 of type dbl\n",
       "\n",
       "| <!--/--> | fit | lwr | upr |\n",
       "|---|---|---|---|\n",
       "| 1 | 55.17047 | 23.83284 | 86.5081 |\n",
       "\n"
      ],
      "text/plain": [
       "  fit      lwr      upr    \n",
       "1 55.17047 23.83284 86.5081"
      ]
     },
     "metadata": {},
     "output_type": "display_data"
    }
   ],
   "source": [
    "predict(model1,\n",
    "        newdata = new_spd,\n",
    "        interval = c('prediction'), ## prediction option (개별 y)\n",
    "        level = 0.95) ## 개별 y"
   ]
  },
  {
   "cell_type": "markdown",
   "id": "cebeff74-0347-4d4a-983d-7c67e3e10efd",
   "metadata": {},
   "source": [
    "- 신뢰구간이 동일한 $95\\%$ 임에도 불구하고 평균 제동거리의 신뢰구간에 비해 개별 제동거리의 신뢰구간 폭이 증가한 것을 볼 수 있다. 불확실성이 증가했기 때문에 이러한 결과가 나왔다고 할 수 있다."
   ]
  },
  {
   "cell_type": "code",
   "execution_count": 102,
   "id": "f6f2d714-d313-4d07-a777-887e3d0d1984",
   "metadata": {
    "vscode": {
     "languageId": "r"
    }
   },
   "outputs": [
    {
     "data": {
      "text/html": [
       "<table class=\"dataframe\">\n",
       "<caption>A data.frame: 50 × 6</caption>\n",
       "<thead>\n",
       "\t<tr><th></th><th scope=col>speed</th><th scope=col>fit</th><th scope=col>lwr</th><th scope=col>upr</th><th scope=col>plwr</th><th scope=col>pupr</th></tr>\n",
       "\t<tr><th></th><th scope=col>&lt;int&gt;</th><th scope=col>&lt;dbl&gt;</th><th scope=col>&lt;dbl&gt;</th><th scope=col>&lt;dbl&gt;</th><th scope=col>&lt;dbl&gt;</th><th scope=col>&lt;dbl&gt;</th></tr>\n",
       "</thead>\n",
       "<tbody>\n",
       "\t<tr><th scope=row>1</th><td> 1</td><td>-13.646686</td><td>-26.447265</td><td> -0.846107</td><td>-47.114135</td><td> 19.82076</td></tr>\n",
       "\t<tr><th scope=row>2</th><td> 2</td><td> -9.714277</td><td>-21.733068</td><td>  2.304513</td><td>-42.890574</td><td> 23.46202</td></tr>\n",
       "\t<tr><th scope=row>3</th><td> 3</td><td> -5.781869</td><td>-17.026591</td><td>  5.462853</td><td>-38.685654</td><td> 27.12192</td></tr>\n",
       "\t<tr><th scope=row>4</th><td> 4</td><td> -1.849460</td><td>-12.329543</td><td>  8.630624</td><td>-34.499842</td><td> 30.80092</td></tr>\n",
       "\t<tr><th scope=row>5</th><td> 5</td><td>  2.082949</td><td> -7.644150</td><td> 11.810048</td><td>-30.333587</td><td> 34.49948</td></tr>\n",
       "\t<tr><th scope=row>6</th><td> 6</td><td>  6.015358</td><td> -2.973341</td><td> 15.004056</td><td>-26.187314</td><td> 38.21803</td></tr>\n",
       "\t<tr><th scope=row>7</th><td> 7</td><td>  9.947766</td><td>  1.678977</td><td> 18.216556</td><td>-22.061423</td><td> 41.95696</td></tr>\n",
       "\t<tr><th scope=row>8</th><td> 8</td><td> 13.880175</td><td>  6.307527</td><td> 21.452823</td><td>-17.956287</td><td> 45.71664</td></tr>\n",
       "\t<tr><th scope=row>9</th><td> 9</td><td> 17.812584</td><td> 10.905120</td><td> 24.720047</td><td>-13.872245</td><td> 49.49741</td></tr>\n",
       "\t<tr><th scope=row>10</th><td>10</td><td> 21.744993</td><td> 15.461917</td><td> 28.028068</td><td> -9.809601</td><td> 53.29959</td></tr>\n",
       "\t<tr><th scope=row>11</th><td>11</td><td> 25.677401</td><td> 19.964525</td><td> 31.390278</td><td> -5.768620</td><td> 57.12342</td></tr>\n",
       "\t<tr><th scope=row>12</th><td>12</td><td> 29.609810</td><td> 24.395138</td><td> 34.824483</td><td> -1.749529</td><td> 60.96915</td></tr>\n",
       "\t<tr><th scope=row>13</th><td>13</td><td> 33.542219</td><td> 28.731336</td><td> 38.353102</td><td>  2.247492</td><td> 64.83695</td></tr>\n",
       "\t<tr><th scope=row>14</th><td>14</td><td> 37.474628</td><td> 32.947783</td><td> 42.001472</td><td>  6.222305</td><td> 68.72695</td></tr>\n",
       "\t<tr><th scope=row>15</th><td>15</td><td> 41.407036</td><td> 37.021152</td><td> 45.792921</td><td> 10.174821</td><td> 72.63925</td></tr>\n",
       "\t<tr><th scope=row>16</th><td>16</td><td> 45.339445</td><td> 40.937676</td><td> 49.741215</td><td> 14.104995</td><td> 76.57390</td></tr>\n",
       "\t<tr><th scope=row>17</th><td>17</td><td> 49.271854</td><td> 44.698988</td><td> 53.844720</td><td> 18.012832</td><td> 80.53088</td></tr>\n",
       "\t<tr><th scope=row>18</th><td>18</td><td> 53.204263</td><td> 48.321378</td><td> 58.087148</td><td> 21.898386</td><td> 84.51014</td></tr>\n",
       "\t<tr><th scope=row>19</th><td>19</td><td> 57.136672</td><td> 51.829133</td><td> 62.444210</td><td> 25.761756</td><td> 88.51159</td></tr>\n",
       "\t<tr><th scope=row>20</th><td>20</td><td> 61.069080</td><td> 55.247285</td><td> 66.890875</td><td> 29.603089</td><td> 92.53507</td></tr>\n",
       "\t<tr><th scope=row>21</th><td>21</td><td> 65.001489</td><td> 58.597384</td><td> 71.405594</td><td> 33.422574</td><td> 96.58040</td></tr>\n",
       "\t<tr><th scope=row>22</th><td>22</td><td> 68.933898</td><td> 61.896301</td><td> 75.971494</td><td> 37.220445</td><td>100.64735</td></tr>\n",
       "\t<tr><th scope=row>23</th><td>23</td><td> 72.866307</td><td> 65.156644</td><td> 80.575970</td><td> 40.996976</td><td>104.73564</td></tr>\n",
       "\t<tr><th scope=row>24</th><td>24</td><td> 76.798715</td><td> 68.387653</td><td> 85.209778</td><td> 44.752478</td><td>108.84495</td></tr>\n",
       "\t<tr><th scope=row>25</th><td>25</td><td> 80.731124</td><td> 71.596083</td><td> 89.866166</td><td> 48.487298</td><td>112.97495</td></tr>\n",
       "\t<tr><th scope=row>26</th><td>26</td><td> 84.663533</td><td> 74.786898</td><td> 94.540168</td><td> 52.201813</td><td>117.12525</td></tr>\n",
       "\t<tr><th scope=row>27</th><td>27</td><td> 88.595942</td><td> 77.963783</td><td> 99.228100</td><td> 55.896429</td><td>121.29545</td></tr>\n",
       "\t<tr><th scope=row>28</th><td>28</td><td> 92.528350</td><td> 81.129508</td><td>103.927193</td><td> 59.571576</td><td>125.48512</td></tr>\n",
       "\t<tr><th scope=row>29</th><td>29</td><td> 96.460759</td><td> 84.286181</td><td>108.635337</td><td> 63.227708</td><td>129.69381</td></tr>\n",
       "\t<tr><th scope=row>30</th><td>30</td><td>100.393168</td><td> 87.435427</td><td>113.350908</td><td> 66.865293</td><td>133.92104</td></tr>\n",
       "\t<tr><th scope=row>31</th><td>31</td><td>104.325577</td><td> 90.578517</td><td>118.072636</td><td> 70.484817</td><td>138.16634</td></tr>\n",
       "\t<tr><th scope=row>32</th><td>32</td><td>108.257985</td><td> 93.716452</td><td>122.799519</td><td> 74.086776</td><td>142.42919</td></tr>\n",
       "\t<tr><th scope=row>33</th><td>33</td><td>112.190394</td><td> 96.850033</td><td>127.530756</td><td> 77.671674</td><td>146.70911</td></tr>\n",
       "\t<tr><th scope=row>34</th><td>34</td><td>116.122803</td><td> 99.979906</td><td>132.265699</td><td> 81.240021</td><td>151.00558</td></tr>\n",
       "\t<tr><th scope=row>35</th><td>35</td><td>120.055212</td><td>103.106599</td><td>137.003824</td><td> 84.792330</td><td>155.31809</td></tr>\n",
       "\t<tr><th scope=row>36</th><td>36</td><td>123.987620</td><td>106.230544</td><td>141.744697</td><td> 88.329114</td><td>159.64613</td></tr>\n",
       "\t<tr><th scope=row>37</th><td>37</td><td>127.920029</td><td>109.352101</td><td>146.487958</td><td> 91.850883</td><td>163.98918</td></tr>\n",
       "\t<tr><th scope=row>38</th><td>38</td><td>131.852438</td><td>112.471568</td><td>151.233308</td><td> 95.358144</td><td>168.34673</td></tr>\n",
       "\t<tr><th scope=row>39</th><td>39</td><td>135.784847</td><td>115.589198</td><td>155.980495</td><td> 98.851399</td><td>172.71829</td></tr>\n",
       "\t<tr><th scope=row>40</th><td>40</td><td>139.717255</td><td>118.705205</td><td>160.729306</td><td>102.331141</td><td>177.10337</td></tr>\n",
       "\t<tr><th scope=row>41</th><td>41</td><td>143.649664</td><td>121.819771</td><td>165.479557</td><td>105.797854</td><td>181.50147</td></tr>\n",
       "\t<tr><th scope=row>42</th><td>42</td><td>147.582073</td><td>124.933053</td><td>170.231093</td><td>109.252014</td><td>185.91213</td></tr>\n",
       "\t<tr><th scope=row>43</th><td>43</td><td>151.514482</td><td>128.045184</td><td>174.983780</td><td>112.694084</td><td>190.33488</td></tr>\n",
       "\t<tr><th scope=row>44</th><td>44</td><td>155.446891</td><td>131.156281</td><td>179.737500</td><td>116.124517</td><td>194.76926</td></tr>\n",
       "\t<tr><th scope=row>45</th><td>45</td><td>159.379299</td><td>134.266446</td><td>184.492153</td><td>119.543753</td><td>199.21485</td></tr>\n",
       "\t<tr><th scope=row>46</th><td>46</td><td>163.311708</td><td>137.375767</td><td>189.247649</td><td>122.952219</td><td>203.67120</td></tr>\n",
       "\t<tr><th scope=row>47</th><td>47</td><td>167.244117</td><td>140.484322</td><td>194.003912</td><td>126.350328</td><td>208.13791</td></tr>\n",
       "\t<tr><th scope=row>48</th><td>48</td><td>171.176526</td><td>143.592180</td><td>198.760871</td><td>129.738482</td><td>212.61457</td></tr>\n",
       "\t<tr><th scope=row>49</th><td>49</td><td>175.108934</td><td>146.699401</td><td>203.518468</td><td>133.117067</td><td>217.10080</td></tr>\n",
       "\t<tr><th scope=row>50</th><td>50</td><td>179.041343</td><td>149.806040</td><td>208.276646</td><td>136.486457</td><td>221.59623</td></tr>\n",
       "</tbody>\n",
       "</table>\n"
      ],
      "text/latex": [
       "A data.frame: 50 × 6\n",
       "\\begin{tabular}{r|llllll}\n",
       "  & speed & fit & lwr & upr & plwr & pupr\\\\\n",
       "  & <int> & <dbl> & <dbl> & <dbl> & <dbl> & <dbl>\\\\\n",
       "\\hline\n",
       "\t1 &  1 & -13.646686 & -26.447265 &  -0.846107 & -47.114135 &  19.82076\\\\\n",
       "\t2 &  2 &  -9.714277 & -21.733068 &   2.304513 & -42.890574 &  23.46202\\\\\n",
       "\t3 &  3 &  -5.781869 & -17.026591 &   5.462853 & -38.685654 &  27.12192\\\\\n",
       "\t4 &  4 &  -1.849460 & -12.329543 &   8.630624 & -34.499842 &  30.80092\\\\\n",
       "\t5 &  5 &   2.082949 &  -7.644150 &  11.810048 & -30.333587 &  34.49948\\\\\n",
       "\t6 &  6 &   6.015358 &  -2.973341 &  15.004056 & -26.187314 &  38.21803\\\\\n",
       "\t7 &  7 &   9.947766 &   1.678977 &  18.216556 & -22.061423 &  41.95696\\\\\n",
       "\t8 &  8 &  13.880175 &   6.307527 &  21.452823 & -17.956287 &  45.71664\\\\\n",
       "\t9 &  9 &  17.812584 &  10.905120 &  24.720047 & -13.872245 &  49.49741\\\\\n",
       "\t10 & 10 &  21.744993 &  15.461917 &  28.028068 &  -9.809601 &  53.29959\\\\\n",
       "\t11 & 11 &  25.677401 &  19.964525 &  31.390278 &  -5.768620 &  57.12342\\\\\n",
       "\t12 & 12 &  29.609810 &  24.395138 &  34.824483 &  -1.749529 &  60.96915\\\\\n",
       "\t13 & 13 &  33.542219 &  28.731336 &  38.353102 &   2.247492 &  64.83695\\\\\n",
       "\t14 & 14 &  37.474628 &  32.947783 &  42.001472 &   6.222305 &  68.72695\\\\\n",
       "\t15 & 15 &  41.407036 &  37.021152 &  45.792921 &  10.174821 &  72.63925\\\\\n",
       "\t16 & 16 &  45.339445 &  40.937676 &  49.741215 &  14.104995 &  76.57390\\\\\n",
       "\t17 & 17 &  49.271854 &  44.698988 &  53.844720 &  18.012832 &  80.53088\\\\\n",
       "\t18 & 18 &  53.204263 &  48.321378 &  58.087148 &  21.898386 &  84.51014\\\\\n",
       "\t19 & 19 &  57.136672 &  51.829133 &  62.444210 &  25.761756 &  88.51159\\\\\n",
       "\t20 & 20 &  61.069080 &  55.247285 &  66.890875 &  29.603089 &  92.53507\\\\\n",
       "\t21 & 21 &  65.001489 &  58.597384 &  71.405594 &  33.422574 &  96.58040\\\\\n",
       "\t22 & 22 &  68.933898 &  61.896301 &  75.971494 &  37.220445 & 100.64735\\\\\n",
       "\t23 & 23 &  72.866307 &  65.156644 &  80.575970 &  40.996976 & 104.73564\\\\\n",
       "\t24 & 24 &  76.798715 &  68.387653 &  85.209778 &  44.752478 & 108.84495\\\\\n",
       "\t25 & 25 &  80.731124 &  71.596083 &  89.866166 &  48.487298 & 112.97495\\\\\n",
       "\t26 & 26 &  84.663533 &  74.786898 &  94.540168 &  52.201813 & 117.12525\\\\\n",
       "\t27 & 27 &  88.595942 &  77.963783 &  99.228100 &  55.896429 & 121.29545\\\\\n",
       "\t28 & 28 &  92.528350 &  81.129508 & 103.927193 &  59.571576 & 125.48512\\\\\n",
       "\t29 & 29 &  96.460759 &  84.286181 & 108.635337 &  63.227708 & 129.69381\\\\\n",
       "\t30 & 30 & 100.393168 &  87.435427 & 113.350908 &  66.865293 & 133.92104\\\\\n",
       "\t31 & 31 & 104.325577 &  90.578517 & 118.072636 &  70.484817 & 138.16634\\\\\n",
       "\t32 & 32 & 108.257985 &  93.716452 & 122.799519 &  74.086776 & 142.42919\\\\\n",
       "\t33 & 33 & 112.190394 &  96.850033 & 127.530756 &  77.671674 & 146.70911\\\\\n",
       "\t34 & 34 & 116.122803 &  99.979906 & 132.265699 &  81.240021 & 151.00558\\\\\n",
       "\t35 & 35 & 120.055212 & 103.106599 & 137.003824 &  84.792330 & 155.31809\\\\\n",
       "\t36 & 36 & 123.987620 & 106.230544 & 141.744697 &  88.329114 & 159.64613\\\\\n",
       "\t37 & 37 & 127.920029 & 109.352101 & 146.487958 &  91.850883 & 163.98918\\\\\n",
       "\t38 & 38 & 131.852438 & 112.471568 & 151.233308 &  95.358144 & 168.34673\\\\\n",
       "\t39 & 39 & 135.784847 & 115.589198 & 155.980495 &  98.851399 & 172.71829\\\\\n",
       "\t40 & 40 & 139.717255 & 118.705205 & 160.729306 & 102.331141 & 177.10337\\\\\n",
       "\t41 & 41 & 143.649664 & 121.819771 & 165.479557 & 105.797854 & 181.50147\\\\\n",
       "\t42 & 42 & 147.582073 & 124.933053 & 170.231093 & 109.252014 & 185.91213\\\\\n",
       "\t43 & 43 & 151.514482 & 128.045184 & 174.983780 & 112.694084 & 190.33488\\\\\n",
       "\t44 & 44 & 155.446891 & 131.156281 & 179.737500 & 116.124517 & 194.76926\\\\\n",
       "\t45 & 45 & 159.379299 & 134.266446 & 184.492153 & 119.543753 & 199.21485\\\\\n",
       "\t46 & 46 & 163.311708 & 137.375767 & 189.247649 & 122.952219 & 203.67120\\\\\n",
       "\t47 & 47 & 167.244117 & 140.484322 & 194.003912 & 126.350328 & 208.13791\\\\\n",
       "\t48 & 48 & 171.176526 & 143.592180 & 198.760871 & 129.738482 & 212.61457\\\\\n",
       "\t49 & 49 & 175.108934 & 146.699401 & 203.518468 & 133.117067 & 217.10080\\\\\n",
       "\t50 & 50 & 179.041343 & 149.806040 & 208.276646 & 136.486457 & 221.59623\\\\\n",
       "\\end{tabular}\n"
      ],
      "text/markdown": [
       "\n",
       "A data.frame: 50 × 6\n",
       "\n",
       "| <!--/--> | speed &lt;int&gt; | fit &lt;dbl&gt; | lwr &lt;dbl&gt; | upr &lt;dbl&gt; | plwr &lt;dbl&gt; | pupr &lt;dbl&gt; |\n",
       "|---|---|---|---|---|---|---|\n",
       "| 1 |  1 | -13.646686 | -26.447265 |  -0.846107 | -47.114135 |  19.82076 |\n",
       "| 2 |  2 |  -9.714277 | -21.733068 |   2.304513 | -42.890574 |  23.46202 |\n",
       "| 3 |  3 |  -5.781869 | -17.026591 |   5.462853 | -38.685654 |  27.12192 |\n",
       "| 4 |  4 |  -1.849460 | -12.329543 |   8.630624 | -34.499842 |  30.80092 |\n",
       "| 5 |  5 |   2.082949 |  -7.644150 |  11.810048 | -30.333587 |  34.49948 |\n",
       "| 6 |  6 |   6.015358 |  -2.973341 |  15.004056 | -26.187314 |  38.21803 |\n",
       "| 7 |  7 |   9.947766 |   1.678977 |  18.216556 | -22.061423 |  41.95696 |\n",
       "| 8 |  8 |  13.880175 |   6.307527 |  21.452823 | -17.956287 |  45.71664 |\n",
       "| 9 |  9 |  17.812584 |  10.905120 |  24.720047 | -13.872245 |  49.49741 |\n",
       "| 10 | 10 |  21.744993 |  15.461917 |  28.028068 |  -9.809601 |  53.29959 |\n",
       "| 11 | 11 |  25.677401 |  19.964525 |  31.390278 |  -5.768620 |  57.12342 |\n",
       "| 12 | 12 |  29.609810 |  24.395138 |  34.824483 |  -1.749529 |  60.96915 |\n",
       "| 13 | 13 |  33.542219 |  28.731336 |  38.353102 |   2.247492 |  64.83695 |\n",
       "| 14 | 14 |  37.474628 |  32.947783 |  42.001472 |   6.222305 |  68.72695 |\n",
       "| 15 | 15 |  41.407036 |  37.021152 |  45.792921 |  10.174821 |  72.63925 |\n",
       "| 16 | 16 |  45.339445 |  40.937676 |  49.741215 |  14.104995 |  76.57390 |\n",
       "| 17 | 17 |  49.271854 |  44.698988 |  53.844720 |  18.012832 |  80.53088 |\n",
       "| 18 | 18 |  53.204263 |  48.321378 |  58.087148 |  21.898386 |  84.51014 |\n",
       "| 19 | 19 |  57.136672 |  51.829133 |  62.444210 |  25.761756 |  88.51159 |\n",
       "| 20 | 20 |  61.069080 |  55.247285 |  66.890875 |  29.603089 |  92.53507 |\n",
       "| 21 | 21 |  65.001489 |  58.597384 |  71.405594 |  33.422574 |  96.58040 |\n",
       "| 22 | 22 |  68.933898 |  61.896301 |  75.971494 |  37.220445 | 100.64735 |\n",
       "| 23 | 23 |  72.866307 |  65.156644 |  80.575970 |  40.996976 | 104.73564 |\n",
       "| 24 | 24 |  76.798715 |  68.387653 |  85.209778 |  44.752478 | 108.84495 |\n",
       "| 25 | 25 |  80.731124 |  71.596083 |  89.866166 |  48.487298 | 112.97495 |\n",
       "| 26 | 26 |  84.663533 |  74.786898 |  94.540168 |  52.201813 | 117.12525 |\n",
       "| 27 | 27 |  88.595942 |  77.963783 |  99.228100 |  55.896429 | 121.29545 |\n",
       "| 28 | 28 |  92.528350 |  81.129508 | 103.927193 |  59.571576 | 125.48512 |\n",
       "| 29 | 29 |  96.460759 |  84.286181 | 108.635337 |  63.227708 | 129.69381 |\n",
       "| 30 | 30 | 100.393168 |  87.435427 | 113.350908 |  66.865293 | 133.92104 |\n",
       "| 31 | 31 | 104.325577 |  90.578517 | 118.072636 |  70.484817 | 138.16634 |\n",
       "| 32 | 32 | 108.257985 |  93.716452 | 122.799519 |  74.086776 | 142.42919 |\n",
       "| 33 | 33 | 112.190394 |  96.850033 | 127.530756 |  77.671674 | 146.70911 |\n",
       "| 34 | 34 | 116.122803 |  99.979906 | 132.265699 |  81.240021 | 151.00558 |\n",
       "| 35 | 35 | 120.055212 | 103.106599 | 137.003824 |  84.792330 | 155.31809 |\n",
       "| 36 | 36 | 123.987620 | 106.230544 | 141.744697 |  88.329114 | 159.64613 |\n",
       "| 37 | 37 | 127.920029 | 109.352101 | 146.487958 |  91.850883 | 163.98918 |\n",
       "| 38 | 38 | 131.852438 | 112.471568 | 151.233308 |  95.358144 | 168.34673 |\n",
       "| 39 | 39 | 135.784847 | 115.589198 | 155.980495 |  98.851399 | 172.71829 |\n",
       "| 40 | 40 | 139.717255 | 118.705205 | 160.729306 | 102.331141 | 177.10337 |\n",
       "| 41 | 41 | 143.649664 | 121.819771 | 165.479557 | 105.797854 | 181.50147 |\n",
       "| 42 | 42 | 147.582073 | 124.933053 | 170.231093 | 109.252014 | 185.91213 |\n",
       "| 43 | 43 | 151.514482 | 128.045184 | 174.983780 | 112.694084 | 190.33488 |\n",
       "| 44 | 44 | 155.446891 | 131.156281 | 179.737500 | 116.124517 | 194.76926 |\n",
       "| 45 | 45 | 159.379299 | 134.266446 | 184.492153 | 119.543753 | 199.21485 |\n",
       "| 46 | 46 | 163.311708 | 137.375767 | 189.247649 | 122.952219 | 203.67120 |\n",
       "| 47 | 47 | 167.244117 | 140.484322 | 194.003912 | 126.350328 | 208.13791 |\n",
       "| 48 | 48 | 171.176526 | 143.592180 | 198.760871 | 129.738482 | 212.61457 |\n",
       "| 49 | 49 | 175.108934 | 146.699401 | 203.518468 | 133.117067 | 217.10080 |\n",
       "| 50 | 50 | 179.041343 | 149.806040 | 208.276646 | 136.486457 | 221.59623 |\n",
       "\n"
      ],
      "text/plain": [
       "   speed fit        lwr        upr        plwr       pupr     \n",
       "1   1    -13.646686 -26.447265  -0.846107 -47.114135  19.82076\n",
       "2   2     -9.714277 -21.733068   2.304513 -42.890574  23.46202\n",
       "3   3     -5.781869 -17.026591   5.462853 -38.685654  27.12192\n",
       "4   4     -1.849460 -12.329543   8.630624 -34.499842  30.80092\n",
       "5   5      2.082949  -7.644150  11.810048 -30.333587  34.49948\n",
       "6   6      6.015358  -2.973341  15.004056 -26.187314  38.21803\n",
       "7   7      9.947766   1.678977  18.216556 -22.061423  41.95696\n",
       "8   8     13.880175   6.307527  21.452823 -17.956287  45.71664\n",
       "9   9     17.812584  10.905120  24.720047 -13.872245  49.49741\n",
       "10 10     21.744993  15.461917  28.028068  -9.809601  53.29959\n",
       "11 11     25.677401  19.964525  31.390278  -5.768620  57.12342\n",
       "12 12     29.609810  24.395138  34.824483  -1.749529  60.96915\n",
       "13 13     33.542219  28.731336  38.353102   2.247492  64.83695\n",
       "14 14     37.474628  32.947783  42.001472   6.222305  68.72695\n",
       "15 15     41.407036  37.021152  45.792921  10.174821  72.63925\n",
       "16 16     45.339445  40.937676  49.741215  14.104995  76.57390\n",
       "17 17     49.271854  44.698988  53.844720  18.012832  80.53088\n",
       "18 18     53.204263  48.321378  58.087148  21.898386  84.51014\n",
       "19 19     57.136672  51.829133  62.444210  25.761756  88.51159\n",
       "20 20     61.069080  55.247285  66.890875  29.603089  92.53507\n",
       "21 21     65.001489  58.597384  71.405594  33.422574  96.58040\n",
       "22 22     68.933898  61.896301  75.971494  37.220445 100.64735\n",
       "23 23     72.866307  65.156644  80.575970  40.996976 104.73564\n",
       "24 24     76.798715  68.387653  85.209778  44.752478 108.84495\n",
       "25 25     80.731124  71.596083  89.866166  48.487298 112.97495\n",
       "26 26     84.663533  74.786898  94.540168  52.201813 117.12525\n",
       "27 27     88.595942  77.963783  99.228100  55.896429 121.29545\n",
       "28 28     92.528350  81.129508 103.927193  59.571576 125.48512\n",
       "29 29     96.460759  84.286181 108.635337  63.227708 129.69381\n",
       "30 30    100.393168  87.435427 113.350908  66.865293 133.92104\n",
       "31 31    104.325577  90.578517 118.072636  70.484817 138.16634\n",
       "32 32    108.257985  93.716452 122.799519  74.086776 142.42919\n",
       "33 33    112.190394  96.850033 127.530756  77.671674 146.70911\n",
       "34 34    116.122803  99.979906 132.265699  81.240021 151.00558\n",
       "35 35    120.055212 103.106599 137.003824  84.792330 155.31809\n",
       "36 36    123.987620 106.230544 141.744697  88.329114 159.64613\n",
       "37 37    127.920029 109.352101 146.487958  91.850883 163.98918\n",
       "38 38    131.852438 112.471568 151.233308  95.358144 168.34673\n",
       "39 39    135.784847 115.589198 155.980495  98.851399 172.71829\n",
       "40 40    139.717255 118.705205 160.729306 102.331141 177.10337\n",
       "41 41    143.649664 121.819771 165.479557 105.797854 181.50147\n",
       "42 42    147.582073 124.933053 170.231093 109.252014 185.91213\n",
       "43 43    151.514482 128.045184 174.983780 112.694084 190.33488\n",
       "44 44    155.446891 131.156281 179.737500 116.124517 194.76926\n",
       "45 45    159.379299 134.266446 184.492153 119.543753 199.21485\n",
       "46 46    163.311708 137.375767 189.247649 122.952219 203.67120\n",
       "47 47    167.244117 140.484322 194.003912 126.350328 208.13791\n",
       "48 48    171.176526 143.592180 198.760871 129.738482 212.61457\n",
       "49 49    175.108934 146.699401 203.518468 133.117067 217.10080\n",
       "50 50    179.041343 149.806040 208.276646 136.486457 221.59623"
      ]
     },
     "metadata": {},
     "output_type": "display_data"
    }
   ],
   "source": [
    "dt_pred <- data.frame(\n",
    "  speed = c(1:50),\n",
    "  predict(model1,\n",
    "          newdata = data.frame(speed=c(1:50)),\n",
    "          interval='confidence', level = 0.95),\n",
    "  predict(model1,\n",
    "          newdata=data.frame(speed=c(1:50)),\n",
    "          interval='prediction',level = 0.95)[,-1])\n",
    "\n",
    "names(dt_pred)[5:6] <- c('plwr', 'pupr') ## 개별 y에 대한 신뢰구간\n",
    "dt_pred"
   ]
  },
  {
   "cell_type": "markdown",
   "id": "43d2f535-4712-4272-b41d-eef8d5d3a1ce",
   "metadata": {},
   "source": [
    "### (10) 원점을 지나는 회귀직선을 구하시오."
   ]
  },
  {
   "cell_type": "markdown",
   "id": "cce1c73d-6ebc-4e22-bc3e-52709037d22e",
   "metadata": {},
   "source": [
    "$$\\widehat{\\text{dist}} = 2.9091\\times \\text{speed}$$"
   ]
  },
  {
   "cell_type": "code",
   "execution_count": 31,
   "id": "e2cdb929-9691-450f-ad72-8b2dcabf387f",
   "metadata": {
    "vscode": {
     "languageId": "r"
    }
   },
   "outputs": [
    {
     "data": {
      "text/plain": [
       "\n",
       "Call:\n",
       "lm(formula = dist ~ 0 + speed, data = cars)\n",
       "\n",
       "Residuals:\n",
       "    Min      1Q  Median      3Q     Max \n",
       "-26.183 -12.637  -5.455   4.590  50.181 \n",
       "\n",
       "Coefficients:\n",
       "      Estimate Std. Error t value Pr(>|t|)    \n",
       "speed   2.9091     0.1414   20.58   <2e-16 ***\n",
       "---\n",
       "Signif. codes:  0 ‘***’ 0.001 ‘**’ 0.01 ‘*’ 0.05 ‘.’ 0.1 ‘ ’ 1\n",
       "\n",
       "Residual standard error: 16.26 on 49 degrees of freedom\n",
       "Multiple R-squared:  0.8963,\tAdjusted R-squared:  0.8942 \n",
       "F-statistic: 423.5 on 1 and 49 DF,  p-value: < 2.2e-16\n"
      ]
     },
     "metadata": {},
     "output_type": "display_data"
    }
   ],
   "source": [
    "model2 <- lm(dist~ 0 + speed, cars)\n",
    "summary(model2)"
   ]
  },
  {
   "cell_type": "markdown",
   "id": "09ab466b-3d69-410a-993e-b410ae9a532b",
   "metadata": {},
   "source": [
    "### (11) 위 회귀직선에서 회귀계수(기울기)의 $90\\%$ 신뢰구간을 구하시오."
   ]
  },
  {
   "cell_type": "markdown",
   "id": "7959fdb7-77fe-4d6a-9e32-b5c98dc0b85b",
   "metadata": {},
   "source": [
    "`-` 함수이용"
   ]
  },
  {
   "cell_type": "code",
   "execution_count": 104,
   "id": "f0fc1639-f67f-4983-a983-957014dee687",
   "metadata": {
    "vscode": {
     "languageId": "r"
    }
   },
   "outputs": [
    {
     "data": {
      "text/html": [
       "<table class=\"dataframe\">\n",
       "<caption>A matrix: 1 × 2 of type dbl</caption>\n",
       "<thead>\n",
       "\t<tr><th></th><th scope=col>5 %</th><th scope=col>95 %</th></tr>\n",
       "</thead>\n",
       "<tbody>\n",
       "\t<tr><th scope=row>speed</th><td>2.67212</td><td>3.146144</td></tr>\n",
       "</tbody>\n",
       "</table>\n"
      ],
      "text/latex": [
       "A matrix: 1 × 2 of type dbl\n",
       "\\begin{tabular}{r|ll}\n",
       "  & 5 \\% & 95 \\%\\\\\n",
       "\\hline\n",
       "\tspeed & 2.67212 & 3.146144\\\\\n",
       "\\end{tabular}\n"
      ],
      "text/markdown": [
       "\n",
       "A matrix: 1 × 2 of type dbl\n",
       "\n",
       "| <!--/--> | 5 % | 95 % |\n",
       "|---|---|---|\n",
       "| speed | 2.67212 | 3.146144 |\n",
       "\n"
      ],
      "text/plain": [
       "      5 %     95 %    \n",
       "speed 2.67212 3.146144"
      ]
     },
     "metadata": {},
     "output_type": "display_data"
    }
   ],
   "source": [
    "confint(model2, level = 0.90)"
   ]
  },
  {
   "cell_type": "markdown",
   "id": "c2adf48d-1903-419b-964e-21a8b01bd519",
   "metadata": {},
   "source": [
    "`-` 직접계산"
   ]
  },
  {
   "cell_type": "code",
   "execution_count": 115,
   "id": "ee3b3bf1-1a43-440c-b9d4-0f12dded8794",
   "metadata": {
    "vscode": {
     "languageId": "r"
    }
   },
   "outputs": [
    {
     "data": {
      "text/plain": [
       "\n",
       "Call:\n",
       "lm(formula = dist ~ 0 + speed, data = cars)\n",
       "\n",
       "Residuals:\n",
       "    Min      1Q  Median      3Q     Max \n",
       "-26.183 -12.637  -5.455   4.590  50.181 \n",
       "\n",
       "Coefficients:\n",
       "      Estimate Std. Error t value Pr(>|t|)    \n",
       "speed   2.9091     0.1414   20.58   <2e-16 ***\n",
       "---\n",
       "Signif. codes:  0 ‘***’ 0.001 ‘**’ 0.01 ‘*’ 0.05 ‘.’ 0.1 ‘ ’ 1\n",
       "\n",
       "Residual standard error: 16.26 on 49 degrees of freedom\n",
       "Multiple R-squared:  0.8963,\tAdjusted R-squared:  0.8942 \n",
       "F-statistic: 423.5 on 1 and 49 DF,  p-value: < 2.2e-16\n"
      ]
     },
     "metadata": {},
     "output_type": "display_data"
    }
   ],
   "source": [
    "b = summary(model2)\n",
    "b"
   ]
  },
  {
   "cell_type": "code",
   "execution_count": 126,
   "id": "ab218e19-7293-4345-b3c1-5451653e9df8",
   "metadata": {
    "vscode": {
     "languageId": "r"
    }
   },
   "outputs": [
    {
     "data": {
      "text/html": [
       "<strong>speed:</strong> 2.67212042854855"
      ],
      "text/latex": [
       "\\textbf{speed:} 2.67212042854855"
      ],
      "text/markdown": [
       "**speed:** 2.67212042854855"
      ],
      "text/plain": [
       "  speed \n",
       "2.67212 "
      ]
     },
     "metadata": {},
     "output_type": "display_data"
    }
   ],
   "source": [
    "coef(model2) - qt(0.05, 49, lower.tail=FALSE)*b$coef[,2]"
   ]
  },
  {
   "cell_type": "code",
   "execution_count": 127,
   "id": "7e8fc8e5-6e85-46e9-89d7-ad80db3e43fd",
   "metadata": {
    "vscode": {
     "languageId": "r"
    }
   },
   "outputs": [
    {
     "data": {
      "text/html": [
       "<strong>speed:</strong> 3.14614385932565"
      ],
      "text/latex": [
       "\\textbf{speed:} 3.14614385932565"
      ],
      "text/markdown": [
       "**speed:** 3.14614385932565"
      ],
      "text/plain": [
       "   speed \n",
       "3.146144 "
      ]
     },
     "metadata": {},
     "output_type": "display_data"
    }
   ],
   "source": [
    "coef(model2) + qt(0.05, 49, lower.tail=FALSE)*b$coef[,2]"
   ]
  },
  {
   "cell_type": "markdown",
   "id": "eb74a07a-491b-4c7d-85af-2c764e47e558",
   "metadata": {},
   "source": [
    "### (12) 원점을 지나는 회귀직선에 대한 분산분석표를 작성하고, 회귀직선의 유의 여부를 검정하시오."
   ]
  },
  {
   "cell_type": "markdown",
   "id": "4d0bbe3c-bc56-49a4-9f74-f0eca21a4475",
   "metadata": {},
   "source": [
    "$H_0: \\beta_1 = 0 \\text{ vs. }H_1: \\beta_0 \\neq 0$"
   ]
  },
  {
   "cell_type": "code",
   "execution_count": 128,
   "id": "37a87842-9602-47ea-8818-43f2a3d4021e",
   "metadata": {
    "vscode": {
     "languageId": "r"
    }
   },
   "outputs": [
    {
     "data": {
      "text/html": [
       "<table class=\"dataframe\">\n",
       "<caption>A anova: 2 × 5</caption>\n",
       "<thead>\n",
       "\t<tr><th></th><th scope=col>Df</th><th scope=col>Sum Sq</th><th scope=col>Mean Sq</th><th scope=col>F value</th><th scope=col>Pr(&gt;F)</th></tr>\n",
       "\t<tr><th></th><th scope=col>&lt;int&gt;</th><th scope=col>&lt;dbl&gt;</th><th scope=col>&lt;dbl&gt;</th><th scope=col>&lt;dbl&gt;</th><th scope=col>&lt;dbl&gt;</th></tr>\n",
       "</thead>\n",
       "<tbody>\n",
       "\t<tr><th scope=row>speed</th><td> 1</td><td>111949.22</td><td>111949.2232</td><td>423.4682</td><td>9.227817e-26</td></tr>\n",
       "\t<tr><th scope=row>Residuals</th><td>49</td><td> 12953.78</td><td>   264.3628</td><td>      NA</td><td>          NA</td></tr>\n",
       "</tbody>\n",
       "</table>\n"
      ],
      "text/latex": [
       "A anova: 2 × 5\n",
       "\\begin{tabular}{r|lllll}\n",
       "  & Df & Sum Sq & Mean Sq & F value & Pr(>F)\\\\\n",
       "  & <int> & <dbl> & <dbl> & <dbl> & <dbl>\\\\\n",
       "\\hline\n",
       "\tspeed &  1 & 111949.22 & 111949.2232 & 423.4682 & 9.227817e-26\\\\\n",
       "\tResiduals & 49 &  12953.78 &    264.3628 &       NA &           NA\\\\\n",
       "\\end{tabular}\n"
      ],
      "text/markdown": [
       "\n",
       "A anova: 2 × 5\n",
       "\n",
       "| <!--/--> | Df &lt;int&gt; | Sum Sq &lt;dbl&gt; | Mean Sq &lt;dbl&gt; | F value &lt;dbl&gt; | Pr(&gt;F) &lt;dbl&gt; |\n",
       "|---|---|---|---|---|---|\n",
       "| speed |  1 | 111949.22 | 111949.2232 | 423.4682 | 9.227817e-26 |\n",
       "| Residuals | 49 |  12953.78 |    264.3628 |       NA |           NA |\n",
       "\n"
      ],
      "text/plain": [
       "          Df Sum Sq    Mean Sq     F value  Pr(>F)      \n",
       "speed      1 111949.22 111949.2232 423.4682 9.227817e-26\n",
       "Residuals 49  12953.78    264.3628       NA           NA"
      ]
     },
     "metadata": {},
     "output_type": "display_data"
    }
   ],
   "source": [
    "anova(model2)"
   ]
  },
  {
   "cell_type": "code",
   "execution_count": 43,
   "id": "f726a8fc-9658-4c6c-9bbc-ac4eb7e8b9a1",
   "metadata": {
    "vscode": {
     "languageId": "r"
    }
   },
   "outputs": [
    {
     "name": "stdout",
     "output_type": "stream",
     "text": [
      "기각치 F(0.05):  4.038393 \n",
      "F0:  423.4682"
     ]
    }
   ],
   "source": [
    "cat('기각치 F(0.05): ', qf(0.95, 1, 49),'\\n') \n",
    "cat('F0: ', summary(model2)$fstatistic[1])"
   ]
  },
  {
   "cell_type": "markdown",
   "id": "20f47985-9f59-465a-a8e2-5240bb6d5e16",
   "metadata": {},
   "source": [
    "$F_0 > F(1,49;0.05)$"
   ]
  },
  {
   "cell_type": "markdown",
   "id": "1319c703-5a95-404f-8d6b-a0d3a0111209",
   "metadata": {},
   "source": [
    "- $F$의 기각치는 $4.038$인데 $F_0=423.4682$이므로 적합된 회귀직선은 매우 유의함을 알 수 있다."
   ]
  },
  {
   "cell_type": "markdown",
   "id": "79e3ec05-d555-4396-804a-e6fbac11bfd5",
   "metadata": {},
   "source": [
    "- 유의수준 $5\\%$하에서 F-통계량에 대응하는 $p-value=9.227817e-26$로 유의수준 $5\\%$ 보다 작으므로 귀무가설을 기각할 수 있다. 따라서 회귀모형은 유의하다고 할 수 있다."
   ]
  },
  {
   "cell_type": "markdown",
   "id": "a0f3e605-fc64-4dcd-b46d-2c3457463929",
   "metadata": {},
   "source": [
    "### (13) 원점을 지나는 회귀직선의 결정계수를 구하시오."
   ]
  },
  {
   "cell_type": "code",
   "execution_count": 133,
   "id": "33a27f7f-f2f7-4f9b-8eb1-7dd8fe69d021",
   "metadata": {
    "vscode": {
     "languageId": "r"
    }
   },
   "outputs": [
    {
     "data": {
      "text/html": [
       "0.896289305805206"
      ],
      "text/latex": [
       "0.896289305805206"
      ],
      "text/markdown": [
       "0.896289305805206"
      ],
      "text/plain": [
       "[1] 0.8962893"
      ]
     },
     "metadata": {},
     "output_type": "display_data"
    }
   ],
   "source": [
    "b$r.squared"
   ]
  },
  {
   "cell_type": "markdown",
   "id": "e557008a-e5ad-431a-8c5c-d692ac4d414e",
   "metadata": {},
   "source": [
    "### (14) 원점을 포함한 회귀직선과 포함하지 않은 회귀직선의 결과를 비교하여라."
   ]
  },
  {
   "cell_type": "code",
   "execution_count": 134,
   "id": "a4dd6d31-1ad6-45db-930e-b7e51568de6a",
   "metadata": {
    "vscode": {
     "languageId": "r"
    }
   },
   "outputs": [
    {
     "data": {
      "text/plain": [
       "\n",
       "Call:\n",
       "lm(formula = dist ~ speed, data = cars)\n",
       "\n",
       "Residuals:\n",
       "    Min      1Q  Median      3Q     Max \n",
       "-29.069  -9.525  -2.272   9.215  43.201 \n",
       "\n",
       "Coefficients:\n",
       "            Estimate Std. Error t value Pr(>|t|)    \n",
       "(Intercept) -17.5791     6.7584  -2.601   0.0123 *  \n",
       "speed         3.9324     0.4155   9.464 1.49e-12 ***\n",
       "---\n",
       "Signif. codes:  0 ‘***’ 0.001 ‘**’ 0.01 ‘*’ 0.05 ‘.’ 0.1 ‘ ’ 1\n",
       "\n",
       "Residual standard error: 15.38 on 48 degrees of freedom\n",
       "Multiple R-squared:  0.6511,\tAdjusted R-squared:  0.6438 \n",
       "F-statistic: 89.57 on 1 and 48 DF,  p-value: 1.49e-12\n"
      ]
     },
     "metadata": {},
     "output_type": "display_data"
    }
   ],
   "source": [
    "summary(model1)"
   ]
  },
  {
   "cell_type": "code",
   "execution_count": 135,
   "id": "ed236abf-0f36-44c6-a6cb-348e094f8131",
   "metadata": {
    "vscode": {
     "languageId": "r"
    }
   },
   "outputs": [
    {
     "data": {
      "text/plain": [
       "\n",
       "Call:\n",
       "lm(formula = dist ~ 0 + speed, data = cars)\n",
       "\n",
       "Residuals:\n",
       "    Min      1Q  Median      3Q     Max \n",
       "-26.183 -12.637  -5.455   4.590  50.181 \n",
       "\n",
       "Coefficients:\n",
       "      Estimate Std. Error t value Pr(>|t|)    \n",
       "speed   2.9091     0.1414   20.58   <2e-16 ***\n",
       "---\n",
       "Signif. codes:  0 ‘***’ 0.001 ‘**’ 0.01 ‘*’ 0.05 ‘.’ 0.1 ‘ ’ 1\n",
       "\n",
       "Residual standard error: 16.26 on 49 degrees of freedom\n",
       "Multiple R-squared:  0.8963,\tAdjusted R-squared:  0.8942 \n",
       "F-statistic: 423.5 on 1 and 49 DF,  p-value: < 2.2e-16\n"
      ]
     },
     "metadata": {},
     "output_type": "display_data"
    }
   ],
   "source": [
    "summary(model2)"
   ]
  },
  {
   "cell_type": "code",
   "execution_count": 136,
   "id": "42add729-9e2f-4616-a683-9d24b61cb5f5",
   "metadata": {
    "vscode": {
     "languageId": "r"
    }
   },
   "outputs": [
    {
     "data": {
      "text/html": [
       "<table class=\"dataframe\">\n",
       "<caption>A anova: 2 × 5</caption>\n",
       "<thead>\n",
       "\t<tr><th></th><th scope=col>Df</th><th scope=col>Sum Sq</th><th scope=col>Mean Sq</th><th scope=col>F value</th><th scope=col>Pr(&gt;F)</th></tr>\n",
       "\t<tr><th></th><th scope=col>&lt;int&gt;</th><th scope=col>&lt;dbl&gt;</th><th scope=col>&lt;dbl&gt;</th><th scope=col>&lt;dbl&gt;</th><th scope=col>&lt;dbl&gt;</th></tr>\n",
       "</thead>\n",
       "<tbody>\n",
       "\t<tr><th scope=row>speed</th><td> 1</td><td>21185.46</td><td>21185.4589</td><td>89.56711</td><td>1.489836e-12</td></tr>\n",
       "\t<tr><th scope=row>Residuals</th><td>48</td><td>11353.52</td><td>  236.5317</td><td>      NA</td><td>          NA</td></tr>\n",
       "</tbody>\n",
       "</table>\n"
      ],
      "text/latex": [
       "A anova: 2 × 5\n",
       "\\begin{tabular}{r|lllll}\n",
       "  & Df & Sum Sq & Mean Sq & F value & Pr(>F)\\\\\n",
       "  & <int> & <dbl> & <dbl> & <dbl> & <dbl>\\\\\n",
       "\\hline\n",
       "\tspeed &  1 & 21185.46 & 21185.4589 & 89.56711 & 1.489836e-12\\\\\n",
       "\tResiduals & 48 & 11353.52 &   236.5317 &       NA &           NA\\\\\n",
       "\\end{tabular}\n"
      ],
      "text/markdown": [
       "\n",
       "A anova: 2 × 5\n",
       "\n",
       "| <!--/--> | Df &lt;int&gt; | Sum Sq &lt;dbl&gt; | Mean Sq &lt;dbl&gt; | F value &lt;dbl&gt; | Pr(&gt;F) &lt;dbl&gt; |\n",
       "|---|---|---|---|---|---|\n",
       "| speed |  1 | 21185.46 | 21185.4589 | 89.56711 | 1.489836e-12 |\n",
       "| Residuals | 48 | 11353.52 |   236.5317 |       NA |           NA |\n",
       "\n"
      ],
      "text/plain": [
       "          Df Sum Sq   Mean Sq    F value  Pr(>F)      \n",
       "speed      1 21185.46 21185.4589 89.56711 1.489836e-12\n",
       "Residuals 48 11353.52   236.5317       NA           NA"
      ]
     },
     "metadata": {},
     "output_type": "display_data"
    }
   ],
   "source": [
    "anova(model1)"
   ]
  },
  {
   "cell_type": "code",
   "execution_count": 137,
   "id": "f86c7b86-d07c-4cff-acc3-ba9945e5f51a",
   "metadata": {
    "vscode": {
     "languageId": "r"
    }
   },
   "outputs": [
    {
     "data": {
      "text/html": [
       "<table class=\"dataframe\">\n",
       "<caption>A anova: 2 × 5</caption>\n",
       "<thead>\n",
       "\t<tr><th></th><th scope=col>Df</th><th scope=col>Sum Sq</th><th scope=col>Mean Sq</th><th scope=col>F value</th><th scope=col>Pr(&gt;F)</th></tr>\n",
       "\t<tr><th></th><th scope=col>&lt;int&gt;</th><th scope=col>&lt;dbl&gt;</th><th scope=col>&lt;dbl&gt;</th><th scope=col>&lt;dbl&gt;</th><th scope=col>&lt;dbl&gt;</th></tr>\n",
       "</thead>\n",
       "<tbody>\n",
       "\t<tr><th scope=row>speed</th><td> 1</td><td>111949.22</td><td>111949.2232</td><td>423.4682</td><td>9.227817e-26</td></tr>\n",
       "\t<tr><th scope=row>Residuals</th><td>49</td><td> 12953.78</td><td>   264.3628</td><td>      NA</td><td>          NA</td></tr>\n",
       "</tbody>\n",
       "</table>\n"
      ],
      "text/latex": [
       "A anova: 2 × 5\n",
       "\\begin{tabular}{r|lllll}\n",
       "  & Df & Sum Sq & Mean Sq & F value & Pr(>F)\\\\\n",
       "  & <int> & <dbl> & <dbl> & <dbl> & <dbl>\\\\\n",
       "\\hline\n",
       "\tspeed &  1 & 111949.22 & 111949.2232 & 423.4682 & 9.227817e-26\\\\\n",
       "\tResiduals & 49 &  12953.78 &    264.3628 &       NA &           NA\\\\\n",
       "\\end{tabular}\n"
      ],
      "text/markdown": [
       "\n",
       "A anova: 2 × 5\n",
       "\n",
       "| <!--/--> | Df &lt;int&gt; | Sum Sq &lt;dbl&gt; | Mean Sq &lt;dbl&gt; | F value &lt;dbl&gt; | Pr(&gt;F) &lt;dbl&gt; |\n",
       "|---|---|---|---|---|---|\n",
       "| speed |  1 | 111949.22 | 111949.2232 | 423.4682 | 9.227817e-26 |\n",
       "| Residuals | 49 |  12953.78 |    264.3628 |       NA |           NA |\n",
       "\n"
      ],
      "text/plain": [
       "          Df Sum Sq    Mean Sq     F value  Pr(>F)      \n",
       "speed      1 111949.22 111949.2232 423.4682 9.227817e-26\n",
       "Residuals 49  12953.78    264.3628       NA           NA"
      ]
     },
     "metadata": {},
     "output_type": "display_data"
    }
   ],
   "source": [
    "anova(model2)"
   ]
  },
  {
   "cell_type": "markdown",
   "id": "c97da353-2cbc-4a4b-ad5a-b82058dd927a",
   "metadata": {},
   "source": [
    "- R-squared, Adjusted R-squared 모두 model2가 더 크므로 model2가 더 좋은 것 같다. 즉, 절편이 없는(원점을 지나는) 회귀모형이 더 좋은 것 같다."
   ]
  },
  {
   "cell_type": "markdown",
   "id": "1b04eb6d-6a54-4499-ab65-3ba2369cc0cc",
   "metadata": {},
   "source": [
    "### (15) 잔차에 대한 산점도를 그리고, 결과를 설명하여라."
   ]
  },
  {
   "cell_type": "code",
   "execution_count": 139,
   "id": "82e03536-6be3-477c-835e-b46c3391b2b0",
   "metadata": {
    "vscode": {
     "languageId": "r"
    }
   },
   "outputs": [],
   "source": [
    "model1 <- lm(dist ~ speed, cars)"
   ]
  },
  {
   "cell_type": "code",
   "execution_count": 30,
   "id": "365e70e1-6fc5-4d30-9b5b-d1dff20cb422",
   "metadata": {
    "vscode": {
     "languageId": "r"
    }
   },
   "outputs": [
    {
     "data": {
      "image/png": "[encoded data removed]",
      "text/plain": [
       "Plot with title “Residual plot in Model1”"
      ]
     },
     "metadata": {
      "image/png": {
       "height": 420,
       "width": 420
      }
     },
     "output_type": "display_data"
    }
   ],
   "source": [
    "## Model1 residual plot\n",
    "plot(fitted(model1),resid(model1), col = 'grey', pch=16, \n",
    "     xlab = expression(hat(y)),\n",
    "     ylab = \"Residual\",\n",
    "     main = \"Residual plot in Model1\")\n",
    "abline(h=0, col='darkorange', lty=2, lwd=2)"
   ]
  },
  {
   "cell_type": "markdown",
   "id": "fa6176eb-1ce8-4012-a0b0-c8f34fb2cbbc",
   "metadata": {},
   "source": [
    "- $\\text{resiaul}=0$을 기준으로 위$\\cdot$아래가 대칭적으로 잘 퍼져있는 것 처럼 보인다. ($\\hat{y}$가 커질수록 조금 증가하는 것 같기도 하지만 추후 검정을 통해 확인) $\\to$ 등분산, 선형성\n",
    "\n",
    "- 잔차의 산점도에 별다른 패턴이 보이지 않는 것 같다. $\\to$ 독립성"
   ]
  },
  {
   "cell_type": "markdown",
   "id": "0d00868c-ada0-4bc2-abc7-ac3ba4f4a0c2",
   "metadata": {},
   "source": [
    "### (16) 잔차에 대한 등분산성 검정을 수행하시오."
   ]
  },
  {
   "cell_type": "markdown",
   "id": "6fe4dda8-2778-49fb-8113-e9d5cc2e1792",
   "metadata": {},
   "source": [
    "`-` Breusch-Pegan Teset"
   ]
  },
  {
   "cell_type": "markdown",
   "id": "7d19dfc6-b51d-4da5-80f8-c3b1a16fcc16",
   "metadata": {},
   "source": [
    "$H_0$: 등분산 vs. $H_1$: 이분산 (Heteroscedasticity)"
   ]
  },
  {
   "cell_type": "code",
   "execution_count": 145,
   "id": "949c992f-2042-40db-ab26-41c3a7a286be",
   "metadata": {
    "vscode": {
     "languageId": "r"
    }
   },
   "outputs": [
    {
     "data": {
      "text/plain": [
       "\n",
       "\tstudentized Breusch-Pagan test\n",
       "\n",
       "data:  model1\n",
       "BP = 3.2149, df = 1, p-value = 0.07297\n"
      ]
     },
     "metadata": {},
     "output_type": "display_data"
    }
   ],
   "source": [
    "bptest(model1)"
   ]
  },
  {
   "cell_type": "markdown",
   "id": "220b4401-e88f-4e0d-9330-05795b0b99e1",
   "metadata": {},
   "source": [
    "$p-value = 0.07297$로 유의수준 $0.05$ 보다 크므로 귀무가설을 기각할 수 없다. 따라서 유의수준 $5\\%$하에서 잔차들이 등분산성을 만족한다."
   ]
  },
  {
   "cell_type": "markdown",
   "id": "94b04f35-8179-4fd5-9a96-e7524087d06b",
   "metadata": {},
   "source": [
    "(17) 잔차에 대한 히스토그램, QQ plot을 그리고, 정규성 검정을 수행하여라."
   ]
  },
  {
   "cell_type": "code",
   "execution_count": 146,
   "id": "d587275b-1ef4-4f40-b23e-492b65ec0f83",
   "metadata": {
    "vscode": {
     "languageId": "r"
    }
   },
   "outputs": [
    {
     "data": {
      "image/png": "[encoded data removed]",
      "text/plain": [
       "Plot with title “Normal Q-Q Plot”"
      ]
     },
     "metadata": {
      "image/png": {
       "height": 420,
       "width": 420
      }
     },
     "output_type": "display_data"
    }
   ],
   "source": [
    "## 잔차의 QQ plot\n",
    "qqnorm(cars$resid, pch=16)\n",
    "qqline(cars$resid, col = 2)"
   ]
  },
  {
   "cell_type": "markdown",
   "id": "006a453f-50b4-4892-a88d-729fa744dda0",
   "metadata": {},
   "source": [
    "잔차의 QQPlot을 보면 45도선 기준으로 오른쪽 꼬리부분의 점들이 선에서 많이 벗어나 있는 것을 확인할 수 있다."
   ]
  },
  {
   "cell_type": "code",
   "execution_count": 153,
   "id": "632ba145-7a16-4068-a7b3-a005bc54db9c",
   "metadata": {
    "vscode": {
     "languageId": "r"
    }
   },
   "outputs": [
    {
     "data": {
      "image/png": "[encoded data removed]",
      "text/plain": [
       "Plot with title “Histogram of Residuals, model1”"
      ]
     },
     "metadata": {
      "image/png": {
       "height": 420,
       "width": 420
      }
     },
     "output_type": "display_data"
    }
   ],
   "source": [
    "hist(cars$resid,\n",
    "     xlab = \"Residuals\",\n",
    "     main = \"Histogram of Residuals, model1\",\n",
    "     col = \"darkgreen\",\n",
    "     border = \"steelblue\")"
   ]
  },
  {
   "cell_type": "markdown",
   "id": "a55dc6cc-4f3a-4ab8-bf20-dd0d80c655d0",
   "metadata": {},
   "source": [
    "-  잔차들의 히스토그램을 봤을 때 약간 오른쪽으로 꼬리가 긴 skewed된 그래프이다."
   ]
  },
  {
   "cell_type": "code",
   "execution_count": 147,
   "id": "32092548-0ced-40a2-a6b0-d09e9ce1c4c0",
   "metadata": {
    "vscode": {
     "languageId": "r"
    }
   },
   "outputs": [
    {
     "data": {
      "text/plain": [
       "\n",
       "\tShapiro-Wilk normality test\n",
       "\n",
       "data:  resid(model1)\n",
       "W = 0.94509, p-value = 0.02152\n"
      ]
     },
     "metadata": {},
     "output_type": "display_data"
    }
   ],
   "source": [
    "## Shapiro-Wilk Test\n",
    "## H0 : normal distribution  vs. H1 : not H0\n",
    "shapiro.test(resid(model1))"
   ]
  },
  {
   "cell_type": "markdown",
   "id": "9e5c8a33-8be4-4e98-8440-38b0d77d1e5c",
   "metadata": {},
   "source": [
    "Shapiro-Wilk 정규성 검정 결과 $p-value=0.02152$로 유의수준 $0.05$ 보다 작으므로 유의수준 $5\\%$하에서 귀무가설을 기각할 수 있다. 따라서 잔차는 정규성을 만족한다고 판단한다."
   ]
  },
  {
   "cell_type": "markdown",
   "id": "bf7a6e63-74fb-4e1d-8909-890580f0cc5f",
   "metadata": {},
   "source": [
    "### (18) 잔차에 대한 독립성 검정을 수행하시오."
   ]
  },
  {
   "cell_type": "code",
   "execution_count": 150,
   "id": "ee711ccb-1b4a-4a94-9892-2e48add57240",
   "metadata": {
    "vscode": {
     "languageId": "r"
    }
   },
   "outputs": [
    {
     "data": {
      "text/plain": [
       "\n",
       "\tDurbin-Watson test\n",
       "\n",
       "data:  model1\n",
       "DW = 1.6762, p-value = 0.1904\n",
       "alternative hypothesis: true autocorrelation is not 0\n"
      ]
     },
     "metadata": {},
     "output_type": "display_data"
    }
   ],
   "source": [
    "# 독립성검정 : DW test\n",
    "dwtest(model1, alternative = \"two.sided\")  #H0 : uncorrelated vs H1 : rho != 0"
   ]
  },
  {
   "cell_type": "markdown",
   "id": "3f9928bd-31a5-4e87-92fe-6ef9de2235d0",
   "metadata": {},
   "source": [
    "잔차의 독립성을 검정하는 Durbin-Watson 검정 결과 $p-value = 0.1904$로 유의수준 $5\\%$ 보다 크므로 귀무가설을 기각할 수 없다. "
   ]
  },
  {
   "cell_type": "markdown",
   "id": "add1a922-6a52-4bba-b2e8-7b4539bdad4b",
   "metadata": {},
   "source": [
    "# Q3."
   ]
  },
  {
   "cell_type": "markdown",
   "id": "08d869fa-de7d-41cc-bb15-8c00131f3566",
   "metadata": {},
   "source": [
    "원하는 데이터를 이용하여 단순선형회귀모형을 적합하여라. (발표)"
   ]
  },
  {
   "cell_type": "markdown",
   "id": "8feb61ac-bf03-4563-a37b-15cae8f3685e",
   "metadata": {},
   "source": [
    "- 발표는 5~10분\n",
    "- 최소 50개 이상의 데이터 사용\n",
    "- 발표 자료를 위 과제와 별도로 작성"
   ]
  }
 ],
 "metadata": {
  "kernelspec": {
   "display_name": "R",
   "language": "R",
   "name": "ir"
  },
  "language_info": {
   "codemirror_mode": "r",
   "file_extension": ".r",
   "mimetype": "text/x-r-source",
   "name": "R",
   "pygments_lexer": "r",
   "version": "4.2.2"
  }
 },
 "nbformat": 4,
 "nbformat_minor": 5
}
