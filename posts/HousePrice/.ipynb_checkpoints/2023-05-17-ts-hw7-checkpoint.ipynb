{
 "cells": [
  {
   "cell_type": "raw",
   "id": "b5858fce-37eb-49b2-9b74-3f62b92ff564",
   "metadata": {},
   "source": [
    "---\n",
    "title: \" **[TS]** HW7\"\n",
    "author: \"JiyunLim\"\n",
    "date: \"05/17/2023\"\n",
    "categories:\n",
    "  - TS2023\n",
    "---"
   ]
  },
  {
   "cell_type": "markdown",
   "id": "bf452ce6-0104-4f0a-a648-2831eeefa287",
   "metadata": {},
   "source": [
    "> 5월 22일 12까지 제출"
   ]
  },
  {
   "cell_type": "markdown",
   "id": "07bac23b-d2f7-46f1-90a8-bc2660df3f3a",
   "metadata": {},
   "source": [
    "## Q1."
   ]
  },
  {
   "cell_type": "markdown",
   "id": "60f230bb-bad2-444c-a612-b02276beb23f",
   "metadata": {},
   "source": [
    " 다음을 증명하시오."
   ]
  },
  {
   "cell_type": "markdown",
   "id": "9d6346c6-f75e-421a-a9aa-6553e2266852",
   "metadata": {},
   "source": [
    "### (1) $Z\\sim N(0,1)$ 이면 $Z^2\\sim \\chi_1^2$"
   ]
  },
  {
   "cell_type": "markdown",
   "id": "bd49a7e8-fb2f-4054-b00d-e8dc7da2178d",
   "metadata": {},
   "source": [
    "### (2) 랜덤표본 $X_1, \\dots, X_n$ 에 대하여 $Cov(\\bar{X}_n, X_k-\\bar{X}_n)=0$"
   ]
  },
  {
   "cell_type": "markdown",
   "id": "8baf2e35-697a-45ea-8819-62b8d905d464",
   "metadata": {},
   "source": [
    "## Q2. "
   ]
  },
  {
   "cell_type": "markdown",
   "id": "181481a7-99af-42bf-af5d-7421840cca7a",
   "metadata": {},
   "source": [
    "$GAM(\\alpha, \\beta)$ 분포로부터 랜덤표본 $X_1, \\dots, X_n$ 에 대하여 $\\bar{X}_n$의 분포를 구하시오."
   ]
  },
  {
   "cell_type": "markdown",
   "id": "f27f600c-adc3-4a28-a5d2-ef4ec55fb509",
   "metadata": {},
   "source": [
    "## Q3. "
   ]
  },
  {
   "cell_type": "markdown",
   "id": "c0ea1160-a738-4514-80bb-40eef5a715ef",
   "metadata": {},
   "source": [
    "$N(\\mu,\\sigma^2)$ 분포로부터의 랜덤표본 Suppose that $X_1, \\dots, X_n$ 에 대하여 $\\sum_{i=1}^n(X_i-\\bar{X}_n)^2/n$의 분산을 구하시오."
   ]
  },
  {
   "cell_type": "markdown",
   "id": "43d43ead-17fc-4329-bae0-a25465b2e971",
   "metadata": {},
   "source": [
    "## Q4."
   ]
  },
  {
   "cell_type": "markdown",
   "id": "9e3e1ee0-2480-4cf8-8dc6-95931e52a085",
   "metadata": {},
   "source": [
    "$X_1, \\dots, X_{16}$ 과 $Y_1, \\dots, Y_{25}$은 각각 $N(0,9)$과 $N(2,16)$로부터의 서로 독립인 랜덤표본이라고 할 때"
   ]
  },
  {
   "cell_type": "markdown",
   "id": "24d6dde2-175f-4866-bd8a-a8d7081ddaf6",
   "metadata": {},
   "source": [
    "### (1) $\\bar{X}_{16} - \\bar{Y}_{25}$의 분포를 구하시오."
   ]
  },
  {
   "cell_type": "markdown",
   "id": "5260babc-7db0-4b5e-b1f6-8523144ff1da",
   "metadata": {},
   "source": [
    "### (2) $\\frac{24\\sum_{i=1}^{16}X_i^2}{9\\sum_{i=1}^{25}(Y_i-\\bar{Y})^2}$"
   ]
  },
  {
   "cell_type": "markdown",
   "id": "55b0eda0-abae-49c0-856c-f4fd01322257",
   "metadata": {},
   "source": [
    "## Q5."
   ]
  },
  {
   "cell_type": "markdown",
   "id": "f3852b12-07ec-4a68-8c93-8f56af7f6fe9",
   "metadata": {},
   "source": [
    "$X_1,X_2,\\dots$은 평균이 $\\mu$이고 분산이 $\\sigma^2$인 동일한 분포를 따르고 독립이다."
   ]
  },
  {
   "cell_type": "markdown",
   "id": "4620b1d7-1b25-4f5e-914a-243dc04f05a2",
   "metadata": {},
   "source": [
    "$\\sqrt{n} \\left(\\frac{1}{\\bar{X}_n} - \\frac{1}{\\mu} \\right)  \\overset{d}{\\to}$ ?"
   ]
  }
 ],
 "metadata": {
  "kernelspec": {
   "display_name": "Python 3",
   "language": "python",
   "name": "python3"
  },
  "language_info": {
   "codemirror_mode": {
    "name": "ipython",
    "version": 3
   },
   "file_extension": ".py",
   "mimetype": "text/x-python",
   "name": "python",
   "nbconvert_exporter": "python",
   "pygments_lexer": "ipython3",
   "version": "3.8.16"
  }
 },
 "nbformat": 4,
 "nbformat_minor": 5
}
