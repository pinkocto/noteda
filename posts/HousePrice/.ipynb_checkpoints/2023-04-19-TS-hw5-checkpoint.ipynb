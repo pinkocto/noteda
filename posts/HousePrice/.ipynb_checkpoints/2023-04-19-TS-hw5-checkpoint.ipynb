{
 "cells": [
  {
   "cell_type": "raw",
   "id": "6c9cb449-0ba0-4be8-af96-4184455eb6b4",
   "metadata": {},
   "source": [
    "---\n",
    "title: \"TS HW5\"\n",
    "author: \"JiyunLim\"\n",
    "date: \"04/19/2023\"\n",
    "categories:\n",
    "  - ST2023\n",
    "---"
   ]
  },
  {
   "cell_type": "markdown",
   "id": "3cf5a393-5c36-4b52-bff6-68ed74e53338",
   "metadata": {},
   "source": [
    "# 과제5"
   ]
  },
  {
   "cell_type": "markdown",
   "id": "a489d4a5-e2f1-4cb1-a9a4-7b5fcc72bb7e",
   "metadata": {},
   "source": [
    "## Q1. 다항분포의 조건부밀도함수"
   ]
  },
  {
   "cell_type": "markdown",
   "id": "541f39a9-fb1c-4531-9d4b-56c96c399ee0",
   "metadata": {},
   "source": [
    "> ref: 4차시 과제 참고"
   ]
  },
  {
   "cell_type": "markdown",
   "id": "dcc7bdc7-f5d3-447e-813f-93a6335971ce",
   "metadata": {},
   "source": [
    "$(X_1, X_2, X_3) \\sim MULT(n, p_1,p_2,p_3)$일 때 $X_1|X_2=x_2$의 조건부 확률밀도함수를 구하시오."
   ]
  },
  {
   "cell_type": "markdown",
   "id": "e8c6dbe5-8c00-49d1-886a-a97bec221d33",
   "metadata": {},
   "source": [
    "***`(sol)`***\n",
    "\n",
    "(간단한 방법)\n",
    "\n",
    "$$f_{X_1|X_2}(x_1|x_2) = \\frac{f_{X_1,X_2}(x_1,x_2)}{f_{X_2}(x_2)}$$\n",
    "\n",
    "`step1`\n",
    "\n",
    "우리가 관심있는 사건은 $X_1$이라 한다면 관심없는 두 사건 $X_2, X_3$를 하나로 생각한다면, 관심있는 사건, 관심없는 사건 두가지의 결과로 이루어진 이항분포라고 할 수 있다. \n",
    "\n",
    "- $X_1 \\sim B(n,p_1)$\n",
    "- $X_2 \\sim B(n,p_2)$\n",
    "\n",
    "`step2`\n",
    "\n",
    "- 3가지 결과만 나오는 경우 $X_1,X_2$의 결합 pdf는 다음과 같이 정의할 수 있다. ($X_1, X_2$를 알면 자연스럽)게 $X_3$를 알 수 있다.\n",
    "\n",
    "$$\\begin{align*} f_{X_1,X_2}(x_1,x_2) &= P(X_1=x_2, X_2=x_2)\\\\\n",
    "&= P(X_1=x_1, X_2=x_2, X_3 = n-x_1-x_2) \\\\\n",
    "&= \\frac{n!}{x_1!x_2!(n-x_1-x_2)!}p_1^{x_1}p_2^{x_2}p_3^{n-x_1-x_2}\\end{align*}$$\n",
    "\n",
    "- `step1`에서 $X_1$과 $X_2$는 베르누이 시행을 독립적으로 $n$번 반복할 때 각 시행에서의 관심사건의 확률이 $p_1, p_2$인 이항분포를 따름을 알 수 있었다. 이를 이용하면 $X_2$의 marginal pdf를 구할 수 있다.\n",
    "\n",
    "$$f_{X_2}(x_2) = \\frac{n!}{x_2!(n-x_2)!}p_2^{x_2}(1-p_2)^{n-x_2}$$\n",
    "\n",
    "`step3`\n",
    "\n",
    "이전 단계에서 구한 $X_1,X_2$와 결합pdf와 $X_2$의 marginal pdf를 이용하면 $X_1|X_2=x_2$의 조건부확률밀도함수를 구할 수 있다.\n",
    "\n",
    "$$\\begin{align*}f_{X_1|X_2}(x_1|x_2) &= \\frac{f_{X_1,X_2}(x_1,x_2)}{f_{X_2}(x_2)}\\\\\n",
    "&= \\frac{\\frac{n!}{x_1!x_2!(n-x_1-x_2)!}p_1^{x_1}p_2^{x_2}p_3^{n-x_1-x_2}}{ \\frac{n!}{x_2!(n-x_2)!}p_2^{x_2}(1-p_2)^{n-x_2}} \\\\\n",
    "&= \\frac{(n-x_2)!}{x_1!(n-x_1-x_2)!}\\left(\\frac{p_1}{1-p_2}\\right)^{x_1}\\left(\\frac{p_3}{1-p_2}\\right)^{n-x_1-x_2}\\\\\n",
    "&=\\frac{(n-x_2)!}{x_1!(n-x_1-x_2)!}\\left(\\frac{p_1}{1-p_2}\\right)^{x_1}\\left(1-\\frac{p_1}{1-p_2}\\right)^{n-x_1-x_2}\\\\\n",
    "&= \\binom{n-x_2}{x_1}\\left(\\frac{p_1}{1-p_2}\\right)^{x_1} \\left(1-\\frac{p_1}{1-p_2}\\right)^{n-x_1-x_2}\\\\\n",
    "&\\sim B\\left(n-x_2, \\frac{p_1}{1-p_2}\\right) \\end{align*}$$"
   ]
  },
  {
   "cell_type": "markdown",
   "id": "77d68d2e-be8f-4403-b483-559973477db4",
   "metadata": {},
   "source": [
    "## Q2. 변수변환 (정규분포)"
   ]
  },
  {
   "cell_type": "markdown",
   "id": "1bcaf72b-a2e0-4c47-b7af-39b8cc2f08c1",
   "metadata": {},
   "source": [
    "$X\\sim N(\\mu, \\sigma^2)$일 때 다음을 구하시오."
   ]
  },
  {
   "cell_type": "markdown",
   "id": "8599474f-a4c7-45cb-b20a-ce5d0c842ec9",
   "metadata": {},
   "source": [
    "### (1) $Y = |X-\\mu|$의 확률밀도함수"
   ]
  },
  {
   "cell_type": "markdown",
   "id": "eda4f802-ae83-4870-87bb-e581c72eddf1",
   "metadata": {},
   "source": [
    "`(sol)` Folded normal distribution과 비슷한듯."
   ]
  },
  {
   "cell_type": "markdown",
   "id": "7f2ffb70-466b-47f0-b724-a9f168f5db7a",
   "metadata": {},
   "source": [
    "$X$의 pdf는 $f_X(x) = \\frac{1}{\\sqrt{2\\pi}\\sigma}\\exp\\left[-\\frac{(x-\\mu)^2}{2\\sigma^2}\\right]$ 이고,"
   ]
  },
  {
   "cell_type": "markdown",
   "id": "6e32aaf6-457e-4c48-97f0-ff63ffac708c",
   "metadata": {},
   "source": [
    "$Y$의 cdf는 아래와 같다.\n",
    "\n",
    "$\\begin{align*}F_Y(y) = P(Y\\leq y) &= P(|X-\\mu|\\leq y) \\\\\n",
    "&= P(\\mu-y \\leq X \\leq \\mu+y)\\\\\n",
    "&= F_X(\\mu+y) - F_X(\\mu-y)\\end{align*}$"
   ]
  },
  {
   "cell_type": "markdown",
   "id": "2c4caf24-7a2c-45a2-b0a5-a9fd95d4aacc",
   "metadata": {},
   "source": [
    "$\\begin{align*}f_Y(y) = \\frac{d}{dy}F_Y(y) &= f_X(\\mu+y) + f_X(\\mu-y) \\\\\n",
    "&= \\frac{1}{\\sqrt{2\\pi}\\sigma}e^{-\\frac{(\\mu+y-\\mu)^2}{2\\sigma^2}} + \\frac{1}{\\sqrt{2\\pi}\\sigma}e^{-\\frac{(\\mu-y-\\mu)^2}{2\\sigma^2}} \\\\\n",
    "&= \\frac{1}{\\sqrt{2\\pi}\\sigma}e^{-\\frac{y^2}{2\\sigma^2}} + \\frac{1}{\\sqrt{2\\pi}\\sigma}e^{-\\frac{y^2}{2\\sigma^2}} \\\\\n",
    "&=2 \\frac{1}{\\sqrt{2\\pi}\\sigma}e^{-\\frac{y^2}{2\\sigma^2}}, \\quad y\\geq 0\\end{align*}$"
   ]
  },
  {
   "cell_type": "markdown",
   "id": "dd939678-61c6-4a5a-bdca-ed11efe2269e",
   "metadata": {},
   "source": [
    "### (2) $Y=\\exp(X)$의 확률밀도함수"
   ]
  },
  {
   "cell_type": "markdown",
   "id": "dada9302-15a4-4bfb-aa91-867682d6b674",
   "metadata": {},
   "source": [
    "`(sol)` 로그정규확률밀도함수"
   ]
  },
  {
   "cell_type": "markdown",
   "id": "42f3620e-b5de-4b1c-83f6-e95ae974fd74",
   "metadata": {},
   "source": [
    "$X$의 pdf는 $f_X(x) = \\frac{1}{\\sqrt{2\\pi}\\sigma}\\exp\\left[-\\frac{(x-\\mu)^2}{2\\sigma^2}\\right]$ 이고,\n",
    "\n"
   ]
  },
  {
   "cell_type": "markdown",
   "id": "3cf282ab-7eb0-4df4-9734-1a56d9422811",
   "metadata": {},
   "source": [
    "$Y$의 cdf는 $F_Y(y) = P(Y\\leq y) = P(e^X\\leq y) = P(X\\leq \\ln y) = F_X(\\ln y)$ 이므로, $Y$의 pdf는 아래와 같다."
   ]
  },
  {
   "cell_type": "markdown",
   "id": "0dd688f8-4a29-48a9-aa79-208ca29cc47d",
   "metadata": {},
   "source": [
    "$\\begin{align*}f_Y(y) &= \\frac{d}{dy}F_Y(y) \n",
    "= \\frac{1}{y}f_X(\\ln y)\\\\\n",
    "&= \\frac{1}{\\sigma y \\sqrt{2\\pi}}\\exp\\left[-\\frac{(\\ln y-\\mu)^2}{2\\sigma^2}\\right], \\quad 0<y<\\infty \\end{align*}$"
   ]
  },
  {
   "cell_type": "markdown",
   "id": "7696acf3-5c2d-4e0a-91bb-e25cd593a053",
   "metadata": {},
   "source": [
    "## Q3. 변수변환 (지수분포) -- 틀림"
   ]
  },
  {
   "cell_type": "markdown",
   "id": "4c6efd67-3333-4bbc-b4a9-f813e411042a",
   "metadata": {},
   "source": [
    "한 개의 전자 시스템에 두 가지 다른 유형의 구성 요소가 각각 하날씩 공동으로 작동하고 있다. $Y_1$과 $Y_2$는 각각 유형 I 및 유형 II의 구성요소의 수명길이를 나타낸다고 한다. $Y_1$과 $Y_2$의 결합확률밀도함수가"
   ]
  },
  {
   "cell_type": "markdown",
   "id": "9ca902c2-be7a-48fd-a74c-47b1e382c143",
   "metadata": {},
   "source": [
    "$$f_{Y_1,Y_2}(y_1,y_2) = \\frac{1}{8}y_1 e^{-(y_1+y_2)/2} I(y_1>0, y_2>0)$$"
   ]
  },
  {
   "cell_type": "markdown",
   "id": "5f6c3e6e-dd3b-4449-98c0-104d4092322b",
   "metadata": {},
   "source": [
    "로 주어졌을 때, 다음을 구하시오. (측정값은 백 시간 단위.)"
   ]
  },
  {
   "cell_type": "markdown",
   "id": "551c58a7-feca-42be-9467-70d72eb28e62",
   "metadata": {},
   "source": [
    "### (1) $Z = Y_1 + Y_2$의 확률분포"
   ]
  },
  {
   "cell_type": "markdown",
   "id": "d50bda4a-5cc0-4aa5-bb6e-4f348b90776a",
   "metadata": {},
   "source": [
    "$\\left\\{\\begin{matrix}\n",
    " \\begin{align*}&Z_1 = Y_1 + Y_2  \\\\\n",
    " &Z_2 = Y_2  \\\\\n",
    "\\end{align*}\\end{matrix}\\right. \\Rightarrow \\left\\{\\begin{matrix}  y_1 = z_1-z_2  \\\\ y_2 = z_2 \\quad \\quad \\end{matrix}\\right.\\to J = \\begin{vmatrix}\\frac{\\partial y_1}{\\partial z_1} & \\frac{\\partial y_1}{\\partial z_2} \\\\\n",
    "\\frac{\\partial y_2}{\\partial z_1} & \\frac{\\partial y_2}{\\partial z_2}\n",
    "\\end{vmatrix}= \\begin{vmatrix} 1 & -1 \\\\ 0 & 1\\end{vmatrix} = 1$"
   ]
  },
  {
   "cell_type": "markdown",
   "id": "61a637b2-4a9d-474b-a812-900bbdd08135",
   "metadata": {},
   "source": [
    "$\\begin{align*}g_{z_1,z_2}(z_1,z_2) &= f_{Y_1,Y_2}(z_1-z_2, z_2)|J|\\\\\n",
    "&= \\frac{1}{8}(z_1-z_2)e^{-(z_1-z_2+z_2)/2}, \\quad I(0<z_2<z_1) \\\\\n",
    "&=  \\frac{1}{8}(z_1-z_2)e^{-z_1/2}, \\quad I(0<z_2<z_1)\\end{align*}$"
   ]
  },
  {
   "cell_type": "markdown",
   "id": "ae89c127-02fd-48d6-9634-75684d0bdb18",
   "metadata": {},
   "source": [
    "<font color='red'> ***(이부분 빼먹음! : $z_1$의 marginal pdf를 구해야한다...)*** </font>"
   ]
  },
  {
   "cell_type": "markdown",
   "id": "d7562653-c11b-46ab-b213-2354dee04daf",
   "metadata": {},
   "source": [
    "$\\begin{align*}f_{Z_1}(z_1) &=\\int_{0}^{z_1}g_{Z_1,Z_2}(z_1,z_2) dz_2 \\\\\n",
    "&= \\int_{0}^{z_1}\\frac{1}{8}(z_1-z_2)e^{-z_1/2}dz_2 \\\\\n",
    "&= \\frac{1}{8}e^{-z_1/2}\\int_{0}^{z_1}(z_1-z_2)dz_2 \\\\\n",
    "&= \\frac{1}{8}e^{-z_1/2}\\left[z_1z_2-\\frac{1}{2}z_2^2\\right]_0^{z_1}\\\\\n",
    "&= \\frac{1}{8}e^{-z_1/2}\\left[\\frac{1}{2}z_1^2\\right] = \\frac{z_1^2e^{-z_1/2}}{16}\\space I(z_1>0)\\end{align*}$"
   ]
  },
  {
   "cell_type": "markdown",
   "id": "02da6650-172b-4332-8eb9-a359b59908cb",
   "metadata": {},
   "source": [
    "### (2) $U = Y_2/Y_1$와 $V=Y_1$의 결합확률밀도함수"
   ]
  },
  {
   "cell_type": "markdown",
   "id": "cd0b329d-4e3d-4946-9b23-2e73a256f0a8",
   "metadata": {},
   "source": [
    "$y_1 >0 , y_2 > 0$ $\\Rightarrow$ $u>0 , v>0$"
   ]
  },
  {
   "cell_type": "markdown",
   "id": "4d59e276-5f99-43df-83ec-a7fc91876c9d",
   "metadata": {},
   "source": [
    "$\\left\\{\\begin{matrix}\n",
    " \\begin{align*}&U = Y_2/Y_1  \\\\\n",
    " &V = Y_1  \\\\\n",
    "\\end{align*}\\end{matrix}\\right. \\Rightarrow \\left\\{\\begin{matrix}  y_1 = v  \\\\ y_2 = uv  \\end{matrix}\\right.\\to J = \\begin{vmatrix}\\frac{\\partial y_1}{\\partial u} & \\frac{\\partial y_1}{\\partial v} \\\\\n",
    "\\frac{\\partial y_2}{\\partial u} & \\frac{\\partial y_2}{\\partial v}\n",
    "\\end{vmatrix}= \\begin{vmatrix} 0 & 1 \\\\ v & u\\end{vmatrix} = |-v| = v$"
   ]
  },
  {
   "cell_type": "markdown",
   "id": "b7bdb047-527d-43f6-96d0-921f7c7c0a6a",
   "metadata": {},
   "source": [
    "$\\begin{align*}g_{u,v}(u,v) &= f_{Y_1,Y_2}(v,uv)|J|\\\\\n",
    "&= \\frac{1}{8}ve^{-(v+uv)/2} v, \\quad I(u>0)I(v>0) \\\\\n",
    "&=  \\frac{1}{8}v^2e^{-(v+uv)/2} , \\quad I(u>0)I(v>0)\\end{align*}$"
   ]
  },
  {
   "cell_type": "markdown",
   "id": "4824d5f2-5d71-4860-8160-d66899f94676",
   "metadata": {},
   "source": [
    "(3) `(2)`의 결과를 이용하여 $U$의 주변확률밀도함수"
   ]
  },
  {
   "cell_type": "markdown",
   "id": "e7483a0d-cf0d-4981-a372-c7b0e1e79db0",
   "metadata": {},
   "source": [
    "$\\begin{align*}g_u(u) &= \\int_{-\\infty}^\\infty \\frac{1}{8}v^2e^{-(v+uv)/2} I(u>0)I(v>0)dv \\\\\n",
    "&= \\frac{1}{8}I(u>0)\\int_{0}^\\infty v^2e^{-(v+uv)/2} dv \\\\\n",
    "&= \\frac{(1+u)^3}{4} \\quad I(u>0)\\end{align*}$"
   ]
  },
  {
   "cell_type": "markdown",
   "id": "5e633f7a-855a-4c76-94a1-a428f1f629ff",
   "metadata": {},
   "source": [
    "## Q4. 변수변환 (균일분포)"
   ]
  },
  {
   "cell_type": "markdown",
   "id": "c9ac268f-097d-4eeb-a483-636edeba1685",
   "metadata": {},
   "source": [
    "두 명의 경계병이 1마일 길이의 도로를 순찰하도록 지시받았다고 한다. 경계병은 도로 상에서 서로 독립적으로 선택된 지점으로 파견되는데, 경계병이 할당된 위치에 도달할 때 서로 1/2마일 이내에 있을 확률을 구하시오."
   ]
  },
  {
   "cell_type": "markdown",
   "id": "1ad4f72d-8643-480c-976e-a34ffa1b5a01",
   "metadata": {},
   "source": [
    "> ref: [Find the distribution of |X−Y| if X and Y are i.i.d. uniform on [0,1]](https://math.stackexchange.com/questions/1484835/find-the-distribution-of-x-y-if-x-and-y-are-i-i-d-uniform-on-0-1)"
   ]
  },
  {
   "cell_type": "markdown",
   "id": "c92c55fe-1b77-447d-bb61-2394d86e2942",
   "metadata": {},
   "source": [
    "$$f_{X,Y}(x,y) = 1 \\quad I(0 \\leq x, y \\leq 1)$$"
   ]
  },
  {
   "cell_type": "markdown",
   "id": "1724e1fb-6ee4-4de1-a523-b28534e83dc7",
   "metadata": {},
   "source": [
    "$X = $ 경계병1이 할당된 위치, $Y = $ 경계병2가 할당된 위치라고 하자.\n",
    "\n",
    "$X \\sim U(0,1),\\quad  Y\\sim U(0,1) $이며 서로 independent 하다."
   ]
  },
  {
   "cell_type": "markdown",
   "id": "203a2c2a-4f87-4032-a6fd-3f11d9e1c422",
   "metadata": {},
   "source": [
    "$Z = |X - Y|, \\space 0\\leq z \\leq 1$라고 할때, $P(Z\\leq 1/2)$ 를 구하면 된다."
   ]
  },
  {
   "cell_type": "markdown",
   "id": "66094705-8ae0-45d7-818e-97a48f481fca",
   "metadata": {},
   "source": [
    "$\\begin{align*}P(Z>z) &= P(|X-Y|>z) \\\\\n",
    "&= P(X-Y>z) + P(X-Y<-z) \\\\\n",
    "&= P(Y<X-z) + P(Y>z+X) \\\\\n",
    "&= \\frac{(1-z)^2}{2} + \\frac{(1-z)^2}{2}\\\\\n",
    "&= (1-z)^2,\\quad 0 \\leq z \\leq 1\\end{align*}$"
   ]
  },
  {
   "attachments": {
    "eb660168-fe81-4b7e-8957-be421d0967db.png": {
     "image/png": "[encoded data removed]"
    }
   },
   "cell_type": "markdown",
   "id": "c97fce9c-9baa-40ed-a6d9-139aa780e9f2",
   "metadata": {},
   "source": [
    "![P(Z>z) 풀이](attachment:eb660168-fe81-4b7e-8957-be421d0967db.png)"
   ]
  },
  {
   "cell_type": "markdown",
   "id": "14e969ce-ebb0-453f-ac9f-350f5e31e376",
   "metadata": {},
   "source": [
    "따라서 $Z$의 cdf는 다음과 같다."
   ]
  },
  {
   "cell_type": "markdown",
   "id": "a28ffed9-ab8c-42f9-94f5-2018bba27410",
   "metadata": {},
   "source": [
    "$\\begin{align*}F_Z(z) &= 1-P(Z>z) \\\\\n",
    "&= 1-(1-z)^2 \\\\\n",
    "&= 1-(1-2z+z^2) = 2z-z^2, \\quad 0\\leq z <1\\end{align*}$"
   ]
  },
  {
   "cell_type": "markdown",
   "id": "ff3e9d04-f8cc-4f4f-8528-0e52c275c0fa",
   "metadata": {},
   "source": [
    "$\\therefore F_Z(1/2) = P(Z\\leq 1/2) = 1-1/4 = 3/4$"
   ]
  },
  {
   "cell_type": "markdown",
   "id": "6138e3f2-bce6-4947-8f88-971c368f8343",
   "metadata": {},
   "source": [
    "## Q5. 변수변환 (기하분포)"
   ]
  },
  {
   "cell_type": "markdown",
   "id": "2abc0970-00c4-4eb6-a6bd-430a3ef638fa",
   "metadata": {},
   "source": [
    "$X$와 $Y$는 서로 독립이고 동일한 기하분포를 따른다고 할 때 다음을 구하시오."
   ]
  },
  {
   "cell_type": "markdown",
   "id": "9cf12691-30cc-478d-83a4-e20bfbb74e92",
   "metadata": {},
   "source": [
    "- $X\\sim Geo(p_1), Y\\sim Geo(p_2)$ 이며 서로 independent하다. 서로 동일한 기하분포를 따른다고 했으므로 여기서는 $p_1= p_2 = p$이다.\n",
    "\n",
    "- $\\text{pmf} : f(k) = (1-p)^{k-1}p, \\quad k=1,2,\\dots$"
   ]
  },
  {
   "cell_type": "markdown",
   "id": "e811f720-945e-4feb-a1ad-c202a0934991",
   "metadata": {},
   "source": [
    "***<font color='red'>풀수 있는 방식은 1)누적분포접근법 2) 변수변환접근법 이 있지만, 지금 푼 방식은 쉽긴하지만 확장하기 어렵다. --</font>***"
   ]
  },
  {
   "cell_type": "markdown",
   "id": "b78dae0e-447f-448e-a9e6-8eefaabcce83",
   "metadata": {},
   "source": [
    "$\\begin{align*}P(X=Y) =\\underset{x=y}{\\sum\\sum} f_{X,Y}(x,y) &= \\underset{\\begin{pmatrix} x=y \\\\ x=1,2,\\dots \\\\ y=1,2,\\dots\\end{pmatrix}}{\\sum\\sum} p^2(1-p)^{x+y-2} \\\\\n",
    "&\\overset{\\text{X=Y}}{=}\\sum_{k=1}^\\infty p^2(1-p)^{2k-2}=\\sum_{k=1}^\\infty p^2(1-p)^{2(k-1)} \\\\\n",
    "&= \\frac{}{}\\end{align*}$"
   ]
  },
  {
   "cell_type": "markdown",
   "id": "2884f382-2bd2-4f9d-a026-acc7bb86d7c6",
   "metadata": {},
   "source": [
    "### (1) $P(X=Y)$"
   ]
  },
  {
   "cell_type": "markdown",
   "id": "915a3939-3861-433a-8ab6-4d1552157987",
   "metadata": {},
   "source": [
    "> ref: [If Two Independent Geometric Random Variables are equal](https://math.stackexchange.com/questions/3126349/if-two-independent-geometric-random-variables-are-equal?rq=1)"
   ]
  },
  {
   "cell_type": "markdown",
   "id": "cf0a902a-67c2-4851-859d-c0ec4bf83c90",
   "metadata": {},
   "source": [
    "$\\begin{align*}P(X=Y) &= P\\left(\\bigcup_{x=1}^\\infty \\{X=Y, X=k\\}\\right) \\\\\n",
    "&=\\sum_{k=1}^\\infty P(X=Y, X=k) \\\\\n",
    "&= \\sum_{k=1}^\\infty P(X=k)P(Y=k) \\\\\n",
    "&= \\sum_{k=1}^\\infty (1-p_1)^{k-1}p_1(1-p_2)^{k-1}p_2 \\\\\n",
    "&= p_1p_2\\sum_{k=0}^\\infty\\{(1-p_1)(1-p_2)\\}^k \\\\\n",
    "&= \\frac{p_1p_2}{1-(1-p_1)(1-p_2)}, \\quad 0\\leq p_1,p_2 \\leq 1\\end{align*}$"
   ]
  },
  {
   "cell_type": "markdown",
   "id": "48ec8bbf-c24c-4067-b130-6ddb469dc2f6",
   "metadata": {},
   "source": [
    "동일한 기하분포를 따른다고 했으므로 다시 정리하면,"
   ]
  },
  {
   "cell_type": "markdown",
   "id": "7219e0de-865d-41be-9e62-576dd547116e",
   "metadata": {},
   "source": [
    "$$P(X=Y) = \\frac{p^2}{1-(1-p)^2}=\\frac{p}{2-p}, \\quad 0\\leq p \\leq 1$$"
   ]
  },
  {
   "cell_type": "markdown",
   "id": "6d349246-f41e-48f5-972b-6993f8366829",
   "metadata": {},
   "source": [
    "### (2) $P(X-Y = 1)$"
   ]
  },
  {
   "cell_type": "markdown",
   "id": "1040d612-5601-49a3-8b6f-3f8cdaf55204",
   "metadata": {},
   "source": [
    "> ref: [Distribution of X-Y when X and Y are independent geometric](https://math.stackexchange.com/questions/3004536/distribution-of-x-y-when-x-and-y-are-independent-geometric)"
   ]
  },
  {
   "cell_type": "markdown",
   "id": "69d91b7e-d03f-4ca8-93a9-1c4c12d78357",
   "metadata": {},
   "source": [
    "$\\begin{align*}P(X-Y=1) &= \\sum_{k=1}^\\infty P(Y=k,X=1+k) \\\\\n",
    "&=\\sum_{k=1}^\\infty P(Y=k)P(X=1+k) \\\\\n",
    "&= \\sum_{k=1}^\\infty (1-p)^{k-1}p(1-p)^{1+k-1}p \\\\\n",
    "&= p^2\\sum_{k=1}^\\infty (1-p)^{2k-1} \\\\\n",
    "&= \\frac{p^2(1-p)}{1-(1-p)^{2}}=\\frac{p^2(1-p)}{p(2-p)}=\\frac{p(1-p)}{2-p}\\end{align*}$"
   ]
  },
  {
   "cell_type": "markdown",
   "id": "83a08eaa-412b-49ab-a660-a0bc001383a5",
   "metadata": {},
   "source": [
    "### (3) $U = X-Y$라고 할 때 $U$의 확률밀도함수 - **u가 음수일때 주의**"
   ]
  },
  {
   "cell_type": "markdown",
   "id": "04192b7b-7659-4b18-976b-54cac3817136",
   "metadata": {},
   "source": [
    "> ref:[ Independence of min(X,Y) and X-Y for two Geometric rvs](https://www.youtube.com/watch?v=V1EyqL1cqTE)"
   ]
  },
  {
   "cell_type": "markdown",
   "id": "c425f147-3574-48f5-94de-8f5a41ef4330",
   "metadata": {},
   "source": [
    "`case1` : $X-Y\\geq 0, u\\geq 0$"
   ]
  },
  {
   "cell_type": "markdown",
   "id": "027efd4c-2dc8-4efa-af0e-250e9b26895d",
   "metadata": {},
   "source": [
    "$\\begin{align*}P(U=u, u\\geq 0) &= P(X-Y=u, u\\geq 0) \\\\\n",
    "&= \\sum_{k=1}^\\infty P(Y=k, X=u+k) \\\\\n",
    "&=\\sum_{k=1}^\\infty P(Y=k)P(X=u+k) \\\\\n",
    "&= \\sum_{k=1}^\\infty (1-p)^{k-1}p(1-p)^{u+k-1}p \\\\\n",
    "&= p^2(1-p)^u\\sum_{k=1}^\\infty (1-p)^{k-1}(1-p)^{k-1}\\\\\n",
    "&= p^2(1-p)^u\\sum_{k=1}^\\infty ((1-p)^{2})^{k-1} \\\\\n",
    "&= \\frac{p^2(1-p)^u}{p(2-p)}=\\frac{p(1-p)^u}{2-p}\\end{align*}$ $\\to$ <font color='blue'>**OK**</font>"
   ]
  },
  {
   "cell_type": "markdown",
   "id": "fd7feb80-84ed-4645-ba7d-b404b23e7f28",
   "metadata": {},
   "source": [
    "`case2` : $X-Y<0, u\\leq 0$"
   ]
  },
  {
   "cell_type": "markdown",
   "id": "48f3c52a-737c-475a-bb07-27bf170429ad",
   "metadata": {},
   "source": [
    "$\\begin{align*}P(U=u, u\\leq 0) &= P(X-Y=u, u\\leq 0) \\\\\n",
    "&= \\sum_{k=1}^\\infty P(X=k, Y=k-u) \\\\\n",
    "&=\\sum_{k=1}^\\infty P(X=k)P(Y=k-u) \\\\\n",
    "&= \\frac{p^2(1-p)^{-u}}{p(2-p)}=\\frac{p}{(1-p)^u(2-p)}\\end{align*}$ $\\to$ <font color='red'> **Try again!** </font>"
   ]
  },
  {
   "cell_type": "markdown",
   "id": "0abe37d5-1083-473d-9740-9f5ae61a4f31",
   "metadata": {},
   "source": [
    "$P(U=u) =\n",
    "\\begin{cases}\n",
    " P(X=k+u, Y=k)= \\frac{p(1-p)^u}{2-p} & \\text{ if } u \\geq 0 \\\\\n",
    " P(X=k, Y=k-u) = \\frac{p}{(1-p)^u(2-p)} & \\text{ if } u < 0 \n",
    "\\end{cases}$"
   ]
  },
  {
   "cell_type": "markdown",
   "id": "a1b3fab6-e24e-4f46-a598-9ebd3a0885b3",
   "metadata": {},
   "source": [
    "<font color='red'> ***수업시간 풀이***  -- $u$가 음수일 때 주의하자. </font>"
   ]
  },
  {
   "cell_type": "markdown",
   "id": "444f9210-9146-410b-bf8f-f4b9e4ef44c0",
   "metadata": {},
   "source": [
    "`case2`번 부분에서 먼저 내가 푼 방식으로 다시 풀어보자."
   ]
  },
  {
   "cell_type": "markdown",
   "id": "b94a0cf7-1a29-4ea7-99ea-925e56d7927a",
   "metadata": {},
   "source": [
    "$u$가 음수일때는 제약조건이 하나 더 붙는다. $x-y=u \\to x=y+u$ 만약 $u$가 엄청나게 작은 음수가 된다면 $x$가 음수가 되버리는데 $x$는 음수일 수가 없다. 따라서 $y+u\\geq 1$ 이라는 제약조건이 필요하다."
   ]
  },
  {
   "cell_type": "markdown",
   "id": "89e1f4b3-311c-43a3-bb0b-873bafb4e182",
   "metadata": {},
   "source": []
  },
  {
   "cell_type": "markdown",
   "id": "30ba7925-5a67-4f78-b325-94c63b36b518",
   "metadata": {},
   "source": [
    "## Q6. 베타분포 (잘 모르겠음..)"
   ]
  },
  {
   "cell_type": "markdown",
   "id": "0dd492ad-87db-4be9-8a77-dfa63d87af3a",
   "metadata": {},
   "source": [
    "어떤 합성물의 알코올 비율 $Y$는 다음 확률밀도함수를 따르는 확률변수라고 하자."
   ]
  },
  {
   "cell_type": "markdown",
   "id": "1eed267b-b48b-4659-b17c-389c8053e1e0",
   "metadata": {},
   "source": [
    "$$f(y) = 20y^3(1-y)I(0<y<1)$$"
   ]
  },
  {
   "cell_type": "markdown",
   "id": "78cad54f-9505-4b64-94de-1939ec769184",
   "metadata": {},
   "source": [
    "그 합성물의 판매가는 알코올 함량에 따라 결정된다고 한다. $1/3 < y < 2/3$이면 1갤런 당 $C_1$달러, 그렇지 않으면 $C_2$ 달러에 판매된다. 생산비가 갤런 당 $C_3$ 달러라면, 갤런당 판매수익의 확률분포를 구하시오."
   ]
  },
  {
   "cell_type": "markdown",
   "id": "4ae06824-ea25-42c2-bbdb-7d549b9f3fdb",
   "metadata": {},
   "source": [
    "`sol` <font color='red'> ***수업시간 풀이*** </font>"
   ]
  },
  {
   "cell_type": "markdown",
   "id": "d29f40f3-8ecb-43bf-bfc7-b0c70e46622a",
   "metadata": {},
   "source": [
    "$Y \\sim \\text{Beta}(4,2)$"
   ]
  },
  {
   "cell_type": "markdown",
   "id": "063818c9-dba5-45b7-9f69-75cbafcd78dd",
   "metadata": {},
   "source": [
    "$X=$판매수익 이라 놓자."
   ]
  },
  {
   "cell_type": "markdown",
   "id": "7380dfe7-e23b-45db-bbdc-ad56ab800f74",
   "metadata": {},
   "source": [
    "$X = (C_1-C_3)I(1/3<y<2/3) + (C_2-C_3)I(Y\\leq 1/3 \\text{ or } Y\\geq 2/3)$"
   ]
  },
  {
   "cell_type": "markdown",
   "id": "5fd35378-7d7f-407b-ac18-3f92dbafe3ec",
   "metadata": {},
   "source": [
    "$\\Rightarrow \\begin{cases} C_1-C_3 & ,1/3<Y<2/3 \\\\\n",
    "C_2-C_3 &, o.w\\end{cases}$"
   ]
  },
  {
   "cell_type": "markdown",
   "id": "f16ae7e2-bfb0-418f-8a05-b97b8150e5ec",
   "metadata": {},
   "source": [
    "갤런당 판매수익의 확률분포는 다음과 같다."
   ]
  },
  {
   "cell_type": "markdown",
   "id": "4b018fc4-0cdc-4baf-b27d-3fc630c19ee0",
   "metadata": {},
   "source": [
    "$\\Rightarrow \\begin{cases} P(X=C_1-C_3) = P(1/3<Y<2/3) = \\frac{101}{243} \\\\\n",
    "P(X=C_2-C_3) = 1-P(1/3<Y<2/3)=1-\\frac{101}{243}=\\frac{142}{243}\\end{cases}$"
   ]
  },
  {
   "cell_type": "markdown",
   "id": "463841c3-611f-4010-b718-e499bc312ee6",
   "metadata": {},
   "source": [
    "$\\begin{align*}P(1/3 < Y < 2/3) &= \\int_{1/3}^{2/3} 20y^3(1-y)I(0<y<1) \\\\\n",
    "&= 20\\int_{1/3}^{2/3} (y^3-y^4)\\\\\n",
    "&=20\\left(\\frac{1}{4}y^4 -\\frac{1}{5}y^5\\right)\\biggr\\rvert_{1/3}^{2/3} \\\\\n",
    "&=\\frac{101}{243}\\end{align*}$"
   ]
  },
  {
   "cell_type": "markdown",
   "id": "da79f895-04c3-4024-8fb6-84c011d812a5",
   "metadata": {},
   "source": [
    "(검산)"
   ]
  },
  {
   "cell_type": "code",
   "execution_count": 41,
   "id": "3de26f68-3c1f-4c41-8376-54eb1821b105",
   "metadata": {},
   "outputs": [
    {
     "data": {
      "text/plain": [
       "0.4156378600823045"
      ]
     },
     "execution_count": 41,
     "metadata": {},
     "output_type": "execute_result"
    }
   ],
   "source": [
    "(1/4*((2/3)**4)-(1/5)*((2/3)**5) - ( ((1/4)*((1/3)**4)-(1/5)*((1/3)**5)))) * 20"
   ]
  },
  {
   "cell_type": "code",
   "execution_count": 40,
   "id": "5524e901-30e5-4db4-975a-9c53f9129271",
   "metadata": {},
   "outputs": [
    {
     "data": {
      "text/plain": [
       "0.4156378600823045"
      ]
     },
     "execution_count": 40,
     "metadata": {},
     "output_type": "execute_result"
    }
   ],
   "source": [
    "101/243"
   ]
  }
 ],
 "metadata": {
  "kernelspec": {
   "display_name": "Python 3",
   "language": "python",
   "name": "python3"
  },
  "language_info": {
   "codemirror_mode": {
    "name": "ipython",
    "version": 3
   },
   "file_extension": ".py",
   "mimetype": "text/x-python",
   "name": "python",
   "nbconvert_exporter": "python",
   "pygments_lexer": "ipython3",
   "version": "3.8.16"
  }
 },
 "nbformat": 4,
 "nbformat_minor": 5
}
