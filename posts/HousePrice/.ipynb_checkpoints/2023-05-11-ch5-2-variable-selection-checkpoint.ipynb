{
 "cells": [
  {
   "cell_type": "raw",
   "id": "a5529d67-94a8-4825-9224-0966f35324c5",
   "metadata": {},
   "source": [
    "---\n",
    "title: \"05. 변수선택\" \n",
    "author: \"JiyunLim\"\n",
    "date: \"05/03/2023\"\n",
    "categories:\n",
    "  - LR\n",
    "---"
   ]
  },
  {
   "cell_type": "markdown",
   "id": "fc4b1473-8d5b-4dc9-9e67-484bd4af44de",
   "metadata": {},
   "source": [
    "## Criteria for variable selection"
   ]
  },
  {
   "cell_type": "markdown",
   "id": "57f698ba-7d19-42ee-b892-6a4c590a7234",
   "metadata": {},
   "source": [
    "- 잔차평균제곱 (residual mean square)\n",
    "$$MSE_p = \\frac{SSE_p}{n-p-1}$$\n",
    "- 결정계수 (coefficient of determination)\n",
    "$$R_p^2 = 1-\\frac{SSE_p}{SST}$$\n",
    "\n",
    "- 수정된 결정계수 (adjusted coefficient of determinant)\n",
    "$$ R^2_{Adj,p} = 1-\\left(\\frac{n-1}{n-p-1}\\right)(1-R_p^2)$$\n",
    "- 총제곱오차 (total squared error)\n",
    "$$ C_p = \\frac{SSE_p}{\\hat{\\sigma}^2} + 2(p+1) - n$$"
   ]
  },
  {
   "cell_type": "markdown",
   "id": "8572ecd5-01aa-46cf-addb-6d9d9543763f",
   "metadata": {},
   "source": [
    "### Information Criterion"
   ]
  },
  {
   "cell_type": "markdown",
   "id": "9a8da9c0-2c24-41db-83d1-c9dada0baa6c",
   "metadata": {},
   "source": [
    "- Akaike Information Criterion (AIC; 1974)\n",
    "$$AIC = n\\ln\\frac{SSE_p}{n} + 2p$$\n",
    "\n",
    "- Bayesain Information Criterion (BIC; 1978)\n",
    "$$BIC = n\\ln\\frac{SSE_p}{n} + p\\ln(n)$$"
   ]
  },
  {
   "cell_type": "markdown",
   "id": "a5fbf9bf-1fd3-4281-a292-3b836c44be73",
   "metadata": {},
   "source": [
    "### Mallow's $C_p$"
   ]
  },
  {
   "cell_type": "markdown",
   "id": "ba8e268c-4b97-4eb2-8bdf-7936c0912d37",
   "metadata": {},
   "source": [
    "$$C_p = \\frac{SSE_p}{\\hat{\\sigma}^2}+2(p+1) - n$$"
   ]
  }
 ],
 "metadata": {
  "kernelspec": {
   "display_name": "R",
   "language": "R",
   "name": "ir"
  },
  "language_info": {
   "codemirror_mode": "r",
   "file_extension": ".r",
   "mimetype": "text/x-r-source",
   "name": "R",
   "pygments_lexer": "r",
   "version": "4.2.2"
  }
 },
 "nbformat": 4,
 "nbformat_minor": 5
}
