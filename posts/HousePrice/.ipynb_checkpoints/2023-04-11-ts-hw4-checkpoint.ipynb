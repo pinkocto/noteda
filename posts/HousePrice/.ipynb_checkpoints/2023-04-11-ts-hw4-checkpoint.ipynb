{
 "cells": [
  {
   "cell_type": "raw",
   "id": "a585914a-d5f9-45b7-8d8c-afad5a3e4b40",
   "metadata": {},
   "source": [
    "---\n",
    "title: \"TS HW4\"\n",
    "author: \"JiyunLim\"\n",
    "date: \"04/11/2023\"\n",
    "categories:\n",
    "  - ST2023\n",
    "---"
   ]
  },
  {
   "cell_type": "markdown",
   "id": "319ca94d-cf55-4b37-993d-9d42475a1637",
   "metadata": {},
   "source": [
    "-- 피드백 추가 (이항정리와 일반화된 이항정리)--"
   ]
  },
  {
   "cell_type": "markdown",
   "id": "18bc3af3-921c-4317-bf78-c78176b643aa",
   "metadata": {},
   "source": [
    "## 00. 이항정리"
   ]
  },
  {
   "cell_type": "markdown",
   "id": "07a8d8d4-c974-43b2-a3c4-1bed2f4b63e6",
   "metadata": {},
   "source": [
    "$(x+y)^n = \\sum_{k=0}^n\\binom{n}{k}x^ky^{n-k}$"
   ]
  },
  {
   "cell_type": "markdown",
   "id": "9675298e-abda-4610-98eb-77713da51d4d",
   "metadata": {},
   "source": [
    "## 00. 일반화된 이항정리\n",
    "\n",
    "사실 음이항정리라는 것은 따로 없다. 일반화된 이항정리에서 이항계수가 음수인 케이스이다."
   ]
  },
  {
   "cell_type": "markdown",
   "id": "2dcaf2c8-6dce-4ca9-b1fd-02a18c6e7181",
   "metadata": {},
   "source": [
    "$(1+x)^a = \\sum_{k=0}^\\infty \\binom{a}{k}x^k, \\quad a\\in \\mathbb{R}, -1<X<1$"
   ]
  },
  {
   "cell_type": "code",
   "execution_count": null,
   "id": "12789e00-ba84-425a-a4c4-759b1f14d109",
   "metadata": {},
   "outputs": [],
   "source": []
  },
  {
   "cell_type": "markdown",
   "id": "410c324d-d3ee-4f68-9b00-ce3371eaac6d",
   "metadata": {},
   "source": [
    "----"
   ]
  },
  {
   "cell_type": "markdown",
   "id": "7386ea99-8fe4-4d57-a714-22150b5587ec",
   "metadata": {},
   "source": [
    "## Q1. 음이항분포"
   ]
  },
  {
   "cell_type": "markdown",
   "id": "2352646d-5645-4bbb-9d82-72ef401a4865",
   "metadata": {},
   "source": [
    "음이항분포 $NB(r,p)$의 확률밀도함수 $f(x)$가 $\\sum_{x=r}^\\infty f(x)=1$을 만족함을 음이항정리를 이용하여 증명하시오."
   ]
  },
  {
   "cell_type": "markdown",
   "id": "b9b0331b-1010-4dc5-8630-f8807ee27235",
   "metadata": {},
   "source": [
    "## Q2. 음이항분포의 mgf"
   ]
  },
  {
   "cell_type": "markdown",
   "id": "90da7833-ad7d-4015-a099-46ef2b173d9a",
   "metadata": {},
   "source": [
    "음이항분포 $NB(r,p)$의 적률생성함수를 구하시오."
   ]
  },
  {
   "cell_type": "markdown",
   "id": "aa21b7bf-4796-4143-9045-27f932e74a4d",
   "metadata": {},
   "source": [
    "## Q3. 베타분포의 $k$차 적률"
   ]
  },
  {
   "cell_type": "markdown",
   "id": "b514429f-e523-4faa-8455-c1c49967bb08",
   "metadata": {},
   "source": [
    "베타분포 $BETA(a,b)$의 $k$차적률이 $E(X^k) = \\frac{\\Gamma(a+k)\\Gamma(a+b)}{\\Gamma(a)\\Gamma(a+b+k)}$임을 보이시오."
   ]
  },
  {
   "cell_type": "markdown",
   "id": "aaa3a52d-550d-4166-922d-6ece0b34f258",
   "metadata": {},
   "source": [
    "## Q4. 감마분포의 평균과 분산"
   ]
  },
  {
   "cell_type": "markdown",
   "id": "87d6eeb5-0dd6-475a-b94a-724579a7c499",
   "metadata": {},
   "source": [
    "감마분포 $GAM(\\alpha, \\beta)$이 평균과 분산의 기댓값 정의를 이용하여 구하시오."
   ]
  },
  {
   "cell_type": "markdown",
   "id": "02ea20a9-a7f9-4408-9b86-8e1ef85b2109",
   "metadata": {},
   "source": [
    "## Q5. 정규분포의 mgf"
   ]
  },
  {
   "cell_type": "markdown",
   "id": "9fd734c6-b642-4673-a74f-47b2d5f091ce",
   "metadata": {},
   "source": [
    "정규분포  $N(\\mu, \\sigma^2)$의 적률생성함수를 구하시오."
   ]
  },
  {
   "cell_type": "markdown",
   "id": "fd772f0e-d30b-48e3-bb59-7a973da0c2ff",
   "metadata": {},
   "source": [
    "## Q6. 다변량정규분포의 pdf"
   ]
  },
  {
   "cell_type": "markdown",
   "id": "2d3e25df-0c18-4434-b264-ae20a03db3d1",
   "metadata": {},
   "source": [
    "이변량정규분포 $BVN(\\mu_X,\\mu_Y, \\sigma_X, \\sigma_Y,\\rho)$를 따르는 확률벡터 $(X,Y)$의 확률밀도함수를 다변량 정규분포의 확률밀도함수의 2차원형임을 이용하여 구하시오."
   ]
  },
  {
   "cell_type": "markdown",
   "id": "55ec41c2-df34-4863-ac6d-bb9fe9c5f3ce",
   "metadata": {},
   "source": [
    "## Q7. 이변량정규분포 marginal pdf"
   ]
  },
  {
   "cell_type": "markdown",
   "id": "83be6ca8-3bb4-41fe-8cd1-3a40f33435f1",
   "metadata": {},
   "source": [
    "이변량정규분포 $BVN(\\mu_X,\\mu_Y, \\sigma_X, \\sigma_Y,\\rho)$의 확률밀도함수로부터 $X$의 주변확률밀도함수를 구하시오."
   ]
  },
  {
   "cell_type": "markdown",
   "id": "9c22c471-d97f-4376-8185-e87c023c36f8",
   "metadata": {},
   "source": [
    "## Q8. 다항분포 공분산"
   ]
  },
  {
   "cell_type": "markdown",
   "id": "18f31ba5-244c-477f-8671-a5856094101d",
   "metadata": {},
   "source": [
    "$(X_1, X_2, X_3) \\sim MULT(n,p_1,p_2,p_3)$일 때 $Cov(X_1, X_2)$를 구하시오"
   ]
  }
 ],
 "metadata": {
  "kernelspec": {
   "display_name": "Python 3",
   "language": "python",
   "name": "python3"
  },
  "language_info": {
   "codemirror_mode": {
    "name": "ipython",
    "version": 3
   },
   "file_extension": ".py",
   "mimetype": "text/x-python",
   "name": "python",
   "nbconvert_exporter": "python",
   "pygments_lexer": "ipython3",
   "version": "3.8.16"
  }
 },
 "nbformat": 4,
 "nbformat_minor": 5
}
