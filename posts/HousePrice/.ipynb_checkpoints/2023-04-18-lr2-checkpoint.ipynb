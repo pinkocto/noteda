{
 "cells": [
  {
   "cell_type": "raw",
   "id": "347147d8-5901-4801-9031-74448197ba75",
   "metadata": {},
   "source": [
    "---\n",
    "title: \" **[SOLAR]** STGCN Ver2 수정본 (MSE: 0.1635)\"\n",
    "author: \"jiyunLim\"\n",
    "date: \"04/15/2023\"\n",
    "categories:\n",
    "  - Research\n",
    "  - STGCN\n",
    "  - SOLAR\n",
    "---"
   ]
  },
  {
   "cell_type": "markdown",
   "id": "5a868398-a08d-4a65-8089-ca335e72e238",
   "metadata": {},
   "source": [
    "## Q1."
   ]
  },
  {
   "cell_type": "markdown",
   "id": "d1b132bc-1f18-4a71-9209-b630e2bc81d1",
   "metadata": {},
   "source": [
    "`dt.csv` 데이터를 이용하여 회귀모형을 적합하려고 한다. 이는 매장별 유아 카시트 판매액(Sales)를 예측하기 위한 데이터이다. 다음 물음에 답하여라. (검정에서 유의수준 $\\alpha=0.05\\%$ 사용)"
   ]
  },
  {
   "cell_type": "markdown",
   "id": "8f9685ec-5d4f-49ee-9eed-72860fa8fce4",
   "metadata": {},
   "source": [
    "### (1) 이 데이터의 산점도 행렬을 그리시오."
   ]
  },
  {
   "cell_type": "markdown",
   "id": "f75eccd4-dce1-4d73-abba-e14df2566a72",
   "metadata": {},
   "source": [
    "### (2) Sales를 예측하기 위한 중회귀분석을 하려고 한다. 이를 위한 모형을 설정하시오."
   ]
  },
  {
   "cell_type": "markdown",
   "id": "16e824d7-44a7-442d-995c-94c80e8a175b",
   "metadata": {},
   "source": [
    "### (3) 최소제곱법에 의한 회귀직선을 적합시키고, 모형 적합 결과를 설명하시오."
   ]
  },
  {
   "cell_type": "code",
   "execution_count": null,
   "id": "0a72590b-41ca-458e-ac67-b8c3d2d18193",
   "metadata": {},
   "outputs": [],
   "source": []
  }
 ],
 "metadata": {
  "kernelspec": {
   "display_name": "R",
   "language": "R",
   "name": "ir"
  },
  "language_info": {
   "codemirror_mode": "r",
   "file_extension": ".r",
   "mimetype": "text/x-r-source",
   "name": "R",
   "pygments_lexer": "r",
   "version": "4.2.2"
  }
 },
 "nbformat": 4,
 "nbformat_minor": 5
}
