{
 "cells": [
  {
   "cell_type": "raw",
   "id": "9fc6f9b2-888a-46ee-839b-1ead569c7318",
   "metadata": {},
   "source": [
    "---\n",
    "title: \"TS HW6\"\n",
    "author: \"JiyunLim\"\n",
    "date: \"05/02/2023\"\n",
    "categories:\n",
    "  - ST2023\n",
    "---"
   ]
  },
  {
   "cell_type": "markdown",
   "id": "e6953f3a-a300-4b22-867d-9c17b60cfc9e",
   "metadata": {},
   "source": [
    "# 수리통계학1 중간고사"
   ]
  },
  {
   "cell_type": "markdown",
   "id": "22acda04-0d64-414e-94ce-cfbb43678b19",
   "metadata": {},
   "source": [
    "## 1. 다음에 답하시오."
   ]
  },
  {
   "cell_type": "markdown",
   "id": "00b9518a-98e1-434c-aa3f-9c1a9291a958",
   "metadata": {},
   "source": [
    "### (a) 사건 $A$와 $B$가 상호배반일 때 $P(A|A\\cup B) = \\frac{P(A)}{P(A)+P(B)}$ 임을 보이시오."
   ]
  },
  {
   "cell_type": "markdown",
   "id": "11a367b9-e6ab-46e6-94b7-d6c87c29f2b3",
   "metadata": {},
   "source": [
    "`*` 동일 표본공간 $S$ 상에 정의된 두 사건 $A$, $B$가 공통된 부분이 없을 때, 즉 $A\\cap B = \\varnothing$ 이면 두 사건 $A, B$ 는 상호배반(mutually exclusive) 이라고 한다.\n",
    "\n",
    "`*` 공리에 근거한 확률의 성질에 따라 $P(\\varnothing) = 0$ 이다."
   ]
  },
  {
   "cell_type": "markdown",
   "id": "0245ea33-aacf-4bf4-9bdd-2bb1394b063a",
   "metadata": {},
   "source": [
    "$P(A\\cup B) = P(A) + P(B) - P(A\\cap B) \\\\\n",
    "\\qquad \\quad \\space \\space = P(A) + P(B)$"
   ]
  },
  {
   "cell_type": "markdown",
   "id": "a93ea0b4-6a47-4672-b702-fdcfffe1a911",
   "metadata": {},
   "source": [
    "$P(A\\cap (A\\cup B)) = P((A\\cap A) \\cup (A\\cap B)) = P(A\\cup \\varnothing) = P(A)$"
   ]
  },
  {
   "cell_type": "markdown",
   "id": "e98aad51-9dbf-4482-8384-7d470195ca58",
   "metadata": {},
   "source": [
    "따라서 $P(A|A\\cup B) = \\frac{P\\left(A\\cap (A\\cup B)\\right)}{P(A\\cup B)} = \\frac{P(A)}{P(A) + P(B)}$ 이다."
   ]
  },
  {
   "cell_type": "markdown",
   "id": "bd7cf081-5f17-48f5-b0dc-a0e068470d35",
   "metadata": {},
   "source": [
    "### (b) $A\\cup B = S$이고 $P(A) = 0.8 , P(B) = 0.5$ 일 때 $P(A\\cap B)$를 구하시오."
   ]
  },
  {
   "cell_type": "markdown",
   "id": "0ef186cf-bc6a-4359-911e-02598dbcfa0a",
   "metadata": {},
   "source": [
    "$P(S) = P(A\\cup B) = P(A)+P(B)-P(A\\cap B)=1 \\\\ \\quad \\quad = 0.8+0.5-P(A\\cap B)=1 \\\\ \\therefore P(A\\cap B)=0.3$"
   ]
  },
  {
   "cell_type": "markdown",
   "id": "c385362e-3a45-4a50-8e8f-fec767cfcfad",
   "metadata": {},
   "source": [
    "### (c) $P(A|B)  = P(A|B^c)$이면 사건 $A$와 $B$는 서로 독립임을 보이시오."
   ]
  },
  {
   "cell_type": "markdown",
   "id": "95ff6f01-231f-4e14-bec8-5c64a7dd205a",
   "metadata": {},
   "source": [
    "두 사건 $A$, $B$ 에 대하여 $P(A \\cap B) = P(A)P(B)$ 가 성립할 때 서로 **독립** 이라고 한다."
   ]
  },
  {
   "cell_type": "markdown",
   "id": "c5fccdba-039e-4757-82d1-3fc2e62f06d6",
   "metadata": {},
   "source": [
    "`*` $P(A|B) = \\frac{P(A\\cap B)}{P(B)}$\n",
    "\n",
    "`*` $P(A|B^c) = \\frac{P(A\\cap B^c)}{P(B^c)} = \\frac{P(A) - P(A\\cap B)}{1-P(B)}$"
   ]
  },
  {
   "cell_type": "markdown",
   "id": "8131b6a1-821b-4ded-a563-78072734fa0e",
   "metadata": {},
   "source": [
    "`**` $\\frac{P(A\\cap B)}{P(B)} =\\frac{P(A) - P(A\\cap B)}{1-P(B)} $"
   ]
  },
  {
   "cell_type": "markdown",
   "id": "e23918b3-9329-4f34-8425-3529883791b3",
   "metadata": {},
   "source": [
    "$P(A\\cap B)\\left[1-P(B)\\right] = P(B)\\left[P(A) - P(A\\cap B)\\right]$"
   ]
  },
  {
   "cell_type": "markdown",
   "id": "0077d48e-2deb-4fe8-bc7d-c85cfb96c528",
   "metadata": {},
   "source": [
    "$P(A\\cap B) - P(B)P(A\\cap B) = P(A)P(B) - P(B)P(A\\cap B)$"
   ]
  },
  {
   "cell_type": "markdown",
   "id": "4ebca3d7-ed89-444c-987d-2a26d331707f",
   "metadata": {},
   "source": [
    "$P(A\\cap B) = P(A)P(B)$ 이므로, 두 사건 $A,B$ 는 서로 독립이다."
   ]
  },
  {
   "cell_type": "markdown",
   "id": "fd15c018-bc62-499e-9db9-27e2bb08dad5",
   "metadata": {},
   "source": [
    "## 2. 앞면이 나올 확률이 $0.2$인 동전을 두 번 앞 면이 나올 때까지 던지는 실험을 하고 있다. 이 실험에서 뒷면이 나온 횟수를 $X$라고 하자. 다음에 답하시오."
   ]
  },
  {
   "cell_type": "markdown",
   "id": "2b9fc063-a4e9-40a7-a7c0-0a9487d0c6e2",
   "metadata": {},
   "source": [
    "- $X$ = 뒷면이 나오는 횟수\n",
    "- $P(H) = 0.2$, $\\quad H$: 앞면, $T$: 뒷면"
   ]
  },
  {
   "cell_type": "markdown",
   "id": "bd1690fb-3bd7-4188-8b73-1536c9fc9fbd",
   "metadata": {},
   "source": [
    "### (a) $X$가 $1$의 값을 가지는 사건을 실험 결과들의 집합으로 기술하시오. (단, 앞면은 $H$, 뒷면은 $T$로 나타내시오.)"
   ]
  },
  {
   "cell_type": "markdown",
   "id": "1fc81c5d-d4dd-487d-aabe-ca3e597331e4",
   "metadata": {},
   "source": [
    "$\\{X=1\\} = \\{THH, HTH, HHT\\}$"
   ]
  },
  {
   "cell_type": "markdown",
   "id": "3aff2306-38a9-46cf-a02f-2bab44172727",
   "metadata": {},
   "source": [
    "### (b) $X$의 확률밀도함수 $f_X(x)$를 구하시오. \n",
    "\n",
    "> 주의: $x$의 범위도 구체적으로 기술."
   ]
  },
  {
   "cell_type": "markdown",
   "id": "8c4a7ba8-da4f-4d47-93b0-e9bfab5466cb",
   "metadata": {},
   "source": [
    "$Y=2+X$ 라 하면, 앞면이 2번 나올 때까지 동전을 던진 횟수가 된다. 그러므로 $Y\\sim \\text{NB}\\left(2,0.2\\right)$이다."
   ]
  },
  {
   "cell_type": "markdown",
   "id": "0812450e-c439-402f-946e-802f7a44257e",
   "metadata": {},
   "source": [
    "$X$의 pmf는 다음과 같다."
   ]
  },
  {
   "cell_type": "markdown",
   "id": "e6a454d3-6cc9-46ce-af93-6d84d6dea5d3",
   "metadata": {},
   "source": [
    "$\\begin{equation}\\begin{split}f_X(x) &= P(X=x) = P(Y=2+x) = f_Y(2+x)\\\\\n",
    "&=\\binom{2+x-1}{2-1}(0.2)^2(0.8)^x, x=0,1,\\dots \\\\\n",
    "&=\\binom{1+x}{1}(0.2)^2(0.8)^x, x=0,1\\dots\\end{split}\\end{equation}$"
   ]
  },
  {
   "cell_type": "markdown",
   "id": "72bea332-19fd-4001-9c14-a657ad67027c",
   "metadata": {},
   "source": [
    "## 3. 서로 독립인 확률변수 $Y_1, Y_2, Y_3$의 평균과 분산은 다음과 같다고 한다."
   ]
  },
  {
   "cell_type": "markdown",
   "id": "7de3dc0d-c3ad-4fa7-8d1f-887512aa522e",
   "metadata": {},
   "source": [
    "$$E(Y_k) = -2 + k, \\quad Var(Y_k) = 4, k=1,2,3$$"
   ]
  },
  {
   "cell_type": "markdown",
   "id": "c71211bb-5aeb-4bfa-be1b-c76d99d38e9c",
   "metadata": {},
   "source": [
    "- $E(Y_1) = -1, E(Y_2) = 0, E(Y_3)=1$\n",
    "- $Var(Y_1) = Var(Y_2) = Var(Y_3) = 4$\n",
    "- $Cov(Y_1, Y_2) = 0, Cov(Y_1,Y_3) = 0, Cov(Y_2,Y_3)=0$ ($Y_i$ 가 서로 독립이므로)"
   ]
  },
  {
   "cell_type": "markdown",
   "id": "962e9f88-a516-4837-afdc-689c1af6cba8",
   "metadata": {},
   "source": [
    "### (a) $E[(Y_2)^2]$을 구하시오."
   ]
  },
  {
   "cell_type": "markdown",
   "id": "80bdb398-ab66-40f8-9e45-488e26e68e04",
   "metadata": {},
   "source": [
    "$Var(Y_2) = E[(Y_2)^2] - E[Y_2]^2$"
   ]
  },
  {
   "cell_type": "markdown",
   "id": "672e5bd6-fbd9-46a0-aa75-8f81b0b39fdf",
   "metadata": {},
   "source": [
    "$4 = E[(Y_2)^2]-0$"
   ]
  },
  {
   "cell_type": "markdown",
   "id": "9ee02108-7cfb-4a67-86d1-6dbc05d051d7",
   "metadata": {},
   "source": [
    "$\\therefore E[(Y_2)^2] = 4$"
   ]
  },
  {
   "cell_type": "markdown",
   "id": "0d22c7f9-47a1-43c8-9ca5-f85efacb1ca2",
   "metadata": {},
   "source": [
    "### (b) $Y_1 + 2Y_2 - Y_3$의 기대값과 분산을 구하시오."
   ]
  },
  {
   "cell_type": "markdown",
   "id": "74e19625-ed7f-4dc6-9cf8-143b1c34b46b",
   "metadata": {},
   "source": [
    "$E(Y_1 + 2Y_2 -Y_3) = E(Y_1) + 2E(Y_2) -E(Y_3) = -2$"
   ]
  },
  {
   "cell_type": "markdown",
   "id": "35583ec4-1156-405d-a7bb-d75ab44fea22",
   "metadata": {},
   "source": [
    "$Var(Y_1 + 2Y_2 - Y_3) = Var(Y_1) + 4Var(Y_2) + Var(Y_3)=24$"
   ]
  },
  {
   "cell_type": "markdown",
   "id": "7107f87b-5cef-433d-8ee1-06c3cd9d51a0",
   "metadata": {},
   "source": [
    "### (c) $Corr(Y_1+Y_2, Y_1-Y_2)$을 구하고, 그 값을 해석하시오."
   ]
  },
  {
   "cell_type": "markdown",
   "id": "86ef4029-f4f7-4a7b-8077-508f03f744f4",
   "metadata": {},
   "source": [
    "$\\text{Corr}(Y_1+Y_2, Y_1-Y_2) = \\frac{\\text{cov}(Y_1+Y_2, Y_1-Y_2)}{\\sqrt{\\text{Var}{(Y_1+Y_2)}\\text{Var}{(Y_1-Y_2)}}}=0$"
   ]
  },
  {
   "cell_type": "markdown",
   "id": "43215ec2-e6a7-4df7-8ecc-48919252536f",
   "metadata": {},
   "source": [
    "$Y_1+Y_2$ 와 $Y_1-Y_2$ 두 변수의 상관계수가 $0$으로 선형관계가 없다."
   ]
  },
  {
   "cell_type": "markdown",
   "id": "ac15d682-1244-4220-9230-84282b21a5d6",
   "metadata": {},
   "source": [
    "## 4. 두 확률변수 $X,Y$의 결합 확률밀도함수가 $f_{X,Y}(x,y)=24xyI(0<x<1,0<y<1-x)$ 일 때, $P(Y<X, Y<1/4)$을 구하시오."
   ]
  },
  {
   "cell_type": "markdown",
   "id": "a75afda6-a4c2-4b72-a02b-8c3fc61bc229",
   "metadata": {},
   "source": [
    "$P(Y<X, Y<1/4) = \\int_{0}^{1/4}\\int_{0}^y 24xy dxdy + \\int_0^{1/4}\\int_{1-y}^1 24xy dxdy=\\frac{3}{256} + \\frac{29}{256} = \\frac{1}{8}$"
   ]
  },
  {
   "cell_type": "markdown",
   "id": "fd78f3f7-f629-4603-96f1-bfab9c8a9084",
   "metadata": {},
   "source": [
    "## 5. 두 확률변수 $X$와 $Y$의 결합확률밀도함수가 $f_{X,Y}(x,y)=2e^{-(x+y)}I(0<x<y,y>0)$으로 주어져 있다."
   ]
  },
  {
   "cell_type": "markdown",
   "id": "c94d61c0-a173-4b1e-88e0-a8779ab58769",
   "metadata": {},
   "source": [
    "### (a) $X$의 주변확률밀도함수 $f_X(x)$를 구하시오.\n",
    "> 주의: $x$의 범위도 명확히 기술"
   ]
  },
  {
   "cell_type": "markdown",
   "id": "b3193a0a-7cd7-4853-8050-84882d66b305",
   "metadata": {},
   "source": [
    "$f_X(x) = \\int_{-\\infty}^{\\infty}f_{X,Y}(x,y)dy$"
   ]
  },
  {
   "cell_type": "markdown",
   "id": "008f85d6-e2a8-4b2b-b55c-69c2012bd51e",
   "metadata": {},
   "source": [
    "$=\\int_{-\\infty}^{\\infty} 2e^{-(x+y)}I(0<x<y, y>0)dy$"
   ]
  },
  {
   "cell_type": "markdown",
   "id": "bc79b70d-c789-49aa-98f3-1b025de07101",
   "metadata": {},
   "source": [
    "$=\\int_{x}^{\\infty} 2e^{-(x+y)}I(x>0)dy$"
   ]
  },
  {
   "cell_type": "markdown",
   "id": "081efe24-0039-41bb-8465-1db51c6d564a",
   "metadata": {},
   "source": [
    "$=2e^{-x}I(x>0)\\int_{x}^{\\infty} e^{-y}dy$"
   ]
  },
  {
   "cell_type": "markdown",
   "id": "be02e108-8cb6-4ae0-adac-5be30ff7cdb8",
   "metadata": {},
   "source": [
    "$=2e^{-x}I(x>0) \\left[-e^{-y}\\bigr\\rvert_x^{\\infty}\\right]$"
   ]
  },
  {
   "cell_type": "markdown",
   "id": "7a4e8d92-03b1-4caa-be3e-affbaa9752e3",
   "metadata": {},
   "source": [
    "$=2e^{-2x} I(x>0)$"
   ]
  },
  {
   "cell_type": "markdown",
   "id": "36ebf97e-df28-423d-86fc-4bf8a3d5ce38",
   "metadata": {},
   "source": [
    "### (b) $E(X)$를 구하시오."
   ]
  },
  {
   "cell_type": "markdown",
   "id": "5764a3aa-9411-4960-a2d0-e193e9a7dd64",
   "metadata": {},
   "source": [
    "$E(X) = \\int_{-\\infty}^{\\infty} xf_X(x)dx$"
   ]
  },
  {
   "cell_type": "markdown",
   "id": "b6eeb621-0bc3-45ab-a750-0217ce74ce78",
   "metadata": {},
   "source": [
    "$=\\int_{-\\infty}^{\\infty} x2e^{-2x} I(x>0)dx$"
   ]
  },
  {
   "cell_type": "markdown",
   "id": "a2bd5cef-314c-42e4-a0a1-ec8cc9d1f933",
   "metadata": {},
   "source": [
    "$=2\\int_{0}^{\\infty}e^{-2x} I(x>0)dx$"
   ]
  },
  {
   "cell_type": "markdown",
   "id": "1f517a1f-ccc1-42f1-a016-3cc2bf09aaf7",
   "metadata": {},
   "source": [
    "$=2\\cdot -\\frac{1}{2}e^{-2x}\\bigr\\rvert_{0}^{\\infty}$"
   ]
  },
  {
   "cell_type": "markdown",
   "id": "38c5a96b-6ea0-448d-9faa-ca6a7e8cf14d",
   "metadata": {},
   "source": [
    "$=-e^{-2x}\\bigr\\rvert_{0}^\\infty = 1$"
   ]
  },
  {
   "cell_type": "markdown",
   "id": "e1f35a03-cee6-4c92-aeba-58e50fe514f0",
   "metadata": {},
   "source": [
    "### (c) $Var(Y|x=2)$를 구하시오."
   ]
  },
  {
   "cell_type": "markdown",
   "id": "9be6a9f1-54ce-429a-9686-cec96bb9c3b5",
   "metadata": {},
   "source": [
    "조건부 분산은 정의에 의해 다음과 같이 표현할 수 있다. \n",
    "\n",
    "$Var(Y|x) = E(Y^2|x) - [E(Y|x)]^2 \\tag{2.15}$"
   ]
  },
  {
   "cell_type": "markdown",
   "id": "1e571732-a4c6-49d1-b067-50c54c3d66fe",
   "metadata": {},
   "source": [
    "위에서 구한 $X$의 주변확률밀도함수와($f_X(x)$) $X,Y$의 결합밀도함수($f_{X,Y}(x,y)$)를 이용하여 $Y|x$의 조건부 확률밀도 함수를 구할 수 있다."
   ]
  },
  {
   "cell_type": "markdown",
   "id": "b831fbea-6c56-4ca3-b98b-46f4d388e6f0",
   "metadata": {},
   "source": [
    "$f(Y|x) = \\frac{f_{X,Y}(x,y)}{f_X(x)} = \\frac{2e^{-(x+y)}I(0<x<y)}{2e^{-2x}I(x>0)}= e^{x-y}I(0<x<y)$"
   ]
  },
  {
   "cell_type": "markdown",
   "id": "8b431ca2-d7fd-432a-8f14-70ba7c97fa9c",
   "metadata": {},
   "source": [
    "조건부 확률밀도함수를 이용하여 조건부 분산을 구해보자."
   ]
  },
  {
   "cell_type": "markdown",
   "id": "5859fc56-64fc-4359-9522-4cd6acde7046",
   "metadata": {},
   "source": [
    "`*` $E(Y|x) = \\int_{-\\infty}^{\\infty}y e^{x-y} I(0<x<y)$"
   ]
  },
  {
   "cell_type": "markdown",
   "id": "070ba004-e669-457a-b504-bc0567e74db6",
   "metadata": {},
   "source": [
    "$=\\int_{x}^{\\infty}y e^{x-y} I(x>0)dy$"
   ]
  },
  {
   "cell_type": "markdown",
   "id": "0e1c1726-0b9a-4c9c-9795-9abf2ef674e9",
   "metadata": {},
   "source": [
    "$=e^x I(x>0)\\int_{x}^{\\infty}y e^{-y} dy$"
   ]
  },
  {
   "cell_type": "markdown",
   "id": "d0276ccc-145b-46ae-8976-ac35b92df5c3",
   "metadata": {},
   "source": [
    "$= e^x \\cdot e^{-x}(x+1) I(x>0) = x+1 I(x>0)$"
   ]
  },
  {
   "cell_type": "markdown",
   "id": "09e65af3-32bb-4566-99c4-f15337e11fe0",
   "metadata": {},
   "source": [
    "`*` $E(Y^2|x) = \\int_{-\\infty}^{\\infty}y^2 e^{x-y} I(0<x<y)$"
   ]
  },
  {
   "cell_type": "markdown",
   "id": "23a8a04b-8709-4566-b6d1-36d2ac86bab3",
   "metadata": {},
   "source": [
    "$=\\int_{x}^{\\infty}y^2 e^{x-y} I(x>0)dy$"
   ]
  },
  {
   "cell_type": "markdown",
   "id": "7141c631-8ea0-434d-bf8b-0bd988c853f0",
   "metadata": {},
   "source": [
    "$=e^x I(x>0)\\int_{x}^{\\infty}y^2 e^{-y} dy$"
   ]
  },
  {
   "cell_type": "markdown",
   "id": "43ab237e-c6a4-49b8-b8c5-574a5d9938fd",
   "metadata": {},
   "source": [
    "$= e^x \\cdot e^{-x}(x^2+2x+2) I(x>0) = x^2+2x+2 I(x>0)$"
   ]
  },
  {
   "cell_type": "markdown",
   "id": "3dfb84a1-f0ce-4d66-bf29-22eb6eca22d9",
   "metadata": {},
   "source": [
    "`**` $x=2$로 주어져있으므로, 아래와 같이 다시 쓸 수 있다."
   ]
  },
  {
   "cell_type": "markdown",
   "id": "997394e7-e24f-421c-b684-1908face1b67",
   "metadata": {},
   "source": [
    "$\\therefore Var(Y|x=2) = E(Y^2|x=2) - [E(Y|x=2)]^2 = 10 - 3^2 = 1$"
   ]
  },
  {
   "cell_type": "markdown",
   "id": "35802b2b-e751-41c9-bea1-86535978a998",
   "metadata": {},
   "source": [
    "## 6. 서로 독립인 두 확률변수 $X$와 $Y$의 적률생성함수가 다음과 같을 때 $E(X^2Y)$를 구하시오."
   ]
  },
  {
   "cell_type": "markdown",
   "id": "03ece580-ea9c-4e1b-acbd-a47d6e84f30b",
   "metadata": {},
   "source": [
    "$$M_x(t) = \\frac{1}{1-2t}, \\quad M_y(t) = \\frac{1}{1-4t+4t^2}$$"
   ]
  },
  {
   "cell_type": "markdown",
   "id": "22fa72cd-8089-45f9-b9bb-8d1f4c9ede3f",
   "metadata": {},
   "source": [
    "두 확률변수 $X,Y$는 독립이면, 결합적률생성함수는 각각의 적률생성함수의 곱과 같다. 따라서  $M_{X,Y}(t_1,t_2) = M_x(t_1)M_y(t_2)$이 성립한다."
   ]
  },
  {
   "cell_type": "markdown",
   "id": "61886f00-17a8-4598-8b13-4cf23f4fea80",
   "metadata": {},
   "source": [
    "$M_{X,Y}(t_1,t_2) = M_X(t_1)M_Y(t_2) = \\frac{1}{1-2t_1}\\frac{1}{1-4t_2+ 4t_2^2}$"
   ]
  },
  {
   "cell_type": "markdown",
   "id": "a3dc2f9e-460a-4f4e-bf45-4de1f88929fe",
   "metadata": {},
   "source": [
    "$E(X^2Y) = \\frac{\\partial^3 M_{X,Y}(t_1,t_2)}{\\partial^2 t_1 \\partial t_2}\\bigr\\rvert_{t_1=t_2=0}=8(1-2t_1)^{-3}4(1-2t_2)^{-3}\\bigr\\rvert_{t_1=t_2=0} = 32$"
   ]
  },
  {
   "cell_type": "markdown",
   "id": "0d4df6cf-ac8a-415c-b3e8-8974851919fd",
   "metadata": {},
   "source": [
    "## 7. $X_1, X_2, \\dots, X_5$은 서로 독립이고, '성공' 확률이 $p$인 베르누이 분포를 따른다고 하자. 다음을 구하시오."
   ]
  },
  {
   "cell_type": "markdown",
   "id": "261168b0-8025-49bd-92ca-90c99a08ec78",
   "metadata": {},
   "source": [
    "### (a) $X_1$의 적률생성함수"
   ]
  },
  {
   "cell_type": "markdown",
   "id": "5723fb02-84a6-412c-b376-f91b8031ac62",
   "metadata": {},
   "source": [
    "$X_1 \\sim Ber(p)$"
   ]
  },
  {
   "cell_type": "markdown",
   "id": "3bc469f7-1aac-48c8-81fb-8a6d4917338c",
   "metadata": {},
   "source": [
    "$f_X(x) = p^x(1-p)^{1-x}, \\quad  x=0,1$"
   ]
  },
  {
   "cell_type": "markdown",
   "id": "ef284f12-7a96-4f8a-af9c-8ed1191b529e",
   "metadata": {},
   "source": [
    "$M_{X_1}(e^{tX_1}) = E(e^{tX_1}) = \\sum_{x_1=0}^1 e^{tX_1}p^{x_1}(1-p)^{1-x_1}=1-p+e^tp$"
   ]
  },
  {
   "cell_type": "markdown",
   "id": "f9798ba5-d74f-47b9-931b-0a12e1065306",
   "metadata": {},
   "source": [
    "### (b) $P(X_1+X_2+\\dots +X_5 \\geq 2)$"
   ]
  },
  {
   "cell_type": "markdown",
   "id": "b7e69630-b22b-4288-a5c8-86ed0c6f12d8",
   "metadata": {},
   "source": [
    "$Y= X_1 + X_2+\\dots +X_5, \\quad Y\\sim \\text{Bin}(5,p)$"
   ]
  },
  {
   "cell_type": "markdown",
   "id": "60e73816-400f-44a9-9b84-5171dc7ad628",
   "metadata": {},
   "source": [
    "$\\begin{equation}\\begin{split}P(Y\\geq 2) = 1- P(Y \\leq 1) &= 1-P(Y=0)-P(Y=1) \\\\\n",
    "&= 1- \\left[_{5}\\textrm{C}_0(1-p)^5+ _{5}\\textrm{C}_1 p(1-p)^4 \\right] \\\\\n",
    "&=1-\\left[(1-p)^5 + 5p(1-p)^4\\right] \\end{split}\\end{equation}$"
   ]
  },
  {
   "cell_type": "markdown",
   "id": "55032ab2-e172-46ae-b8ab-72b0925bf6fa",
   "metadata": {},
   "source": [
    "### (c) $E(X_1|X_1+X_2+\\dots +X_5=3)$"
   ]
  },
  {
   "cell_type": "markdown",
   "id": "0784b72e-3806-4917-8d67-e588c1078a5b",
   "metadata": {},
   "source": [
    "$\\begin{equation}\\begin{split}\n",
    "E(X_1|X_1+X_2+\\cdots+X_5=3) &= \\sum_{x_1=0}^1 x_1 \\cdot P(X_1=x_1|X_1+X_2+\\cdots+X_5=3) \\\\\n",
    "&= \\frac{\\sum_{x_1=0}^1 x_1 P(X_1=x_1,X_1+X_2+\\cdots+X_5=3)}{P(X_1+X_2+\\cdots+X_5=3)} \\\\\n",
    "&= \\frac{\\sum_{x_1=0}^1 x_1 P(X_1=x_1) P(X_2+\\cdots+X_5=3-x_1)}{P(X_1+X_2+\\cdots+X_5=3)} \\\\\n",
    "&= \\frac{0 \\cdot P(X_2+\\cdots+X_5=3) + 1 \\cdot P(X_1=1) P(X_2+\\cdots+X_5=2)}{P(X_1+X_2+\\cdots+X_5=3)} \\\\\n",
    "&= \\frac{p \\cdot \\binom{4}{2}p^2(1-p)^2}{\\binom{5}{3}p^3(1-p)^2} \\\\\n",
    "&= \\frac{4}{5}\n",
    "\\end{split}\\end{equation}$\n",
    "\n",
    "\n",
    "$\\therefore E(X_1|X_1+X_2+\\cdots+X_5=3) = \\frac{4}{5}$"
   ]
  },
  {
   "cell_type": "markdown",
   "id": "0940b3a8-3fd0-4e62-8dab-a18364e65c42",
   "metadata": {},
   "source": [
    "# 순서통계량"
   ]
  },
  {
   "cell_type": "markdown",
   "id": "d0fe4ff6-7927-43b9-bae7-e3f579179db7",
   "metadata": {},
   "source": [
    "## 1. $X_1, X_2, \\dots, X_n$이 $U(0,\\theta)$로부터의 랜덤표본이라고 할 때, 다음을 구하시오."
   ]
  },
  {
   "cell_type": "markdown",
   "id": "b2757445-2fb0-4876-bf43-9f8a2f201406",
   "metadata": {},
   "source": [
    "### (1) $X_{(1)}$과 $X_{(n)}$의 결합확률밀도함수"
   ]
  },
  {
   "cell_type": "markdown",
   "id": "7db7cec0-1dd7-4594-9733-c1b3bc937c20",
   "metadata": {},
   "source": [
    "$f(x_{(1)},x_{(n)}) = n(n-1)\\left[\\frac{x_{(n)}-x_{(1)}}{\\theta}\\right]^{n-2}\\frac{1}{\\theta^2} = n(n-1)\\theta^{-n}\\left[ x_{(n)} - x_{(1)}\\right]^{n-2}$"
   ]
  },
  {
   "cell_type": "markdown",
   "id": "e419ac83-c30e-4ab6-96d3-65849a3a214a",
   "metadata": {},
   "source": [
    "### (2) 표본범위 $X_{(n)}-X_{(1)}$의 확률밀도함수"
   ]
  },
  {
   "cell_type": "markdown",
   "id": "0fe79ec0-8a0b-40f0-9cfd-d0a5824a2f10",
   "metadata": {},
   "source": [
    "$\\begin{cases}Z_1 = X_{(n)}-X_{(1)} \\\\\n",
    "Z_2 = X_{(1)}\\end{cases} \\Rightarrow \\begin{cases} X_{(n)} = Z_1 + Z_2\\\\ X_{(1)} = Z_2\\end{cases}, \\quad 0<X_{(1)}<X_{(n)}<\\theta$"
   ]
  },
  {
   "cell_type": "markdown",
   "id": "4e38d38a-4fee-4193-b82b-fee897ecbaaa",
   "metadata": {},
   "source": [
    "$g(z_1,z_2) = f(Z_2,z_1+z_2)|J| = n(n-1)\\theta^n z_1^{n-2}, \\quad 0<z_2<z_1+z_2<\\theta$"
   ]
  },
  {
   "cell_type": "markdown",
   "id": "c0d6a1bf-f1f4-4fcb-9a4e-8c18cb4ca0a5",
   "metadata": {},
   "source": [
    "$g(z_1) = n(n-1)\\theta^nz_1^{n-2}\\int_{0}^{\\theta-z_1}dz_2 = n(n-1)\\theta^{-n}z_1^{n-2}(\\theta-z_1), \\quad 0<z_2,\\theta$"
   ]
  },
  {
   "cell_type": "markdown",
   "id": "3bf2dd90-d175-4938-a242-ad18e78b4250",
   "metadata": {},
   "source": [
    "## 2. $X_1,X_2,\\dots,X_n$이 $\\exp(\\lambda)$ 즉, $f(x)=\\lambda e^{-\\lambda x}I(x>0)$으로부터의 랜덤표본이라고 할 때, 다음을 구하시오."
   ]
  },
  {
   "cell_type": "markdown",
   "id": "9e390288-0a83-4977-b2ea-466d2745a59d",
   "metadata": {},
   "source": [
    "- $f(x) = \\lambda e^{-\\lambda x} I(x>0)$"
   ]
  },
  {
   "cell_type": "markdown",
   "id": "ce9d4eb4-6925-40d2-acef-5e72087f9304",
   "metadata": {},
   "source": [
    "- $F(x) = \\int_{0}^{\\infty} \\lambda e^{-\\lambda x} = 1-e^{-\\lambda x}$"
   ]
  },
  {
   "cell_type": "markdown",
   "id": "d86a71a0-aec4-4530-81e2-199106ba5f93",
   "metadata": {},
   "source": [
    "### (1) $X_{(1)}$의 확률밀도함수"
   ]
  },
  {
   "cell_type": "markdown",
   "id": "1174e70d-6e5b-42ce-b0b9-ca7e198b669f",
   "metadata": {},
   "source": [
    "$f_{X_{(1)}}(x_{(1)}) = n[1-F(x_{(1)})]^{n-1} f(x_{(1)})$"
   ]
  },
  {
   "cell_type": "markdown",
   "id": "2c4900fa-2978-4539-8b2f-09e861702968",
   "metadata": {},
   "source": [
    "$=n[1-(1-e^{-\\lambda x_{(1)}})]^{n-1}\\lambda e^{-\\lambda x_{(1)}}$"
   ]
  },
  {
   "cell_type": "markdown",
   "id": "82c32df3-8048-4c5d-b2c3-4ffe5042ea43",
   "metadata": {},
   "source": [
    "$=n\\lambda [e^{-\\lambda x_{(1)}}]^n, \\quad x_{(1)}>0$"
   ]
  },
  {
   "cell_type": "markdown",
   "id": "ffb0ba47-da83-443a-b6e3-dcb6a3d99014",
   "metadata": {},
   "source": [
    "### (2) 표본범위 $X_{(n)}$의 확률밀도함수"
   ]
  },
  {
   "cell_type": "markdown",
   "id": "aa3ba282-c2d2-4e5d-a685-e13e329004dc",
   "metadata": {},
   "source": [
    "$f_{X_{(n)}}(x_{(n)}) = n[F(x_{(n)})]^{n-1} f(x_{(n)})$"
   ]
  },
  {
   "cell_type": "markdown",
   "id": "506a9c2a-cda7-4d98-976e-ab01a99b0fb9",
   "metadata": {},
   "source": [
    "$= n[1-e^{-\\lambda x_{(n)}}]^{n-1} \\lambda e^{-\\lambda x_{(n)}}$"
   ]
  },
  {
   "cell_type": "markdown",
   "id": "dcd589d7-d8d4-4e1a-9a34-4c9cbd57815f",
   "metadata": {},
   "source": [
    "$=n\\lambda [1-e^{-\\lambda x_{(n)}}]^{n-1} e^{-\\lambda x_{(n)}},\\quad x_{(n)} >0$"
   ]
  },
  {
   "cell_type": "markdown",
   "id": "f38b01ce-15db-4446-be4b-8e0e9ff9c24a",
   "metadata": {},
   "source": [
    "### (3) $n=2r+1$ 이라고 가정하고, 표본중위수 $X_{(r)}$ 의 확률밀도함수"
   ]
  },
  {
   "cell_type": "markdown",
   "id": "57e92174-dd71-4369-86ec-47a9e7146254",
   "metadata": {},
   "source": [
    "$f_{X_{(r)}} = \\frac{(2r+1)!}{(r-1)!1!(r+1)!}F(x_{(r)})^{r-1}[1-F(x_{(r)})]^{r+1}f(x_{(r)})$"
   ]
  },
  {
   "cell_type": "markdown",
   "id": "acb52b05-5521-41ac-9120-b40b34586321",
   "metadata": {},
   "source": [
    "$=\\frac{(2r+1)!}{(r-1)!1!(r+1)!}[1-e^{-\\lambda x_{(r)}}]^{r-1}[1-(1-e^{-\\lambda x_{(r)}})]^{r+1}\\lambda e^{-\\lambda x_{(r)}}$"
   ]
  },
  {
   "cell_type": "markdown",
   "id": "8195e75b-d50b-44f5-abdd-4d08bddb99c6",
   "metadata": {},
   "source": [
    "$=\\frac{(2r+1)!}{(r-1)!(r+1)!}\\lambda [1-e^{-\\lambda x_{(r)}}]^{r-1}[e^{-\\lambda x_{(r)}}]^{r+2}, \\quad x_{(r)} > 0 $"
   ]
  }
 ],
 "metadata": {
  "kernelspec": {
   "display_name": "Python 3",
   "language": "python",
   "name": "python3"
  },
  "language_info": {
   "codemirror_mode": {
    "name": "ipython",
    "version": 3
   },
   "file_extension": ".py",
   "mimetype": "text/x-python",
   "name": "python",
   "nbconvert_exporter": "python",
   "pygments_lexer": "ipython3",
   "version": "3.8.16"
  }
 },
 "nbformat": 4,
 "nbformat_minor": 5
}
