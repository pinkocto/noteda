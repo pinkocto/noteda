{
 "cells": [
  {
   "cell_type": "raw",
   "id": "67b8d7cb-63ca-48b5-bab2-1e0a29e562e9",
   "metadata": {},
   "source": [
    "---\n",
    "title: \" downcasting \"\n",
    "author: \"jiyun Lim\"\n",
    "date: \"03/21/2023\"\n",
    "categories:\n",
    "    - Appendix\n",
    "---"
   ]
  },
  {
   "cell_type": "markdown",
   "id": "e256c511-5f7e-4997-9c0f-fd81a3989aaa",
   "metadata": {},
   "source": [
    "```python\n",
    "def downcast(df, verbose=True):\n",
    "    start_mem = df.memory_usage().sum() / 1024**2\n",
    "    for col in df.columns:\n",
    "        dtype_name = df[col].dtype.name\n",
    "        if dtype_name == 'object':\n",
    "            pass\n",
    "        elif dtype_name == 'bool':\n",
    "            df[col] = df[col].astype('int8')\n",
    "        elif dtype_name.startswith('int') or (df[col].round() == df[col]).all():\n",
    "            df[col] = pd.to_numeric(df[col], downcast='integer')\n",
    "        else:\n",
    "            df[col] = pd.to_numeric(df[col], downcast='float')\n",
    "    end_mem = df.memory_usage().sum() / 1024**2\n",
    "    if verbose:\n",
    "        print('{:.1f}% 압축됨'.format(100 * (start_mem - end_mem) / start_mem))\n",
    "    \n",
    "    return df\n",
    "```"
   ]
  },
  {
   "cell_type": "markdown",
   "id": "9d64dadc-a1bb-427e-9066-24ace26cf55c",
   "metadata": {},
   "source": [
    "```python\n",
    "all_df = [sales_train, shops, items, item_categories, test]\n",
    "for df in all_df:\n",
    "    df = downcast(df)\n",
    "```"
   ]
  },
  {
   "cell_type": "markdown",
   "id": "3c3e6fd7-9721-4bbc-996a-ef08a84b122f",
   "metadata": {},
   "source": [
    "- int8 (Byte) : -128~127\n",
    "- int16 (integer) : -32768~32768\n",
    "- int32 (integer) : -2147483648~2147483647\n",
    "- int64 (integer) : very very big\n",
    "- uint8 (unsigned integer) : 0~255\n",
    "- uint16 (unsigned integer) : 0~65535\n",
    "- uint32 (unsigned integer) : 0~4294967295\n",
    "- uint64 (unsigned integer) :0~very very big\n",
    "- float (shortand for float64)\n",
    "- float16 (Half precision float)\n",
    "- float32 (Single precision float)\n",
    "- float64"
   ]
  }
 ],
 "metadata": {
  "kernelspec": {
   "display_name": "Python 3",
   "language": "python",
   "name": "python3"
  },
  "language_info": {
   "codemirror_mode": {
    "name": "ipython",
    "version": 3
   },
   "file_extension": ".py",
   "mimetype": "text/x-python",
   "name": "python",
   "nbconvert_exporter": "python",
   "pygments_lexer": "ipython3",
   "version": "3.8.16"
  }
 },
 "nbformat": 4,
 "nbformat_minor": 5
}
