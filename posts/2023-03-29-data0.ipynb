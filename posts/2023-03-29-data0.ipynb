{
 "cells": [
  {
   "cell_type": "raw",
   "id": "22db31d1-0fb7-4477-8857-e7cb9fbec585",
   "metadata": {},
   "source": [
    "---\n",
    "title: \" Data preprocessing \"\n",
    "author: \"jiyun Lim\"\n",
    "date: \"03/29/2023\"\n",
    "categories:\n",
    "    - Data\n",
    "---"
   ]
  },
  {
   "cell_type": "markdown",
   "id": "820ab480-5118-42f1-8717-45b2dc39dac4",
   "metadata": {},
   "source": [
    "# Raw Data\n",
    "\n",
    "- [***Download Link***](https://data.kma.go.kr/data/grnd/selectAsosRltmList.do?pgmNo=36)"
   ]
  },
  {
   "cell_type": "markdown",
   "id": "9cd6aebd-e83a-49c5-9d88-a806dc5fb9d0",
   "metadata": {},
   "source": [
    "> ***`OBS_ASOS_TIM_data0`*** : 2021-01-01 ~ 2021-12-31 \n",
    ">\n",
    "> ***`OBS_ASOS_TIM_data1`*** : 2022-01-01 ~ 2023-01-01\n"
   ]
  },
  {
   "cell_type": "markdown",
   "id": "c939d07d-8425-4b26-a00c-2b14920ea9a3",
   "metadata": {},
   "source": [
    "- 2021-01-01부터 2023-01-01 약 2년간의 데이터셋\n",
    "\n",
    "- 00시부터 23시까지 1시간 간격으로 측정한 데이터셋 (08시부터 18시까지 관측된 데이터가 대다수)\n",
    "\n",
    "- 총 49개의 지점"
   ]
  },
  {
   "cell_type": "code",
   "execution_count": 105,
   "id": "6d14ca01-4c2a-467f-bfad-d18884ae8ca8",
   "metadata": {},
   "outputs": [],
   "source": [
    "import pandas as pd\n",
    "import numpy as np\n",
    "import gc"
   ]
  },
  {
   "cell_type": "code",
   "execution_count": 106,
   "id": "ab36bb16-abbd-4f9d-b086-10bd2c77e046",
   "metadata": {},
   "outputs": [],
   "source": [
    "df0 = pd.read_csv('./OBS_ASOS_TIM_data0.csv', encoding='cp949') # 2021-01-01 ~ 2021-12-31\n",
    "df1 = pd.read_csv('./OBS_ASOS_TIM_data1.csv', encoding='cp949') # 2022-01-01 ~ 2023-01-01"
   ]
  },
  {
   "cell_type": "code",
   "execution_count": 107,
   "id": "b4ca87e1-e6d5-41c8-9042-90c355094e99",
   "metadata": {},
   "outputs": [
    {
     "data": {
      "text/html": [
       "<div>\n",
       "<style scoped>\n",
       "    .dataframe tbody tr th:only-of-type {\n",
       "        vertical-align: middle;\n",
       "    }\n",
       "\n",
       "    .dataframe tbody tr th {\n",
       "        vertical-align: top;\n",
       "    }\n",
       "\n",
       "    .dataframe thead th {\n",
       "        text-align: right;\n",
       "    }\n",
       "</style>\n",
       "<table border=\"1\" class=\"dataframe\">\n",
       "  <thead>\n",
       "    <tr style=\"text-align: right;\">\n",
       "      <th></th>\n",
       "      <th>지점</th>\n",
       "      <th>지점명</th>\n",
       "      <th>일시</th>\n",
       "      <th>일사(MJ/m2)</th>\n",
       "    </tr>\n",
       "  </thead>\n",
       "  <tbody>\n",
       "    <tr>\n",
       "      <th>0</th>\n",
       "      <td>93</td>\n",
       "      <td>북춘천</td>\n",
       "      <td>2021-01-01 08:00</td>\n",
       "      <td>0.00</td>\n",
       "    </tr>\n",
       "    <tr>\n",
       "      <th>1</th>\n",
       "      <td>93</td>\n",
       "      <td>북춘천</td>\n",
       "      <td>2021-01-01 09:00</td>\n",
       "      <td>0.37</td>\n",
       "    </tr>\n",
       "    <tr>\n",
       "      <th>2</th>\n",
       "      <td>93</td>\n",
       "      <td>북춘천</td>\n",
       "      <td>2021-01-01 10:00</td>\n",
       "      <td>0.96</td>\n",
       "    </tr>\n",
       "    <tr>\n",
       "      <th>3</th>\n",
       "      <td>93</td>\n",
       "      <td>북춘천</td>\n",
       "      <td>2021-01-01 11:00</td>\n",
       "      <td>1.40</td>\n",
       "    </tr>\n",
       "    <tr>\n",
       "      <th>4</th>\n",
       "      <td>93</td>\n",
       "      <td>북춘천</td>\n",
       "      <td>2021-01-01 12:00</td>\n",
       "      <td>1.72</td>\n",
       "    </tr>\n",
       "  </tbody>\n",
       "</table>\n",
       "</div>"
      ],
      "text/plain": [
       "   지점  지점명                일시  일사(MJ/m2)\n",
       "0  93  북춘천  2021-01-01 08:00       0.00\n",
       "1  93  북춘천  2021-01-01 09:00       0.37\n",
       "2  93  북춘천  2021-01-01 10:00       0.96\n",
       "3  93  북춘천  2021-01-01 11:00       1.40\n",
       "4  93  북춘천  2021-01-01 12:00       1.72"
      ]
     },
     "execution_count": 107,
     "metadata": {},
     "output_type": "execute_result"
    }
   ],
   "source": [
    "df_raw = pd.concat([df0, df1])\n",
    "df_raw.head()"
   ]
  },
  {
   "cell_type": "code",
   "execution_count": 160,
   "id": "902ce917-b583-43b4-ab19-3370edde82a5",
   "metadata": {},
   "outputs": [
    {
     "data": {
      "text/plain": [
       "(445248, 6)"
      ]
     },
     "execution_count": 160,
     "metadata": {},
     "output_type": "execute_result"
    }
   ],
   "source": [
    "df_raw.shape"
   ]
  },
  {
   "cell_type": "code",
   "execution_count": 109,
   "id": "89e17fa5-f2f4-4255-971a-37d2c5a4c70c",
   "metadata": {},
   "outputs": [],
   "source": [
    "# 2021-01-01 ~ 2023-01-01 dataset (2 years)\n",
    "# df_raw.to_csv('./raw.csv')"
   ]
  },
  {
   "cell_type": "markdown",
   "id": "d4d24fbf-1cf1-4d87-a9bf-8cb7e68612f6",
   "metadata": {},
   "source": [
    "# 전처리 내용"
   ]
  },
  {
   "cell_type": "markdown",
   "id": "67db6e72-eca2-4e0a-bbf7-e4b53b696554",
   "metadata": {},
   "source": [
    "|기준변수명|처리내용|비고|\n",
    "|:---|:---|:---|\n",
    "|일시|일자 변수로부터 Datetime, hour 변수 생성|Datetime 일자 변수를 날짜형으로 변환(YYYY-MM-DD), hour(시간만)|\n",
    "|지점명|제천지점에서 측정된 관측치($1$개) 제거|지점명과 지점은 동일|\n",
    "|지점명|파주, 상주, 동두천 지점은 2021-10-12일 이전의 기록은 보유하고 있지 않음.|파주, 상주, 동두천 데이터 제거|\n",
    "|지점명|충주는 2021-11-18일 이전의 기록은 보유하고 있지 않음.|충주 데이터 제거|\n",
    "|hour(파생)|08~18시까지 필터링|05시부터 21시까지 기록이 일부 있긴 함.|"
   ]
  },
  {
   "cell_type": "markdown",
   "id": "b17c2aeb-d795-49c0-9588-e7297f1219fd",
   "metadata": {},
   "source": [
    "## 데이터 탐색 (for preprocessing)"
   ]
  },
  {
   "cell_type": "code",
   "execution_count": 110,
   "id": "41508116-d5a9-4fc9-aed4-bbaf6fee8982",
   "metadata": {},
   "outputs": [
    {
     "data": {
      "text/plain": [
       "19"
      ]
     },
     "execution_count": 110,
     "metadata": {},
     "output_type": "execute_result"
    }
   ],
   "source": [
    "gc.collect()"
   ]
  },
  {
   "cell_type": "markdown",
   "id": "c7876b22-0959-4c53-bb94-fb044887f557",
   "metadata": {},
   "source": [
    "### 관측지점 수 "
   ]
  },
  {
   "cell_type": "code",
   "execution_count": 147,
   "id": "ac3101f5-483f-4cf2-b339-863e40192997",
   "metadata": {},
   "outputs": [
    {
     "data": {
      "text/plain": [
       "(48, 49)"
      ]
     },
     "execution_count": 147,
     "metadata": {},
     "output_type": "execute_result"
    }
   ],
   "source": [
    "# 관측지점 수\n",
    "len(df0['지점'].unique()), len(df1['지점'].unique())"
   ]
  },
  {
   "cell_type": "markdown",
   "id": "19087f6f-a41b-4a92-a925-184ce5f28c96",
   "metadata": {},
   "source": [
    "22년도에 관측지점이 하나 더 추가된 듯하다.."
   ]
  },
  {
   "cell_type": "code",
   "execution_count": 93,
   "id": "a41e3b3b-ace3-4a53-92fa-e6c40191c9b6",
   "metadata": {},
   "outputs": [
    {
     "data": {
      "text/plain": [
       "{'제천'}"
      ]
     },
     "execution_count": 93,
     "metadata": {},
     "output_type": "execute_result"
    }
   ],
   "source": [
    "set(df1['지점명'].unique()) - (set(df0['지점명'].unique()) & set(df1['지점명'].unique()))"
   ]
  },
  {
   "cell_type": "code",
   "execution_count": 96,
   "id": "162e4ba8-a4e3-441e-866b-efa2eb5bf3de",
   "metadata": {},
   "outputs": [
    {
     "data": {
      "text/html": [
       "<div>\n",
       "<style scoped>\n",
       "    .dataframe tbody tr th:only-of-type {\n",
       "        vertical-align: middle;\n",
       "    }\n",
       "\n",
       "    .dataframe tbody tr th {\n",
       "        vertical-align: top;\n",
       "    }\n",
       "\n",
       "    .dataframe thead th {\n",
       "        text-align: right;\n",
       "    }\n",
       "</style>\n",
       "<table border=\"1\" class=\"dataframe\">\n",
       "  <thead>\n",
       "    <tr style=\"text-align: right;\">\n",
       "      <th></th>\n",
       "      <th>지점</th>\n",
       "      <th>지점명</th>\n",
       "      <th>일시</th>\n",
       "      <th>일사(MJ/m2)</th>\n",
       "    </tr>\n",
       "  </thead>\n",
       "  <tbody>\n",
       "    <tr>\n",
       "      <th>167811</th>\n",
       "      <td>221</td>\n",
       "      <td>제천</td>\n",
       "      <td>2022-10-27 07:00</td>\n",
       "      <td>0.0</td>\n",
       "    </tr>\n",
       "  </tbody>\n",
       "</table>\n",
       "</div>"
      ],
      "text/plain": [
       "         지점 지점명                일시  일사(MJ/m2)\n",
       "167811  221  제천  2022-10-27 07:00        0.0"
      ]
     },
     "execution_count": 96,
     "metadata": {},
     "output_type": "execute_result"
    }
   ],
   "source": [
    "df1[df1['지점명']=='제천']  # 관측기록이 1회밖에 없다."
   ]
  },
  {
   "cell_type": "markdown",
   "id": "5c2a81ee-9379-465f-8a8d-e9cb93be177f",
   "metadata": {},
   "source": [
    "제천에서 관측된 값이 하나밖에 없으므로 제거해주는 것이 좋을 듯 하다."
   ]
  },
  {
   "cell_type": "code",
   "execution_count": 78,
   "id": "252bec80-3105-4b9b-8682-6ffdb3a588dc",
   "metadata": {},
   "outputs": [
    {
     "data": {
      "text/plain": [
       "(array(['북춘천', '철원', '동두천', '파주', '대관령', '춘천', '백령도', '북강릉', '강릉', '서울',\n",
       "        '인천', '원주', '울릉도', '수원', '충주', '서산', '청주', '대전', '추풍령', '안동', '상주',\n",
       "        '포항', '대구', '전주', '창원', '광주', '부산', '목포', '여수', '흑산도', '고창', '홍성',\n",
       "        '제주', '고산', '진주', '고창군', '영광군', '김해시', '순창군', '북창원', '양산시', '보성군',\n",
       "        '강진군', '의령군', '함양군', '광양시', '청송군', '경주시'], dtype=object),\n",
       " array(['북춘천', '철원', '동두천', '파주', '대관령', '춘천', '백령도', '북강릉', '강릉', '서울',\n",
       "        '인천', '원주', '울릉도', '수원', '충주', '서산', '청주', '대전', '추풍령', '안동', '상주',\n",
       "        '포항', '대구', '전주', '창원', '광주', '부산', '목포', '여수', '흑산도', '고창', '홍성',\n",
       "        '제주', '고산', '진주', '제천', '고창군', '영광군', '김해시', '순창군', '북창원', '양산시',\n",
       "        '보성군', '강진군', '의령군', '함양군', '광양시', '청송군', '경주시'], dtype=object))"
      ]
     },
     "execution_count": 78,
     "metadata": {},
     "output_type": "execute_result"
    }
   ],
   "source": [
    "df0['지점명'].unique(),  df1['지점명'].unique()"
   ]
  },
  {
   "cell_type": "markdown",
   "id": "72dc35db-6d4e-40ba-85b7-17f2828e9447",
   "metadata": {},
   "source": [
    "### 날짜형 변환 및 Datetime, hour 변수 생성"
   ]
  },
  {
   "cell_type": "code",
   "execution_count": 117,
   "id": "bf1be823-8bd0-4d6d-9097-1e8480b25f14",
   "metadata": {},
   "outputs": [
    {
     "data": {
      "text/html": [
       "<div>\n",
       "<style scoped>\n",
       "    .dataframe tbody tr th:only-of-type {\n",
       "        vertical-align: middle;\n",
       "    }\n",
       "\n",
       "    .dataframe tbody tr th {\n",
       "        vertical-align: top;\n",
       "    }\n",
       "\n",
       "    .dataframe thead th {\n",
       "        text-align: right;\n",
       "    }\n",
       "</style>\n",
       "<table border=\"1\" class=\"dataframe\">\n",
       "  <thead>\n",
       "    <tr style=\"text-align: right;\">\n",
       "      <th></th>\n",
       "      <th>지점</th>\n",
       "      <th>지점명</th>\n",
       "      <th>일시</th>\n",
       "      <th>일사(MJ/m2)</th>\n",
       "      <th>Datetime</th>\n",
       "      <th>hour</th>\n",
       "    </tr>\n",
       "  </thead>\n",
       "  <tbody>\n",
       "    <tr>\n",
       "      <th>0</th>\n",
       "      <td>93</td>\n",
       "      <td>북춘천</td>\n",
       "      <td>2021-01-01 08:00:00</td>\n",
       "      <td>0.00</td>\n",
       "      <td>2021-01-01</td>\n",
       "      <td>8</td>\n",
       "    </tr>\n",
       "    <tr>\n",
       "      <th>1</th>\n",
       "      <td>93</td>\n",
       "      <td>북춘천</td>\n",
       "      <td>2021-01-01 09:00:00</td>\n",
       "      <td>0.37</td>\n",
       "      <td>2021-01-01</td>\n",
       "      <td>9</td>\n",
       "    </tr>\n",
       "    <tr>\n",
       "      <th>2</th>\n",
       "      <td>93</td>\n",
       "      <td>북춘천</td>\n",
       "      <td>2021-01-01 10:00:00</td>\n",
       "      <td>0.96</td>\n",
       "      <td>2021-01-01</td>\n",
       "      <td>10</td>\n",
       "    </tr>\n",
       "    <tr>\n",
       "      <th>3</th>\n",
       "      <td>93</td>\n",
       "      <td>북춘천</td>\n",
       "      <td>2021-01-01 11:00:00</td>\n",
       "      <td>1.40</td>\n",
       "      <td>2021-01-01</td>\n",
       "      <td>11</td>\n",
       "    </tr>\n",
       "    <tr>\n",
       "      <th>4</th>\n",
       "      <td>93</td>\n",
       "      <td>북춘천</td>\n",
       "      <td>2021-01-01 12:00:00</td>\n",
       "      <td>1.72</td>\n",
       "      <td>2021-01-01</td>\n",
       "      <td>12</td>\n",
       "    </tr>\n",
       "  </tbody>\n",
       "</table>\n",
       "</div>"
      ],
      "text/plain": [
       "   지점  지점명                  일시  일사(MJ/m2)    Datetime  hour\n",
       "0  93  북춘천 2021-01-01 08:00:00       0.00  2021-01-01     8\n",
       "1  93  북춘천 2021-01-01 09:00:00       0.37  2021-01-01     9\n",
       "2  93  북춘천 2021-01-01 10:00:00       0.96  2021-01-01    10\n",
       "3  93  북춘천 2021-01-01 11:00:00       1.40  2021-01-01    11\n",
       "4  93  북춘천 2021-01-01 12:00:00       1.72  2021-01-01    12"
      ]
     },
     "execution_count": 117,
     "metadata": {},
     "output_type": "execute_result"
    }
   ],
   "source": [
    "# dtype 변환 및 hour변수 생성.\n",
    "df_raw['일시'] = pd.to_datetime(df_raw['일시'])\n",
    "df_raw['Datetime'] = df_raw['일시'].dt.date\n",
    "df_raw['hour'] = df_raw['일시'].dt.hour\n",
    "df_raw.head()"
   ]
  },
  {
   "cell_type": "code",
   "execution_count": 148,
   "id": "7e810455-a5e8-44aa-8f8c-d725275f5b69",
   "metadata": {},
   "outputs": [
    {
     "name": "stdout",
     "output_type": "stream",
     "text": [
      "<class 'pandas.core.frame.DataFrame'>\n",
      "Int64Index: 445248 entries, 0 to 230204\n",
      "Data columns (total 6 columns):\n",
      " #   Column     Non-Null Count   Dtype         \n",
      "---  ------     --------------   -----         \n",
      " 0   지점         445248 non-null  int64         \n",
      " 1   지점명        445248 non-null  object        \n",
      " 2   일시         445248 non-null  datetime64[ns]\n",
      " 3   일사(MJ/m2)  445248 non-null  float64       \n",
      " 4   Datetime   445248 non-null  object        \n",
      " 5   hour       445248 non-null  int64         \n",
      "dtypes: datetime64[ns](1), float64(1), int64(2), object(2)\n",
      "memory usage: 23.8+ MB\n"
     ]
    }
   ],
   "source": [
    "df_raw.info()"
   ]
  },
  {
   "cell_type": "code",
   "execution_count": 126,
   "id": "00978acb-2a6e-40bf-849b-af638e48294a",
   "metadata": {},
   "outputs": [
    {
     "data": {
      "text/plain": [
       "9086.69387755102"
      ]
     },
     "execution_count": 126,
     "metadata": {},
     "output_type": "execute_result"
    }
   ],
   "source": [
    "df_raw.shape[0]/df_raw['지점명'].nunique() # 지점하나당 9000개 정도의 관측치가 있음."
   ]
  },
  {
   "cell_type": "markdown",
   "id": "080f0cd6-8ab8-4301-b284-2d9b6e1619b6",
   "metadata": {},
   "source": [
    "### 시간대별 관측치 수 "
   ]
  },
  {
   "cell_type": "code",
   "execution_count": 179,
   "id": "baac3a06-3fa3-452c-9345-32692f68d5bd",
   "metadata": {},
   "outputs": [
    {
     "data": {
      "text/plain": [
       "0       114\n",
       "1       114\n",
       "2       114\n",
       "3       114\n",
       "4       114\n",
       "5       186\n",
       "6     12896\n",
       "7     23300\n",
       "8     33812\n",
       "9     33827\n",
       "10    33828\n",
       "11    33811\n",
       "12    33816\n",
       "13    33821\n",
       "14    33821\n",
       "15    33820\n",
       "16    33831\n",
       "17    33807\n",
       "18    33785\n",
       "19    22851\n",
       "20    13032\n",
       "21      206\n",
       "22      114\n",
       "23      114\n",
       "Name: hour, dtype: int64"
      ]
     },
     "execution_count": 179,
     "metadata": {},
     "output_type": "execute_result"
    }
   ],
   "source": [
    "df_raw['hour'].value_counts().sort_index()"
   ]
  },
  {
   "cell_type": "markdown",
   "id": "5dfc4e98-890c-4639-a89c-3f55c63bc1e2",
   "metadata": {},
   "source": [
    "00시부터 23시까지 필터링해서 홈페이지에서 다운받아왔지만 대다수 데이터가 08시~18시까지 관측되어있음."
   ]
  },
  {
   "cell_type": "markdown",
   "id": "03837169-7229-4f08-99a5-dea85715fef2",
   "metadata": {},
   "source": [
    "### 지점별 관측치 수 (2021-01-01 ~ 2023-01-01)"
   ]
  },
  {
   "cell_type": "code",
   "execution_count": 127,
   "id": "187d3ff9-4d0b-40c3-9254-6bdf34b444e0",
   "metadata": {},
   "outputs": [
    {
     "data": {
      "text/html": [
       "<div>\n",
       "<style scoped>\n",
       "    .dataframe tbody tr th:only-of-type {\n",
       "        vertical-align: middle;\n",
       "    }\n",
       "\n",
       "    .dataframe tbody tr th {\n",
       "        vertical-align: top;\n",
       "    }\n",
       "\n",
       "    .dataframe thead th {\n",
       "        text-align: right;\n",
       "    }\n",
       "</style>\n",
       "<table border=\"1\" class=\"dataframe\">\n",
       "  <thead>\n",
       "    <tr style=\"text-align: right;\">\n",
       "      <th></th>\n",
       "      <th>지점명</th>\n",
       "    </tr>\n",
       "  </thead>\n",
       "  <tbody>\n",
       "    <tr>\n",
       "      <th>백령도</th>\n",
       "      <td>9684</td>\n",
       "    </tr>\n",
       "    <tr>\n",
       "      <th>울릉도</th>\n",
       "      <td>9619</td>\n",
       "    </tr>\n",
       "    <tr>\n",
       "      <th>창원</th>\n",
       "      <td>9606</td>\n",
       "    </tr>\n",
       "    <tr>\n",
       "      <th>의령군</th>\n",
       "      <td>9605</td>\n",
       "    </tr>\n",
       "    <tr>\n",
       "      <th>북강릉</th>\n",
       "      <td>9603</td>\n",
       "    </tr>\n",
       "    <tr>\n",
       "      <th>강진군</th>\n",
       "      <td>9602</td>\n",
       "    </tr>\n",
       "    <tr>\n",
       "      <th>제주</th>\n",
       "      <td>9602</td>\n",
       "    </tr>\n",
       "    <tr>\n",
       "      <th>대구</th>\n",
       "      <td>9602</td>\n",
       "    </tr>\n",
       "    <tr>\n",
       "      <th>목포</th>\n",
       "      <td>9598</td>\n",
       "    </tr>\n",
       "    <tr>\n",
       "      <th>북창원</th>\n",
       "      <td>9597</td>\n",
       "    </tr>\n",
       "    <tr>\n",
       "      <th>포항</th>\n",
       "      <td>9596</td>\n",
       "    </tr>\n",
       "    <tr>\n",
       "      <th>홍성</th>\n",
       "      <td>9596</td>\n",
       "    </tr>\n",
       "    <tr>\n",
       "      <th>여수</th>\n",
       "      <td>9596</td>\n",
       "    </tr>\n",
       "    <tr>\n",
       "      <th>철원</th>\n",
       "      <td>9595</td>\n",
       "    </tr>\n",
       "    <tr>\n",
       "      <th>북춘천</th>\n",
       "      <td>9595</td>\n",
       "    </tr>\n",
       "    <tr>\n",
       "      <th>함양군</th>\n",
       "      <td>9594</td>\n",
       "    </tr>\n",
       "    <tr>\n",
       "      <th>서울</th>\n",
       "      <td>9593</td>\n",
       "    </tr>\n",
       "    <tr>\n",
       "      <th>춘천</th>\n",
       "      <td>9592</td>\n",
       "    </tr>\n",
       "    <tr>\n",
       "      <th>청송군</th>\n",
       "      <td>9592</td>\n",
       "    </tr>\n",
       "    <tr>\n",
       "      <th>고산</th>\n",
       "      <td>9592</td>\n",
       "    </tr>\n",
       "    <tr>\n",
       "      <th>보성군</th>\n",
       "      <td>9591</td>\n",
       "    </tr>\n",
       "    <tr>\n",
       "      <th>경주시</th>\n",
       "      <td>9590</td>\n",
       "    </tr>\n",
       "    <tr>\n",
       "      <th>원주</th>\n",
       "      <td>9590</td>\n",
       "    </tr>\n",
       "    <tr>\n",
       "      <th>대관령</th>\n",
       "      <td>9589</td>\n",
       "    </tr>\n",
       "    <tr>\n",
       "      <th>광양시</th>\n",
       "      <td>9587</td>\n",
       "    </tr>\n",
       "    <tr>\n",
       "      <th>안동</th>\n",
       "      <td>9585</td>\n",
       "    </tr>\n",
       "    <tr>\n",
       "      <th>김해시</th>\n",
       "      <td>9585</td>\n",
       "    </tr>\n",
       "    <tr>\n",
       "      <th>인천</th>\n",
       "      <td>9584</td>\n",
       "    </tr>\n",
       "    <tr>\n",
       "      <th>서산</th>\n",
       "      <td>9583</td>\n",
       "    </tr>\n",
       "    <tr>\n",
       "      <th>고창군</th>\n",
       "      <td>9582</td>\n",
       "    </tr>\n",
       "    <tr>\n",
       "      <th>수원</th>\n",
       "      <td>9581</td>\n",
       "    </tr>\n",
       "    <tr>\n",
       "      <th>전주</th>\n",
       "      <td>9577</td>\n",
       "    </tr>\n",
       "    <tr>\n",
       "      <th>순창군</th>\n",
       "      <td>9577</td>\n",
       "    </tr>\n",
       "    <tr>\n",
       "      <th>청주</th>\n",
       "      <td>9576</td>\n",
       "    </tr>\n",
       "    <tr>\n",
       "      <th>진주</th>\n",
       "      <td>9574</td>\n",
       "    </tr>\n",
       "    <tr>\n",
       "      <th>추풍령</th>\n",
       "      <td>9568</td>\n",
       "    </tr>\n",
       "    <tr>\n",
       "      <th>영광군</th>\n",
       "      <td>9565</td>\n",
       "    </tr>\n",
       "    <tr>\n",
       "      <th>부산</th>\n",
       "      <td>9564</td>\n",
       "    </tr>\n",
       "    <tr>\n",
       "      <th>양산시</th>\n",
       "      <td>9558</td>\n",
       "    </tr>\n",
       "    <tr>\n",
       "      <th>고창</th>\n",
       "      <td>9542</td>\n",
       "    </tr>\n",
       "    <tr>\n",
       "      <th>강릉</th>\n",
       "      <td>9489</td>\n",
       "    </tr>\n",
       "    <tr>\n",
       "      <th>광주</th>\n",
       "      <td>9480</td>\n",
       "    </tr>\n",
       "    <tr>\n",
       "      <th>흑산도</th>\n",
       "      <td>9439</td>\n",
       "    </tr>\n",
       "    <tr>\n",
       "      <th>대전</th>\n",
       "      <td>9429</td>\n",
       "    </tr>\n",
       "    <tr>\n",
       "      <th>파주</th>\n",
       "      <td>6183</td>\n",
       "    </tr>\n",
       "    <tr>\n",
       "      <th>상주</th>\n",
       "      <td>6180</td>\n",
       "    </tr>\n",
       "    <tr>\n",
       "      <th>동두천</th>\n",
       "      <td>6175</td>\n",
       "    </tr>\n",
       "    <tr>\n",
       "      <th>충주</th>\n",
       "      <td>5265</td>\n",
       "    </tr>\n",
       "    <tr>\n",
       "      <th>제천</th>\n",
       "      <td>1</td>\n",
       "    </tr>\n",
       "  </tbody>\n",
       "</table>\n",
       "</div>"
      ],
      "text/plain": [
       "      지점명\n",
       "백령도  9684\n",
       "울릉도  9619\n",
       "창원   9606\n",
       "의령군  9605\n",
       "북강릉  9603\n",
       "강진군  9602\n",
       "제주   9602\n",
       "대구   9602\n",
       "목포   9598\n",
       "북창원  9597\n",
       "포항   9596\n",
       "홍성   9596\n",
       "여수   9596\n",
       "철원   9595\n",
       "북춘천  9595\n",
       "함양군  9594\n",
       "서울   9593\n",
       "춘천   9592\n",
       "청송군  9592\n",
       "고산   9592\n",
       "보성군  9591\n",
       "경주시  9590\n",
       "원주   9590\n",
       "대관령  9589\n",
       "광양시  9587\n",
       "안동   9585\n",
       "김해시  9585\n",
       "인천   9584\n",
       "서산   9583\n",
       "고창군  9582\n",
       "수원   9581\n",
       "전주   9577\n",
       "순창군  9577\n",
       "청주   9576\n",
       "진주   9574\n",
       "추풍령  9568\n",
       "영광군  9565\n",
       "부산   9564\n",
       "양산시  9558\n",
       "고창   9542\n",
       "강릉   9489\n",
       "광주   9480\n",
       "흑산도  9439\n",
       "대전   9429\n",
       "파주   6183\n",
       "상주   6180\n",
       "동두천  6175\n",
       "충주   5265\n",
       "제천      1"
      ]
     },
     "execution_count": 127,
     "metadata": {},
     "output_type": "execute_result"
    }
   ],
   "source": [
    "pd.DataFrame(df_raw['지점명'].value_counts())"
   ]
  },
  {
   "cell_type": "code",
   "execution_count": 149,
   "id": "f868b75c-4212-4e78-b34c-1f984a70a99a",
   "metadata": {},
   "outputs": [
    {
     "data": {
      "text/plain": [
       "8030"
      ]
     },
     "execution_count": 149,
     "metadata": {},
     "output_type": "execute_result"
    }
   ],
   "source": [
    "365*2*11 # 11시간관측을 기준으로 했을 때 지점당 관측치 개수.."
   ]
  },
  {
   "cell_type": "markdown",
   "id": "6f4441b0-118f-4ddc-ab09-282eda12b0ea",
   "metadata": {},
   "source": [
    "대다수 지점에서 2년간 약 9500건 관측되었지만, 파주, 상주, 동두천, 충주, 제천(1)은 다른지점에 비해 관측치가 적음."
   ]
  },
  {
   "cell_type": "markdown",
   "id": "730afdaf-ae83-47a0-982c-bbbff79681eb",
   "metadata": {},
   "source": [
    "### 파주, 상주, 동두천"
   ]
  },
  {
   "cell_type": "code",
   "execution_count": 130,
   "id": "b2623c2e-ce8f-42db-99c2-0fc52fb27319",
   "metadata": {},
   "outputs": [
    {
     "data": {
      "text/html": [
       "<div>\n",
       "<style scoped>\n",
       "    .dataframe tbody tr th:only-of-type {\n",
       "        vertical-align: middle;\n",
       "    }\n",
       "\n",
       "    .dataframe tbody tr th {\n",
       "        vertical-align: top;\n",
       "    }\n",
       "\n",
       "    .dataframe thead th {\n",
       "        text-align: right;\n",
       "    }\n",
       "</style>\n",
       "<table border=\"1\" class=\"dataframe\">\n",
       "  <thead>\n",
       "    <tr style=\"text-align: right;\">\n",
       "      <th></th>\n",
       "      <th>지점</th>\n",
       "      <th>지점명</th>\n",
       "      <th>일시</th>\n",
       "      <th>일사(MJ/m2)</th>\n",
       "      <th>Datetime</th>\n",
       "      <th>hour</th>\n",
       "    </tr>\n",
       "  </thead>\n",
       "  <tbody>\n",
       "    <tr>\n",
       "      <th>0</th>\n",
       "      <td>93</td>\n",
       "      <td>북춘천</td>\n",
       "      <td>2021-01-01 08:00:00</td>\n",
       "      <td>0.00</td>\n",
       "      <td>2021-01-01</td>\n",
       "      <td>8</td>\n",
       "    </tr>\n",
       "    <tr>\n",
       "      <th>1</th>\n",
       "      <td>93</td>\n",
       "      <td>북춘천</td>\n",
       "      <td>2021-01-01 09:00:00</td>\n",
       "      <td>0.37</td>\n",
       "      <td>2021-01-01</td>\n",
       "      <td>9</td>\n",
       "    </tr>\n",
       "    <tr>\n",
       "      <th>2</th>\n",
       "      <td>93</td>\n",
       "      <td>북춘천</td>\n",
       "      <td>2021-01-01 10:00:00</td>\n",
       "      <td>0.96</td>\n",
       "      <td>2021-01-01</td>\n",
       "      <td>10</td>\n",
       "    </tr>\n",
       "    <tr>\n",
       "      <th>3</th>\n",
       "      <td>93</td>\n",
       "      <td>북춘천</td>\n",
       "      <td>2021-01-01 11:00:00</td>\n",
       "      <td>1.40</td>\n",
       "      <td>2021-01-01</td>\n",
       "      <td>11</td>\n",
       "    </tr>\n",
       "    <tr>\n",
       "      <th>4</th>\n",
       "      <td>93</td>\n",
       "      <td>북춘천</td>\n",
       "      <td>2021-01-01 12:00:00</td>\n",
       "      <td>1.72</td>\n",
       "      <td>2021-01-01</td>\n",
       "      <td>12</td>\n",
       "    </tr>\n",
       "  </tbody>\n",
       "</table>\n",
       "</div>"
      ],
      "text/plain": [
       "   지점  지점명                  일시  일사(MJ/m2)    Datetime  hour\n",
       "0  93  북춘천 2021-01-01 08:00:00       0.00  2021-01-01     8\n",
       "1  93  북춘천 2021-01-01 09:00:00       0.37  2021-01-01     9\n",
       "2  93  북춘천 2021-01-01 10:00:00       0.96  2021-01-01    10\n",
       "3  93  북춘천 2021-01-01 11:00:00       1.40  2021-01-01    11\n",
       "4  93  북춘천 2021-01-01 12:00:00       1.72  2021-01-01    12"
      ]
     },
     "execution_count": 130,
     "metadata": {},
     "output_type": "execute_result"
    }
   ],
   "source": [
    "df_raw.head() ## 북춘천"
   ]
  },
  {
   "cell_type": "code",
   "execution_count": 139,
   "id": "03ff324e-525e-4ad9-884c-7b7de8145b38",
   "metadata": {},
   "outputs": [
    {
     "data": {
      "text/html": [
       "<div>\n",
       "<style scoped>\n",
       "    .dataframe tbody tr th:only-of-type {\n",
       "        vertical-align: middle;\n",
       "    }\n",
       "\n",
       "    .dataframe tbody tr th {\n",
       "        vertical-align: top;\n",
       "    }\n",
       "\n",
       "    .dataframe thead th {\n",
       "        text-align: right;\n",
       "    }\n",
       "</style>\n",
       "<table border=\"1\" class=\"dataframe\">\n",
       "  <thead>\n",
       "    <tr style=\"text-align: right;\">\n",
       "      <th></th>\n",
       "      <th>지점</th>\n",
       "      <th>지점명</th>\n",
       "      <th>일시</th>\n",
       "      <th>일사(MJ/m2)</th>\n",
       "      <th>Datetime</th>\n",
       "      <th>hour</th>\n",
       "    </tr>\n",
       "  </thead>\n",
       "  <tbody>\n",
       "    <tr>\n",
       "      <th>10961</th>\n",
       "      <td>99</td>\n",
       "      <td>파주</td>\n",
       "      <td>2021-10-12</td>\n",
       "      <td>0.0</td>\n",
       "      <td>2021-10-12</td>\n",
       "      <td>0</td>\n",
       "    </tr>\n",
       "  </tbody>\n",
       "</table>\n",
       "</div>"
      ],
      "text/plain": [
       "       지점 지점명         일시  일사(MJ/m2)    Datetime  hour\n",
       "10961  99  파주 2021-10-12        0.0  2021-10-12     0"
      ]
     },
     "execution_count": 139,
     "metadata": {},
     "output_type": "execute_result"
    }
   ],
   "source": [
    "df_raw[df_raw['지점명']=='파주'].iloc[[0]] "
   ]
  },
  {
   "cell_type": "code",
   "execution_count": 140,
   "id": "ef077551-8c7b-4352-b61c-1f3aaa93705c",
   "metadata": {},
   "outputs": [
    {
     "data": {
      "text/html": [
       "<div>\n",
       "<style scoped>\n",
       "    .dataframe tbody tr th:only-of-type {\n",
       "        vertical-align: middle;\n",
       "    }\n",
       "\n",
       "    .dataframe tbody tr th {\n",
       "        vertical-align: top;\n",
       "    }\n",
       "\n",
       "    .dataframe thead th {\n",
       "        text-align: right;\n",
       "    }\n",
       "</style>\n",
       "<table border=\"1\" class=\"dataframe\">\n",
       "  <thead>\n",
       "    <tr style=\"text-align: right;\">\n",
       "      <th></th>\n",
       "      <th>지점</th>\n",
       "      <th>지점명</th>\n",
       "      <th>일시</th>\n",
       "      <th>일사(MJ/m2)</th>\n",
       "      <th>Datetime</th>\n",
       "      <th>hour</th>\n",
       "    </tr>\n",
       "  </thead>\n",
       "  <tbody>\n",
       "    <tr>\n",
       "      <th>84525</th>\n",
       "      <td>137</td>\n",
       "      <td>상주</td>\n",
       "      <td>2021-10-12</td>\n",
       "      <td>0.0</td>\n",
       "      <td>2021-10-12</td>\n",
       "      <td>0</td>\n",
       "    </tr>\n",
       "  </tbody>\n",
       "</table>\n",
       "</div>"
      ],
      "text/plain": [
       "        지점 지점명         일시  일사(MJ/m2)    Datetime  hour\n",
       "84525  137  상주 2021-10-12        0.0  2021-10-12     0"
      ]
     },
     "execution_count": 140,
     "metadata": {},
     "output_type": "execute_result"
    }
   ],
   "source": [
    "df_raw[df_raw['지점명']=='상주'].iloc[[0]]"
   ]
  },
  {
   "cell_type": "code",
   "execution_count": 141,
   "id": "bb96cd29-8932-46ea-a97f-ba33b5544f10",
   "metadata": {},
   "outputs": [
    {
     "data": {
      "text/html": [
       "<div>\n",
       "<style scoped>\n",
       "    .dataframe tbody tr th:only-of-type {\n",
       "        vertical-align: middle;\n",
       "    }\n",
       "\n",
       "    .dataframe tbody tr th {\n",
       "        vertical-align: top;\n",
       "    }\n",
       "\n",
       "    .dataframe thead th {\n",
       "        text-align: right;\n",
       "    }\n",
       "</style>\n",
       "<table border=\"1\" class=\"dataframe\">\n",
       "  <thead>\n",
       "    <tr style=\"text-align: right;\">\n",
       "      <th></th>\n",
       "      <th>지점</th>\n",
       "      <th>지점명</th>\n",
       "      <th>일시</th>\n",
       "      <th>일사(MJ/m2)</th>\n",
       "      <th>Datetime</th>\n",
       "      <th>hour</th>\n",
       "    </tr>\n",
       "  </thead>\n",
       "  <tbody>\n",
       "    <tr>\n",
       "      <th>9583</th>\n",
       "      <td>98</td>\n",
       "      <td>동두천</td>\n",
       "      <td>2021-10-12</td>\n",
       "      <td>0.0</td>\n",
       "      <td>2021-10-12</td>\n",
       "      <td>0</td>\n",
       "    </tr>\n",
       "  </tbody>\n",
       "</table>\n",
       "</div>"
      ],
      "text/plain": [
       "      지점  지점명         일시  일사(MJ/m2)    Datetime  hour\n",
       "9583  98  동두천 2021-10-12        0.0  2021-10-12     0"
      ]
     },
     "execution_count": 141,
     "metadata": {},
     "output_type": "execute_result"
    }
   ],
   "source": [
    "df_raw[df_raw['지점명']=='동두천'].iloc[[0]]"
   ]
  },
  {
   "cell_type": "markdown",
   "id": "abe7a756-a40c-4229-ac81-d70e0049fa64",
   "metadata": {},
   "source": [
    "### 충주"
   ]
  },
  {
   "cell_type": "code",
   "execution_count": 142,
   "id": "29b032bc-18d3-4e08-abef-8203b8383576",
   "metadata": {},
   "outputs": [
    {
     "data": {
      "text/html": [
       "<div>\n",
       "<style scoped>\n",
       "    .dataframe tbody tr th:only-of-type {\n",
       "        vertical-align: middle;\n",
       "    }\n",
       "\n",
       "    .dataframe tbody tr th {\n",
       "        vertical-align: top;\n",
       "    }\n",
       "\n",
       "    .dataframe thead th {\n",
       "        text-align: right;\n",
       "    }\n",
       "</style>\n",
       "<table border=\"1\" class=\"dataframe\">\n",
       "  <thead>\n",
       "    <tr style=\"text-align: right;\">\n",
       "      <th></th>\n",
       "      <th>지점</th>\n",
       "      <th>지점명</th>\n",
       "      <th>일시</th>\n",
       "      <th>일사(MJ/m2)</th>\n",
       "      <th>Datetime</th>\n",
       "      <th>hour</th>\n",
       "    </tr>\n",
       "  </thead>\n",
       "  <tbody>\n",
       "    <tr>\n",
       "      <th>60308</th>\n",
       "      <td>127</td>\n",
       "      <td>충주</td>\n",
       "      <td>2021-11-18 18:00:00</td>\n",
       "      <td>0.0</td>\n",
       "      <td>2021-11-18</td>\n",
       "      <td>18</td>\n",
       "    </tr>\n",
       "  </tbody>\n",
       "</table>\n",
       "</div>"
      ],
      "text/plain": [
       "        지점 지점명                  일시  일사(MJ/m2)    Datetime  hour\n",
       "60308  127  충주 2021-11-18 18:00:00        0.0  2021-11-18    18"
      ]
     },
     "execution_count": 142,
     "metadata": {},
     "output_type": "execute_result"
    }
   ],
   "source": [
    "df_raw[df_raw['지점명']=='충주'].iloc[[0]]"
   ]
  },
  {
   "cell_type": "markdown",
   "id": "1ad4d989-105b-47a0-9b1e-e7c68838a861",
   "metadata": {},
   "source": [
    "### 제천"
   ]
  },
  {
   "cell_type": "code",
   "execution_count": 134,
   "id": "35c1ebb2-2617-4b8b-854b-6057a15e48dc",
   "metadata": {},
   "outputs": [
    {
     "data": {
      "text/html": [
       "<div>\n",
       "<style scoped>\n",
       "    .dataframe tbody tr th:only-of-type {\n",
       "        vertical-align: middle;\n",
       "    }\n",
       "\n",
       "    .dataframe tbody tr th {\n",
       "        vertical-align: top;\n",
       "    }\n",
       "\n",
       "    .dataframe thead th {\n",
       "        text-align: right;\n",
       "    }\n",
       "</style>\n",
       "<table border=\"1\" class=\"dataframe\">\n",
       "  <thead>\n",
       "    <tr style=\"text-align: right;\">\n",
       "      <th></th>\n",
       "      <th>지점</th>\n",
       "      <th>지점명</th>\n",
       "      <th>일시</th>\n",
       "      <th>일사(MJ/m2)</th>\n",
       "      <th>Datetime</th>\n",
       "      <th>hour</th>\n",
       "    </tr>\n",
       "  </thead>\n",
       "  <tbody>\n",
       "    <tr>\n",
       "      <th>167811</th>\n",
       "      <td>221</td>\n",
       "      <td>제천</td>\n",
       "      <td>2022-10-27 07:00:00</td>\n",
       "      <td>0.0</td>\n",
       "      <td>2022-10-27</td>\n",
       "      <td>7</td>\n",
       "    </tr>\n",
       "  </tbody>\n",
       "</table>\n",
       "</div>"
      ],
      "text/plain": [
       "         지점 지점명                  일시  일사(MJ/m2)    Datetime  hour\n",
       "167811  221  제천 2022-10-27 07:00:00        0.0  2022-10-27     7"
      ]
     },
     "execution_count": 134,
     "metadata": {},
     "output_type": "execute_result"
    }
   ],
   "source": [
    "df_raw[df_raw['지점명']=='제천']"
   ]
  },
  {
   "cell_type": "markdown",
   "id": "d3da5e49-4bbc-4f33-a771-c88b614bda31",
   "metadata": {},
   "source": [
    "> 보유기간 1904년 4월 ~ 현재 (지점별 상이함) \n",
    "\n",
    "- 파주, 상주, 동두천 지점은 2021-10-12일 이전의 기록은 보유하고 있지 않음.\n",
    "- 충주는 2021-11-18일 이전의 기록은 보유하고 있지 않음.\n",
    "- 제천은 2022-10-27일 단 하루만의 기록만 있음."
   ]
  },
  {
   "cell_type": "markdown",
   "id": "cf1501f9-780a-4d56-b67f-7aeed3172fca",
   "metadata": {},
   "source": [
    "- ref: https://minwon.kma.go.kr/main/obvStn.do\n",
    "- ref: https://data.kma.go.kr/data/grnd/selectAsosRltmList.do?pgmNo=36"
   ]
  },
  {
   "cell_type": "markdown",
   "id": "da492f8a-7afa-48ad-bb60-64890f1c1feb",
   "metadata": {},
   "source": [
    "---"
   ]
  },
  {
   "cell_type": "markdown",
   "id": "32142e3c-a6f5-4087-8428-ca2782c2be9c",
   "metadata": {},
   "source": [
    "## 데이터 처리 및 csv파일로 내보내기"
   ]
  },
  {
   "cell_type": "markdown",
   "id": "42939d45-a5a1-4372-b3b6-48782c27e1f5",
   "metadata": {},
   "source": [
    "### 제천, 파주, 상주, 동두천 제거"
   ]
  },
  {
   "cell_type": "code",
   "execution_count": 161,
   "id": "9aa687e8-f592-4853-92ed-bdaa89e17e11",
   "metadata": {},
   "outputs": [],
   "source": [
    "df_prep1 = df_raw[~df_raw['지점명'].str.contains('제천|파주|상주|동두천|충주')]"
   ]
  },
  {
   "cell_type": "markdown",
   "id": "56d838f4-f4e8-432e-b0f6-276e4b50bc13",
   "metadata": {},
   "source": [
    "### 관측시간 08시 ~ 18시"
   ]
  },
  {
   "cell_type": "code",
   "execution_count": 174,
   "id": "8fb9dd39-9bfc-414c-8b5d-343f8aa8d928",
   "metadata": {},
   "outputs": [
    {
     "data": {
      "text/html": [
       "<div>\n",
       "<style scoped>\n",
       "    .dataframe tbody tr th:only-of-type {\n",
       "        vertical-align: middle;\n",
       "    }\n",
       "\n",
       "    .dataframe tbody tr th {\n",
       "        vertical-align: top;\n",
       "    }\n",
       "\n",
       "    .dataframe thead th {\n",
       "        text-align: right;\n",
       "    }\n",
       "</style>\n",
       "<table border=\"1\" class=\"dataframe\">\n",
       "  <thead>\n",
       "    <tr style=\"text-align: right;\">\n",
       "      <th></th>\n",
       "      <th>지점</th>\n",
       "      <th>지점명</th>\n",
       "      <th>일시</th>\n",
       "      <th>일사(MJ/m2)</th>\n",
       "      <th>Datetime</th>\n",
       "      <th>hour</th>\n",
       "    </tr>\n",
       "  </thead>\n",
       "  <tbody>\n",
       "    <tr>\n",
       "      <th>0</th>\n",
       "      <td>93</td>\n",
       "      <td>북춘천</td>\n",
       "      <td>2021-01-01 08:00:00</td>\n",
       "      <td>0.00</td>\n",
       "      <td>2021-01-01</td>\n",
       "      <td>8</td>\n",
       "    </tr>\n",
       "    <tr>\n",
       "      <th>1</th>\n",
       "      <td>93</td>\n",
       "      <td>북춘천</td>\n",
       "      <td>2021-01-01 09:00:00</td>\n",
       "      <td>0.37</td>\n",
       "      <td>2021-01-01</td>\n",
       "      <td>9</td>\n",
       "    </tr>\n",
       "    <tr>\n",
       "      <th>2</th>\n",
       "      <td>93</td>\n",
       "      <td>북춘천</td>\n",
       "      <td>2021-01-01 10:00:00</td>\n",
       "      <td>0.96</td>\n",
       "      <td>2021-01-01</td>\n",
       "      <td>10</td>\n",
       "    </tr>\n",
       "    <tr>\n",
       "      <th>3</th>\n",
       "      <td>93</td>\n",
       "      <td>북춘천</td>\n",
       "      <td>2021-01-01 11:00:00</td>\n",
       "      <td>1.40</td>\n",
       "      <td>2021-01-01</td>\n",
       "      <td>11</td>\n",
       "    </tr>\n",
       "    <tr>\n",
       "      <th>4</th>\n",
       "      <td>93</td>\n",
       "      <td>북춘천</td>\n",
       "      <td>2021-01-01 12:00:00</td>\n",
       "      <td>1.72</td>\n",
       "      <td>2021-01-01</td>\n",
       "      <td>12</td>\n",
       "    </tr>\n",
       "    <tr>\n",
       "      <th>...</th>\n",
       "      <td>...</td>\n",
       "      <td>...</td>\n",
       "      <td>...</td>\n",
       "      <td>...</td>\n",
       "      <td>...</td>\n",
       "      <td>...</td>\n",
       "    </tr>\n",
       "    <tr>\n",
       "      <th>230200</th>\n",
       "      <td>283</td>\n",
       "      <td>경주시</td>\n",
       "      <td>2023-01-01 14:00:00</td>\n",
       "      <td>1.62</td>\n",
       "      <td>2023-01-01</td>\n",
       "      <td>14</td>\n",
       "    </tr>\n",
       "    <tr>\n",
       "      <th>230201</th>\n",
       "      <td>283</td>\n",
       "      <td>경주시</td>\n",
       "      <td>2023-01-01 15:00:00</td>\n",
       "      <td>1.30</td>\n",
       "      <td>2023-01-01</td>\n",
       "      <td>15</td>\n",
       "    </tr>\n",
       "    <tr>\n",
       "      <th>230202</th>\n",
       "      <td>283</td>\n",
       "      <td>경주시</td>\n",
       "      <td>2023-01-01 16:00:00</td>\n",
       "      <td>0.82</td>\n",
       "      <td>2023-01-01</td>\n",
       "      <td>16</td>\n",
       "    </tr>\n",
       "    <tr>\n",
       "      <th>230203</th>\n",
       "      <td>283</td>\n",
       "      <td>경주시</td>\n",
       "      <td>2023-01-01 17:00:00</td>\n",
       "      <td>0.29</td>\n",
       "      <td>2023-01-01</td>\n",
       "      <td>17</td>\n",
       "    </tr>\n",
       "    <tr>\n",
       "      <th>230204</th>\n",
       "      <td>283</td>\n",
       "      <td>경주시</td>\n",
       "      <td>2023-01-01 18:00:00</td>\n",
       "      <td>0.01</td>\n",
       "      <td>2023-01-01</td>\n",
       "      <td>18</td>\n",
       "    </tr>\n",
       "  </tbody>\n",
       "</table>\n",
       "<p>352763 rows × 6 columns</p>\n",
       "</div>"
      ],
      "text/plain": [
       "         지점  지점명                  일시  일사(MJ/m2)    Datetime  hour\n",
       "0        93  북춘천 2021-01-01 08:00:00       0.00  2021-01-01     8\n",
       "1        93  북춘천 2021-01-01 09:00:00       0.37  2021-01-01     9\n",
       "2        93  북춘천 2021-01-01 10:00:00       0.96  2021-01-01    10\n",
       "3        93  북춘천 2021-01-01 11:00:00       1.40  2021-01-01    11\n",
       "4        93  북춘천 2021-01-01 12:00:00       1.72  2021-01-01    12\n",
       "...     ...  ...                 ...        ...         ...   ...\n",
       "230200  283  경주시 2023-01-01 14:00:00       1.62  2023-01-01    14\n",
       "230201  283  경주시 2023-01-01 15:00:00       1.30  2023-01-01    15\n",
       "230202  283  경주시 2023-01-01 16:00:00       0.82  2023-01-01    16\n",
       "230203  283  경주시 2023-01-01 17:00:00       0.29  2023-01-01    17\n",
       "230204  283  경주시 2023-01-01 18:00:00       0.01  2023-01-01    18\n",
       "\n",
       "[352763 rows x 6 columns]"
      ]
     },
     "execution_count": 174,
     "metadata": {},
     "output_type": "execute_result"
    }
   ],
   "source": [
    "df_prep1[(df_prep1['hour']>=8) & (df_prep1['hour'] <= 18)]"
   ]
  },
  {
   "cell_type": "code",
   "execution_count": 178,
   "id": "38ee4dfa-7a09-492c-ac0c-a092ba3b842e",
   "metadata": {},
   "outputs": [
    {
     "data": {
      "text/plain": [
       "8     32069\n",
       "9     32082\n",
       "10    32080\n",
       "11    32064\n",
       "12    32069\n",
       "13    32072\n",
       "14    32073\n",
       "15    32072\n",
       "16    32083\n",
       "17    32061\n",
       "18    32038\n",
       "Name: hour, dtype: int64"
      ]
     },
     "execution_count": 178,
     "metadata": {},
     "output_type": "execute_result"
    }
   ],
   "source": [
    "df_prep1[(df_prep1['hour']>=8) & (df_prep1['hour'] <= 18)]['hour'].value_counts().sort_index()"
   ]
  },
  {
   "cell_type": "code",
   "execution_count": 182,
   "id": "49a25d6b-8c43-4787-afe9-8e7f1ae4d947",
   "metadata": {},
   "outputs": [
    {
     "data": {
      "text/html": [
       "<div>\n",
       "<style scoped>\n",
       "    .dataframe tbody tr th:only-of-type {\n",
       "        vertical-align: middle;\n",
       "    }\n",
       "\n",
       "    .dataframe tbody tr th {\n",
       "        vertical-align: top;\n",
       "    }\n",
       "\n",
       "    .dataframe thead th {\n",
       "        text-align: right;\n",
       "    }\n",
       "</style>\n",
       "<table border=\"1\" class=\"dataframe\">\n",
       "  <thead>\n",
       "    <tr style=\"text-align: right;\">\n",
       "      <th></th>\n",
       "      <th>지점</th>\n",
       "      <th>지점명</th>\n",
       "      <th>일시</th>\n",
       "      <th>일사(MJ/m2)</th>\n",
       "      <th>Datetime</th>\n",
       "      <th>hour</th>\n",
       "    </tr>\n",
       "  </thead>\n",
       "  <tbody>\n",
       "    <tr>\n",
       "      <th>0</th>\n",
       "      <td>93</td>\n",
       "      <td>북춘천</td>\n",
       "      <td>2021-01-01 08:00:00</td>\n",
       "      <td>0.00</td>\n",
       "      <td>2021-01-01</td>\n",
       "      <td>8</td>\n",
       "    </tr>\n",
       "    <tr>\n",
       "      <th>1</th>\n",
       "      <td>93</td>\n",
       "      <td>북춘천</td>\n",
       "      <td>2021-01-01 09:00:00</td>\n",
       "      <td>0.37</td>\n",
       "      <td>2021-01-01</td>\n",
       "      <td>9</td>\n",
       "    </tr>\n",
       "    <tr>\n",
       "      <th>2</th>\n",
       "      <td>93</td>\n",
       "      <td>북춘천</td>\n",
       "      <td>2021-01-01 10:00:00</td>\n",
       "      <td>0.96</td>\n",
       "      <td>2021-01-01</td>\n",
       "      <td>10</td>\n",
       "    </tr>\n",
       "    <tr>\n",
       "      <th>3</th>\n",
       "      <td>93</td>\n",
       "      <td>북춘천</td>\n",
       "      <td>2021-01-01 11:00:00</td>\n",
       "      <td>1.40</td>\n",
       "      <td>2021-01-01</td>\n",
       "      <td>11</td>\n",
       "    </tr>\n",
       "    <tr>\n",
       "      <th>4</th>\n",
       "      <td>93</td>\n",
       "      <td>북춘천</td>\n",
       "      <td>2021-01-01 12:00:00</td>\n",
       "      <td>1.72</td>\n",
       "      <td>2021-01-01</td>\n",
       "      <td>12</td>\n",
       "    </tr>\n",
       "  </tbody>\n",
       "</table>\n",
       "</div>"
      ],
      "text/plain": [
       "   지점  지점명                  일시  일사(MJ/m2)    Datetime  hour\n",
       "0  93  북춘천 2021-01-01 08:00:00       0.00  2021-01-01     8\n",
       "1  93  북춘천 2021-01-01 09:00:00       0.37  2021-01-01     9\n",
       "2  93  북춘천 2021-01-01 10:00:00       0.96  2021-01-01    10\n",
       "3  93  북춘천 2021-01-01 11:00:00       1.40  2021-01-01    11\n",
       "4  93  북춘천 2021-01-01 12:00:00       1.72  2021-01-01    12"
      ]
     },
     "execution_count": 182,
     "metadata": {},
     "output_type": "execute_result"
    }
   ],
   "source": [
    "df_prep2 = df_prep1[(df_prep1['hour']>=8) & (df_prep1['hour'] <= 18)]\n",
    "df_prep2.head()"
   ]
  },
  {
   "cell_type": "code",
   "execution_count": 185,
   "id": "39605473-77d7-4fae-83d6-6d8d0a578456",
   "metadata": {},
   "outputs": [
    {
     "data": {
      "text/plain": [
       "44"
      ]
     },
     "execution_count": 185,
     "metadata": {},
     "output_type": "execute_result"
    }
   ],
   "source": [
    "df_prep2['지점명'].nunique()"
   ]
  },
  {
   "cell_type": "code",
   "execution_count": 187,
   "id": "a5639a62-0bc2-46f3-8ab2-d6a0ccce1c35",
   "metadata": {},
   "outputs": [
    {
     "data": {
      "text/plain": [
       "북춘천    8041\n",
       "북강릉    8041\n",
       "철원     8041\n",
       "강진군    8041\n",
       "백령도    8040\n",
       "의령군    8040\n",
       "홍성     8040\n",
       "목포     8039\n",
       "창원     8039\n",
       "춘천     8038\n",
       "제주     8037\n",
       "원주     8037\n",
       "대구     8037\n",
       "서울     8036\n",
       "북창원    8034\n",
       "여수     8034\n",
       "함양군    8034\n",
       "대관령    8033\n",
       "포항     8032\n",
       "보성군    8032\n",
       "인천     8030\n",
       "청송군    8030\n",
       "서산     8030\n",
       "김해시    8029\n",
       "고산     8029\n",
       "경주시    8029\n",
       "수원     8025\n",
       "광양시    8023\n",
       "안동     8023\n",
       "순창군    8023\n",
       "고창군    8022\n",
       "청주     8020\n",
       "추풍령    8018\n",
       "전주     8017\n",
       "영광군    8012\n",
       "진주     8010\n",
       "부산     8000\n",
       "양산시    7998\n",
       "고창     7992\n",
       "울릉도    7985\n",
       "광주     7936\n",
       "강릉     7931\n",
       "흑산도    7907\n",
       "대전     7898\n",
       "Name: 지점명, dtype: int64"
      ]
     },
     "execution_count": 187,
     "metadata": {},
     "output_type": "execute_result"
    }
   ],
   "source": [
    "df_prep2['지점명'].value_counts()"
   ]
  },
  {
   "cell_type": "code",
   "execution_count": 186,
   "id": "2335e3c2-825b-432f-8fa4-e5411e184148",
   "metadata": {},
   "outputs": [],
   "source": [
    "df_prep2.to_csv('./prep_data.csv')"
   ]
  }
 ],
 "metadata": {
  "kernelspec": {
   "display_name": "Python 3",
   "language": "python",
   "name": "python3"
  },
  "language_info": {
   "codemirror_mode": {
    "name": "ipython",
    "version": 3
   },
   "file_extension": ".py",
   "mimetype": "text/x-python",
   "name": "python",
   "nbconvert_exporter": "python",
   "pygments_lexer": "ipython3",
   "version": "3.8.16"
  }
 },
 "nbformat": 4,
 "nbformat_minor": 5
}
