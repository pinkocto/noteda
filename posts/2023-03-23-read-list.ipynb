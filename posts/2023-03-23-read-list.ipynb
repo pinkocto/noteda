{
 "cells": [
  {
   "cell_type": "raw",
   "id": "5e108b4c-4852-473d-8f6a-976bb7f21f83",
   "metadata": {},
   "source": [
    "---\n",
    "title: \"Lists to read\"\n",
    "author: \"jiyun Lim\"\n",
    "date: \"03/14/2023\"\n",
    "categories:\n",
    "  - To read\n",
    "---"
   ]
  },
  {
   "cell_type": "markdown",
   "id": "f51cfbe7-460e-45ee-9197-9dc0d1b895f4",
   "metadata": {},
   "source": [
    "### 0. For Research"
   ]
  },
  {
   "cell_type": "markdown",
   "id": "3a322d91-8e85-4f01-b33a-29c445a7232d",
   "metadata": {},
   "source": [
    "- [시간별 기상 변화를 고려한 LSTM 기반 일사량 예측에 관한 연구](https://www.kci.go.kr/kciportal/ci/sereArticleSearch/ciSereArtiView.kci?sereArticleSearchBean.artiId=ART002690330)\n",
    "\n",
    "- [EMD](https://kr.mathworks.com/discovery/empirical-mode-decomposition.html)"
   ]
  },
  {
   "cell_type": "markdown",
   "id": "6f83a339-7942-43b8-bd7b-1582fbeb71ea",
   "metadata": {},
   "source": [
    "### 1. GNN"
   ]
  },
  {
   "cell_type": "markdown",
   "id": "17098c0a-800d-485c-9b53-d384f234520b",
   "metadata": {},
   "source": [
    "- [Graph Representation Learning Book](https://www.cs.mcgill.ca/~wlh/grl_book/)\n",
    "\n",
    "- [scGCN is a graph convolutional networks algorithm for knowledge transfer in single cell omics](https://pubmed.ncbi.nlm.nih.gov/34158507/)\n",
    "\n",
    "- [https://wandb.ai/yashkotadia/gatedgcn-pattern/reportlist]()\n",
    "\n",
    "- [Ct Image Denoising With Encoder-Decoder Based Graph Convolutional Networks](https://ieeexplore.ieee.org/document/9433900)"
   ]
  },
  {
   "cell_type": "markdown",
   "id": "b3e52fb4-3138-443d-a9dc-8cf3db242ef3",
   "metadata": {},
   "source": [
    "https://paperswithcode.com/sota/point-cloud-segmentation-on-pointcloud-c"
   ]
  },
  {
   "cell_type": "markdown",
   "id": "0ee6fcdd-207a-4c94-a246-8e1693efc7d1",
   "metadata": {},
   "source": [
    "### 2. RNN"
   ]
  },
  {
   "cell_type": "markdown",
   "id": "8df9f318-e71e-41cb-95a7-b4ac81db70cf",
   "metadata": {},
   "source": [
    "- [Learning Phrase Representations using RNN Encoder-Decoder for Statistical Machine Translation](https://arxiv.org/abs/1406.1078)\n",
    "\n",
    "- [Light Gated Recurrent Units for Speech Recognition](https://arxiv.org/abs/1803.10225)"
   ]
  }
 ],
 "metadata": {
  "kernelspec": {
   "display_name": "Python 3",
   "language": "python",
   "name": "python3"
  },
  "language_info": {
   "codemirror_mode": {
    "name": "ipython",
    "version": 3
   },
   "file_extension": ".py",
   "mimetype": "text/x-python",
   "name": "python",
   "nbconvert_exporter": "python",
   "pygments_lexer": "ipython3",
   "version": "3.8.16"
  }
 },
 "nbformat": 4,
 "nbformat_minor": 5
}
