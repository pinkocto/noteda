{
 "cells": [
  {
   "cell_type": "raw",
   "id": "8d409b91-c6f1-4c83-a8d9-0e7cd4cc5d09",
   "metadata": {},
   "source": [
    "---\n",
    "title: \" **[PAPER]** Ensemble patch transformation\"\n",
    "author: \"JiyunLim\"\n",
    "date: \"05/06/2023\"\n",
    "categories:\n",
    "  - Research\n",
    "  - EPT\n",
    "  - PAPER REVIEW\n",
    "---"
   ]
  },
  {
   "cell_type": "markdown",
   "id": "0a50e97a-ea33-41ae-a290-4b025eaa7a35",
   "metadata": {},
   "source": [
    "> ref : <https://www.sciencedirect.com/science/article/pii/S2352711021000492>"
   ]
  },
  {
   "cell_type": "markdown",
   "id": "84342b0a-d53c-4573-8077-65b7ddbb76bf",
   "metadata": {},
   "source": [
    "The primary focus of multiscale analysis is to interpret the temporal characteristics of one-dimensional signals and local spatial patterns of two-dimensional images according to the scale variability. There have been numerous studies for multiscale analysis in the literature, including spectral analysis, wavelet analysis, empirical mode decomposition, synchrosqueezed wavelet transforms, and variational mode decomposition. These methodologies have been widely applied in various areas and can be easily implemented by Matlab and R packages. Recently, ensemble patch transform has been developed for multiscale analysis of one-dimensional signals and two-dimensional images. For researchers and practitioners of multidisciplinary areas, we provide the R package EPT for an efficient implementation of the ensemble patch transform. This package flexibly designs various types of filters for identifying local characteristics and scale patterns hidden in a signal and the spatial characteristics of an image. The R package EPT also provides an effective tool for visualization and decomposition of signals and images.\n",
    "\n"
   ]
  }
 ],
 "metadata": {
  "kernelspec": {
   "display_name": "Python 3",
   "language": "python",
   "name": "python3"
  },
  "language_info": {
   "codemirror_mode": {
    "name": "ipython",
    "version": 3
   },
   "file_extension": ".py",
   "mimetype": "text/x-python",
   "name": "python",
   "nbconvert_exporter": "python",
   "pygments_lexer": "ipython3",
   "version": "3.8.16"
  }
 },
 "nbformat": 4,
 "nbformat_minor": 5
}
