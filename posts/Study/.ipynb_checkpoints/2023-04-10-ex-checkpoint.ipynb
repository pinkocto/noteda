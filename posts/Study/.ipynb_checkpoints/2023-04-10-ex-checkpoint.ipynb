{
 "cells": [
  {
   "cell_type": "raw",
   "id": "085851f3-90d9-4fd3-a1f0-62c48ede3f4b",
   "metadata": {},
   "source": [
    "---\n",
    "title: \"연습장\"\n",
    "author: \"JiyunLim\"\n",
    "date: \"04/10/2023\"\n",
    "categories:\n",
    "  - LSTM\n",
    "---"
   ]
  },
  {
   "cell_type": "markdown",
   "id": "0d230ccb-c658-4487-ad4a-99caaebd1256",
   "metadata": {},
   "source": [
    "- [Data](https://github.com/gilbutITbook/080289/blob/main/chap07/data/SBUX.csv)"
   ]
  },
  {
   "cell_type": "markdown",
   "id": "ea790fcb-ed92-4599-9194-28ead15bc8c4",
   "metadata": {},
   "source": [
    "## import"
   ]
  },
  {
   "cell_type": "code",
   "execution_count": 1,
   "id": "22995b9d-2303-4758-932a-09764fc3008b",
   "metadata": {},
   "outputs": [],
   "source": [
    "import os\n",
    "import time\n",
    "import gc\n",
    "\n",
    "import numpy as np\n",
    "import pandas as pd\n",
    "import matplotlib.pyplot as plt\n",
    "\n",
    "import torch\n",
    "import torch.nn as nn\n",
    "from torch.utils.data import TensorDataset, DataLoader\n",
    "from torch.autograd import Variable\n",
    "from tqdm import tqdm_notebook\n",
    "from sklearn.preprocessing import StandardScaler, MinMaxScaler\n",
    "from sklearn.model_selection import train_test_split  \n",
    "\n",
    "device = torch.device('cuda:0' if torch.cuda.is_available() else 'cpu')"
   ]
  },
  {
   "cell_type": "code",
   "execution_count": 2,
   "id": "3c0109b7-4462-4135-9d34-9114c614de0a",
   "metadata": {},
   "outputs": [
    {
     "data": {
      "text/plain": [
       "device(type='cuda', index=0)"
      ]
     },
     "execution_count": 2,
     "metadata": {},
     "output_type": "execute_result"
    }
   ],
   "source": [
    "device"
   ]
  },
  {
   "cell_type": "code",
   "execution_count": 3,
   "id": "3755b92e-9c4d-4937-a09a-b58adf726fa3",
   "metadata": {},
   "outputs": [],
   "source": [
    "url = 'https://raw.githubusercontent.com/pinkocto/noteda/main/posts/SOLAR/data/df_new.csv'\n",
    "data = pd.read_csv(url)"
   ]
  },
  {
   "cell_type": "code",
   "execution_count": 5,
   "id": "02423535-f837-440c-becb-c609bf7b10e9",
   "metadata": {},
   "outputs": [
    {
     "name": "stdout",
     "output_type": "stream",
     "text": [
      "date     object\n",
      "북춘천     float64\n",
      "철원      float64\n",
      "대관령     float64\n",
      "춘천      float64\n",
      "백령도     float64\n",
      "북강릉     float64\n",
      "강릉      float64\n",
      "서울      float64\n",
      "인천      float64\n",
      "원주      float64\n",
      "울릉도     float64\n",
      "수원      float64\n",
      "서산      float64\n",
      "청주      float64\n",
      "대전      float64\n",
      "추풍령     float64\n",
      "안동      float64\n",
      "포항      float64\n",
      "대구      float64\n",
      "전주      float64\n",
      "창원      float64\n",
      "광주      float64\n",
      "부산      float64\n",
      "목포      float64\n",
      "여수      float64\n",
      "흑산도     float64\n",
      "고창      float64\n",
      "홍성      float64\n",
      "제주      float64\n",
      "고산      float64\n",
      "진주      float64\n",
      "고창군     float64\n",
      "영광군     float64\n",
      "김해시     float64\n",
      "순창군     float64\n",
      "북창원     float64\n",
      "양산시     float64\n",
      "보성군     float64\n",
      "강진군     float64\n",
      "의령군     float64\n",
      "함양군     float64\n",
      "광양시     float64\n",
      "청송군     float64\n",
      "경주시     float64\n",
      "dtype: object\n"
     ]
    }
   ],
   "source": [
    "print(data.dtypes)"
   ]
  },
  {
   "cell_type": "code",
   "execution_count": 6,
   "id": "8f62fff1-fd4a-47f0-9d17-ec41a73b4829",
   "metadata": {},
   "outputs": [],
   "source": [
    "data['date'] = pd.to_datetime(data['date'])\n",
    "data.set_index('date', inplace=True)"
   ]
  },
  {
   "cell_type": "code",
   "execution_count": 8,
   "id": "8bda7703-bca0-4d8b-a196-aa894df56a13",
   "metadata": {},
   "outputs": [
    {
     "data": {
      "text/plain": [
       "Index(['북춘천', '철원', '대관령', '춘천', '백령도', '북강릉', '강릉', '서울', '인천', '원주', '울릉도',\n",
       "       '수원', '서산', '청주', '대전', '추풍령', '안동', '포항', '대구', '전주', '창원', '광주', '부산',\n",
       "       '목포', '여수', '흑산도', '고창', '홍성', '제주', '고산', '진주', '고창군', '영광군', '김해시',\n",
       "       '순창군', '북창원', '양산시', '보성군', '강진군', '의령군', '함양군', '광양시', '청송군', '경주시'],\n",
       "      dtype='object')"
      ]
     },
     "execution_count": 8,
     "metadata": {},
     "output_type": "execute_result"
    }
   ],
   "source": [
    "data.columns"
   ]
  },
  {
   "cell_type": "code",
   "execution_count": 15,
   "id": "51f002b7-6a23-45e9-8d68-bca7290b918e",
   "metadata": {},
   "outputs": [
    {
     "data": {
      "text/plain": [
       "<Axes: >"
      ]
     },
     "execution_count": 15,
     "metadata": {},
     "output_type": "execute_result"
    },
    {
     "data": {
      "image/png": "[encoded data removed]",
      "text/plain": [
       "<Figure size 432x288 with 1 Axes>"
      ]
     },
     "metadata": {
      "needs_background": "light"
     },
     "output_type": "display_data"
    }
   ],
   "source": [
    "X=data.iloc[:,:-1] # 마지막 칼럼을 제외한 모든 컬럼\n",
    "y=data.iloc[:,5:6] # 마지막 Volumn을 레이블로 사용\n",
    "print(X)\n",
    "print(y)"
   ]
  },
  {
   "cell_type": "code",
   "execution_count": null,
   "id": "8313fa6c-65dd-44c4-bb50-f8fbc5abe9a1",
   "metadata": {},
   "outputs": [],
   "source": []
  }
 ],
 "metadata": {
  "kernelspec": {
   "display_name": "Python 3",
   "language": "python",
   "name": "python3"
  },
  "language_info": {
   "codemirror_mode": {
    "name": "ipython",
    "version": 3
   },
   "file_extension": ".py",
   "mimetype": "text/x-python",
   "name": "python",
   "nbconvert_exporter": "python",
   "pygments_lexer": "ipython3",
   "version": "3.8.16"
  }
 },
 "nbformat": 4,
 "nbformat_minor": 5
}
