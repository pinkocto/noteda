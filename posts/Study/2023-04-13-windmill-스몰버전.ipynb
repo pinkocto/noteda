{
 "cells": [
  {
   "cell_type": "raw",
   "id": "90c8c268-db05-41ea-bda8-d9079f3fad33",
   "metadata": {},
   "source": [
    "---\n",
    "title: \"WindmillOutput (Small)\"\n",
    "author: \"JiyunLim\"\n",
    "date: \"04/12/2023\"\n",
    "categories:\n",
    "  - Windmill\n",
    "---"
   ]
  },
  {
   "cell_type": "markdown",
   "id": "cadc51b8-ac27-47d1-beca-7ed9df7b88fb",
   "metadata": {},
   "source": [
    "- ref: <https://pytorch-geometric.readthedocs.io/en/latest/notes/introduction.html#>\n",
    "\n",
    "- ref: <>"
   ]
  },
  {
   "cell_type": "markdown",
   "id": "f5e12aec-17bb-442c-8250-4e799dfb3abf",
   "metadata": {},
   "source": [
    "Hourly energy output of windmills from a European country for more than 2 years. Vertices represent 11 windmills and weighted edges describe the strength of relationships. The target variable allows for regression tasks."
   ]
  },
  {
   "cell_type": "code",
   "execution_count": 6,
   "id": "0106b31e-0b08-482b-a80a-1936f107fac7",
   "metadata": {},
   "outputs": [],
   "source": [
    "import torch\n",
    "from torch_geometric_temporal.dataset import WindmillOutputSmallDatasetLoader"
   ]
  },
  {
   "cell_type": "code",
   "execution_count": 7,
   "id": "a18534d3-0b81-4bc4-8de5-d0dcefcd0cdf",
   "metadata": {},
   "outputs": [],
   "source": [
    "loader =  WindmillOutputSmallDatasetLoader()\n",
    "dataset = loader.get_dataset()"
   ]
  },
  {
   "cell_type": "code",
   "execution_count": 9,
   "id": "594d37e0-f92e-499f-b59f-5814bcae79d2",
   "metadata": {},
   "outputs": [
    {
     "data": {
      "text/plain": [
       "(2, 121)"
      ]
     },
     "execution_count": 9,
     "metadata": {},
     "output_type": "execute_result"
    }
   ],
   "source": [
    "dataset.edge_index.shape"
   ]
  },
  {
   "cell_type": "code",
   "execution_count": null,
   "id": "2a9005d8-ed8c-4d06-b960-80508da39bb4",
   "metadata": {},
   "outputs": [],
   "source": []
  }
 ],
 "metadata": {
  "kernelspec": {
   "display_name": "Python 3",
   "language": "python",
   "name": "python3"
  },
  "language_info": {
   "codemirror_mode": {
    "name": "ipython",
    "version": 3
   },
   "file_extension": ".py",
   "mimetype": "text/x-python",
   "name": "python",
   "nbconvert_exporter": "python",
   "pygments_lexer": "ipython3",
   "version": "3.8.16"
  }
 },
 "nbformat": 4,
 "nbformat_minor": 5
}
