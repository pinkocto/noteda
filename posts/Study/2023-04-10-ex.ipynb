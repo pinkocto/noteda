{
 "cells": [
  {
   "cell_type": "raw",
   "id": "085851f3-90d9-4fd3-a1f0-62c48ede3f4b",
   "metadata": {},
   "source": [
    "---\n",
    "title: \"연습장\"\n",
    "author: \"JiyunLim\"\n",
    "date: \"04/10/2023\"\n",
    "categories:\n",
    "  - LSTM\n",
    "---"
   ]
  },
  {
   "cell_type": "markdown",
   "id": "0d230ccb-c658-4487-ad4a-99caaebd1256",
   "metadata": {},
   "source": [
    "- [Data](https://github.com/gilbutITbook/080289/blob/main/chap07/data/SBUX.csv)"
   ]
  },
  {
   "cell_type": "code",
   "execution_count": null,
   "id": "3755b92e-9c4d-4937-a09a-b58adf726fa3",
   "metadata": {},
   "outputs": [],
   "source": [
    "url = 'https://raw.githubusercontent.com/gilbutITbook/080289/main/chap07/data/SBUX.csv'\n",
    "data = pd.read_csv(url)"
   ]
  }
 ],
 "metadata": {
  "kernelspec": {
   "display_name": "Python 3",
   "language": "python",
   "name": "python3"
  },
  "language_info": {
   "codemirror_mode": {
    "name": "ipython",
    "version": 3
   },
   "file_extension": ".py",
   "mimetype": "text/x-python",
   "name": "python",
   "nbconvert_exporter": "python",
   "pygments_lexer": "ipython3",
   "version": "3.8.16"
  }
 },
 "nbformat": 4,
 "nbformat_minor": 5
}
